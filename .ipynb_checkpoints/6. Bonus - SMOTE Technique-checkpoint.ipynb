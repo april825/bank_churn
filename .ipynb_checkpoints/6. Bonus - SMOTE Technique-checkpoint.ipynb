{
 "cells": [
  {
   "cell_type": "markdown",
   "id": "equal-first",
   "metadata": {},
   "source": [
    "<h1 style=\"background-color:rgb(67, 77, 86);\n",
    "           font-size:300%;\n",
    "           font-style: oblique;\n",
    "           color:white;\n",
    "           text-align:center;\n",
    "           margin: auto;\n",
    "           padding: 20px;\">Predicting Bank Churners</h1>"
   ]
  },
  {
   "cell_type": "markdown",
   "id": "editorial-physiology",
   "metadata": {},
   "source": [
    "<a id=\"1.2\"></a>\n",
    "<h2 style=\"background-color:rgb(141, 153, 165);\n",
    "           font-size:250%;\n",
    "           color:white;\n",
    "           text-align:center;\n",
    "           margin: auto;\n",
    "           padding: 10px;\">BONUS: SMOTE APPLICATION</h2>"
   ]
  },
  {
   "cell_type": "markdown",
   "id": "alternate-converter",
   "metadata": {},
   "source": [
    "<a id='1.1'>\n",
    "    <h2 style='font-size:180%;'>\n",
    "        Mission</h2></a>"
   ]
  },
  {
   "cell_type": "markdown",
   "id": "invalid-twenty",
   "metadata": {},
   "source": [
    "<figure>\n",
    "    <blockquote cite='https://www.kaggle.com/sakshigoyal7/credit-card-customers/tasks?taskId=2729'>\n",
    "        <p style='font-size:110%;\n",
    "                  color:hsl(208, 12%, 30%);'><i>Our top priority in this business problem is to identify customers who are getting churned. Even if we predict non-churning customers as churned, it won't harm our business. But predicting churning customers as non-churning will do. So recall needs to be higher. Till now, I have managed to get a recall of 62%.</i></p>\n",
    "    </blockquote>\n",
    "    <figcaption>—Sakshi Goyal, <cite>Credit Card Customers, Kaggle</cite></figcaption>"
   ]
  },
  {
   "cell_type": "markdown",
   "id": "later-warrant",
   "metadata": {},
   "source": [
    "<a id='4.1'>\n",
    "    <h2 style='font-size:180%;'>\n",
    "        Libraries</h2></a>"
   ]
  },
  {
   "cell_type": "code",
   "execution_count": null,
   "id": "hawaiian-arizona",
   "metadata": {},
   "outputs": [],
   "source": [
    "# general\n",
    "import numpy as np\n",
    "import pandas as pd\n",
    "import random as rd\n",
    "import copy\n",
    "\n",
    "# data visualization\n",
    "import matplotlib.pyplot as plt\n",
    "import seaborn as sns\n",
    "\n",
    "# statistics\n",
    "from scipy import stats\n",
    "from scipy.stats import (\n",
    "    pearsonr, spearmanr, kendalltau,\n",
    "    chi2_contingency, f_oneway)\n",
    "\n",
    "# machine learning prep\n",
    "from sklearn.preprocessing import MinMaxScaler\n",
    "from collections import Counter\n",
    "from sklearn.model_selection import (\n",
    "    train_test_split, cross_validate, cross_val_score, StratifiedKFold, GridSearchCV, RandomizedSearchCV)\n",
    "from sklearn.metrics import (\n",
    "    accuracy_score, precision_score, recall_score, f1_score, fbeta_score, roc_auc_score,\n",
    "    classification_report, precision_recall_fscore_support, confusion_matrix, SCORERS)\n",
    "from sklearn.pipeline import Pipeline\n",
    "\n",
    "\n",
    "# machine learning models\n",
    "from sklearn.linear_model import LogisticRegression\n",
    "from sklearn.tree import DecisionTreeClassifier\n",
    "from sklearn.neighbors import KNeighborsClassifier\n",
    "from sklearn.discriminant_analysis import LinearDiscriminantAnalysis\n",
    "from sklearn.naive_bayes import GaussianNB\n",
    "# from sklearn.svm import (SVC, LinearSVC)\n",
    "from sklearn.ensemble import (GradientBoostingClassifier, IsolationForest)\n",
    "from sklearn.neural_network import MLPClassifier\n",
    "\n",
    "# import warnings\n",
    "# warnings.filterwarnings('ignore', category=FutureWarning)\n",
    "# warnings.filterwarnings('ignore', category=DeprecationWarning)\n",
    "\n",
    "# saving\n",
    "import os"
   ]
  },
  {
   "cell_type": "code",
   "execution_count": null,
   "id": "incident-telescope",
   "metadata": {},
   "outputs": [],
   "source": [
    "# settings\n",
    "%matplotlib inline\n",
    "pd.options.display.max_rows = 100\n",
    "pd.options.display.max_columns = 100\n",
    "pd.options.display.float_format = '{:,.2f}'.format\n",
    "np.set_printoptions(suppress=True, precision=3)"
   ]
  },
  {
   "cell_type": "code",
   "execution_count": null,
   "id": "identical-characteristic",
   "metadata": {
    "jupyter": {
     "source_hidden": true
    }
   },
   "outputs": [],
   "source": [
    "# pd.set_options('precision', 3)\n",
    "# pd.set_options('min_rows', 6)\n",
    "# pd.set_options('max_rows', 10)\n",
    "# pd.reset_option('max_rows')\n",
    "# pd.set_option('max_colwidth', 10)\n",
    "# pd.set_option(\"chop_threshold\", 0.5)\n",
    "# pd.reset_option(\"chop_threshold\")\n",
    "# pd.set_option(\"colheader_justify\", \"left\")\n",
    "# pd.reset_option(\"colheader_justify\")\n",
    "# plt.rc('figure',figsize=(8,4))\n",
    "# plt.style.use('seaborn-whitegrid')\n",
    "# from IPython.display import display, Math, Latex\n",
    "# pio.renderers.default='plotly_mimetype'"
   ]
  },
  {
   "cell_type": "markdown",
   "id": "settled-diamond",
   "metadata": {},
   "source": [
    "<a id='4.2'>\n",
    "    <h2 style='font-size:180%;'>\n",
    "        Data Loading</h2></a>"
   ]
  },
  {
   "cell_type": "code",
   "execution_count": null,
   "id": "lonely-fishing",
   "metadata": {},
   "outputs": [],
   "source": [
    "# load data\n",
    "d = pd.read_csv('source/d_num.csv')\n",
    "d.head(3)"
   ]
  },
  {
   "cell_type": "markdown",
   "id": "lonely-relations",
   "metadata": {},
   "source": [
    "<a id=\"1.2\"></a>\n",
    "<h2 style=\"background-color:rgb(141, 153, 165);\n",
    "           font-size:250%;\n",
    "           color:white;\n",
    "           text-align:center;\n",
    "           margin: auto;\n",
    "           padding: 10px;\">SMOTE Example Application</h2>"
   ]
  },
  {
   "cell_type": "markdown",
   "id": "loose-composition",
   "metadata": {},
   "source": [
    "<a id='4.2'>\n",
    "    <h2 style='font-size:240%;'>\n",
    "        SMOTE</h2></a>"
   ]
  },
  {
   "cell_type": "code",
   "execution_count": 61,
   "id": "fewer-bench",
   "metadata": {},
   "outputs": [
    {
     "name": "stdout",
     "output_type": "stream",
     "text": [
      "Counter({0: 9900, 1: 100})\n",
      "Counter({0: 9900, 1: 9900})\n"
     ]
    },
    {
     "data": {
      "image/png": "[encoded data removed]",
      "text/plain": [
       "<Figure size 432x288 with 1 Axes>"
      ]
     },
     "metadata": {
      "needs_background": "light"
     },
     "output_type": "display_data"
    }
   ],
   "source": [
    "# Oversample and plot imbalanced dataset with SMOTE\n",
    "from collections import Counter\n",
    "from sklearn.datasets import make_classification\n",
    "from imblearn.over_sampling import SMOTE\n",
    "from imblearn.under_sampling import RandomUnderSampler\n",
    "from matplotlib import pyplot\n",
    "from numpy import where\n",
    "\n",
    "# define dataset\n",
    "X, y = make_classification(n_samples=10000, n_features=2, n_redundant=0,\n",
    "\tn_clusters_per_class=1, weights=[0.99], flip_y=0, random_state=1)\n",
    "\n",
    "# summarize class distribution\n",
    "counter = Counter(y)\n",
    "print(counter)\n",
    "\n",
    "# transform the dataset\n",
    "oversample = SMOTE()\n",
    "X, y = oversample.fit_resample(X, y)\n",
    "\n",
    "# summarize the new class distribution\n",
    "counter = Counter(y)\n",
    "print(counter)\n",
    "\n",
    "# scatter plot of examples by class label\n",
    "for label, _ in counter.items():\n",
    "\trow_ix = where(y == label)[0]\n",
    "\tpyplot.scatter(X[row_ix, 0], X[row_ix, 1], label=str(label))\n",
    "pyplot.legend()\n",
    "pyplot.show()"
   ]
  },
  {
   "cell_type": "code",
   "execution_count": 72,
   "id": "federal-punch",
   "metadata": {},
   "outputs": [
    {
     "data": {
      "text/plain": [
       "array([[0.22201371, 0.54020654],\n",
       "       [1.34743875, 1.41282352],\n",
       "       [0.53723817, 0.37273043],\n",
       "       ...,\n",
       "       [1.87813003, 0.82950037],\n",
       "       [2.58593336, 1.92799501],\n",
       "       [1.1233558 , 1.04575545]])"
      ]
     },
     "execution_count": 72,
     "metadata": {},
     "output_type": "execute_result"
    }
   ],
   "source": [
    "X"
   ]
  },
  {
   "cell_type": "code",
   "execution_count": 71,
   "id": "first-survival",
   "metadata": {},
   "outputs": [
    {
     "data": {
      "text/plain": [
       "numpy.ndarray"
      ]
     },
     "execution_count": 71,
     "metadata": {},
     "output_type": "execute_result"
    }
   ],
   "source": [
    "type(X)"
   ]
  },
  {
   "cell_type": "code",
   "execution_count": 73,
   "id": "liable-sponsorship",
   "metadata": {},
   "outputs": [
    {
     "data": {
      "text/plain": [
       "0.22201370620626315"
      ]
     },
     "execution_count": 73,
     "metadata": {},
     "output_type": "execute_result"
    }
   ],
   "source": [
    "X[0,0]"
   ]
  },
  {
   "cell_type": "code",
   "execution_count": 53,
   "id": "nervous-bankruptcy",
   "metadata": {},
   "outputs": [
    {
     "data": {
      "text/plain": [
       "1.5647042586336801"
      ]
     },
     "execution_count": 53,
     "metadata": {},
     "output_type": "execute_result"
    }
   ],
   "source": [
    "X[208,0]"
   ]
  },
  {
   "cell_type": "code",
   "execution_count": 54,
   "id": "collected-mirror",
   "metadata": {},
   "outputs": [
    {
     "data": {
      "text/plain": [
       "array([1.56470426, 0.6636546 ])"
      ]
     },
     "execution_count": 54,
     "metadata": {},
     "output_type": "execute_result"
    }
   ],
   "source": [
    "X[208]"
   ]
  },
  {
   "cell_type": "code",
   "execution_count": 11,
   "id": "frozen-bottom",
   "metadata": {},
   "outputs": [
    {
     "name": "stdout",
     "output_type": "stream",
     "text": [
      "Counter({0: 9900, 1: 100})\n"
     ]
    }
   ],
   "source": [
    "counter = Counter(y)\n",
    "print(counter)"
   ]
  },
  {
   "cell_type": "code",
   "execution_count": 44,
   "id": "minus-gazette",
   "metadata": {},
   "outputs": [
    {
     "data": {
      "text/plain": [
       "array([ 207,  649,  843, 1017, 1098, 1155, 1306, 1308, 1325, 1374, 1561,\n",
       "       1583, 1632, 1720, 1811, 1813, 1890, 1962, 1963, 2034, 2061, 2093,\n",
       "       2115, 2138, 2312, 2362, 2475, 2703, 2713, 2961, 3060, 3170, 3196,\n",
       "       3309, 3407, 3562, 3598, 3600, 3708, 3812, 3911, 4047, 4122, 4130,\n",
       "       4189, 4571, 4587, 4650, 5017, 5116, 5244, 5297, 5357, 5444, 5451,\n",
       "       5612, 5783, 5912, 5917, 5988, 6021, 6111, 6120, 6253, 6387, 6502,\n",
       "       6591, 6695, 6829, 7011, 7168, 7251, 7329, 7336, 7356, 7360, 7392,\n",
       "       7468, 7584, 7668, 7984, 8168, 8322, 8378, 8405, 8429, 8499, 8554,\n",
       "       8668, 8720, 8859, 9005, 9048, 9092, 9093, 9160, 9498, 9613, 9803,\n",
       "       9909], dtype=int64)"
      ]
     },
     "execution_count": 44,
     "metadata": {},
     "output_type": "execute_result"
    }
   ],
   "source": [
    "np.where(y == label)[0]"
   ]
  },
  {
   "cell_type": "code",
   "execution_count": 48,
   "id": "composed-bench",
   "metadata": {},
   "outputs": [
    {
     "data": {
      "text/plain": [
       "(array([ 207,  649,  843, 1017, 1098, 1155, 1306, 1308, 1325, 1374, 1561,\n",
       "        1583, 1632, 1720, 1811, 1813, 1890, 1962, 1963, 2034, 2061, 2093,\n",
       "        2115, 2138, 2312, 2362, 2475, 2703, 2713, 2961, 3060, 3170, 3196,\n",
       "        3309, 3407, 3562, 3598, 3600, 3708, 3812, 3911, 4047, 4122, 4130,\n",
       "        4189, 4571, 4587, 4650, 5017, 5116, 5244, 5297, 5357, 5444, 5451,\n",
       "        5612, 5783, 5912, 5917, 5988, 6021, 6111, 6120, 6253, 6387, 6502,\n",
       "        6591, 6695, 6829, 7011, 7168, 7251, 7329, 7336, 7356, 7360, 7392,\n",
       "        7468, 7584, 7668, 7984, 8168, 8322, 8378, 8405, 8429, 8499, 8554,\n",
       "        8668, 8720, 8859, 9005, 9048, 9092, 9093, 9160, 9498, 9613, 9803,\n",
       "        9909], dtype=int64),)"
      ]
     },
     "execution_count": 48,
     "metadata": {},
     "output_type": "execute_result"
    }
   ],
   "source": [
    "np.where(y == label)"
   ]
  },
  {
   "cell_type": "code",
   "execution_count": 45,
   "id": "multiple-slide",
   "metadata": {},
   "outputs": [
    {
     "data": {
      "text/plain": [
       "100"
      ]
     },
     "execution_count": 45,
     "metadata": {},
     "output_type": "execute_result"
    }
   ],
   "source": [
    "len(np.where(y == label)[0])"
   ]
  },
  {
   "cell_type": "code",
   "execution_count": 40,
   "id": "ceramic-representation",
   "metadata": {},
   "outputs": [
    {
     "data": {
      "text/plain": [
       "array([0, 0, 0, ..., 0, 0, 0])"
      ]
     },
     "execution_count": 40,
     "metadata": {},
     "output_type": "execute_result"
    }
   ],
   "source": [
    "y"
   ]
  },
  {
   "cell_type": "code",
   "execution_count": 50,
   "id": "cardiovascular-garbage",
   "metadata": {},
   "outputs": [
    {
     "data": {
      "text/plain": [
       "1"
      ]
     },
     "execution_count": 50,
     "metadata": {},
     "output_type": "execute_result"
    }
   ],
   "source": [
    "y[207]"
   ]
  },
  {
   "cell_type": "code",
   "execution_count": 51,
   "id": "optional-waste",
   "metadata": {},
   "outputs": [
    {
     "data": {
      "text/plain": [
       "0"
      ]
     },
     "execution_count": 51,
     "metadata": {},
     "output_type": "execute_result"
    }
   ],
   "source": [
    "y[208]"
   ]
  },
  {
   "cell_type": "markdown",
   "id": "killing-johnson",
   "metadata": {},
   "source": [
    "The original paper on SMOTE suggested combining SMOTE with random undersampling of the majority class.\n",
    "\n",
    "The imbalanced-learn library supports random undersampling via the RandomUnderSampler class.\n",
    "\n",
    "We can update the example to first oversample the minority class to have 10 percent the number of examples of the majority class (e.g. about 1,000), then use random undersampling to reduce the number of examples in the majority class to have 50 percent more than the minority class (e.g. about 2,000)."
   ]
  },
  {
   "cell_type": "code",
   "execution_count": 65,
   "id": "retained-premises",
   "metadata": {},
   "outputs": [
    {
     "name": "stdout",
     "output_type": "stream",
     "text": [
      "Counter({0: 9900, 1: 100})\n",
      "Counter({0: 1980, 1: 990})\n"
     ]
    },
    {
     "data": {
      "image/png": "[encoded data removed]",
      "text/plain": [
       "<Figure size 432x288 with 1 Axes>"
      ]
     },
     "metadata": {
      "needs_background": "light"
     },
     "output_type": "display_data"
    }
   ],
   "source": [
    "# Oversample with SMOTE and random undersample for imbalanced dataset\n",
    "from collections import Counter\n",
    "from sklearn.datasets import make_classification\n",
    "from imblearn.over_sampling import SMOTE\n",
    "from imblearn.under_sampling import RandomUnderSampler\n",
    "from imblearn.pipeline import Pipeline\n",
    "from matplotlib import pyplot\n",
    "from numpy import where\n",
    "\n",
    "\n",
    "# define dataset\n",
    "X, y = make_classification(n_samples=10000, n_features=2, n_redundant=0,\n",
    "\tn_clusters_per_class=1, weights=[0.99], flip_y=0, random_state=1)\n",
    "\n",
    "\n",
    "# summarize class distribution\n",
    "counter = Counter(y)\n",
    "print(counter)\n",
    "\n",
    "\n",
    "# define pipeline\n",
    "over = SMOTE(sampling_strategy=0.1)\n",
    "under = RandomUnderSampler(sampling_strategy=0.5)\n",
    "steps = [('o', over), ('u', under)]\n",
    "pipeline = Pipeline(steps=steps)\n",
    "\n",
    "\n",
    "# transform the dataset\n",
    "X, y = pipeline.fit_resample(X, y)\n",
    "\n",
    "\n",
    "# summarize the new class distribution\n",
    "counter = Counter(y)\n",
    "print(counter)\n",
    "\n",
    "\n",
    "# scatter plot of examples by class label\n",
    "for label, _ in counter.items():\n",
    "\trow_ix = where(y == label)[0]\n",
    "\tpyplot.scatter(X[row_ix, 0], X[row_ix, 1], label=str(label))\n",
    "pyplot.legend()\n",
    "pyplot.show()"
   ]
  },
  {
   "cell_type": "markdown",
   "id": "bridal-scottish",
   "metadata": {},
   "source": [
    "The dataset is stratified, meaning that each fold of the cross-validation split will have the same class distribution as the original dataset, in this case, a 1:100 ratio. We will evaluate the model using the ROC area under curve (AUC) metric. This can be optimistic for severely imbalanced datasets but will still show a relative change with better performing models."
   ]
  },
  {
   "cell_type": "markdown",
   "id": "ultimate-holiday",
   "metadata": {},
   "source": [
    "The correct application of oversampling during k-fold cross-validation is to apply the method to the training dataset only, then evaluate the model on the stratified but non-transformed test set."
   ]
  },
  {
   "cell_type": "code",
   "execution_count": 67,
   "id": "pregnant-prague",
   "metadata": {},
   "outputs": [
    {
     "name": "stdout",
     "output_type": "stream",
     "text": [
      "Mean ROC AUC: 0.773\n"
     ]
    }
   ],
   "source": [
    "# decision tree evaluated on imbalanced dataset\n",
    "from numpy import mean\n",
    "from sklearn.datasets import make_classification\n",
    "from sklearn.model_selection import cross_val_score\n",
    "from sklearn.model_selection import RepeatedStratifiedKFold\n",
    "from sklearn.tree import DecisionTreeClassifier\n",
    "# define dataset\n",
    "X, y = make_classification(n_samples=10000, n_features=2, n_redundant=0,\n",
    "\tn_clusters_per_class=1, weights=[0.99], flip_y=0, random_state=1)\n",
    "# define model\n",
    "model = DecisionTreeClassifier()\n",
    "# evaluate pipeline\n",
    "cv = RepeatedStratifiedKFold(n_splits=10, n_repeats=3, random_state=1)\n",
    "scores = cross_val_score(model, X, y, scoring='roc_auc', cv=cv, n_jobs=-1)\n",
    "print('Mean ROC AUC: %.3f' % mean(scores))"
   ]
  },
  {
   "cell_type": "code",
   "execution_count": 68,
   "id": "absent-kenya",
   "metadata": {},
   "outputs": [
    {
     "name": "stdout",
     "output_type": "stream",
     "text": [
      "Mean ROC AUC: 0.816\n"
     ]
    }
   ],
   "source": [
    "# decision tree evaluated on imbalanced dataset with SMOTE oversampling\n",
    "from numpy import mean\n",
    "from sklearn.datasets import make_classification\n",
    "from sklearn.model_selection import cross_val_score\n",
    "from sklearn.model_selection import RepeatedStratifiedKFold\n",
    "from sklearn.tree import DecisionTreeClassifier\n",
    "from imblearn.pipeline import Pipeline\n",
    "from imblearn.over_sampling import SMOTE\n",
    "# define dataset\n",
    "X, y = make_classification(n_samples=10000, n_features=2, n_redundant=0,\n",
    "\tn_clusters_per_class=1, weights=[0.99], flip_y=0, random_state=1)\n",
    "# define pipeline\n",
    "steps = [('over', SMOTE()), ('model', DecisionTreeClassifier())]\n",
    "pipeline = Pipeline(steps=steps)\n",
    "# evaluate pipeline\n",
    "cv = RepeatedStratifiedKFold(n_splits=10, n_repeats=3, random_state=1)\n",
    "scores = cross_val_score(pipeline, X, y, scoring='roc_auc', cv=cv, n_jobs=-1)\n",
    "print('Mean ROC AUC: %.3f' % mean(scores))"
   ]
  },
  {
   "cell_type": "code",
   "execution_count": 69,
   "id": "broadband-seeking",
   "metadata": {},
   "outputs": [
    {
     "name": "stdout",
     "output_type": "stream",
     "text": [
      "Mean ROC AUC: 0.840\n"
     ]
    }
   ],
   "source": [
    "# decision tree  on imbalanced dataset with SMOTE oversampling and random undersampling\n",
    "from numpy import mean\n",
    "from sklearn.datasets import make_classification\n",
    "from sklearn.model_selection import cross_val_score\n",
    "from sklearn.model_selection import RepeatedStratifiedKFold\n",
    "from sklearn.tree import DecisionTreeClassifier\n",
    "from imblearn.pipeline import Pipeline\n",
    "from imblearn.over_sampling import SMOTE\n",
    "from imblearn.under_sampling import RandomUnderSampler\n",
    "# define dataset\n",
    "X, y = make_classification(n_samples=10000, n_features=2, n_redundant=0,\n",
    "\tn_clusters_per_class=1, weights=[0.99], flip_y=0, random_state=1)\n",
    "# define pipeline\n",
    "model = DecisionTreeClassifier()\n",
    "over = SMOTE(sampling_strategy=0.1)\n",
    "under = RandomUnderSampler(sampling_strategy=0.5)\n",
    "steps = [('over', over), ('under', under), ('model', model)]\n",
    "pipeline = Pipeline(steps=steps)\n",
    "# evaluate pipeline\n",
    "cv = RepeatedStratifiedKFold(n_splits=10, n_repeats=3, random_state=1)\n",
    "scores = cross_val_score(pipeline, X, y, scoring='roc_auc', cv=cv, n_jobs=-1)\n",
    "print('Mean ROC AUC: %.3f' % mean(scores))"
   ]
  },
  {
   "cell_type": "code",
   "execution_count": 70,
   "id": "harmful-thing",
   "metadata": {},
   "outputs": [
    {
     "name": "stdout",
     "output_type": "stream",
     "text": [
      "> k=1, Mean ROC AUC: 0.830\n",
      "> k=2, Mean ROC AUC: 0.835\n",
      "> k=3, Mean ROC AUC: 0.840\n",
      "> k=4, Mean ROC AUC: 0.830\n",
      "> k=5, Mean ROC AUC: 0.845\n",
      "> k=6, Mean ROC AUC: 0.843\n",
      "> k=7, Mean ROC AUC: 0.855\n"
     ]
    }
   ],
   "source": [
    "# grid search k value for SMOTE oversampling for imbalanced classification\n",
    "from numpy import mean\n",
    "from sklearn.datasets import make_classification\n",
    "from sklearn.model_selection import cross_val_score\n",
    "from sklearn.model_selection import RepeatedStratifiedKFold\n",
    "from sklearn.tree import DecisionTreeClassifier\n",
    "from imblearn.pipeline import Pipeline\n",
    "from imblearn.over_sampling import SMOTE\n",
    "from imblearn.under_sampling import RandomUnderSampler\n",
    "# define dataset\n",
    "X, y = make_classification(n_samples=10000, n_features=2, n_redundant=0,\n",
    "\tn_clusters_per_class=1, weights=[0.99], flip_y=0, random_state=1)\n",
    "# values to evaluate\n",
    "k_values = [1, 2, 3, 4, 5, 6, 7]\n",
    "for k in k_values:\n",
    "\t# define pipeline\n",
    "\tmodel = DecisionTreeClassifier()\n",
    "\tover = SMOTE(sampling_strategy=0.1, k_neighbors=k)\n",
    "\tunder = RandomUnderSampler(sampling_strategy=0.5)\n",
    "\tsteps = [('over', over), ('under', under), ('model', model)]\n",
    "\tpipeline = Pipeline(steps=steps)\n",
    "\t# evaluate pipeline\n",
    "\tcv = RepeatedStratifiedKFold(n_splits=10, n_repeats=3, random_state=1)\n",
    "\tscores = cross_val_score(pipeline, X, y, scoring='roc_auc', cv=cv, n_jobs=-1)\n",
    "\tscore = mean(scores)\n",
    "\tprint('> k=%d, Mean ROC AUC: %.3f' % (k, score))"
   ]
  },
  {
   "cell_type": "markdown",
   "id": "limiting-peninsula",
   "metadata": {},
   "source": [
    "# Borderline-SMOTE"
   ]
  },
  {
   "cell_type": "markdown",
   "id": "auburn-mobility",
   "metadata": {},
   "source": [
    "A popular extension to SMOTE involves selecting those instances of the minority class that are misclassified, such as with a k-nearest neighbor classification model.\n",
    "\n",
    "We can then oversample just those difficult instances, providing more resolution only where it may be required.\n",
    "\n",
    "The examples on the borderline and the ones nearby […] are more apt to be misclassified than the ones far from the borderline, and thus more important for classification.\n",
    "\n",
    "[— Borderline-SMOTE: A New Over-Sampling Method in Imbalanced Data Sets Learning, 2005.](https://link.springer.com/chapter/10.1007/11538059_91)"
   ]
  },
  {
   "cell_type": "markdown",
   "id": "breeding-boston",
   "metadata": {},
   "source": [
    "The authors also describe a version of the method that also oversampled the majority class for those examples that cause a misclassification of borderline instances in the minority class. This is referred to as Borderline-SMOTE1, whereas the oversampling of just the borderline cases in minority class is referred to as Borderline-SMOTE2."
   ]
  },
  {
   "cell_type": "code",
   "execution_count": 74,
   "id": "automatic-yesterday",
   "metadata": {},
   "outputs": [
    {
     "name": "stdout",
     "output_type": "stream",
     "text": [
      "Counter({0: 9900, 1: 100})\n",
      "Counter({0: 9900, 1: 9900})\n"
     ]
    },
    {
     "data": {
      "image/png": "[encoded data removed]",
      "text/plain": [
       "<Figure size 432x288 with 1 Axes>"
      ]
     },
     "metadata": {
      "needs_background": "light"
     },
     "output_type": "display_data"
    }
   ],
   "source": [
    "# borderline-SMOTE for imbalanced dataset\n",
    "from collections import Counter\n",
    "from sklearn.datasets import make_classification\n",
    "from imblearn.over_sampling import BorderlineSMOTE\n",
    "from matplotlib import pyplot\n",
    "from numpy import where\n",
    "# define dataset\n",
    "X, y = make_classification(n_samples=10000, n_features=2, n_redundant=0,\n",
    "\tn_clusters_per_class=1, weights=[0.99], flip_y=0, random_state=1)\n",
    "# summarize class distribution\n",
    "counter = Counter(y)\n",
    "print(counter)\n",
    "# transform the dataset\n",
    "oversample = BorderlineSMOTE()\n",
    "X, y = oversample.fit_resample(X, y)\n",
    "# summarize the new class distribution\n",
    "counter = Counter(y)\n",
    "print(counter)\n",
    "# scatter plot of examples by class label\n",
    "for label, _ in counter.items():\n",
    "\trow_ix = where(y == label)[0]\n",
    "\tpyplot.scatter(X[row_ix, 0], X[row_ix, 1], label=str(label))\n",
    "pyplot.legend()\n",
    "pyplot.show()"
   ]
  },
  {
   "cell_type": "markdown",
   "id": "typical-findings",
   "metadata": {},
   "source": [
    "Finally, a scatter plot of the transformed dataset is created. The plot clearly shows the effect of the selective approach to oversampling. Examples along the decision boundary of the minority class are oversampled intently (orange).\n",
    "\n",
    "The plot shows that those examples far from the decision boundary are not oversampled. This includes both examples that are easier to classify (those orange points toward the top left of the plot) and those that are overwhelmingly difficult to classify given the strong class overlap (those orange points toward the bottom right of the plot)."
   ]
  },
  {
   "cell_type": "markdown",
   "id": "spectacular-catch",
   "metadata": {},
   "source": [
    "# Borderline-SMOTE SVM"
   ]
  },
  {
   "cell_type": "markdown",
   "id": "eligible-danish",
   "metadata": {},
   "source": [
    "Hien Nguyen, et al. suggest using an alternative of Borderline-SMOTE where an SVM algorithm is used instead of a KNN to identify misclassified examples on the decision boundary."
   ]
  },
  {
   "cell_type": "markdown",
   "id": "fitted-funeral",
   "metadata": {},
   "source": [
    "Their approach is summarized in the 2009 paper titled “Borderline Over-sampling For Imbalanced Data Classification.” An SVM is used to locate the decision boundary defined by the support vectors and examples in the minority class that close to the support vectors become the focus for generating synthetic examples.\n",
    "\n",
    "> *...the borderline area is approximated by the support vectors obtained after training a standard SVMs classifier on the original training set. New instances will be randomly created along the lines joining each minority class support vector with a number of its nearest neighbors using the interpolation*\n",
    "\n",
    "[— Borderline Over-sampling For Imbalanced Data Classification, 2009.](http://ousar.lib.okayama-u.ac.jp/en/19617)"
   ]
  },
  {
   "cell_type": "code",
   "execution_count": 75,
   "id": "affecting-orlando",
   "metadata": {},
   "outputs": [
    {
     "name": "stdout",
     "output_type": "stream",
     "text": [
      "Counter({0: 9900, 1: 100})\n",
      "Counter({0: 9900, 1: 9900})\n"
     ]
    },
    {
     "data": {
      "image/png": "[encoded data removed]",
      "text/plain": [
       "<Figure size 432x288 with 1 Axes>"
      ]
     },
     "metadata": {
      "needs_background": "light"
     },
     "output_type": "display_data"
    }
   ],
   "source": [
    "# borderline-SMOTE with SVM for imbalanced dataset\n",
    "from collections import Counter\n",
    "from sklearn.datasets import make_classification\n",
    "from imblearn.over_sampling import SVMSMOTE\n",
    "from matplotlib import pyplot\n",
    "from numpy import where\n",
    "# define dataset\n",
    "X, y = make_classification(n_samples=10000, n_features=2, n_redundant=0,\n",
    "\tn_clusters_per_class=1, weights=[0.99], flip_y=0, random_state=1)\n",
    "# summarize class distribution\n",
    "counter = Counter(y)\n",
    "print(counter)\n",
    "# transform the dataset\n",
    "oversample = SVMSMOTE()\n",
    "X, y = oversample.fit_resample(X, y)\n",
    "# summarize the new class distribution\n",
    "counter = Counter(y)\n",
    "print(counter)\n",
    "# scatter plot of examples by class label\n",
    "for label, _ in counter.items():\n",
    "\trow_ix = where(y == label)[0]\n",
    "\tpyplot.scatter(X[row_ix, 0], X[row_ix, 1], label=str(label))\n",
    "pyplot.legend()\n",
    "pyplot.show()"
   ]
  },
  {
   "cell_type": "markdown",
   "id": "junior-french",
   "metadata": {},
   "source": [
    "A scatter plot of the dataset is created showing the directed oversampling along the decision boundary with the majority class.\n",
    "\n",
    "We can also see that unlike Borderline-SMOTE, more examples are synthesized away from the region of class overlap, such as toward the top left of the plot."
   ]
  },
  {
   "cell_type": "markdown",
   "id": "productive-interval",
   "metadata": {},
   "source": [
    "# Adaptive Synthetic Sampling (ADASYN)"
   ]
  },
  {
   "cell_type": "markdown",
   "id": "seventh-tension",
   "metadata": {},
   "source": [
    "Another approach involves generating synthetic samples inversely proportional to the density of the examples in the minority class.\n",
    "\n",
    "That is, generate more synthetic examples in regions of the feature space where the density of minority examples is low, and fewer or none where the density is high.\n",
    "\n",
    "This modification to SMOTE is referred to as the Adaptive Synthetic Sampling Method, or ADASYN, and was proposed to Haibo He, et al. in their 2008 paper named for the method titled [\"ADASYN: Adaptive Synthetic Sampling Approach For Imbalanced Learning.\"](https://ieeexplore.ieee.org/document/4633969)"
   ]
  },
  {
   "cell_type": "markdown",
   "id": "broken-contest",
   "metadata": {},
   "source": [
    "> *ADASYN is based on the idea of adaptively generating minority data samples according to their distributions: more synthetic data is generated for minority class samples that are harder to learn compared to those minority samples that are easier to learn.*\n",
    "\n",
    "[— ADASYN: Adaptive synthetic sampling approach for imbalanced learning, 2008.](https://ieeexplore.ieee.org/document/4633969)"
   ]
  },
  {
   "cell_type": "markdown",
   "id": "circular-branch",
   "metadata": {},
   "source": [
    "With online Borderline-SMOTE, a discriminative model is not created. Instead, examples in the minority class are weighted according to their density, then those examples with the lowest density are the focus for the SMOTE synthetic example generation process.\n",
    "\n",
    "> *The key idea of ADASYN algorithm is to use a density distribution as a criterion to automatically decide the number of synthetic samples that need to be generated for each minority data example.*\n",
    "\n",
    "[— ADASYN: Adaptive synthetic sampling approach for imbalanced learning, 2008.](https://ieeexplore.ieee.org/document/4633969)"
   ]
  },
  {
   "cell_type": "code",
   "execution_count": 76,
   "id": "white-enlargement",
   "metadata": {},
   "outputs": [
    {
     "name": "stdout",
     "output_type": "stream",
     "text": [
      "Counter({0: 9900, 1: 100})\n",
      "Counter({0: 9900, 1: 9899})\n"
     ]
    },
    {
     "data": {
      "image/png": "[encoded data removed]",
      "text/plain": [
       "<Figure size 432x288 with 1 Axes>"
      ]
     },
     "metadata": {
      "needs_background": "light"
     },
     "output_type": "display_data"
    }
   ],
   "source": [
    "# Oversample and plot imbalanced dataset with ADASYN\n",
    "from collections import Counter\n",
    "from sklearn.datasets import make_classification\n",
    "from imblearn.over_sampling import ADASYN\n",
    "from matplotlib import pyplot\n",
    "from numpy import where\n",
    "# define dataset\n",
    "X, y = make_classification(n_samples=10000, n_features=2, n_redundant=0,\n",
    "\tn_clusters_per_class=1, weights=[0.99], flip_y=0, random_state=1)\n",
    "# summarize class distribution\n",
    "counter = Counter(y)\n",
    "print(counter)\n",
    "# transform the dataset\n",
    "oversample = ADASYN()\n",
    "X, y = oversample.fit_resample(X, y)\n",
    "# summarize the new class distribution\n",
    "counter = Counter(y)\n",
    "print(counter)\n",
    "# scatter plot of examples by class label\n",
    "for label, _ in counter.items():\n",
    "\trow_ix = where(y == label)[0]\n",
    "\tpyplot.scatter(X[row_ix, 0], X[row_ix, 1], label=str(label))\n",
    "pyplot.legend()\n",
    "pyplot.show()"
   ]
  },
  {
   "cell_type": "markdown",
   "id": "designed-retreat",
   "metadata": {},
   "source": [
    "Unlike Borderline-SMOTE, we can see that the examples that have the most class overlap have the most focus. On problems where these low density examples might be outliers, the ADASYN approach may put too much attention on these areas of the feature space, which may result in worse model performance.\n",
    "\n",
    "It may help to remove outliers prior to applying the oversampling procedure, and this might be a helpful heuristic to use more generally."
   ]
  }
 ],
 "metadata": {
  "kernelspec": {
   "display_name": "Python 3",
   "language": "python",
   "name": "python3"
  },
  "language_info": {
   "codemirror_mode": {
    "name": "ipython",
    "version": 3
   },
   "file_extension": ".py",
   "mimetype": "text/x-python",
   "name": "python",
   "nbconvert_exporter": "python",
   "pygments_lexer": "ipython3",
   "version": "3.8.5"
  }
 },
 "nbformat": 4,
 "nbformat_minor": 5
}
