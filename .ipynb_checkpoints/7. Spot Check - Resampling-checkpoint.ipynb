{
 "cells": [
  {
   "cell_type": "markdown",
   "id": "christian-bible",
   "metadata": {},
   "source": [
    "<h1 style=\"background-color:rgb(67, 77, 86);\n",
    "           font-size:300%;\n",
    "           font-style: oblique;\n",
    "           color:white;\n",
    "           text-align:center;\n",
    "           margin: auto;\n",
    "           padding: 20px;\">Predicting Bank Churners</h1>"
   ]
  },
  {
   "cell_type": "markdown",
   "id": "twelve-daniel",
   "metadata": {},
   "source": [
    "<a id=\"1.2\"></a>\n",
    "<h2 style=\"background-color:rgb(141, 153, 165);\n",
    "           font-size:250%;\n",
    "           color:white;\n",
    "           text-align:center;\n",
    "           margin: auto;\n",
    "           padding: 10px;\">Chapter 5. Spot Check Version 1</h2>"
   ]
  },
  {
   "cell_type": "markdown",
   "id": "conservative-fifty",
   "metadata": {},
   "source": [
    "<a id='1.1'>\n",
    "    <h2 style='font-size:180%;'>\n",
    "        Mission</h2></a>"
   ]
  },
  {
   "cell_type": "markdown",
   "id": "disabled-maple",
   "metadata": {},
   "source": [
    "<figure>\n",
    "    <blockquote cite='https://www.kaggle.com/sakshigoyal7/credit-card-customers/tasks?taskId=2729'>\n",
    "        <p style='font-size:110%;\n",
    "                  color:hsl(208, 12%, 30%);'><i>Our top priority in this business problem is to identify customers who are getting churned. Even if we predict non-churning customers as churned, it won't harm our business. But predicting churning customers as non-churning will do. So recall needs to be higher. Till now, I have managed to get a recall of 62%.</i></p>\n",
    "    </blockquote>\n",
    "    <figcaption>—Sakshi Goyal, <cite>Credit Card Customers, Kaggle</cite></figcaption>"
   ]
  },
  {
   "cell_type": "markdown",
   "id": "trying-memphis",
   "metadata": {},
   "source": [
    "<a id='4.1'>\n",
    "    <h2 style='font-size:180%;'>\n",
    "        Libraries</h2></a>"
   ]
  },
  {
   "cell_type": "code",
   "execution_count": 1,
   "id": "clean-pierre",
   "metadata": {
    "tags": []
   },
   "outputs": [],
   "source": [
    "# binary classification spot check script\n",
    "import warnings\n",
    "import pandas as pd\n",
    "import numpy as np\n",
    "from matplotlib import pyplot\n",
    "from sklearn.model_selection import cross_val_score\n",
    "from sklearn.preprocessing import StandardScaler\n",
    "from sklearn.preprocessing import QuantileTransformer\n",
    "from sklearn.preprocessing import RobustScaler\n",
    "from sklearn.linear_model import LogisticRegression\n",
    "from sklearn.linear_model import RidgeClassifier\n",
    "from sklearn.linear_model import SGDClassifier\n",
    "from sklearn.linear_model import PassiveAggressiveClassifier\n",
    "from sklearn.discriminant_analysis import LinearDiscriminantAnalysis\n",
    "from sklearn.naive_bayes import GaussianNB\n",
    "from sklearn.neighbors import KNeighborsClassifier\n",
    "from sklearn.svm import SVC\n",
    "from sklearn.neural_network import MLPClassifier\n",
    "from sklearn.tree import DecisionTreeClassifier\n",
    "from sklearn.tree import ExtraTreeClassifier\n",
    "from sklearn.ensemble import AdaBoostClassifier\n",
    "from sklearn.ensemble import BaggingClassifier\n",
    "from sklearn.ensemble import RandomForestClassifier\n",
    "from sklearn.ensemble import ExtraTreesClassifier\n",
    "from sklearn.ensemble import GradientBoostingClassifier\n",
    "\n",
    "from imblearn.pipeline import Pipeline\n",
    "from imblearn.over_sampling import SMOTE\n",
    "from imblearn.under_sampling import (RandomUnderSampler, TomekLinks, EditedNearestNeighbours)\n",
    "from imblearn.combine import SMOTETomek\n",
    "from imblearn.combine import SMOTEENN\n",
    "\n",
    "import time"
   ]
  },
  {
   "cell_type": "code",
   "execution_count": 2,
   "id": "worthy-indonesian",
   "metadata": {
    "tags": []
   },
   "outputs": [],
   "source": [
    "# settings\n",
    "%matplotlib inline\n",
    "pd.options.display.max_rows = 100\n",
    "pd.options.display.max_columns = 100\n",
    "pd.options.display.float_format = '{:,.2f}'.format\n",
    "np.set_printoptions(suppress=True, precision=3)"
   ]
  },
  {
   "cell_type": "code",
   "execution_count": 3,
   "id": "protecting-berlin",
   "metadata": {
    "tags": []
   },
   "outputs": [
    {
     "data": {
      "text/html": [
       "<style>\n",
       "/* CSS styles for pandas dataframe */\n",
       ".dataframe th {\n",
       "    font-size: 16px;\n",
       "}\n",
       ".dataframe td {\n",
       "    font-size: 14px;\n",
       "}\n",
       "</style>\n"
      ],
      "text/plain": [
       "<IPython.core.display.HTML object>"
      ]
     },
     "metadata": {},
     "output_type": "display_data"
    }
   ],
   "source": [
    "%%html\n",
    "<style>\n",
    "/* CSS styles for pandas dataframe */\n",
    ".dataframe th {\n",
    "    font-size: 16px;\n",
    "}\n",
    ".dataframe td {\n",
    "    font-size: 14px;\n",
    "}\n",
    "</style>"
   ]
  },
  {
   "cell_type": "code",
   "execution_count": 4,
   "id": "double-weight",
   "metadata": {},
   "outputs": [],
   "source": [
    "time_0 = time.perf_counter()"
   ]
  },
  {
   "cell_type": "markdown",
   "id": "packed-sponsorship",
   "metadata": {},
   "source": [
    "<a id=\"1.2\"></a>\n",
    "<h2 style=\"background-color:rgb(141, 153, 165);\n",
    "           font-size:250%;\n",
    "           color:white;\n",
    "           text-align:center;\n",
    "           margin: auto;\n",
    "           padding: 10px;\">Spot Check for Model & Scaler</h2>"
   ]
  },
  {
   "cell_type": "markdown",
   "id": "configured-harbor",
   "metadata": {},
   "source": [
    "## Load Data"
   ]
  },
  {
   "cell_type": "code",
   "execution_count": 5,
   "id": "dominican-montana",
   "metadata": {
    "tags": []
   },
   "outputs": [],
   "source": [
    "# load the dataset, returns X and y elements\n",
    "def load_dataset():\n",
    "    d = pd.read_csv('source/d_num.csv')\n",
    "    d_values = d.values\n",
    "    x, y = d_values[:,1:], d_values[:,:1].ravel()\n",
    "    return x, y"
   ]
  },
  {
   "cell_type": "markdown",
   "id": "ideal-block",
   "metadata": {},
   "source": [
    "## Define Models"
   ]
  },
  {
   "cell_type": "code",
   "execution_count": 6,
   "id": "champion-driving",
   "metadata": {},
   "outputs": [],
   "source": [
    "# create a dict of standard models to evaluate {name:object}\n",
    "def define_models(models=list()):\n",
    "    # linear\n",
    "    i = 1000\n",
    "    models.append(('LR', LogisticRegression(solver='saga', max_iter=i, class_weight='balanced', random_state=5))) # note: `max_iter` from 1000 to 10000 due to convergence issues\n",
    "    # non-linear\n",
    "    models.append(('DT', DecisionTreeClassifier(random_state=5)))\n",
    "    i = 1000\n",
    "    models.append(('MLP_' + str(i), MLPClassifier(max_iter=i, random_state=5)))\n",
    "    # ensemble\n",
    "    t = 800\n",
    "    models.append(('ADA_' + str(t), AdaBoostClassifier(n_estimators=t, random_state=5))) \n",
    "    models.append(('GB_' + str(t), GradientBoostingClassifier(n_estimators=t, random_state=5))) # note: `max_iter` from 100 to 1000 due to convergence issues\n",
    "    print(f'Defined {len(models)} models.')\n",
    "    return models"
   ]
  },
  {
   "cell_type": "markdown",
   "id": "attended-teaching",
   "metadata": {},
   "source": [
    "## Define Resamplers"
   ]
  },
  {
   "cell_type": "markdown",
   "id": "aerial-apparatus",
   "metadata": {},
   "source": [
    "[Source: How to Combine Oversampling and Undersampling for Imbalanced Classification, *Machine Learning Mastery*](https://machinelearningmastery.com/combine-oversampling-and-undersampling-for-imbalanced-classification/)\n",
    "<br>[Source: Undersampling Algorithms for Imbalanced Classification, *Machine Learning Mastery*](https://machinelearningmastery.com/undersampling-algorithms-for-imbalanced-classification/)"
   ]
  },
  {
   "cell_type": "code",
   "execution_count": 7,
   "id": "leading-mexico",
   "metadata": {},
   "outputs": [],
   "source": [
    "# create a dict of standard models to evaluate {name:object}\n",
    "def define_resamplers(resamplers=list()):\n",
    "    resamplers.append(('SM', SMOTE(random_state=5, n_jobs=-1)))\n",
    "    resamplers.append(('SM_TM', SMOTETomek(tomek=TomekLinks(sampling_strategy='majority')))) \n",
    "    resamplers.append(('SM_ENN', SMOTEENN(enn=EditedNearestNeighbours(sampling_strategy='majority')))) \n",
    "    print(f'Defined {len(resamplers)} resamplers.')\n",
    "    return resamplers"
   ]
  },
  {
   "cell_type": "markdown",
   "id": "charming-temperature",
   "metadata": {},
   "source": [
    "## Build Pipelines"
   ]
  },
  {
   "cell_type": "code",
   "execution_count": 8,
   "id": "demographic-magic",
   "metadata": {
    "tags": []
   },
   "outputs": [],
   "source": [
    "# normalize and standardize transform pipeline : RS\n",
    "def pipeline_RS_SS(model, resampler):\n",
    "    resampler = None\n",
    "    steps = list()\n",
    "    # normalization\n",
    "    steps.append(('RS', RobustScaler()))\n",
    "    # standardization\n",
    "    steps.append(('SS', StandardScaler()))\n",
    "    # the model\n",
    "    steps.append(('MOD', model))\n",
    "    # create pipeline\n",
    "    pipeline = Pipeline(steps=steps)\n",
    "    return pipeline\n",
    "\n",
    "# normalize and standardize transform pipeline : QT + Resampling\n",
    "def pipeline_QT_SS_resample(model, resampler):\n",
    "    steps = list()\n",
    "    # normalization\n",
    "    steps.append(('QT', QuantileTransformer()))\n",
    "    # standardization\n",
    "    steps.append(('SS', StandardScaler()))\n",
    "    # the resampler\n",
    "    steps.append(('RSP', resampler))\n",
    "    # the model\n",
    "    steps.append(('MOD', model))\n",
    "    # create pipeline\n",
    "    pipeline = Pipeline(steps=steps)\n",
    "    return pipeline\n",
    "\n",
    "# normalize and standardize transform pipeline : RS + Resampling\n",
    "def pipeline_RS_SS_resample(model, resampler):\n",
    "    steps = list()\n",
    "    # normalization\n",
    "    steps.append(('RS', RobustScaler()))\n",
    "    # standardization\n",
    "    steps.append(('SS', StandardScaler()))\n",
    "    # the resampler\n",
    "    steps.append(('RSP', resampler))\n",
    "    # the model\n",
    "    steps.append(('MOD', model))\n",
    "    # create pipeline\n",
    "    pipeline = Pipeline(steps=steps)\n",
    "    return pipeline"
   ]
  },
  {
   "cell_type": "markdown",
   "id": "appointed-fellow",
   "metadata": {},
   "source": [
    "## Evaluate Models"
   ]
  },
  {
   "cell_type": "code",
   "execution_count": 9,
   "id": "infrared-egypt",
   "metadata": {
    "tags": []
   },
   "outputs": [],
   "source": [
    "# evaluate a single model\n",
    "def evaluate_model(X, y, model, resampler, folds, metric, pipe_func):\n",
    "    # create the pipeline\n",
    "    pipeline = pipe_func(model, resampler)\n",
    "    # evaluate model\n",
    "    scores = cross_val_score(pipeline, X, y, scoring=metric, cv=folds, n_jobs=-1)\n",
    "    return scores\n",
    "\n",
    "# evaluate a model and try to trap errors and and hide warnings\n",
    "def robust_evaluate_model(X, y, model, resampler, folds, metric, pipe_func):\n",
    "\tscores = None\n",
    "\ttry:\n",
    "\t\twith warnings.catch_warnings():\n",
    "\t\t\twarnings.filterwarnings(\"ignore\")\n",
    "\t\t\tscores = evaluate_model(X, y, model, resampler, folds, metric, pipe_func)\n",
    "\texcept:\n",
    "\t\tscores = None\n",
    "\treturn scores\n",
    "\n",
    "# evaluate a dict of models {name:object}, returns {name:score}\n",
    "def evaluate_models(X, y, models, resamplers, pipe_funcs, folds=10, metric='recall'):\n",
    "    results = dict()\n",
    "    for name_model, model in models:\n",
    "        for name_resampler, resampler in resamplers:\n",
    "            # evaluate model under each preparation function\n",
    "            for i in range(len(pipe_funcs)):\n",
    "                # evaluate the model\n",
    "                scores = robust_evaluate_model(X, y, model, resampler, folds, metric, pipe_funcs[i])\n",
    "                # update name\n",
    "                run_name = str(i) + '_' + name_model + '_' + name_resampler\n",
    "                # show process\n",
    "                if scores is not None:\n",
    "                    # store a result\n",
    "                    results[run_name] = scores\n",
    "                    mean_score, std_score = np.nanmean(scores), np.nanstd(scores)\n",
    "                    print('>%s: %.3f (+/-%.3f)' % (run_name, mean_score, std_score))\n",
    "                else:\n",
    "                    print('>%s: error' % run_name)\n",
    "    return results"
   ]
  },
  {
   "cell_type": "markdown",
   "id": "orange-diana",
   "metadata": {},
   "source": [
    "## Examine Results"
   ]
  },
  {
   "cell_type": "code",
   "execution_count": 10,
   "id": "norwegian-dealer",
   "metadata": {
    "tags": []
   },
   "outputs": [],
   "source": [
    "# print and plot the top n results\n",
    "def summarize_results(results, maximize=True, top_n=10):\n",
    "\t# check for no results\n",
    "\tif len(results) == 0:\n",
    "\t\tprint('no results')\n",
    "\t\treturn\n",
    "\t# determine how many results to summarize\n",
    "\tn = min(top_n, len(results))\n",
    "\t# create a list of (name, mean(scores)) tuples\n",
    "\tmean_scores = [(k, np.nanmean(v)) for k,v in results.items()]\n",
    "\t# sort tuples by mean score\n",
    "\tmean_scores = sorted(mean_scores, key=lambda x: x[1])\n",
    "\t# reverse for descending order (e.g. for accuracy)\n",
    "\tif maximize:\n",
    "\t\tmean_scores = list(reversed(mean_scores))\n",
    "\t# retrieve the top n for summarization\n",
    "\tnames = [x[0] for x in mean_scores[:n]]\n",
    "\tscores = [results[x[0]] for x in mean_scores[:n]]\n",
    "\t# print the top n\n",
    "\tprint()\n",
    "\tfor i in range(n):\n",
    "\t\tname = names[i]\n",
    "\t\tmean_score, std_score = np.nanmean(results[name]), np.nanstd(results[name])\n",
    "\t\tprint('Rank=%d, Name=%s, Score=%.3f (+/- %.3f)' % (i+1, name, mean_score, std_score))\n",
    "\t# boxplot for the top n\n",
    "\tpyplot.boxplot(scores, labels=names)\n",
    "\t_, labels = pyplot.xticks()\n",
    "\tpyplot.setp(labels, rotation=90)\n",
    "\tpyplot.savefig('spotcheck.png')"
   ]
  },
  {
   "cell_type": "markdown",
   "id": "lesbian-competition",
   "metadata": {},
   "source": [
    "## Run Results"
   ]
  },
  {
   "cell_type": "markdown",
   "id": "animal-avenue",
   "metadata": {},
   "source": [
    "Across all models, the SMOTE oversampling method in conjunction with the Edited Nearest Neighbor undersampling performed the best. Among the predictive algorithms, GB, ADA, and LR look promising. In the next session, we will narrow down our models and jump into hyperparameter tuning."
   ]
  },
  {
   "cell_type": "code",
   "execution_count": 11,
   "id": "unlikely-harassment",
   "metadata": {
    "tags": []
   },
   "outputs": [
    {
     "name": "stdout",
     "output_type": "stream",
     "text": [
      "Defined 5 models.\n",
      "Defined 3 resamplers.\n",
      ">0_LR_SM: 0.855 (+/-0.067)\n",
      ">1_LR_SM: 0.849 (+/-0.090)\n",
      ">2_LR_SM: 0.844 (+/-0.066)\n",
      ">0_LR_SM_TM: 0.855 (+/-0.067)\n",
      ">1_LR_SM_TM: 0.844 (+/-0.094)\n",
      ">2_LR_SM_TM: 0.843 (+/-0.070)\n",
      ">0_LR_SM_ENN: 0.855 (+/-0.067)\n",
      ">1_LR_SM_ENN: 0.870 (+/-0.107)\n",
      ">2_LR_SM_ENN: 0.868 (+/-0.075)\n",
      ">0_DT_SM: 0.755 (+/-0.091)\n",
      ">1_DT_SM: 0.773 (+/-0.099)\n",
      ">2_DT_SM: 0.782 (+/-0.098)\n",
      ">0_DT_SM_TM: 0.755 (+/-0.091)\n",
      ">1_DT_SM_TM: 0.774 (+/-0.099)\n",
      ">2_DT_SM_TM: 0.762 (+/-0.098)\n",
      ">0_DT_SM_ENN: 0.755 (+/-0.091)\n",
      ">1_DT_SM_ENN: 0.840 (+/-0.074)\n",
      ">2_DT_SM_ENN: 0.833 (+/-0.084)\n",
      ">0_MLP_1000_SM: 0.743 (+/-0.160)\n",
      ">1_MLP_1000_SM: 0.757 (+/-0.159)\n",
      ">2_MLP_1000_SM: 0.755 (+/-0.171)\n",
      ">0_MLP_1000_SM_TM: 0.743 (+/-0.160)\n",
      ">1_MLP_1000_SM_TM: 0.757 (+/-0.157)\n",
      ">2_MLP_1000_SM_TM: 0.762 (+/-0.165)\n",
      ">0_MLP_1000_SM_ENN: 0.743 (+/-0.160)\n",
      ">1_MLP_1000_SM_ENN: 0.840 (+/-0.100)\n",
      ">2_MLP_1000_SM_ENN: 0.867 (+/-0.078)\n",
      ">0_ADA_800_SM: 0.811 (+/-0.108)\n",
      ">1_ADA_800_SM: 0.842 (+/-0.075)\n",
      ">2_ADA_800_SM: 0.836 (+/-0.090)\n",
      ">0_ADA_800_SM_TM: 0.811 (+/-0.108)\n",
      ">1_ADA_800_SM_TM: 0.840 (+/-0.084)\n",
      ">2_ADA_800_SM_TM: 0.836 (+/-0.090)\n",
      ">0_ADA_800_SM_ENN: 0.811 (+/-0.108)\n",
      ">1_ADA_800_SM_ENN: 0.906 (+/-0.063)\n",
      ">2_ADA_800_SM_ENN: 0.910 (+/-0.056)\n",
      ">0_GB_800_SM: 0.852 (+/-0.078)\n",
      ">1_GB_800_SM: 0.857 (+/-0.096)\n",
      ">2_GB_800_SM: 0.857 (+/-0.099)\n",
      ">0_GB_800_SM_TM: 0.852 (+/-0.078)\n",
      ">1_GB_800_SM_TM: 0.859 (+/-0.099)\n",
      ">2_GB_800_SM_TM: 0.855 (+/-0.099)\n",
      ">0_GB_800_SM_ENN: 0.852 (+/-0.078)\n",
      ">1_GB_800_SM_ENN: 0.908 (+/-0.087)\n",
      ">2_GB_800_SM_ENN: 0.914 (+/-0.063)\n",
      "\n",
      "Rank=1, Name=2_GB_800_SM_ENN, Score=0.914 (+/- 0.063)\n",
      "Rank=2, Name=2_ADA_800_SM_ENN, Score=0.910 (+/- 0.056)\n",
      "Rank=3, Name=1_GB_800_SM_ENN, Score=0.908 (+/- 0.087)\n",
      "Rank=4, Name=1_ADA_800_SM_ENN, Score=0.906 (+/- 0.063)\n",
      "Rank=5, Name=1_LR_SM_ENN, Score=0.870 (+/- 0.107)\n",
      "Rank=6, Name=2_LR_SM_ENN, Score=0.868 (+/- 0.075)\n",
      "Rank=7, Name=2_MLP_1000_SM_ENN, Score=0.867 (+/- 0.078)\n",
      "Rank=8, Name=1_GB_800_SM_TM, Score=0.859 (+/- 0.099)\n",
      "Rank=9, Name=2_GB_800_SM, Score=0.857 (+/- 0.099)\n",
      "Rank=10, Name=1_GB_800_SM, Score=0.857 (+/- 0.096)\n"
     ]
    },
    {
     "data": {
      "image/png": "[encoded data removed]",
      "text/plain": [
       "<Figure size 432x288 with 1 Axes>"
      ]
     },
     "metadata": {
      "needs_background": "light"
     },
     "output_type": "display_data"
    }
   ],
   "source": [
    "# load dataset\n",
    "X, y = load_dataset()\n",
    "# get model list\n",
    "models = define_models()\n",
    "# get model list\n",
    "resamplers = define_resamplers()\n",
    "# define transform pipelines\n",
    "pipelines = [pipeline_RS_SS, pipeline_QT_SS_resample, pipeline_RS_SS_resample]\n",
    "# evaluate models\n",
    "results = evaluate_models(X, y, models, resamplers, pipelines)\n",
    "# summarize results\n",
    "summarize_results(results)"
   ]
  },
  {
   "cell_type": "markdown",
   "id": "young-franchise",
   "metadata": {},
   "source": [
    "## Calculate Runtime"
   ]
  },
  {
   "cell_type": "code",
   "execution_count": 12,
   "id": "annoying-racing",
   "metadata": {},
   "outputs": [],
   "source": [
    "time_1 = time.perf_counter()"
   ]
  },
  {
   "cell_type": "code",
   "execution_count": 13,
   "id": "beginning-cocktail",
   "metadata": {},
   "outputs": [
    {
     "name": "stdout",
     "output_type": "stream",
     "text": [
      "Finished in 5,876.78 second(s) or 97.95 minute(s).\n"
     ]
    }
   ],
   "source": [
    "print(f'Finished in {round(time_1-time_0, 2):,} second(s) or {round((time_1-time_0)/60, 2)} minute(s).')"
   ]
  },
  {
   "cell_type": "code",
   "execution_count": null,
   "id": "yellow-matthew",
   "metadata": {},
   "outputs": [],
   "source": [
    "# Rank=1, Name=2_GB_800_SM_ENN, Score=0.914 (+/- 0.063)\n",
    "# Rank=2, Name=2_ADA_800_SM_ENN, Score=0.910 (+/- 0.056)\n",
    "# Rank=3, Name=1_GB_800_SM_ENN, Score=0.908 (+/- 0.087)\n",
    "# Rank=4, Name=1_ADA_800_SM_ENN, Score=0.906 (+/- 0.063)\n",
    "# Rank=5, Name=1_LR_SM_ENN, Score=0.870 (+/- 0.107)\n",
    "# Rank=6, Name=2_LR_SM_ENN, Score=0.868 (+/- 0.075)\n",
    "# Rank=7, Name=2_MLP_1000_SM_ENN, Score=0.867 (+/- 0.078)\n",
    "# Rank=8, Name=1_GB_800_SM_TM, Score=0.859 (+/- 0.099)\n",
    "# Rank=9, Name=2_GB_800_SM, Score=0.857 (+/- 0.099)\n",
    "# Rank=10, Name=1_GB_800_SM, Score=0.857 (+/- 0.096)"
   ]
  }
 ],
 "metadata": {
  "kernelspec": {
   "display_name": "Python 3",
   "language": "python",
   "name": "python3"
  },
  "language_info": {
   "codemirror_mode": {
    "name": "ipython",
    "version": 3
   },
   "file_extension": ".py",
   "mimetype": "text/x-python",
   "name": "python",
   "nbconvert_exporter": "python",
   "pygments_lexer": "ipython3",
   "version": "3.8.5"
  }
 },
 "nbformat": 4,
 "nbformat_minor": 5
}
