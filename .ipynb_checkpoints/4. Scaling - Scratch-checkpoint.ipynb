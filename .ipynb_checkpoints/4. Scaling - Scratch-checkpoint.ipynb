{
 "cells": [
  {
   "cell_type": "code",
   "execution_count": null,
   "id": "biblical-anniversary",
   "metadata": {},
   "outputs": [],
   "source": []
  },
  {
   "cell_type": "markdown",
   "id": "baking-submission",
   "metadata": {},
   "source": [
    "<a id='6'>\n",
    "    <h2 style='background-color:rgb(141, 153, 165);\n",
    "               font-size:240%;\n",
    "               color:white;\n",
    "               text-align:center;\n",
    "               margin: auto;\n",
    "               padding: 10px;'>\n",
    "        Model & Scaler Selection\n",
    "    </h2>\n",
    "</a>"
   ]
  },
  {
   "cell_type": "markdown",
   "id": "hybrid-assets",
   "metadata": {},
   "source": [
    "<a id='6.2'>\n",
    "    <h2 style='font-size:210%;'>\n",
    "        Models\n",
    "    </h2>\n",
    "</a>"
   ]
  },
  {
   "cell_type": "code",
   "execution_count": 13,
   "id": "round-dylan",
   "metadata": {},
   "outputs": [],
   "source": [
    "# create a list of tuples for all models to explore: [(`model name`, `model instance`)] with minimum hyperparameter setting\n",
    "models = []\n",
    "\n",
    "# linear\n",
    "models.append(('LR', LogisticRegression(solver='saga', max_iter=10000, class_weight='balanced', random_state=5))) # note: `max_iter` from 1000 to 10000 due to convergence issues\n",
    "models.append(('LDA', LinearDiscriminantAnalysis()))\n",
    "models.append(('NB', GaussianNB()))\n",
    "\n",
    "# non-linear\n",
    "models.append(('DT', DecisionTreeClassifier(random_state=5)))\n",
    "models.append(('KNN', KNeighborsClassifier(n_neighbors=5)))\n",
    "models.append(('MLP', MLPClassifier(max_iter=1000, random_state=5)))\n",
    "\n",
    "# ensemble\n",
    "models.append(('BDT', BaggingClassifier(n_estimators=50, n_jobs=-1, random_state=5)))\n",
    "models.append(('RF', RandomForestClassifier(n_estimators=50, max_depth=10, n_jobs=-1, random_state=5))) # note: increasing n_estimators more than 400 doesn't do much; some in place to prevent too much overfitting\n",
    "models.append(('GB', GradientBoostingClassifier(random_state=5))) # note: `max_iter` from 100 to 1000 due to convergence issues"
   ]
  },
  {
   "cell_type": "markdown",
   "id": "suited-webster",
   "metadata": {},
   "source": [
    "<a id='6.2'>\n",
    "    <h2 style='font-size:210%;'>\n",
    "        Scalers\n",
    "    </h2>\n",
    "</a>"
   ]
  },
  {
   "cell_type": "code",
   "execution_count": 16,
   "id": "polar-bubble",
   "metadata": {},
   "outputs": [
    {
     "ename": "SyntaxError",
     "evalue": "invalid syntax (<ipython-input-16-494f6be9a035>, line 3)",
     "output_type": "error",
     "traceback": [
      "\u001b[1;36m  File \u001b[1;32m\"<ipython-input-16-494f6be9a035>\"\u001b[1;36m, line \u001b[1;32m3\u001b[0m\n\u001b[1;33m    scalers.append(('NA', pass))\u001b[0m\n\u001b[1;37m                          ^\u001b[0m\n\u001b[1;31mSyntaxError\u001b[0m\u001b[1;31m:\u001b[0m invalid syntax\n"
     ]
    }
   ],
   "source": [
    "# create a list of tuples for all scalers to explore: [(`scaler name`, `scaler instance`)]\n",
    "scalers = []\n",
    "scalers.append(('SS', StandardScaler()))\n",
    "scalers.append(('MM', MinMaxScaler()))\n",
    "scalers.append(('RS', RobustScaler()))\n",
    "scalers.append(('QT', QuantileTransformer()))\n",
    "scalers.append(('PT', PowerTransformer()))"
   ]
  },
  {
   "cell_type": "markdown",
   "id": "assisted-quantity",
   "metadata": {},
   "source": [
    "<a id='6'>\n",
    "    <h2 style='background-color:rgb(141, 153, 165);\n",
    "               font-size:240%;\n",
    "               color:white;\n",
    "               text-align:center;\n",
    "               margin: auto;\n",
    "               padding: 10px;'>\n",
    "        Baseline Models\n",
    "    </h2>\n",
    "</a>"
   ]
  },
  {
   "cell_type": "code",
   "execution_count": null,
   "id": "together-circulation",
   "metadata": {},
   "outputs": [],
   "source": [
    "time0=time()\n",
    "results_bsl_rskf = []\n",
    "for scaler in scalers:\n",
    "    model_summary_list = []\n",
    "    for model in models:\n",
    "        time1=time()\n",
    "        pipeline = Pipeline([('m', model[1])])\n",
    "        model_summary_rskf = result_rskf(x, y, pipeline, model[0], n_splits=5, n_repeats=3)[0]\n",
    "#         model_summary_tts = result_tts(x, y, pipeline, model[0])[0]\n",
    "        model_summary_list.append(model_summary_rskf)\n",
    "    print(f'Scaler {scaler[0]}: ', round((time()-time1)/60,2), 'sec')\n",
    "    results_bsl_rskf.append(model_summary_list)\n",
    "print('Total Time: ', round((time()-time0)/60,2), 'sec')"
   ]
  },
  {
   "cell_type": "code",
   "execution_count": null,
   "id": "ranging-failure",
   "metadata": {},
   "outputs": [],
   "source": [
    "results_bsl_rskf[0]"
   ]
  },
  {
   "cell_type": "markdown",
   "id": "fatal-hartford",
   "metadata": {},
   "source": [
    "<a id='6'>\n",
    "    <h2 style='background-color:rgb(141, 153, 165);\n",
    "               font-size:240%;\n",
    "               color:white;\n",
    "               text-align:center;\n",
    "               margin: auto;\n",
    "               padding: 10px;'>\n",
    "        Treatment Models\n",
    "    </h2>\n",
    "</a>"
   ]
  },
  {
   "cell_type": "code",
   "execution_count": null,
   "id": "matched-prospect",
   "metadata": {},
   "outputs": [],
   "source": [
    "results_trmt_rskf = summary_by_mod(models, scalers, result_func=result_rskf, n_splits=5, n_repeats=3)"
   ]
  },
  {
   "cell_type": "code",
   "execution_count": null,
   "id": "affiliated-benchmark",
   "metadata": {},
   "outputs": [],
   "source": [
    "# results_trmt_tts = summary_by_mod(models, scalers, result_func=result_tts)"
   ]
  },
  {
   "cell_type": "markdown",
   "id": "dried-princess",
   "metadata": {},
   "source": [
    "<a id='6.2.1'>\n",
    "    <h2 style='font-size:180%;'>\n",
    "        Standard Scaler\n",
    "    </h2>\n",
    "</a>"
   ]
  },
  {
   "cell_type": "code",
   "execution_count": 16,
   "id": "overall-belief",
   "metadata": {},
   "outputs": [
    {
     "data": {
      "text/html": [
       "<div>\n",
       "<style scoped>\n",
       "    .dataframe tbody tr th:only-of-type {\n",
       "        vertical-align: middle;\n",
       "    }\n",
       "\n",
       "    .dataframe tbody tr th {\n",
       "        vertical-align: top;\n",
       "    }\n",
       "\n",
       "    .dataframe thead th {\n",
       "        text-align: right;\n",
       "    }\n",
       "</style>\n",
       "<table border=\"1\" class=\"dataframe\">\n",
       "  <thead>\n",
       "    <tr style=\"text-align: right;\">\n",
       "      <th></th>\n",
       "      <th>LR</th>\n",
       "      <th>LDA</th>\n",
       "      <th>NB</th>\n",
       "      <th>DT</th>\n",
       "      <th>KNN</th>\n",
       "      <th>MLP</th>\n",
       "      <th>BDT</th>\n",
       "      <th>RF</th>\n",
       "      <th>GB</th>\n",
       "    </tr>\n",
       "  </thead>\n",
       "  <tbody>\n",
       "    <tr>\n",
       "      <th>fit_time</th>\n",
       "      <td>0.58</td>\n",
       "      <td>0.05</td>\n",
       "      <td>0.01</td>\n",
       "      <td>0.12</td>\n",
       "      <td>0.01</td>\n",
       "      <td>32.72</td>\n",
       "      <td>8.16</td>\n",
       "      <td>0.33</td>\n",
       "      <td>2.84</td>\n",
       "    </tr>\n",
       "    <tr>\n",
       "      <th>score_time</th>\n",
       "      <td>0.01</td>\n",
       "      <td>0.00</td>\n",
       "      <td>0.00</td>\n",
       "      <td>0.00</td>\n",
       "      <td>0.44</td>\n",
       "      <td>0.00</td>\n",
       "      <td>0.06</td>\n",
       "      <td>0.03</td>\n",
       "      <td>0.00</td>\n",
       "    </tr>\n",
       "    <tr>\n",
       "      <th>accuracy</th>\n",
       "      <td>0.86</td>\n",
       "      <td>0.92</td>\n",
       "      <td>0.89</td>\n",
       "      <td>0.94</td>\n",
       "      <td>0.91</td>\n",
       "      <td>0.95</td>\n",
       "      <td>0.97</td>\n",
       "      <td>0.96</td>\n",
       "      <td>0.97</td>\n",
       "    </tr>\n",
       "    <tr>\n",
       "      <th>precision</th>\n",
       "      <td>0.53</td>\n",
       "      <td>0.79</td>\n",
       "      <td>0.71</td>\n",
       "      <td>0.78</td>\n",
       "      <td>0.84</td>\n",
       "      <td>0.83</td>\n",
       "      <td>0.90</td>\n",
       "      <td>0.93</td>\n",
       "      <td>0.93</td>\n",
       "    </tr>\n",
       "    <tr>\n",
       "      <th>recall</th>\n",
       "      <td>0.89</td>\n",
       "      <td>0.67</td>\n",
       "      <td>0.57</td>\n",
       "      <td>0.83</td>\n",
       "      <td>0.55</td>\n",
       "      <td>0.84</td>\n",
       "      <td>0.90</td>\n",
       "      <td>0.82</td>\n",
       "      <td>0.90</td>\n",
       "    </tr>\n",
       "    <tr>\n",
       "      <th>f1</th>\n",
       "      <td>0.67</td>\n",
       "      <td>0.72</td>\n",
       "      <td>0.63</td>\n",
       "      <td>0.81</td>\n",
       "      <td>0.66</td>\n",
       "      <td>0.83</td>\n",
       "      <td>0.90</td>\n",
       "      <td>0.87</td>\n",
       "      <td>0.91</td>\n",
       "    </tr>\n",
       "    <tr>\n",
       "      <th>f2</th>\n",
       "      <td>0.79</td>\n",
       "      <td>0.69</td>\n",
       "      <td>0.59</td>\n",
       "      <td>0.82</td>\n",
       "      <td>0.59</td>\n",
       "      <td>0.84</td>\n",
       "      <td>0.90</td>\n",
       "      <td>0.84</td>\n",
       "      <td>0.90</td>\n",
       "    </tr>\n",
       "  </tbody>\n",
       "</table>\n",
       "</div>"
      ],
      "text/plain": [
       "             LR  LDA   NB   DT  KNN   MLP  BDT   RF   GB\n",
       "fit_time   0.58 0.05 0.01 0.12 0.01 32.72 8.16 0.33 2.84\n",
       "score_time 0.01 0.00 0.00 0.00 0.44  0.00 0.06 0.03 0.00\n",
       "accuracy   0.86 0.92 0.89 0.94 0.91  0.95 0.97 0.96 0.97\n",
       "precision  0.53 0.79 0.71 0.78 0.84  0.83 0.90 0.93 0.93\n",
       "recall     0.89 0.67 0.57 0.83 0.55  0.84 0.90 0.82 0.90\n",
       "f1         0.67 0.72 0.63 0.81 0.66  0.83 0.90 0.87 0.91\n",
       "f2         0.79 0.69 0.59 0.82 0.59  0.84 0.90 0.84 0.90"
      ]
     },
     "execution_count": 16,
     "metadata": {},
     "output_type": "execute_result"
    }
   ],
   "source": [
    "final_rskf_SS = pd.concat([i for i in results_rskf[0]], axis=1)\n",
    "final_rskf_SS"
   ]
  },
  {
   "cell_type": "code",
   "execution_count": 16,
   "id": "composite-richards",
   "metadata": {},
   "outputs": [
    {
     "data": {
      "text/html": [
       "<div>\n",
       "<style scoped>\n",
       "    .dataframe tbody tr th:only-of-type {\n",
       "        vertical-align: middle;\n",
       "    }\n",
       "\n",
       "    .dataframe tbody tr th {\n",
       "        vertical-align: top;\n",
       "    }\n",
       "\n",
       "    .dataframe thead th {\n",
       "        text-align: right;\n",
       "    }\n",
       "</style>\n",
       "<table border=\"1\" class=\"dataframe\">\n",
       "  <thead>\n",
       "    <tr style=\"text-align: right;\">\n",
       "      <th></th>\n",
       "      <th>LR</th>\n",
       "      <th>LDA</th>\n",
       "      <th>NB</th>\n",
       "      <th>DT</th>\n",
       "      <th>KNN</th>\n",
       "      <th>MLP</th>\n",
       "      <th>BDT</th>\n",
       "      <th>RF</th>\n",
       "      <th>GB</th>\n",
       "    </tr>\n",
       "  </thead>\n",
       "  <tbody>\n",
       "    <tr>\n",
       "      <th>fit_time</th>\n",
       "      <td>0.58</td>\n",
       "      <td>0.05</td>\n",
       "      <td>0.01</td>\n",
       "      <td>0.12</td>\n",
       "      <td>0.01</td>\n",
       "      <td>32.72</td>\n",
       "      <td>8.16</td>\n",
       "      <td>0.33</td>\n",
       "      <td>2.84</td>\n",
       "    </tr>\n",
       "    <tr>\n",
       "      <th>score_time</th>\n",
       "      <td>0.01</td>\n",
       "      <td>0.00</td>\n",
       "      <td>0.00</td>\n",
       "      <td>0.00</td>\n",
       "      <td>0.44</td>\n",
       "      <td>0.00</td>\n",
       "      <td>0.06</td>\n",
       "      <td>0.03</td>\n",
       "      <td>0.00</td>\n",
       "    </tr>\n",
       "    <tr>\n",
       "      <th>accuracy</th>\n",
       "      <td>0.86</td>\n",
       "      <td>0.92</td>\n",
       "      <td>0.89</td>\n",
       "      <td>0.94</td>\n",
       "      <td>0.91</td>\n",
       "      <td>0.95</td>\n",
       "      <td>0.97</td>\n",
       "      <td>0.96</td>\n",
       "      <td>0.97</td>\n",
       "    </tr>\n",
       "    <tr>\n",
       "      <th>precision</th>\n",
       "      <td>0.53</td>\n",
       "      <td>0.79</td>\n",
       "      <td>0.71</td>\n",
       "      <td>0.78</td>\n",
       "      <td>0.84</td>\n",
       "      <td>0.83</td>\n",
       "      <td>0.90</td>\n",
       "      <td>0.93</td>\n",
       "      <td>0.93</td>\n",
       "    </tr>\n",
       "    <tr>\n",
       "      <th>recall</th>\n",
       "      <td>0.89</td>\n",
       "      <td>0.67</td>\n",
       "      <td>0.57</td>\n",
       "      <td>0.83</td>\n",
       "      <td>0.55</td>\n",
       "      <td>0.84</td>\n",
       "      <td>0.90</td>\n",
       "      <td>0.82</td>\n",
       "      <td>0.90</td>\n",
       "    </tr>\n",
       "    <tr>\n",
       "      <th>f1</th>\n",
       "      <td>0.67</td>\n",
       "      <td>0.72</td>\n",
       "      <td>0.63</td>\n",
       "      <td>0.81</td>\n",
       "      <td>0.66</td>\n",
       "      <td>0.83</td>\n",
       "      <td>0.90</td>\n",
       "      <td>0.87</td>\n",
       "      <td>0.91</td>\n",
       "    </tr>\n",
       "    <tr>\n",
       "      <th>f2</th>\n",
       "      <td>0.79</td>\n",
       "      <td>0.69</td>\n",
       "      <td>0.59</td>\n",
       "      <td>0.82</td>\n",
       "      <td>0.59</td>\n",
       "      <td>0.84</td>\n",
       "      <td>0.90</td>\n",
       "      <td>0.84</td>\n",
       "      <td>0.90</td>\n",
       "    </tr>\n",
       "  </tbody>\n",
       "</table>\n",
       "</div>"
      ],
      "text/plain": [
       "             LR  LDA   NB   DT  KNN   MLP  BDT   RF   GB\n",
       "fit_time   0.58 0.05 0.01 0.12 0.01 32.72 8.16 0.33 2.84\n",
       "score_time 0.01 0.00 0.00 0.00 0.44  0.00 0.06 0.03 0.00\n",
       "accuracy   0.86 0.92 0.89 0.94 0.91  0.95 0.97 0.96 0.97\n",
       "precision  0.53 0.79 0.71 0.78 0.84  0.83 0.90 0.93 0.93\n",
       "recall     0.89 0.67 0.57 0.83 0.55  0.84 0.90 0.82 0.90\n",
       "f1         0.67 0.72 0.63 0.81 0.66  0.83 0.90 0.87 0.91\n",
       "f2         0.79 0.69 0.59 0.82 0.59  0.84 0.90 0.84 0.90"
      ]
     },
     "execution_count": 16,
     "metadata": {},
     "output_type": "execute_result"
    }
   ],
   "source": [
    "# final_tts_SS = pd.concat([i for i in results_tts[0]], axis=1)\n",
    "# final_tts_SS"
   ]
  },
  {
   "cell_type": "markdown",
   "id": "military-discharge",
   "metadata": {},
   "source": [
    "<a id='6.2.2'>\n",
    "    <h2 style='font-size:180%;'>\n",
    "        Min Max Scaler\n",
    "    </h2>\n",
    "</a>"
   ]
  },
  {
   "cell_type": "code",
   "execution_count": null,
   "id": "inner-power",
   "metadata": {},
   "outputs": [],
   "source": [
    "final_rskf_MM = pd.concat([i for i in results_rskf[1]], axis=1)\n",
    "final_rskf_MM"
   ]
  },
  {
   "cell_type": "code",
   "execution_count": 17,
   "id": "toxic-reason",
   "metadata": {},
   "outputs": [
    {
     "data": {
      "text/html": [
       "<div>\n",
       "<style scoped>\n",
       "    .dataframe tbody tr th:only-of-type {\n",
       "        vertical-align: middle;\n",
       "    }\n",
       "\n",
       "    .dataframe tbody tr th {\n",
       "        vertical-align: top;\n",
       "    }\n",
       "\n",
       "    .dataframe thead th {\n",
       "        text-align: right;\n",
       "    }\n",
       "</style>\n",
       "<table border=\"1\" class=\"dataframe\">\n",
       "  <thead>\n",
       "    <tr style=\"text-align: right;\">\n",
       "      <th></th>\n",
       "      <th>LR</th>\n",
       "      <th>LDA</th>\n",
       "      <th>NB</th>\n",
       "      <th>DT</th>\n",
       "      <th>KNN</th>\n",
       "      <th>MLP</th>\n",
       "      <th>BDT</th>\n",
       "      <th>RF</th>\n",
       "      <th>GB</th>\n",
       "    </tr>\n",
       "  </thead>\n",
       "  <tbody>\n",
       "    <tr>\n",
       "      <th>fit_time</th>\n",
       "      <td>0.17</td>\n",
       "      <td>0.05</td>\n",
       "      <td>0.01</td>\n",
       "      <td>0.12</td>\n",
       "      <td>0.00</td>\n",
       "      <td>25.77</td>\n",
       "      <td>1.17</td>\n",
       "      <td>0.29</td>\n",
       "      <td>2.80</td>\n",
       "    </tr>\n",
       "    <tr>\n",
       "      <th>score_time</th>\n",
       "      <td>0.00</td>\n",
       "      <td>0.00</td>\n",
       "      <td>0.00</td>\n",
       "      <td>0.00</td>\n",
       "      <td>0.51</td>\n",
       "      <td>0.00</td>\n",
       "      <td>0.06</td>\n",
       "      <td>0.03</td>\n",
       "      <td>0.00</td>\n",
       "    </tr>\n",
       "    <tr>\n",
       "      <th>accuracy</th>\n",
       "      <td>0.85</td>\n",
       "      <td>0.92</td>\n",
       "      <td>0.89</td>\n",
       "      <td>0.94</td>\n",
       "      <td>0.88</td>\n",
       "      <td>0.95</td>\n",
       "      <td>0.97</td>\n",
       "      <td>0.96</td>\n",
       "      <td>0.97</td>\n",
       "    </tr>\n",
       "    <tr>\n",
       "      <th>precision</th>\n",
       "      <td>0.52</td>\n",
       "      <td>0.79</td>\n",
       "      <td>0.71</td>\n",
       "      <td>0.78</td>\n",
       "      <td>0.74</td>\n",
       "      <td>0.86</td>\n",
       "      <td>0.90</td>\n",
       "      <td>0.93</td>\n",
       "      <td>0.93</td>\n",
       "    </tr>\n",
       "    <tr>\n",
       "      <th>recall</th>\n",
       "      <td>0.89</td>\n",
       "      <td>0.67</td>\n",
       "      <td>0.57</td>\n",
       "      <td>0.83</td>\n",
       "      <td>0.43</td>\n",
       "      <td>0.83</td>\n",
       "      <td>0.91</td>\n",
       "      <td>0.82</td>\n",
       "      <td>0.90</td>\n",
       "    </tr>\n",
       "    <tr>\n",
       "      <th>f1</th>\n",
       "      <td>0.66</td>\n",
       "      <td>0.72</td>\n",
       "      <td>0.63</td>\n",
       "      <td>0.81</td>\n",
       "      <td>0.55</td>\n",
       "      <td>0.85</td>\n",
       "      <td>0.91</td>\n",
       "      <td>0.87</td>\n",
       "      <td>0.91</td>\n",
       "    </tr>\n",
       "    <tr>\n",
       "      <th>f2</th>\n",
       "      <td>0.78</td>\n",
       "      <td>0.69</td>\n",
       "      <td>0.59</td>\n",
       "      <td>0.82</td>\n",
       "      <td>0.47</td>\n",
       "      <td>0.84</td>\n",
       "      <td>0.91</td>\n",
       "      <td>0.84</td>\n",
       "      <td>0.90</td>\n",
       "    </tr>\n",
       "  </tbody>\n",
       "</table>\n",
       "</div>"
      ],
      "text/plain": [
       "             LR  LDA   NB   DT  KNN   MLP  BDT   RF   GB\n",
       "fit_time   0.17 0.05 0.01 0.12 0.00 25.77 1.17 0.29 2.80\n",
       "score_time 0.00 0.00 0.00 0.00 0.51  0.00 0.06 0.03 0.00\n",
       "accuracy   0.85 0.92 0.89 0.94 0.88  0.95 0.97 0.96 0.97\n",
       "precision  0.52 0.79 0.71 0.78 0.74  0.86 0.90 0.93 0.93\n",
       "recall     0.89 0.67 0.57 0.83 0.43  0.83 0.91 0.82 0.90\n",
       "f1         0.66 0.72 0.63 0.81 0.55  0.85 0.91 0.87 0.91\n",
       "f2         0.78 0.69 0.59 0.82 0.47  0.84 0.91 0.84 0.90"
      ]
     },
     "execution_count": 17,
     "metadata": {},
     "output_type": "execute_result"
    }
   ],
   "source": [
    "# final_tts_MM = pd.concat([i for i in results_tts[1]], axis=1)\n",
    "# final_tts_MM"
   ]
  },
  {
   "cell_type": "markdown",
   "id": "electric-visitor",
   "metadata": {},
   "source": [
    "<a id='6.2.3'>\n",
    "    <h2 style='font-size:180%;'>\n",
    "        Robust Scaler\n",
    "    </h2>\n",
    "</a>"
   ]
  },
  {
   "cell_type": "code",
   "execution_count": null,
   "id": "entertaining-award",
   "metadata": {},
   "outputs": [],
   "source": [
    "final_rskf_RS = pd.concat([i for i in results_rskf[2]], axis=1)\n",
    "final_rskf_RS"
   ]
  },
  {
   "cell_type": "code",
   "execution_count": 18,
   "id": "incident-convenience",
   "metadata": {},
   "outputs": [
    {
     "data": {
      "text/html": [
       "<div>\n",
       "<style scoped>\n",
       "    .dataframe tbody tr th:only-of-type {\n",
       "        vertical-align: middle;\n",
       "    }\n",
       "\n",
       "    .dataframe tbody tr th {\n",
       "        vertical-align: top;\n",
       "    }\n",
       "\n",
       "    .dataframe thead th {\n",
       "        text-align: right;\n",
       "    }\n",
       "</style>\n",
       "<table border=\"1\" class=\"dataframe\">\n",
       "  <thead>\n",
       "    <tr style=\"text-align: right;\">\n",
       "      <th></th>\n",
       "      <th>LR</th>\n",
       "      <th>LDA</th>\n",
       "      <th>NB</th>\n",
       "      <th>DT</th>\n",
       "      <th>KNN</th>\n",
       "      <th>MLP</th>\n",
       "      <th>BDT</th>\n",
       "      <th>RF</th>\n",
       "      <th>GB</th>\n",
       "    </tr>\n",
       "  </thead>\n",
       "  <tbody>\n",
       "    <tr>\n",
       "      <th>fit_time</th>\n",
       "      <td>1.42</td>\n",
       "      <td>0.05</td>\n",
       "      <td>0.02</td>\n",
       "      <td>0.11</td>\n",
       "      <td>0.02</td>\n",
       "      <td>38.83</td>\n",
       "      <td>1.10</td>\n",
       "      <td>0.31</td>\n",
       "      <td>2.85</td>\n",
       "    </tr>\n",
       "    <tr>\n",
       "      <th>score_time</th>\n",
       "      <td>0.00</td>\n",
       "      <td>0.00</td>\n",
       "      <td>0.00</td>\n",
       "      <td>0.00</td>\n",
       "      <td>0.44</td>\n",
       "      <td>0.00</td>\n",
       "      <td>0.06</td>\n",
       "      <td>0.03</td>\n",
       "      <td>0.01</td>\n",
       "    </tr>\n",
       "    <tr>\n",
       "      <th>accuracy</th>\n",
       "      <td>0.86</td>\n",
       "      <td>0.92</td>\n",
       "      <td>0.89</td>\n",
       "      <td>0.94</td>\n",
       "      <td>0.93</td>\n",
       "      <td>0.96</td>\n",
       "      <td>0.97</td>\n",
       "      <td>0.96</td>\n",
       "      <td>0.97</td>\n",
       "    </tr>\n",
       "    <tr>\n",
       "      <th>precision</th>\n",
       "      <td>0.53</td>\n",
       "      <td>0.79</td>\n",
       "      <td>0.71</td>\n",
       "      <td>0.78</td>\n",
       "      <td>0.88</td>\n",
       "      <td>0.88</td>\n",
       "      <td>0.90</td>\n",
       "      <td>0.93</td>\n",
       "      <td>0.93</td>\n",
       "    </tr>\n",
       "    <tr>\n",
       "      <th>recall</th>\n",
       "      <td>0.89</td>\n",
       "      <td>0.67</td>\n",
       "      <td>0.57</td>\n",
       "      <td>0.83</td>\n",
       "      <td>0.67</td>\n",
       "      <td>0.86</td>\n",
       "      <td>0.91</td>\n",
       "      <td>0.82</td>\n",
       "      <td>0.90</td>\n",
       "    </tr>\n",
       "    <tr>\n",
       "      <th>f1</th>\n",
       "      <td>0.67</td>\n",
       "      <td>0.72</td>\n",
       "      <td>0.63</td>\n",
       "      <td>0.81</td>\n",
       "      <td>0.76</td>\n",
       "      <td>0.87</td>\n",
       "      <td>0.91</td>\n",
       "      <td>0.87</td>\n",
       "      <td>0.91</td>\n",
       "    </tr>\n",
       "    <tr>\n",
       "      <th>f2</th>\n",
       "      <td>0.79</td>\n",
       "      <td>0.69</td>\n",
       "      <td>0.59</td>\n",
       "      <td>0.82</td>\n",
       "      <td>0.70</td>\n",
       "      <td>0.87</td>\n",
       "      <td>0.91</td>\n",
       "      <td>0.84</td>\n",
       "      <td>0.90</td>\n",
       "    </tr>\n",
       "  </tbody>\n",
       "</table>\n",
       "</div>"
      ],
      "text/plain": [
       "             LR  LDA   NB   DT  KNN   MLP  BDT   RF   GB\n",
       "fit_time   1.42 0.05 0.02 0.11 0.02 38.83 1.10 0.31 2.85\n",
       "score_time 0.00 0.00 0.00 0.00 0.44  0.00 0.06 0.03 0.01\n",
       "accuracy   0.86 0.92 0.89 0.94 0.93  0.96 0.97 0.96 0.97\n",
       "precision  0.53 0.79 0.71 0.78 0.88  0.88 0.90 0.93 0.93\n",
       "recall     0.89 0.67 0.57 0.83 0.67  0.86 0.91 0.82 0.90\n",
       "f1         0.67 0.72 0.63 0.81 0.76  0.87 0.91 0.87 0.91\n",
       "f2         0.79 0.69 0.59 0.82 0.70  0.87 0.91 0.84 0.90"
      ]
     },
     "execution_count": 18,
     "metadata": {},
     "output_type": "execute_result"
    }
   ],
   "source": [
    "# final_tts_RS = pd.concat([i for i in results_tts[2]], axis=1)\n",
    "# final_tts_RS"
   ]
  },
  {
   "cell_type": "markdown",
   "id": "opposed-context",
   "metadata": {},
   "source": [
    "<a id='6.2.4'>\n",
    "    <h2 style='font-size:180%;'>\n",
    "        Quantile Transformer\n",
    "    </h2>\n",
    "</a>"
   ]
  },
  {
   "cell_type": "code",
   "execution_count": null,
   "id": "civic-point",
   "metadata": {},
   "outputs": [],
   "source": [
    "final_rskf_QT = pd.concat([i for i in results_rskf[3]], axis=1)\n",
    "final_rskf_QT"
   ]
  },
  {
   "cell_type": "code",
   "execution_count": 19,
   "id": "incomplete-consideration",
   "metadata": {},
   "outputs": [
    {
     "data": {
      "text/html": [
       "<div>\n",
       "<style scoped>\n",
       "    .dataframe tbody tr th:only-of-type {\n",
       "        vertical-align: middle;\n",
       "    }\n",
       "\n",
       "    .dataframe tbody tr th {\n",
       "        vertical-align: top;\n",
       "    }\n",
       "\n",
       "    .dataframe thead th {\n",
       "        text-align: right;\n",
       "    }\n",
       "</style>\n",
       "<table border=\"1\" class=\"dataframe\">\n",
       "  <thead>\n",
       "    <tr style=\"text-align: right;\">\n",
       "      <th></th>\n",
       "      <th>LR</th>\n",
       "      <th>LDA</th>\n",
       "      <th>NB</th>\n",
       "      <th>DT</th>\n",
       "      <th>KNN</th>\n",
       "      <th>MLP</th>\n",
       "      <th>BDT</th>\n",
       "      <th>RF</th>\n",
       "      <th>GB</th>\n",
       "    </tr>\n",
       "  </thead>\n",
       "  <tbody>\n",
       "    <tr>\n",
       "      <th>fit_time</th>\n",
       "      <td>0.25</td>\n",
       "      <td>0.09</td>\n",
       "      <td>0.06</td>\n",
       "      <td>0.15</td>\n",
       "      <td>0.05</td>\n",
       "      <td>33.77</td>\n",
       "      <td>1.09</td>\n",
       "      <td>0.32</td>\n",
       "      <td>2.87</td>\n",
       "    </tr>\n",
       "    <tr>\n",
       "      <th>score_time</th>\n",
       "      <td>0.01</td>\n",
       "      <td>0.01</td>\n",
       "      <td>0.01</td>\n",
       "      <td>0.01</td>\n",
       "      <td>0.49</td>\n",
       "      <td>0.02</td>\n",
       "      <td>0.07</td>\n",
       "      <td>0.04</td>\n",
       "      <td>0.01</td>\n",
       "    </tr>\n",
       "    <tr>\n",
       "      <th>accuracy</th>\n",
       "      <td>0.86</td>\n",
       "      <td>0.92</td>\n",
       "      <td>0.88</td>\n",
       "      <td>0.93</td>\n",
       "      <td>0.90</td>\n",
       "      <td>0.96</td>\n",
       "      <td>0.97</td>\n",
       "      <td>0.96</td>\n",
       "      <td>0.97</td>\n",
       "    </tr>\n",
       "    <tr>\n",
       "      <th>precision</th>\n",
       "      <td>0.54</td>\n",
       "      <td>0.79</td>\n",
       "      <td>0.64</td>\n",
       "      <td>0.78</td>\n",
       "      <td>0.82</td>\n",
       "      <td>0.87</td>\n",
       "      <td>0.91</td>\n",
       "      <td>0.92</td>\n",
       "      <td>0.93</td>\n",
       "    </tr>\n",
       "    <tr>\n",
       "      <th>recall</th>\n",
       "      <td>0.89</td>\n",
       "      <td>0.64</td>\n",
       "      <td>0.56</td>\n",
       "      <td>0.83</td>\n",
       "      <td>0.50</td>\n",
       "      <td>0.85</td>\n",
       "      <td>0.91</td>\n",
       "      <td>0.82</td>\n",
       "      <td>0.90</td>\n",
       "    </tr>\n",
       "    <tr>\n",
       "      <th>f1</th>\n",
       "      <td>0.67</td>\n",
       "      <td>0.71</td>\n",
       "      <td>0.59</td>\n",
       "      <td>0.80</td>\n",
       "      <td>0.62</td>\n",
       "      <td>0.86</td>\n",
       "      <td>0.91</td>\n",
       "      <td>0.87</td>\n",
       "      <td>0.91</td>\n",
       "    </tr>\n",
       "    <tr>\n",
       "      <th>f2</th>\n",
       "      <td>0.79</td>\n",
       "      <td>0.67</td>\n",
       "      <td>0.57</td>\n",
       "      <td>0.82</td>\n",
       "      <td>0.54</td>\n",
       "      <td>0.85</td>\n",
       "      <td>0.91</td>\n",
       "      <td>0.84</td>\n",
       "      <td>0.90</td>\n",
       "    </tr>\n",
       "  </tbody>\n",
       "</table>\n",
       "</div>"
      ],
      "text/plain": [
       "             LR  LDA   NB   DT  KNN   MLP  BDT   RF   GB\n",
       "fit_time   0.25 0.09 0.06 0.15 0.05 33.77 1.09 0.32 2.87\n",
       "score_time 0.01 0.01 0.01 0.01 0.49  0.02 0.07 0.04 0.01\n",
       "accuracy   0.86 0.92 0.88 0.93 0.90  0.96 0.97 0.96 0.97\n",
       "precision  0.54 0.79 0.64 0.78 0.82  0.87 0.91 0.92 0.93\n",
       "recall     0.89 0.64 0.56 0.83 0.50  0.85 0.91 0.82 0.90\n",
       "f1         0.67 0.71 0.59 0.80 0.62  0.86 0.91 0.87 0.91\n",
       "f2         0.79 0.67 0.57 0.82 0.54  0.85 0.91 0.84 0.90"
      ]
     },
     "execution_count": 19,
     "metadata": {},
     "output_type": "execute_result"
    }
   ],
   "source": [
    "# final_tts_QT = pd.concat([i for i in results_tts[3]], axis=1)\n",
    "# final_tts_QT"
   ]
  },
  {
   "cell_type": "markdown",
   "id": "lasting-librarian",
   "metadata": {},
   "source": [
    "<a id='6.2.5'>\n",
    "    <h2 style='font-size:180%;'>\n",
    "        Power Transformer\n",
    "    </h2>\n",
    "</a>"
   ]
  },
  {
   "cell_type": "code",
   "execution_count": null,
   "id": "taken-latest",
   "metadata": {},
   "outputs": [],
   "source": [
    "final_rskf_PT = pd.concat([i for i in results_rskf[4]], axis=1)\n",
    "final_rskf_PT"
   ]
  },
  {
   "cell_type": "code",
   "execution_count": 20,
   "id": "disturbed-disclaimer",
   "metadata": {},
   "outputs": [
    {
     "data": {
      "text/html": [
       "<div>\n",
       "<style scoped>\n",
       "    .dataframe tbody tr th:only-of-type {\n",
       "        vertical-align: middle;\n",
       "    }\n",
       "\n",
       "    .dataframe tbody tr th {\n",
       "        vertical-align: top;\n",
       "    }\n",
       "\n",
       "    .dataframe thead th {\n",
       "        text-align: right;\n",
       "    }\n",
       "</style>\n",
       "<table border=\"1\" class=\"dataframe\">\n",
       "  <thead>\n",
       "    <tr style=\"text-align: right;\">\n",
       "      <th></th>\n",
       "      <th>LR</th>\n",
       "      <th>LDA</th>\n",
       "      <th>NB</th>\n",
       "      <th>DT</th>\n",
       "      <th>KNN</th>\n",
       "      <th>MLP</th>\n",
       "      <th>BDT</th>\n",
       "      <th>RF</th>\n",
       "      <th>GB</th>\n",
       "    </tr>\n",
       "  </thead>\n",
       "  <tbody>\n",
       "    <tr>\n",
       "      <th>fit_time</th>\n",
       "      <td>3.13</td>\n",
       "      <td>0.39</td>\n",
       "      <td>0.37</td>\n",
       "      <td>0.42</td>\n",
       "      <td>0.33</td>\n",
       "      <td>32.48</td>\n",
       "      <td>1.25</td>\n",
       "      <td>0.61</td>\n",
       "      <td>2.57</td>\n",
       "    </tr>\n",
       "    <tr>\n",
       "      <th>score_time</th>\n",
       "      <td>0.00</td>\n",
       "      <td>0.00</td>\n",
       "      <td>0.01</td>\n",
       "      <td>0.01</td>\n",
       "      <td>0.48</td>\n",
       "      <td>0.01</td>\n",
       "      <td>0.06</td>\n",
       "      <td>0.03</td>\n",
       "      <td>0.01</td>\n",
       "    </tr>\n",
       "    <tr>\n",
       "      <th>accuracy</th>\n",
       "      <td>0.86</td>\n",
       "      <td>0.91</td>\n",
       "      <td>0.89</td>\n",
       "      <td>0.93</td>\n",
       "      <td>0.90</td>\n",
       "      <td>0.94</td>\n",
       "      <td>0.96</td>\n",
       "      <td>0.94</td>\n",
       "      <td>0.96</td>\n",
       "    </tr>\n",
       "    <tr>\n",
       "      <th>precision</th>\n",
       "      <td>0.54</td>\n",
       "      <td>0.79</td>\n",
       "      <td>0.70</td>\n",
       "      <td>0.77</td>\n",
       "      <td>0.81</td>\n",
       "      <td>0.83</td>\n",
       "      <td>0.89</td>\n",
       "      <td>0.90</td>\n",
       "      <td>0.92</td>\n",
       "    </tr>\n",
       "    <tr>\n",
       "      <th>recall</th>\n",
       "      <td>0.88</td>\n",
       "      <td>0.64</td>\n",
       "      <td>0.51</td>\n",
       "      <td>0.84</td>\n",
       "      <td>0.50</td>\n",
       "      <td>0.80</td>\n",
       "      <td>0.85</td>\n",
       "      <td>0.74</td>\n",
       "      <td>0.85</td>\n",
       "    </tr>\n",
       "    <tr>\n",
       "      <th>f1</th>\n",
       "      <td>0.67</td>\n",
       "      <td>0.71</td>\n",
       "      <td>0.59</td>\n",
       "      <td>0.81</td>\n",
       "      <td>0.62</td>\n",
       "      <td>0.82</td>\n",
       "      <td>0.87</td>\n",
       "      <td>0.81</td>\n",
       "      <td>0.88</td>\n",
       "    </tr>\n",
       "    <tr>\n",
       "      <th>f2</th>\n",
       "      <td>0.78</td>\n",
       "      <td>0.66</td>\n",
       "      <td>0.54</td>\n",
       "      <td>0.83</td>\n",
       "      <td>0.54</td>\n",
       "      <td>0.81</td>\n",
       "      <td>0.86</td>\n",
       "      <td>0.76</td>\n",
       "      <td>0.86</td>\n",
       "    </tr>\n",
       "  </tbody>\n",
       "</table>\n",
       "</div>"
      ],
      "text/plain": [
       "             LR  LDA   NB   DT  KNN   MLP  BDT   RF   GB\n",
       "fit_time   3.13 0.39 0.37 0.42 0.33 32.48 1.25 0.61 2.57\n",
       "score_time 0.00 0.00 0.01 0.01 0.48  0.01 0.06 0.03 0.01\n",
       "accuracy   0.86 0.91 0.89 0.93 0.90  0.94 0.96 0.94 0.96\n",
       "precision  0.54 0.79 0.70 0.77 0.81  0.83 0.89 0.90 0.92\n",
       "recall     0.88 0.64 0.51 0.84 0.50  0.80 0.85 0.74 0.85\n",
       "f1         0.67 0.71 0.59 0.81 0.62  0.82 0.87 0.81 0.88\n",
       "f2         0.78 0.66 0.54 0.83 0.54  0.81 0.86 0.76 0.86"
      ]
     },
     "execution_count": 20,
     "metadata": {},
     "output_type": "execute_result"
    }
   ],
   "source": [
    "# final_tts_PT = pd.concat([i for i in results_tts[4]], axis=1)\n",
    "# final_tts_PT"
   ]
  },
  {
   "cell_type": "code",
   "execution_count": null,
   "id": "understanding-perth",
   "metadata": {},
   "outputs": [],
   "source": []
  },
  {
   "cell_type": "code",
   "execution_count": null,
   "id": "arctic-cleaners",
   "metadata": {},
   "outputs": [],
   "source": []
  },
  {
   "cell_type": "code",
   "execution_count": null,
   "id": "acoustic-football",
   "metadata": {},
   "outputs": [],
   "source": []
  },
  {
   "cell_type": "markdown",
   "id": "orange-sword",
   "metadata": {},
   "source": [
    "# Unit Test"
   ]
  },
  {
   "cell_type": "code",
   "execution_count": null,
   "id": "chubby-aluminum",
   "metadata": {},
   "outputs": [],
   "source": [
    "for i,n in enumerate(models):\n",
    "    print(i,n[0])"
   ]
  },
  {
   "cell_type": "code",
   "execution_count": null,
   "id": "specialized-popularity",
   "metadata": {},
   "outputs": [],
   "source": [
    "m = 6\n",
    "scaler = MinMaxScaler()\n",
    "model = models[m][1]\n",
    "model_name = models[m][0]\n",
    "pipeline = Pipeline([('s', scaler), ('m', model)])\n",
    "model_test_summary = result_rskf(x, y, pipeline, model_name)[0]\n",
    "model_test_summary"
   ]
  },
  {
   "cell_type": "code",
   "execution_count": null,
   "id": "canadian-article",
   "metadata": {},
   "outputs": [],
   "source": [
    "LinearSVC().get_params()"
   ]
  },
  {
   "cell_type": "code",
   "execution_count": null,
   "id": "suspended-tract",
   "metadata": {},
   "outputs": [],
   "source": [
    "scaler = MinMaxScaler()\n",
    "model = MLPClassifier(max_iter=100, random_state=5)\n",
    "model_name = 'tem'\n",
    "pipeline = Pipeline([('s', scaler), ('m', model)])\n",
    "model_test_summary = result_rskf(x, y, pipeline, model_name)[0]\n",
    "model_test_summary"
   ]
  },
  {
   "cell_type": "code",
   "execution_count": null,
   "id": "apparent-length",
   "metadata": {},
   "outputs": [],
   "source": []
  },
  {
   "cell_type": "code",
   "execution_count": null,
   "id": "pharmaceutical-cologne",
   "metadata": {},
   "outputs": [],
   "source": []
  },
  {
   "cell_type": "code",
   "execution_count": null,
   "id": "adjusted-stability",
   "metadata": {},
   "outputs": [],
   "source": []
  },
  {
   "cell_type": "code",
   "execution_count": null,
   "id": "nuclear-slope",
   "metadata": {},
   "outputs": [],
   "source": []
  },
  {
   "cell_type": "code",
   "execution_count": null,
   "id": "acquired-nevada",
   "metadata": {},
   "outputs": [],
   "source": [
    "# create an instance of scaler to use\n",
    "scaler = MinMaxScaler()"
   ]
  },
  {
   "cell_type": "code",
   "execution_count": null,
   "id": "spare-segment",
   "metadata": {},
   "outputs": [],
   "source": [
    "time0=time()\n",
    "model_baseline_rskf_summary_list = []\n",
    "for i in models:\n",
    "    pipeline = Pipeline([('s', scaler), ('m', i[1])])\n",
    "    model_baseline_rskf_summary = result_rskf(x, y, pipeline, i[0])[0]\n",
    "    model_baseline_rskf_summary_list.append(model_baseline_rskf_summary)\n",
    "print(round((time()-time0)/60,2), 'sec')"
   ]
  },
  {
   "cell_type": "code",
   "execution_count": null,
   "id": "approximate-condition",
   "metadata": {},
   "outputs": [],
   "source": [
    "model_baseline_rskf_total = pd.concat([i for i in model_baseline_rskf_summary_list], axis=1)\n",
    "model_baseline_rskf_total"
   ]
  },
  {
   "cell_type": "code",
   "execution_count": null,
   "id": "lightweight-surgery",
   "metadata": {},
   "outputs": [],
   "source": [
    "model_baseline_rskf_total2 = pd.concat((i for i in model_baseline_rskf_summary_list), axis=1)\n",
    "model_baseline_rskf_total2"
   ]
  },
  {
   "cell_type": "code",
   "execution_count": null,
   "id": "cardiac-sacramento",
   "metadata": {},
   "outputs": [],
   "source": []
  },
  {
   "cell_type": "code",
   "execution_count": null,
   "id": "prime-authorization",
   "metadata": {},
   "outputs": [],
   "source": []
  },
  {
   "cell_type": "code",
   "execution_count": null,
   "id": "rapid-armstrong",
   "metadata": {},
   "outputs": [],
   "source": []
  },
  {
   "cell_type": "code",
   "execution_count": null,
   "id": "arabic-enlargement",
   "metadata": {},
   "outputs": [],
   "source": []
  },
  {
   "cell_type": "code",
   "execution_count": null,
   "id": "trained-teddy",
   "metadata": {},
   "outputs": [],
   "source": []
  },
  {
   "cell_type": "markdown",
   "id": "honest-resort",
   "metadata": {},
   "source": [
    "<a id='6.2'>\n",
    "    <h2 style='font-size:210%;'>\n",
    "        Logistic Regression\n",
    "    </h2>\n",
    "</a>"
   ]
  },
  {
   "cell_type": "markdown",
   "id": "serial-impossible",
   "metadata": {},
   "source": [
    "<a id='6.2.1'>\n",
    "    <h2 style='font-size:180%;'>\n",
    "        Model Attributes\n",
    "    </h2>\n",
    "</a>"
   ]
  },
  {
   "cell_type": "code",
   "execution_count": null,
   "id": "complete-california",
   "metadata": {},
   "outputs": [],
   "source": [
    "print(\"Logistic Regression Parameters:\")\n",
    "LR_params = LogisticRegression().get_params()\n",
    "LR_params"
   ]
  },
  {
   "cell_type": "code",
   "execution_count": null,
   "id": "incoming-split",
   "metadata": {},
   "outputs": [],
   "source": [
    "print(f\"\"\"Logistic Regression Default Parameter Values:\"\"\")\n",
    "LR_params_key = ['C','solver','max_iter']\n",
    "LR_params_key = {k:v for k,v in LR_params.items() if k in LR_params_key}\n",
    "print(LR_params_key)"
   ]
  },
  {
   "cell_type": "markdown",
   "id": "worth-terry",
   "metadata": {},
   "source": [
    "<a id='6.2.2.1'>\n",
    "    <h2 style='font-size:150%;'>\n",
    "        Define Model & Pipeline\n",
    "    </h2>\n",
    "</a>"
   ]
  },
  {
   "cell_type": "code",
   "execution_count": null,
   "id": "innovative-dakota",
   "metadata": {},
   "outputs": [],
   "source": [
    "model = LogisticRegression(class_weight='balanced', C=0.1, max_iter=10000, random_state=1)\n",
    "scaler = MinMaxScaler()\n",
    "pipeline = Pipeline([('s', scaler), ('m', model)])"
   ]
  },
  {
   "cell_type": "markdown",
   "id": "behavioral-master",
   "metadata": {},
   "source": [
    "<a id='6.2.2.2'>\n",
    "    <h2 style='font-size:150%;'>\n",
    "        Repeated Stratified K-Fold Cross Validation\n",
    "    </h2>\n",
    "</a>"
   ]
  },
  {
   "cell_type": "code",
   "execution_count": null,
   "id": "controversial-interview",
   "metadata": {},
   "outputs": [],
   "source": [
    "LR_baseline_rskf_inst = result_rskf(x, y, pipeline, 'LR')"
   ]
  },
  {
   "cell_type": "code",
   "execution_count": null,
   "id": "affected-february",
   "metadata": {},
   "outputs": [],
   "source": [
    "LR_baseline_rskf_summary = LR_baseline_rskf_inst[0]\n",
    "LR_baseline_rskf_full = LR_baseline_rskf_inst[1]"
   ]
  },
  {
   "cell_type": "code",
   "execution_count": null,
   "id": "imported-clock",
   "metadata": {},
   "outputs": [],
   "source": [
    "LR_baseline_rskf_summary"
   ]
  },
  {
   "cell_type": "code",
   "execution_count": null,
   "id": "above-engineering",
   "metadata": {},
   "outputs": [],
   "source": []
  },
  {
   "cell_type": "markdown",
   "id": "checked-crest",
   "metadata": {},
   "source": [
    "<a id='6.2.2.3'>\n",
    "    <h2 style='font-size:150%;'>\n",
    "        Train-Test Split Cross Validation\n",
    "    </h2>\n",
    "</a>"
   ]
  },
  {
   "cell_type": "code",
   "execution_count": null,
   "id": "dimensional-revolution",
   "metadata": {},
   "outputs": [],
   "source": [
    "LR_baseline_tts_inst = result_tts(x, y, pipeline, 'LR')"
   ]
  },
  {
   "cell_type": "code",
   "execution_count": null,
   "id": "special-september",
   "metadata": {},
   "outputs": [],
   "source": [
    "LR_baseline_tts_summary = LR_baseline_tts_inst[0]\n",
    "LR_baseline_tts_full = LR_baseline_tts_inst[1]\n",
    "LR_baseline_tts_cm = LR_baseline_tts_inst[2]\n",
    "LR_baseline_tts_y_pred = LR_baseline_tts_inst[3]\n",
    "LR_baseline_tts_y_test = LR_baseline_tts_inst[4]\n",
    "tp, fn, fp, tn = LR_baseline_tts_cm.ravel()"
   ]
  },
  {
   "cell_type": "code",
   "execution_count": null,
   "id": "excess-fitness",
   "metadata": {},
   "outputs": [],
   "source": [
    "LR_baseline_tts_summary"
   ]
  },
  {
   "cell_type": "markdown",
   "id": "martial-stupid",
   "metadata": {},
   "source": [
    "<a id='6.2.2.4'>\n",
    "    <h2 style='font-size:150%;'>\n",
    "        Performance Metrics - Manual Calculation\n",
    "    </h2>\n",
    "</a>"
   ]
  },
  {
   "cell_type": "code",
   "execution_count": null,
   "id": "nasty-violence",
   "metadata": {},
   "outputs": [],
   "source": [
    "recall = round(tp/(tp+fn),2)\n",
    "precision = round(tp/(tp+fp),2)\n",
    "f1 = round(2*(recall*precision)/(recall+precision),2)"
   ]
  },
  {
   "cell_type": "code",
   "execution_count": null,
   "id": "fantastic-chamber",
   "metadata": {},
   "outputs": [],
   "source": [
    "recall, precision, f1"
   ]
  },
  {
   "cell_type": "markdown",
   "id": "powerful-final",
   "metadata": {},
   "source": [
    "<a id='6.3'>\n",
    "    <h2 style='font-size:210%;'>\n",
    "        Gradient Boosting Classifier\n",
    "    </h2>\n",
    "</a>"
   ]
  },
  {
   "cell_type": "markdown",
   "id": "dramatic-reliance",
   "metadata": {},
   "source": [
    "For our emsemble baseline model we fit the XGBoost Classifier again without any feature selection or hyperparameter tuning. No normalization is necessary with this model since it is an ensemble of the tree methods. This means that removing outliers should not cause any material impact to the model's performance since the algorithm is not sensitive to monotonic transformations of its features."
   ]
  },
  {
   "cell_type": "markdown",
   "id": "bearing-basin",
   "metadata": {},
   "source": [
    "<a id='6.3.1'>\n",
    "    <h2 style='font-size:180%;'>\n",
    "        Model Attributes\n",
    "    </h2>\n",
    "</a>"
   ]
  },
  {
   "cell_type": "code",
   "execution_count": null,
   "id": "handmade-robin",
   "metadata": {},
   "outputs": [],
   "source": [
    "print(\"Gradient Boosting Classifier Parameters:\")\n",
    "GB_params = GradientBoostingClassifier().get_params()\n",
    "GB_params"
   ]
  },
  {
   "cell_type": "code",
   "execution_count": null,
   "id": "bottom-italian",
   "metadata": {},
   "outputs": [],
   "source": [
    "print(f\"\"\"Gradient Boosting Classifier Default Parameter Values:\"\"\")\n",
    "GB_params_key = ['n_estimators','max_depth','learning_rate']\n",
    "GB_params_key = {k:v for k,v in GB_params.items() if k in GB_params_key}\n",
    "print(GB_params_key)"
   ]
  },
  {
   "cell_type": "markdown",
   "id": "colored-substitute",
   "metadata": {},
   "source": [
    "<a id='6.3.2'>\n",
    "    <h2 style='font-size:180%;'>\n",
    "        Model Fit & Evaluation\n",
    "    </h2>\n",
    "</a>"
   ]
  },
  {
   "cell_type": "markdown",
   "id": "external-luxury",
   "metadata": {},
   "source": [
    "<a id='6.3.2.1'>\n",
    "    <h2 style='font-size:150%;'>\n",
    "        Define Model & Pipeline\n",
    "    </h2>\n",
    "</a>"
   ]
  },
  {
   "cell_type": "code",
   "execution_count": null,
   "id": "muslim-coach",
   "metadata": {},
   "outputs": [],
   "source": [
    "model = GradientBoostingClassifier(n_estimators=300, max_depth=3, learning_rate=0.1)\n",
    "pipeline = Pipeline([('m', model)])"
   ]
  },
  {
   "cell_type": "markdown",
   "id": "lined-desire",
   "metadata": {},
   "source": [
    "<a id='6.3.2.2'>\n",
    "    <h2 style='font-size:150%;'>\n",
    "        Repeated Stratified K-Fold Cross Validation\n",
    "    </h2>\n",
    "</a>"
   ]
  },
  {
   "cell_type": "code",
   "execution_count": null,
   "id": "olive-three",
   "metadata": {},
   "outputs": [],
   "source": [
    "GB_baseline_rskf_inst = result_rskf(x, y, pipeline, 'GB')"
   ]
  },
  {
   "cell_type": "code",
   "execution_count": null,
   "id": "eleven-cradle",
   "metadata": {},
   "outputs": [],
   "source": [
    "GB_baseline_rskf_summary = GB_baseline_rskf_inst[0]\n",
    "GB_baseline_rskf_full = GB_baseline_rskf_inst[1]"
   ]
  },
  {
   "cell_type": "code",
   "execution_count": null,
   "id": "skilled-neighborhood",
   "metadata": {},
   "outputs": [],
   "source": [
    "GB_baseline_rskf_summary"
   ]
  },
  {
   "cell_type": "markdown",
   "id": "foreign-douglas",
   "metadata": {},
   "source": [
    "<a id='6.3.2.3'>\n",
    "    <h2 style='font-size:150%;'>\n",
    "        Train-Test Split Cross Validation\n",
    "    </h2>\n",
    "</a>"
   ]
  },
  {
   "cell_type": "code",
   "execution_count": null,
   "id": "objective-birth",
   "metadata": {},
   "outputs": [],
   "source": [
    "GB_baseline_tts_inst = result_tts(x, y, pipeline, 'GB')"
   ]
  },
  {
   "cell_type": "code",
   "execution_count": null,
   "id": "unlimited-stanley",
   "metadata": {},
   "outputs": [],
   "source": [
    "GB_baseline_tts_summary = GB_baseline_tts_inst[0]\n",
    "GB_baseline_tts_full = GB_baseline_tts_inst[1]\n",
    "GB_baseline_tts_cm = GB_baseline_tts_inst[2]\n",
    "GB_baseline_tts_y_pred = GB_baseline_tts_inst[3]\n",
    "GB_baseline_tts_y_test = GB_baseline_tts_inst[4]\n",
    "tp, fn, fp, tn = GB_baseline_tts_cm.ravel()"
   ]
  },
  {
   "cell_type": "code",
   "execution_count": null,
   "id": "gentle-bosnia",
   "metadata": {},
   "outputs": [],
   "source": [
    "GB_baseline_tts_summary"
   ]
  },
  {
   "cell_type": "markdown",
   "id": "unnecessary-contrast",
   "metadata": {},
   "source": [
    "<a id='6.3.2.4'>\n",
    "    <h2 style='font-size:150%;'>\n",
    "        Performance Metrics - Manual Calculation\n",
    "    </h2>\n",
    "</a>"
   ]
  },
  {
   "cell_type": "code",
   "execution_count": null,
   "id": "together-metro",
   "metadata": {},
   "outputs": [],
   "source": [
    "recall = round(tp/(tp+fn),2)\n",
    "precision = round(tp/(tp+fp),2)\n",
    "f1 = round(2*(recall*precision)/(recall+precision),2)"
   ]
  },
  {
   "cell_type": "code",
   "execution_count": null,
   "id": "weekly-worse",
   "metadata": {},
   "outputs": [],
   "source": [
    "recall, precision, f1"
   ]
  },
  {
   "cell_type": "markdown",
   "id": "suitable-accused",
   "metadata": {},
   "source": [
    "<a id='6.4'>\n",
    "    <h2 style='font-size:210%;'>\n",
    "        Model Comparison\n",
    "    </h2>\n",
    "</a>"
   ]
  },
  {
   "cell_type": "markdown",
   "id": "backed-growth",
   "metadata": {},
   "source": [
    "<a id='6.4.1'>\n",
    "    <h2 style='font-size:180%;'>\n",
    "        Logistic Regression vs. Gradient Boosting Classifier\n",
    "    </h2>\n",
    "</a>"
   ]
  },
  {
   "cell_type": "code",
   "execution_count": null,
   "id": "dense-rogers",
   "metadata": {},
   "outputs": [],
   "source": [
    "baseline_rskf_summary = pd.concat([LR_baseline_rskf_summary, GB_baseline_rskf_summary], axis=1)"
   ]
  },
  {
   "cell_type": "code",
   "execution_count": null,
   "id": "affecting-window",
   "metadata": {},
   "outputs": [],
   "source": [
    "baseline_rskf_summary"
   ]
  },
  {
   "cell_type": "code",
   "execution_count": null,
   "id": "guided-monitoring",
   "metadata": {},
   "outputs": [],
   "source": [
    "baseline_tts_summary = pd.concat([LR_baseline_tts_summary, GB_baseline_tts_summary], axis=1)"
   ]
  },
  {
   "cell_type": "code",
   "execution_count": null,
   "id": "regular-apache",
   "metadata": {},
   "outputs": [],
   "source": [
    "baseline_tts_summary"
   ]
  },
  {
   "cell_type": "markdown",
   "id": "alpine-brick",
   "metadata": {},
   "source": [
    "<a id='7'>\n",
    "    <h2 style='background-color:rgb(141, 153, 165);\n",
    "               font-size:240%;\n",
    "               color:white;\n",
    "               text-align:center;\n",
    "               margin: auto;\n",
    "               padding: 10px;'>\n",
    "        Outlier Treatment\n",
    "    </h2>\n",
    "</a>"
   ]
  },
  {
   "cell_type": "markdown",
   "id": "analyzed-brooks",
   "metadata": {},
   "source": [
    "In the Data Visualization section, we saw a large number of outliers in the box plots. Let's explore the effects of removing the outliers using Isolation Forest."
   ]
  },
  {
   "cell_type": "markdown",
   "id": "patent-imagination",
   "metadata": {},
   "source": [
    "<a id='7.1'>\n",
    "    <h2 style='font-size:210%;'>\n",
    "        Isolation Forest\n",
    "    </h2>\n",
    "</a>"
   ]
  },
  {
   "cell_type": "markdown",
   "id": "induced-tribune",
   "metadata": {},
   "source": [
    "Isolation Forest is a tree-based one-class classification method that isolates observations that are few in number and different in their attributes or feature space without the usage of any distance or density measure like One-Class SVM."
   ]
  },
  {
   "cell_type": "markdown",
   "id": "special-netherlands",
   "metadata": {},
   "source": [
    "Tree structures are designed to separate out anomalies. The algorithm has shallow roots for the isolated examples and deeper roots for the normal examples. The two important hyperparameters in the model are `n_estimators` and `contamination`. `n_estimators` sets the number of trees and `contamination` sets the percentage of outliers to detect."
   ]
  },
  {
   "cell_type": "markdown",
   "id": "elder-identity",
   "metadata": {},
   "source": [
    "**Isolation Forest pros:**\n",
    "* There is no need of scaling the values in the feature space.\n",
    "* It is an effective method when value distributions can not be assumed.\n",
    "* It has few parameters, this makes this method fairly robust and easy to optimize.\n",
    "* Scikit-Learn’s implementation is easy to use and the documentation is superb.\n",
    "\n",
    "**Isolation Forest cons:**\n",
    "* The Python implementation exists only in the development version of Sklearn.\n",
    "* Visualizing results is complicated.\n",
    "* If not correctly optimized, training time can be very long and computationally expensive.\n",
    "\n",
    "[Source: Towards Data Science - A Brief Overview of Outlier Detection Techniques](https://towardsdatascience.com/a-brief-overview-of-outlier-detection-techniques-1e0b2c19e561)"
   ]
  },
  {
   "cell_type": "markdown",
   "id": "protecting-curtis",
   "metadata": {},
   "source": [
    "<a id='7.2'>\n",
    "    <h2 style='font-size:210%;'>\n",
    "        Fit on All Classes\n",
    "    </h2>\n",
    "</a>"
   ]
  },
  {
   "cell_type": "code",
   "execution_count": null,
   "id": "lined-selection",
   "metadata": {},
   "outputs": [],
   "source": [
    "x_train, x_test, y_train, y_test = train_test_split(x, y, test_size=0.2, random_state=1, shuffle=True, stratify=y)"
   ]
  },
  {
   "cell_type": "markdown",
   "id": "greatest-screw",
   "metadata": {},
   "source": [
    "The goal here is to test on all training dataset without the outliers."
   ]
  },
  {
   "cell_type": "markdown",
   "id": "necessary-express",
   "metadata": {},
   "source": [
    "<h2 style='font-size:180%;'>\n",
    "    Model Attributes\n",
    "</h2>"
   ]
  },
  {
   "cell_type": "code",
   "execution_count": null,
   "id": "married-constitution",
   "metadata": {},
   "outputs": [],
   "source": [
    "print(\"Isolation Forest Parameters:\")\n",
    "IF_params = IsolationForest().get_params()\n",
    "IF_params"
   ]
  },
  {
   "cell_type": "code",
   "execution_count": null,
   "id": "embedded-competition",
   "metadata": {},
   "outputs": [],
   "source": [
    "print(f\"\"\"Isolation Forest Default Parameter Values:\"\"\")\n",
    "IF_params_key = ['contamination','n_estimators','max_features']\n",
    "IF_params_key = {k:v for k,v in IF_params.items() if k in IF_params_key}\n",
    "print(IF_params_key)"
   ]
  },
  {
   "cell_type": "code",
   "execution_count": null,
   "id": "domestic-masters",
   "metadata": {},
   "outputs": [],
   "source": [
    "count = Counter(y)\n",
    "print('`y` split:')\n",
    "count"
   ]
  },
  {
   "cell_type": "code",
   "execution_count": null,
   "id": "entertaining-cassette",
   "metadata": {},
   "outputs": [],
   "source": [
    "count = Counter(y_train)\n",
    "print('`y_train` split - pre-treatment:')\n",
    "count"
   ]
  },
  {
   "cell_type": "markdown",
   "id": "athletic-fortune",
   "metadata": {},
   "source": [
    "<!-- I chose 5% for the sample size of outliers. In other words, we will keep 95% of the data. -->"
   ]
  },
  {
   "cell_type": "code",
   "execution_count": null,
   "id": "quarterly-health",
   "metadata": {},
   "outputs": [],
   "source": [
    "def result_tts_with_data(x_train, x_test, y_train, y_test, pipeline, mod_disp_name):\n",
    "    time_0 = time()\n",
    "    pipeline.fit(x_train, y_train)\n",
    "    time_1 = time()\n",
    "    y_pred = pipeline.predict(x_test)\n",
    "    time_2 = time()\n",
    "    result = {}\n",
    "    result['fit_time'] = round(time_1-time_0, 2)\n",
    "    result['score_time'] = round(time_2-time_1, 2)\n",
    "    result['accuracy'] = round(accuracy_score(y_test, y_pred), 2)\n",
    "    result['precision'] = round(precision_score(y_test, y_pred), 2)\n",
    "    result['recall'] = round(recall_score(y_test, y_pred), 2)\n",
    "    result['f1'] = round(f1_score(y_test, y_pred), 2)\n",
    "    result['f2'] = round(fbeta_score(y_test, y_pred, beta=2), 2)\n",
    "    conf_mat = confusion_matrix(y_test, y_pred, labels=[1,0])\n",
    "    df = pd.DataFrame(result, index=[mod_disp_name]).T\n",
    "    return df, result, conf_mat, y_pred, y_test"
   ]
  },
  {
   "cell_type": "code",
   "execution_count": null,
   "id": "corporate-holder",
   "metadata": {},
   "outputs": [],
   "source": [
    "model_outlier = IsolationForest(contamination='auto')\n",
    "y_pred = model_outlier.fit_predict(x_train)"
   ]
  },
  {
   "cell_type": "code",
   "execution_count": null,
   "id": "blocked-performance",
   "metadata": {},
   "outputs": [],
   "source": [
    "# removing outliers from the training set\n",
    "x_train, y_train = x_train[y_pred!=-1,:], y_train[y_pred!=-1]"
   ]
  },
  {
   "cell_type": "code",
   "execution_count": null,
   "id": "alpine-nebraska",
   "metadata": {},
   "outputs": [],
   "source": [
    "count = Counter(y_train)\n",
    "print('`y_train` split - post-treatment:')\n",
    "count"
   ]
  },
  {
   "cell_type": "code",
   "execution_count": null,
   "id": "quality-belize",
   "metadata": {},
   "outputs": [],
   "source": [
    "print('Percentage of churned customer in the new data: %.2f%%' % (count[1]/len(y_train)*100))"
   ]
  },
  {
   "cell_type": "code",
   "execution_count": null,
   "id": "comfortable-salem",
   "metadata": {},
   "outputs": [],
   "source": [
    "print('Shape of the new train set for `x_train` and `y_train`, respectively:')\n",
    "print(x_train.shape, y_train.shape)"
   ]
  },
  {
   "cell_type": "code",
   "execution_count": null,
   "id": "convinced-siemens",
   "metadata": {},
   "outputs": [],
   "source": [
    "print('Sample size of total data: %.2f%%' % (len(x_train)/8101*100))"
   ]
  },
  {
   "cell_type": "markdown",
   "id": "insured-mystery",
   "metadata": {},
   "source": [
    "<a id='7.2.1'>\n",
    "    <h2 style='font-size:180%;'>\n",
    "        Logistic Regression\n",
    "    </h2>\n",
    "</a>"
   ]
  },
  {
   "cell_type": "code",
   "execution_count": null,
   "id": "floating-delta",
   "metadata": {},
   "outputs": [],
   "source": [
    "model = LogisticRegression(class_weight='balanced', C=0.1, max_iter=10000, random_state=1)\n",
    "pipeline = Pipeline([('m', model)])"
   ]
  },
  {
   "cell_type": "code",
   "execution_count": null,
   "id": "known-passage",
   "metadata": {},
   "outputs": [],
   "source": [
    "LR_outlier_tts_inst = result_tts_with_data(x_train, x_test, y_train, y_test, pipeline, 'LR')"
   ]
  },
  {
   "cell_type": "code",
   "execution_count": null,
   "id": "fancy-jewelry",
   "metadata": {},
   "outputs": [],
   "source": [
    "LR_outlier_tts_summary = LR_outlier_tts_inst[0]\n",
    "LR_outlier_tts_full = LR_outlier_tts_inst[1]\n",
    "LR_outlier_tts_cm = LR_outlier_tts_inst[2]\n",
    "LR_outlier_tts_y_pred = LR_outlier_tts_inst[3]\n",
    "LR_outlier_tts_y_test = LR_outlier_tts_inst[4]"
   ]
  },
  {
   "cell_type": "code",
   "execution_count": null,
   "id": "dietary-exercise",
   "metadata": {},
   "outputs": [],
   "source": [
    "LR_baseline_vs_outlier_tts = pd.concat([LR_outlier_tts_summary, LR_baseline_tts_summary], axis=1)\n",
    "LR_baseline_vs_outlier_tts.columns=pd.MultiIndex.from_product([['LR'],['Trmt','Ctrl']])"
   ]
  },
  {
   "cell_type": "code",
   "execution_count": null,
   "id": "applied-place",
   "metadata": {},
   "outputs": [],
   "source": [
    "LR_baseline_vs_outlier_tts"
   ]
  },
  {
   "cell_type": "markdown",
   "id": "proud-refrigerator",
   "metadata": {},
   "source": [
    "<a id='7.2.2'>\n",
    "    <h2 style='font-size:180%;'>\n",
    "        Gradient Boosting Classifier\n",
    "    </h2>\n",
    "</a>"
   ]
  },
  {
   "cell_type": "code",
   "execution_count": null,
   "id": "determined-asian",
   "metadata": {},
   "outputs": [],
   "source": [
    "model = GradientBoostingClassifier(n_estimators=300, max_depth=3, learning_rate=0.1)\n",
    "pipeline = Pipeline([('m', model)])"
   ]
  },
  {
   "cell_type": "code",
   "execution_count": null,
   "id": "falling-region",
   "metadata": {},
   "outputs": [],
   "source": [
    "GB_outlier_tts_inst = result_tts_with_data(x_train, x_test, y_train, y_test, pipeline, 'GB')"
   ]
  },
  {
   "cell_type": "code",
   "execution_count": null,
   "id": "latest-tradition",
   "metadata": {},
   "outputs": [],
   "source": [
    "GB_outlier_tts_summary = GB_outlier_tts_inst[0]\n",
    "GB_outlier_tts_full = GB_outlier_tts_inst[1]\n",
    "GB_outlier_tts_cm = GB_outlier_tts_inst[2]\n",
    "GB_outlier_tts_y_pred = GB_outlier_tts_inst[3]\n",
    "GB_outlier_tts_y_test = GB_outlier_tts_inst[4]"
   ]
  },
  {
   "cell_type": "code",
   "execution_count": null,
   "id": "thorough-planet",
   "metadata": {},
   "outputs": [],
   "source": [
    "GB_baseline_vs_outlier_tts = pd.concat([GB_outlier_tts_summary, GB_baseline_tts_summary], axis=1)\n",
    "GB_baseline_vs_outlier_tts.columns=pd.MultiIndex.from_product([['GB'],['Trmt','Ctrl']])"
   ]
  },
  {
   "cell_type": "code",
   "execution_count": null,
   "id": "geological-tennis",
   "metadata": {},
   "outputs": [],
   "source": [
    "GB_baseline_vs_outlier_tts"
   ]
  },
  {
   "cell_type": "markdown",
   "id": "unlikely-missouri",
   "metadata": {},
   "source": [
    "<a id='7.3'>\n",
    "    <h2 style='font-size:210%;'>\n",
    "        Evaluate Results\n",
    "    </h2>\n",
    "</a>"
   ]
  },
  {
   "cell_type": "markdown",
   "id": "future-jaguar",
   "metadata": {},
   "source": [
    "As expected, the linear model (logistic regression) saw a slight improvement in F-2 score (more gain in precision) while the ensemble model (Gradient Boosting Classifier) saw a large hit due to information loss. We may want to revisit removing outliers after scaling, feature selection/extraction, and/or resampling."
   ]
  },
  {
   "cell_type": "code",
   "execution_count": null,
   "id": "demanding-vehicle",
   "metadata": {},
   "outputs": [],
   "source": [
    "baseline_vs_outlier_tts = pd.concat([LR_baseline_vs_outlier_tts, GB_baseline_vs_outlier_tts], axis=1)\n",
    "baseline_vs_outlier_tts"
   ]
  }
 ],
 "metadata": {
  "kernelspec": {
   "display_name": "Python 3",
   "language": "python",
   "name": "python3"
  },
  "language_info": {
   "codemirror_mode": {
    "name": "ipython",
    "version": 3
   },
   "file_extension": ".py",
   "mimetype": "text/x-python",
   "name": "python",
   "nbconvert_exporter": "python",
   "pygments_lexer": "ipython3",
   "version": "3.8.5"
  }
 },
 "nbformat": 4,
 "nbformat_minor": 5
}
