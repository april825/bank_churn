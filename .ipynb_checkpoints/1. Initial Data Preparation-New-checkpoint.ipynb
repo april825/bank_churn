{
 "cells": [
  {
   "cell_type": "markdown",
   "id": "vulnerable-governor",
   "metadata": {},
   "source": [
    "<h1 style=\"background-color:rgb(67, 77, 86);\n",
    "           font-size:300%;\n",
    "           font-style: oblique;\n",
    "           color:white;\n",
    "           text-align:center;\n",
    "           margin: auto;\n",
    "           padding: 20px;\">Predicting Bank Churners</h1>"
   ]
  },
  {
   "cell_type": "markdown",
   "id": "complex-google",
   "metadata": {},
   "source": [
    "<h2 style=\"background-color:rgb(141, 153, 165);\n",
    "           font-size:250%;\n",
    "           color:white;\n",
    "           text-align:center;\n",
    "           margin: auto;\n",
    "           padding: 10px;\">Chapter 1: Initial Data Preparation</h2>"
   ]
  },
  {
   "cell_type": "markdown",
   "id": "suspected-investigation",
   "metadata": {},
   "source": [
    "<a id='1.1'>\n",
    "    <h2 style='font-size:180%;'>\n",
    "        Mission</h2></a>"
   ]
  },
  {
   "cell_type": "markdown",
   "id": "fabulous-radical",
   "metadata": {},
   "source": [
    "<figure>\n",
    "    <blockquote cite='https://www.kaggle.com/sakshigoyal7/credit-card-customers/tasks?taskId=2729'>\n",
    "        <p style='font-size:110%;\n",
    "                  color:hsl(208, 12%, 30%);'><i>Our top priority in this business problem is to identify customers who are getting churned. Even if we predict non-churning customers as churned, it won't harm our business. But predicting churning customers as non-churning will do. So recall needs to be higher. Till now, I have managed to get a recall of 62%.</i></p>\n",
    "    </blockquote>\n",
    "    <figcaption>—Sakshi Goyal, <cite>Credit Card Customers, Kaggle</cite></figcaption>"
   ]
  },
  {
   "cell_type": "markdown",
   "id": "public-dairy",
   "metadata": {},
   "source": [
    "<h2 style='font-size:180%;'>\n",
    "    Table of Contents\n",
    "</h2>"
   ]
  },
  {
   "cell_type": "markdown",
   "id": "developing-austin",
   "metadata": {},
   "source": [
    "* [Introduction](#1)\n",
    "    * [Libraries](#1.1)\n",
    "    * [Data Loading](#1.2)\n",
    "* [Initial Data Preparation](#2)\n",
    "    * [Treatment of `Unknown`'s](#2.1)\n",
    "    * [Data Types](#2.2)\n",
    "      * [Discrete Variable Classes](#2.2.1)\n",
    "      * [Continuous & Discrete Variables](#2.2.2)\n",
    "    * [Data Type Transformation](#2.3)\n",
    "      * [Non-Ordinal - Integer to Float](#2.3.1)\n",
    "      * [Non-Ordinal - String to Dummies](#2.3.2)\n",
    "      * [Ordinal - String to Ordinal](#2.3.3)\n",
    "      * [Feature Engineering Without Data Leakage](#2.3.4)\n",
    "    * [Cleaning, Inspection, Saving](#2.4)"
   ]
  },
  {
   "cell_type": "markdown",
   "id": "affiliated-morris",
   "metadata": {},
   "source": [
    "<a id=\"1\"></a>\n",
    "<h2 style=\"background-color:rgb(141, 153, 165);\n",
    "           font-size:250%;\n",
    "           color:white;\n",
    "           text-align:center;\n",
    "           margin: auto;\n",
    "           padding: 10px;\">Introduction</h2>"
   ]
  },
  {
   "cell_type": "markdown",
   "id": "worldwide-perception",
   "metadata": {},
   "source": [
    "<a id='1.1'>\n",
    "    <h2 style='font-size:210%;'>\n",
    "        Libraries</h2></a>"
   ]
  },
  {
   "cell_type": "code",
   "execution_count": 1,
   "id": "divine-electricity",
   "metadata": {},
   "outputs": [],
   "source": [
    "# general\n",
    "from scipy import stats \n",
    "import numpy as np\n",
    "import pandas as pd\n",
    "import random as rd\n",
    "import copy\n",
    "\n",
    "from sklearn.preprocessing import LabelEncoder\n",
    "\n",
    "# settings\n",
    "pd.options.display.float_format = \"{:,.2f}\".format\n",
    "\n",
    "# saving\n",
    "import os"
   ]
  },
  {
   "cell_type": "markdown",
   "id": "civilian-smooth",
   "metadata": {},
   "source": [
    "<a id='1.3'>\n",
    "    <h2 style='font-size:210%;'>\n",
    "        Data Loading</h2></a>"
   ]
  },
  {
   "cell_type": "code",
   "execution_count": 2,
   "id": "exterior-parallel",
   "metadata": {},
   "outputs": [],
   "source": [
    "# load data\n",
    "d = pd.read_csv('source/bankchurn.csv')\n",
    "d = d.iloc[:,:-2]  # deleting last two cols as instructed\n",
    "d = d.drop([\"CLIENTNUM\"],axis=1) # drop var not needed"
   ]
  },
  {
   "cell_type": "code",
   "execution_count": 3,
   "id": "colonial-accommodation",
   "metadata": {},
   "outputs": [],
   "source": [
    "# rename columns\n",
    "d.columns = ['churn', 'age', 'gender', 'dependents',\n",
    "             'educ_cat', 'marstat', 'inc_cat', 'card_cat',\n",
    "             'mo_on_book', 'prod_ct', 'mo_inactive_r12',\n",
    "             'contr_ct_r12', 'credlim_avg_r12', 'revbal_avg_r12',\n",
    "             'opentobuy_avg_r12', 'chng_tx_amt_q4_q1', 'tx_amt_r12',\n",
    "             'tx_ct_r12', 'chng_tx_ct_q4_q1', 'utilratio_avg']"
   ]
  },
  {
   "cell_type": "code",
   "execution_count": 4,
   "id": "downtown-utilization",
   "metadata": {},
   "outputs": [],
   "source": [
    "# reorder columns\n",
    "d = d[['churn', 'age', 'gender', 'educ_cat', 'inc_cat', 'marstat', 'dependents',\n",
    "       'card_cat', 'prod_ct', 'mo_on_book', 'mo_inactive_r12', 'contr_ct_r12', \n",
    "       'revbal_avg_r12', 'credlim_avg_r12', 'opentobuy_avg_r12', 'utilratio_avg',\n",
    "       'tx_amt_r12', 'tx_ct_r12', 'chng_tx_amt_q4_q1', 'chng_tx_ct_q4_q1']]"
   ]
  },
  {
   "cell_type": "code",
   "execution_count": 5,
   "id": "hazardous-behalf",
   "metadata": {},
   "outputs": [],
   "source": [
    "# reformat text to fix weird latex problem\n",
    "d['inc_cat'] = d['inc_cat'].replace({'$40K - $60K': '$40K-60K',\n",
    "                                     '$60K - $80K': '$60K-80K',\n",
    "                                     '$80K - $120K': '$80K-120K',\n",
    "                                     '$120K +':'$120K+'})"
   ]
  },
  {
   "cell_type": "code",
   "execution_count": 6,
   "id": "crude-iraqi",
   "metadata": {},
   "outputs": [
    {
     "data": {
      "text/html": [
       "<div>\n",
       "<style scoped>\n",
       "    .dataframe tbody tr th:only-of-type {\n",
       "        vertical-align: middle;\n",
       "    }\n",
       "\n",
       "    .dataframe tbody tr th {\n",
       "        vertical-align: top;\n",
       "    }\n",
       "\n",
       "    .dataframe thead th {\n",
       "        text-align: right;\n",
       "    }\n",
       "</style>\n",
       "<table border=\"1\" class=\"dataframe\">\n",
       "  <thead>\n",
       "    <tr style=\"text-align: right;\">\n",
       "      <th></th>\n",
       "      <th>churn</th>\n",
       "      <th>age</th>\n",
       "      <th>gender</th>\n",
       "      <th>educ_cat</th>\n",
       "      <th>inc_cat</th>\n",
       "      <th>marstat</th>\n",
       "      <th>dependents</th>\n",
       "      <th>card_cat</th>\n",
       "      <th>prod_ct</th>\n",
       "      <th>mo_on_book</th>\n",
       "      <th>mo_inactive_r12</th>\n",
       "      <th>contr_ct_r12</th>\n",
       "      <th>revbal_avg_r12</th>\n",
       "      <th>credlim_avg_r12</th>\n",
       "      <th>opentobuy_avg_r12</th>\n",
       "      <th>utilratio_avg</th>\n",
       "      <th>tx_amt_r12</th>\n",
       "      <th>tx_ct_r12</th>\n",
       "      <th>chng_tx_amt_q4_q1</th>\n",
       "      <th>chng_tx_ct_q4_q1</th>\n",
       "    </tr>\n",
       "  </thead>\n",
       "  <tbody>\n",
       "    <tr>\n",
       "      <th>9099</th>\n",
       "      <td>Attrited Customer</td>\n",
       "      <td>43</td>\n",
       "      <td>M</td>\n",
       "      <td>Graduate</td>\n",
       "      <td>$40K-60K</td>\n",
       "      <td>Single</td>\n",
       "      <td>3</td>\n",
       "      <td>Blue</td>\n",
       "      <td>5</td>\n",
       "      <td>35</td>\n",
       "      <td>3</td>\n",
       "      <td>2</td>\n",
       "      <td>787</td>\n",
       "      <td>6,080.00</td>\n",
       "      <td>5,293.00</td>\n",
       "      <td>0.13</td>\n",
       "      <td>4866</td>\n",
       "      <td>56</td>\n",
       "      <td>0.97</td>\n",
       "      <td>0.65</td>\n",
       "    </tr>\n",
       "    <tr>\n",
       "      <th>9674</th>\n",
       "      <td>Existing Customer</td>\n",
       "      <td>57</td>\n",
       "      <td>M</td>\n",
       "      <td>Post-Graduate</td>\n",
       "      <td>$80K-120K</td>\n",
       "      <td>Single</td>\n",
       "      <td>3</td>\n",
       "      <td>Blue</td>\n",
       "      <td>3</td>\n",
       "      <td>50</td>\n",
       "      <td>1</td>\n",
       "      <td>1</td>\n",
       "      <td>2293</td>\n",
       "      <td>34,516.00</td>\n",
       "      <td>32,223.00</td>\n",
       "      <td>0.07</td>\n",
       "      <td>14287</td>\n",
       "      <td>114</td>\n",
       "      <td>0.80</td>\n",
       "      <td>0.75</td>\n",
       "    </tr>\n",
       "    <tr>\n",
       "      <th>5135</th>\n",
       "      <td>Attrited Customer</td>\n",
       "      <td>55</td>\n",
       "      <td>F</td>\n",
       "      <td>High School</td>\n",
       "      <td>$40K-60K</td>\n",
       "      <td>Single</td>\n",
       "      <td>3</td>\n",
       "      <td>Blue</td>\n",
       "      <td>5</td>\n",
       "      <td>47</td>\n",
       "      <td>4</td>\n",
       "      <td>3</td>\n",
       "      <td>1689</td>\n",
       "      <td>2,687.00</td>\n",
       "      <td>998.00</td>\n",
       "      <td>0.63</td>\n",
       "      <td>2370</td>\n",
       "      <td>34</td>\n",
       "      <td>0.71</td>\n",
       "      <td>0.79</td>\n",
       "    </tr>\n",
       "  </tbody>\n",
       "</table>\n",
       "</div>"
      ],
      "text/plain": [
       "                  churn  age gender       educ_cat    inc_cat marstat  \\\n",
       "9099  Attrited Customer   43      M       Graduate   $40K-60K  Single   \n",
       "9674  Existing Customer   57      M  Post-Graduate  $80K-120K  Single   \n",
       "5135  Attrited Customer   55      F    High School   $40K-60K  Single   \n",
       "\n",
       "      dependents card_cat  prod_ct  mo_on_book  mo_inactive_r12  contr_ct_r12  \\\n",
       "9099           3     Blue        5          35                3             2   \n",
       "9674           3     Blue        3          50                1             1   \n",
       "5135           3     Blue        5          47                4             3   \n",
       "\n",
       "      revbal_avg_r12  credlim_avg_r12  opentobuy_avg_r12  utilratio_avg  \\\n",
       "9099             787         6,080.00           5,293.00           0.13   \n",
       "9674            2293        34,516.00          32,223.00           0.07   \n",
       "5135            1689         2,687.00             998.00           0.63   \n",
       "\n",
       "      tx_amt_r12  tx_ct_r12  chng_tx_amt_q4_q1  chng_tx_ct_q4_q1  \n",
       "9099        4866         56               0.97              0.65  \n",
       "9674       14287        114               0.80              0.75  \n",
       "5135        2370         34               0.71              0.79  "
      ]
     },
     "execution_count": 6,
     "metadata": {},
     "output_type": "execute_result"
    }
   ],
   "source": [
    "rd.seed(1)\n",
    "d.sample(3)"
   ]
  },
  {
   "cell_type": "code",
   "execution_count": 7,
   "id": "liquid-price",
   "metadata": {},
   "outputs": [],
   "source": [
    "# save\n",
    "d.to_csv('source\\d_orig.csv',index=False)"
   ]
  },
  {
   "cell_type": "markdown",
   "id": "detailed-pearl",
   "metadata": {},
   "source": [
    "<a id=\"2\"></a>\n",
    "<h2 style=\"background-color:rgb(141, 153, 165);\n",
    "           font-size:250%;\n",
    "           color:white;\n",
    "           text-align:center;\n",
    "           margin: auto;\n",
    "           padding: 10px;\">Initial Data Preparation</h2>"
   ]
  },
  {
   "cell_type": "markdown",
   "id": "advised-maldives",
   "metadata": {},
   "source": [
    "We now conduct minimal data preprocessing that does not contribute to data leakage. Data leakage occurs when information from the test set leaks into the train set resulting in more optimistic performance metrics but less robust model against new data. To prevent data leakage, we will avoid using statistics such as mean and standard deviation etc. from the whole dataset to scale, impute, and feature engineer. Instead, we apply simple data type transformations and row-based feature engineering."
   ]
  },
  {
   "cell_type": "markdown",
   "id": "baking-luxury",
   "metadata": {},
   "source": [
    "<a id='2.1'>\n",
    "    <h2 style='font-size:210%;'>\n",
    "        Treatment of <code>Unknown</code>'s</h2></a>"
   ]
  },
  {
   "cell_type": "markdown",
   "id": "downtown-blank",
   "metadata": {},
   "source": [
    "In this section, we examine the costs and benefits of dropping all the `nan`-equivalent classes `Unknown`'s identified in `educ_cat`, `inc_cat` and `marstat`. Below is the remaining sample if we were to drop all the `Unknown`'s in order to eliminate noise as much as possible."
   ]
  },
  {
   "cell_type": "code",
   "execution_count": 8,
   "id": "dominican-spanking",
   "metadata": {},
   "outputs": [],
   "source": [
    "def d_leftover(data, varlist):\n",
    "    dic_leftover = {}\n",
    "    for col in varlist:\n",
    "        orig_data_ct = len(data)\n",
    "        rem_data_ct = len(data.drop(data[col][data[col]=='Unknown'].index))\n",
    "        perc_captured = round(rem_data_ct/orig_data_ct*100,0)\n",
    "        dic_leftover[data[col].name] = [rem_data_ct, perc_captured]\n",
    "        print(f\"\"\"Remaining sample when dropping `{data[col].name}`: {rem_data_ct} cases or {perc_captured}% of the original data \\n\"\"\")\n",
    "    rem_data_ct_if_all = len(d[d!='Unknown'].dropna())\n",
    "    perc_captured_if_all = round(rem_data_ct_if_all/orig_data_ct*100,0)\n",
    "    print(f\"\"\"Remaining sample when dropping all `unknowns`: {rem_data_ct_if_all} cases or {perc_captured_if_all}% of the original data \\n\"\"\")"
   ]
  },
  {
   "cell_type": "code",
   "execution_count": 9,
   "id": "statistical-union",
   "metadata": {},
   "outputs": [
    {
     "name": "stdout",
     "output_type": "stream",
     "text": [
      "Remaining sample when dropping `educ_cat`: 8608 cases or 85.0% of the original data \n",
      "\n",
      "Remaining sample when dropping `inc_cat`: 9015 cases or 89.0% of the original data \n",
      "\n",
      "Remaining sample when dropping `marstat`: 9378 cases or 93.0% of the original data \n",
      "\n",
      "Remaining sample when dropping all `unknowns`: 7081 cases or 70.0% of the original data \n",
      "\n"
     ]
    }
   ],
   "source": [
    "d_leftover(d, [\"educ_cat\",\"inc_cat\",\"marstat\"])"
   ]
  },
  {
   "cell_type": "markdown",
   "id": "collective-battery",
   "metadata": {},
   "source": [
    "The loss of sample is 30% if we drop all of the `Unknown`'s. For this reason, we will not drop any of these \"Unknown\" cases. The \"Unknown\" cases for `educ_cat` will be assigned the same value as the `Uneducated` class, a value of `0`. Assumption is that most people who did not provide their education level might have been disinclined to do so due to their lower education status. Same assumption applies to `inc_cat`. We will transform `marstat` to dummies as `marstat` will be treated as non-ordinal."
   ]
  },
  {
   "cell_type": "markdown",
   "id": "plastic-sapphire",
   "metadata": {},
   "source": [
    "<a id='2.2'>\n",
    "    <h2 style='font-size:210%;'>\n",
    "        Data Types</h2></a>"
   ]
  },
  {
   "cell_type": "code",
   "execution_count": 10,
   "id": "lonely-median",
   "metadata": {},
   "outputs": [
    {
     "data": {
      "text/plain": [
       "array([dtype('O'), dtype('int64'), dtype('float64')], dtype=object)"
      ]
     },
     "execution_count": 10,
     "metadata": {},
     "output_type": "execute_result"
    }
   ],
   "source": [
    "# types of data present in data\n",
    "d.dtypes.unique()"
   ]
  },
  {
   "cell_type": "code",
   "execution_count": 11,
   "id": "discrete-release",
   "metadata": {},
   "outputs": [
    {
     "data": {
      "text/plain": [
       "churn                 object\n",
       "age                    int64\n",
       "gender                object\n",
       "educ_cat              object\n",
       "inc_cat               object\n",
       "marstat               object\n",
       "dependents             int64\n",
       "card_cat              object\n",
       "prod_ct                int64\n",
       "mo_on_book             int64\n",
       "mo_inactive_r12        int64\n",
       "contr_ct_r12           int64\n",
       "revbal_avg_r12         int64\n",
       "credlim_avg_r12      float64\n",
       "opentobuy_avg_r12    float64\n",
       "utilratio_avg        float64\n",
       "tx_amt_r12             int64\n",
       "tx_ct_r12              int64\n",
       "chng_tx_amt_q4_q1    float64\n",
       "chng_tx_ct_q4_q1     float64\n",
       "dtype: object"
      ]
     },
     "execution_count": 11,
     "metadata": {},
     "output_type": "execute_result"
    }
   ],
   "source": [
    "# current data type for each column\n",
    "d.dtypes"
   ]
  },
  {
   "cell_type": "markdown",
   "id": "varying-monitor",
   "metadata": {},
   "source": [
    "<a id='2.2.1'>\n",
    "    <h2 style='font-size:180%;'>\n",
    "        Discrete Variable Classes</h2></a>"
   ]
  },
  {
   "cell_type": "code",
   "execution_count": 12,
   "id": "unexpected-assurance",
   "metadata": {},
   "outputs": [
    {
     "name": "stdout",
     "output_type": "stream",
     "text": [
      "churn\n",
      "    Data Type: object\n",
      "    Unique Counts: 2\n",
      "    Unique Values: ['Attrited Customer' 'Existing Customer']\n",
      "\n",
      "age\n",
      "    Data Type: int64\n",
      "    Unique Counts: 45\n",
      "    Unique Values: [26 27 28 29 30 31 32 33 34 35 36 37 38 39 40 41 42 43 44 45 46 47 48 49\n",
      " 50 51 52 53 54 55 56 57 58 59 60 61 62 63 64 65 66 67 68 70 73]\n",
      "\n",
      "gender\n",
      "    Data Type: object\n",
      "    Unique Counts: 2\n",
      "    Unique Values: ['F' 'M']\n",
      "\n",
      "educ_cat\n",
      "    Data Type: object\n",
      "    Unique Counts: 7\n",
      "    Unique Values: ['College' 'Doctorate' 'Graduate' 'High School' 'Post-Graduate'\n",
      " 'Uneducated' 'Unknown']\n",
      "\n",
      "inc_cat\n",
      "    Data Type: object\n",
      "    Unique Counts: 6\n",
      "    Unique Values: ['$120K+' '$40K-60K' '$60K-80K' '$80K-120K' 'Less than $40K' 'Unknown']\n",
      "\n",
      "marstat\n",
      "    Data Type: object\n",
      "    Unique Counts: 4\n",
      "    Unique Values: ['Divorced' 'Married' 'Single' 'Unknown']\n",
      "\n",
      "dependents\n",
      "    Data Type: int64\n",
      "    Unique Counts: 6\n",
      "    Unique Values: [0 1 2 3 4 5]\n",
      "\n",
      "card_cat\n",
      "    Data Type: object\n",
      "    Unique Counts: 4\n",
      "    Unique Values: ['Blue' 'Gold' 'Platinum' 'Silver']\n",
      "\n",
      "prod_ct\n",
      "    Data Type: int64\n",
      "    Unique Counts: 6\n",
      "    Unique Values: [1 2 3 4 5 6]\n",
      "\n",
      "mo_on_book\n",
      "    Data Type: int64\n",
      "    Unique Counts: 44\n",
      "    Unique Values: [13 14 15 16 17 18 19 20 21 22 23 24 25 26 27 28 29 30 31 32 33 34 35 36\n",
      " 37 38 39 40 41 42 43 44 45 46 47 48 49 50 51 52 53 54 55 56]\n",
      "\n",
      "mo_inactive_r12\n",
      "    Data Type: int64\n",
      "    Unique Counts: 7\n",
      "    Unique Values: [0 1 2 3 4 5 6]\n",
      "\n",
      "contr_ct_r12\n",
      "    Data Type: int64\n",
      "    Unique Counts: 7\n",
      "    Unique Values: [0 1 2 3 4 5 6]\n",
      "\n",
      "revbal_avg_r12\n",
      "    Data Type: int64\n",
      "    Unique Counts: 1974\n",
      "    Unique Values: [   0  132  134 ... 2513 2514 2517]\n",
      "\n",
      "tx_amt_r12\n",
      "    Data Type: int64\n",
      "    Unique Counts: 5033\n",
      "    Unique Values: [  510   530   563 ... 17744 17995 18484]\n",
      "\n",
      "tx_ct_r12\n",
      "    Data Type: int64\n",
      "    Unique Counts: 126\n",
      "    Unique Values: [ 10  11  12  13  14  15  16  17  18  19  20  21  22  23  24  25  26  27\n",
      "  28  29  30  31  32  33  34  35  36  37  38  39  40  41  42  43  44  45\n",
      "  46  47  48  49  50  51  52  53  54  55  56  57  58  59  60  61  62  63\n",
      "  64  65  66  67  68  69  70  71  72  73  74  75  76  77  78  79  80  81\n",
      "  82  83  84  85  86  87  88  89  90  91  92  93  94  95  96  97  98  99\n",
      " 100 101 102 103 104 105 106 107 108 109 110 111 112 113 114 115 116 117\n",
      " 118 119 120 121 122 123 124 125 126 127 128 129 130 131 132 134 138 139]\n",
      "\n"
     ]
    }
   ],
   "source": [
    "d_discrete = d.select_dtypes(['int64','object'])\n",
    "for col in d_discrete:\n",
    "    print(f\"\"\"{d_discrete[col].name}\n",
    "    Data Type: {d_discrete[col].dtype}\n",
    "    Unique Counts: {d_discrete[col].nunique()}\n",
    "    Unique Values: {d_discrete[col].sort_values().unique()}\\n\"\"\")"
   ]
  },
  {
   "cell_type": "markdown",
   "id": "dental-gasoline",
   "metadata": {},
   "source": [
    "<a id='2.2.2'>\n",
    "    <h2 style='font-size:180%;'>\n",
    "        Continuous & Discrete Variables</h2></a>"
   ]
  },
  {
   "cell_type": "code",
   "execution_count": 13,
   "id": "damaged-postcard",
   "metadata": {},
   "outputs": [
    {
     "name": "stdout",
     "output_type": "stream",
     "text": [
      "Discrete Variables: ['churn', 'age', 'gender', 'educ_cat', 'inc_cat', 'marstat', 'dependents', 'card_cat', 'prod_ct', 'mo_on_book', 'mo_inactive_r12', 'contr_ct_r12', 'revbal_avg_r12', 'tx_amt_r12', 'tx_ct_r12']\n",
      "\n",
      "Continuous Variables: ['credlim_avg_r12', 'opentobuy_avg_r12', 'utilratio_avg', 'chng_tx_amt_q4_q1', 'chng_tx_ct_q4_q1']\n"
     ]
    }
   ],
   "source": [
    "# split continuous & discrete variables\n",
    "d_discrete = d.select_dtypes(['int64','object'])\n",
    "d_continuous = d.select_dtypes(['float64'])\n",
    "print(f\"\"\"Discrete Variables: {list(d_discrete)}\\n\\nContinuous Variables: {list(d_continuous)}\"\"\")"
   ]
  },
  {
   "cell_type": "markdown",
   "id": "composed-marine",
   "metadata": {},
   "source": [
    "<a id='2.3'>\n",
    "    <h2 style='font-size:210%;'>\n",
    "        Data Type Transformation</h2></a>"
   ]
  },
  {
   "cell_type": "markdown",
   "id": "australian-sending",
   "metadata": {},
   "source": [
    "<a id='2.3.1'>\n",
    "    <h2 style='font-size:180%;'>\n",
    "        Non-Ordinal - Integer to Float</h2></a>"
   ]
  },
  {
   "cell_type": "markdown",
   "id": "vulnerable-occasion",
   "metadata": {},
   "source": [
    "* `revbal_avg_r12`\n",
    "* `tx_amt_r12`"
   ]
  },
  {
   "cell_type": "markdown",
   "id": "solid-london",
   "metadata": {},
   "source": [
    "These variables are dollar amounts and are continuous up to tenths place. Therefore, we need to transform the data types to `float` from `int`."
   ]
  },
  {
   "cell_type": "code",
   "execution_count": 14,
   "id": "jewish-daughter",
   "metadata": {},
   "outputs": [],
   "source": [
    "d['revbal_avg_r12'] = d['revbal_avg_r12'].astype(float)\n",
    "d['tx_amt_r12'] = d['tx_amt_r12'].astype(float)"
   ]
  },
  {
   "cell_type": "markdown",
   "id": "tired-creature",
   "metadata": {},
   "source": [
    "<a id='2.3.2'>\n",
    "    <h2 style='font-size:180%;'>\n",
    "        Non-Ordinal - String to Dummies</h2></a>"
   ]
  },
  {
   "cell_type": "markdown",
   "id": "complimentary-mortality",
   "metadata": {},
   "source": [
    "#### *Bi-Class*\n",
    "\n",
    "* `churn`\n",
    "* `gender`"
   ]
  },
  {
   "cell_type": "code",
   "execution_count": 15,
   "id": "enabling-cathedral",
   "metadata": {},
   "outputs": [],
   "source": [
    "d['churn'] = d['churn'].map({'Existing Customer': 0, 'Attrited Customer': 1})\n",
    "d['gender'] = d['gender'].map({'M': 1, 'F': 0})"
   ]
  },
  {
   "cell_type": "markdown",
   "id": "satellite-camping",
   "metadata": {},
   "source": [
    "#### *Multi-Class*\n",
    "\n",
    "* `marstat`"
   ]
  },
  {
   "cell_type": "markdown",
   "id": "brief-number",
   "metadata": {},
   "source": [
    "In my first \"1. Initial Data Preparation\" notebook, I transformed the variables `marstat` and `card_cat` into dummies, but I wanted to explore how much explanatory power these variables can add when `marstat` is label-encoded and `card_cat` is interpreted as ordinal. The variable `marstat` would have to be taken as categorical as there is no hierarchy within different classes. We will transform this variable in this section. We will transform  `card_cat` in the section below. This is where this notebook \"1. Initial Data Preparation-New\" differs from \"1. Initial Data Preparation.\""
   ]
  },
  {
   "cell_type": "markdown",
   "id": "happy-forge",
   "metadata": {},
   "source": [
    "***First 5 Rows Before Treatment:***"
   ]
  },
  {
   "cell_type": "code",
   "execution_count": 16,
   "id": "presidential-zealand",
   "metadata": {
    "jupyter": {
     "source_hidden": true
    }
   },
   "outputs": [
    {
     "data": {
      "text/plain": [
       "0    Married\n",
       "1     Single\n",
       "2    Married\n",
       "3    Unknown\n",
       "4    Married\n",
       "Name: marstat, dtype: object"
      ]
     },
     "execution_count": 16,
     "metadata": {},
     "output_type": "execute_result"
    }
   ],
   "source": [
    "d['marstat'].head(5)"
   ]
  },
  {
   "cell_type": "markdown",
   "id": "missing-rates",
   "metadata": {},
   "source": [
    "***First 5 Rows After Treatment:***"
   ]
  },
  {
   "cell_type": "code",
   "execution_count": 17,
   "id": "loaded-addiction",
   "metadata": {
    "tags": []
   },
   "outputs": [
    {
     "data": {
      "text/plain": [
       "0    1\n",
       "1    2\n",
       "2    1\n",
       "3    3\n",
       "4    1\n",
       "Name: marstat, dtype: int32"
      ]
     },
     "execution_count": 17,
     "metadata": {},
     "output_type": "execute_result"
    }
   ],
   "source": [
    "d['marstat'] = LabelEncoder().fit_transform(d['marstat'])\n",
    "d['marstat'].head(5)"
   ]
  },
  {
   "cell_type": "code",
   "execution_count": 18,
   "id": "current-glass",
   "metadata": {
    "jupyter": {
     "source_hidden": true
    },
    "tags": []
   },
   "outputs": [],
   "source": [
    "# d_dummies_marstat = pd.get_dummies(data=d['marstat'], prefix='marstat')\n",
    "# d_dummies_card = pd.get_dummies(data=d['card_cat'], prefix='card')\n",
    "# d = pd.concat([d, d_dummies_marstat, d_dummies_card], axis=1)\n",
    "# d.sample(3)"
   ]
  },
  {
   "cell_type": "markdown",
   "id": "nasty-ensemble",
   "metadata": {},
   "source": [
    "<a id='2.3.3'>\n",
    "    <h2 style='font-size:180%;'>\n",
    "        Ordinal - String to Ordinal</h2></a>"
   ]
  },
  {
   "cell_type": "markdown",
   "id": "incident-issue",
   "metadata": {},
   "source": [
    "* `card_cat`\n",
    "* `educ_cat`\n",
    "* `inc_cat`"
   ]
  },
  {
   "cell_type": "markdown",
   "id": "jewish-living",
   "metadata": {},
   "source": [
    "Although 93% of customers hold the Blue card, I suspect that the more loyal group of customers (non-attrited customers) would be more likely to hold premium cards. This is where we may see the greatest benefits of turning dummies into ordinal variables."
   ]
  },
  {
   "cell_type": "code",
   "execution_count": 19,
   "id": "legendary-gothic",
   "metadata": {
    "jupyter": {
     "source_hidden": true
    }
   },
   "outputs": [
    {
     "name": "stdout",
     "output_type": "stream",
     "text": [
      "Majority of the customers hold Blue card.\n",
      "Percentage of Blue card holders:  93.18%\n"
     ]
    }
   ],
   "source": [
    "print(f'Majority of the customers hold Blue card.\\nPercentage of Blue card holders: {(d.card_cat.value_counts(normalize=True)[0]*100): .2f}%')"
   ]
  },
  {
   "cell_type": "code",
   "execution_count": 20,
   "id": "mounted-identity",
   "metadata": {
    "jupyter": {
     "source_hidden": true
    },
    "tags": []
   },
   "outputs": [
    {
     "data": {
      "text/html": [
       "<div>\n",
       "<style scoped>\n",
       "    .dataframe tbody tr th:only-of-type {\n",
       "        vertical-align: middle;\n",
       "    }\n",
       "\n",
       "    .dataframe tbody tr th {\n",
       "        vertical-align: top;\n",
       "    }\n",
       "\n",
       "    .dataframe thead th {\n",
       "        text-align: right;\n",
       "    }\n",
       "</style>\n",
       "<table border=\"1\" class=\"dataframe\">\n",
       "  <thead>\n",
       "    <tr style=\"text-align: right;\">\n",
       "      <th></th>\n",
       "      <th>Ct.</th>\n",
       "      <th>%</th>\n",
       "    </tr>\n",
       "  </thead>\n",
       "  <tbody>\n",
       "    <tr>\n",
       "      <th>Blue</th>\n",
       "      <td>9436</td>\n",
       "      <td>93.18%</td>\n",
       "    </tr>\n",
       "    <tr>\n",
       "      <th>Silver</th>\n",
       "      <td>555</td>\n",
       "      <td>5.48%</td>\n",
       "    </tr>\n",
       "    <tr>\n",
       "      <th>Gold</th>\n",
       "      <td>116</td>\n",
       "      <td>1.15%</td>\n",
       "    </tr>\n",
       "    <tr>\n",
       "      <th>Platinum</th>\n",
       "      <td>20</td>\n",
       "      <td>0.2%</td>\n",
       "    </tr>\n",
       "  </tbody>\n",
       "</table>\n",
       "</div>"
      ],
      "text/plain": [
       "           Ct.       %\n",
       "Blue      9436  93.18%\n",
       "Silver     555   5.48%\n",
       "Gold       116   1.15%\n",
       "Platinum    20    0.2%"
      ]
     },
     "execution_count": 20,
     "metadata": {},
     "output_type": "execute_result"
    }
   ],
   "source": [
    "summary_card = pd.concat([d.card_cat.value_counts(), d.card_cat.value_counts(normalize=True)], axis=1)\n",
    "summary_card.columns = ['Ct.', '%']\n",
    "summary_card['%'] = (round(summary_card['%']*100,2)).astype(str) + '%'\n",
    "summary_card"
   ]
  },
  {
   "cell_type": "code",
   "execution_count": 21,
   "id": "spread-paradise",
   "metadata": {},
   "outputs": [],
   "source": [
    "d['card_cat'] = d['card_cat'].map({'Blue':0,\n",
    "                                   'Silver':1,\n",
    "                                   'Gold':2,\n",
    "                                   'Platinum':3})\n",
    "\n",
    "d['educ'] = d['educ_cat'].map({'Unknown':0,\n",
    "                               'Uneducated':0,\n",
    "                               'High School':1,\n",
    "                               'College':2,\n",
    "                               'Graduate':3,\n",
    "                               'Post-Graduate':4,\n",
    "                               'Doctorate':5})\n",
    "\n",
    "d['inc'] = d['inc_cat'].map({'Unknown':0,\n",
    "                             'Less than $40K':1,\n",
    "                             '$40K-60K':2,\n",
    "                             '$60K-80K':3,\n",
    "                             '$80K-120K':4,\n",
    "                             '$120K+':5})"
   ]
  },
  {
   "cell_type": "markdown",
   "id": "administrative-flush",
   "metadata": {},
   "source": [
    "<a id='2.3.4'>\n",
    "    <h2 style='font-size:180%;'>\n",
    "        Feature Engineering Without Data Leakage</h2></a>"
   ]
  },
  {
   "cell_type": "code",
   "execution_count": 22,
   "id": "verbal-surprise",
   "metadata": {},
   "outputs": [],
   "source": [
    "# add a variable just to explore\n",
    "d['tx_amt_pertx_r12'] = d['tx_amt_r12']/d['tx_ct_r12']"
   ]
  },
  {
   "cell_type": "markdown",
   "id": "interested-overall",
   "metadata": {},
   "source": [
    "<a id='2.4'>\n",
    "    <h2 style='font-size:210%;'>\n",
    "        Cleaning, Inspection, Saving</h2></a>"
   ]
  },
  {
   "cell_type": "code",
   "execution_count": 23,
   "id": "initial-passenger",
   "metadata": {},
   "outputs": [],
   "source": [
    "# save full dataset\n",
    "d_full = copy.deepcopy(d)"
   ]
  },
  {
   "cell_type": "code",
   "execution_count": 24,
   "id": "minor-kelly",
   "metadata": {},
   "outputs": [],
   "source": [
    "# drop unnecessary variables for the data to fit \n",
    "d = d.drop(d[['educ_cat', 'inc_cat']], axis=1)"
   ]
  },
  {
   "cell_type": "code",
   "execution_count": 25,
   "id": "fresh-approval",
   "metadata": {},
   "outputs": [
    {
     "data": {
      "text/html": [
       "<div>\n",
       "<style scoped>\n",
       "    .dataframe tbody tr th:only-of-type {\n",
       "        vertical-align: middle;\n",
       "    }\n",
       "\n",
       "    .dataframe tbody tr th {\n",
       "        vertical-align: top;\n",
       "    }\n",
       "\n",
       "    .dataframe thead th {\n",
       "        text-align: right;\n",
       "    }\n",
       "</style>\n",
       "<table border=\"1\" class=\"dataframe\">\n",
       "  <thead>\n",
       "    <tr style=\"text-align: right;\">\n",
       "      <th></th>\n",
       "      <th>churn</th>\n",
       "      <th>age</th>\n",
       "      <th>gender</th>\n",
       "      <th>marstat</th>\n",
       "      <th>dependents</th>\n",
       "      <th>card_cat</th>\n",
       "      <th>prod_ct</th>\n",
       "      <th>mo_on_book</th>\n",
       "      <th>mo_inactive_r12</th>\n",
       "      <th>contr_ct_r12</th>\n",
       "      <th>...</th>\n",
       "      <th>credlim_avg_r12</th>\n",
       "      <th>opentobuy_avg_r12</th>\n",
       "      <th>utilratio_avg</th>\n",
       "      <th>tx_amt_r12</th>\n",
       "      <th>tx_ct_r12</th>\n",
       "      <th>chng_tx_amt_q4_q1</th>\n",
       "      <th>chng_tx_ct_q4_q1</th>\n",
       "      <th>educ</th>\n",
       "      <th>inc</th>\n",
       "      <th>tx_amt_pertx_r12</th>\n",
       "    </tr>\n",
       "  </thead>\n",
       "  <tbody>\n",
       "    <tr>\n",
       "      <th>3716</th>\n",
       "      <td>0</td>\n",
       "      <td>60</td>\n",
       "      <td>1</td>\n",
       "      <td>2</td>\n",
       "      <td>0</td>\n",
       "      <td>0</td>\n",
       "      <td>6</td>\n",
       "      <td>36</td>\n",
       "      <td>3</td>\n",
       "      <td>2</td>\n",
       "      <td>...</td>\n",
       "      <td>24,528.00</td>\n",
       "      <td>22,132.00</td>\n",
       "      <td>0.10</td>\n",
       "      <td>4,070.00</td>\n",
       "      <td>67</td>\n",
       "      <td>0.81</td>\n",
       "      <td>0.72</td>\n",
       "      <td>0</td>\n",
       "      <td>4</td>\n",
       "      <td>60.75</td>\n",
       "    </tr>\n",
       "    <tr>\n",
       "      <th>9009</th>\n",
       "      <td>0</td>\n",
       "      <td>44</td>\n",
       "      <td>0</td>\n",
       "      <td>2</td>\n",
       "      <td>2</td>\n",
       "      <td>2</td>\n",
       "      <td>1</td>\n",
       "      <td>30</td>\n",
       "      <td>3</td>\n",
       "      <td>3</td>\n",
       "      <td>...</td>\n",
       "      <td>15,365.00</td>\n",
       "      <td>14,735.00</td>\n",
       "      <td>0.04</td>\n",
       "      <td>7,890.00</td>\n",
       "      <td>91</td>\n",
       "      <td>0.81</td>\n",
       "      <td>0.69</td>\n",
       "      <td>0</td>\n",
       "      <td>1</td>\n",
       "      <td>86.70</td>\n",
       "    </tr>\n",
       "    <tr>\n",
       "      <th>4108</th>\n",
       "      <td>0</td>\n",
       "      <td>49</td>\n",
       "      <td>1</td>\n",
       "      <td>2</td>\n",
       "      <td>1</td>\n",
       "      <td>0</td>\n",
       "      <td>6</td>\n",
       "      <td>36</td>\n",
       "      <td>3</td>\n",
       "      <td>4</td>\n",
       "      <td>...</td>\n",
       "      <td>34,516.00</td>\n",
       "      <td>34,516.00</td>\n",
       "      <td>0.00</td>\n",
       "      <td>2,512.00</td>\n",
       "      <td>45</td>\n",
       "      <td>0.67</td>\n",
       "      <td>0.32</td>\n",
       "      <td>0</td>\n",
       "      <td>4</td>\n",
       "      <td>55.82</td>\n",
       "    </tr>\n",
       "  </tbody>\n",
       "</table>\n",
       "<p>3 rows × 21 columns</p>\n",
       "</div>"
      ],
      "text/plain": [
       "      churn  age  gender  marstat  dependents  card_cat  prod_ct  mo_on_book  \\\n",
       "3716      0   60       1        2           0         0        6          36   \n",
       "9009      0   44       0        2           2         2        1          30   \n",
       "4108      0   49       1        2           1         0        6          36   \n",
       "\n",
       "      mo_inactive_r12  contr_ct_r12  ...  credlim_avg_r12  opentobuy_avg_r12  \\\n",
       "3716                3             2  ...        24,528.00          22,132.00   \n",
       "9009                3             3  ...        15,365.00          14,735.00   \n",
       "4108                3             4  ...        34,516.00          34,516.00   \n",
       "\n",
       "      utilratio_avg  tx_amt_r12  tx_ct_r12  chng_tx_amt_q4_q1  \\\n",
       "3716           0.10    4,070.00         67               0.81   \n",
       "9009           0.04    7,890.00         91               0.81   \n",
       "4108           0.00    2,512.00         45               0.67   \n",
       "\n",
       "      chng_tx_ct_q4_q1  educ  inc  tx_amt_pertx_r12  \n",
       "3716              0.72     0    4             60.75  \n",
       "9009              0.69     0    1             86.70  \n",
       "4108              0.32     0    4             55.82  \n",
       "\n",
       "[3 rows x 21 columns]"
      ]
     },
     "execution_count": 25,
     "metadata": {},
     "output_type": "execute_result"
    }
   ],
   "source": [
    "# inspect new data\n",
    "rd.seed(1)\n",
    "d.sample(3)"
   ]
  },
  {
   "cell_type": "code",
   "execution_count": 26,
   "id": "desperate-pitch",
   "metadata": {},
   "outputs": [
    {
     "data": {
      "text/plain": [
       "churn                  int64\n",
       "age                    int64\n",
       "gender                 int64\n",
       "marstat                int32\n",
       "dependents             int64\n",
       "card_cat               int64\n",
       "prod_ct                int64\n",
       "mo_on_book             int64\n",
       "mo_inactive_r12        int64\n",
       "contr_ct_r12           int64\n",
       "revbal_avg_r12       float64\n",
       "credlim_avg_r12      float64\n",
       "opentobuy_avg_r12    float64\n",
       "utilratio_avg        float64\n",
       "tx_amt_r12           float64\n",
       "tx_ct_r12              int64\n",
       "chng_tx_amt_q4_q1    float64\n",
       "chng_tx_ct_q4_q1     float64\n",
       "educ                   int64\n",
       "inc                    int64\n",
       "tx_amt_pertx_r12     float64\n",
       "dtype: object"
      ]
     },
     "execution_count": 26,
     "metadata": {},
     "output_type": "execute_result"
    }
   ],
   "source": [
    "# inspect new data types\n",
    "d.dtypes"
   ]
  },
  {
   "cell_type": "code",
   "execution_count": 27,
   "id": "outstanding-swaziland",
   "metadata": {},
   "outputs": [],
   "source": [
    "d.to_csv('source\\d_num2.csv',index=False)"
   ]
  }
 ],
 "metadata": {
  "kernelspec": {
   "display_name": "Python 3",
   "language": "python",
   "name": "python3"
  },
  "language_info": {
   "codemirror_mode": {
    "name": "ipython",
    "version": 3
   },
   "file_extension": ".py",
   "mimetype": "text/x-python",
   "name": "python",
   "nbconvert_exporter": "python",
   "pygments_lexer": "ipython3",
   "version": "3.8.5"
  }
 },
 "nbformat": 4,
 "nbformat_minor": 5
}
