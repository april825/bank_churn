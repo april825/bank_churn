{
 "cells": [
  {
   "cell_type": "code",
   "execution_count": null,
   "id": "advance-suicide",
   "metadata": {},
   "outputs": [],
   "source": [
    "%pwd"
   ]
  },
  {
   "cell_type": "code",
   "execution_count": 3,
   "id": "wicked-designer",
   "metadata": {},
   "outputs": [
    {
     "name": "stdout",
     "output_type": "stream",
     "text": [
      "Source\\BankChurners.csv\n",
      "Source\\d_minproc.csv\n",
      "Source\\img\\Depiction-of-a-Precision-Recall-Curve.png\n",
      "Source\\img\\Depiction-of-a-ROC-Curve.jpg\n",
      "Source\\img\\How-to-Choose-a-Metric-for-Imbalanced-Classification-latest.png\n",
      "Source\\img\\How-to-Spot-Check-Imbalanced-Machine-Learning-Algorithms.png\n",
      "Source\\img\\How-to-Spot-Check-Machine-Learning-Algorithms.png\n",
      "Source\\img\\QQPlot-Distributions.png\n",
      "Source\\img\\QQPlot-Distributions2.png\n"
     ]
    }
   ],
   "source": [
    "import os\n",
    "for dirname, _, filenames in os.walk(\"Source\"):\n",
    "    for filename in filenames:\n",
    "        print(os.path.join(dirname, filename))\n",
    "# Any results you write to the current directory are saved as output."
   ]
  },
  {
   "cell_type": "code",
   "execution_count": 30,
   "id": "modular-label",
   "metadata": {},
   "outputs": [
    {
     "name": "stdout",
     "output_type": "stream",
     "text": [
      "('Source', ['img'], ['BankChurners.csv', 'd_minproc.csv'])\n",
      "('Source\\\\img', [], ['Depiction-of-a-Precision-Recall-Curve.png', 'Depiction-of-a-ROC-Curve.jpg', 'How-to-Choose-a-Metric-for-Imbalanced-Classification-latest.png', 'How-to-Spot-Check-Imbalanced-Machine-Learning-Algorithms.png', 'How-to-Spot-Check-Machine-Learning-Algorithms.png', 'QQPlot-Distributions.png', 'QQPlot-Distributions2.png'])\n"
     ]
    }
   ],
   "source": [
    "for i in os.walk(\"Source\"):\n",
    "    print(i)"
   ]
  },
  {
   "cell_type": "code",
   "execution_count": 22,
   "id": "sitting-jaguar",
   "metadata": {},
   "outputs": [
    {
     "name": "stdout",
     "output_type": "stream",
     "text": [
      "Something wrong with specified directory.\n",
      "Exception-  (<class 'FileNotFoundError'>, FileNotFoundError(2, 'The system cannot find the path specified'), <traceback object at 0x00000225AAAC5F40>)\n",
      "Restoring the path\n",
      "Current directory is- C:\\Users\\April Leclair\\Data Science\\Projects\\Bank Churn\n"
     ]
    }
   ],
   "source": [
    "# initial directory \n",
    "cwd = os.getcwd() \n",
    "\n",
    "# some non existing directory \n",
    "fd = 'false_dir / temp'\n",
    "  \n",
    "# trying to insert to flase directory \n",
    "try: \n",
    "    os.chdir(fd) \n",
    "    print(\"Inserting inside-\", os.getcwd()) \n",
    "      \n",
    "# Caching the exception     \n",
    "except: \n",
    "    print(\"Something wrong with specified directory.\\nException- \", sys.exc_info()) \n",
    "            \n",
    "# handling with finally           \n",
    "finally: \n",
    "    print(\"Restoring the path\") \n",
    "    os.chdir(cwd) \n",
    "    print(\"Current directory is-\", os.getcwd()) "
   ]
  }
 ],
 "metadata": {
  "kernelspec": {
   "display_name": "Python 3",
   "language": "python",
   "name": "python3"
  },
  "language_info": {
   "codemirror_mode": {
    "name": "ipython",
    "version": 3
   },
   "file_extension": ".py",
   "mimetype": "text/x-python",
   "name": "python",
   "nbconvert_exporter": "python",
   "pygments_lexer": "ipython3",
   "version": "3.8.5"
  }
 },
 "nbformat": 4,
 "nbformat_minor": 5
}
