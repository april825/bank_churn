{
 "cells": [
  {
   "cell_type": "markdown",
   "id": "subjective-holiday",
   "metadata": {},
   "source": [
    "03/23/2021"
   ]
  },
  {
   "cell_type": "markdown",
   "id": "nonprofit-ministry",
   "metadata": {},
   "source": [
    "# Table of Content\n",
    "\n",
    "1. [How to Fix k-Fold Cross-Validation for Imbalanced Classification](#1)\n",
    "    * [Repeated Stratified K-Fold Cross-Validation](#1.1)\n",
    "    * [Stratified K-Fold Cross-Validation](#1.2)\n",
    "    * [Train-Test Split Cross-Validation](#1.3)\n",
    "2. [How to Avoid Data Leakage](#2)\n",
    "    * [With Data Leakage](#2.1)\n",
    "    * [Without Data Leakage](#2.2)\n",
    "3. [Example of Stratified K-Fold Cross Validation & Data Leakage](#3)\n",
    "    * [With Data Leakage (Original)](#3.1)\n",
    "    * [Without Data Leakage (Fixed by Myself)](#3.2)"
   ]
  },
  {
   "cell_type": "markdown",
   "id": "casual-temple",
   "metadata": {},
   "source": [
    "<a id='1'>\n",
    "    <h2 style='font-size:210%;'>\n",
    "        How to Fix k-Fold Cross-Validation for Imbalanced Classification\n",
    "    </h2>\n",
    " </a>"
   ]
  },
  {
   "cell_type": "markdown",
   "id": "bigger-indiana",
   "metadata": {},
   "source": [
    "[Source: How to Fix k-Fold Cross-Validation for Imbalanced Classification, *Machine Learning Mastery*](https://machinelearningmastery.com/cross-validation-for-imbalanced-classification/)"
   ]
  },
  {
   "cell_type": "markdown",
   "id": "balanced-monroe",
   "metadata": {},
   "source": [
    "<a id='1.1'>\n",
    "    <h2 style='font-size:180%;'>\n",
    "        Repeated Stratified K-Fold Cross-Validation\n",
    "    </h2>\n",
    " </a>"
   ]
  },
  {
   "cell_type": "code",
   "execution_count": 1,
   "id": "early-clark",
   "metadata": {},
   "outputs": [
    {
     "name": "stdout",
     "output_type": "stream",
     "text": [
      "50\n"
     ]
    }
   ],
   "source": [
    "# example of stratified k-fold cross-validation with an imbalanced dataset\n",
    "from sklearn.datasets import make_classification\n",
    "from sklearn.model_selection import RepeatedStratifiedKFold\n",
    "# generate 2 class dataset\n",
    "X, y = make_classification(n_samples=1000, n_classes=2, weights=[0.99, 0.01], flip_y=0, random_state=1)\n",
    "kfold = RepeatedStratifiedKFold(n_splits=5, random_state=1)\n",
    "# enumerate the splits and summarize the distributions\n",
    "for train_ix, test_ix in kfold.split(X, y):\n",
    "\t# select rows\n",
    "\ttrain_X, test_X = X[train_ix], X[test_ix]\n",
    "\ttrain_y, test_y = y[train_ix], y[test_ix]\n",
    "\t# summarize train and test composition\n",
    "\ttrain_0, train_1 = len(train_y[train_y==0]), len(train_y[train_y==1])\n",
    "\ttest_0, test_1 = len(test_y[test_y==0]), len(test_y[test_y==1])\n",
    "# \tprint('>Train: 0=%d, 1=%d, Test: 0=%d, 1=%d' % (train_0, train_1, test_0, test_1))\n",
    "c = 0\n",
    "for train_ix, test_ix in kfold.split(X, y):\n",
    "    c += 1\n",
    "print(c)"
   ]
  },
  {
   "cell_type": "markdown",
   "id": "logical-asian",
   "metadata": {},
   "source": [
    "<a id='1.2'>\n",
    "    <h2 style='font-size:180%;'>\n",
    "        Stratified K-Fold Cross-Validation\n",
    "    </h2>\n",
    " </a>"
   ]
  },
  {
   "cell_type": "code",
   "execution_count": 2,
   "id": "enormous-dragon",
   "metadata": {},
   "outputs": [
    {
     "name": "stdout",
     "output_type": "stream",
     "text": [
      ">Train: 0=792, 1=8, Test: 0=198, 1=2\n",
      ">Train: 0=792, 1=8, Test: 0=198, 1=2\n",
      ">Train: 0=792, 1=8, Test: 0=198, 1=2\n",
      ">Train: 0=792, 1=8, Test: 0=198, 1=2\n",
      ">Train: 0=792, 1=8, Test: 0=198, 1=2\n"
     ]
    }
   ],
   "source": [
    "# example of stratified k-fold cross-validation with an imbalanced dataset\n",
    "from sklearn.datasets import make_classification\n",
    "from sklearn.model_selection import StratifiedKFold\n",
    "# generate 2 class dataset\n",
    "X, y = make_classification(n_samples=1000, n_classes=2, weights=[0.99, 0.01], flip_y=0, random_state=1)\n",
    "kfold = StratifiedKFold(n_splits=5, shuffle=True, random_state=1)\n",
    "# enumerate the splits and summarize the distributions\n",
    "for train_ix, test_ix in kfold.split(X, y):\n",
    "\t# select rows\n",
    "\ttrain_X, test_X = X[train_ix], X[test_ix]\n",
    "\ttrain_y, test_y = y[train_ix], y[test_ix]\n",
    "\t# summarize train and test composition\n",
    "\ttrain_0, train_1 = len(train_y[train_y==0]), len(train_y[train_y==1])\n",
    "\ttest_0, test_1 = len(test_y[test_y==0]), len(test_y[test_y==1])\n",
    "\tprint('>Train: 0=%d, 1=%d, Test: 0=%d, 1=%d' % (train_0, train_1, test_0, test_1))"
   ]
  },
  {
   "cell_type": "markdown",
   "id": "central-landscape",
   "metadata": {},
   "source": [
    "<a id='1.3'>\n",
    "    <h2 style='font-size:180%;'>\n",
    "        Train-Test Split Cross-Validation\n",
    "    </h2>\n",
    " </a>"
   ]
  },
  {
   "cell_type": "code",
   "execution_count": 3,
   "id": "endless-poster",
   "metadata": {},
   "outputs": [
    {
     "name": "stdout",
     "output_type": "stream",
     "text": [
      ">Train: 0=495, 1=5, Test: 0=495, 1=5\n"
     ]
    }
   ],
   "source": [
    "# example of stratified train/test split with an imbalanced dataset\n",
    "from sklearn.datasets import make_classification\n",
    "from sklearn.model_selection import train_test_split\n",
    "# generate 2 class dataset\n",
    "X, y = make_classification(n_samples=1000, n_classes=2, weights=[0.99, 0.01], flip_y=0, random_state=1)\n",
    "# split into train/test sets with same class ratio\n",
    "trainX, testX, trainy, testy = train_test_split(X, y, test_size=0.5, random_state=2, stratify=y)\n",
    "# summarize\n",
    "train_0, train_1 = len(trainy[trainy==0]), len(trainy[trainy==1])\n",
    "test_0, test_1 = len(testy[testy==0]), len(testy[testy==1])\n",
    "print('>Train: 0=%d, 1=%d, Test: 0=%d, 1=%d' % (train_0, train_1, test_0, test_1))"
   ]
  },
  {
   "cell_type": "markdown",
   "id": "handled-soldier",
   "metadata": {},
   "source": [
    "<a id='2'>\n",
    "    <h2 style='font-size:210%;'>\n",
    "        How to Avoid Data Leakage\n",
    "    </h2>\n",
    " </a>"
   ]
  },
  {
   "cell_type": "markdown",
   "id": "undefined-microphone",
   "metadata": {},
   "source": [
    "[Source: How to Avoid Data Leakage When Performing Data Preparation, *Machine Learning Mastery*](https://machinelearningmastery.com/data-preparation-without-data-leakage/)"
   ]
  },
  {
   "cell_type": "markdown",
   "id": "japanese-hunger",
   "metadata": {},
   "source": [
    "<a id='2.1'>\n",
    "    <h2 style='font-size:180%;'>\n",
    "        With Data Leakage\n",
    "    </h2>\n",
    " </a>"
   ]
  },
  {
   "cell_type": "code",
   "execution_count": 4,
   "id": "flying-purple",
   "metadata": {},
   "outputs": [
    {
     "name": "stdout",
     "output_type": "stream",
     "text": [
      "Accuracy: 84.848\n"
     ]
    }
   ],
   "source": [
    "# naive approach to normalizing the data before splitting the data and evaluating the model\n",
    "from sklearn.datasets import make_classification\n",
    "from sklearn.model_selection import train_test_split\n",
    "from sklearn.preprocessing import MinMaxScaler\n",
    "from sklearn.linear_model import LogisticRegression\n",
    "from sklearn.metrics import accuracy_score\n",
    "# define dataset\n",
    "X, y = make_classification(n_samples=1000, n_features=20, n_informative=15, n_redundant=5, random_state=7)\n",
    "# standardize the dataset\n",
    "scaler = MinMaxScaler()\n",
    "X = scaler.fit_transform(X)\n",
    "# split into train and test sets\n",
    "X_train, X_test, y_train, y_test = train_test_split(X, y, test_size=0.33, random_state=1)\n",
    "# fit the model\n",
    "model = LogisticRegression()\n",
    "model.fit(X_train, y_train)\n",
    "# evaluate the model\n",
    "yhat = model.predict(X_test)\n",
    "# evaluate predictions\n",
    "accuracy = accuracy_score(y_test, yhat)\n",
    "print('Accuracy: %.3f' % (accuracy*100))"
   ]
  },
  {
   "cell_type": "markdown",
   "id": "handled-suspension",
   "metadata": {},
   "source": [
    "<a id='2.2'>\n",
    "    <h2 style='font-size:180%;'>\n",
    "        Without Data Leakage\n",
    "    </h2>\n",
    " </a>"
   ]
  },
  {
   "cell_type": "code",
   "execution_count": 5,
   "id": "committed-fifteen",
   "metadata": {},
   "outputs": [
    {
     "name": "stdout",
     "output_type": "stream",
     "text": [
      "Accuracy: 85.455\n"
     ]
    }
   ],
   "source": [
    "# correct approach for normalizing the data after the data is split before the model is evaluated\n",
    "from sklearn.datasets import make_classification\n",
    "from sklearn.model_selection import train_test_split\n",
    "from sklearn.preprocessing import MinMaxScaler\n",
    "from sklearn.linear_model import LogisticRegression\n",
    "from sklearn.metrics import accuracy_score\n",
    "# define dataset\n",
    "X, y = make_classification(n_samples=1000, n_features=20, n_informative=15, n_redundant=5, random_state=7)\n",
    "# split into train and test sets\n",
    "X_train, X_test, y_train, y_test = train_test_split(X, y, test_size=0.33, random_state=1)\n",
    "# define the scaler\n",
    "scaler = MinMaxScaler()\n",
    "# fit on the training dataset\n",
    "scaler.fit(X_train)\n",
    "# scale the training dataset\n",
    "X_train = scaler.transform(X_train)\n",
    "# scale the test dataset\n",
    "X_test = scaler.transform(X_test)\n",
    "# fit the model\n",
    "model = LogisticRegression()\n",
    "model.fit(X_train, y_train)\n",
    "# evaluate the model\n",
    "yhat = model.predict(X_test)\n",
    "# evaluate predictions\n",
    "accuracy = accuracy_score(y_test, yhat)\n",
    "print('Accuracy: %.3f' % (accuracy*100))"
   ]
  },
  {
   "cell_type": "markdown",
   "id": "buried-inflation",
   "metadata": {},
   "source": [
    "<a id='3'>\n",
    "    <h2 style='font-size:210%;'>\n",
    "        Example of Stratified K-Fold Cross Validation & Data Leakage\n",
    "    </h2>\n",
    " </a>"
   ]
  },
  {
   "cell_type": "markdown",
   "id": "dramatic-weekly",
   "metadata": {},
   "source": [
    "[Source: Stratified K Fold Cross Validation, *Geeks for Geeks*](https://www.geeksforgeeks.org/stratified-k-fold-cross-validation/)"
   ]
  },
  {
   "cell_type": "markdown",
   "id": "thick-watch",
   "metadata": {},
   "source": [
    "<a id='3.1'>\n",
    "    <h2 style='font-size:180%;'>\n",
    "        With Data Leakage (Original)\n",
    "    </h2>\n",
    " </a>"
   ]
  },
  {
   "cell_type": "code",
   "execution_count": 6,
   "id": "latin-premium",
   "metadata": {},
   "outputs": [
    {
     "name": "stdout",
     "output_type": "stream",
     "text": [
      "List of possible accuracy: [0.93, 0.96, 0.98, 1.0, 0.96, 0.96, 0.98, 0.95, 0.95, 0.98]\n",
      "\n",
      "Maximum Accuracy That can be obtained from this model is: 100.0 %\n",
      "\n",
      "Minimum Accuracy: 93.0 %\n",
      "\n",
      "Overall Accuracy: 96.5 %\n",
      "\n",
      "Standard Deviation is: 0.02\n"
     ]
    }
   ],
   "source": [
    "# STRATIFIES K-FOLD CROSS VALIDATION { 10-fold }\n",
    "\n",
    "# Import Required Modules.\n",
    "from statistics import mean, stdev\n",
    "from sklearn import preprocessing\n",
    "from sklearn.model_selection import StratifiedKFold\n",
    "from sklearn import linear_model\n",
    "from sklearn import datasets\n",
    "\n",
    "# FEATCHING FEATURES AND TARGET VARIABLES IN ARRAY FORMAT.\n",
    "cancer = datasets.load_breast_cancer()\n",
    "\n",
    "# Input_x_Features.\n",
    "x = cancer.data\n",
    "\n",
    "# Input_ y_Target_Variable.\n",
    "y = cancer.target\n",
    "\n",
    "# Feature Scaling for input features.\n",
    "scaler = preprocessing.MinMaxScaler()\n",
    "x_scaled = scaler.fit_transform(x)\n",
    "\n",
    "# Create classifier object.\n",
    "lr = linear_model.LogisticRegression()\n",
    "\n",
    "# Create StratifiedKFold object.\n",
    "skf = StratifiedKFold(n_splits=10, shuffle=True, random_state=1)\n",
    "lst_accu_stratified = []\n",
    "\n",
    "for train_index, test_index in skf.split(x, y):\n",
    "    x_train_fold, x_test_fold = x_scaled[train_index], x_scaled[test_index]\n",
    "    y_train_fold, y_test_fold = y[train_index], y[test_index]\n",
    "    lr.fit(x_train_fold, y_train_fold)\n",
    "    lst_accu_stratified.append(round(lr.score(x_test_fold, y_test_fold),2))\n",
    "\n",
    "# Print the output.\n",
    "print('List of possible accuracy:', lst_accu_stratified)\n",
    "print('\\nMaximum Accuracy That can be obtained from this model is:',\n",
    "\tround(max(lst_accu_stratified)*100,2), '%')\n",
    "print('\\nMinimum Accuracy:',\n",
    "\tround(min(lst_accu_stratified)*100,2), '%')\n",
    "print('\\nOverall Accuracy:',\n",
    "\tround(mean(lst_accu_stratified)*100,2), '%')\n",
    "print('\\nStandard Deviation is:', round(stdev(lst_accu_stratified),2))\n"
   ]
  },
  {
   "cell_type": "markdown",
   "id": "ruled-county",
   "metadata": {},
   "source": [
    "<a id='3.2'>\n",
    "    <h2 style='font-size:180%;'>\n",
    "        Without Data Leakage (Fixed by Myself)\n",
    "    </h2>\n",
    " </a>"
   ]
  },
  {
   "cell_type": "code",
   "execution_count": 7,
   "id": "northern-giant",
   "metadata": {},
   "outputs": [
    {
     "name": "stdout",
     "output_type": "stream",
     "text": [
      "List of possible accuracy: [0.93, 0.96, 0.98, 0.98, 0.96, 0.96, 0.98, 0.95, 0.95, 0.98]\n",
      "\n",
      "Maximum Accuracy That can be obtained from this model is: 98.0 %\n",
      "\n",
      "Minimum Accuracy: 93.0 %\n",
      "\n",
      "Overall Accuracy: 96.3 %\n",
      "\n",
      "Standard Deviation is: 0.02\n"
     ]
    }
   ],
   "source": [
    "# STRATIFIES K-FOLD CROSS VALIDATION { 10-fold }\n",
    "\n",
    "# Import Required Modules.\n",
    "from statistics import mean, stdev\n",
    "from sklearn import preprocessing\n",
    "from sklearn.model_selection import StratifiedKFold\n",
    "from sklearn import linear_model\n",
    "from sklearn import datasets\n",
    "\n",
    "# FEATCHING FEATURES AND TARGET VARIABLES IN ARRAY FORMAT.\n",
    "cancer = datasets.load_breast_cancer()\n",
    "\n",
    "# Input_x_Features.\n",
    "x = cancer.data\n",
    "\n",
    "# Input_ y_Target_Variable.\n",
    "y = cancer.target\n",
    "\n",
    "# Create classifier object.\n",
    "lr = linear_model.LogisticRegression()\n",
    "\n",
    "# Create StratifiedKFold object.\n",
    "skf = StratifiedKFold(n_splits=10, shuffle=True, random_state=1)\n",
    "lst_accu_stratified = []\n",
    "\n",
    "for train_index, test_index in skf.split(x, y):\n",
    "    x_train_fold, x_test_fold = x_scaled[train_index], x_scaled[test_index]\n",
    "    y_train_fold, y_test_fold = y[train_index], y[test_index]\n",
    "    \n",
    "    # Feature Scaling for input features.\n",
    "    scaler = preprocessing.MinMaxScaler()\n",
    "    scaler.fit(x_train_fold)\n",
    "    x_train_scaled = scaler.transform(x_train_fold)\n",
    "    x_test_scaled = scaler.transform(x_test_fold)\n",
    "    \n",
    "    lr.fit(x_train_scaled, y_train_fold)\n",
    "    lst_accu_stratified.append(round(lr.score(x_test_scaled, y_test_fold),2))\n",
    "\n",
    "# Print the output.\n",
    "print('List of possible accuracy:', lst_accu_stratified)\n",
    "print('\\nMaximum Accuracy That can be obtained from this model is:',\n",
    "\tround(max(lst_accu_stratified)*100,2), '%')\n",
    "print('\\nMinimum Accuracy:',\n",
    "\tround(min(lst_accu_stratified)*100,2), '%')\n",
    "print('\\nOverall Accuracy:',\n",
    "\tround(mean(lst_accu_stratified)*100,2), '%')\n",
    "print('\\nStandard Deviation is:', round(stdev(lst_accu_stratified),2))"
   ]
  }
 ],
 "metadata": {
  "kernelspec": {
   "display_name": "Python 3",
   "language": "python",
   "name": "python3"
  },
  "language_info": {
   "codemirror_mode": {
    "name": "ipython",
    "version": 3
   },
   "file_extension": ".py",
   "mimetype": "text/x-python",
   "name": "python",
   "nbconvert_exporter": "python",
   "pygments_lexer": "ipython3",
   "version": "3.8.5"
  }
 },
 "nbformat": 4,
 "nbformat_minor": 5
}
