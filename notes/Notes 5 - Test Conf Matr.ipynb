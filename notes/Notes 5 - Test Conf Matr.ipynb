{
 "cells": [
  {
   "cell_type": "code",
   "execution_count": 50,
   "id": "electrical-estate",
   "metadata": {
    "tags": []
   },
   "outputs": [
    {
     "data": {
      "text/html": [
       "<div>\n",
       "<style scoped>\n",
       "    .dataframe tbody tr th:only-of-type {\n",
       "        vertical-align: middle;\n",
       "    }\n",
       "\n",
       "    .dataframe tbody tr th {\n",
       "        vertical-align: top;\n",
       "    }\n",
       "\n",
       "    .dataframe thead th {\n",
       "        text-align: right;\n",
       "    }\n",
       "</style>\n",
       "<table border=\"1\" class=\"dataframe\">\n",
       "  <thead>\n",
       "    <tr style=\"text-align: right;\">\n",
       "      <th></th>\n",
       "      <th>GB</th>\n",
       "    </tr>\n",
       "  </thead>\n",
       "  <tbody>\n",
       "    <tr>\n",
       "      <th>fit_time</th>\n",
       "      <td>2.90</td>\n",
       "    </tr>\n",
       "    <tr>\n",
       "      <th>score_time</th>\n",
       "      <td>0.01</td>\n",
       "    </tr>\n",
       "    <tr>\n",
       "      <th>accuracy</th>\n",
       "      <td>0.97</td>\n",
       "    </tr>\n",
       "    <tr>\n",
       "      <th>precision</th>\n",
       "      <td>0.93</td>\n",
       "    </tr>\n",
       "    <tr>\n",
       "      <th>recall</th>\n",
       "      <td>0.90</td>\n",
       "    </tr>\n",
       "    <tr>\n",
       "      <th>f1</th>\n",
       "      <td>0.91</td>\n",
       "    </tr>\n",
       "    <tr>\n",
       "      <th>f2</th>\n",
       "      <td>0.90</td>\n",
       "    </tr>\n",
       "  </tbody>\n",
       "</table>\n",
       "</div>"
      ],
      "text/plain": [
       "             GB\n",
       "fit_time   2.90\n",
       "score_time 0.01\n",
       "accuracy   0.97\n",
       "precision  0.93\n",
       "recall     0.90\n",
       "f1         0.91\n",
       "f2         0.90"
      ]
     },
     "execution_count": 50,
     "metadata": {},
     "output_type": "execute_result"
    }
   ],
   "source": [
    "results_bsl[-1]"
   ]
  },
  {
   "cell_type": "code",
   "execution_count": 38,
   "id": "parallel-olive",
   "metadata": {
    "tags": []
   },
   "outputs": [
    {
     "data": {
      "text/plain": [
       "array([[ 291,   34],\n",
       "       [  22, 1679]], dtype=int64)"
      ]
     },
     "execution_count": 38,
     "metadata": {},
     "output_type": "execute_result"
    }
   ],
   "source": [
    "cm"
   ]
  },
  {
   "cell_type": "code",
   "execution_count": 55,
   "id": "developmental-marshall",
   "metadata": {},
   "outputs": [
    {
     "name": "stdout",
     "output_type": "stream",
     "text": [
      "For all classes:\n",
      "Accuracy: 0.97\n"
     ]
    }
   ],
   "source": [
    "print('For all classes:')\n",
    "print(f'Accuracy: {round((291+1679)/sum(sum(cm)),2)}')"
   ]
  },
  {
   "cell_type": "code",
   "execution_count": 52,
   "id": "super-daughter",
   "metadata": {
    "tags": []
   },
   "outputs": [
    {
     "name": "stdout",
     "output_type": "stream",
     "text": [
      "For class 1:\n",
      "Sensitivity/Recall: 0.93\n",
      "Precision: 0.9\n"
     ]
    }
   ],
   "source": [
    "print('For class 1:')\n",
    "print(f'Sensitivity/Recall: {round(291/313,2)}')\n",
    "print(f'Precision: {round(291/(291+34),2)}')"
   ]
  },
  {
   "cell_type": "code",
   "execution_count": 51,
   "id": "tropical-suggestion",
   "metadata": {
    "tags": []
   },
   "outputs": [
    {
     "name": "stdout",
     "output_type": "stream",
     "text": [
      "For class 0:\n",
      "Sensitivity/Recall: 0.98\n",
      "Precision: 0.99\n"
     ]
    }
   ],
   "source": [
    "print('For class 0:')\n",
    "print(f'Sensitivity/Recall: {round(1679/(34+1679),2)}')\n",
    "print(f'Precision: {round(1679/(22+1679),2)}')"
   ]
  },
  {
   "cell_type": "code",
   "execution_count": 57,
   "id": "enclosed-schedule",
   "metadata": {},
   "outputs": [
    {
     "name": "stdout",
     "output_type": "stream",
     "text": [
      ">Train: 0=495, 1=5, Test: 0=495, 1=5\n"
     ]
    }
   ],
   "source": [
    "# example of stratified train/test split with an imbalanced dataset\n",
    "from sklearn.datasets import make_classification\n",
    "from sklearn.model_selection import train_test_split\n",
    "# generate 2 class dataset\n",
    "X, y2 = make_classification(n_samples=1000, n_classes=2, weights=[0.99, 0.01], flip_y=0, random_state=1)\n",
    "# split into train/test sets with same class ratio\n",
    "trainX, testX, trainy, testy = train_test_split(X, y2, test_size=0.5, random_state=2, stratify=y2)\n",
    "# summarize\n",
    "train_0, train_1 = len(trainy[trainy==0]), len(trainy[trainy==1])\n",
    "test_0, test_1 = len(testy[testy==0]), len(testy[testy==1])\n",
    "print('>Train: 0=%d, 1=%d, Test: 0=%d, 1=%d' % (train_0, train_1, test_0, test_1))"
   ]
  },
  {
   "cell_type": "code",
   "execution_count": 59,
   "id": "social-system",
   "metadata": {},
   "outputs": [
    {
     "name": "stdout",
     "output_type": "stream",
     "text": [
      ">Train: 0=792, 1=8, Test: 0=198, 1=2\n",
      ">Train: 0=792, 1=8, Test: 0=198, 1=2\n",
      ">Train: 0=792, 1=8, Test: 0=198, 1=2\n",
      ">Train: 0=792, 1=8, Test: 0=198, 1=2\n",
      ">Train: 0=792, 1=8, Test: 0=198, 1=2\n"
     ]
    }
   ],
   "source": [
    "# example of stratified k-fold cross-validation with an imbalanced dataset\n",
    "from sklearn.datasets import make_classification\n",
    "from sklearn.model_selection import StratifiedKFold\n",
    "# generate 2 class dataset\n",
    "X, y2 = make_classification(n_samples=1000, n_classes=2, weights=[0.99, 0.01], flip_y=0, random_state=1)\n",
    "kfold = StratifiedKFold(n_splits=5, shuffle=True, random_state=1)\n",
    "# enumerate the splits and summarize the distributions\n",
    "for train_ix, test_ix in kfold.split(X, y2):\n",
    "\t# select rows\n",
    "\ttrain_X, test_X = X[train_ix], X[test_ix]\n",
    "\ttrain_y, test_y = y2[train_ix], y2[test_ix]\n",
    "\t# summarize train and test composition\n",
    "\ttrain_0, train_1 = len(train_y[train_y==0]), len(train_y[train_y==1])\n",
    "\ttest_0, test_1 = len(test_y[test_y==0]), len(test_y[test_y==1])\n",
    "\tprint('>Train: 0=%d, 1=%d, Test: 0=%d, 1=%d' % (train_0, train_1, test_0, test_1))"
   ]
  },
  {
   "cell_type": "code",
   "execution_count": 68,
   "id": "union-console",
   "metadata": {},
   "outputs": [],
   "source": [
    "kfold = RepeatedStratifiedKFold(n_splits=5, n_repeats=3, random_state=1)"
   ]
  },
  {
   "cell_type": "code",
   "execution_count": 69,
   "id": "excess-irish",
   "metadata": {},
   "outputs": [
    {
     "data": {
      "text/plain": [
       "sklearn.model_selection._split.RepeatedStratifiedKFold"
      ]
     },
     "execution_count": 69,
     "metadata": {},
     "output_type": "execute_result"
    }
   ],
   "source": [
    "type(kfold)"
   ]
  },
  {
   "cell_type": "code",
   "execution_count": 70,
   "id": "demographic-liechtenstein",
   "metadata": {},
   "outputs": [
    {
     "data": {
      "text/plain": [
       "['__abstractmethods__',\n",
       " '__class__',\n",
       " '__delattr__',\n",
       " '__dict__',\n",
       " '__dir__',\n",
       " '__doc__',\n",
       " '__eq__',\n",
       " '__format__',\n",
       " '__ge__',\n",
       " '__getattribute__',\n",
       " '__gt__',\n",
       " '__hash__',\n",
       " '__init__',\n",
       " '__init_subclass__',\n",
       " '__le__',\n",
       " '__lt__',\n",
       " '__module__',\n",
       " '__ne__',\n",
       " '__new__',\n",
       " '__reduce__',\n",
       " '__reduce_ex__',\n",
       " '__repr__',\n",
       " '__setattr__',\n",
       " '__sizeof__',\n",
       " '__str__',\n",
       " '__subclasshook__',\n",
       " '__weakref__',\n",
       " '_abc_impl',\n",
       " 'cv',\n",
       " 'cvargs',\n",
       " 'get_n_splits',\n",
       " 'n_repeats',\n",
       " 'random_state',\n",
       " 'split']"
      ]
     },
     "execution_count": 70,
     "metadata": {},
     "output_type": "execute_result"
    }
   ],
   "source": [
    "dir(kfold)"
   ]
  },
  {
   "cell_type": "code",
   "execution_count": null,
   "id": "partial-european",
   "metadata": {},
   "outputs": [],
   "source": [
    "for train_idx, test_idx in kfold.split(x,y):\n",
    "    "
   ]
  },
  {
   "cell_type": "code",
   "execution_count": null,
   "id": "arabic-vegetable",
   "metadata": {},
   "outputs": [],
   "source": []
  }
 ],
 "metadata": {
  "kernelspec": {
   "display_name": "Python 3",
   "language": "python",
   "name": "python3"
  },
  "language_info": {
   "codemirror_mode": {
    "name": "ipython",
    "version": 3
   },
   "file_extension": ".py",
   "mimetype": "text/x-python",
   "name": "python",
   "nbconvert_exporter": "python",
   "pygments_lexer": "ipython3",
   "version": "3.8.5"
  }
 },
 "nbformat": 4,
 "nbformat_minor": 5
}
