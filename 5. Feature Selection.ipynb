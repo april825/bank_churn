{
 "cells": [
  {
   "cell_type": "markdown",
   "id": "closed-hypothetical",
   "metadata": {},
   "source": [
    "<h1 style=\"background-color:rgb(67, 77, 86);\n",
    "           font-size:300%;\n",
    "           font-style: oblique;\n",
    "           color:white;\n",
    "           text-align:center;\n",
    "           margin: auto;\n",
    "           padding: 20px;\">Predicting Bank Churners</h1>"
   ]
  },
  {
   "cell_type": "markdown",
   "id": "strange-window",
   "metadata": {},
   "source": [
    "<a id=\"1.2\"></a>\n",
    "<h2 style=\"background-color:rgb(141, 153, 165);\n",
    "           font-size:250%;\n",
    "           color:white;\n",
    "           text-align:center;\n",
    "           margin: auto;\n",
    "           padding: 10px;\">Chapter 5. Feature Selection</h2>"
   ]
  },
  {
   "cell_type": "markdown",
   "id": "appropriate-honor",
   "metadata": {},
   "source": [
    "<a id='1.1'>\n",
    "    <h2 style='font-size:180%;'>\n",
    "        Mission</h2></a>"
   ]
  },
  {
   "cell_type": "markdown",
   "id": "young-mexican",
   "metadata": {},
   "source": [
    "<figure>\n",
    "    <blockquote cite='https://www.kaggle.com/sakshigoyal7/credit-card-customers/tasks?taskId=2729'>\n",
    "        <p style='font-size:110%;\n",
    "                  color:hsl(208, 12%, 30%);'><i>Our top priority in this business problem is to identify customers who are getting churned. Even if we predict non-churning customers as churned, it won't harm our business. But predicting churning customers as non-churning will do. So recall needs to be higher. Till now, I have managed to get a recall of 62%.</i></p>\n",
    "    </blockquote>\n",
    "    <figcaption>—Sakshi Goyal, <cite>Credit Card Customers, Kaggle</cite></figcaption>"
   ]
  },
  {
   "cell_type": "markdown",
   "id": "minute-petite",
   "metadata": {},
   "source": [
    "<a id='4.1'>\n",
    "    <h2 style='font-size:180%;'>\n",
    "        Libraries</h2></a>"
   ]
  },
  {
   "cell_type": "code",
   "execution_count": 1,
   "id": "warming-bridge",
   "metadata": {
    "tags": []
   },
   "outputs": [],
   "source": [
    "# general\n",
    "import numpy as np\n",
    "import pandas as pd\n",
    "\n",
    "# data visualization\n",
    "import matplotlib.pyplot as plt\n",
    "import seaborn as sns\n",
    "\n",
    "# statistics\n",
    "from numpy import (mean, std)\n",
    "from scipy.stats import (\n",
    "    pearsonr, spearmanr, kendalltau,\n",
    "    chi2_contingency, f_oneway)\n",
    "\n",
    "# machine learning prep\n",
    "from sklearn.preprocessing import (\n",
    "    MinMaxScaler, RobustScaler, QuantileTransformer, PowerTransformer)\n",
    "from sklearn.feature_selection import RFE\n",
    "from collections import Counter\n",
    "from sklearn.model_selection import (\n",
    "    train_test_split, cross_validate, cross_val_predict,\n",
    "    RepeatedStratifiedKFold, GridSearchCV, RandomizedSearchCV)\n",
    "from sklearn.metrics import (\n",
    "    accuracy_score, precision_score, recall_score, f1_score, fbeta_score, auc, roc_auc_score,\n",
    "    precision_recall_curve, plot_precision_recall_curve, average_precision_score, precision_recall_fscore_support,\n",
    "    classification_report, precision_recall_fscore_support, confusion_matrix, SCORERS, make_scorer)\n",
    "from sklearn.pipeline import Pipeline\n",
    "\n",
    "# machine learning models\n",
    "from sklearn.linear_model import LogisticRegression\n",
    "from sklearn.neighbors import KNeighborsClassifier\n",
    "from sklearn.discriminant_analysis import LinearDiscriminantAnalysis\n",
    "from sklearn.naive_bayes import GaussianNB\n",
    "from sklearn.tree import DecisionTreeClassifier\n",
    "from sklearn.svm import (SVC, LinearSVC) # remove SVC later if not used\n",
    "from sklearn.ensemble import (\n",
    "    RandomForestClassifier, BaggingClassifier, \n",
    "    GradientBoostingClassifier, IsolationForest)\n",
    "from sklearn.neural_network import MLPClassifier\n",
    "\n",
    "# warning\n",
    "import warnings\n",
    "warnings.filterwarnings('ignore', category=RuntimeWarning)\n",
    "warnings.filterwarnings('ignore', category=FutureWarning)\n",
    "warnings.filterwarnings('ignore', category=DeprecationWarning)\n",
    "# warnings.filterwarnings('ignore', category=ConvergenceWarning)\n",
    "from sklearn.exceptions import ConvergenceWarning\n",
    "from sklearn.utils._testing import ignore_warnings\n",
    "\n",
    "# saving\n",
    "import os\n",
    "\n",
    "# efficiency\n",
    "import time"
   ]
  },
  {
   "cell_type": "code",
   "execution_count": 2,
   "id": "aware-wealth",
   "metadata": {
    "tags": []
   },
   "outputs": [],
   "source": [
    "# settings\n",
    "%matplotlib inline\n",
    "pd.options.display.max_rows = 100\n",
    "pd.options.display.max_columns = 100\n",
    "pd.options.display.float_format = '{:,.2f}'.format\n",
    "np.set_printoptions(suppress=True, precision=3)"
   ]
  },
  {
   "cell_type": "code",
   "execution_count": 3,
   "id": "local-manor",
   "metadata": {
    "tags": []
   },
   "outputs": [
    {
     "data": {
      "text/html": [
       "<style>\n",
       "/* CSS styles for pandas dataframe */\n",
       ".dataframe th {\n",
       "    font-size: 16px;\n",
       "}\n",
       ".dataframe td {\n",
       "    font-size: 14px;\n",
       "}\n",
       "</style>\n"
      ],
      "text/plain": [
       "<IPython.core.display.HTML object>"
      ]
     },
     "metadata": {},
     "output_type": "display_data"
    }
   ],
   "source": [
    "%%html\n",
    "<style>\n",
    "/* CSS styles for pandas dataframe */\n",
    ".dataframe th {\n",
    "    font-size: 16px;\n",
    "}\n",
    ".dataframe td {\n",
    "    font-size: 14px;\n",
    "}\n",
    "</style>"
   ]
  },
  {
   "cell_type": "code",
   "execution_count": 4,
   "id": "separated-fiction",
   "metadata": {
    "tags": []
   },
   "outputs": [],
   "source": [
    "# pd.set_options('precision', 3)\n",
    "# pd.set_options('min_rows', 6)\n",
    "# pd.set_options('max_rows', 10)\n",
    "# pd.reset_option('max_rows')\n",
    "# pd.set_option('max_colwidth', 10)\n",
    "# pd.set_option(\"chop_threshold\", 0.5)\n",
    "# pd.reset_option(\"chop_threshold\")\n",
    "# pd.set_option(\"colheader_justify\", \"left\")\n",
    "# pd.reset_option(\"colheader_justify\")\n",
    "# plt.rc('figure',figsize=(8,4))\n",
    "# plt.style.use('seaborn-whitegrid')\n",
    "# from IPython.display import display, Math, Latex\n",
    "# pio.renderers.default='plotly_mimetype'"
   ]
  },
  {
   "cell_type": "markdown",
   "id": "threaded-improvement",
   "metadata": {},
   "source": [
    "<a id='4.2'>\n",
    "    <h2 style='font-size:180%;'>\n",
    "        Data Loading</h2></a>"
   ]
  },
  {
   "cell_type": "code",
   "execution_count": 5,
   "id": "republican-region",
   "metadata": {
    "jupyter": {
     "source_hidden": true
    },
    "tags": []
   },
   "outputs": [],
   "source": [
    "start_normal = time.perf_counter()"
   ]
  },
  {
   "cell_type": "code",
   "execution_count": 6,
   "id": "pediatric-share",
   "metadata": {
    "tags": []
   },
   "outputs": [
    {
     "data": {
      "text/html": [
       "<div>\n",
       "<style scoped>\n",
       "    .dataframe tbody tr th:only-of-type {\n",
       "        vertical-align: middle;\n",
       "    }\n",
       "\n",
       "    .dataframe tbody tr th {\n",
       "        vertical-align: top;\n",
       "    }\n",
       "\n",
       "    .dataframe thead th {\n",
       "        text-align: right;\n",
       "    }\n",
       "</style>\n",
       "<table border=\"1\" class=\"dataframe\">\n",
       "  <thead>\n",
       "    <tr style=\"text-align: right;\">\n",
       "      <th></th>\n",
       "      <th>churn</th>\n",
       "      <th>age</th>\n",
       "      <th>gender</th>\n",
       "      <th>dependents</th>\n",
       "      <th>prod_ct</th>\n",
       "      <th>mo_on_book</th>\n",
       "      <th>mo_inactive_r12</th>\n",
       "      <th>contr_ct_r12</th>\n",
       "      <th>revbal_avg_r12</th>\n",
       "      <th>credlim_avg_r12</th>\n",
       "      <th>opentobuy_avg_r12</th>\n",
       "      <th>utilratio_avg</th>\n",
       "      <th>tx_amt_r12</th>\n",
       "      <th>tx_ct_r12</th>\n",
       "      <th>chng_tx_amt_q4_q1</th>\n",
       "      <th>chng_tx_ct_q4_q1</th>\n",
       "      <th>marstat_Divorced</th>\n",
       "      <th>marstat_Married</th>\n",
       "      <th>marstat_Single</th>\n",
       "      <th>marstat_Unknown</th>\n",
       "      <th>card_Blue</th>\n",
       "      <th>card_Gold</th>\n",
       "      <th>card_Platinum</th>\n",
       "      <th>card_Silver</th>\n",
       "      <th>educ</th>\n",
       "      <th>inc</th>\n",
       "      <th>tx_amt_pertx_r12</th>\n",
       "    </tr>\n",
       "  </thead>\n",
       "  <tbody>\n",
       "    <tr>\n",
       "      <th>0</th>\n",
       "      <td>0</td>\n",
       "      <td>45</td>\n",
       "      <td>1</td>\n",
       "      <td>3</td>\n",
       "      <td>5</td>\n",
       "      <td>39</td>\n",
       "      <td>1</td>\n",
       "      <td>3</td>\n",
       "      <td>777.00</td>\n",
       "      <td>12,691.00</td>\n",
       "      <td>11,914.00</td>\n",
       "      <td>0.06</td>\n",
       "      <td>1,144.00</td>\n",
       "      <td>42</td>\n",
       "      <td>1.33</td>\n",
       "      <td>1.62</td>\n",
       "      <td>0</td>\n",
       "      <td>1</td>\n",
       "      <td>0</td>\n",
       "      <td>0</td>\n",
       "      <td>1</td>\n",
       "      <td>0</td>\n",
       "      <td>0</td>\n",
       "      <td>0</td>\n",
       "      <td>1</td>\n",
       "      <td>3</td>\n",
       "      <td>27.24</td>\n",
       "    </tr>\n",
       "    <tr>\n",
       "      <th>1</th>\n",
       "      <td>0</td>\n",
       "      <td>49</td>\n",
       "      <td>0</td>\n",
       "      <td>5</td>\n",
       "      <td>6</td>\n",
       "      <td>44</td>\n",
       "      <td>1</td>\n",
       "      <td>2</td>\n",
       "      <td>864.00</td>\n",
       "      <td>8,256.00</td>\n",
       "      <td>7,392.00</td>\n",
       "      <td>0.10</td>\n",
       "      <td>1,291.00</td>\n",
       "      <td>33</td>\n",
       "      <td>1.54</td>\n",
       "      <td>3.71</td>\n",
       "      <td>0</td>\n",
       "      <td>0</td>\n",
       "      <td>1</td>\n",
       "      <td>0</td>\n",
       "      <td>1</td>\n",
       "      <td>0</td>\n",
       "      <td>0</td>\n",
       "      <td>0</td>\n",
       "      <td>3</td>\n",
       "      <td>1</td>\n",
       "      <td>39.12</td>\n",
       "    </tr>\n",
       "    <tr>\n",
       "      <th>2</th>\n",
       "      <td>0</td>\n",
       "      <td>51</td>\n",
       "      <td>1</td>\n",
       "      <td>3</td>\n",
       "      <td>4</td>\n",
       "      <td>36</td>\n",
       "      <td>1</td>\n",
       "      <td>0</td>\n",
       "      <td>0.00</td>\n",
       "      <td>3,418.00</td>\n",
       "      <td>3,418.00</td>\n",
       "      <td>0.00</td>\n",
       "      <td>1,887.00</td>\n",
       "      <td>20</td>\n",
       "      <td>2.59</td>\n",
       "      <td>2.33</td>\n",
       "      <td>0</td>\n",
       "      <td>1</td>\n",
       "      <td>0</td>\n",
       "      <td>0</td>\n",
       "      <td>1</td>\n",
       "      <td>0</td>\n",
       "      <td>0</td>\n",
       "      <td>0</td>\n",
       "      <td>3</td>\n",
       "      <td>4</td>\n",
       "      <td>94.35</td>\n",
       "    </tr>\n",
       "  </tbody>\n",
       "</table>\n",
       "</div>"
      ],
      "text/plain": [
       "   churn  age  gender  dependents  prod_ct  mo_on_book  mo_inactive_r12  \\\n",
       "0      0   45       1           3        5          39                1   \n",
       "1      0   49       0           5        6          44                1   \n",
       "2      0   51       1           3        4          36                1   \n",
       "\n",
       "   contr_ct_r12  revbal_avg_r12  credlim_avg_r12  opentobuy_avg_r12  \\\n",
       "0             3          777.00        12,691.00          11,914.00   \n",
       "1             2          864.00         8,256.00           7,392.00   \n",
       "2             0            0.00         3,418.00           3,418.00   \n",
       "\n",
       "   utilratio_avg  tx_amt_r12  tx_ct_r12  chng_tx_amt_q4_q1  chng_tx_ct_q4_q1  \\\n",
       "0           0.06    1,144.00         42               1.33              1.62   \n",
       "1           0.10    1,291.00         33               1.54              3.71   \n",
       "2           0.00    1,887.00         20               2.59              2.33   \n",
       "\n",
       "   marstat_Divorced  marstat_Married  marstat_Single  marstat_Unknown  \\\n",
       "0                 0                1               0                0   \n",
       "1                 0                0               1                0   \n",
       "2                 0                1               0                0   \n",
       "\n",
       "   card_Blue  card_Gold  card_Platinum  card_Silver  educ  inc  \\\n",
       "0          1          0              0            0     1    3   \n",
       "1          1          0              0            0     3    1   \n",
       "2          1          0              0            0     3    4   \n",
       "\n",
       "   tx_amt_pertx_r12  \n",
       "0             27.24  \n",
       "1             39.12  \n",
       "2             94.35  "
      ]
     },
     "execution_count": 6,
     "metadata": {},
     "output_type": "execute_result"
    }
   ],
   "source": [
    "# load data\n",
    "d = pd.read_csv('source/d_num.csv')\n",
    "d.head(3)"
   ]
  },
  {
   "cell_type": "markdown",
   "id": "younger-rugby",
   "metadata": {},
   "source": [
    "<a id='4.3'>\n",
    "    <h2 style='font-size:180%;'>\n",
    "        Train Test Split</h2></a>"
   ]
  },
  {
   "cell_type": "code",
   "execution_count": 7,
   "id": "fallen-payday",
   "metadata": {
    "tags": []
   },
   "outputs": [],
   "source": [
    "d_values = d.values\n",
    "x, y = d_values[:,1:], d_values[:,:1].ravel()"
   ]
  },
  {
   "cell_type": "markdown",
   "id": "simple-beijing",
   "metadata": {},
   "source": [
    "<a id=\"1.2\"></a>\n",
    "<h2 style=\"background-color:rgb(141, 153, 165);\n",
    "           font-size:250%;\n",
    "           color:white;\n",
    "           text-align:center;\n",
    "           margin: auto;\n",
    "           padding: 10px;\">Functions to Use</h2>"
   ]
  },
  {
   "cell_type": "markdown",
   "id": "banner-spotlight",
   "metadata": {},
   "source": [
    "### Performance Metrics"
   ]
  },
  {
   "cell_type": "code",
   "execution_count": 8,
   "id": "micro-paintball",
   "metadata": {
    "tags": []
   },
   "outputs": [],
   "source": [
    "def perf_metrics(y_test, y_pred):\n",
    "    dic = {}\n",
    "    dic['accuracy'] = round(accuracy_score(y_test, y_pred), 2)\n",
    "    dic['precision'] = round(precision_score(y_test, y_pred), 2)\n",
    "    dic['recall'] = round(recall_score(y_test, y_pred), 2)\n",
    "    dic['f1'] = round(f1_score(y_test, y_pred), 2)\n",
    "    dic['f2'] = round(fbeta_score(y_test, y_pred, beta=2), 2)\n",
    "    return dic"
   ]
  },
  {
   "cell_type": "markdown",
   "id": "abandoned-replication",
   "metadata": {},
   "source": [
    "### Result Summary"
   ]
  },
  {
   "cell_type": "code",
   "execution_count": 9,
   "id": "operational-disaster",
   "metadata": {
    "tags": []
   },
   "outputs": [],
   "source": [
    "def result_rskf(x, y, pipeline, mod_disp_name, n_splits=5, n_repeats=3):\n",
    "   \n",
    "    # define cv method\n",
    "    cv = RepeatedStratifiedKFold(\n",
    "        n_splits=n_splits, n_repeats=n_repeats, random_state=1)  \n",
    "    \n",
    "    # define performance metrics\n",
    "    scoring = {\n",
    "        'accuracy':'accuracy', 'precision':'precision', 'recall':'recall', 'f1':'f1', \n",
    "        'f2':make_scorer(fbeta_score, beta=2)} # dict val = scorer fct or predefined metric str  \n",
    "    \n",
    "    # evaluate result\n",
    "    result = cross_validate(\n",
    "        pipeline, x, y, cv=cv, \n",
    "        scoring=scoring, return_train_score=True, n_jobs=-1)\n",
    "        \n",
    "    # make a summary table\n",
    "    df = pd.DataFrame(\n",
    "        (k, mean(v), std(v)) for k,v in result.items()\n",
    "        ).rename({0:'metric', 1:'mean', 2:'std'}, axis=1\n",
    "                ).set_index('metric')\n",
    "    df.index.name = None\n",
    "    df.columns = pd.MultiIndex.from_product([[mod_disp_name],df.columns])\n",
    "    \n",
    "    return df, result"
   ]
  },
  {
   "cell_type": "code",
   "execution_count": 10,
   "id": "alternate-insert",
   "metadata": {
    "tags": []
   },
   "outputs": [],
   "source": [
    "def result_tts(x, y, pipeline, mod_disp_name):\n",
    "    \n",
    "    # define cv method\n",
    "    x_train, x_test, y_train, y_test = train_test_split(\n",
    "        x, y, test_size=0.2, random_state=1, shuffle=True, stratify=y)\n",
    "    \n",
    "    # evaluate result   \n",
    "    time_0 = time.time()\n",
    "    pipeline.fit(x_train, y_train)\n",
    "    time_1 = time.time()\n",
    "    y_pred = pipeline.predict(x_test)\n",
    "    time_2 = time.time()\n",
    "    result = {}\n",
    "    result['fit_time'] = round(time_1-time_0, 2)\n",
    "    result['score_time'] = round(time_2-time_1, 2)\n",
    "    result['accuracy'] = round(accuracy_score(y_test, y_pred), 2)\n",
    "    result['precision'] = round(precision_score(y_test, y_pred), 2)\n",
    "    result['recall'] = round(recall_score(y_test, y_pred), 2)\n",
    "    result['f1'] = round(f1_score(y_test, y_pred), 2)\n",
    "    result['f2'] = round(fbeta_score(y_test, y_pred, beta=2), 2)\n",
    "    conf_mat = confusion_matrix(y_test, y_pred, labels=[1,0])\n",
    "    \n",
    "    # make a summary table    \n",
    "    df = pd.DataFrame(result, index=[mod_disp_name]).T\n",
    "    \n",
    "    return df, result, conf_mat, y_pred, y_test"
   ]
  },
  {
   "cell_type": "code",
   "execution_count": 11,
   "id": "economic-jacket",
   "metadata": {
    "tags": []
   },
   "outputs": [],
   "source": [
    "def summary_by_mod(x, y, models, scalers, result_func=result_rskf, **n_splits_and_repeats):\n",
    "    results = []\n",
    "    time_0 = time.time() # for all methods in pipeline\n",
    "    for scaler in scalers:\n",
    "        results_models = []\n",
    "        time_1 = time.time() # for each scaler\n",
    "        print(f'Scaler: {scaler[0]}\\n')\n",
    "        for model in models:\n",
    "            time_2 = time.time() # for each model\n",
    "            pipeline = Pipeline([('s', scaler[1]), ('m', model[1])])\n",
    "            if result_func==result_rskf:\n",
    "                n_splits, n_repeats = (i for i in n_splits_and_repeats.values())\n",
    "                results_model = result_func(x, y, pipeline, model[0], n_splits, n_repeats)[0]\n",
    "            else:\n",
    "                results_model = result_func(x, y, pipeline, model[0])[0]\n",
    "            print(f'Model {model[0]} Runtime: {time.strftime(\"%M:%S\", time.gmtime(time.time()-time_2))}')\n",
    "            results_models.append(results_model)\n",
    "        print(f'Scaler {scaler[0]} Avg Runtime per Model: {time.strftime(\"%M:%S\", time.gmtime((time.time()-time_1)/len(models)))}\\n\\n')\n",
    "        results.append(results_models)\n",
    "    print(f'Total Runtime: {time.strftime(\"%M:%S\", time.gmtime(time.time()-time_0))} min')\n",
    "    return results"
   ]
  },
  {
   "cell_type": "markdown",
   "id": "tutorial-helping",
   "metadata": {},
   "source": [
    "<a id=\"1.2\"></a>\n",
    "<h2 style=\"background-color:rgb(141, 153, 165);\n",
    "           font-size:250%;\n",
    "           color:white;\n",
    "           text-align:center;\n",
    "           margin: auto;\n",
    "           padding: 10px;\">Benchmark</h2>"
   ]
  },
  {
   "cell_type": "markdown",
   "id": "afraid-archives",
   "metadata": {},
   "source": [
    "<a id='4.2'>\n",
    "    <h2 style='font-size:210%;'>\n",
    "        Baseline Models</h2></a>"
   ]
  },
  {
   "cell_type": "code",
   "execution_count": 12,
   "id": "immediate-hepatitis",
   "metadata": {},
   "outputs": [],
   "source": [
    "# create a list of tuples for all models to explore: [(`model name`, `model instance`)] with minimum hyperparameter setting\n",
    "models = []\n",
    "\n",
    "# linear\n",
    "models.append(('LR', LogisticRegression(solver='saga', max_iter=10000, class_weight='balanced', random_state=5))) # note: `max_iter` from 1000 to 10000 due to convergence issues\n",
    "models.append(('LDA', LinearDiscriminantAnalysis()))\n",
    "models.append(('NB', GaussianNB()))\n",
    "\n",
    "# non-linear\n",
    "models.append(('DT', DecisionTreeClassifier(random_state=5)))\n",
    "models.append(('KNN', KNeighborsClassifier(n_neighbors=5)))\n",
    "models.append(('MLP', MLPClassifier(max_iter=1000, random_state=5)))\n",
    "\n",
    "# ensemble\n",
    "models.append(('BDT', BaggingClassifier(n_estimators=50, n_jobs=-1, random_state=5)))\n",
    "models.append(('RF', RandomForestClassifier(n_estimators=50, max_depth=10, n_jobs=-1, random_state=5))) # note: increasing n_estimators more than 400 doesn't do much; some in place to prevent too much overfitting\n",
    "models.append(('GB', GradientBoostingClassifier(random_state=5))) # note: `max_iter` from 100 to 1000 due to convergence issues"
   ]
  },
  {
   "cell_type": "code",
   "execution_count": 13,
   "id": "blocked-article",
   "metadata": {},
   "outputs": [],
   "source": [
    "# create a list of tuples for all scalers to explore: [(`scaler name`, `scaler instance`)]\n",
    "scalers = []\n",
    "scalers.append(('RS', RobustScaler()))\n",
    "scalers.append(('QT', QuantileTransformer()))"
   ]
  },
  {
   "cell_type": "markdown",
   "id": "smooth-merit",
   "metadata": {},
   "source": [
    "<a id='4.2'>\n",
    "    <h2 style='font-size:180%;'>\n",
    "        Validation Set</h2></a>"
   ]
  },
  {
   "cell_type": "code",
   "execution_count": 15,
   "id": "nominated-feeding",
   "metadata": {
    "tags": []
   },
   "outputs": [
    {
     "name": "stdout",
     "output_type": "stream",
     "text": [
      "Scaler: RS\n",
      "\n",
      "Model LR Runtime: 00:15\n",
      "Model LDA Runtime: 00:00\n",
      "Model NB Runtime: 00:00\n",
      "Model DT Runtime: 00:01\n",
      "Model KNN Runtime: 00:32\n",
      "Model MLP Runtime: 04:11\n",
      "Model BDT Runtime: 00:18\n",
      "Model RF Runtime: 00:05\n",
      "Model GB Runtime: 00:24\n",
      "Scaler RS Avg Runtime per Model: 00:39\n",
      "\n",
      "\n",
      "Scaler: QT\n",
      "\n",
      "Model LR Runtime: 00:02\n",
      "Model LDA Runtime: 00:01\n",
      "Model NB Runtime: 00:00\n",
      "Model DT Runtime: 00:01\n",
      "Model KNN Runtime: 00:21\n",
      "Model MLP Runtime: 03:05\n",
      "Model BDT Runtime: 00:18\n",
      "Model RF Runtime: 00:05\n",
      "Model GB Runtime: 00:17\n",
      "Scaler QT Avg Runtime per Model: 00:28\n",
      "\n",
      "\n",
      "Total Runtime: 10:06 min\n"
     ]
    }
   ],
   "source": [
    "results_bsl = summary_by_mod(x, y, models, scalers, result_func=result_rskf, n_splits=5, n_repeats=3)"
   ]
  },
  {
   "cell_type": "code",
   "execution_count": 16,
   "id": "concrete-nerve",
   "metadata": {
    "tags": []
   },
   "outputs": [],
   "source": [
    "results_bsl_RS = pd.concat([i for i in results_bsl[0]], axis=1)\n",
    "results_bsl_QT = pd.concat([i for i in results_bsl[1]], axis=1)"
   ]
  },
  {
   "cell_type": "markdown",
   "id": "proof-wealth",
   "metadata": {},
   "source": [
    "<a id='4.2'>\n",
    "    <h2 style='font-size:150%;'>\n",
    "        Summary Baseline</h2></a>"
   ]
  },
  {
   "cell_type": "code",
   "execution_count": 17,
   "id": "affected-sydney",
   "metadata": {
    "jupyter": {
     "source_hidden": true
    },
    "tags": []
   },
   "outputs": [
    {
     "name": "stdout",
     "output_type": "stream",
     "text": [
      "Results for Robust Scaler:\n"
     ]
    },
    {
     "data": {
      "text/html": [
       "<div>\n",
       "<style scoped>\n",
       "    .dataframe tbody tr th:only-of-type {\n",
       "        vertical-align: middle;\n",
       "    }\n",
       "\n",
       "    .dataframe tbody tr th {\n",
       "        vertical-align: top;\n",
       "    }\n",
       "\n",
       "    .dataframe thead th {\n",
       "        text-align: right;\n",
       "    }\n",
       "</style>\n",
       "<table border=\"1\" class=\"dataframe\">\n",
       "  <thead>\n",
       "    <tr style=\"text-align: right;\">\n",
       "      <th></th>\n",
       "      <th>recall</th>\n",
       "      <th>prec</th>\n",
       "      <th>f2</th>\n",
       "    </tr>\n",
       "  </thead>\n",
       "  <tbody>\n",
       "    <tr>\n",
       "      <th>LR</th>\n",
       "      <td>0.86</td>\n",
       "      <td>0.54</td>\n",
       "      <td>0.77</td>\n",
       "    </tr>\n",
       "    <tr>\n",
       "      <th>LDA</th>\n",
       "      <td>0.64</td>\n",
       "      <td>0.78</td>\n",
       "      <td>0.66</td>\n",
       "    </tr>\n",
       "    <tr>\n",
       "      <th>NB</th>\n",
       "      <td>0.60</td>\n",
       "      <td>0.68</td>\n",
       "      <td>0.62</td>\n",
       "    </tr>\n",
       "    <tr>\n",
       "      <th>DT</th>\n",
       "      <td>0.81</td>\n",
       "      <td>0.81</td>\n",
       "      <td>0.81</td>\n",
       "    </tr>\n",
       "    <tr>\n",
       "      <th>KNN</th>\n",
       "      <td>0.64</td>\n",
       "      <td>0.87</td>\n",
       "      <td>0.67</td>\n",
       "    </tr>\n",
       "    <tr>\n",
       "      <th>MLP</th>\n",
       "      <td>0.82</td>\n",
       "      <td>0.85</td>\n",
       "      <td>0.83</td>\n",
       "    </tr>\n",
       "    <tr>\n",
       "      <th>BDT</th>\n",
       "      <td>0.85</td>\n",
       "      <td>0.91</td>\n",
       "      <td>0.86</td>\n",
       "    </tr>\n",
       "    <tr>\n",
       "      <th>RF</th>\n",
       "      <td>0.81</td>\n",
       "      <td>0.93</td>\n",
       "      <td>0.83</td>\n",
       "    </tr>\n",
       "    <tr>\n",
       "      <th>GB</th>\n",
       "      <td>0.85</td>\n",
       "      <td>0.93</td>\n",
       "      <td>0.86</td>\n",
       "    </tr>\n",
       "  </tbody>\n",
       "</table>\n",
       "</div>"
      ],
      "text/plain": [
       "     recall  prec   f2\n",
       "LR     0.86  0.54 0.77\n",
       "LDA    0.64  0.78 0.66\n",
       "NB     0.60  0.68 0.62\n",
       "DT     0.81  0.81 0.81\n",
       "KNN    0.64  0.87 0.67\n",
       "MLP    0.82  0.85 0.83\n",
       "BDT    0.85  0.91 0.86\n",
       "RF     0.81  0.93 0.83\n",
       "GB     0.85  0.93 0.86"
      ]
     },
     "execution_count": 17,
     "metadata": {},
     "output_type": "execute_result"
    }
   ],
   "source": [
    "print('Results for Robust Scaler:')\n",
    "tem = results_bsl_RS.loc[['test_recall', 'test_precision', 'test_f2']]\n",
    "df_RS_bsl_RS_summ = tem.loc[:,np.in1d(tem.columns.get_level_values(1), 'mean')].droplevel(level=1, axis=1).rename(\n",
    "    index={'test_recall':'recall', 'test_precision':'prec', 'test_f2':'f2'}).T\n",
    "df_RS_bsl_RS_summ"
   ]
  },
  {
   "cell_type": "code",
   "execution_count": 18,
   "id": "eligible-investigation",
   "metadata": {
    "jupyter": {
     "source_hidden": true
    },
    "tags": []
   },
   "outputs": [
    {
     "name": "stdout",
     "output_type": "stream",
     "text": [
      "Results for Quantile Transformer:\n"
     ]
    },
    {
     "data": {
      "text/html": [
       "<div>\n",
       "<style scoped>\n",
       "    .dataframe tbody tr th:only-of-type {\n",
       "        vertical-align: middle;\n",
       "    }\n",
       "\n",
       "    .dataframe tbody tr th {\n",
       "        vertical-align: top;\n",
       "    }\n",
       "\n",
       "    .dataframe thead th {\n",
       "        text-align: right;\n",
       "    }\n",
       "</style>\n",
       "<table border=\"1\" class=\"dataframe\">\n",
       "  <thead>\n",
       "    <tr style=\"text-align: right;\">\n",
       "      <th></th>\n",
       "      <th>recall</th>\n",
       "      <th>prec</th>\n",
       "      <th>f2</th>\n",
       "    </tr>\n",
       "  </thead>\n",
       "  <tbody>\n",
       "    <tr>\n",
       "      <th>LR</th>\n",
       "      <td>0.86</td>\n",
       "      <td>0.53</td>\n",
       "      <td>0.77</td>\n",
       "    </tr>\n",
       "    <tr>\n",
       "      <th>LDA</th>\n",
       "      <td>0.62</td>\n",
       "      <td>0.77</td>\n",
       "      <td>0.65</td>\n",
       "    </tr>\n",
       "    <tr>\n",
       "      <th>NB</th>\n",
       "      <td>0.61</td>\n",
       "      <td>0.63</td>\n",
       "      <td>0.61</td>\n",
       "    </tr>\n",
       "    <tr>\n",
       "      <th>DT</th>\n",
       "      <td>0.81</td>\n",
       "      <td>0.81</td>\n",
       "      <td>0.81</td>\n",
       "    </tr>\n",
       "    <tr>\n",
       "      <th>KNN</th>\n",
       "      <td>0.52</td>\n",
       "      <td>0.81</td>\n",
       "      <td>0.56</td>\n",
       "    </tr>\n",
       "    <tr>\n",
       "      <th>MLP</th>\n",
       "      <td>0.83</td>\n",
       "      <td>0.86</td>\n",
       "      <td>0.83</td>\n",
       "    </tr>\n",
       "    <tr>\n",
       "      <th>BDT</th>\n",
       "      <td>0.85</td>\n",
       "      <td>0.91</td>\n",
       "      <td>0.86</td>\n",
       "    </tr>\n",
       "    <tr>\n",
       "      <th>RF</th>\n",
       "      <td>0.81</td>\n",
       "      <td>0.93</td>\n",
       "      <td>0.83</td>\n",
       "    </tr>\n",
       "    <tr>\n",
       "      <th>GB</th>\n",
       "      <td>0.85</td>\n",
       "      <td>0.93</td>\n",
       "      <td>0.86</td>\n",
       "    </tr>\n",
       "  </tbody>\n",
       "</table>\n",
       "</div>"
      ],
      "text/plain": [
       "     recall  prec   f2\n",
       "LR     0.86  0.53 0.77\n",
       "LDA    0.62  0.77 0.65\n",
       "NB     0.61  0.63 0.61\n",
       "DT     0.81  0.81 0.81\n",
       "KNN    0.52  0.81 0.56\n",
       "MLP    0.83  0.86 0.83\n",
       "BDT    0.85  0.91 0.86\n",
       "RF     0.81  0.93 0.83\n",
       "GB     0.85  0.93 0.86"
      ]
     },
     "execution_count": 18,
     "metadata": {},
     "output_type": "execute_result"
    }
   ],
   "source": [
    "print('Results for Quantile Transformer:')\n",
    "tem = results_bsl_QT.loc[['test_recall', 'test_precision', 'test_f2']]\n",
    "results_bsl_QT_summ = tem.loc[:,np.in1d(tem.columns.get_level_values(1), 'mean')].droplevel(level=1, axis=1).rename(\n",
    "    index={'test_recall':'recall', 'test_precision':'prec', 'test_f2':'f2'}).T\n",
    "results_bsl_QT_summ"
   ]
  },
  {
   "cell_type": "markdown",
   "id": "directed-punishment",
   "metadata": {},
   "source": [
    "<a id='4.2'>\n",
    "    <h2 style='font-size:150%;'>\n",
    "        Full Baseline</h2></a>"
   ]
  },
  {
   "cell_type": "code",
   "execution_count": 19,
   "id": "round-airfare",
   "metadata": {
    "jupyter": {
     "source_hidden": true
    },
    "tags": []
   },
   "outputs": [],
   "source": [
    "# results_bsl_RS"
   ]
  },
  {
   "cell_type": "code",
   "execution_count": 20,
   "id": "numerous-saint",
   "metadata": {
    "jupyter": {
     "source_hidden": true
    },
    "tags": []
   },
   "outputs": [],
   "source": [
    "# results_bsl_QT"
   ]
  },
  {
   "cell_type": "markdown",
   "id": "paperback-affiliation",
   "metadata": {},
   "source": [
    "<a id=\"1.2\"></a>\n",
    "<h2 style=\"background-color:rgb(141, 153, 165);\n",
    "           font-size:250%;\n",
    "           color:white;\n",
    "           text-align:center;\n",
    "           margin: auto;\n",
    "           padding: 10px;\">Feature Selection</h2>"
   ]
  },
  {
   "cell_type": "markdown",
   "id": "polish-jason",
   "metadata": {},
   "source": [
    "<a id='4.2'>\n",
    "    <h2 style='font-size:240%;'>\n",
    "        Overview</h2></a>"
   ]
  },
  {
   "cell_type": "markdown",
   "id": "talented-window",
   "metadata": {},
   "source": [
    "1. **Unsupervised** : Multicollinearity Treatment\n",
    "    * Correlation - Spearman's & Kendall's\n",
    "    * Variance Inflation Factor (VIF)\n",
    "    * Analysis of Variance (ANOVA)\n",
    "\n",
    "\n",
    "2. **Supervised** : Feature Selection\n",
    "    * Intrinsic\n",
    "    * Wrapper\n",
    "    * Filter"
   ]
  },
  {
   "cell_type": "markdown",
   "id": "threatened-personality",
   "metadata": {},
   "source": [
    "<a id='4.2'>\n",
    "    <h2 style='font-size:240%;'>\n",
    "        Supervised</h2></a>"
   ]
  },
  {
   "cell_type": "markdown",
   "id": "medium-screen",
   "metadata": {},
   "source": [
    "Unsupervised feature selection techniques ignore the target variable in selecting features. These techniques can be used to remove multicolinearity or redundancy. One of the most commonly used methods for removing multicolinearity is correlation."
   ]
  },
  {
   "cell_type": "markdown",
   "id": "timely-adaptation",
   "metadata": {},
   "source": [
    "<a id='4.2'>\n",
    "    <h2 style='font-size:210%;'>\n",
    "        Multicollinearity</h2></a>"
   ]
  },
  {
   "cell_type": "markdown",
   "id": "manufactured-indian",
   "metadata": {},
   "source": [
    "[Source: Statistics by Jim - Multicollinearity in Regression](https://statisticsbyjim.com/regression/multicollinearity-in-regression-analysis)"
   ]
  },
  {
   "cell_type": "markdown",
   "id": "enormous-richards",
   "metadata": {},
   "source": [
    "Multicollinearity arises when the predictors in a regression are correlated. High correlation among features makes interpreting the model difficult because the model parameters become unstable which leads to higher standard error and lower p-values. "
   ]
  },
  {
   "cell_type": "markdown",
   "id": "floral-people",
   "metadata": {},
   "source": [
    "The primary goal of regression analysis is to separate out the relationship between each predictor and the predictant. The parameters in the model represent the mean change in the predictant in response to one-unit change in the predictor in question *holding all other predictors constant*. This means that if two or more predictors are correlated, they have to move in the same direction at the same time making it impossible to \"*[hold] all other predictors constant*\". The stronger the correlation, the harder it is to change one predictor without changing the other. It becomes difficult for the model to estimate the *independent* effects of each predictor on the predictant as the predictors tend to change in unison."
   ]
  },
  {
   "cell_type": "markdown",
   "id": "congressional-display",
   "metadata": {},
   "source": [
    "There are two broad types of multicollinearity:\n",
    "\n",
    "* Structural : Created, not inherent in the data itself\n",
    "* Data : Inherent in the data itself, not created."
   ]
  },
  {
   "cell_type": "markdown",
   "id": "focused-tourism",
   "metadata": {},
   "source": [
    "1. Correlation - useful for 2 variables\n",
    "2. VIF - useful for 2+ variables\n",
    "3. ANOVA - useful for 2+ variables\n",
    "\n",
    "The variance inflation factor (VIF) uses the strength of the correlation between the predictors. Generally, the higher the VIF, the higher the level of collinearity. For example, a VIF of 1 is not collinear, but a VIF of 5 or above should be reduced to a single variable by either removal or transformation such as the PCA.\n",
    "\n",
    "[Source: Towards Data Science - Multicollinearity in Data Science](https://towardsdatascience.com/multicollinearity-in-data-science-c5f6c0fe6edf)"
   ]
  },
  {
   "cell_type": "markdown",
   "id": "mineral-basis",
   "metadata": {},
   "source": [
    "<a id='4.2'>\n",
    "    <h2 style='font-size:180%;'>\n",
    "        Problems of Multicollinearity</h2></a>"
   ]
  },
  {
   "cell_type": "markdown",
   "id": "generous-train",
   "metadata": {},
   "source": [
    "1. Uncertainty in coefficient estimates or unstable variance: Coefficients are sensitive to changes in the data (adding/removing rows/columns).\n",
    "1. Increased standard error: Reduces the accuracy of the estimates and increases the chances of detection.\n",
    "1. Decreased statistical significance: Due to increased standard error, t-statistic declines which negatively impacts the capability of detecting statistical significance in coefficient leading to type-II error (false negative).\n",
    "1. Reducing coefficient & p-value: The importance of the correlated explanatory variable is masked due to collinearity.\n",
    "1. Overfitting: Leads to overfitting as is indicated by the high variance problem."
   ]
  },
  {
   "cell_type": "markdown",
   "id": "loose-communications",
   "metadata": {},
   "source": [
    "One thing to note is that the unreliable coefficient estimates and p-values affect only those predictors that are correlated. It is possible to have a model with severe multicollinearity where some variables are completely unaffected."
   ]
  },
  {
   "cell_type": "markdown",
   "id": "novel-holocaust",
   "metadata": {},
   "source": [
    "The heatmaps are definitely more intuitive & visual. However, it helps identify correlation between 2 variables strictly and fails to identify collinearity which exists between 3 or more variables, for which VIF can be used."
   ]
  },
  {
   "cell_type": "markdown",
   "id": "dressed-replication",
   "metadata": {},
   "source": [
    "<a id='4.2'>\n",
    "    <h2 style='font-size:210%;'>\n",
    "        How to Deal with Multicollinearity</h2></a>"
   ]
  },
  {
   "cell_type": "markdown",
   "id": "exceptional-loading",
   "metadata": {},
   "source": [
    "[Source: Towards Data Science - Handling Multicollinearity](https://towardsdatascience.com/handling-multi-collinearity-6579eb99fd81)</br>\n",
    "[Source: Medium - Handling Multicollinearity](https://medium.com/@zxr.nju/the-classical-linear-regression-model-is-good-why-do-we-need-regularization-c89dba10c8eb)"
   ]
  },
  {
   "cell_type": "markdown",
   "id": "special-ballot",
   "metadata": {},
   "source": [
    "--My words\n",
    "1. Regularization\n",
    "    * Introduce penalization or remove one: Ridge Regression, Lasso, and Elastic Net can be used to eliminate redundant variables identified by the VIF. \n",
    "2. Transformation\n",
    "    * PCA is a popular method"
   ]
  },
  {
   "cell_type": "markdown",
   "id": "ordinary-sampling",
   "metadata": {},
   "source": [
    "<a id='4.2'>\n",
    "    <h2 style='font-size:180%;'>\n",
    "        Regularization</h2></a>"
   ]
  },
  {
   "cell_type": "markdown",
   "id": "synthetic-hughes",
   "metadata": {},
   "source": [
    "> $Regularized Loss = Loss Function + Constraint$"
   ]
  },
  {
   "cell_type": "markdown",
   "id": "silver-choir",
   "metadata": {},
   "source": [
    "**Ridge regression** is also called L2 regularization. It adds a constraint that is a linear function of the squared coefficients.\n",
    "A critique of ridge regression is that all the variables tend to end up in the model. The model only shrinks the coefficients.\n",
    "\n",
    "**Lasso** is also known as L1 regularization. It penalizes the model by the absolute weight coefficients.\n",
    "\n",
    "**Elastic Net** is the combination of the L1 regularization and L2 regularization. It can both shrink the coefficients as well as eliminate some of the insignificant coefficients.\n",
    "\n",
    "As we discussed above, choosing the right tuning parameter λ is quite important in regularization. For instance, ridge regression mainly solves the problem of multicollinearity. Therefore we want the tuning parameter λ to be relatively small in order to control the bias being introduced to the model. Lasso works well in terms of feature selection thus we want to balance between fitting the model and shrinking the coefficients.\n",
    "\n",
    "Statistically, there are multiple available options for tuning parameter selection, including CV (Cross Validation), AIC (Akaike’s Information Criterion), and BIC (Bayesian Information Criterion)."
   ]
  },
  {
   "cell_type": "markdown",
   "id": "contained-photograph",
   "metadata": {},
   "source": [
    "<a id='4.2'>\n",
    "    <h2 style='font-size:180%;'>\n",
    "        Transformation</h2></a>"
   ]
  },
  {
   "cell_type": "markdown",
   "id": "abstract-compiler",
   "metadata": {},
   "source": [
    "PCA is a popular method."
   ]
  },
  {
   "cell_type": "markdown",
   "id": "sustainable-gravity",
   "metadata": {},
   "source": [
    "<a id='4.2'>\n",
    "    <h2 style='font-size:210%;'>\n",
    "        Correlation Matrix</h2></a>"
   ]
  },
  {
   "cell_type": "code",
   "execution_count": 21,
   "id": "average-ticket",
   "metadata": {
    "jupyter": {
     "source_hidden": true
    },
    "tags": []
   },
   "outputs": [],
   "source": [
    "# correlation map\n",
    "def corr_map(d_sample, method):\n",
    "    corr = d_sample.rank().corr(method=method)\n",
    "    f,ax = plt.subplots(figsize=(12,12))\n",
    "    mask = np.triu(np.ones_like(corr, dtype=bool))\n",
    "    cmap = sns.diverging_palette(230, 20, as_cmap=True)\n",
    "    arr = corr.values.ravel()\n",
    "    arr = np.delete(arr, np.where(arr==1))\n",
    "    sns.heatmap(corr, \n",
    "                ax=ax,\n",
    "                mask=mask, \n",
    "                cmap=cmap, \n",
    "                annot=True, \n",
    "                linewidth=0.5,\n",
    "                vmax=max(arr),\n",
    "                vmin=min(arr),\n",
    "                cbar_kws={\"shrink\": .5},\n",
    "                fmt='.2f')\n",
    "    ax.set_title(method.title() + ' Correlation Heatmap', fontsize=30)\n",
    "    plt.show()"
   ]
  },
  {
   "cell_type": "code",
   "execution_count": 22,
   "id": "checked-percentage",
   "metadata": {
    "jupyter": {
     "source_hidden": true
    },
    "tags": []
   },
   "outputs": [
    {
     "data": {
      "image/png": "[encoded data removed]",
      "text/plain": [
       "<Figure size 864x864 with 2 Axes>"
      ]
     },
     "metadata": {
      "needs_background": "light"
     },
     "output_type": "display_data"
    }
   ],
   "source": [
    "d_sample = d[['age', 'gender', 'dependents', 'prod_ct', 'mo_on_book',\n",
    "       'mo_inactive_r12', 'contr_ct_r12', 'revbal_avg_r12', 'credlim_avg_r12',\n",
    "       'opentobuy_avg_r12', 'utilratio_avg', 'tx_amt_r12', 'tx_ct_r12',\n",
    "       'chng_tx_amt_q4_q1', 'chng_tx_ct_q4_q1', 'educ', 'inc',\n",
    "       'tx_amt_pertx_r12']]\n",
    "corr_map(d_sample, 'spearman')"
   ]
  },
  {
   "cell_type": "code",
   "execution_count": 23,
   "id": "prescription-theory",
   "metadata": {
    "jupyter": {
     "source_hidden": true
    },
    "tags": []
   },
   "outputs": [
    {
     "data": {
      "image/png": "[encoded data removed]",
      "text/plain": [
       "<Figure size 864x864 with 2 Axes>"
      ]
     },
     "metadata": {
      "needs_background": "light"
     },
     "output_type": "display_data"
    }
   ],
   "source": [
    "corr_map(d_sample, 'kendall')"
   ]
  },
  {
   "cell_type": "code",
   "execution_count": 24,
   "id": "precise-equation",
   "metadata": {
    "jupyter": {
     "source_hidden": true
    },
    "tags": []
   },
   "outputs": [],
   "source": [
    "def multicoll_ranked(d_sample, method, threshold=0.3):\n",
    "    corr_abs = d_sample.rank().corr(method=method).abs()\n",
    "    corr_pair = (corr_abs.where(\n",
    "        np.triu(np.ones(corr_abs.shape), k=1).astype(np.bool)).stack().sort_values(ascending=False))\n",
    "    corr_pair_filtered = corr_pair[(corr_pair!=1) & (corr_pair>threshold)].reset_index()\n",
    "    corr_pair_filtered.columns = ['var1', 'var2', 'corr']\n",
    "    print(method.title(), 'Correlation Pair')\n",
    "    return(corr_pair_filtered)"
   ]
  },
  {
   "cell_type": "code",
   "execution_count": 25,
   "id": "excess-constitution",
   "metadata": {
    "jupyter": {
     "source_hidden": true
    },
    "tags": []
   },
   "outputs": [
    {
     "name": "stdout",
     "output_type": "stream",
     "text": [
      "Kendall Correlation Pair\n"
     ]
    },
    {
     "data": {
      "text/html": [
       "<div>\n",
       "<style scoped>\n",
       "    .dataframe tbody tr th:only-of-type {\n",
       "        vertical-align: middle;\n",
       "    }\n",
       "\n",
       "    .dataframe tbody tr th {\n",
       "        vertical-align: top;\n",
       "    }\n",
       "\n",
       "    .dataframe thead th {\n",
       "        text-align: right;\n",
       "    }\n",
       "</style>\n",
       "<table border=\"1\" class=\"dataframe\">\n",
       "  <thead>\n",
       "    <tr style=\"text-align: right;\">\n",
       "      <th></th>\n",
       "      <th>var1</th>\n",
       "      <th>var2</th>\n",
       "      <th>corr</th>\n",
       "    </tr>\n",
       "  </thead>\n",
       "  <tbody>\n",
       "    <tr>\n",
       "      <th>0</th>\n",
       "      <td>credlim_avg_r12</td>\n",
       "      <td>opentobuy_avg_r12</td>\n",
       "      <td>0.81</td>\n",
       "    </tr>\n",
       "    <tr>\n",
       "      <th>1</th>\n",
       "      <td>gender</td>\n",
       "      <td>inc</td>\n",
       "      <td>0.71</td>\n",
       "    </tr>\n",
       "    <tr>\n",
       "      <th>2</th>\n",
       "      <td>tx_amt_r12</td>\n",
       "      <td>tx_ct_r12</td>\n",
       "      <td>0.71</td>\n",
       "    </tr>\n",
       "    <tr>\n",
       "      <th>3</th>\n",
       "      <td>age</td>\n",
       "      <td>mo_on_book</td>\n",
       "      <td>0.61</td>\n",
       "    </tr>\n",
       "    <tr>\n",
       "      <th>4</th>\n",
       "      <td>tx_amt_r12</td>\n",
       "      <td>tx_amt_pertx_r12</td>\n",
       "      <td>0.59</td>\n",
       "    </tr>\n",
       "    <tr>\n",
       "      <th>5</th>\n",
       "      <td>opentobuy_avg_r12</td>\n",
       "      <td>utilratio_avg</td>\n",
       "      <td>0.56</td>\n",
       "    </tr>\n",
       "    <tr>\n",
       "      <th>6</th>\n",
       "      <td>revbal_avg_r12</td>\n",
       "      <td>utilratio_avg</td>\n",
       "      <td>0.53</td>\n",
       "    </tr>\n",
       "    <tr>\n",
       "      <th>7</th>\n",
       "      <td>gender</td>\n",
       "      <td>credlim_avg_r12</td>\n",
       "      <td>0.36</td>\n",
       "    </tr>\n",
       "    <tr>\n",
       "      <th>8</th>\n",
       "      <td>credlim_avg_r12</td>\n",
       "      <td>utilratio_avg</td>\n",
       "      <td>0.36</td>\n",
       "    </tr>\n",
       "    <tr>\n",
       "      <th>9</th>\n",
       "      <td>gender</td>\n",
       "      <td>opentobuy_avg_r12</td>\n",
       "      <td>0.35</td>\n",
       "    </tr>\n",
       "    <tr>\n",
       "      <th>10</th>\n",
       "      <td>credlim_avg_r12</td>\n",
       "      <td>inc</td>\n",
       "      <td>0.31</td>\n",
       "    </tr>\n",
       "    <tr>\n",
       "      <th>11</th>\n",
       "      <td>tx_ct_r12</td>\n",
       "      <td>tx_amt_pertx_r12</td>\n",
       "      <td>0.30</td>\n",
       "    </tr>\n",
       "  </tbody>\n",
       "</table>\n",
       "</div>"
      ],
      "text/plain": [
       "                 var1               var2  corr\n",
       "0     credlim_avg_r12  opentobuy_avg_r12  0.81\n",
       "1              gender                inc  0.71\n",
       "2          tx_amt_r12          tx_ct_r12  0.71\n",
       "3                 age         mo_on_book  0.61\n",
       "4          tx_amt_r12   tx_amt_pertx_r12  0.59\n",
       "5   opentobuy_avg_r12      utilratio_avg  0.56\n",
       "6      revbal_avg_r12      utilratio_avg  0.53\n",
       "7              gender    credlim_avg_r12  0.36\n",
       "8     credlim_avg_r12      utilratio_avg  0.36\n",
       "9              gender  opentobuy_avg_r12  0.35\n",
       "10    credlim_avg_r12                inc  0.31\n",
       "11          tx_ct_r12   tx_amt_pertx_r12  0.30"
      ]
     },
     "execution_count": 25,
     "metadata": {},
     "output_type": "execute_result"
    }
   ],
   "source": [
    "multicoll_ranked_kendall = multicoll_ranked(d_sample, 'kendall')\n",
    "multicoll_ranked_kendall"
   ]
  },
  {
   "cell_type": "code",
   "execution_count": 26,
   "id": "located-daisy",
   "metadata": {
    "jupyter": {
     "source_hidden": true
    },
    "tags": []
   },
   "outputs": [
    {
     "name": "stdout",
     "output_type": "stream",
     "text": [
      "Spearman Correlation Pair\n"
     ]
    },
    {
     "data": {
      "text/html": [
       "<div>\n",
       "<style scoped>\n",
       "    .dataframe tbody tr th:only-of-type {\n",
       "        vertical-align: middle;\n",
       "    }\n",
       "\n",
       "    .dataframe tbody tr th {\n",
       "        vertical-align: top;\n",
       "    }\n",
       "\n",
       "    .dataframe thead th {\n",
       "        text-align: right;\n",
       "    }\n",
       "</style>\n",
       "<table border=\"1\" class=\"dataframe\">\n",
       "  <thead>\n",
       "    <tr style=\"text-align: right;\">\n",
       "      <th></th>\n",
       "      <th>var1</th>\n",
       "      <th>var2</th>\n",
       "      <th>corr</th>\n",
       "    </tr>\n",
       "  </thead>\n",
       "  <tbody>\n",
       "    <tr>\n",
       "      <th>0</th>\n",
       "      <td>credlim_avg_r12</td>\n",
       "      <td>opentobuy_avg_r12</td>\n",
       "      <td>0.93</td>\n",
       "    </tr>\n",
       "    <tr>\n",
       "      <th>1</th>\n",
       "      <td>tx_amt_r12</td>\n",
       "      <td>tx_ct_r12</td>\n",
       "      <td>0.88</td>\n",
       "    </tr>\n",
       "    <tr>\n",
       "      <th>2</th>\n",
       "      <td>gender</td>\n",
       "      <td>inc</td>\n",
       "      <td>0.79</td>\n",
       "    </tr>\n",
       "    <tr>\n",
       "      <th>3</th>\n",
       "      <td>tx_amt_r12</td>\n",
       "      <td>tx_amt_pertx_r12</td>\n",
       "      <td>0.78</td>\n",
       "    </tr>\n",
       "    <tr>\n",
       "      <th>4</th>\n",
       "      <td>age</td>\n",
       "      <td>mo_on_book</td>\n",
       "      <td>0.77</td>\n",
       "    </tr>\n",
       "    <tr>\n",
       "      <th>5</th>\n",
       "      <td>revbal_avg_r12</td>\n",
       "      <td>utilratio_avg</td>\n",
       "      <td>0.71</td>\n",
       "    </tr>\n",
       "    <tr>\n",
       "      <th>6</th>\n",
       "      <td>opentobuy_avg_r12</td>\n",
       "      <td>utilratio_avg</td>\n",
       "      <td>0.69</td>\n",
       "    </tr>\n",
       "    <tr>\n",
       "      <th>7</th>\n",
       "      <td>tx_ct_r12</td>\n",
       "      <td>tx_amt_pertx_r12</td>\n",
       "      <td>0.45</td>\n",
       "    </tr>\n",
       "    <tr>\n",
       "      <th>8</th>\n",
       "      <td>gender</td>\n",
       "      <td>credlim_avg_r12</td>\n",
       "      <td>0.44</td>\n",
       "    </tr>\n",
       "    <tr>\n",
       "      <th>9</th>\n",
       "      <td>gender</td>\n",
       "      <td>opentobuy_avg_r12</td>\n",
       "      <td>0.43</td>\n",
       "    </tr>\n",
       "    <tr>\n",
       "      <th>10</th>\n",
       "      <td>credlim_avg_r12</td>\n",
       "      <td>utilratio_avg</td>\n",
       "      <td>0.42</td>\n",
       "    </tr>\n",
       "    <tr>\n",
       "      <th>11</th>\n",
       "      <td>credlim_avg_r12</td>\n",
       "      <td>inc</td>\n",
       "      <td>0.41</td>\n",
       "    </tr>\n",
       "    <tr>\n",
       "      <th>12</th>\n",
       "      <td>opentobuy_avg_r12</td>\n",
       "      <td>inc</td>\n",
       "      <td>0.40</td>\n",
       "    </tr>\n",
       "    <tr>\n",
       "      <th>13</th>\n",
       "      <td>chng_tx_amt_q4_q1</td>\n",
       "      <td>chng_tx_ct_q4_q1</td>\n",
       "      <td>0.30</td>\n",
       "    </tr>\n",
       "  </tbody>\n",
       "</table>\n",
       "</div>"
      ],
      "text/plain": [
       "                 var1               var2  corr\n",
       "0     credlim_avg_r12  opentobuy_avg_r12  0.93\n",
       "1          tx_amt_r12          tx_ct_r12  0.88\n",
       "2              gender                inc  0.79\n",
       "3          tx_amt_r12   tx_amt_pertx_r12  0.78\n",
       "4                 age         mo_on_book  0.77\n",
       "5      revbal_avg_r12      utilratio_avg  0.71\n",
       "6   opentobuy_avg_r12      utilratio_avg  0.69\n",
       "7           tx_ct_r12   tx_amt_pertx_r12  0.45\n",
       "8              gender    credlim_avg_r12  0.44\n",
       "9              gender  opentobuy_avg_r12  0.43\n",
       "10    credlim_avg_r12      utilratio_avg  0.42\n",
       "11    credlim_avg_r12                inc  0.41\n",
       "12  opentobuy_avg_r12                inc  0.40\n",
       "13  chng_tx_amt_q4_q1   chng_tx_ct_q4_q1  0.30"
      ]
     },
     "execution_count": 26,
     "metadata": {},
     "output_type": "execute_result"
    }
   ],
   "source": [
    "multicoll_ranked_spearman = multicoll_ranked(d_sample, 'spearman')\n",
    "multicoll_ranked_spearman"
   ]
  },
  {
   "cell_type": "markdown",
   "id": "whole-pursuit",
   "metadata": {},
   "source": [
    "<a id='4.2'>\n",
    "    <h2 style='font-size:240%;'>\n",
    "        Supervised</h2></a>"
   ]
  },
  {
   "cell_type": "markdown",
   "id": "viral-plastic",
   "metadata": {},
   "source": [
    "Supervised feature selection techniques consider the target variables in selecting the features that are the most important to predicting the target. These techniques can be used to remove irrelevant features.\n",
    "\n",
    "A few ways in which we can use supervised feature selection techniques are:\n",
    "1. Wrapper methods\n",
    "2. Filter methods\n",
    "3. Intrinsic methods\n",
    "\n",
    "These methods are evaluated based on the resulting model's performance on a test set. \n",
    "\n",
    "**Wrapper feature selection methods** use different subsets of input variables to create multiple models and choose the feature combination that maximizes the model performance according to a metric. These methods are not sensitive to variable types but can be computationally expensive. RFE is one of the more common examples of a wrapper method.\n",
    "\n",
    "**Filter feature selection methods** use statistical techniques to understand the relationship between the predictors and the target variable. Then, the resulting scores are used to filter out the input variables to be used in the model. Examples include statistical methods and feature importance methods. One must keep in mind that most of these techniques are univariate (predictors are evaluated in isolation one at a time) which may result in too many predictors and collinearity.\n",
    "\n",
    "Finally, there are some algorithms that select features automatically as a part of learning the model. These techniques are referred to as **intrinsic feature selection methods**. These methods include penalized regression models such as Lasso and decision trees as well as ensembles of decision trees like random forest. \n",
    "\n",
    "We must note that some rule-based models such as the tree methods, MARS, and the lasso, are naturally resistant to non-informative predictors. \n",
    "\n",
    "An alternative to feature selection is a **dimensionality reduction method**. While these two are similar in that they both aim to reduce the number of features, they are different in that feature selection methods pick and choose which features to keep or remove whereas dimensionality reduction methods transform the input features entirely. \n",
    "\n",
    "[Source: Machine Learning Mastery - Feature Selection with Real & Categorical Data](https://machinelearningmastery.com/feature-selection-with-real-and-categorical-data/)"
   ]
  },
  {
   "cell_type": "markdown",
   "id": "included-spelling",
   "metadata": {},
   "source": [
    "For numerical predictors, we will be using the filter methods, ANOVA correlation coefficient (linear) and Kendall's rank coefficient (nonlinear). Kendall assumes categorical vaiables to be ordinal."
   ]
  },
  {
   "cell_type": "markdown",
   "id": "greater-couple",
   "metadata": {},
   "source": [
    "<a id='4.2'>\n",
    "    <h2 style='font-size:210%;'>\n",
    "        Correlation Measures</h2></a>"
   ]
  },
  {
   "cell_type": "markdown",
   "id": "effective-centre",
   "metadata": {},
   "source": [
    "Rank correlation can be calculated for real-valued variables. This is done by first converting the values for each variable into rank data. This is where the values are ordered and assigned an integer rank value. Rank correlation coefficients can then be calculated in order to quantify the association between the two ranked variables.\n",
    "\n",
    "Because no distribution for the values is assumed, rank correlation methods are referred to as distribution-free correlation or nonparametric correlation. Interestingly, rank correlation measures are often used as the basis for other statistical hypothesis tests, such as determining whether two samples were likely drawn from the same (or different) population distributions.\n",
    "\n",
    "[Source: Machine Learning Mastery - How to Calculate Nonparametric Rank Correlation in Python](https://machinelearningmastery.com/how-to-calculate-nonparametric-rank-correlation-in-python/)"
   ]
  },
  {
   "cell_type": "markdown",
   "id": "subjective-grant",
   "metadata": {},
   "source": [
    "1. Spearman’s Rank Correlation\n",
    "2. Kendall’s Rank Correlation\n",
    "3. Chi-Squared Test"
   ]
  },
  {
   "cell_type": "code",
   "execution_count": 27,
   "id": "deluxe-wisconsin",
   "metadata": {
    "jupyter": {
     "source_hidden": true
    },
    "tags": []
   },
   "outputs": [],
   "source": [
    "# null: the two variables are correlated\n",
    "def sig_corr(d, corr_test, sig='sig'):\n",
    "    \n",
    "    # create a 3 lists of variable names, coefs, and p-values for every predictor-target pair\n",
    "    l_var, l_coef, l_p = [],[],[]\n",
    "    for i in d.columns:\n",
    "        coef, p = corr_test(d[i], d['churn'])\n",
    "        l_var.append(i)\n",
    "        l_coef.append(round(coef,3))\n",
    "        l_p.append(round(p,3))\n",
    "    \n",
    "    # make 2 df's: significant and insignificant variables\n",
    "    df_all = pd.DataFrame(zip(l_var, l_coef, l_p), columns=['var','coef','p'])\n",
    "    df_sig = df_all.loc[df_all['p']<=.05,:].sort_values(by='coef',ascending=False)[1:].reset_index(drop=True)\n",
    "    df_insig = df_all.loc[df_all['p']>.05,:].sort_values(by='coef',ascending=False).reset_index(drop=True)\n",
    "    \n",
    "    # return the df of significant variables by default. If sig='insig', return the df of insignificant variables\n",
    "    if sig=='insig':\n",
    "        print(f'The following variables are likely NOT correlated to `churn`. We fail to reject H0:\\n')\n",
    "        return(df_insig)\n",
    "    else:\n",
    "        print(f'The following variables are likely correlated to `churn`. We can safely reject H0:\\n')\n",
    "        return(df_sig)"
   ]
  },
  {
   "cell_type": "markdown",
   "id": "numerous-questionnaire",
   "metadata": {},
   "source": [
    "<a id='4.2'>\n",
    "    <h2 style='font-size:180%;'>\n",
    "        Spearman's Rank Correlation</h2></a>"
   ]
  },
  {
   "cell_type": "markdown",
   "id": "structured-detail",
   "metadata": {},
   "source": [
    "This statistical method quantifies the degree to which ranked variables are associated by a monotonic function, meaning an increasing or decreasing relationship. As a statistical hypothesis test, the method assumes that the samples are uncorrelated (fail to reject H0).\n",
    "\n",
    "[Source: Machine Learning Mastery - How to Calculate Nonparametric Rank Correlation in Python](https://machinelearningmastery.com/how-to-calculate-nonparametric-rank-correlation-in-python/)"
   ]
  },
  {
   "cell_type": "code",
   "execution_count": 28,
   "id": "joint-kuwait",
   "metadata": {
    "jupyter": {
     "source_hidden": true
    },
    "tags": []
   },
   "outputs": [
    {
     "name": "stdout",
     "output_type": "stream",
     "text": [
      "Spearman Correlation Pair\n"
     ]
    },
    {
     "data": {
      "text/html": [
       "<div>\n",
       "<style scoped>\n",
       "    .dataframe tbody tr th:only-of-type {\n",
       "        vertical-align: middle;\n",
       "    }\n",
       "\n",
       "    .dataframe tbody tr th {\n",
       "        vertical-align: top;\n",
       "    }\n",
       "\n",
       "    .dataframe thead th {\n",
       "        text-align: right;\n",
       "    }\n",
       "</style>\n",
       "<table border=\"1\" class=\"dataframe\">\n",
       "  <thead>\n",
       "    <tr style=\"text-align: right;\">\n",
       "      <th></th>\n",
       "      <th>var1</th>\n",
       "      <th>var2</th>\n",
       "      <th>corr</th>\n",
       "    </tr>\n",
       "  </thead>\n",
       "  <tbody>\n",
       "    <tr>\n",
       "      <th>0</th>\n",
       "      <td>credlim_avg_r12</td>\n",
       "      <td>opentobuy_avg_r12</td>\n",
       "      <td>0.93</td>\n",
       "    </tr>\n",
       "    <tr>\n",
       "      <th>1</th>\n",
       "      <td>tx_amt_r12</td>\n",
       "      <td>tx_ct_r12</td>\n",
       "      <td>0.88</td>\n",
       "    </tr>\n",
       "    <tr>\n",
       "      <th>2</th>\n",
       "      <td>gender</td>\n",
       "      <td>inc</td>\n",
       "      <td>0.79</td>\n",
       "    </tr>\n",
       "    <tr>\n",
       "      <th>3</th>\n",
       "      <td>tx_amt_r12</td>\n",
       "      <td>tx_amt_pertx_r12</td>\n",
       "      <td>0.78</td>\n",
       "    </tr>\n",
       "    <tr>\n",
       "      <th>4</th>\n",
       "      <td>age</td>\n",
       "      <td>mo_on_book</td>\n",
       "      <td>0.77</td>\n",
       "    </tr>\n",
       "    <tr>\n",
       "      <th>5</th>\n",
       "      <td>revbal_avg_r12</td>\n",
       "      <td>utilratio_avg</td>\n",
       "      <td>0.71</td>\n",
       "    </tr>\n",
       "    <tr>\n",
       "      <th>6</th>\n",
       "      <td>opentobuy_avg_r12</td>\n",
       "      <td>utilratio_avg</td>\n",
       "      <td>0.69</td>\n",
       "    </tr>\n",
       "    <tr>\n",
       "      <th>7</th>\n",
       "      <td>tx_ct_r12</td>\n",
       "      <td>tx_amt_pertx_r12</td>\n",
       "      <td>0.45</td>\n",
       "    </tr>\n",
       "    <tr>\n",
       "      <th>8</th>\n",
       "      <td>gender</td>\n",
       "      <td>credlim_avg_r12</td>\n",
       "      <td>0.44</td>\n",
       "    </tr>\n",
       "    <tr>\n",
       "      <th>9</th>\n",
       "      <td>gender</td>\n",
       "      <td>opentobuy_avg_r12</td>\n",
       "      <td>0.43</td>\n",
       "    </tr>\n",
       "    <tr>\n",
       "      <th>10</th>\n",
       "      <td>credlim_avg_r12</td>\n",
       "      <td>utilratio_avg</td>\n",
       "      <td>0.42</td>\n",
       "    </tr>\n",
       "    <tr>\n",
       "      <th>11</th>\n",
       "      <td>credlim_avg_r12</td>\n",
       "      <td>inc</td>\n",
       "      <td>0.41</td>\n",
       "    </tr>\n",
       "    <tr>\n",
       "      <th>12</th>\n",
       "      <td>opentobuy_avg_r12</td>\n",
       "      <td>inc</td>\n",
       "      <td>0.40</td>\n",
       "    </tr>\n",
       "    <tr>\n",
       "      <th>13</th>\n",
       "      <td>chng_tx_amt_q4_q1</td>\n",
       "      <td>chng_tx_ct_q4_q1</td>\n",
       "      <td>0.30</td>\n",
       "    </tr>\n",
       "  </tbody>\n",
       "</table>\n",
       "</div>"
      ],
      "text/plain": [
       "                 var1               var2  corr\n",
       "0     credlim_avg_r12  opentobuy_avg_r12  0.93\n",
       "1          tx_amt_r12          tx_ct_r12  0.88\n",
       "2              gender                inc  0.79\n",
       "3          tx_amt_r12   tx_amt_pertx_r12  0.78\n",
       "4                 age         mo_on_book  0.77\n",
       "5      revbal_avg_r12      utilratio_avg  0.71\n",
       "6   opentobuy_avg_r12      utilratio_avg  0.69\n",
       "7           tx_ct_r12   tx_amt_pertx_r12  0.45\n",
       "8              gender    credlim_avg_r12  0.44\n",
       "9              gender  opentobuy_avg_r12  0.43\n",
       "10    credlim_avg_r12      utilratio_avg  0.42\n",
       "11    credlim_avg_r12                inc  0.41\n",
       "12  opentobuy_avg_r12                inc  0.40\n",
       "13  chng_tx_amt_q4_q1   chng_tx_ct_q4_q1  0.30"
      ]
     },
     "execution_count": 28,
     "metadata": {},
     "output_type": "execute_result"
    }
   ],
   "source": [
    "print('Spearman Correlation Pair')\n",
    "multicoll_ranked_spearman"
   ]
  },
  {
   "cell_type": "code",
   "execution_count": 29,
   "id": "welcome-thickness",
   "metadata": {
    "jupyter": {
     "source_hidden": true
    },
    "tags": []
   },
   "outputs": [
    {
     "name": "stdout",
     "output_type": "stream",
     "text": [
      "The following variables are likely correlated to `churn`. We can safely reject H0:\n",
      "\n"
     ]
    },
    {
     "data": {
      "text/html": [
       "<div>\n",
       "<style scoped>\n",
       "    .dataframe tbody tr th:only-of-type {\n",
       "        vertical-align: middle;\n",
       "    }\n",
       "\n",
       "    .dataframe tbody tr th {\n",
       "        vertical-align: top;\n",
       "    }\n",
       "\n",
       "    .dataframe thead th {\n",
       "        text-align: right;\n",
       "    }\n",
       "</style>\n",
       "<table border=\"1\" class=\"dataframe\">\n",
       "  <thead>\n",
       "    <tr style=\"text-align: right;\">\n",
       "      <th></th>\n",
       "      <th>var</th>\n",
       "      <th>coef</th>\n",
       "      <th>p</th>\n",
       "    </tr>\n",
       "  </thead>\n",
       "  <tbody>\n",
       "    <tr>\n",
       "      <th>0</th>\n",
       "      <td>contr_ct_r12</td>\n",
       "      <td>0.19</td>\n",
       "      <td>0.00</td>\n",
       "    </tr>\n",
       "    <tr>\n",
       "      <th>1</th>\n",
       "      <td>mo_inactive_r12</td>\n",
       "      <td>0.17</td>\n",
       "      <td>0.00</td>\n",
       "    </tr>\n",
       "    <tr>\n",
       "      <th>2</th>\n",
       "      <td>opentobuy_avg_r12</td>\n",
       "      <td>0.03</td>\n",
       "      <td>0.01</td>\n",
       "    </tr>\n",
       "    <tr>\n",
       "      <th>3</th>\n",
       "      <td>dependents</td>\n",
       "      <td>0.02</td>\n",
       "      <td>0.04</td>\n",
       "    </tr>\n",
       "    <tr>\n",
       "      <th>4</th>\n",
       "      <td>marstat_Married</td>\n",
       "      <td>-0.02</td>\n",
       "      <td>0.02</td>\n",
       "    </tr>\n",
       "    <tr>\n",
       "      <th>5</th>\n",
       "      <td>gender</td>\n",
       "      <td>-0.04</td>\n",
       "      <td>0.00</td>\n",
       "    </tr>\n",
       "    <tr>\n",
       "      <th>6</th>\n",
       "      <td>credlim_avg_r12</td>\n",
       "      <td>-0.05</td>\n",
       "      <td>0.00</td>\n",
       "    </tr>\n",
       "    <tr>\n",
       "      <th>7</th>\n",
       "      <td>chng_tx_amt_q4_q1</td>\n",
       "      <td>-0.10</td>\n",
       "      <td>0.00</td>\n",
       "    </tr>\n",
       "    <tr>\n",
       "      <th>8</th>\n",
       "      <td>prod_ct</td>\n",
       "      <td>-0.15</td>\n",
       "      <td>0.00</td>\n",
       "    </tr>\n",
       "    <tr>\n",
       "      <th>9</th>\n",
       "      <td>tx_amt_r12</td>\n",
       "      <td>-0.22</td>\n",
       "      <td>0.00</td>\n",
       "    </tr>\n",
       "    <tr>\n",
       "      <th>10</th>\n",
       "      <td>utilratio_avg</td>\n",
       "      <td>-0.24</td>\n",
       "      <td>0.00</td>\n",
       "    </tr>\n",
       "    <tr>\n",
       "      <th>11</th>\n",
       "      <td>revbal_avg_r12</td>\n",
       "      <td>-0.24</td>\n",
       "      <td>0.00</td>\n",
       "    </tr>\n",
       "    <tr>\n",
       "      <th>12</th>\n",
       "      <td>chng_tx_ct_q4_q1</td>\n",
       "      <td>-0.31</td>\n",
       "      <td>0.00</td>\n",
       "    </tr>\n",
       "    <tr>\n",
       "      <th>13</th>\n",
       "      <td>tx_ct_r12</td>\n",
       "      <td>-0.38</td>\n",
       "      <td>0.00</td>\n",
       "    </tr>\n",
       "  </tbody>\n",
       "</table>\n",
       "</div>"
      ],
      "text/plain": [
       "                  var  coef    p\n",
       "0        contr_ct_r12  0.19 0.00\n",
       "1     mo_inactive_r12  0.17 0.00\n",
       "2   opentobuy_avg_r12  0.03 0.01\n",
       "3          dependents  0.02 0.04\n",
       "4     marstat_Married -0.02 0.02\n",
       "5              gender -0.04 0.00\n",
       "6     credlim_avg_r12 -0.05 0.00\n",
       "7   chng_tx_amt_q4_q1 -0.10 0.00\n",
       "8             prod_ct -0.15 0.00\n",
       "9          tx_amt_r12 -0.22 0.00\n",
       "10      utilratio_avg -0.24 0.00\n",
       "11     revbal_avg_r12 -0.24 0.00\n",
       "12   chng_tx_ct_q4_q1 -0.31 0.00\n",
       "13          tx_ct_r12 -0.38 0.00"
      ]
     },
     "execution_count": 29,
     "metadata": {},
     "output_type": "execute_result"
    }
   ],
   "source": [
    "sig_spearman = sig_corr(d, spearmanr)\n",
    "sig_spearman"
   ]
  },
  {
   "cell_type": "code",
   "execution_count": 30,
   "id": "broadband-wrist",
   "metadata": {
    "jupyter": {
     "source_hidden": true
    },
    "tags": []
   },
   "outputs": [],
   "source": [
    "sig_spearman_abs = sig_spearman.copy()\n",
    "sig_spearman_abs['coef'] = sig_spearman_abs['coef'].abs()"
   ]
  },
  {
   "cell_type": "markdown",
   "id": "headed-evidence",
   "metadata": {},
   "source": [
    "<a id='4.2'>\n",
    "    <h2 style='font-size:180%;'>\n",
    "        Test w/ Spearman's Rank Correlation</h2></a>"
   ]
  },
  {
   "cell_type": "markdown",
   "id": "natural-railway",
   "metadata": {},
   "source": [
    "Note: Kendall Tau's (below) also yielded the same columns."
   ]
  },
  {
   "cell_type": "code",
   "execution_count": 31,
   "id": "selected-recycling",
   "metadata": {
    "jupyter": {
     "source_hidden": true
    },
    "tags": []
   },
   "outputs": [
    {
     "name": "stdout",
     "output_type": "stream",
     "text": [
      "Scaler: RS\n",
      "\n",
      "Model LR Runtime: 00:01\n",
      "Model LDA Runtime: 00:01\n",
      "Model NB Runtime: 00:00\n",
      "Model DT Runtime: 00:01\n",
      "Model KNN Runtime: 00:26\n",
      "Model MLP Runtime: 08:56\n",
      "Model BDT Runtime: 00:31\n",
      "Model RF Runtime: 00:12\n",
      "Model GB Runtime: 00:25\n",
      "Scaler RS Avg Runtime per Model: 01:10\n",
      "\n",
      "\n",
      "Scaler: QT\n",
      "\n",
      "Model LR Runtime: 00:01\n",
      "Model LDA Runtime: 00:01\n",
      "Model NB Runtime: 00:01\n",
      "Model DT Runtime: 00:02\n",
      "Model KNN Runtime: 00:28\n",
      "Model MLP Runtime: 06:33\n",
      "Model BDT Runtime: 00:30\n",
      "Model RF Runtime: 00:12\n",
      "Model GB Runtime: 00:27\n",
      "Scaler QT Avg Runtime per Model: 00:55\n",
      "\n",
      "\n",
      "Total Runtime: 18:58 min\n"
     ]
    }
   ],
   "source": [
    "var_to_keep = ['churn', 'tx_ct_r12', 'chng_tx_ct_q4_q1', 'revbal_avg_r12', 'contr_ct_r12', 'mo_inactive_r12', 'prod_ct', \n",
    "               'credlim_avg_r12', 'gender', 'marstat_Married','dependents']\n",
    "d_values = d[var_to_keep].values\n",
    "x, y = d_values[:,1:], d_values[:,:1].ravel()\n",
    "results_trmt = summary_by_mod(x, y, models, scalers, result_func=result_rskf, n_splits=10, n_repeats=5)"
   ]
  },
  {
   "cell_type": "code",
   "execution_count": 32,
   "id": "thrown-february",
   "metadata": {
    "jupyter": {
     "source_hidden": true
    },
    "tags": []
   },
   "outputs": [],
   "source": [
    "results_trmt_RS = pd.concat([i for i in results_trmt[0]], axis=1)\n",
    "results_trmt_QT = pd.concat([i for i in results_trmt[1]], axis=1)"
   ]
  },
  {
   "cell_type": "markdown",
   "id": "heavy-myrtle",
   "metadata": {},
   "source": [
    "<a id='4.2'>\n",
    "    <h2 style='font-size:150%;'>\n",
    "        Summary Comparison to Baseline</h2></a>"
   ]
  },
  {
   "cell_type": "markdown",
   "id": "desperate-breed",
   "metadata": {},
   "source": [
    "Dropping the variables didn't help at all. The models are worsened across all pipelines."
   ]
  },
  {
   "cell_type": "code",
   "execution_count": 33,
   "id": "victorian-bacteria",
   "metadata": {
    "jupyter": {
     "source_hidden": true
    },
    "tags": []
   },
   "outputs": [
    {
     "name": "stdout",
     "output_type": "stream",
     "text": [
      "Results for Robust Scaler:\n"
     ]
    },
    {
     "data": {
      "text/html": [
       "<div>\n",
       "<style scoped>\n",
       "    .dataframe tbody tr th:only-of-type {\n",
       "        vertical-align: middle;\n",
       "    }\n",
       "\n",
       "    .dataframe tbody tr th {\n",
       "        vertical-align: top;\n",
       "    }\n",
       "\n",
       "    .dataframe thead tr th {\n",
       "        text-align: left;\n",
       "    }\n",
       "</style>\n",
       "<table border=\"1\" class=\"dataframe\">\n",
       "  <thead>\n",
       "    <tr>\n",
       "      <th></th>\n",
       "      <th colspan=\"2\" halign=\"left\">recall</th>\n",
       "      <th colspan=\"2\" halign=\"left\">prec</th>\n",
       "      <th colspan=\"2\" halign=\"left\">f2</th>\n",
       "    </tr>\n",
       "    <tr>\n",
       "      <th></th>\n",
       "      <th>bsl</th>\n",
       "      <th>trmt</th>\n",
       "      <th>bsl</th>\n",
       "      <th>trmt</th>\n",
       "      <th>bsl</th>\n",
       "      <th>trmt</th>\n",
       "    </tr>\n",
       "  </thead>\n",
       "  <tbody>\n",
       "    <tr>\n",
       "      <th>LR</th>\n",
       "      <td>0.86</td>\n",
       "      <td>0.83</td>\n",
       "      <td>0.54</td>\n",
       "      <td>0.48</td>\n",
       "      <td>0.77</td>\n",
       "      <td>0.72</td>\n",
       "    </tr>\n",
       "    <tr>\n",
       "      <th>LDA</th>\n",
       "      <td>0.64</td>\n",
       "      <td>0.56</td>\n",
       "      <td>0.78</td>\n",
       "      <td>0.76</td>\n",
       "      <td>0.66</td>\n",
       "      <td>0.59</td>\n",
       "    </tr>\n",
       "    <tr>\n",
       "      <th>NB</th>\n",
       "      <td>0.60</td>\n",
       "      <td>0.57</td>\n",
       "      <td>0.68</td>\n",
       "      <td>0.77</td>\n",
       "      <td>0.62</td>\n",
       "      <td>0.60</td>\n",
       "    </tr>\n",
       "    <tr>\n",
       "      <th>DT</th>\n",
       "      <td>0.81</td>\n",
       "      <td>0.67</td>\n",
       "      <td>0.81</td>\n",
       "      <td>0.66</td>\n",
       "      <td>0.81</td>\n",
       "      <td>0.67</td>\n",
       "    </tr>\n",
       "    <tr>\n",
       "      <th>KNN</th>\n",
       "      <td>0.64</td>\n",
       "      <td>0.54</td>\n",
       "      <td>0.87</td>\n",
       "      <td>0.80</td>\n",
       "      <td>0.67</td>\n",
       "      <td>0.58</td>\n",
       "    </tr>\n",
       "    <tr>\n",
       "      <th>MLP</th>\n",
       "      <td>0.82</td>\n",
       "      <td>0.70</td>\n",
       "      <td>0.85</td>\n",
       "      <td>0.80</td>\n",
       "      <td>0.83</td>\n",
       "      <td>0.71</td>\n",
       "    </tr>\n",
       "    <tr>\n",
       "      <th>BDT</th>\n",
       "      <td>0.85</td>\n",
       "      <td>0.69</td>\n",
       "      <td>0.91</td>\n",
       "      <td>0.82</td>\n",
       "      <td>0.86</td>\n",
       "      <td>0.71</td>\n",
       "    </tr>\n",
       "    <tr>\n",
       "      <th>RF</th>\n",
       "      <td>0.81</td>\n",
       "      <td>0.67</td>\n",
       "      <td>0.93</td>\n",
       "      <td>0.86</td>\n",
       "      <td>0.83</td>\n",
       "      <td>0.70</td>\n",
       "    </tr>\n",
       "    <tr>\n",
       "      <th>GB</th>\n",
       "      <td>0.85</td>\n",
       "      <td>0.69</td>\n",
       "      <td>0.93</td>\n",
       "      <td>0.85</td>\n",
       "      <td>0.86</td>\n",
       "      <td>0.71</td>\n",
       "    </tr>\n",
       "  </tbody>\n",
       "</table>\n",
       "</div>"
      ],
      "text/plain": [
       "    recall      prec        f2     \n",
       "       bsl trmt  bsl trmt  bsl trmt\n",
       "LR    0.86 0.83 0.54 0.48 0.77 0.72\n",
       "LDA   0.64 0.56 0.78 0.76 0.66 0.59\n",
       "NB    0.60 0.57 0.68 0.77 0.62 0.60\n",
       "DT    0.81 0.67 0.81 0.66 0.81 0.67\n",
       "KNN   0.64 0.54 0.87 0.80 0.67 0.58\n",
       "MLP   0.82 0.70 0.85 0.80 0.83 0.71\n",
       "BDT   0.85 0.69 0.91 0.82 0.86 0.71\n",
       "RF    0.81 0.67 0.93 0.86 0.83 0.70\n",
       "GB    0.85 0.69 0.93 0.85 0.86 0.71"
      ]
     },
     "execution_count": 33,
     "metadata": {},
     "output_type": "execute_result"
    }
   ],
   "source": [
    "print('Results for Robust Scaler:')\n",
    "tem = results_bsl_RS.loc[['test_recall', 'test_precision', 'test_f2']]\n",
    "df_RS_bsl = tem.loc[:,np.in1d(tem.columns.get_level_values(1), 'mean')].droplevel(level=1, axis=1).rename(\n",
    "    index={'test_recall':'recall', 'test_precision':'prec', 'test_f2':'f2'}).T\n",
    "\n",
    "tem = results_trmt_RS.loc[['test_recall', 'test_precision', 'test_f2']]\n",
    "df_RS_trmt = tem.loc[:,np.in1d(tem.columns.get_level_values(1), 'mean')].droplevel(level=1, axis=1).rename(\n",
    "    index={'test_recall':'recall', 'test_precision':'prec', 'test_f2':'f2'}).T\n",
    "\n",
    "comp_RS_kendall = pd.concat(\n",
    "    [df_RS_bsl, df_RS_trmt], axis=1, \n",
    "    keys=['bsl','trmt']).reorder_levels(\n",
    "    order=[1, 0], axis=1).reindex(\n",
    "    ['recall', 'prec', 'f2'], level=0, axis=1)\n",
    "comp_RS_kendall"
   ]
  },
  {
   "cell_type": "code",
   "execution_count": 34,
   "id": "tribal-dealer",
   "metadata": {
    "jupyter": {
     "source_hidden": true
    },
    "tags": []
   },
   "outputs": [
    {
     "name": "stdout",
     "output_type": "stream",
     "text": [
      "Results for Quantile Transformer:\n"
     ]
    },
    {
     "data": {
      "text/html": [
       "<div>\n",
       "<style scoped>\n",
       "    .dataframe tbody tr th:only-of-type {\n",
       "        vertical-align: middle;\n",
       "    }\n",
       "\n",
       "    .dataframe tbody tr th {\n",
       "        vertical-align: top;\n",
       "    }\n",
       "\n",
       "    .dataframe thead tr th {\n",
       "        text-align: left;\n",
       "    }\n",
       "</style>\n",
       "<table border=\"1\" class=\"dataframe\">\n",
       "  <thead>\n",
       "    <tr>\n",
       "      <th></th>\n",
       "      <th colspan=\"2\" halign=\"left\">recall</th>\n",
       "      <th colspan=\"2\" halign=\"left\">prec</th>\n",
       "      <th colspan=\"2\" halign=\"left\">f2</th>\n",
       "    </tr>\n",
       "    <tr>\n",
       "      <th></th>\n",
       "      <th>bsl</th>\n",
       "      <th>trmt</th>\n",
       "      <th>bsl</th>\n",
       "      <th>trmt</th>\n",
       "      <th>bsl</th>\n",
       "      <th>trmt</th>\n",
       "    </tr>\n",
       "  </thead>\n",
       "  <tbody>\n",
       "    <tr>\n",
       "      <th>LR</th>\n",
       "      <td>0.86</td>\n",
       "      <td>0.83</td>\n",
       "      <td>0.53</td>\n",
       "      <td>0.47</td>\n",
       "      <td>0.77</td>\n",
       "      <td>0.72</td>\n",
       "    </tr>\n",
       "    <tr>\n",
       "      <th>LDA</th>\n",
       "      <td>0.62</td>\n",
       "      <td>0.57</td>\n",
       "      <td>0.77</td>\n",
       "      <td>0.74</td>\n",
       "      <td>0.65</td>\n",
       "      <td>0.60</td>\n",
       "    </tr>\n",
       "    <tr>\n",
       "      <th>NB</th>\n",
       "      <td>0.61</td>\n",
       "      <td>0.61</td>\n",
       "      <td>0.63</td>\n",
       "      <td>0.71</td>\n",
       "      <td>0.61</td>\n",
       "      <td>0.63</td>\n",
       "    </tr>\n",
       "    <tr>\n",
       "      <th>DT</th>\n",
       "      <td>0.81</td>\n",
       "      <td>0.67</td>\n",
       "      <td>0.81</td>\n",
       "      <td>0.66</td>\n",
       "      <td>0.81</td>\n",
       "      <td>0.67</td>\n",
       "    </tr>\n",
       "    <tr>\n",
       "      <th>KNN</th>\n",
       "      <td>0.52</td>\n",
       "      <td>0.58</td>\n",
       "      <td>0.81</td>\n",
       "      <td>0.77</td>\n",
       "      <td>0.56</td>\n",
       "      <td>0.61</td>\n",
       "    </tr>\n",
       "    <tr>\n",
       "      <th>MLP</th>\n",
       "      <td>0.83</td>\n",
       "      <td>0.67</td>\n",
       "      <td>0.86</td>\n",
       "      <td>0.82</td>\n",
       "      <td>0.83</td>\n",
       "      <td>0.70</td>\n",
       "    </tr>\n",
       "    <tr>\n",
       "      <th>BDT</th>\n",
       "      <td>0.85</td>\n",
       "      <td>0.69</td>\n",
       "      <td>0.91</td>\n",
       "      <td>0.82</td>\n",
       "      <td>0.86</td>\n",
       "      <td>0.71</td>\n",
       "    </tr>\n",
       "    <tr>\n",
       "      <th>RF</th>\n",
       "      <td>0.81</td>\n",
       "      <td>0.67</td>\n",
       "      <td>0.93</td>\n",
       "      <td>0.86</td>\n",
       "      <td>0.83</td>\n",
       "      <td>0.70</td>\n",
       "    </tr>\n",
       "    <tr>\n",
       "      <th>GB</th>\n",
       "      <td>0.85</td>\n",
       "      <td>0.69</td>\n",
       "      <td>0.93</td>\n",
       "      <td>0.85</td>\n",
       "      <td>0.86</td>\n",
       "      <td>0.71</td>\n",
       "    </tr>\n",
       "  </tbody>\n",
       "</table>\n",
       "</div>"
      ],
      "text/plain": [
       "    recall      prec        f2     \n",
       "       bsl trmt  bsl trmt  bsl trmt\n",
       "LR    0.86 0.83 0.53 0.47 0.77 0.72\n",
       "LDA   0.62 0.57 0.77 0.74 0.65 0.60\n",
       "NB    0.61 0.61 0.63 0.71 0.61 0.63\n",
       "DT    0.81 0.67 0.81 0.66 0.81 0.67\n",
       "KNN   0.52 0.58 0.81 0.77 0.56 0.61\n",
       "MLP   0.83 0.67 0.86 0.82 0.83 0.70\n",
       "BDT   0.85 0.69 0.91 0.82 0.86 0.71\n",
       "RF    0.81 0.67 0.93 0.86 0.83 0.70\n",
       "GB    0.85 0.69 0.93 0.85 0.86 0.71"
      ]
     },
     "execution_count": 34,
     "metadata": {},
     "output_type": "execute_result"
    }
   ],
   "source": [
    "print('Results for Quantile Transformer:')\n",
    "tem = results_bsl_QT.loc[['test_recall', 'test_precision', 'test_f2']]\n",
    "df_QT_bsl = tem.loc[:,np.in1d(tem.columns.get_level_values(1), 'mean')].droplevel(level=1, axis=1).rename(\n",
    "    index={'test_recall':'recall', 'test_precision':'prec', 'test_f2':'f2'}).T\n",
    "\n",
    "tem = results_trmt_QT.loc[['test_recall', 'test_precision', 'test_f2']]\n",
    "df_QT_trmt = tem.loc[:,np.in1d(tem.columns.get_level_values(1), 'mean')].droplevel(level=1, axis=1).rename(\n",
    "    index={'test_recall':'recall', 'test_precision':'prec', 'test_f2':'f2'}).T\n",
    "\n",
    "comp_QT_kendall = pd.concat(\n",
    "    [df_QT_bsl, df_QT_trmt], axis=1, \n",
    "    keys=['bsl','trmt']).reorder_levels(\n",
    "    order=[1, 0], axis=1).reindex(\n",
    "    ['recall', 'prec', 'f2'], level=0, axis=1)\n",
    "comp_QT_kendall"
   ]
  },
  {
   "cell_type": "markdown",
   "id": "dependent-adapter",
   "metadata": {},
   "source": [
    "<a id='4.2'>\n",
    "    <h2 style='font-size:150%;'>\n",
    "        Full Comparison to Baseline</h2></a>"
   ]
  },
  {
   "cell_type": "code",
   "execution_count": 35,
   "id": "technical-teacher",
   "metadata": {
    "jupyter": {
     "source_hidden": true
    },
    "tags": []
   },
   "outputs": [],
   "source": [
    "# results_results_trmt_RS"
   ]
  },
  {
   "cell_type": "code",
   "execution_count": 36,
   "id": "dense-bargain",
   "metadata": {
    "jupyter": {
     "source_hidden": true
    },
    "tags": []
   },
   "outputs": [],
   "source": [
    "# results_results_trmt_QT"
   ]
  },
  {
   "cell_type": "markdown",
   "id": "relevant-mistress",
   "metadata": {},
   "source": [
    "<a id='4.2'>\n",
    "    <h2 style='font-size:180%;'>\n",
    "        Kendall's Tau</h2></a>"
   ]
  },
  {
   "cell_type": "markdown",
   "id": "rational-sydney",
   "metadata": {},
   "source": [
    "The intuition for the test is that it calculates a normalized score for the number of matching or concordant rankings between the two samples. As such, the test is also referred to as Kendall’s concordance test. As a statistical hypothesis test, the method assumes (H0) that there is no association between the two samples.\n",
    "\n",
    "[Source: Machine Learning Mastery - How to Calculate Nonparametric Rank Correlation in Python](https://machinelearningmastery.com/how-to-calculate-nonparametric-rank-correlation-in-python/)"
   ]
  },
  {
   "cell_type": "code",
   "execution_count": 37,
   "id": "indirect-programmer",
   "metadata": {
    "jupyter": {
     "source_hidden": true
    },
    "tags": []
   },
   "outputs": [
    {
     "name": "stdout",
     "output_type": "stream",
     "text": [
      "Kendall Correlation Pair\n"
     ]
    },
    {
     "data": {
      "text/html": [
       "<div>\n",
       "<style scoped>\n",
       "    .dataframe tbody tr th:only-of-type {\n",
       "        vertical-align: middle;\n",
       "    }\n",
       "\n",
       "    .dataframe tbody tr th {\n",
       "        vertical-align: top;\n",
       "    }\n",
       "\n",
       "    .dataframe thead th {\n",
       "        text-align: right;\n",
       "    }\n",
       "</style>\n",
       "<table border=\"1\" class=\"dataframe\">\n",
       "  <thead>\n",
       "    <tr style=\"text-align: right;\">\n",
       "      <th></th>\n",
       "      <th>var1</th>\n",
       "      <th>var2</th>\n",
       "      <th>corr</th>\n",
       "    </tr>\n",
       "  </thead>\n",
       "  <tbody>\n",
       "    <tr>\n",
       "      <th>0</th>\n",
       "      <td>credlim_avg_r12</td>\n",
       "      <td>opentobuy_avg_r12</td>\n",
       "      <td>0.81</td>\n",
       "    </tr>\n",
       "    <tr>\n",
       "      <th>1</th>\n",
       "      <td>gender</td>\n",
       "      <td>inc</td>\n",
       "      <td>0.71</td>\n",
       "    </tr>\n",
       "    <tr>\n",
       "      <th>2</th>\n",
       "      <td>tx_amt_r12</td>\n",
       "      <td>tx_ct_r12</td>\n",
       "      <td>0.71</td>\n",
       "    </tr>\n",
       "    <tr>\n",
       "      <th>3</th>\n",
       "      <td>age</td>\n",
       "      <td>mo_on_book</td>\n",
       "      <td>0.61</td>\n",
       "    </tr>\n",
       "    <tr>\n",
       "      <th>4</th>\n",
       "      <td>tx_amt_r12</td>\n",
       "      <td>tx_amt_pertx_r12</td>\n",
       "      <td>0.59</td>\n",
       "    </tr>\n",
       "    <tr>\n",
       "      <th>5</th>\n",
       "      <td>opentobuy_avg_r12</td>\n",
       "      <td>utilratio_avg</td>\n",
       "      <td>0.56</td>\n",
       "    </tr>\n",
       "    <tr>\n",
       "      <th>6</th>\n",
       "      <td>revbal_avg_r12</td>\n",
       "      <td>utilratio_avg</td>\n",
       "      <td>0.53</td>\n",
       "    </tr>\n",
       "    <tr>\n",
       "      <th>7</th>\n",
       "      <td>gender</td>\n",
       "      <td>credlim_avg_r12</td>\n",
       "      <td>0.36</td>\n",
       "    </tr>\n",
       "    <tr>\n",
       "      <th>8</th>\n",
       "      <td>credlim_avg_r12</td>\n",
       "      <td>utilratio_avg</td>\n",
       "      <td>0.36</td>\n",
       "    </tr>\n",
       "    <tr>\n",
       "      <th>9</th>\n",
       "      <td>gender</td>\n",
       "      <td>opentobuy_avg_r12</td>\n",
       "      <td>0.35</td>\n",
       "    </tr>\n",
       "    <tr>\n",
       "      <th>10</th>\n",
       "      <td>credlim_avg_r12</td>\n",
       "      <td>inc</td>\n",
       "      <td>0.31</td>\n",
       "    </tr>\n",
       "    <tr>\n",
       "      <th>11</th>\n",
       "      <td>tx_ct_r12</td>\n",
       "      <td>tx_amt_pertx_r12</td>\n",
       "      <td>0.30</td>\n",
       "    </tr>\n",
       "  </tbody>\n",
       "</table>\n",
       "</div>"
      ],
      "text/plain": [
       "                 var1               var2  corr\n",
       "0     credlim_avg_r12  opentobuy_avg_r12  0.81\n",
       "1              gender                inc  0.71\n",
       "2          tx_amt_r12          tx_ct_r12  0.71\n",
       "3                 age         mo_on_book  0.61\n",
       "4          tx_amt_r12   tx_amt_pertx_r12  0.59\n",
       "5   opentobuy_avg_r12      utilratio_avg  0.56\n",
       "6      revbal_avg_r12      utilratio_avg  0.53\n",
       "7              gender    credlim_avg_r12  0.36\n",
       "8     credlim_avg_r12      utilratio_avg  0.36\n",
       "9              gender  opentobuy_avg_r12  0.35\n",
       "10    credlim_avg_r12                inc  0.31\n",
       "11          tx_ct_r12   tx_amt_pertx_r12  0.30"
      ]
     },
     "execution_count": 37,
     "metadata": {},
     "output_type": "execute_result"
    }
   ],
   "source": [
    "print('Kendall Correlation Pair')\n",
    "multicoll_ranked_kendall"
   ]
  },
  {
   "cell_type": "code",
   "execution_count": 38,
   "id": "adaptive-somerset",
   "metadata": {
    "jupyter": {
     "source_hidden": true
    },
    "tags": []
   },
   "outputs": [
    {
     "name": "stdout",
     "output_type": "stream",
     "text": [
      "The following variables are likely correlated to `churn`. We can safely reject H0:\n",
      "\n"
     ]
    },
    {
     "data": {
      "text/html": [
       "<div>\n",
       "<style scoped>\n",
       "    .dataframe tbody tr th:only-of-type {\n",
       "        vertical-align: middle;\n",
       "    }\n",
       "\n",
       "    .dataframe tbody tr th {\n",
       "        vertical-align: top;\n",
       "    }\n",
       "\n",
       "    .dataframe thead th {\n",
       "        text-align: right;\n",
       "    }\n",
       "</style>\n",
       "<table border=\"1\" class=\"dataframe\">\n",
       "  <thead>\n",
       "    <tr style=\"text-align: right;\">\n",
       "      <th></th>\n",
       "      <th>var</th>\n",
       "      <th>coef</th>\n",
       "      <th>p</th>\n",
       "    </tr>\n",
       "  </thead>\n",
       "  <tbody>\n",
       "    <tr>\n",
       "      <th>0</th>\n",
       "      <td>contr_ct_r12</td>\n",
       "      <td>0.17</td>\n",
       "      <td>0.00</td>\n",
       "    </tr>\n",
       "    <tr>\n",
       "      <th>1</th>\n",
       "      <td>mo_inactive_r12</td>\n",
       "      <td>0.16</td>\n",
       "      <td>0.00</td>\n",
       "    </tr>\n",
       "    <tr>\n",
       "      <th>2</th>\n",
       "      <td>opentobuy_avg_r12</td>\n",
       "      <td>0.02</td>\n",
       "      <td>0.01</td>\n",
       "    </tr>\n",
       "    <tr>\n",
       "      <th>3</th>\n",
       "      <td>dependents</td>\n",
       "      <td>0.02</td>\n",
       "      <td>0.04</td>\n",
       "    </tr>\n",
       "    <tr>\n",
       "      <th>4</th>\n",
       "      <td>marstat_Married</td>\n",
       "      <td>-0.02</td>\n",
       "      <td>0.02</td>\n",
       "    </tr>\n",
       "    <tr>\n",
       "      <th>5</th>\n",
       "      <td>gender</td>\n",
       "      <td>-0.04</td>\n",
       "      <td>0.00</td>\n",
       "    </tr>\n",
       "    <tr>\n",
       "      <th>6</th>\n",
       "      <td>credlim_avg_r12</td>\n",
       "      <td>-0.04</td>\n",
       "      <td>0.00</td>\n",
       "    </tr>\n",
       "    <tr>\n",
       "      <th>7</th>\n",
       "      <td>chng_tx_amt_q4_q1</td>\n",
       "      <td>-0.08</td>\n",
       "      <td>0.00</td>\n",
       "    </tr>\n",
       "    <tr>\n",
       "      <th>8</th>\n",
       "      <td>prod_ct</td>\n",
       "      <td>-0.13</td>\n",
       "      <td>0.00</td>\n",
       "    </tr>\n",
       "    <tr>\n",
       "      <th>9</th>\n",
       "      <td>tx_amt_r12</td>\n",
       "      <td>-0.18</td>\n",
       "      <td>0.00</td>\n",
       "    </tr>\n",
       "    <tr>\n",
       "      <th>10</th>\n",
       "      <td>revbal_avg_r12</td>\n",
       "      <td>-0.20</td>\n",
       "      <td>0.00</td>\n",
       "    </tr>\n",
       "    <tr>\n",
       "      <th>11</th>\n",
       "      <td>utilratio_avg</td>\n",
       "      <td>-0.20</td>\n",
       "      <td>0.00</td>\n",
       "    </tr>\n",
       "    <tr>\n",
       "      <th>12</th>\n",
       "      <td>chng_tx_ct_q4_q1</td>\n",
       "      <td>-0.26</td>\n",
       "      <td>0.00</td>\n",
       "    </tr>\n",
       "    <tr>\n",
       "      <th>13</th>\n",
       "      <td>tx_ct_r12</td>\n",
       "      <td>-0.31</td>\n",
       "      <td>0.00</td>\n",
       "    </tr>\n",
       "  </tbody>\n",
       "</table>\n",
       "</div>"
      ],
      "text/plain": [
       "                  var  coef    p\n",
       "0        contr_ct_r12  0.17 0.00\n",
       "1     mo_inactive_r12  0.16 0.00\n",
       "2   opentobuy_avg_r12  0.02 0.01\n",
       "3          dependents  0.02 0.04\n",
       "4     marstat_Married -0.02 0.02\n",
       "5              gender -0.04 0.00\n",
       "6     credlim_avg_r12 -0.04 0.00\n",
       "7   chng_tx_amt_q4_q1 -0.08 0.00\n",
       "8             prod_ct -0.13 0.00\n",
       "9          tx_amt_r12 -0.18 0.00\n",
       "10     revbal_avg_r12 -0.20 0.00\n",
       "11      utilratio_avg -0.20 0.00\n",
       "12   chng_tx_ct_q4_q1 -0.26 0.00\n",
       "13          tx_ct_r12 -0.31 0.00"
      ]
     },
     "execution_count": 38,
     "metadata": {},
     "output_type": "execute_result"
    }
   ],
   "source": [
    "sig_kendall = sig_corr(d, kendalltau)\n",
    "sig_kendall"
   ]
  },
  {
   "cell_type": "code",
   "execution_count": 39,
   "id": "anonymous-croatia",
   "metadata": {
    "jupyter": {
     "source_hidden": true
    },
    "tags": []
   },
   "outputs": [
    {
     "name": "stdout",
     "output_type": "stream",
     "text": [
      "The following variables are likely NOT correlated to `churn`. We fail to reject H0:\n",
      "\n"
     ]
    },
    {
     "data": {
      "text/html": [
       "<div>\n",
       "<style scoped>\n",
       "    .dataframe tbody tr th:only-of-type {\n",
       "        vertical-align: middle;\n",
       "    }\n",
       "\n",
       "    .dataframe tbody tr th {\n",
       "        vertical-align: top;\n",
       "    }\n",
       "\n",
       "    .dataframe thead th {\n",
       "        text-align: right;\n",
       "    }\n",
       "</style>\n",
       "<table border=\"1\" class=\"dataframe\">\n",
       "  <thead>\n",
       "    <tr style=\"text-align: right;\">\n",
       "      <th></th>\n",
       "      <th>var</th>\n",
       "      <th>coef</th>\n",
       "      <th>p</th>\n",
       "    </tr>\n",
       "  </thead>\n",
       "  <tbody>\n",
       "    <tr>\n",
       "      <th>0</th>\n",
       "      <td>marstat_Single</td>\n",
       "      <td>0.02</td>\n",
       "      <td>0.06</td>\n",
       "    </tr>\n",
       "    <tr>\n",
       "      <th>1</th>\n",
       "      <td>age</td>\n",
       "      <td>0.01</td>\n",
       "      <td>0.08</td>\n",
       "    </tr>\n",
       "    <tr>\n",
       "      <th>2</th>\n",
       "      <td>mo_on_book</td>\n",
       "      <td>0.01</td>\n",
       "      <td>0.12</td>\n",
       "    </tr>\n",
       "    <tr>\n",
       "      <th>3</th>\n",
       "      <td>card_Platinum</td>\n",
       "      <td>0.01</td>\n",
       "      <td>0.28</td>\n",
       "    </tr>\n",
       "    <tr>\n",
       "      <th>4</th>\n",
       "      <td>marstat_Unknown</td>\n",
       "      <td>0.01</td>\n",
       "      <td>0.37</td>\n",
       "    </tr>\n",
       "    <tr>\n",
       "      <th>5</th>\n",
       "      <td>educ</td>\n",
       "      <td>0.01</td>\n",
       "      <td>0.40</td>\n",
       "    </tr>\n",
       "    <tr>\n",
       "      <th>6</th>\n",
       "      <td>card_Gold</td>\n",
       "      <td>0.01</td>\n",
       "      <td>0.55</td>\n",
       "    </tr>\n",
       "    <tr>\n",
       "      <th>7</th>\n",
       "      <td>card_Blue</td>\n",
       "      <td>0.00</td>\n",
       "      <td>0.75</td>\n",
       "    </tr>\n",
       "    <tr>\n",
       "      <th>8</th>\n",
       "      <td>marstat_Divorced</td>\n",
       "      <td>0.00</td>\n",
       "      <td>0.93</td>\n",
       "    </tr>\n",
       "    <tr>\n",
       "      <th>9</th>\n",
       "      <td>tx_amt_pertx_r12</td>\n",
       "      <td>-0.01</td>\n",
       "      <td>0.50</td>\n",
       "    </tr>\n",
       "    <tr>\n",
       "      <th>10</th>\n",
       "      <td>card_Silver</td>\n",
       "      <td>-0.01</td>\n",
       "      <td>0.39</td>\n",
       "    </tr>\n",
       "    <tr>\n",
       "      <th>11</th>\n",
       "      <td>inc</td>\n",
       "      <td>-0.01</td>\n",
       "      <td>0.08</td>\n",
       "    </tr>\n",
       "  </tbody>\n",
       "</table>\n",
       "</div>"
      ],
      "text/plain": [
       "                 var  coef    p\n",
       "0     marstat_Single  0.02 0.06\n",
       "1                age  0.01 0.08\n",
       "2         mo_on_book  0.01 0.12\n",
       "3      card_Platinum  0.01 0.28\n",
       "4    marstat_Unknown  0.01 0.37\n",
       "5               educ  0.01 0.40\n",
       "6          card_Gold  0.01 0.55\n",
       "7          card_Blue  0.00 0.75\n",
       "8   marstat_Divorced  0.00 0.93\n",
       "9   tx_amt_pertx_r12 -0.01 0.50\n",
       "10       card_Silver -0.01 0.39\n",
       "11               inc -0.01 0.08"
      ]
     },
     "execution_count": 39,
     "metadata": {},
     "output_type": "execute_result"
    }
   ],
   "source": [
    "insig_kendall = sig_corr(d, kendalltau, 'insig')\n",
    "insig_kendall"
   ]
  },
  {
   "cell_type": "code",
   "execution_count": 40,
   "id": "marine-mortgage",
   "metadata": {
    "jupyter": {
     "source_hidden": true
    },
    "tags": []
   },
   "outputs": [
    {
     "name": "stdout",
     "output_type": "stream",
     "text": [
      "Magnitude of impact in order:\n"
     ]
    },
    {
     "data": {
      "text/html": [
       "<div>\n",
       "<style scoped>\n",
       "    .dataframe tbody tr th:only-of-type {\n",
       "        vertical-align: middle;\n",
       "    }\n",
       "\n",
       "    .dataframe tbody tr th {\n",
       "        vertical-align: top;\n",
       "    }\n",
       "\n",
       "    .dataframe thead th {\n",
       "        text-align: right;\n",
       "    }\n",
       "</style>\n",
       "<table border=\"1\" class=\"dataframe\">\n",
       "  <thead>\n",
       "    <tr style=\"text-align: right;\">\n",
       "      <th></th>\n",
       "      <th>var</th>\n",
       "    </tr>\n",
       "  </thead>\n",
       "  <tbody>\n",
       "    <tr>\n",
       "      <th>0</th>\n",
       "      <td>tx_ct_r12</td>\n",
       "    </tr>\n",
       "    <tr>\n",
       "      <th>1</th>\n",
       "      <td>chng_tx_ct_q4_q1</td>\n",
       "    </tr>\n",
       "    <tr>\n",
       "      <th>2</th>\n",
       "      <td>revbal_avg_r12</td>\n",
       "    </tr>\n",
       "    <tr>\n",
       "      <th>3</th>\n",
       "      <td>utilratio_avg</td>\n",
       "    </tr>\n",
       "    <tr>\n",
       "      <th>4</th>\n",
       "      <td>tx_amt_r12</td>\n",
       "    </tr>\n",
       "    <tr>\n",
       "      <th>5</th>\n",
       "      <td>contr_ct_r12</td>\n",
       "    </tr>\n",
       "    <tr>\n",
       "      <th>6</th>\n",
       "      <td>mo_inactive_r12</td>\n",
       "    </tr>\n",
       "    <tr>\n",
       "      <th>7</th>\n",
       "      <td>prod_ct</td>\n",
       "    </tr>\n",
       "    <tr>\n",
       "      <th>8</th>\n",
       "      <td>chng_tx_amt_q4_q1</td>\n",
       "    </tr>\n",
       "    <tr>\n",
       "      <th>9</th>\n",
       "      <td>credlim_avg_r12</td>\n",
       "    </tr>\n",
       "    <tr>\n",
       "      <th>10</th>\n",
       "      <td>gender</td>\n",
       "    </tr>\n",
       "    <tr>\n",
       "      <th>11</th>\n",
       "      <td>marstat_Married</td>\n",
       "    </tr>\n",
       "    <tr>\n",
       "      <th>12</th>\n",
       "      <td>opentobuy_avg_r12</td>\n",
       "    </tr>\n",
       "    <tr>\n",
       "      <th>13</th>\n",
       "      <td>dependents</td>\n",
       "    </tr>\n",
       "  </tbody>\n",
       "</table>\n",
       "</div>"
      ],
      "text/plain": [
       "                  var\n",
       "0           tx_ct_r12\n",
       "1    chng_tx_ct_q4_q1\n",
       "2      revbal_avg_r12\n",
       "3       utilratio_avg\n",
       "4          tx_amt_r12\n",
       "5        contr_ct_r12\n",
       "6     mo_inactive_r12\n",
       "7             prod_ct\n",
       "8   chng_tx_amt_q4_q1\n",
       "9     credlim_avg_r12\n",
       "10             gender\n",
       "11    marstat_Married\n",
       "12  opentobuy_avg_r12\n",
       "13         dependents"
      ]
     },
     "execution_count": 40,
     "metadata": {},
     "output_type": "execute_result"
    }
   ],
   "source": [
    "print('Magnitude of impact in order:')\n",
    "sig_kendall_abs = sig_kendall.copy()\n",
    "sig_kendall_abs['coef'] = sig_kendall_abs['coef'].abs()\n",
    "sig_kendall_abs.sort_values(by='coef', ascending=False).drop(['coef', 'p'], axis=1).reset_index(drop=True)"
   ]
  },
  {
   "cell_type": "code",
   "execution_count": 41,
   "id": "celtic-words",
   "metadata": {
    "jupyter": {
     "source_hidden": true
    },
    "tags": []
   },
   "outputs": [
    {
     "name": "stdout",
     "output_type": "stream",
     "text": [
      "All variables in the Kendall selection are found in the Spearman selection: True\n",
      "All variables in the Spearman selection are found in the Kendall selection: True\n"
     ]
    }
   ],
   "source": [
    "tem = all([i in ([*sig_spearman_abs['var']]) for i in [*sig_kendall_abs['var']]])\n",
    "print(f'All variables in the Kendall selection are found in the Spearman selection: {tem}')\n",
    "tem = all([i in ([*sig_kendall_abs['var']]) for i in [*sig_spearman_abs['var']]])\n",
    "print(f'All variables in the Spearman selection are found in the Kendall selection: {tem}')"
   ]
  },
  {
   "cell_type": "markdown",
   "id": "textile-blocking",
   "metadata": {},
   "source": [
    "Since the vars are the same as the spearman's result we will skip fitting the models."
   ]
  },
  {
   "cell_type": "markdown",
   "id": "robust-meeting",
   "metadata": {},
   "source": [
    "<a id='4.2'>\n",
    "    <h2 style='font-size:180%;'>\n",
    "        RFE</h2></a>"
   ]
  },
  {
   "cell_type": "code",
   "execution_count": 42,
   "id": "other-planner",
   "metadata": {
    "tags": []
   },
   "outputs": [],
   "source": [
    "def summary_by_mod2(pred_mods, scalers, features, **n_splits_and_repeats):\n",
    "    \n",
    "    time_0 = time.time() # for all methods in pipeline\n",
    "    \n",
    "    results = []\n",
    "    for scaler in scalers:\n",
    "        time_1 = time.time() # for each scaler\n",
    "        print(f'\\nScaler: {scaler[0]}')\n",
    "        \n",
    "        results_features = []\n",
    "        for feature in features:\n",
    "            time_2 = time.time() # for each feature selection model\n",
    "            print(f'\\nFS Model: {feature[0]}')\n",
    "            \n",
    "            results_pred_mods = []\n",
    "            for pred_mod in pred_mods:\n",
    "                time_3 = time.time() # for each prediction model\n",
    "                \n",
    "                # define pipeline\n",
    "                pipeline = Pipeline([('s', scaler[1]), ('fs', feature[1]), ('m', pred_mod[1])])\n",
    "\n",
    "                # fit models\n",
    "                n_splits, n_repeats = (i for i in n_splits_and_repeats.values())\n",
    "                results_model = result_rskf(x, y, pipeline, pred_mod[0], n_splits, n_repeats)[0]\n",
    "                \n",
    "                # collect results - innermost\n",
    "                print(f'Model {pred_mod[0]} Runtime: {time.strftime(\"%M:%S\", time.gmtime(time.time()-time_3))}')\n",
    "                results_pred_mods.append(results_model)\n",
    "            \n",
    "            # collect results - middle\n",
    "            print(f'FS Model {feature[0]} Avg Runtime per Model: {time.strftime(\"%M:%S\", time.gmtime((time.time()-time_2)/len(pred_mods)))}\\n\\n')\n",
    "            results_features.append(results_pred_mods)\n",
    "        \n",
    "        # collect results - outermost\n",
    "        print(f'Scaler {scaler[0]} Avg Runtime per Model: {time.strftime(\"%M:%S\", time.gmtime((time.time()-time_1)/len(features)))}\\n\\n')\n",
    "        results.append(results_features)\n",
    "        \n",
    "    print(f'Total Runtime: {time.strftime(\"%M:%S\", time.gmtime(time.time()-time_0))} min')\n",
    "    return results"
   ]
  },
  {
   "cell_type": "code",
   "execution_count": 43,
   "id": "artificial-prospect",
   "metadata": {},
   "outputs": [],
   "source": [
    "# create a list of tuples for all models to explore: [(`model name`, `model instance`)] with minimum hyperparameter setting\n",
    "models = []\n",
    "\n",
    "# linear\n",
    "models.append(('LR', LogisticRegression(solver='saga', max_iter=10000, class_weight='balanced', random_state=5))) # note: `max_iter` from 1000 to 10000 due to convergence issues\n",
    "models.append(('LDA', LinearDiscriminantAnalysis()))\n",
    "models.append(('NB', GaussianNB()))\n",
    "\n",
    "# non-linear\n",
    "models.append(('DT', DecisionTreeClassifier(random_state=5)))\n",
    "models.append(('KNN', KNeighborsClassifier(n_neighbors=5)))\n",
    "models.append(('MLP', MLPClassifier(max_iter=5000, random_state=5)))\n",
    "\n",
    "# ensemble\n",
    "models.append(('BDT', BaggingClassifier(n_estimators=100, n_jobs=-1, random_state=5)))\n",
    "models.append(('RF', RandomForestClassifier(n_estimators=100, max_depth=10, n_jobs=-1, random_state=5))) # note: increasing n_estimators more than 400 doesn't do much; some in place to prevent too much overfitting\n",
    "models.append(('GB', GradientBoostingClassifier(max_depth=10, random_state=5))) # note: `max_iter` from 100 to 1000 due to convergence issues"
   ]
  },
  {
   "cell_type": "code",
   "execution_count": 44,
   "id": "sticky-stage",
   "metadata": {},
   "outputs": [],
   "source": [
    "# create a list of tuples for all scalers to explore: [(`scaler name`, `scaler instance`)]\n",
    "scalers = []\n",
    "scalers.append(('RS', RobustScaler()))"
   ]
  },
  {
   "cell_type": "code",
   "execution_count": 45,
   "id": "square-triumph",
   "metadata": {},
   "outputs": [],
   "source": [
    "# create a list of tuples for all feature selection/extraction models to explore: [(`fs name`, `fs instance`)]\n",
    "features = []\n",
    "features.append(('RFE', RFE(estimator=GradientBoostingClassifier(max_depth=10, random_state=5), n_features_to_select=20)))"
   ]
  },
  {
   "cell_type": "markdown",
   "id": "diverse-vampire",
   "metadata": {},
   "source": [
    "<a id='4.2'>\n",
    "    <h2 style='font-size:180%;'>\n",
    "        Validation Set</h2></a>"
   ]
  },
  {
   "cell_type": "code",
   "execution_count": 46,
   "id": "artificial-message",
   "metadata": {
    "tags": []
   },
   "outputs": [
    {
     "name": "stdout",
     "output_type": "stream",
     "text": [
      "\n",
      "Scaler: RS\n",
      "\n",
      "FS Model: RFE\n",
      "\n",
      "Prediction Model: LR\n",
      "Model LR Runtime: 00:30\n",
      "\n",
      "Prediction Model: LDA\n",
      "Model LDA Runtime: 00:27\n",
      "\n",
      "Prediction Model: NB\n",
      "Model NB Runtime: 00:28\n",
      "\n",
      "Prediction Model: DT\n",
      "Model DT Runtime: 00:27\n",
      "\n",
      "Prediction Model: KNN\n",
      "Model KNN Runtime: 00:33\n",
      "\n",
      "Prediction Model: MLP\n",
      "Model MLP Runtime: 02:39\n",
      "\n",
      "Prediction Model: BDT\n",
      "Model BDT Runtime: 00:42\n",
      "\n",
      "Prediction Model: RF\n",
      "Model RF Runtime: 00:34\n",
      "\n",
      "Prediction Model: GB\n",
      "Model GB Runtime: 01:02\n",
      "FS Model RFE Avg Runtime per Model: 00:49\n",
      "\n",
      "\n",
      "Scaler RS Avg Runtime per Model: 07:25\n",
      "\n",
      "\n",
      "Total Runtime: 07:25 min\n"
     ]
    }
   ],
   "source": [
    "results_rfe = summary_by_mod2(models, scalers, features, n_splits=5, n_repeats=3)"
   ]
  },
  {
   "cell_type": "code",
   "execution_count": 47,
   "id": "molecular-stability",
   "metadata": {
    "tags": []
   },
   "outputs": [],
   "source": [
    "results_rfe_RS = pd.concat([i for i in results_rfe[0][0]], axis=1)"
   ]
  },
  {
   "cell_type": "markdown",
   "id": "logical-parcel",
   "metadata": {},
   "source": [
    "<a id='4.2'>\n",
    "    <h2 style='font-size:150%;'>\n",
    "        Summary Treatment</h2></a>"
   ]
  },
  {
   "cell_type": "markdown",
   "id": "subjective-waste",
   "metadata": {},
   "source": [
    "Again, results are far worse than the baseline, but we may revisit after resampling."
   ]
  },
  {
   "cell_type": "code",
   "execution_count": 48,
   "id": "worth-jewelry",
   "metadata": {
    "tags": []
   },
   "outputs": [
    {
     "name": "stdout",
     "output_type": "stream",
     "text": [
      "Results for Robust Scaler:\n"
     ]
    },
    {
     "data": {
      "text/html": [
       "<div>\n",
       "<style scoped>\n",
       "    .dataframe tbody tr th:only-of-type {\n",
       "        vertical-align: middle;\n",
       "    }\n",
       "\n",
       "    .dataframe tbody tr th {\n",
       "        vertical-align: top;\n",
       "    }\n",
       "\n",
       "    .dataframe thead th {\n",
       "        text-align: right;\n",
       "    }\n",
       "</style>\n",
       "<table border=\"1\" class=\"dataframe\">\n",
       "  <thead>\n",
       "    <tr style=\"text-align: right;\">\n",
       "      <th></th>\n",
       "      <th>recall</th>\n",
       "      <th>prec</th>\n",
       "      <th>f2</th>\n",
       "    </tr>\n",
       "  </thead>\n",
       "  <tbody>\n",
       "    <tr>\n",
       "      <th>LR</th>\n",
       "      <td>0.83</td>\n",
       "      <td>0.48</td>\n",
       "      <td>0.72</td>\n",
       "    </tr>\n",
       "    <tr>\n",
       "      <th>LDA</th>\n",
       "      <td>0.56</td>\n",
       "      <td>0.76</td>\n",
       "      <td>0.59</td>\n",
       "    </tr>\n",
       "    <tr>\n",
       "      <th>NB</th>\n",
       "      <td>0.57</td>\n",
       "      <td>0.77</td>\n",
       "      <td>0.60</td>\n",
       "    </tr>\n",
       "    <tr>\n",
       "      <th>DT</th>\n",
       "      <td>0.68</td>\n",
       "      <td>0.66</td>\n",
       "      <td>0.67</td>\n",
       "    </tr>\n",
       "    <tr>\n",
       "      <th>KNN</th>\n",
       "      <td>0.54</td>\n",
       "      <td>0.80</td>\n",
       "      <td>0.58</td>\n",
       "    </tr>\n",
       "    <tr>\n",
       "      <th>MLP</th>\n",
       "      <td>0.69</td>\n",
       "      <td>0.80</td>\n",
       "      <td>0.71</td>\n",
       "    </tr>\n",
       "    <tr>\n",
       "      <th>BDT</th>\n",
       "      <td>0.69</td>\n",
       "      <td>0.82</td>\n",
       "      <td>0.72</td>\n",
       "    </tr>\n",
       "    <tr>\n",
       "      <th>RF</th>\n",
       "      <td>0.67</td>\n",
       "      <td>0.86</td>\n",
       "      <td>0.70</td>\n",
       "    </tr>\n",
       "    <tr>\n",
       "      <th>GB</th>\n",
       "      <td>0.70</td>\n",
       "      <td>0.82</td>\n",
       "      <td>0.72</td>\n",
       "    </tr>\n",
       "  </tbody>\n",
       "</table>\n",
       "</div>"
      ],
      "text/plain": [
       "     recall  prec   f2\n",
       "LR     0.83  0.48 0.72\n",
       "LDA    0.56  0.76 0.59\n",
       "NB     0.57  0.77 0.60\n",
       "DT     0.68  0.66 0.67\n",
       "KNN    0.54  0.80 0.58\n",
       "MLP    0.69  0.80 0.71\n",
       "BDT    0.69  0.82 0.72\n",
       "RF     0.67  0.86 0.70\n",
       "GB     0.70  0.82 0.72"
      ]
     },
     "execution_count": 48,
     "metadata": {},
     "output_type": "execute_result"
    }
   ],
   "source": [
    "print('Results for Robust Scaler:')\n",
    "tem = results_rfe_RS.loc[['test_recall', 'test_precision', 'test_f2']]\n",
    "df_RS_rfe_RS_summ = tem.loc[:,np.in1d(tem.columns.get_level_values(1), 'mean')].droplevel(level=1, axis=1).rename(\n",
    "    index={'test_recall':'recall', 'test_precision':'prec', 'test_f2':'f2'}).T\n",
    "df_RS_rfe_RS_summ"
   ]
  },
  {
   "cell_type": "markdown",
   "id": "copyrighted-mustang",
   "metadata": {},
   "source": [
    "<a id='6.2.5'>\n",
    "    <h2 style='font-size:180%;'>\n",
    "        Run Time Calculation\n",
    "    </h2>\n",
    "</a>"
   ]
  },
  {
   "cell_type": "code",
   "execution_count": 51,
   "id": "palestinian-pharmacology",
   "metadata": {},
   "outputs": [
    {
     "name": "stdout",
     "output_type": "stream",
     "text": [
      "Notebook Total Runtime: 50:50 min\n"
     ]
    }
   ],
   "source": [
    "print(f'Notebook Total Runtime: {time.strftime(\"%M:%S\", time.gmtime(time.time()-start_normal))} min')"
   ]
  },
  {
   "cell_type": "code",
   "execution_count": 52,
   "id": "polished-enterprise",
   "metadata": {},
   "outputs": [],
   "source": [
    "finish_normal = time.perf_counter()"
   ]
  },
  {
   "cell_type": "code",
   "execution_count": 53,
   "id": "meaningful-costa",
   "metadata": {},
   "outputs": [
    {
     "name": "stdout",
     "output_type": "stream",
     "text": [
      "Finished in 2938.53 second(s) or 48.98 minute(s).\n"
     ]
    }
   ],
   "source": [
    "print(f'Finished in {round(finish_normal-start_normal, 2)} second(s) or {round((finish_normal-start_normal)/60, 2)} minute(s).')"
   ]
  },
  {
   "cell_type": "markdown",
   "id": "detailed-collar",
   "metadata": {},
   "source": [
    "Some promising candidates are: RF, GB, and MLP with the current pipelline. This ranking may change with the addition of feature selection / extraction and possibly another outlier treatment."
   ]
  }
 ],
 "metadata": {
  "kernelspec": {
   "display_name": "Python 3",
   "language": "python",
   "name": "python3"
  },
  "language_info": {
   "codemirror_mode": {
    "name": "ipython",
    "version": 3
   },
   "file_extension": ".py",
   "mimetype": "text/x-python",
   "name": "python",
   "nbconvert_exporter": "python",
   "pygments_lexer": "ipython3",
   "version": "3.8.5"
  }
 },
 "nbformat": 4,
 "nbformat_minor": 5
}
