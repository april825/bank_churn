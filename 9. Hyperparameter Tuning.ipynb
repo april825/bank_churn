{
 "cells": [
  {
   "cell_type": "markdown",
   "id": "contemporary-attachment",
   "metadata": {},
   "source": [
    "<h1 style=\"background-color:rgb(67, 77, 86);\n",
    "           font-size:300%;\n",
    "           font-style: oblique;\n",
    "           color:white;\n",
    "           text-align:center;\n",
    "           margin: auto;\n",
    "           padding: 20px;\">Predicting Bank Churners</h1>"
   ]
  },
  {
   "cell_type": "markdown",
   "id": "apparent-pressing",
   "metadata": {},
   "source": [
    "<a id=\"1.2\"></a>\n",
    "<h2 style=\"background-color:rgb(141, 153, 165);\n",
    "           font-size:250%;\n",
    "           color:white;\n",
    "           text-align:center;\n",
    "           margin: auto;\n",
    "           padding: 10px;\">Chapter 5. Spot Check Version 1</h2>"
   ]
  },
  {
   "cell_type": "markdown",
   "id": "rubber-processor",
   "metadata": {},
   "source": [
    "<a id='1.1'>\n",
    "    <h2 style='font-size:180%;'>\n",
    "        Mission</h2></a>"
   ]
  },
  {
   "cell_type": "markdown",
   "id": "artistic-washington",
   "metadata": {},
   "source": [
    "<figure>\n",
    "    <blockquote cite='https://www.kaggle.com/sakshigoyal7/credit-card-customers/tasks?taskId=2729'>\n",
    "        <p style='font-size:110%;\n",
    "                  color:hsl(208, 12%, 30%);'><i>Our top priority in this business problem is to identify customers who are getting churned. Even if we predict non-churning customers as churned, it won't harm our business. But predicting churning customers as non-churning will do. So recall needs to be higher. Till now, I have managed to get a recall of 62%.</i></p>\n",
    "    </blockquote>\n",
    "    <figcaption>—Sakshi Goyal, <cite>Credit Card Customers, Kaggle</cite></figcaption>"
   ]
  },
  {
   "cell_type": "markdown",
   "id": "professional-mission",
   "metadata": {},
   "source": [
    "<a id='4.1'>\n",
    "    <h2 style='font-size:180%;'>\n",
    "        Libraries</h2></a>"
   ]
  },
  {
   "cell_type": "code",
   "execution_count": 1,
   "id": "legislative-universe",
   "metadata": {
    "jupyter": {
     "source_hidden": true
    },
    "tags": []
   },
   "outputs": [],
   "source": [
    "# binary classification spot check script\n",
    "import time\n",
    "import warnings\n",
    "import pandas as pd\n",
    "import numpy as np\n",
    "from matplotlib import pyplot\n",
    "\n",
    "from sklearn.model_selection import cross_val_score\n",
    "from sklearn.model_selection import train_test_split\n",
    "from sklearn.model_selection import GridSearchCV\n",
    "from sklearn.preprocessing import StandardScaler\n",
    "from sklearn.preprocessing import QuantileTransformer\n",
    "from sklearn.preprocessing import RobustScaler\n",
    "from sklearn.linear_model import LogisticRegression\n",
    "from sklearn.ensemble import AdaBoostClassifier\n",
    "from sklearn.ensemble import GradientBoostingClassifier\n",
    "\n",
    "from sklearn.metrics import accuracy_score\n",
    "from sklearn.metrics import precision_score\n",
    "from sklearn.metrics import recall_score\n",
    "from sklearn.metrics import f1_score\n",
    "from sklearn.metrics import fbeta_score\n",
    "from sklearn.metrics import confusion_matrix\n",
    "\n",
    "from imblearn.pipeline import Pipeline\n",
    "from imblearn.over_sampling import SMOTE\n",
    "from imblearn.under_sampling import RandomUnderSampler\n",
    "from imblearn.under_sampling import TomekLinks\n",
    "from imblearn.under_sampling import EditedNearestNeighbours\n",
    "from imblearn.combine import SMOTETomek\n",
    "from imblearn.combine import SMOTEENN\n",
    "\n",
    "# settings\n",
    "%matplotlib inline\n",
    "pd.options.display.max_rows = 0\n",
    "pd.options.display.max_columns = 0\n",
    "pd.options.display.max_colwidth = 12\n",
    "pd.options.display.float_format = '{:,.2f}'.format\n",
    "np.set_printoptions(suppress=True, precision=3)\n",
    "# pd.reset_option('display.max_colwidth')\n",
    "\n",
    "time_0 = time.perf_counter()"
   ]
  },
  {
   "cell_type": "code",
   "execution_count": 2,
   "id": "jewish-attachment",
   "metadata": {
    "jupyter": {
     "source_hidden": true
    },
    "tags": []
   },
   "outputs": [
    {
     "data": {
      "text/html": [
       "<style>\n",
       "/* CSS styles for pandas dataframe */\n",
       ".dataframe th {  \n",
       "    font-size: 14px;\n",
       "    max-width: 50px\n",
       "}\n",
       ".dataframe td {\n",
       "    font-size: 12px;\n",
       "#     white-space: nowrap;\n",
       "}\n",
       "</style>\n"
      ],
      "text/plain": [
       "<IPython.core.display.HTML object>"
      ]
     },
     "metadata": {},
     "output_type": "display_data"
    }
   ],
   "source": [
    "%%html\n",
    "<style>\n",
    "/* CSS styles for pandas dataframe */\n",
    ".dataframe th {  \n",
    "    font-size: 14px;\n",
    "    max-width: 50px\n",
    "}\n",
    ".dataframe td {\n",
    "    font-size: 12px;\n",
    "#     white-space: nowrap;\n",
    "}\n",
    "</style>"
   ]
  },
  {
   "cell_type": "markdown",
   "id": "casual-toronto",
   "metadata": {},
   "source": [
    "<a id=\"1.2\"></a>\n",
    "<h2 style=\"background-color:rgb(141, 153, 165);\n",
    "           font-size:250%;\n",
    "           color:white;\n",
    "           text-align:center;\n",
    "           margin: auto;\n",
    "           padding: 10px;\">Spot Check for Model & Scaler</h2>"
   ]
  },
  {
   "cell_type": "markdown",
   "id": "enabling-reasoning",
   "metadata": {},
   "source": [
    "<a id='4.1'>\n",
    "    <h2 style='font-size:180%;'>\n",
    "        Set-Up</h2></a>"
   ]
  },
  {
   "cell_type": "code",
   "execution_count": 3,
   "id": "elect-dryer",
   "metadata": {
    "jupyter": {
     "source_hidden": true
    },
    "tags": []
   },
   "outputs": [],
   "source": [
    "# load the dataset & return X and y\n",
    "def load_dataset():\n",
    "    d = pd.read_csv('source/d_num.csv')\n",
    "    d_values = d.values\n",
    "    x, y = d_values[:,1:], d_values[:,:1].ravel()\n",
    "    return x, y\n",
    "\n",
    "# define pipeline to use\n",
    "def pipeline_ENN(scaler, model):\n",
    "    steps = list()\n",
    "    # normalization\n",
    "    steps.append((scaler[0], scaler[1]))\n",
    "    # standardization\n",
    "    steps.append(('scaler', StandardScaler()))\n",
    "    # the resampler\n",
    "    steps.append(('rspler', SMOTEENN(enn=EditedNearestNeighbours(sampling_strategy='majority', n_jobs=-1))))\n",
    "    # the model\n",
    "    steps.append(('model', model))\n",
    "    # create pipeline\n",
    "    pipeline = Pipeline(steps=steps)\n",
    "    return pipeline"
   ]
  },
  {
   "cell_type": "code",
   "execution_count": 4,
   "id": "intimate-benefit",
   "metadata": {
    "jupyter": {
     "source_hidden": true
    },
    "tags": []
   },
   "outputs": [],
   "source": [
    "# define models and scalers\n",
    "\n",
    "## models to try out\n",
    "logit = LogisticRegression(random_state=5)\n",
    "ada = AdaBoostClassifier(random_state=5)\n",
    "gb = GradientBoostingClassifier(random_state=5)\n",
    "\n",
    "## scalers to try out\n",
    "rs = ('RS', RobustScaler())\n",
    "qs = ('QT', QuantileTransformer())"
   ]
  },
  {
   "cell_type": "markdown",
   "id": "colored-table",
   "metadata": {},
   "source": [
    "[Source: ML Pipeline with Grid Search in Scikit-Learn, *Towards Data Science*](https://towardsdatascience.com/ml-pipelines-with-grid-search-in-scikit-learn-2539d6b53cfb)"
   ]
  },
  {
   "cell_type": "markdown",
   "id": "chicken-cardiff",
   "metadata": {
    "tags": []
   },
   "source": [
    "<a id='4.1'>\n",
    "    <h2 style='font-size:180%;'>\n",
    "        Gradient Boosting Classifier w/ Quantile Transformer</h2></a>"
   ]
  },
  {
   "cell_type": "code",
   "execution_count": 5,
   "id": "guilty-concentrate",
   "metadata": {
    "jupyter": {
     "source_hidden": true
    },
    "tags": []
   },
   "outputs": [
    {
     "data": {
      "text/html": [
       "<style>div.sk-top-container {color: black;background-color: white;}div.sk-toggleable {background-color: white;}label.sk-toggleable__label {cursor: pointer;display: block;width: 100%;margin-bottom: 0;padding: 0.2em 0.3em;box-sizing: border-box;text-align: center;}div.sk-toggleable__content {max-height: 0;max-width: 0;overflow: hidden;text-align: left;background-color: #f0f8ff;}div.sk-toggleable__content pre {margin: 0.2em;color: black;border-radius: 0.25em;background-color: #f0f8ff;}input.sk-toggleable__control:checked~div.sk-toggleable__content {max-height: 200px;max-width: 100%;overflow: auto;}div.sk-estimator input.sk-toggleable__control:checked~label.sk-toggleable__label {background-color: #d4ebff;}div.sk-label input.sk-toggleable__control:checked~label.sk-toggleable__label {background-color: #d4ebff;}input.sk-hidden--visually {border: 0;clip: rect(1px 1px 1px 1px);clip: rect(1px, 1px, 1px, 1px);height: 1px;margin: -1px;overflow: hidden;padding: 0;position: absolute;width: 1px;}div.sk-estimator {font-family: monospace;background-color: #f0f8ff;margin: 0.25em 0.25em;border: 1px dotted black;border-radius: 0.25em;box-sizing: border-box;}div.sk-estimator:hover {background-color: #d4ebff;}div.sk-parallel-item::after {content: \"\";width: 100%;border-bottom: 1px solid gray;flex-grow: 1;}div.sk-label:hover label.sk-toggleable__label {background-color: #d4ebff;}div.sk-serial::before {content: \"\";position: absolute;border-left: 1px solid gray;box-sizing: border-box;top: 2em;bottom: 0;left: 50%;}div.sk-serial {display: flex;flex-direction: column;align-items: center;background-color: white;}div.sk-item {z-index: 1;}div.sk-parallel {display: flex;align-items: stretch;justify-content: center;background-color: white;}div.sk-parallel-item {display: flex;flex-direction: column;position: relative;background-color: white;}div.sk-parallel-item:first-child::after {align-self: flex-end;width: 50%;}div.sk-parallel-item:last-child::after {align-self: flex-start;width: 50%;}div.sk-parallel-item:only-child::after {width: 0;}div.sk-dashed-wrapped {border: 1px dashed gray;margin: 0.2em;box-sizing: border-box;padding-bottom: 0.1em;background-color: white;position: relative;}div.sk-label label {font-family: monospace;font-weight: bold;background-color: white;display: inline-block;line-height: 1.2em;}div.sk-label-container {position: relative;z-index: 2;text-align: center;}div.sk-container {display: inline-block;position: relative;}</style><div class=\"sk-top-container\"><div class=\"sk-container\"><div class=\"sk-item sk-dashed-wrapped\"><div class=\"sk-label-container\"><div class=\"sk-label sk-toggleable\"><input class=\"sk-toggleable__control sk-hidden--visually\" id=\"6fbd7fd9-3b6e-4a64-8657-7d9127375d5d\" type=\"checkbox\" ><label class=\"sk-toggleable__label\" for=\"6fbd7fd9-3b6e-4a64-8657-7d9127375d5d\">Pipeline</label><div class=\"sk-toggleable__content\"><pre>Pipeline(steps=[('QT', QuantileTransformer()), ('scaler', StandardScaler()),\n",
       "                ('rspler',\n",
       "                 SMOTEENN(enn=EditedNearestNeighbours(n_jobs=-1,\n",
       "                                                      sampling_strategy='majority'))),\n",
       "                ('model', GradientBoostingClassifier(random_state=5))])</pre></div></div></div><div class=\"sk-serial\"><div class=\"sk-item\"><div class=\"sk-estimator sk-toggleable\"><input class=\"sk-toggleable__control sk-hidden--visually\" id=\"a376acb3-4fca-4ac0-8cb0-0aef39212c20\" type=\"checkbox\" ><label class=\"sk-toggleable__label\" for=\"a376acb3-4fca-4ac0-8cb0-0aef39212c20\">QuantileTransformer</label><div class=\"sk-toggleable__content\"><pre>QuantileTransformer()</pre></div></div></div><div class=\"sk-item\"><div class=\"sk-estimator sk-toggleable\"><input class=\"sk-toggleable__control sk-hidden--visually\" id=\"7c94baaf-fa34-401b-8295-0e43ca46b181\" type=\"checkbox\" ><label class=\"sk-toggleable__label\" for=\"7c94baaf-fa34-401b-8295-0e43ca46b181\">StandardScaler</label><div class=\"sk-toggleable__content\"><pre>StandardScaler()</pre></div></div></div><div class=\"sk-item sk-dashed-wrapped\"><div class=\"sk-label-container\"><div class=\"sk-label sk-toggleable\"><input class=\"sk-toggleable__control sk-hidden--visually\" id=\"949feb32-6e0f-4fda-8553-d4122535cfcb\" type=\"checkbox\" ><label class=\"sk-toggleable__label\" for=\"949feb32-6e0f-4fda-8553-d4122535cfcb\">rspler: SMOTEENN</label><div class=\"sk-toggleable__content\"><pre>SMOTEENN(enn=EditedNearestNeighbours(n_jobs=-1, sampling_strategy='majority'))</pre></div></div></div><div class=\"sk-parallel\"><div class=\"sk-parallel-item\"><div class=\"sk-item\"><div class=\"sk-serial\"><div class=\"sk-item\"><div class=\"sk-estimator sk-toggleable\"><input class=\"sk-toggleable__control sk-hidden--visually\" id=\"0e2f9d51-5189-4085-b9d9-4f5e9e03a15a\" type=\"checkbox\" ><label class=\"sk-toggleable__label\" for=\"0e2f9d51-5189-4085-b9d9-4f5e9e03a15a\">EditedNearestNeighbours</label><div class=\"sk-toggleable__content\"><pre>EditedNearestNeighbours(n_jobs=-1, sampling_strategy='majority')</pre></div></div></div></div></div></div></div></div><div class=\"sk-item\"><div class=\"sk-estimator sk-toggleable\"><input class=\"sk-toggleable__control sk-hidden--visually\" id=\"2477c565-ab6d-408f-97c4-6653fe8333ca\" type=\"checkbox\" ><label class=\"sk-toggleable__label\" for=\"2477c565-ab6d-408f-97c4-6653fe8333ca\">GradientBoostingClassifier</label><div class=\"sk-toggleable__content\"><pre>GradientBoostingClassifier(random_state=5)</pre></div></div></div></div></div></div></div>"
      ],
      "text/plain": [
       "Pipeline(steps=[('QT', QuantileTransformer()), ('scaler', StandardScaler()),\n",
       "                ('rspler',\n",
       "                 SMOTEENN(enn=EditedNearestNeighbours(n_jobs=-1,\n",
       "                                                      sampling_strategy='majority'))),\n",
       "                ('model', GradientBoostingClassifier(random_state=5))])"
      ]
     },
     "execution_count": 5,
     "metadata": {},
     "output_type": "execute_result"
    }
   ],
   "source": [
    "from sklearn import set_config\n",
    "set_config(display='diagram')\n",
    "pipeline_ENN(qs, gb)"
   ]
  },
  {
   "cell_type": "markdown",
   "id": "prepared-injection",
   "metadata": {
    "tags": []
   },
   "source": [
    "<a id='4.1'>\n",
    "    <h2 style='font-size:150%;'>\n",
    "        Validation Set</h2></a>"
   ]
  },
  {
   "cell_type": "code",
   "execution_count": 6,
   "id": "becoming-objective",
   "metadata": {
    "jupyter": {
     "source_hidden": true
    },
    "tags": []
   },
   "outputs": [],
   "source": [
    "def train_results(scaler, algo, params_for_grid):\n",
    "    X, y = load_dataset()\n",
    "    model = pipeline_ENN(scaler, algo)\n",
    "    \n",
    "    # define grid\n",
    "    grid = {}\n",
    "    for k,v in params_for_grid.items():\n",
    "        grid['model__' + k] = v\n",
    "    grid['model'] = [algo]\n",
    "    \n",
    "    # split data\n",
    "    X_train, X_test, y_train, y_test = train_test_split(X, y, test_size=0.2, stratify=y, shuffle=True, random_state=5)\n",
    "\n",
    "    # implement grid_search\n",
    "    grid_search = GridSearchCV(estimator=model, param_grid=grid, cv=5, scoring='recall', error_score=0, verbose=1, n_jobs=-1)\n",
    "    \n",
    "    # fit & store grid_search result\n",
    "    grid_result = grid_search.fit(X_train, y_train)\n",
    "    \n",
    "    # find the best parameters\n",
    "    print(f'Best Score: {round(grid_result.best_score_,3)}')\n",
    "    print(grid_result.best_params_)\n",
    "    \n",
    "    return grid_result.best_params_, grid_result.best_score_"
   ]
  },
  {
   "cell_type": "code",
   "execution_count": 7,
   "id": "flush-honduras",
   "metadata": {
    "jupyter": {
     "source_hidden": true
    },
    "tags": []
   },
   "outputs": [
    {
     "name": "stdout",
     "output_type": "stream",
     "text": [
      "Calculating Validation Set Results...\n",
      "\n",
      "Fitting 10 folds for each of 18 candidates, totalling 180 fits\n",
      "Duration for GridSearch Fit: 1,426.15 sec or 23.77 min\n",
      "\n",
      "Best Parameters by Grid Search CV:\n",
      "  Best Score: 0.955\n",
      "  Best Params: {'model': GradientBoostingClassifier(learning_rate=0.5, max_depth=5, n_estimators=150,\n",
      "                           random_state=5), 'model__learning_rate': 0.5, 'model__max_depth': 5, 'model__n_estimators': 150}\n",
      "\n",
      "Total Runtime: 1,427.43 sec or 23.77 min\n",
      "\n"
     ]
    }
   ],
   "source": [
    "print(f'Calculating Validation Set Results...\\n')\n",
    "t0=time.perf_counter()\n",
    "scaler, algo = ('QT', QuantileTransformer()), GradientBoostingClassifier(random_state=5)\n",
    "params_for_grid = {\n",
    "    'n_estimators': [150, 300],\n",
    "    'learning_rate': [0.1, 0.5, 1],\n",
    "    'max_depth': [3, 4, 5]}\n",
    "X, y = load_dataset()\n",
    "model = pipeline_ENN(scaler, algo)\n",
    "\n",
    "# define grid\n",
    "grid = {}\n",
    "for k,v in params_for_grid.items():\n",
    "    grid['model__' + k] = v\n",
    "grid['model'] = [algo]\n",
    "\n",
    "# split data\n",
    "X_train, X_test, y_train, y_test = train_test_split(X, y, test_size=0.2, stratify=y, shuffle=True, random_state=5)\n",
    "\n",
    "# implement grid_search\n",
    "grid_search = GridSearchCV(estimator=model, param_grid=grid, cv=10, scoring='recall', error_score=0, verbose=1, n_jobs=-1)\n",
    "\n",
    "# fit & store grid_search result\n",
    "t1=time.perf_counter()\n",
    "grid_result = grid_search.fit(X_train, y_train)\n",
    "t2=time.perf_counter()\n",
    "print(f'Duration for GridSearch Fit: {round(t2-t1, 2):,} sec or {round((t2-t1)/60, 2):,} min\\n')\n",
    "\n",
    "print('Best Parameters by Grid Search CV:')\n",
    "print(f'  Best Score: {round(grid_result.best_score_,3)}')\n",
    "print(f'  Best Params: {grid_result.best_params_}\\n')\n",
    "\n",
    "t3=time.perf_counter()\n",
    "print(f'Total Runtime: {round(t3-t0, 2):,} sec or {round((t2-t1)/60, 2):,} min\\n')\n",
    "\n",
    "del t0,t1,t2,t3"
   ]
  },
  {
   "cell_type": "code",
   "execution_count": 8,
   "id": "proprietary-appointment",
   "metadata": {
    "jupyter": {
     "source_hidden": true
    },
    "tags": []
   },
   "outputs": [
    {
     "data": {
      "text/html": [
       "<div>\n",
       "<style scoped>\n",
       "    .dataframe tbody tr th:only-of-type {\n",
       "        vertical-align: middle;\n",
       "    }\n",
       "\n",
       "    .dataframe tbody tr th {\n",
       "        vertical-align: top;\n",
       "    }\n",
       "\n",
       "    .dataframe thead th {\n",
       "        text-align: right;\n",
       "    }\n",
       "</style>\n",
       "<table border=\"1\" class=\"dataframe\">\n",
       "  <thead>\n",
       "    <tr style=\"text-align: right;\">\n",
       "      <th></th>\n",
       "      <th>test</th>\n",
       "      <th>std_test</th>\n",
       "      <th>fit_time</th>\n",
       "      <th>std_ft</th>\n",
       "      <th>score_time</th>\n",
       "      <th>std_st</th>\n",
       "      <th>learn_rate</th>\n",
       "      <th>max_dep</th>\n",
       "      <th>n_est</th>\n",
       "    </tr>\n",
       "    <tr>\n",
       "      <th>rank</th>\n",
       "      <th></th>\n",
       "      <th></th>\n",
       "      <th></th>\n",
       "      <th></th>\n",
       "      <th></th>\n",
       "      <th></th>\n",
       "      <th></th>\n",
       "      <th></th>\n",
       "      <th></th>\n",
       "    </tr>\n",
       "  </thead>\n",
       "  <tbody>\n",
       "    <tr>\n",
       "      <th>1</th>\n",
       "      <td>0.95</td>\n",
       "      <td>0.02</td>\n",
       "      <td>45.59</td>\n",
       "      <td>2.43</td>\n",
       "      <td>0.03</td>\n",
       "      <td>0.01</td>\n",
       "      <td>0.5</td>\n",
       "      <td>5</td>\n",
       "      <td>150</td>\n",
       "    </tr>\n",
       "    <tr>\n",
       "      <th>2</th>\n",
       "      <td>0.95</td>\n",
       "      <td>0.02</td>\n",
       "      <td>59.16</td>\n",
       "      <td>2.41</td>\n",
       "      <td>0.06</td>\n",
       "      <td>0.03</td>\n",
       "      <td>0.1</td>\n",
       "      <td>3</td>\n",
       "      <td>300</td>\n",
       "    </tr>\n",
       "    <tr>\n",
       "      <th>3</th>\n",
       "      <td>0.95</td>\n",
       "      <td>0.02</td>\n",
       "      <td>43.25</td>\n",
       "      <td>3.84</td>\n",
       "      <td>0.08</td>\n",
       "      <td>0.05</td>\n",
       "      <td>0.1</td>\n",
       "      <td>3</td>\n",
       "      <td>150</td>\n",
       "    </tr>\n",
       "    <tr>\n",
       "      <th>4</th>\n",
       "      <td>0.95</td>\n",
       "      <td>0.02</td>\n",
       "      <td>79.80</td>\n",
       "      <td>27.35</td>\n",
       "      <td>0.05</td>\n",
       "      <td>0.02</td>\n",
       "      <td>0.1</td>\n",
       "      <td>4</td>\n",
       "      <td>300</td>\n",
       "    </tr>\n",
       "    <tr>\n",
       "      <th>5</th>\n",
       "      <td>0.95</td>\n",
       "      <td>0.02</td>\n",
       "      <td>70.29</td>\n",
       "      <td>17.15</td>\n",
       "      <td>0.04</td>\n",
       "      <td>0.01</td>\n",
       "      <td>0.5</td>\n",
       "      <td>4</td>\n",
       "      <td>300</td>\n",
       "    </tr>\n",
       "    <tr>\n",
       "      <th>6</th>\n",
       "      <td>0.95</td>\n",
       "      <td>0.02</td>\n",
       "      <td>58.08</td>\n",
       "      <td>4.64</td>\n",
       "      <td>0.03</td>\n",
       "      <td>0.00</td>\n",
       "      <td>0.5</td>\n",
       "      <td>3</td>\n",
       "      <td>300</td>\n",
       "    </tr>\n",
       "    <tr>\n",
       "      <th>7</th>\n",
       "      <td>0.94</td>\n",
       "      <td>0.02</td>\n",
       "      <td>47.40</td>\n",
       "      <td>32.79</td>\n",
       "      <td>0.03</td>\n",
       "      <td>0.02</td>\n",
       "      <td>1</td>\n",
       "      <td>4</td>\n",
       "      <td>150</td>\n",
       "    </tr>\n",
       "    <tr>\n",
       "      <th>8</th>\n",
       "      <td>0.94</td>\n",
       "      <td>0.03</td>\n",
       "      <td>42.13</td>\n",
       "      <td>0.82</td>\n",
       "      <td>0.04</td>\n",
       "      <td>0.01</td>\n",
       "      <td>0.1</td>\n",
       "      <td>4</td>\n",
       "      <td>150</td>\n",
       "    </tr>\n",
       "    <tr>\n",
       "      <th>9</th>\n",
       "      <td>0.94</td>\n",
       "      <td>0.01</td>\n",
       "      <td>81.88</td>\n",
       "      <td>7.00</td>\n",
       "      <td>0.04</td>\n",
       "      <td>0.01</td>\n",
       "      <td>0.5</td>\n",
       "      <td>5</td>\n",
       "      <td>300</td>\n",
       "    </tr>\n",
       "    <tr>\n",
       "      <th>10</th>\n",
       "      <td>0.94</td>\n",
       "      <td>0.03</td>\n",
       "      <td>46.40</td>\n",
       "      <td>2.96</td>\n",
       "      <td>0.04</td>\n",
       "      <td>0.02</td>\n",
       "      <td>1</td>\n",
       "      <td>5</td>\n",
       "      <td>150</td>\n",
       "    </tr>\n",
       "    <tr>\n",
       "      <th>11</th>\n",
       "      <td>0.94</td>\n",
       "      <td>0.02</td>\n",
       "      <td>85.94</td>\n",
       "      <td>25.53</td>\n",
       "      <td>0.04</td>\n",
       "      <td>0.01</td>\n",
       "      <td>1</td>\n",
       "      <td>5</td>\n",
       "      <td>300</td>\n",
       "    </tr>\n",
       "    <tr>\n",
       "      <th>12</th>\n",
       "      <td>0.94</td>\n",
       "      <td>0.02</td>\n",
       "      <td>47.95</td>\n",
       "      <td>1.94</td>\n",
       "      <td>0.05</td>\n",
       "      <td>0.03</td>\n",
       "      <td>0.1</td>\n",
       "      <td>5</td>\n",
       "      <td>150</td>\n",
       "    </tr>\n",
       "    <tr>\n",
       "      <th>13</th>\n",
       "      <td>0.94</td>\n",
       "      <td>0.02</td>\n",
       "      <td>83.39</td>\n",
       "      <td>21.68</td>\n",
       "      <td>0.04</td>\n",
       "      <td>0.01</td>\n",
       "      <td>0.1</td>\n",
       "      <td>5</td>\n",
       "      <td>300</td>\n",
       "    </tr>\n",
       "    <tr>\n",
       "      <th>14</th>\n",
       "      <td>0.94</td>\n",
       "      <td>0.02</td>\n",
       "      <td>41.70</td>\n",
       "      <td>3.23</td>\n",
       "      <td>0.03</td>\n",
       "      <td>0.01</td>\n",
       "      <td>0.5</td>\n",
       "      <td>4</td>\n",
       "      <td>150</td>\n",
       "    </tr>\n",
       "    <tr>\n",
       "      <th>15</th>\n",
       "      <td>0.94</td>\n",
       "      <td>0.03</td>\n",
       "      <td>33.83</td>\n",
       "      <td>6.95</td>\n",
       "      <td>0.03</td>\n",
       "      <td>0.01</td>\n",
       "      <td>1</td>\n",
       "      <td>3</td>\n",
       "      <td>150</td>\n",
       "    </tr>\n",
       "    <tr>\n",
       "      <th>16</th>\n",
       "      <td>0.94</td>\n",
       "      <td>0.02</td>\n",
       "      <td>30.31</td>\n",
       "      <td>1.13</td>\n",
       "      <td>0.03</td>\n",
       "      <td>0.01</td>\n",
       "      <td>0.5</td>\n",
       "      <td>3</td>\n",
       "      <td>150</td>\n",
       "    </tr>\n",
       "    <tr>\n",
       "      <th>17</th>\n",
       "      <td>0.94</td>\n",
       "      <td>0.02</td>\n",
       "      <td>63.37</td>\n",
       "      <td>2.08</td>\n",
       "      <td>0.04</td>\n",
       "      <td>0.02</td>\n",
       "      <td>1</td>\n",
       "      <td>4</td>\n",
       "      <td>300</td>\n",
       "    </tr>\n",
       "    <tr>\n",
       "      <th>18</th>\n",
       "      <td>0.94</td>\n",
       "      <td>0.02</td>\n",
       "      <td>52.80</td>\n",
       "      <td>1.34</td>\n",
       "      <td>0.03</td>\n",
       "      <td>0.01</td>\n",
       "      <td>1</td>\n",
       "      <td>3</td>\n",
       "      <td>300</td>\n",
       "    </tr>\n",
       "  </tbody>\n",
       "</table>\n",
       "</div>"
      ],
      "text/plain": [
       "      test  std_test  fit_time  std_ft  score_time  std_st learn_rate max_dep n_est\n",
       "rank                                                                               \n",
       "1     0.95      0.02     45.59    2.43        0.03    0.01        0.5       5   150\n",
       "2     0.95      0.02     59.16    2.41        0.06    0.03        0.1       3   300\n",
       "3     0.95      0.02     43.25    3.84        0.08    0.05        0.1       3   150\n",
       "4     0.95      0.02     79.80   27.35        0.05    0.02        0.1       4   300\n",
       "5     0.95      0.02     70.29   17.15        0.04    0.01        0.5       4   300\n",
       "6     0.95      0.02     58.08    4.64        0.03    0.00        0.5       3   300\n",
       "7     0.94      0.02     47.40   32.79        0.03    0.02          1       4   150\n",
       "8     0.94      0.03     42.13    0.82        0.04    0.01        0.1       4   150\n",
       "9     0.94      0.01     81.88    7.00        0.04    0.01        0.5       5   300\n",
       "10    0.94      0.03     46.40    2.96        0.04    0.02          1       5   150\n",
       "11    0.94      0.02     85.94   25.53        0.04    0.01          1       5   300\n",
       "12    0.94      0.02     47.95    1.94        0.05    0.03        0.1       5   150\n",
       "13    0.94      0.02     83.39   21.68        0.04    0.01        0.1       5   300\n",
       "14    0.94      0.02     41.70    3.23        0.03    0.01        0.5       4   150\n",
       "15    0.94      0.03     33.83    6.95        0.03    0.01          1       3   150\n",
       "16    0.94      0.02     30.31    1.13        0.03    0.01        0.5       3   150\n",
       "17    0.94      0.02     63.37    2.08        0.04    0.02          1       4   300\n",
       "18    0.94      0.02     52.80    1.34        0.03    0.01          1       3   300"
      ]
     },
     "execution_count": 8,
     "metadata": {},
     "output_type": "execute_result"
    }
   ],
   "source": [
    "col_chosen_orig = ['rank_test_score', \n",
    "    'mean_test_score', 'std_test_score', \n",
    "    'mean_fit_time', 'std_fit_time',\n",
    "    'mean_score_time', 'std_score_time',\n",
    "    'param_model__learning_rate',\n",
    "    'param_model__max_depth',\n",
    "    'param_model__n_estimators']\n",
    "col_chosen_mod = ['rank', \n",
    "    'test', 'std_test', \n",
    "    'fit_time', 'std_ft',\n",
    "    'score_time', 'std_st',\n",
    "    'learn_rate',\n",
    "    'max_dep',\n",
    "    'n_est']\n",
    "mapping = dict(zip(col_chosen_orig, col_chosen_mod))\n",
    "\n",
    "filtered_dict = {k:v for k,v in grid_result.cv_results_.items() if k in col_chosen_orig}\n",
    "reordered_dict = {k: filtered_dict[k] for k in col_chosen_orig}\n",
    "ranking = pd.DataFrame(reordered_dict).rename(mapping, axis=1).sort_values(by='rank').set_index('rank')\n",
    "ranking\n",
    "# df.style.set_table_styles([dict(selector=\"th\",props=[('max-width', '50px')])])"
   ]
  },
  {
   "cell_type": "markdown",
   "id": "median-picnic",
   "metadata": {
    "tags": []
   },
   "source": [
    "<a id='4.1'>\n",
    "    <h2 style='font-size:150%;'>\n",
    "        Test Set</h2></a>"
   ]
  },
  {
   "cell_type": "code",
   "execution_count": 9,
   "id": "cardiac-league",
   "metadata": {
    "jupyter": {
     "source_hidden": true
    },
    "tags": []
   },
   "outputs": [],
   "source": [
    "def test_results(scaler, model):\n",
    "    model = pipeline_ENN(scaler, model)\n",
    "    time0 = time.perf_counter()\n",
    "    model.fit(X_train, y_train)\n",
    "    time1 = time.perf_counter()\n",
    "    y_pred = model.predict(X_test)\n",
    "    time2 = time.perf_counter()\n",
    "    result = {}\n",
    "    result['fit_time'] = round(time1-time0, 2)\n",
    "    result['score_time'] = round(time2-time1, 2)\n",
    "    result['accuracy'] = round(accuracy_score(y_test, y_pred), 2)\n",
    "    result['precision'] = round(precision_score(y_test, y_pred), 2)\n",
    "    result['recall'] = round(recall_score(y_test, y_pred), 2)\n",
    "    result['f1'] = round(f1_score(y_test, y_pred), 2)\n",
    "    result['f2'] = round(fbeta_score(y_test, y_pred, beta=2), 2)\n",
    "    conf_mat = confusion_matrix(y_test, y_pred, labels=[1,0]) \n",
    "    df = pd.DataFrame(result, index=['model']).T\n",
    "    return conf_mat, df"
   ]
  },
  {
   "cell_type": "code",
   "execution_count": 10,
   "id": "worthy-sentence",
   "metadata": {
    "jupyter": {
     "source_hidden": true
    },
    "tags": []
   },
   "outputs": [
    {
     "name": "stdout",
     "output_type": "stream",
     "text": [
      "Calculating Test Set Results...\n",
      "\n",
      "Best Parameters by Grid Search CV:\n",
      "\n",
      "Parameters:\n",
      "{'model': GradientBoostingClassifier(learning_rate=0.5, max_depth=5, n_estimators=150,\n",
      "                           random_state=5), 'model__learning_rate': 0.5, 'model__max_depth': 5, 'model__n_estimators': 150}\n",
      "\n",
      "Confusion Matrix:\n",
      "[[ 312   13]\n",
      " [  77 1624]]\n",
      "\n",
      "Summary:\n",
      "            model\n",
      "fit_time    59.01\n",
      "score_time   0.06\n",
      "accuracy     0.96\n",
      "precision    0.80\n",
      "recall       0.96\n",
      "f1           0.87\n",
      "f2           0.92\n",
      "\n",
      "\n"
     ]
    }
   ],
   "source": [
    "print(f'Calculating Test Set Results...\\n')\n",
    "scaler, model = ('QT', QuantileTransformer()), GradientBoostingClassifier(\n",
    "    learning_rate=grid_result.best_params_['model__learning_rate'], \n",
    "    max_depth=grid_result.best_params_['model__max_depth'], \n",
    "    n_estimators=grid_result.best_params_['model__n_estimators'], \n",
    "    random_state=5)\n",
    "results_test = test_results(scaler, model)\n",
    "conf_mat, summary = results_test[0], results_test[1]\n",
    "print('Best Parameters by Grid Search CV:\\n')\n",
    "print('Parameters:')\n",
    "print(f'{grid_result.best_params_}\\n')\n",
    "print('Confusion Matrix:')\n",
    "print(f'{conf_mat}\\n')\n",
    "print('Summary:')\n",
    "print(f'{summary}\\n\\n')"
   ]
  },
  {
   "cell_type": "code",
   "execution_count": 11,
   "id": "interested-winner",
   "metadata": {
    "jupyter": {
     "source_hidden": true
    }
   },
   "outputs": [
    {
     "data": {
      "text/html": [
       "<div>\n",
       "<style scoped>\n",
       "    .dataframe tbody tr th:only-of-type {\n",
       "        vertical-align: middle;\n",
       "    }\n",
       "\n",
       "    .dataframe tbody tr th {\n",
       "        vertical-align: top;\n",
       "    }\n",
       "\n",
       "    .dataframe thead th {\n",
       "        text-align: right;\n",
       "    }\n",
       "</style>\n",
       "<table border=\"1\" class=\"dataframe\">\n",
       "  <thead>\n",
       "    <tr style=\"text-align: right;\">\n",
       "      <th></th>\n",
       "      <th>learn_rate</th>\n",
       "      <th>max_dep</th>\n",
       "      <th>n_est</th>\n",
       "    </tr>\n",
       "    <tr>\n",
       "      <th>rank</th>\n",
       "      <th></th>\n",
       "      <th></th>\n",
       "      <th></th>\n",
       "    </tr>\n",
       "  </thead>\n",
       "  <tbody>\n",
       "    <tr>\n",
       "      <th>1</th>\n",
       "      <td>0.5</td>\n",
       "      <td>5</td>\n",
       "      <td>150</td>\n",
       "    </tr>\n",
       "    <tr>\n",
       "      <th>2</th>\n",
       "      <td>0.1</td>\n",
       "      <td>3</td>\n",
       "      <td>300</td>\n",
       "    </tr>\n",
       "    <tr>\n",
       "      <th>3</th>\n",
       "      <td>0.1</td>\n",
       "      <td>3</td>\n",
       "      <td>150</td>\n",
       "    </tr>\n",
       "    <tr>\n",
       "      <th>4</th>\n",
       "      <td>0.1</td>\n",
       "      <td>4</td>\n",
       "      <td>300</td>\n",
       "    </tr>\n",
       "    <tr>\n",
       "      <th>5</th>\n",
       "      <td>0.5</td>\n",
       "      <td>4</td>\n",
       "      <td>300</td>\n",
       "    </tr>\n",
       "  </tbody>\n",
       "</table>\n",
       "</div>"
      ],
      "text/plain": [
       "     learn_rate max_dep n_est\n",
       "rank                         \n",
       "1           0.5       5   150\n",
       "2           0.1       3   300\n",
       "3           0.1       3   150\n",
       "4           0.1       4   300\n",
       "5           0.5       4   300"
      ]
     },
     "execution_count": 11,
     "metadata": {},
     "output_type": "execute_result"
    }
   ],
   "source": [
    "ranking.iloc[:5:,-3:]"
   ]
  },
  {
   "cell_type": "code",
   "execution_count": 12,
   "id": "serious-ceiling",
   "metadata": {
    "jupyter": {
     "source_hidden": true
    },
    "tags": []
   },
   "outputs": [
    {
     "name": "stdout",
     "output_type": "stream",
     "text": [
      "Top 5 Parameters by Grid Search CV on Test Set:\n",
      "\n",
      "Rank: 1\n",
      "\n",
      "Parameters:\n",
      "learn_rate    0.5\n",
      "max_dep         5\n",
      "n_est         150\n",
      "Name: 1, dtype: object\n",
      "\n",
      "Confusion Matrix:\n",
      "[[ 307   18]\n",
      " [  85 1616]]\n",
      "\n",
      "Summary:\n",
      "            model\n",
      "fit_time    57.47\n",
      "score_time   0.07\n",
      "accuracy     0.95\n",
      "precision    0.78\n",
      "recall       0.94\n",
      "f1           0.86\n",
      "f2           0.91\n",
      "\n",
      "\n",
      "Rank: 2\n",
      "\n",
      "Parameters:\n",
      "learn_rate    0.1\n",
      "max_dep         3\n",
      "n_est         300\n",
      "Name: 2, dtype: object\n",
      "\n",
      "Confusion Matrix:\n",
      "[[ 307   18]\n",
      " [  90 1611]]\n",
      "\n",
      "Summary:\n",
      "            model\n",
      "fit_time    66.78\n",
      "score_time   0.08\n",
      "accuracy     0.95\n",
      "precision    0.77\n",
      "recall       0.94\n",
      "f1           0.85\n",
      "f2           0.90\n",
      "\n",
      "\n",
      "Rank: 3\n",
      "\n",
      "Parameters:\n",
      "learn_rate    0.1\n",
      "max_dep         3\n",
      "n_est         150\n",
      "Name: 3, dtype: object\n",
      "\n",
      "Confusion Matrix:\n",
      "[[ 306   19]\n",
      " [ 113 1588]]\n",
      "\n",
      "Summary:\n",
      "            model\n",
      "fit_time    40.81\n",
      "score_time   0.06\n",
      "accuracy     0.93\n",
      "precision    0.73\n",
      "recall       0.94\n",
      "f1           0.82\n",
      "f2           0.89\n",
      "\n",
      "\n",
      "Rank: 4\n",
      "\n",
      "Parameters:\n",
      "learn_rate    0.1\n",
      "max_dep         4\n",
      "n_est         300\n",
      "Name: 4, dtype: object\n",
      "\n",
      "Confusion Matrix:\n",
      "[[ 307   18]\n",
      " [  85 1616]]\n",
      "\n",
      "Summary:\n",
      "            model\n",
      "fit_time   555.46\n",
      "score_time   0.08\n",
      "accuracy     0.95\n",
      "precision    0.78\n",
      "recall       0.94\n",
      "f1           0.86\n",
      "f2           0.91\n",
      "\n",
      "\n",
      "Rank: 5\n",
      "\n",
      "Parameters:\n",
      "learn_rate    0.5\n",
      "max_dep         4\n",
      "n_est         300\n",
      "Name: 5, dtype: object\n",
      "\n",
      "Confusion Matrix:\n",
      "[[ 310   15]\n",
      " [  74 1627]]\n",
      "\n",
      "Summary:\n",
      "            model\n",
      "fit_time    96.48\n",
      "score_time   0.09\n",
      "accuracy     0.96\n",
      "precision    0.81\n",
      "recall       0.95\n",
      "f1           0.87\n",
      "f2           0.92\n",
      "\n",
      "\n"
     ]
    }
   ],
   "source": [
    "# top 5\n",
    "print('Top 5 Parameters by Grid Search CV on Test Set:\\n')\n",
    "subset = ranking.iloc[:5:,-3:]\n",
    "for i in range(5):\n",
    "    scaler, model = ('QT', QuantileTransformer()), GradientBoostingClassifier(\n",
    "        learning_rate=subset.iloc[i,:][0], \n",
    "        max_depth=subset.iloc[i,:][1], \n",
    "        n_estimators=subset.iloc[i,:][2], \n",
    "        random_state=5)\n",
    "    results_test = test_results(scaler, model)\n",
    "    conf_mat, summary = results_test[0], results_test[1]\n",
    "    print(f'Rank: {subset.iloc[i,:].name}\\n')\n",
    "    print('Parameters:')\n",
    "    print(f'{subset.iloc[i,:].T}\\n')\n",
    "    print('Confusion Matrix:')\n",
    "    print(f'{conf_mat}\\n')\n",
    "    print('Summary:')\n",
    "    print(f'{summary}\\n\\n')"
   ]
  },
  {
   "cell_type": "markdown",
   "id": "spoken-fortune",
   "metadata": {
    "tags": []
   },
   "source": [
    "<a id='4.1'>\n",
    "    <h2 style='font-size:180%;'>\n",
    "        Results in the Previous Stage</h2></a>"
   ]
  },
  {
   "cell_type": "code",
   "execution_count": 13,
   "id": "hindu-event",
   "metadata": {
    "tags": []
   },
   "outputs": [],
   "source": [
    "# Rank=1, Name=2_GB_800_SM_ENN, Score=0.914 (+/- 0.063)\n",
    "# Rank=2, Name=2_ADA_800_SM_ENN, Score=0.910 (+/- 0.056)\n",
    "# Rank=3, Name=1_GB_800_SM_ENN, Score=0.908 (+/- 0.087)\n",
    "# Rank=4, Name=1_ADA_800_SM_ENN, Score=0.906 (+/- 0.063)\n",
    "# Rank=5, Name=1_LR_SM_ENN, Score=0.870 (+/- 0.107)\n",
    "# Rank=6, Name=2_LR_SM_ENN, Score=0.868 (+/- 0.075)\n",
    "# Rank=7, Name=2_MLP_1000_SM_ENN, Score=0.867 (+/- 0.078)\n",
    "# Rank=8, Name=1_GB_800_SM_TM, Score=0.859 (+/- 0.099)\n",
    "# Rank=9, Name=2_GB_800_SM, Score=0.857 (+/- 0.099)\n",
    "# Rank=10, Name=1_GB_800_SM, Score=0.857 (+/- 0.096)"
   ]
  },
  {
   "cell_type": "markdown",
   "id": "cognitive-domestic",
   "metadata": {
    "tags": []
   },
   "source": [
    "<a id='4.1'>\n",
    "    <h2 style='font-size:180%;'>\n",
    "        Total Notebook Runtime</h2></a>"
   ]
  },
  {
   "cell_type": "code",
   "execution_count": 14,
   "id": "rough-secretary",
   "metadata": {
    "jupyter": {
     "source_hidden": true
    },
    "tags": []
   },
   "outputs": [
    {
     "name": "stdout",
     "output_type": "stream",
     "text": [
      "Finished in 2,307.18 second(s) or 38.45 minute(s).\n"
     ]
    }
   ],
   "source": [
    "time_1 = time.perf_counter()\n",
    "print(f'Finished in {round(time_1-time_0, 2):,} second(s) or {round((time_1-time_0)/60, 2):,} minute(s).')"
   ]
  }
 ],
 "metadata": {
  "kernelspec": {
   "display_name": "Python 3",
   "language": "python",
   "name": "python3"
  },
  "language_info": {
   "codemirror_mode": {
    "name": "ipython",
    "version": 3
   },
   "file_extension": ".py",
   "mimetype": "text/x-python",
   "name": "python",
   "nbconvert_exporter": "python",
   "pygments_lexer": "ipython3",
   "version": "3.8.5"
  }
 },
 "nbformat": 4,
 "nbformat_minor": 5
}
