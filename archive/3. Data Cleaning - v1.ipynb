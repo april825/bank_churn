{
 "cells": [
  {
   "cell_type": "markdown",
   "id": "demonstrated-reach",
   "metadata": {},
   "source": [
    "<h1 style=\"background-color:rgb(67, 77, 86);\n",
    "           font-size:300%;\n",
    "           font-style: oblique;\n",
    "           color:white;\n",
    "           text-align:center;\n",
    "           margin: auto;\n",
    "           padding: 20px;\">Predicting Bank Churners</h1>"
   ]
  },
  {
   "cell_type": "markdown",
   "id": "electrical-collar",
   "metadata": {},
   "source": [
    "<h2 style=\"background-color:rgb(141, 153, 165);\n",
    "           font-size:250%;\n",
    "           color:white;\n",
    "           text-align:center;\n",
    "           margin: auto;\n",
    "           padding: 10px;\">Chapter 3: Data Cleaning</h2>"
   ]
  },
  {
   "cell_type": "markdown",
   "id": "humanitarian-inspection",
   "metadata": {},
   "source": [
    "<a id='1.1'>\n",
    "    <h2 style='font-size:180%;'>\n",
    "        Mission</h2></a>"
   ]
  },
  {
   "cell_type": "markdown",
   "id": "balanced-suicide",
   "metadata": {},
   "source": [
    "<figure>\n",
    "    <blockquote cite='https://www.kaggle.com/sakshigoyal7/credit-card-customers/tasks?taskId=2729'>\n",
    "        <p style='font-size:110%;\n",
    "                  color:hsl(208, 12%, 30%);'><i>Our top priority in this business problem is to identify customers who are getting churned. Even if we predict non-churning customers as churned, it won't harm our business. But predicting churning customers as non-churning will do. So recall needs to be higher. Till now, I have managed to get a recall of 62%.</i></p>\n",
    "    </blockquote>\n",
    "    <figcaption>—Sakshi Goyal, <cite>Credit Card Customers, Kaggle</cite></figcaption>"
   ]
  },
  {
   "cell_type": "markdown",
   "id": "billion-expert",
   "metadata": {},
   "source": [
    "<h2 style='font-size:180%;'>\n",
    "    Table of Contents\n",
    "</h2>"
   ]
  },
  {
   "cell_type": "markdown",
   "id": "going-today",
   "metadata": {},
   "source": [
    "* [Initial Preparation](#4)\n",
    "    * [Libraries](#4.1)\n",
    "    * [Data Loading](#4.2)\n",
    "* [Normality Test](#5)\n",
    "    * [Histograms](#5.1)\n",
    "    * [Skewness & Kurtosis](#5.2)\n",
    "    * [QQ Plots](#5.3)\n",
    "    * [Statistical Tests](#5.4)\n",
    "        * [D'Agostino's K Square](#5.4.1)\n",
    "        * [Anderson Test](#5.4.2)\n",
    "        * [Jarque–Bera Test](#5.4.3)\n",
    "* [Baseline Models](#6)\n",
    "    * [Logistic Regression](#6.1)\n",
    "    * [Gradient Boosting Classifier](#6.2)\n",
    "* [Outlier Treatment](#7)\n",
    "    * [Isolation Forest](#7.1)\n",
    "    * [Fit on All Classes](#7.2)\n",
    "        * [Logistic Regression](#7.2.1)\n",
    "        * [Gradient Boosting Classifier](#7.2.2)\n",
    "    * [Evaluate Results](#7.3)\n",
    "            "
   ]
  },
  {
   "cell_type": "markdown",
   "id": "assumed-beijing",
   "metadata": {},
   "source": [
    "<a id='4'>\n",
    "    <h2 style='background-color:rgb(141, 153, 165);\n",
    "               font-size:240%;\n",
    "               color:white;\n",
    "               text-align:center;\n",
    "               margin: auto;\n",
    "               padding: 10px;'>\n",
    "        Initial Preparation\n",
    "    </h2>\n",
    "</a>"
   ]
  },
  {
   "cell_type": "markdown",
   "id": "liquid-improvement",
   "metadata": {},
   "source": [
    "<a id='4.1'>\n",
    "    <h2 style='font-size:210%;'>\n",
    "        Libraries\n",
    "    </h2>\n",
    "</a>"
   ]
  },
  {
   "cell_type": "code",
   "execution_count": 1,
   "id": "decent-assistant",
   "metadata": {},
   "outputs": [],
   "source": [
    "global_built_ins = dir()\n",
    "global_built_ins.append('global_built_ins')"
   ]
  },
  {
   "cell_type": "code",
   "execution_count": 2,
   "id": "christian-studio",
   "metadata": {},
   "outputs": [],
   "source": [
    "# general\n",
    "import numpy as np\n",
    "import pandas as pd\n",
    "\n",
    "# data visualization\n",
    "import matplotlib.pyplot as plt\n",
    "import statsmodels.api as sm\n",
    "\n",
    "# statistics\n",
    "from numpy import (mean, std)\n",
    "from scipy.stats import (\n",
    "    normaltest, anderson, jarque_bera)\n",
    "\n",
    "# machine learning prep\n",
    "from collections import Counter\n",
    "from sklearn.model_selection import (\n",
    "    train_test_split, cross_validate, cross_val_predict,\n",
    "    RepeatedStratifiedKFold)\n",
    "from sklearn.metrics import (\n",
    "    accuracy_score, precision_score, recall_score, f1_score, fbeta_score, \n",
    "    confusion_matrix, make_scorer, SCORERS)\n",
    "from imblearn.pipeline import Pipeline\n",
    "# from sklearn.pipeline import Pipeline\n",
    "\n",
    "# machine learning models\n",
    "from sklearn.ensemble import (GradientBoostingClassifier, IsolationForest)\n",
    "from sklearn.linear_model import LogisticRegression\n",
    "\n",
    "# warning\n",
    "# import warnings\n",
    "# warnings.filterwarnings('ignore', category=RuntimeWarning)\n",
    "# warnings.filterwarnings('ignore', category=FutureWarning)\n",
    "# warnings.filterwarnings('ignore', category=DeprecationWarning)\n",
    "\n",
    "# saving\n",
    "import os\n",
    "\n",
    "# efficiency\n",
    "from time import time"
   ]
  },
  {
   "cell_type": "markdown",
   "id": "overall-textbook",
   "metadata": {},
   "source": [
    "# Display Settings"
   ]
  },
  {
   "cell_type": "code",
   "execution_count": 3,
   "id": "middle-shame",
   "metadata": {},
   "outputs": [],
   "source": [
    "# display settings\n",
    "%matplotlib inline\n",
    "pd.options.display.max_rows = 100\n",
    "pd.options.display.max_columns = 100\n",
    "pd.options.display.float_format = '{:,.2f}'.format\n",
    "np.set_printoptions(suppress=True, precision=3)"
   ]
  },
  {
   "cell_type": "code",
   "execution_count": 4,
   "id": "active-broad",
   "metadata": {},
   "outputs": [
    {
     "data": {
      "text/html": [
       "<style>\n",
       "/* CSS styles for pandas dataframe */\n",
       ".dataframe th {\n",
       "    font-size: 16px;\n",
       "}\n",
       ".dataframe td {\n",
       "    font-size: 14px;\n",
       "}\n",
       "</style>\n"
      ],
      "text/plain": [
       "<IPython.core.display.HTML object>"
      ]
     },
     "metadata": {},
     "output_type": "display_data"
    }
   ],
   "source": [
    "%%html\n",
    "<style>\n",
    "/* CSS styles for pandas dataframe */\n",
    ".dataframe th {\n",
    "    font-size: 16px;\n",
    "}\n",
    ".dataframe td {\n",
    "    font-size: 14px;\n",
    "}\n",
    "</style>"
   ]
  },
  {
   "cell_type": "code",
   "execution_count": 5,
   "id": "sapphire-spare",
   "metadata": {},
   "outputs": [],
   "source": [
    "global_libraries = dir()\n",
    "global_libraries.append('global_libraries')"
   ]
  },
  {
   "cell_type": "markdown",
   "id": "sacred-failure",
   "metadata": {},
   "source": [
    "<a id='4.2'>\n",
    "    <h2 style='font-size:210%;'>\n",
    "        Data Loading\n",
    "    </h2>\n",
    "</a>"
   ]
  },
  {
   "cell_type": "code",
   "execution_count": 6,
   "id": "strong-zealand",
   "metadata": {},
   "outputs": [
    {
     "data": {
      "text/html": [
       "<div>\n",
       "<style scoped>\n",
       "    .dataframe tbody tr th:only-of-type {\n",
       "        vertical-align: middle;\n",
       "    }\n",
       "\n",
       "    .dataframe tbody tr th {\n",
       "        vertical-align: top;\n",
       "    }\n",
       "\n",
       "    .dataframe thead th {\n",
       "        text-align: right;\n",
       "    }\n",
       "</style>\n",
       "<table border=\"1\" class=\"dataframe\">\n",
       "  <thead>\n",
       "    <tr style=\"text-align: right;\">\n",
       "      <th></th>\n",
       "      <th>churn</th>\n",
       "      <th>age</th>\n",
       "      <th>gender</th>\n",
       "      <th>dependents</th>\n",
       "      <th>prod_ct</th>\n",
       "      <th>mo_on_book</th>\n",
       "      <th>mo_inactive_r12</th>\n",
       "      <th>contr_ct_r12</th>\n",
       "      <th>revbal_avg_r12</th>\n",
       "      <th>credlim_avg_r12</th>\n",
       "      <th>opentobuy_avg_r12</th>\n",
       "      <th>utilratio_avg</th>\n",
       "      <th>tx_amt_r12</th>\n",
       "      <th>tx_ct_r12</th>\n",
       "      <th>chng_tx_amt_q4_q1</th>\n",
       "      <th>chng_tx_ct_q4_q1</th>\n",
       "      <th>marstat_Divorced</th>\n",
       "      <th>marstat_Married</th>\n",
       "      <th>marstat_Single</th>\n",
       "      <th>marstat_Unknown</th>\n",
       "      <th>card_Blue</th>\n",
       "      <th>card_Gold</th>\n",
       "      <th>card_Platinum</th>\n",
       "      <th>card_Silver</th>\n",
       "      <th>educ</th>\n",
       "      <th>inc</th>\n",
       "      <th>tx_amt_pertx_r12</th>\n",
       "    </tr>\n",
       "  </thead>\n",
       "  <tbody>\n",
       "    <tr>\n",
       "      <th>0</th>\n",
       "      <td>0</td>\n",
       "      <td>45</td>\n",
       "      <td>1</td>\n",
       "      <td>3</td>\n",
       "      <td>5</td>\n",
       "      <td>39</td>\n",
       "      <td>1</td>\n",
       "      <td>3</td>\n",
       "      <td>777.00</td>\n",
       "      <td>12,691.00</td>\n",
       "      <td>11,914.00</td>\n",
       "      <td>0.06</td>\n",
       "      <td>1,144.00</td>\n",
       "      <td>42</td>\n",
       "      <td>1.33</td>\n",
       "      <td>1.62</td>\n",
       "      <td>0</td>\n",
       "      <td>1</td>\n",
       "      <td>0</td>\n",
       "      <td>0</td>\n",
       "      <td>1</td>\n",
       "      <td>0</td>\n",
       "      <td>0</td>\n",
       "      <td>0</td>\n",
       "      <td>1</td>\n",
       "      <td>3</td>\n",
       "      <td>27.24</td>\n",
       "    </tr>\n",
       "    <tr>\n",
       "      <th>1</th>\n",
       "      <td>0</td>\n",
       "      <td>49</td>\n",
       "      <td>0</td>\n",
       "      <td>5</td>\n",
       "      <td>6</td>\n",
       "      <td>44</td>\n",
       "      <td>1</td>\n",
       "      <td>2</td>\n",
       "      <td>864.00</td>\n",
       "      <td>8,256.00</td>\n",
       "      <td>7,392.00</td>\n",
       "      <td>0.10</td>\n",
       "      <td>1,291.00</td>\n",
       "      <td>33</td>\n",
       "      <td>1.54</td>\n",
       "      <td>3.71</td>\n",
       "      <td>0</td>\n",
       "      <td>0</td>\n",
       "      <td>1</td>\n",
       "      <td>0</td>\n",
       "      <td>1</td>\n",
       "      <td>0</td>\n",
       "      <td>0</td>\n",
       "      <td>0</td>\n",
       "      <td>3</td>\n",
       "      <td>1</td>\n",
       "      <td>39.12</td>\n",
       "    </tr>\n",
       "    <tr>\n",
       "      <th>2</th>\n",
       "      <td>0</td>\n",
       "      <td>51</td>\n",
       "      <td>1</td>\n",
       "      <td>3</td>\n",
       "      <td>4</td>\n",
       "      <td>36</td>\n",
       "      <td>1</td>\n",
       "      <td>0</td>\n",
       "      <td>0.00</td>\n",
       "      <td>3,418.00</td>\n",
       "      <td>3,418.00</td>\n",
       "      <td>0.00</td>\n",
       "      <td>1,887.00</td>\n",
       "      <td>20</td>\n",
       "      <td>2.59</td>\n",
       "      <td>2.33</td>\n",
       "      <td>0</td>\n",
       "      <td>1</td>\n",
       "      <td>0</td>\n",
       "      <td>0</td>\n",
       "      <td>1</td>\n",
       "      <td>0</td>\n",
       "      <td>0</td>\n",
       "      <td>0</td>\n",
       "      <td>3</td>\n",
       "      <td>4</td>\n",
       "      <td>94.35</td>\n",
       "    </tr>\n",
       "  </tbody>\n",
       "</table>\n",
       "</div>"
      ],
      "text/plain": [
       "   churn  age  gender  dependents  prod_ct  mo_on_book  mo_inactive_r12  \\\n",
       "0      0   45       1           3        5          39                1   \n",
       "1      0   49       0           5        6          44                1   \n",
       "2      0   51       1           3        4          36                1   \n",
       "\n",
       "   contr_ct_r12  revbal_avg_r12  credlim_avg_r12  opentobuy_avg_r12  \\\n",
       "0             3          777.00        12,691.00          11,914.00   \n",
       "1             2          864.00         8,256.00           7,392.00   \n",
       "2             0            0.00         3,418.00           3,418.00   \n",
       "\n",
       "   utilratio_avg  tx_amt_r12  tx_ct_r12  chng_tx_amt_q4_q1  chng_tx_ct_q4_q1  \\\n",
       "0           0.06    1,144.00         42               1.33              1.62   \n",
       "1           0.10    1,291.00         33               1.54              3.71   \n",
       "2           0.00    1,887.00         20               2.59              2.33   \n",
       "\n",
       "   marstat_Divorced  marstat_Married  marstat_Single  marstat_Unknown  \\\n",
       "0                 0                1               0                0   \n",
       "1                 0                0               1                0   \n",
       "2                 0                1               0                0   \n",
       "\n",
       "   card_Blue  card_Gold  card_Platinum  card_Silver  educ  inc  \\\n",
       "0          1          0              0            0     1    3   \n",
       "1          1          0              0            0     3    1   \n",
       "2          1          0              0            0     3    4   \n",
       "\n",
       "   tx_amt_pertx_r12  \n",
       "0             27.24  \n",
       "1             39.12  \n",
       "2             94.35  "
      ]
     },
     "execution_count": 6,
     "metadata": {},
     "output_type": "execute_result"
    }
   ],
   "source": [
    "# load data\n",
    "d = pd.read_csv('source/d_num.csv')\n",
    "d.head(3)"
   ]
  },
  {
   "cell_type": "code",
   "execution_count": 7,
   "id": "associate-eclipse",
   "metadata": {},
   "outputs": [
    {
     "data": {
      "text/plain": [
       "array([dtype('int64'), dtype('float64')], dtype=object)"
      ]
     },
     "execution_count": 7,
     "metadata": {},
     "output_type": "execute_result"
    }
   ],
   "source": [
    "# confirm data consists only of numerical data types\n",
    "d.dtypes.unique()"
   ]
  },
  {
   "cell_type": "markdown",
   "id": "miniature-garage",
   "metadata": {},
   "source": [
    "<a id='5'>\n",
    "    <h2 style='background-color:rgb(141, 153, 165);\n",
    "               font-size:240%;\n",
    "               color:white;\n",
    "               text-align:center;\n",
    "               margin: auto;\n",
    "               padding: 10px;'>\n",
    "        Normality Test\n",
    "    </h2>\n",
    "</a>"
   ]
  },
  {
   "cell_type": "markdown",
   "id": "legal-ancient",
   "metadata": {},
   "source": [
    "Evaluating normality of data is critical to determining whether to use parametric or nonparametric methods. Parametric methods assume a a known and specific distribution of data which is often Gaussian. A nonparametric method must be used if the normality assumption is violated. If one uses a method that assume a Gaussian distribution but the data is not Gaussian, the results may be misleading or plain inaccurate. In this section, we test the normality of the ordinal variables to check if our data is sufficiently-normal for us to use parametric methods."
   ]
  },
  {
   "cell_type": "markdown",
   "id": "dense-reduction",
   "metadata": {},
   "source": [
    "<a id='5.1'>\n",
    "    <h2 style='font-size:210%;'>\n",
    "        Histograms\n",
    "    </h2>\n",
    "</a>"
   ]
  },
  {
   "cell_type": "markdown",
   "id": "threaded-diary",
   "metadata": {},
   "source": [
    "Although none of the features looked quite normal in the visualization chapter, we can confirm our judgment with statistics and formal normality tests. First, let's revisit the histograms of the ordinal variables in the data to spot check some promising candidates."
   ]
  },
  {
   "cell_type": "markdown",
   "id": "structural-lightweight",
   "metadata": {},
   "source": [
    "For the continuous variables, we can spot some multinomial (`tx_amt_r12`, `tx_amt_pertx_r12`) and exponential distributions (`credlim_avg_r12`,`opentobuy_avg_r12`) as well as roughly normal distributions (`chng_tx_amt_q4_q1`, `chng_tx_ct_q4_q1`)."
   ]
  },
  {
   "cell_type": "markdown",
   "id": "surrounded-lover",
   "metadata": {},
   "source": [
    "<a id='5.1.1'>\n",
    "    <h2 style='font-size:180%;'>\n",
    "        Continuous Variables\n",
    "    </h2>\n",
    "</a>"
   ]
  },
  {
   "cell_type": "code",
   "execution_count": 8,
   "id": "potential-settlement",
   "metadata": {
    "jupyter": {
     "source_hidden": true
    }
   },
   "outputs": [
    {
     "data": {
      "image/png": "[encoded data removed]",
      "text/plain": [
       "<Figure size 720x360 with 8 Axes>"
      ]
     },
     "metadata": {
      "needs_background": "light"
     },
     "output_type": "display_data"
    }
   ],
   "source": [
    "# histograms for continuous variables\n",
    "r, c = 2, 4\n",
    "d.select_dtypes('float').hist(\n",
    "    xlabelsize=8, ylabelsize=8, \n",
    "    yrot=90, \n",
    "    layout=(r, c), figsize=(c*2.5, r*2.5),\n",
    "    color='teal', bins=20)\n",
    "plt.show()"
   ]
  },
  {
   "cell_type": "markdown",
   "id": "august-quantum",
   "metadata": {},
   "source": [
    "<a id='5.1.2'>\n",
    "    <h2 style='font-size:180%;'>\n",
    "        Discrete Variables\n",
    "    </h2>\n",
    "</a>"
   ]
  },
  {
   "cell_type": "markdown",
   "id": "legislative-fitting",
   "metadata": {},
   "source": [
    "For the discrete variables, `age` and `dependents` seem to be sufficiently-normal."
   ]
  },
  {
   "cell_type": "code",
   "execution_count": 9,
   "id": "sudden-attempt",
   "metadata": {
    "jupyter": {
     "source_hidden": true
    }
   },
   "outputs": [
    {
     "data": {
      "image/png": "[encoded data removed]",
      "text/plain": [
       "<Figure size 720x360 with 8 Axes>"
      ]
     },
     "metadata": {
      "needs_background": "light"
     },
     "output_type": "display_data"
    }
   ],
   "source": [
    "# histograms for discrete variables\n",
    "d.select_dtypes('integer').iloc[:,1:9].hist(\n",
    "    xlabelsize=8, ylabelsize=8, \n",
    "    yrot=90, \n",
    "    layout=(r, c), figsize=(c*2.5, r*2.5),\n",
    "    color='teal', bins=10)\n",
    "plt.show()"
   ]
  },
  {
   "cell_type": "markdown",
   "id": "corporate-stocks",
   "metadata": {},
   "source": [
    "<a id='5.2'>\n",
    "    <h2 style='font-size:210%;'>\n",
    "        Skewness & Kurtosis\n",
    "    </h2>\n",
    "</a>"
   ]
  },
  {
   "cell_type": "markdown",
   "id": "juvenile-camping",
   "metadata": {},
   "source": [
    "Skewness measures the skew or asymmetry of the distribution (right or left) while kurtosis measures the thickness of the distribution's tails compared to a Gaussian distribution. These are quick and simple statistical tests for normality. A perfectly normal distribution has a skew of $0$ and kurtosis of $3$ (or the fisher or excess kurtosis of $0$). A reasonably normal range for both skew and excess kurtosis is $[-1, 1]$."
   ]
  },
  {
   "cell_type": "markdown",
   "id": "nonprofit-dividend",
   "metadata": {},
   "source": [
    "<a id='5.2.1'>\n",
    "    <h2 style='font-size:180%;'>\n",
    "        Normal-Enough by Skewness\n",
    "    </h2>\n",
    "</a>"
   ]
  },
  {
   "cell_type": "code",
   "execution_count": 10,
   "id": "accessible-relation",
   "metadata": {
    "jupyter": {
     "source_hidden": true
    }
   },
   "outputs": [
    {
     "name": "stdout",
     "output_type": "stream",
     "text": [
      "Variables with Skewness < |1|\n"
     ]
    },
    {
     "data": {
      "text/html": [
       "<div>\n",
       "<style scoped>\n",
       "    .dataframe tbody tr th:only-of-type {\n",
       "        vertical-align: middle;\n",
       "    }\n",
       "\n",
       "    .dataframe tbody tr th {\n",
       "        vertical-align: top;\n",
       "    }\n",
       "\n",
       "    .dataframe thead th {\n",
       "        text-align: right;\n",
       "    }\n",
       "</style>\n",
       "<table border=\"1\" class=\"dataframe\">\n",
       "  <thead>\n",
       "    <tr style=\"text-align: right;\">\n",
       "      <th></th>\n",
       "      <th>skew</th>\n",
       "    </tr>\n",
       "  </thead>\n",
       "  <tbody>\n",
       "    <tr>\n",
       "      <th>age</th>\n",
       "      <td>-0.03</td>\n",
       "    </tr>\n",
       "    <tr>\n",
       "      <th>gender</th>\n",
       "      <td>0.12</td>\n",
       "    </tr>\n",
       "    <tr>\n",
       "      <th>dependents</th>\n",
       "      <td>-0.02</td>\n",
       "    </tr>\n",
       "    <tr>\n",
       "      <th>prod_ct</th>\n",
       "      <td>-0.16</td>\n",
       "    </tr>\n",
       "    <tr>\n",
       "      <th>mo_on_book</th>\n",
       "      <td>-0.11</td>\n",
       "    </tr>\n",
       "    <tr>\n",
       "      <th>mo_inactive_r12</th>\n",
       "      <td>0.63</td>\n",
       "    </tr>\n",
       "    <tr>\n",
       "      <th>contr_ct_r12</th>\n",
       "      <td>0.01</td>\n",
       "    </tr>\n",
       "    <tr>\n",
       "      <th>revbal_avg_r12</th>\n",
       "      <td>-0.15</td>\n",
       "    </tr>\n",
       "    <tr>\n",
       "      <th>utilratio_avg</th>\n",
       "      <td>0.72</td>\n",
       "    </tr>\n",
       "    <tr>\n",
       "      <th>tx_ct_r12</th>\n",
       "      <td>0.15</td>\n",
       "    </tr>\n",
       "    <tr>\n",
       "      <th>marstat_Married</th>\n",
       "      <td>0.15</td>\n",
       "    </tr>\n",
       "    <tr>\n",
       "      <th>marstat_Single</th>\n",
       "      <td>0.45</td>\n",
       "    </tr>\n",
       "    <tr>\n",
       "      <th>educ</th>\n",
       "      <td>0.31</td>\n",
       "    </tr>\n",
       "    <tr>\n",
       "      <th>inc</th>\n",
       "      <td>0.47</td>\n",
       "    </tr>\n",
       "  </tbody>\n",
       "</table>\n",
       "</div>"
      ],
      "text/plain": [
       "                 skew\n",
       "age             -0.03\n",
       "gender           0.12\n",
       "dependents      -0.02\n",
       "prod_ct         -0.16\n",
       "mo_on_book      -0.11\n",
       "mo_inactive_r12  0.63\n",
       "contr_ct_r12     0.01\n",
       "revbal_avg_r12  -0.15\n",
       "utilratio_avg    0.72\n",
       "tx_ct_r12        0.15\n",
       "marstat_Married  0.15\n",
       "marstat_Single   0.45\n",
       "educ             0.31\n",
       "inc              0.47"
      ]
     },
     "execution_count": 10,
     "metadata": {},
     "output_type": "execute_result"
    }
   ],
   "source": [
    "# `pandas.df.skew`\n",
    "print('Variables with Skewness < |1|')\n",
    "d_skew = d.skew(axis=0, skipna=True)\n",
    "normal_skew = d_skew[d_skew.between(-1,1)]\n",
    "pd.DataFrame(normal_skew).rename({0:'skew'},axis=1)"
   ]
  },
  {
   "cell_type": "markdown",
   "id": "fantastic-suite",
   "metadata": {},
   "source": [
    "<a id='5.2.2'>\n",
    "    <h2 style='font-size:180%;'>\n",
    "        Normal-Enough by Kurtosis\n",
    "    </h2>\n",
    "</a>"
   ]
  },
  {
   "cell_type": "code",
   "execution_count": 11,
   "id": "reserved-portuguese",
   "metadata": {
    "jupyter": {
     "source_hidden": true
    }
   },
   "outputs": [
    {
     "name": "stdout",
     "output_type": "stream",
     "text": [
      "Variables with Kurtosis < |1|\n"
     ]
    },
    {
     "data": {
      "text/html": [
       "<div>\n",
       "<style scoped>\n",
       "    .dataframe tbody tr th:only-of-type {\n",
       "        vertical-align: middle;\n",
       "    }\n",
       "\n",
       "    .dataframe tbody tr th {\n",
       "        vertical-align: top;\n",
       "    }\n",
       "\n",
       "    .dataframe thead th {\n",
       "        text-align: right;\n",
       "    }\n",
       "</style>\n",
       "<table border=\"1\" class=\"dataframe\">\n",
       "  <thead>\n",
       "    <tr style=\"text-align: right;\">\n",
       "      <th></th>\n",
       "      <th>kurt</th>\n",
       "    </tr>\n",
       "  </thead>\n",
       "  <tbody>\n",
       "    <tr>\n",
       "      <th>age</th>\n",
       "      <td>-0.29</td>\n",
       "    </tr>\n",
       "    <tr>\n",
       "      <th>dependents</th>\n",
       "      <td>-0.68</td>\n",
       "    </tr>\n",
       "    <tr>\n",
       "      <th>mo_on_book</th>\n",
       "      <td>0.40</td>\n",
       "    </tr>\n",
       "    <tr>\n",
       "      <th>contr_ct_r12</th>\n",
       "      <td>0.00</td>\n",
       "    </tr>\n",
       "    <tr>\n",
       "      <th>utilratio_avg</th>\n",
       "      <td>-0.79</td>\n",
       "    </tr>\n",
       "    <tr>\n",
       "      <th>tx_ct_r12</th>\n",
       "      <td>-0.37</td>\n",
       "    </tr>\n",
       "    <tr>\n",
       "      <th>inc</th>\n",
       "      <td>-0.91</td>\n",
       "    </tr>\n",
       "  </tbody>\n",
       "</table>\n",
       "</div>"
      ],
      "text/plain": [
       "               kurt\n",
       "age           -0.29\n",
       "dependents    -0.68\n",
       "mo_on_book     0.40\n",
       "contr_ct_r12   0.00\n",
       "utilratio_avg -0.79\n",
       "tx_ct_r12     -0.37\n",
       "inc           -0.91"
      ]
     },
     "execution_count": 11,
     "metadata": {},
     "output_type": "execute_result"
    }
   ],
   "source": [
    "# `pandas.df.kurt` calculates the fisher method\n",
    "print('Variables with Kurtosis < |1|')\n",
    "d_kurt = d.kurt(axis=0, skipna=True)\n",
    "normal_kurt=d_kurt[d_kurt.between(-1,1)]\n",
    "pd.DataFrame(normal_kurt).rename({0:'kurt'},axis=1)"
   ]
  },
  {
   "cell_type": "markdown",
   "id": "convinced-opportunity",
   "metadata": {},
   "source": [
    "<a id='5.2.2'>\n",
    "    <h2 style='font-size:180%;'>\n",
    "        Normal-Enough by Skewness & Kurtosis\n",
    "    </h2>\n",
    "</a>"
   ]
  },
  {
   "cell_type": "markdown",
   "id": "informational-entrance",
   "metadata": {},
   "source": [
    "Both `age` and `dependents` are slightly platykurtic meaning that they have thinner tails with values more spread out compared to a normal distribution. The following features are *sufficiently normal* both in terms of skewness and kurtosis:"
   ]
  },
  {
   "cell_type": "code",
   "execution_count": 12,
   "id": "combined-tribute",
   "metadata": {},
   "outputs": [
    {
     "data": {
      "text/html": [
       "<div>\n",
       "<style scoped>\n",
       "    .dataframe tbody tr th:only-of-type {\n",
       "        vertical-align: middle;\n",
       "    }\n",
       "\n",
       "    .dataframe tbody tr th {\n",
       "        vertical-align: top;\n",
       "    }\n",
       "\n",
       "    .dataframe thead th {\n",
       "        text-align: right;\n",
       "    }\n",
       "</style>\n",
       "<table border=\"1\" class=\"dataframe\">\n",
       "  <thead>\n",
       "    <tr style=\"text-align: right;\">\n",
       "      <th></th>\n",
       "      <th>skew</th>\n",
       "      <th>kurt</th>\n",
       "    </tr>\n",
       "  </thead>\n",
       "  <tbody>\n",
       "    <tr>\n",
       "      <th>age</th>\n",
       "      <td>-0.03</td>\n",
       "      <td>-0.29</td>\n",
       "    </tr>\n",
       "    <tr>\n",
       "      <th>dependents</th>\n",
       "      <td>-0.02</td>\n",
       "      <td>-0.68</td>\n",
       "    </tr>\n",
       "    <tr>\n",
       "      <th>mo_on_book</th>\n",
       "      <td>-0.11</td>\n",
       "      <td>0.40</td>\n",
       "    </tr>\n",
       "    <tr>\n",
       "      <th>contr_ct_r12</th>\n",
       "      <td>0.01</td>\n",
       "      <td>0.00</td>\n",
       "    </tr>\n",
       "    <tr>\n",
       "      <th>utilratio_avg</th>\n",
       "      <td>0.72</td>\n",
       "      <td>-0.79</td>\n",
       "    </tr>\n",
       "    <tr>\n",
       "      <th>tx_ct_r12</th>\n",
       "      <td>0.15</td>\n",
       "      <td>-0.37</td>\n",
       "    </tr>\n",
       "    <tr>\n",
       "      <th>inc</th>\n",
       "      <td>0.47</td>\n",
       "      <td>-0.91</td>\n",
       "    </tr>\n",
       "  </tbody>\n",
       "</table>\n",
       "</div>"
      ],
      "text/plain": [
       "               skew  kurt\n",
       "age           -0.03 -0.29\n",
       "dependents    -0.02 -0.68\n",
       "mo_on_book    -0.11  0.40\n",
       "contr_ct_r12   0.01  0.00\n",
       "utilratio_avg  0.72 -0.79\n",
       "tx_ct_r12      0.15 -0.37\n",
       "inc            0.47 -0.91"
      ]
     },
     "execution_count": 12,
     "metadata": {},
     "output_type": "execute_result"
    }
   ],
   "source": [
    "normal_stat = pd.concat([normal_skew, normal_kurt], axis=1).dropna().rename({0:'skew', 1:'kurt'}, axis=1)\n",
    "normal_stat"
   ]
  },
  {
   "cell_type": "markdown",
   "id": "aggressive-development",
   "metadata": {},
   "source": [
    "<a id='5.3'>\n",
    "    <h2 style='font-size:210%;'>\n",
    "        QQ Plots\n",
    "    </h2>\n",
    "</a>"
   ]
  },
  {
   "cell_type": "markdown",
   "id": "joined-owner",
   "metadata": {},
   "source": [
    "The Quantile-Quantile Plot known as the \"QQ Plot\" provides a visual representation of normality by comparing theoretical quantiles and the actual quantiles of the variables. The distance between the scatter plot and the red diagonal line represents deviation from a normal distribution. The QQ plot does a much better job in visualizing normality compared to a histogram or a box plot."
   ]
  },
  {
   "cell_type": "markdown",
   "id": "occupied-tuning",
   "metadata": {},
   "source": [
    "All features but `dependents`, `utilization ratio`, and `income` show pretty good signs of normality although the flattening of the two extremes of each of the distributions indicate high kurtosis with some possible signs of outliers. `dependents` seem to be on spot in terms of skewness but shows a wider range of flattening, consistent with the high skewness we saw above."
   ]
  },
  {
   "cell_type": "code",
   "execution_count": 13,
   "id": "received-holocaust",
   "metadata": {
    "jupyter": {
     "source_hidden": true
    }
   },
   "outputs": [
    {
     "data": {
      "image/png": "[encoded data removed]",
      "text/plain": [
       "<Figure size 1008x504 with 8 Axes>"
      ]
     },
     "metadata": {
      "needs_background": "light"
     },
     "output_type": "display_data"
    }
   ],
   "source": [
    "fig, axes = plt.subplots(ncols=4, nrows=2, sharex=True, figsize=(4*3.5, 2*3.5))\n",
    "axes[1,3].set_visible(False)\n",
    "for var, ax in zip(normal_stat.index, np.ravel(axes)):\n",
    "    sm.qqplot(d[var], line='s', ax=ax)\n",
    "    ax.set_title(f'{var.title()}')\n",
    "plt.tight_layout()"
   ]
  },
  {
   "cell_type": "markdown",
   "id": "becoming-maintenance",
   "metadata": {},
   "source": [
    "<a id='5.4'>\n",
    "    <h2 style='font-size:210%;'>\n",
    "        Statistical Tests\n",
    "    </h2>\n",
    "</a>"
   ]
  },
  {
   "cell_type": "markdown",
   "id": "concerned-replication",
   "metadata": {},
   "source": [
    "In this section, I will try three different statistical normality tests (`Jarque-Bera`, `D'Agostino's K Square`, and `Anderson Test`) to examine if the results align with the normality patterns we observed in the previous sections. These tests can be used to confirm if the the more promising candidates are sufficiently normal for us to proceed with parametric methods."
   ]
  },
  {
   "cell_type": "markdown",
   "id": "optical-assignment",
   "metadata": {},
   "source": [
    "By the Central Limit Theorem, as $n$ gets large the distribution of sample means will approximate a normal distribution. Thus, formal statistical tests to check the normality of distributions are not as useful with the full data. For this reason and for demonstration purposes, I take a sample of randomly selected $800$ examples. This way, the tests will yield results that serve the practical purposes of our analysis."
   ]
  },
  {
   "cell_type": "code",
   "execution_count": 14,
   "id": "crude-acquisition",
   "metadata": {},
   "outputs": [],
   "source": [
    "sample_n = 800"
   ]
  },
  {
   "cell_type": "code",
   "execution_count": 15,
   "id": "warming-iceland",
   "metadata": {
    "jupyter": {
     "source_hidden": true
    }
   },
   "outputs": [],
   "source": [
    "def normality_test_stat(normality_test, alpha=0.05):\n",
    "    for i in normal_stat.index:\n",
    "        sample = d[i].sample(sample_n, random_state=1)\n",
    "        stat, p = normality_test(sample)\n",
    "        print(f'`{normality_test.__qualname__}` Test Results for: `{i}`:')\n",
    "        print(f'\\tStatistics={stat:.3f}, p={p:.3f}')\n",
    "        if p > alpha:\n",
    "            print('\\tSample looks Gaussian (fail to reject H0)\\n')\n",
    "        else:\n",
    "            print('\\tSample does not look Gaussian (reject H0)\\n')"
   ]
  },
  {
   "cell_type": "markdown",
   "id": "foster-indie",
   "metadata": {},
   "source": [
    "First, let's take a look at Jarque-Bera test which calculates kurtosis and skewness of the data to determine if the distribution deviates from the normal distribution. This test is usually better for larger datasets compared to the Shapiro-Wilk test.\n",
    "\n",
    "[Check out the math behind this test](https://en.wikipedia.org/wiki/Jarque%E2%80%93Bera_test)"
   ]
  },
  {
   "cell_type": "markdown",
   "id": "filled-causing",
   "metadata": {},
   "source": [
    "<a id='5.4.3'>\n",
    "    <h2 style='font-size:180%;'>\n",
    "        Jarque–Bera Test\n",
    "    </h2>\n",
    "</a>"
   ]
  },
  {
   "cell_type": "code",
   "execution_count": 16,
   "id": "fresh-lover",
   "metadata": {},
   "outputs": [
    {
     "name": "stdout",
     "output_type": "stream",
     "text": [
      "`jarque_bera` Test Results for: `age`:\n",
      "\tStatistics=3.493, p=0.174\n",
      "\tSample looks Gaussian (fail to reject H0)\n",
      "\n",
      "`jarque_bera` Test Results for: `dependents`:\n",
      "\tStatistics=13.932, p=0.001\n",
      "\tSample does not look Gaussian (reject H0)\n",
      "\n",
      "`jarque_bera` Test Results for: `mo_on_book`:\n",
      "\tStatistics=1.883, p=0.390\n",
      "\tSample looks Gaussian (fail to reject H0)\n",
      "\n",
      "`jarque_bera` Test Results for: `contr_ct_r12`:\n",
      "\tStatistics=5.692, p=0.058\n",
      "\tSample looks Gaussian (fail to reject H0)\n",
      "\n",
      "`jarque_bera` Test Results for: `utilratio_avg`:\n",
      "\tStatistics=90.335, p=0.000\n",
      "\tSample does not look Gaussian (reject H0)\n",
      "\n",
      "`jarque_bera` Test Results for: `tx_ct_r12`:\n",
      "\tStatistics=4.252, p=0.119\n",
      "\tSample looks Gaussian (fail to reject H0)\n",
      "\n",
      "`jarque_bera` Test Results for: `inc`:\n",
      "\tStatistics=54.699, p=0.000\n",
      "\tSample does not look Gaussian (reject H0)\n",
      "\n"
     ]
    }
   ],
   "source": [
    "normality_test_stat(jarque_bera)"
   ]
  },
  {
   "cell_type": "markdown",
   "id": "celtic-vault",
   "metadata": {},
   "source": [
    "Next, let's take a look at D'Agostino's K Square test which is based on the squared sum of the transformations of both kurtosis and skewness of the data. The transformations allow for a faster convergence by making the distributions more normal.\n",
    "\n",
    "[Check out the math behind this test](https://en.wikipedia.org/wiki/D%27Agostino%27s_K-squared_test)"
   ]
  },
  {
   "cell_type": "markdown",
   "id": "convenient-blink",
   "metadata": {},
   "source": [
    "<a id='5.4.1'>\n",
    "    <h2 style='font-size:180%;'>\n",
    "        D'Agostino's K Square\n",
    "    </h2>\n",
    "</a>"
   ]
  },
  {
   "cell_type": "code",
   "execution_count": 17,
   "id": "widespread-composite",
   "metadata": {},
   "outputs": [
    {
     "name": "stdout",
     "output_type": "stream",
     "text": [
      "`normaltest` Test Results for: `age`:\n",
      "\tStatistics=3.808, p=0.149\n",
      "\tSample looks Gaussian (fail to reject H0)\n",
      "\n",
      "`normaltest` Test Results for: `dependents`:\n",
      "\tStatistics=28.351, p=0.000\n",
      "\tSample does not look Gaussian (reject H0)\n",
      "\n",
      "`normaltest` Test Results for: `mo_on_book`:\n",
      "\tStatistics=1.948, p=0.378\n",
      "\tSample looks Gaussian (fail to reject H0)\n",
      "\n",
      "`normaltest` Test Results for: `contr_ct_r12`:\n",
      "\tStatistics=5.803, p=0.055\n",
      "\tSample looks Gaussian (fail to reject H0)\n",
      "\n",
      "`normaltest` Test Results for: `utilratio_avg`:\n",
      "\tStatistics=133.172, p=0.000\n",
      "\tSample does not look Gaussian (reject H0)\n",
      "\n",
      "`normaltest` Test Results for: `tx_ct_r12`:\n",
      "\tStatistics=4.431, p=0.109\n",
      "\tSample looks Gaussian (fail to reject H0)\n",
      "\n",
      "`normaltest` Test Results for: `inc`:\n",
      "\tStatistics=142.984, p=0.000\n",
      "\tSample does not look Gaussian (reject H0)\n",
      "\n"
     ]
    }
   ],
   "source": [
    "normality_test_stat(normaltest)"
   ]
  },
  {
   "cell_type": "markdown",
   "id": "coupled-track",
   "metadata": {},
   "source": [
    "<a id='5.4.2'>\n",
    "    <h2 style='font-size:180%;'>\n",
    "        Anderson-Darling Test\n",
    "    </h2>\n",
    "</a>"
   ]
  },
  {
   "cell_type": "markdown",
   "id": "warming-hormone",
   "metadata": {},
   "source": [
    "The Anderson-Darling Test puts more weight on the examples in the tails of the distribution or kurtosis. Since our data contain a fair amount of outliers also characterized by higher kurtosis, we can expect to see more pessimistic results compared to the previous two tests. "
   ]
  },
  {
   "cell_type": "code",
   "execution_count": 18,
   "id": "proof-ending",
   "metadata": {
    "jupyter": {
     "source_hidden": true
    }
   },
   "outputs": [],
   "source": [
    "# from scipy.stats import normaltest\n",
    "def normality_test_stat_anderson():\n",
    "    for i in normal_stat.index:\n",
    "        # from scipy.stats import anderson\n",
    "        result = anderson(d[i].sample(sample_n, random_state=1))\n",
    "        print(f'`{anderson.__qualname__}` Test Results for: `{i}`:')\n",
    "        print(f'\\tStatistics={result.statistic:.3}')\n",
    "\n",
    "        for i in range(len(result.critical_values)):\n",
    "            sl, cv = result.significance_level[i], result.critical_values[i]\n",
    "            if result.statistic < result.critical_values[i]:\n",
    "                print(f'\\tp={sl/100:.3f}, critical={cv:.3f}: Sample looks Gaussian (fail to reject H0)')\n",
    "            else:\n",
    "                print(f'\\tp={sl/100:.3f}, critical={cv:.3f}: Sample does not look Gaussian (reject H0)')"
   ]
  },
  {
   "cell_type": "code",
   "execution_count": 19,
   "id": "spread-spelling",
   "metadata": {},
   "outputs": [
    {
     "name": "stdout",
     "output_type": "stream",
     "text": [
      "`anderson` Test Results for: `age`:\n",
      "\tStatistics=0.929\n",
      "\tp=0.150, critical=0.573: Sample does not look Gaussian (reject H0)\n",
      "\tp=0.100, critical=0.653: Sample does not look Gaussian (reject H0)\n",
      "\tp=0.050, critical=0.783: Sample does not look Gaussian (reject H0)\n",
      "\tp=0.025, critical=0.913: Sample does not look Gaussian (reject H0)\n",
      "\tp=0.010, critical=1.087: Sample looks Gaussian (fail to reject H0)\n",
      "`anderson` Test Results for: `dependents`:\n",
      "\tStatistics=21.1\n",
      "\tp=0.150, critical=0.573: Sample does not look Gaussian (reject H0)\n",
      "\tp=0.100, critical=0.653: Sample does not look Gaussian (reject H0)\n",
      "\tp=0.050, critical=0.783: Sample does not look Gaussian (reject H0)\n",
      "\tp=0.025, critical=0.913: Sample does not look Gaussian (reject H0)\n",
      "\tp=0.010, critical=1.087: Sample does not look Gaussian (reject H0)\n",
      "`anderson` Test Results for: `mo_on_book`:\n",
      "\tStatistics=6.57\n",
      "\tp=0.150, critical=0.573: Sample does not look Gaussian (reject H0)\n",
      "\tp=0.100, critical=0.653: Sample does not look Gaussian (reject H0)\n",
      "\tp=0.050, critical=0.783: Sample does not look Gaussian (reject H0)\n",
      "\tp=0.025, critical=0.913: Sample does not look Gaussian (reject H0)\n",
      "\tp=0.010, critical=1.087: Sample does not look Gaussian (reject H0)\n",
      "`anderson` Test Results for: `contr_ct_r12`:\n",
      "\tStatistics=24.2\n",
      "\tp=0.150, critical=0.573: Sample does not look Gaussian (reject H0)\n",
      "\tp=0.100, critical=0.653: Sample does not look Gaussian (reject H0)\n",
      "\tp=0.050, critical=0.783: Sample does not look Gaussian (reject H0)\n",
      "\tp=0.025, critical=0.913: Sample does not look Gaussian (reject H0)\n",
      "\tp=0.010, critical=1.087: Sample does not look Gaussian (reject H0)\n",
      "`anderson` Test Results for: `utilratio_avg`:\n",
      "\tStatistics=37.9\n",
      "\tp=0.150, critical=0.573: Sample does not look Gaussian (reject H0)\n",
      "\tp=0.100, critical=0.653: Sample does not look Gaussian (reject H0)\n",
      "\tp=0.050, critical=0.783: Sample does not look Gaussian (reject H0)\n",
      "\tp=0.025, critical=0.913: Sample does not look Gaussian (reject H0)\n",
      "\tp=0.010, critical=1.087: Sample does not look Gaussian (reject H0)\n",
      "`anderson` Test Results for: `tx_ct_r12`:\n",
      "\tStatistics=3.96\n",
      "\tp=0.150, critical=0.573: Sample does not look Gaussian (reject H0)\n",
      "\tp=0.100, critical=0.653: Sample does not look Gaussian (reject H0)\n",
      "\tp=0.050, critical=0.783: Sample does not look Gaussian (reject H0)\n",
      "\tp=0.025, critical=0.913: Sample does not look Gaussian (reject H0)\n",
      "\tp=0.010, critical=1.087: Sample does not look Gaussian (reject H0)\n",
      "`anderson` Test Results for: `inc`:\n",
      "\tStatistics=32.4\n",
      "\tp=0.150, critical=0.573: Sample does not look Gaussian (reject H0)\n",
      "\tp=0.100, critical=0.653: Sample does not look Gaussian (reject H0)\n",
      "\tp=0.050, critical=0.783: Sample does not look Gaussian (reject H0)\n",
      "\tp=0.025, critical=0.913: Sample does not look Gaussian (reject H0)\n",
      "\tp=0.010, critical=1.087: Sample does not look Gaussian (reject H0)\n"
     ]
    }
   ],
   "source": [
    "normality_test_stat_anderson()"
   ]
  },
  {
   "cell_type": "markdown",
   "id": "female-mills",
   "metadata": {},
   "source": [
    "`Jarque Bera` and `D'Agostino's K Square` test results indicate that under certain thresholds of $n$ and test statistic `age`, `mo_on_book`, `contr_ct_r12`, and `tx_ct_r12` are normal but `dependents`, `utilratio_avg`, and `inc` are not. `Anderson` is the most stringent as none of the variables look Gaussian under its assumptions. It is important to note that the p-values are low enough to cross the line of non-normality for `contr_ct_r12` and `tx_ct_r12`. From these tests, one can conclude that `age`, `mo_on_book`, `contr_ct_r12`, and `tx_ct_r12` may be normal enough. \n",
    "\n",
    "Based on these results, it might be beneficial to standardize `age`, `mo_on_book`, `contr_ct_r12`, and `tx_ct_r12` but normalize all other variables in the feature transformation section before feature selection. Before we normalize, however, we should treat the outliers as most normalization methods are sensitive to outliers."
   ]
  },
  {
   "cell_type": "markdown",
   "id": "distant-haven",
   "metadata": {},
   "source": [
    "<a id='6'>\n",
    "    <h2 style='background-color:rgb(141, 153, 165);\n",
    "               font-size:240%;\n",
    "               color:white;\n",
    "               text-align:center;\n",
    "               margin: auto;\n",
    "               padding: 10px;'>\n",
    "        Baseline Models\n",
    "    </h2>\n",
    "</a>"
   ]
  },
  {
   "cell_type": "markdown",
   "id": "welcome-firewall",
   "metadata": {},
   "source": [
    "To identify and treat outliers, we start with two baseline models:"
   ]
  },
  {
   "cell_type": "markdown",
   "id": "signal-discovery",
   "metadata": {},
   "source": [
    "1. Logistic Regression\n",
    "2. XGBoost Classifier"
   ]
  },
  {
   "cell_type": "markdown",
   "id": "changed-bangkok",
   "metadata": {},
   "source": [
    "The assumption is that Logistic Regression will benefit from the removal of outliers much more than does XGBoost Classifier as the former makes a strong assumption of the data's functional form, and the decision boundary is sensitive to minimum and maximum values in the data."
   ]
  },
  {
   "cell_type": "markdown",
   "id": "charming-arena",
   "metadata": {},
   "source": [
    "<a id='6.1'>\n",
    "    <h2 style='font-size:210%;'>\n",
    "        Functions\n",
    "    </h2>\n",
    "</a>"
   ]
  },
  {
   "cell_type": "code",
   "execution_count": 20,
   "id": "impossible-classroom",
   "metadata": {
    "jupyter": {
     "source_hidden": true
    }
   },
   "outputs": [],
   "source": [
    "def result_rskf(x, y, pipeline, mod_disp_name):\n",
    "    scoring = {\n",
    "        'accuracy':'accuracy', 'precision':'precision', 'recall':'recall', 'f1':'f1', \n",
    "        'f2':make_scorer(fbeta_score, beta=2)} # dict val = scorer fct or predefined metric str  \n",
    "    cv = RepeatedStratifiedKFold(\n",
    "        n_splits=10, n_repeats=5, random_state=1)       \n",
    "    result = cross_validate(\n",
    "        pipeline, x, y, cv=cv, \n",
    "        scoring=scoring, return_train_score=True, n_jobs=-1)\n",
    "        \n",
    "    # make a summary table\n",
    "    df = pd.DataFrame(\n",
    "        (k, mean(v), std(v)) for k,v in result.items()\n",
    "        ).rename({0:'metric', 1:'mean', 2:'std'}, axis=1\n",
    "                ).set_index('metric')\n",
    "    df.index.name = None\n",
    "    df.columns = pd.MultiIndex.from_product([[mod_disp_name],df.columns])\n",
    "    \n",
    "    return df, result"
   ]
  },
  {
   "cell_type": "code",
   "execution_count": 21,
   "id": "german-highland",
   "metadata": {
    "jupyter": {
     "source_hidden": true
    }
   },
   "outputs": [],
   "source": [
    "def result_tts(x, y, pipeline, mod_disp_name):\n",
    "    x_train, x_test, y_train, y_test = train_test_split(\n",
    "        x, y, test_size=0.2, random_state=1, shuffle=True, stratify=y)\n",
    "    time_0 = time()\n",
    "    pipeline.fit(x_train, y_train)\n",
    "    time_1 = time()\n",
    "    y_pred = pipeline.predict(x_test)\n",
    "    time_2 = time()\n",
    "    result = {}\n",
    "    result['fit_time'] = round(time_1-time_0, 2)\n",
    "    result['score_time'] = round(time_2-time_1, 2)\n",
    "    result['accuracy'] = round(accuracy_score(y_test, y_pred), 2)\n",
    "    result['precision'] = round(precision_score(y_test, y_pred), 2)\n",
    "    result['recall'] = round(recall_score(y_test, y_pred), 2)\n",
    "    result['f1'] = round(f1_score(y_test, y_pred), 2)\n",
    "    result['f2'] = round(fbeta_score(y_test, y_pred, beta=2), 2)\n",
    "    conf_mat = confusion_matrix(y_test, y_pred, labels=[1,0])\n",
    "    df = pd.DataFrame(result, index=[mod_disp_name]).T\n",
    "    return df, result, conf_mat, y_pred, y_test"
   ]
  },
  {
   "cell_type": "markdown",
   "id": "raising-perception",
   "metadata": {},
   "source": [
    "<a id='6.1'>\n",
    "    <h2 style='font-size:210%;'>\n",
    "        Data Processing\n",
    "    </h2>\n",
    "</a>"
   ]
  },
  {
   "cell_type": "code",
   "execution_count": 22,
   "id": "saved-joseph",
   "metadata": {},
   "outputs": [],
   "source": [
    "# split train and test\n",
    "d = d.values\n",
    "x, y = d[:,1:], d[:,:1].ravel()"
   ]
  },
  {
   "cell_type": "markdown",
   "id": "specific-stage",
   "metadata": {},
   "source": [
    "<a id='6.2'>\n",
    "    <h2 style='font-size:210%;'>\n",
    "        Logistic Regression\n",
    "    </h2>\n",
    "</a>"
   ]
  },
  {
   "cell_type": "markdown",
   "id": "extreme-stopping",
   "metadata": {},
   "source": [
    "First, we fit the logistic regression model. Although this model is more sensitive to multicollinearity, we will ignore this factor as this section's goal is to demonstrate the effect of removing outliers only. Multicolinearity will be taken care of in the feature selection section. Other factors that affect the model's performance such as model selection and hyperparameter tuning etc. will also be discussed in the later sections."
   ]
  },
  {
   "cell_type": "markdown",
   "id": "expired-quick",
   "metadata": {},
   "source": [
    "<a id='6.2.1'>\n",
    "    <h2 style='font-size:180%;'>\n",
    "        Model Attributes\n",
    "    </h2>\n",
    "</a>"
   ]
  },
  {
   "cell_type": "code",
   "execution_count": 23,
   "id": "unauthorized-department",
   "metadata": {
    "jupyter": {
     "source_hidden": true
    }
   },
   "outputs": [
    {
     "name": "stdout",
     "output_type": "stream",
     "text": [
      "Logistic Regression Parameters:\n"
     ]
    },
    {
     "data": {
      "text/plain": [
       "{'C': 1.0,\n",
       " 'class_weight': None,\n",
       " 'dual': False,\n",
       " 'fit_intercept': True,\n",
       " 'intercept_scaling': 1,\n",
       " 'l1_ratio': None,\n",
       " 'max_iter': 100,\n",
       " 'multi_class': 'auto',\n",
       " 'n_jobs': None,\n",
       " 'penalty': 'l2',\n",
       " 'random_state': None,\n",
       " 'solver': 'lbfgs',\n",
       " 'tol': 0.0001,\n",
       " 'verbose': 0,\n",
       " 'warm_start': False}"
      ]
     },
     "execution_count": 23,
     "metadata": {},
     "output_type": "execute_result"
    }
   ],
   "source": [
    "print(\"Logistic Regression Parameters:\")\n",
    "LR_params = LogisticRegression().get_params()\n",
    "LR_params"
   ]
  },
  {
   "cell_type": "code",
   "execution_count": 24,
   "id": "great-tanzania",
   "metadata": {
    "jupyter": {
     "source_hidden": true
    }
   },
   "outputs": [
    {
     "name": "stdout",
     "output_type": "stream",
     "text": [
      "Logistic Regression Default Parameter Values:\n",
      "{'C': 1.0, 'max_iter': 100, 'solver': 'lbfgs'}\n"
     ]
    }
   ],
   "source": [
    "print(f\"\"\"Logistic Regression Default Parameter Values:\"\"\")\n",
    "LR_params_key = ['C','solver','max_iter']\n",
    "LR_params_key = {k:v for k,v in LR_params.items() if k in LR_params_key}\n",
    "print(LR_params_key)"
   ]
  },
  {
   "cell_type": "markdown",
   "id": "extreme-instrumentation",
   "metadata": {},
   "source": [
    "<a id='6.2.2'>\n",
    "    <h2 style='font-size:180%;'>\n",
    "        Model Fit & Evaluation\n",
    "    </h2>\n",
    "</a>"
   ]
  },
  {
   "cell_type": "markdown",
   "id": "alien-yugoslavia",
   "metadata": {},
   "source": [
    "Notes on L1 and L2 regularization:\n",
    "> *Introducing a penalty to the sum of the weights means that the model has to \"distribute\" its weights optimally, so naturally most of this \"resource\" will go to the simple features that explain most of the variance, with complex features getting small or zero weights.*\n",
    "\n",
    "[Edden Gerber, *Comment on a Medium Article*](https://medium.com/@edden.gerber/thanks-for-the-article-1003ad7478b2)"
   ]
  },
  {
   "cell_type": "markdown",
   "id": "colored-stations",
   "metadata": {},
   "source": [
    "<a id='6.2.2.1'>\n",
    "    <h2 style='font-size:150%;'>\n",
    "        Define Model & Pipeline\n",
    "    </h2>\n",
    "</a>"
   ]
  },
  {
   "cell_type": "code",
   "execution_count": 25,
   "id": "announced-performance",
   "metadata": {},
   "outputs": [],
   "source": [
    "model = LogisticRegression(class_weight='balanced', C=0.1, max_iter=10000, random_state=1)\n",
    "pipeline = Pipeline([('m', model)])"
   ]
  },
  {
   "cell_type": "markdown",
   "id": "suitable-steps",
   "metadata": {},
   "source": [
    "<a id='6.2.2.2'>\n",
    "    <h2 style='font-size:150%;'>\n",
    "        Repeated Stratified K-Fold Cross Validation\n",
    "    </h2>\n",
    "</a>"
   ]
  },
  {
   "cell_type": "code",
   "execution_count": 26,
   "id": "everyday-clone",
   "metadata": {
    "jupyter": {
     "source_hidden": true
    }
   },
   "outputs": [],
   "source": [
    "LR_baseline_rskf_inst = result_rskf(x, y, pipeline, 'LR')"
   ]
  },
  {
   "cell_type": "code",
   "execution_count": 27,
   "id": "novel-massachusetts",
   "metadata": {
    "jupyter": {
     "source_hidden": true
    }
   },
   "outputs": [],
   "source": [
    "LR_baseline_rskf_summary = LR_baseline_rskf_inst[0]\n",
    "LR_baseline_rskf_full = LR_baseline_rskf_inst[1]"
   ]
  },
  {
   "cell_type": "code",
   "execution_count": 28,
   "id": "periodic-portsmouth",
   "metadata": {},
   "outputs": [
    {
     "data": {
      "text/html": [
       "<div>\n",
       "<style scoped>\n",
       "    .dataframe tbody tr th:only-of-type {\n",
       "        vertical-align: middle;\n",
       "    }\n",
       "\n",
       "    .dataframe tbody tr th {\n",
       "        vertical-align: top;\n",
       "    }\n",
       "\n",
       "    .dataframe thead tr th {\n",
       "        text-align: left;\n",
       "    }\n",
       "</style>\n",
       "<table border=\"1\" class=\"dataframe\">\n",
       "  <thead>\n",
       "    <tr>\n",
       "      <th></th>\n",
       "      <th colspan=\"2\" halign=\"left\">LR</th>\n",
       "    </tr>\n",
       "    <tr>\n",
       "      <th></th>\n",
       "      <th>mean</th>\n",
       "      <th>std</th>\n",
       "    </tr>\n",
       "  </thead>\n",
       "  <tbody>\n",
       "    <tr>\n",
       "      <th>fit_time</th>\n",
       "      <td>4.04</td>\n",
       "      <td>3.41</td>\n",
       "    </tr>\n",
       "    <tr>\n",
       "      <th>score_time</th>\n",
       "      <td>0.02</td>\n",
       "      <td>0.02</td>\n",
       "    </tr>\n",
       "    <tr>\n",
       "      <th>test_accuracy</th>\n",
       "      <td>0.84</td>\n",
       "      <td>0.01</td>\n",
       "    </tr>\n",
       "    <tr>\n",
       "      <th>train_accuracy</th>\n",
       "      <td>0.85</td>\n",
       "      <td>0.01</td>\n",
       "    </tr>\n",
       "    <tr>\n",
       "      <th>test_precision</th>\n",
       "      <td>0.51</td>\n",
       "      <td>0.02</td>\n",
       "    </tr>\n",
       "    <tr>\n",
       "      <th>train_precision</th>\n",
       "      <td>0.51</td>\n",
       "      <td>0.02</td>\n",
       "    </tr>\n",
       "    <tr>\n",
       "      <th>test_recall</th>\n",
       "      <td>0.85</td>\n",
       "      <td>0.03</td>\n",
       "    </tr>\n",
       "    <tr>\n",
       "      <th>train_recall</th>\n",
       "      <td>0.85</td>\n",
       "      <td>0.00</td>\n",
       "    </tr>\n",
       "    <tr>\n",
       "      <th>test_f1</th>\n",
       "      <td>0.64</td>\n",
       "      <td>0.02</td>\n",
       "    </tr>\n",
       "    <tr>\n",
       "      <th>train_f1</th>\n",
       "      <td>0.64</td>\n",
       "      <td>0.01</td>\n",
       "    </tr>\n",
       "    <tr>\n",
       "      <th>test_f2</th>\n",
       "      <td>0.75</td>\n",
       "      <td>0.02</td>\n",
       "    </tr>\n",
       "    <tr>\n",
       "      <th>train_f2</th>\n",
       "      <td>0.75</td>\n",
       "      <td>0.01</td>\n",
       "    </tr>\n",
       "  </tbody>\n",
       "</table>\n",
       "</div>"
      ],
      "text/plain": [
       "                  LR     \n",
       "                mean  std\n",
       "fit_time        4.04 3.41\n",
       "score_time      0.02 0.02\n",
       "test_accuracy   0.84 0.01\n",
       "train_accuracy  0.85 0.01\n",
       "test_precision  0.51 0.02\n",
       "train_precision 0.51 0.02\n",
       "test_recall     0.85 0.03\n",
       "train_recall    0.85 0.00\n",
       "test_f1         0.64 0.02\n",
       "train_f1        0.64 0.01\n",
       "test_f2         0.75 0.02\n",
       "train_f2        0.75 0.01"
      ]
     },
     "execution_count": 28,
     "metadata": {},
     "output_type": "execute_result"
    }
   ],
   "source": [
    "LR_baseline_rskf_summary"
   ]
  },
  {
   "cell_type": "markdown",
   "id": "permanent-determination",
   "metadata": {},
   "source": [
    "<a id='6.2.2.3'>\n",
    "    <h2 style='font-size:150%;'>\n",
    "        Train-Test Split Cross Validation\n",
    "    </h2>\n",
    "</a>"
   ]
  },
  {
   "cell_type": "code",
   "execution_count": 29,
   "id": "initial-underground",
   "metadata": {
    "jupyter": {
     "source_hidden": true
    }
   },
   "outputs": [],
   "source": [
    "LR_baseline_tts_inst = result_tts(x, y, pipeline, 'LR')"
   ]
  },
  {
   "cell_type": "code",
   "execution_count": 30,
   "id": "integral-refrigerator",
   "metadata": {
    "jupyter": {
     "source_hidden": true
    }
   },
   "outputs": [],
   "source": [
    "LR_baseline_tts_summary = LR_baseline_tts_inst[0]\n",
    "LR_baseline_tts_full = LR_baseline_tts_inst[1]\n",
    "LR_baseline_tts_cm = LR_baseline_tts_inst[2]\n",
    "LR_baseline_tts_y_pred = LR_baseline_tts_inst[3]\n",
    "LR_baseline_tts_y_test = LR_baseline_tts_inst[4]\n",
    "tp, fn, fp, tn = LR_baseline_tts_cm.ravel()"
   ]
  },
  {
   "cell_type": "code",
   "execution_count": 31,
   "id": "chinese-conversation",
   "metadata": {},
   "outputs": [
    {
     "data": {
      "text/html": [
       "<div>\n",
       "<style scoped>\n",
       "    .dataframe tbody tr th:only-of-type {\n",
       "        vertical-align: middle;\n",
       "    }\n",
       "\n",
       "    .dataframe tbody tr th {\n",
       "        vertical-align: top;\n",
       "    }\n",
       "\n",
       "    .dataframe thead th {\n",
       "        text-align: right;\n",
       "    }\n",
       "</style>\n",
       "<table border=\"1\" class=\"dataframe\">\n",
       "  <thead>\n",
       "    <tr style=\"text-align: right;\">\n",
       "      <th></th>\n",
       "      <th>LR</th>\n",
       "    </tr>\n",
       "  </thead>\n",
       "  <tbody>\n",
       "    <tr>\n",
       "      <th>fit_time</th>\n",
       "      <td>0.62</td>\n",
       "    </tr>\n",
       "    <tr>\n",
       "      <th>score_time</th>\n",
       "      <td>0.00</td>\n",
       "    </tr>\n",
       "    <tr>\n",
       "      <th>accuracy</th>\n",
       "      <td>0.84</td>\n",
       "    </tr>\n",
       "    <tr>\n",
       "      <th>precision</th>\n",
       "      <td>0.50</td>\n",
       "    </tr>\n",
       "    <tr>\n",
       "      <th>recall</th>\n",
       "      <td>0.88</td>\n",
       "    </tr>\n",
       "    <tr>\n",
       "      <th>f1</th>\n",
       "      <td>0.64</td>\n",
       "    </tr>\n",
       "    <tr>\n",
       "      <th>f2</th>\n",
       "      <td>0.76</td>\n",
       "    </tr>\n",
       "  </tbody>\n",
       "</table>\n",
       "</div>"
      ],
      "text/plain": [
       "             LR\n",
       "fit_time   0.62\n",
       "score_time 0.00\n",
       "accuracy   0.84\n",
       "precision  0.50\n",
       "recall     0.88\n",
       "f1         0.64\n",
       "f2         0.76"
      ]
     },
     "execution_count": 31,
     "metadata": {},
     "output_type": "execute_result"
    }
   ],
   "source": [
    "LR_baseline_tts_summary"
   ]
  },
  {
   "cell_type": "markdown",
   "id": "cloudy-discharge",
   "metadata": {},
   "source": [
    "<a id='6.2.2.4'>\n",
    "    <h2 style='font-size:150%;'>\n",
    "        Performance Metrics - Manual Calculation\n",
    "    </h2>\n",
    "</a>"
   ]
  },
  {
   "cell_type": "code",
   "execution_count": 32,
   "id": "alternative-victorian",
   "metadata": {
    "jupyter": {
     "source_hidden": true
    }
   },
   "outputs": [],
   "source": [
    "recall = round(tp/(tp+fn),2)\n",
    "precision = round(tp/(tp+fp),2)\n",
    "f1 = round(2*(recall*precision)/(recall+precision),2)"
   ]
  },
  {
   "cell_type": "code",
   "execution_count": 33,
   "id": "exceptional-canvas",
   "metadata": {},
   "outputs": [
    {
     "data": {
      "text/plain": [
       "(0.88, 0.5, 0.64)"
      ]
     },
     "execution_count": 33,
     "metadata": {},
     "output_type": "execute_result"
    }
   ],
   "source": [
    "recall, precision, f1"
   ]
  },
  {
   "cell_type": "markdown",
   "id": "double-kruger",
   "metadata": {},
   "source": [
    "<a id='6.3'>\n",
    "    <h2 style='font-size:210%;'>\n",
    "        Gradient Boosting Classifier\n",
    "    </h2>\n",
    "</a>"
   ]
  },
  {
   "cell_type": "markdown",
   "id": "latter-lesbian",
   "metadata": {},
   "source": [
    "For our emsemble baseline model we fit the XGBoost Classifier again without any feature selection or hyperparameter tuning. No normalization is necessary with this model since it is an ensemble of the tree methods. This means that removing outliers should not cause any material impact to the model's performance since the algorithm is not sensitive to monotonic transformations of its features."
   ]
  },
  {
   "cell_type": "markdown",
   "id": "psychological-journalist",
   "metadata": {},
   "source": [
    "<a id='6.3.1'>\n",
    "    <h2 style='font-size:180%;'>\n",
    "        Model Attributes\n",
    "    </h2>\n",
    "</a>"
   ]
  },
  {
   "cell_type": "code",
   "execution_count": 34,
   "id": "better-blake",
   "metadata": {
    "jupyter": {
     "source_hidden": true
    }
   },
   "outputs": [
    {
     "name": "stdout",
     "output_type": "stream",
     "text": [
      "Gradient Boosting Classifier Parameters:\n"
     ]
    },
    {
     "data": {
      "text/plain": [
       "{'ccp_alpha': 0.0,\n",
       " 'criterion': 'friedman_mse',\n",
       " 'init': None,\n",
       " 'learning_rate': 0.1,\n",
       " 'loss': 'deviance',\n",
       " 'max_depth': 3,\n",
       " 'max_features': None,\n",
       " 'max_leaf_nodes': None,\n",
       " 'min_impurity_decrease': 0.0,\n",
       " 'min_impurity_split': None,\n",
       " 'min_samples_leaf': 1,\n",
       " 'min_samples_split': 2,\n",
       " 'min_weight_fraction_leaf': 0.0,\n",
       " 'n_estimators': 100,\n",
       " 'n_iter_no_change': None,\n",
       " 'random_state': None,\n",
       " 'subsample': 1.0,\n",
       " 'tol': 0.0001,\n",
       " 'validation_fraction': 0.1,\n",
       " 'verbose': 0,\n",
       " 'warm_start': False}"
      ]
     },
     "execution_count": 34,
     "metadata": {},
     "output_type": "execute_result"
    }
   ],
   "source": [
    "print(\"Gradient Boosting Classifier Parameters:\")\n",
    "GB_params = GradientBoostingClassifier().get_params()\n",
    "GB_params"
   ]
  },
  {
   "cell_type": "code",
   "execution_count": 35,
   "id": "israeli-section",
   "metadata": {
    "jupyter": {
     "source_hidden": true
    }
   },
   "outputs": [
    {
     "name": "stdout",
     "output_type": "stream",
     "text": [
      "Gradient Boosting Classifier Default Parameter Values:\n",
      "{'learning_rate': 0.1, 'max_depth': 3, 'n_estimators': 100}\n"
     ]
    }
   ],
   "source": [
    "print(f\"\"\"Gradient Boosting Classifier Default Parameter Values:\"\"\")\n",
    "GB_params_key = ['n_estimators','max_depth','learning_rate']\n",
    "GB_params_key = {k:v for k,v in GB_params.items() if k in GB_params_key}\n",
    "print(GB_params_key)"
   ]
  },
  {
   "cell_type": "markdown",
   "id": "flush-renaissance",
   "metadata": {},
   "source": [
    "<a id='6.3.2'>\n",
    "    <h2 style='font-size:180%;'>\n",
    "        Model Fit & Evaluation\n",
    "    </h2>\n",
    "</a>"
   ]
  },
  {
   "cell_type": "markdown",
   "id": "special-tracy",
   "metadata": {},
   "source": [
    "<a id='6.3.2.1'>\n",
    "    <h2 style='font-size:150%;'>\n",
    "        Define Model & Pipeline\n",
    "    </h2>\n",
    "</a>"
   ]
  },
  {
   "cell_type": "code",
   "execution_count": 36,
   "id": "agricultural-interaction",
   "metadata": {},
   "outputs": [],
   "source": [
    "model = GradientBoostingClassifier(n_estimators=300, max_depth=3, learning_rate=0.1)\n",
    "pipeline = Pipeline([('m', model)])"
   ]
  },
  {
   "cell_type": "markdown",
   "id": "nearby-paris",
   "metadata": {},
   "source": [
    "<a id='6.3.2.2'>\n",
    "    <h2 style='font-size:150%;'>\n",
    "        Repeated Stratified K-Fold Cross Validation\n",
    "    </h2>\n",
    "</a>"
   ]
  },
  {
   "cell_type": "code",
   "execution_count": 37,
   "id": "ready-chapter",
   "metadata": {
    "jupyter": {
     "source_hidden": true
    }
   },
   "outputs": [],
   "source": [
    "GB_baseline_rskf_inst = result_rskf(x, y, pipeline, 'GB')"
   ]
  },
  {
   "cell_type": "code",
   "execution_count": 38,
   "id": "available-thailand",
   "metadata": {
    "jupyter": {
     "source_hidden": true
    }
   },
   "outputs": [],
   "source": [
    "GB_baseline_rskf_summary = GB_baseline_rskf_inst[0]\n",
    "GB_baseline_rskf_full = GB_baseline_rskf_inst[1]"
   ]
  },
  {
   "cell_type": "code",
   "execution_count": 39,
   "id": "coordinated-boring",
   "metadata": {},
   "outputs": [
    {
     "data": {
      "text/html": [
       "<div>\n",
       "<style scoped>\n",
       "    .dataframe tbody tr th:only-of-type {\n",
       "        vertical-align: middle;\n",
       "    }\n",
       "\n",
       "    .dataframe tbody tr th {\n",
       "        vertical-align: top;\n",
       "    }\n",
       "\n",
       "    .dataframe thead tr th {\n",
       "        text-align: left;\n",
       "    }\n",
       "</style>\n",
       "<table border=\"1\" class=\"dataframe\">\n",
       "  <thead>\n",
       "    <tr>\n",
       "      <th></th>\n",
       "      <th colspan=\"2\" halign=\"left\">GB</th>\n",
       "    </tr>\n",
       "    <tr>\n",
       "      <th></th>\n",
       "      <th>mean</th>\n",
       "      <th>std</th>\n",
       "    </tr>\n",
       "  </thead>\n",
       "  <tbody>\n",
       "    <tr>\n",
       "      <th>fit_time</th>\n",
       "      <td>32.68</td>\n",
       "      <td>5.62</td>\n",
       "    </tr>\n",
       "    <tr>\n",
       "      <th>score_time</th>\n",
       "      <td>0.04</td>\n",
       "      <td>0.01</td>\n",
       "    </tr>\n",
       "    <tr>\n",
       "      <th>test_accuracy</th>\n",
       "      <td>0.97</td>\n",
       "      <td>0.00</td>\n",
       "    </tr>\n",
       "    <tr>\n",
       "      <th>train_accuracy</th>\n",
       "      <td>0.99</td>\n",
       "      <td>0.00</td>\n",
       "    </tr>\n",
       "    <tr>\n",
       "      <th>test_precision</th>\n",
       "      <td>0.94</td>\n",
       "      <td>0.02</td>\n",
       "    </tr>\n",
       "    <tr>\n",
       "      <th>train_precision</th>\n",
       "      <td>0.98</td>\n",
       "      <td>0.00</td>\n",
       "    </tr>\n",
       "    <tr>\n",
       "      <th>test_recall</th>\n",
       "      <td>0.89</td>\n",
       "      <td>0.02</td>\n",
       "    </tr>\n",
       "    <tr>\n",
       "      <th>train_recall</th>\n",
       "      <td>0.96</td>\n",
       "      <td>0.00</td>\n",
       "    </tr>\n",
       "    <tr>\n",
       "      <th>test_f1</th>\n",
       "      <td>0.91</td>\n",
       "      <td>0.01</td>\n",
       "    </tr>\n",
       "    <tr>\n",
       "      <th>train_f1</th>\n",
       "      <td>0.97</td>\n",
       "      <td>0.00</td>\n",
       "    </tr>\n",
       "    <tr>\n",
       "      <th>test_f2</th>\n",
       "      <td>0.90</td>\n",
       "      <td>0.02</td>\n",
       "    </tr>\n",
       "    <tr>\n",
       "      <th>train_f2</th>\n",
       "      <td>0.96</td>\n",
       "      <td>0.00</td>\n",
       "    </tr>\n",
       "  </tbody>\n",
       "</table>\n",
       "</div>"
      ],
      "text/plain": [
       "                   GB     \n",
       "                 mean  std\n",
       "fit_time        32.68 5.62\n",
       "score_time       0.04 0.01\n",
       "test_accuracy    0.97 0.00\n",
       "train_accuracy   0.99 0.00\n",
       "test_precision   0.94 0.02\n",
       "train_precision  0.98 0.00\n",
       "test_recall      0.89 0.02\n",
       "train_recall     0.96 0.00\n",
       "test_f1          0.91 0.01\n",
       "train_f1         0.97 0.00\n",
       "test_f2          0.90 0.02\n",
       "train_f2         0.96 0.00"
      ]
     },
     "execution_count": 39,
     "metadata": {},
     "output_type": "execute_result"
    }
   ],
   "source": [
    "GB_baseline_rskf_summary"
   ]
  },
  {
   "cell_type": "markdown",
   "id": "meaningful-franchise",
   "metadata": {},
   "source": [
    "<a id='6.3.2.3'>\n",
    "    <h2 style='font-size:150%;'>\n",
    "        Train-Test Split Cross Validation\n",
    "    </h2>\n",
    "</a>"
   ]
  },
  {
   "cell_type": "code",
   "execution_count": 40,
   "id": "lesbian-removal",
   "metadata": {
    "jupyter": {
     "source_hidden": true
    }
   },
   "outputs": [],
   "source": [
    "GB_baseline_tts_inst = result_tts(x, y, pipeline, 'GB')"
   ]
  },
  {
   "cell_type": "code",
   "execution_count": 41,
   "id": "neural-sequence",
   "metadata": {
    "jupyter": {
     "source_hidden": true
    }
   },
   "outputs": [],
   "source": [
    "GB_baseline_tts_summary = GB_baseline_tts_inst[0]\n",
    "GB_baseline_tts_full = GB_baseline_tts_inst[1]\n",
    "GB_baseline_tts_cm = GB_baseline_tts_inst[2]\n",
    "GB_baseline_tts_y_pred = GB_baseline_tts_inst[3]\n",
    "GB_baseline_tts_y_test = GB_baseline_tts_inst[4]\n",
    "tp, fn, fp, tn = GB_baseline_tts_cm.ravel()"
   ]
  },
  {
   "cell_type": "code",
   "execution_count": 42,
   "id": "italian-ensemble",
   "metadata": {},
   "outputs": [
    {
     "data": {
      "text/html": [
       "<div>\n",
       "<style scoped>\n",
       "    .dataframe tbody tr th:only-of-type {\n",
       "        vertical-align: middle;\n",
       "    }\n",
       "\n",
       "    .dataframe tbody tr th {\n",
       "        vertical-align: top;\n",
       "    }\n",
       "\n",
       "    .dataframe thead th {\n",
       "        text-align: right;\n",
       "    }\n",
       "</style>\n",
       "<table border=\"1\" class=\"dataframe\">\n",
       "  <thead>\n",
       "    <tr style=\"text-align: right;\">\n",
       "      <th></th>\n",
       "      <th>GB</th>\n",
       "    </tr>\n",
       "  </thead>\n",
       "  <tbody>\n",
       "    <tr>\n",
       "      <th>fit_time</th>\n",
       "      <td>12.15</td>\n",
       "    </tr>\n",
       "    <tr>\n",
       "      <th>score_time</th>\n",
       "      <td>0.01</td>\n",
       "    </tr>\n",
       "    <tr>\n",
       "      <th>accuracy</th>\n",
       "      <td>0.98</td>\n",
       "    </tr>\n",
       "    <tr>\n",
       "      <th>precision</th>\n",
       "      <td>0.94</td>\n",
       "    </tr>\n",
       "    <tr>\n",
       "      <th>recall</th>\n",
       "      <td>0.94</td>\n",
       "    </tr>\n",
       "    <tr>\n",
       "      <th>f1</th>\n",
       "      <td>0.94</td>\n",
       "    </tr>\n",
       "    <tr>\n",
       "      <th>f2</th>\n",
       "      <td>0.94</td>\n",
       "    </tr>\n",
       "  </tbody>\n",
       "</table>\n",
       "</div>"
      ],
      "text/plain": [
       "              GB\n",
       "fit_time   12.15\n",
       "score_time  0.01\n",
       "accuracy    0.98\n",
       "precision   0.94\n",
       "recall      0.94\n",
       "f1          0.94\n",
       "f2          0.94"
      ]
     },
     "execution_count": 42,
     "metadata": {},
     "output_type": "execute_result"
    }
   ],
   "source": [
    "GB_baseline_tts_summary"
   ]
  },
  {
   "cell_type": "markdown",
   "id": "grand-second",
   "metadata": {},
   "source": [
    "<a id='6.3.2.4'>\n",
    "    <h2 style='font-size:150%;'>\n",
    "        Performance Metrics - Manual Calculation\n",
    "    </h2>\n",
    "</a>"
   ]
  },
  {
   "cell_type": "code",
   "execution_count": 43,
   "id": "seeing-halifax",
   "metadata": {
    "jupyter": {
     "source_hidden": true
    }
   },
   "outputs": [],
   "source": [
    "recall = round(tp/(tp+fn),2)\n",
    "precision = round(tp/(tp+fp),2)\n",
    "f1 = round(2*(recall*precision)/(recall+precision),2)"
   ]
  },
  {
   "cell_type": "code",
   "execution_count": 44,
   "id": "specific-amount",
   "metadata": {},
   "outputs": [
    {
     "data": {
      "text/plain": [
       "(0.94, 0.94, 0.94)"
      ]
     },
     "execution_count": 44,
     "metadata": {},
     "output_type": "execute_result"
    }
   ],
   "source": [
    "recall, precision, f1"
   ]
  },
  {
   "cell_type": "markdown",
   "id": "cooked-pharmaceutical",
   "metadata": {},
   "source": [
    "<a id='6.4'>\n",
    "    <h2 style='font-size:210%;'>\n",
    "        Model Comparison\n",
    "    </h2>\n",
    "</a>"
   ]
  },
  {
   "cell_type": "markdown",
   "id": "applicable-cricket",
   "metadata": {},
   "source": [
    "<a id='6.4.1'>\n",
    "    <h2 style='font-size:180%;'>\n",
    "        Logistic Regression vs. Gradient Boosting Classifier\n",
    "    </h2>\n",
    "</a>"
   ]
  },
  {
   "cell_type": "code",
   "execution_count": 45,
   "id": "amazing-minute",
   "metadata": {
    "jupyter": {
     "source_hidden": true
    }
   },
   "outputs": [],
   "source": [
    "baseline_rskf_summary = pd.concat([LR_baseline_rskf_summary, GB_baseline_rskf_summary], axis=1)"
   ]
  },
  {
   "cell_type": "code",
   "execution_count": 46,
   "id": "configured-mouse",
   "metadata": {},
   "outputs": [
    {
     "data": {
      "text/html": [
       "<div>\n",
       "<style scoped>\n",
       "    .dataframe tbody tr th:only-of-type {\n",
       "        vertical-align: middle;\n",
       "    }\n",
       "\n",
       "    .dataframe tbody tr th {\n",
       "        vertical-align: top;\n",
       "    }\n",
       "\n",
       "    .dataframe thead tr th {\n",
       "        text-align: left;\n",
       "    }\n",
       "</style>\n",
       "<table border=\"1\" class=\"dataframe\">\n",
       "  <thead>\n",
       "    <tr>\n",
       "      <th></th>\n",
       "      <th colspan=\"2\" halign=\"left\">LR</th>\n",
       "      <th colspan=\"2\" halign=\"left\">GB</th>\n",
       "    </tr>\n",
       "    <tr>\n",
       "      <th></th>\n",
       "      <th>mean</th>\n",
       "      <th>std</th>\n",
       "      <th>mean</th>\n",
       "      <th>std</th>\n",
       "    </tr>\n",
       "  </thead>\n",
       "  <tbody>\n",
       "    <tr>\n",
       "      <th>fit_time</th>\n",
       "      <td>4.04</td>\n",
       "      <td>3.41</td>\n",
       "      <td>32.68</td>\n",
       "      <td>5.62</td>\n",
       "    </tr>\n",
       "    <tr>\n",
       "      <th>score_time</th>\n",
       "      <td>0.02</td>\n",
       "      <td>0.02</td>\n",
       "      <td>0.04</td>\n",
       "      <td>0.01</td>\n",
       "    </tr>\n",
       "    <tr>\n",
       "      <th>test_accuracy</th>\n",
       "      <td>0.84</td>\n",
       "      <td>0.01</td>\n",
       "      <td>0.97</td>\n",
       "      <td>0.00</td>\n",
       "    </tr>\n",
       "    <tr>\n",
       "      <th>train_accuracy</th>\n",
       "      <td>0.85</td>\n",
       "      <td>0.01</td>\n",
       "      <td>0.99</td>\n",
       "      <td>0.00</td>\n",
       "    </tr>\n",
       "    <tr>\n",
       "      <th>test_precision</th>\n",
       "      <td>0.51</td>\n",
       "      <td>0.02</td>\n",
       "      <td>0.94</td>\n",
       "      <td>0.02</td>\n",
       "    </tr>\n",
       "    <tr>\n",
       "      <th>train_precision</th>\n",
       "      <td>0.51</td>\n",
       "      <td>0.02</td>\n",
       "      <td>0.98</td>\n",
       "      <td>0.00</td>\n",
       "    </tr>\n",
       "    <tr>\n",
       "      <th>test_recall</th>\n",
       "      <td>0.85</td>\n",
       "      <td>0.03</td>\n",
       "      <td>0.89</td>\n",
       "      <td>0.02</td>\n",
       "    </tr>\n",
       "    <tr>\n",
       "      <th>train_recall</th>\n",
       "      <td>0.85</td>\n",
       "      <td>0.00</td>\n",
       "      <td>0.96</td>\n",
       "      <td>0.00</td>\n",
       "    </tr>\n",
       "    <tr>\n",
       "      <th>test_f1</th>\n",
       "      <td>0.64</td>\n",
       "      <td>0.02</td>\n",
       "      <td>0.91</td>\n",
       "      <td>0.01</td>\n",
       "    </tr>\n",
       "    <tr>\n",
       "      <th>train_f1</th>\n",
       "      <td>0.64</td>\n",
       "      <td>0.01</td>\n",
       "      <td>0.97</td>\n",
       "      <td>0.00</td>\n",
       "    </tr>\n",
       "    <tr>\n",
       "      <th>test_f2</th>\n",
       "      <td>0.75</td>\n",
       "      <td>0.02</td>\n",
       "      <td>0.90</td>\n",
       "      <td>0.02</td>\n",
       "    </tr>\n",
       "    <tr>\n",
       "      <th>train_f2</th>\n",
       "      <td>0.75</td>\n",
       "      <td>0.01</td>\n",
       "      <td>0.96</td>\n",
       "      <td>0.00</td>\n",
       "    </tr>\n",
       "  </tbody>\n",
       "</table>\n",
       "</div>"
      ],
      "text/plain": [
       "                  LR         GB     \n",
       "                mean  std  mean  std\n",
       "fit_time        4.04 3.41 32.68 5.62\n",
       "score_time      0.02 0.02  0.04 0.01\n",
       "test_accuracy   0.84 0.01  0.97 0.00\n",
       "train_accuracy  0.85 0.01  0.99 0.00\n",
       "test_precision  0.51 0.02  0.94 0.02\n",
       "train_precision 0.51 0.02  0.98 0.00\n",
       "test_recall     0.85 0.03  0.89 0.02\n",
       "train_recall    0.85 0.00  0.96 0.00\n",
       "test_f1         0.64 0.02  0.91 0.01\n",
       "train_f1        0.64 0.01  0.97 0.00\n",
       "test_f2         0.75 0.02  0.90 0.02\n",
       "train_f2        0.75 0.01  0.96 0.00"
      ]
     },
     "execution_count": 46,
     "metadata": {},
     "output_type": "execute_result"
    }
   ],
   "source": [
    "baseline_rskf_summary"
   ]
  },
  {
   "cell_type": "code",
   "execution_count": 47,
   "id": "reasonable-venice",
   "metadata": {
    "jupyter": {
     "source_hidden": true
    }
   },
   "outputs": [],
   "source": [
    "baseline_tts_summary = pd.concat([LR_baseline_tts_summary, GB_baseline_tts_summary], axis=1)"
   ]
  },
  {
   "cell_type": "code",
   "execution_count": 48,
   "id": "ahead-pound",
   "metadata": {},
   "outputs": [
    {
     "data": {
      "text/html": [
       "<div>\n",
       "<style scoped>\n",
       "    .dataframe tbody tr th:only-of-type {\n",
       "        vertical-align: middle;\n",
       "    }\n",
       "\n",
       "    .dataframe tbody tr th {\n",
       "        vertical-align: top;\n",
       "    }\n",
       "\n",
       "    .dataframe thead th {\n",
       "        text-align: right;\n",
       "    }\n",
       "</style>\n",
       "<table border=\"1\" class=\"dataframe\">\n",
       "  <thead>\n",
       "    <tr style=\"text-align: right;\">\n",
       "      <th></th>\n",
       "      <th>LR</th>\n",
       "      <th>GB</th>\n",
       "    </tr>\n",
       "  </thead>\n",
       "  <tbody>\n",
       "    <tr>\n",
       "      <th>fit_time</th>\n",
       "      <td>0.62</td>\n",
       "      <td>12.15</td>\n",
       "    </tr>\n",
       "    <tr>\n",
       "      <th>score_time</th>\n",
       "      <td>0.00</td>\n",
       "      <td>0.01</td>\n",
       "    </tr>\n",
       "    <tr>\n",
       "      <th>accuracy</th>\n",
       "      <td>0.84</td>\n",
       "      <td>0.98</td>\n",
       "    </tr>\n",
       "    <tr>\n",
       "      <th>precision</th>\n",
       "      <td>0.50</td>\n",
       "      <td>0.94</td>\n",
       "    </tr>\n",
       "    <tr>\n",
       "      <th>recall</th>\n",
       "      <td>0.88</td>\n",
       "      <td>0.94</td>\n",
       "    </tr>\n",
       "    <tr>\n",
       "      <th>f1</th>\n",
       "      <td>0.64</td>\n",
       "      <td>0.94</td>\n",
       "    </tr>\n",
       "    <tr>\n",
       "      <th>f2</th>\n",
       "      <td>0.76</td>\n",
       "      <td>0.94</td>\n",
       "    </tr>\n",
       "  </tbody>\n",
       "</table>\n",
       "</div>"
      ],
      "text/plain": [
       "             LR    GB\n",
       "fit_time   0.62 12.15\n",
       "score_time 0.00  0.01\n",
       "accuracy   0.84  0.98\n",
       "precision  0.50  0.94\n",
       "recall     0.88  0.94\n",
       "f1         0.64  0.94\n",
       "f2         0.76  0.94"
      ]
     },
     "execution_count": 48,
     "metadata": {},
     "output_type": "execute_result"
    }
   ],
   "source": [
    "baseline_tts_summary"
   ]
  },
  {
   "cell_type": "markdown",
   "id": "academic-latitude",
   "metadata": {},
   "source": [
    "<a id='7'>\n",
    "    <h2 style='background-color:rgb(141, 153, 165);\n",
    "               font-size:240%;\n",
    "               color:white;\n",
    "               text-align:center;\n",
    "               margin: auto;\n",
    "               padding: 10px;'>\n",
    "        Outlier Treatment\n",
    "    </h2>\n",
    "</a>"
   ]
  },
  {
   "cell_type": "markdown",
   "id": "extraordinary-bargain",
   "metadata": {},
   "source": [
    "In the Data Visualization section, we saw a large number of outliers in the box plots. Let's explore the effects of removing the outliers using Isolation Forest."
   ]
  },
  {
   "cell_type": "markdown",
   "id": "extended-employer",
   "metadata": {},
   "source": [
    "<a id='7.1'>\n",
    "    <h2 style='font-size:210%;'>\n",
    "        Isolation Forest\n",
    "    </h2>\n",
    "</a>"
   ]
  },
  {
   "cell_type": "markdown",
   "id": "emotional-sheffield",
   "metadata": {},
   "source": [
    "Isolation Forest is a tree-based one-class classification method that isolates observations that are few in number and different in their attributes or feature space without the usage of any distance or density measure like One-Class SVM."
   ]
  },
  {
   "cell_type": "markdown",
   "id": "pretty-viewer",
   "metadata": {},
   "source": [
    "Tree structures are designed to separate out anomalies. The algorithm has shallow roots for the isolated examples and deeper roots for the normal examples. The two important hyperparameters in the model are `n_estimators` and `contamination`. `n_estimators` sets the number of trees and `contamination` sets the percentage of outliers to detect."
   ]
  },
  {
   "cell_type": "markdown",
   "id": "diverse-correlation",
   "metadata": {},
   "source": [
    "**Isolation Forest pros:**\n",
    "* There is no need of scaling the values in the feature space.\n",
    "* It is an effective method when value distributions can not be assumed.\n",
    "* It has few parameters, this makes this method fairly robust and easy to optimize.\n",
    "* Scikit-Learn’s implementation is easy to use and the documentation is superb.\n",
    "\n",
    "**Isolation Forest cons:**\n",
    "* The Python implementation exists only in the development version of Sklearn.\n",
    "* Visualizing results is complicated.\n",
    "* If not correctly optimized, training time can be very long and computationally expensive.\n",
    "\n",
    "[Source: Towards Data Science - A Brief Overview of Outlier Detection Techniques](https://towardsdatascience.com/a-brief-overview-of-outlier-detection-techniques-1e0b2c19e561)"
   ]
  },
  {
   "cell_type": "markdown",
   "id": "figured-mortgage",
   "metadata": {},
   "source": [
    "<a id='7.2'>\n",
    "    <h2 style='font-size:210%;'>\n",
    "        Fit on All Classes\n",
    "    </h2>\n",
    "</a>"
   ]
  },
  {
   "cell_type": "code",
   "execution_count": 49,
   "id": "celtic-network",
   "metadata": {},
   "outputs": [],
   "source": [
    "x_train, x_test, y_train, y_test = train_test_split(x, y, test_size=0.2, random_state=1, shuffle=True, stratify=y)"
   ]
  },
  {
   "cell_type": "markdown",
   "id": "arbitrary-billy",
   "metadata": {},
   "source": [
    "The goal here is to test on all training dataset without the outliers."
   ]
  },
  {
   "cell_type": "markdown",
   "id": "metric-customs",
   "metadata": {},
   "source": [
    "<h2 style='font-size:180%;'>\n",
    "    Model Attributes\n",
    "</h2>"
   ]
  },
  {
   "cell_type": "code",
   "execution_count": 50,
   "id": "stretch-relationship",
   "metadata": {
    "jupyter": {
     "source_hidden": true
    }
   },
   "outputs": [
    {
     "name": "stdout",
     "output_type": "stream",
     "text": [
      "Isolation Forest Parameters:\n"
     ]
    },
    {
     "data": {
      "text/plain": [
       "{'bootstrap': False,\n",
       " 'contamination': 'auto',\n",
       " 'max_features': 1.0,\n",
       " 'max_samples': 'auto',\n",
       " 'n_estimators': 100,\n",
       " 'n_jobs': None,\n",
       " 'random_state': None,\n",
       " 'verbose': 0,\n",
       " 'warm_start': False}"
      ]
     },
     "execution_count": 50,
     "metadata": {},
     "output_type": "execute_result"
    }
   ],
   "source": [
    "print(\"Isolation Forest Parameters:\")\n",
    "IF_params = IsolationForest().get_params()\n",
    "IF_params"
   ]
  },
  {
   "cell_type": "code",
   "execution_count": 51,
   "id": "controlling-strengthening",
   "metadata": {
    "jupyter": {
     "source_hidden": true
    }
   },
   "outputs": [
    {
     "name": "stdout",
     "output_type": "stream",
     "text": [
      "Isolation Forest Default Parameter Values:\n",
      "{'contamination': 'auto', 'max_features': 1.0, 'n_estimators': 100}\n"
     ]
    }
   ],
   "source": [
    "print(f\"\"\"Isolation Forest Default Parameter Values:\"\"\")\n",
    "IF_params_key = ['contamination','n_estimators','max_features']\n",
    "IF_params_key = {k:v for k,v in IF_params.items() if k in IF_params_key}\n",
    "print(IF_params_key)"
   ]
  },
  {
   "cell_type": "code",
   "execution_count": 52,
   "id": "quick-background",
   "metadata": {
    "jupyter": {
     "source_hidden": true
    }
   },
   "outputs": [
    {
     "name": "stdout",
     "output_type": "stream",
     "text": [
      "`y` split:\n"
     ]
    },
    {
     "data": {
      "text/plain": [
       "Counter({0.0: 8500, 1.0: 1627})"
      ]
     },
     "execution_count": 52,
     "metadata": {},
     "output_type": "execute_result"
    }
   ],
   "source": [
    "count = Counter(y)\n",
    "print('`y` split:')\n",
    "count"
   ]
  },
  {
   "cell_type": "code",
   "execution_count": 53,
   "id": "bronze-faculty",
   "metadata": {
    "jupyter": {
     "source_hidden": true
    }
   },
   "outputs": [
    {
     "name": "stdout",
     "output_type": "stream",
     "text": [
      "`y_train` split - pre-treatment:\n"
     ]
    },
    {
     "data": {
      "text/plain": [
       "Counter({0.0: 6799, 1.0: 1302})"
      ]
     },
     "execution_count": 53,
     "metadata": {},
     "output_type": "execute_result"
    }
   ],
   "source": [
    "count = Counter(y_train)\n",
    "print('`y_train` split - pre-treatment:')\n",
    "count"
   ]
  },
  {
   "cell_type": "markdown",
   "id": "sustainable-miracle",
   "metadata": {},
   "source": [
    "<!-- I chose 5% for the sample size of outliers. In other words, we will keep 95% of the data. -->"
   ]
  },
  {
   "cell_type": "code",
   "execution_count": 71,
   "id": "nasty-davis",
   "metadata": {
    "jupyter": {
     "source_hidden": true
    }
   },
   "outputs": [],
   "source": [
    "def result_tts_with_data(x_train, x_test, y_train, y_test, pipeline, mod_disp_name):\n",
    "    time_0 = time()\n",
    "    pipeline.fit(x_train, y_train)\n",
    "    time_1 = time()\n",
    "    y_pred = pipeline.predict(x_test)\n",
    "    time_2 = time()\n",
    "    result = {}\n",
    "    result['fit_time'] = round(time_1-time_0, 2)\n",
    "    result['score_time'] = round(time_2-time_1, 2)\n",
    "    result['accuracy'] = round(accuracy_score(y_test, y_pred), 2)\n",
    "    result['precision'] = round(precision_score(y_test, y_pred), 2)\n",
    "    result['recall'] = round(recall_score(y_test, y_pred), 2)\n",
    "    result['f1'] = round(f1_score(y_test, y_pred), 2)\n",
    "    result['f2'] = round(fbeta_score(y_test, y_pred, beta=2), 2)\n",
    "    conf_mat = confusion_matrix(y_test, y_pred, labels=[1,0])\n",
    "    df = pd.DataFrame(result, index=[mod_disp_name]).T\n",
    "    return df, result, conf_mat, y_pred, y_test"
   ]
  },
  {
   "cell_type": "code",
   "execution_count": 55,
   "id": "static-sharp",
   "metadata": {},
   "outputs": [],
   "source": [
    "model_outlier = IsolationForest(contamination='auto')\n",
    "y_pred = model_outlier.fit_predict(x_train)"
   ]
  },
  {
   "cell_type": "code",
   "execution_count": 56,
   "id": "composite-weekend",
   "metadata": {},
   "outputs": [],
   "source": [
    "# removing outliers from the training set\n",
    "x_train, y_train = x_train[y_pred!=-1,:], y_train[y_pred!=-1]"
   ]
  },
  {
   "cell_type": "code",
   "execution_count": 57,
   "id": "recognized-month",
   "metadata": {},
   "outputs": [
    {
     "name": "stdout",
     "output_type": "stream",
     "text": [
      "`y_train` split - post-treatment:\n"
     ]
    },
    {
     "data": {
      "text/plain": [
       "Counter({0.0: 5803, 1.0: 1081})"
      ]
     },
     "execution_count": 57,
     "metadata": {},
     "output_type": "execute_result"
    }
   ],
   "source": [
    "count = Counter(y_train)\n",
    "print('`y_train` split - post-treatment:')\n",
    "count"
   ]
  },
  {
   "cell_type": "code",
   "execution_count": 58,
   "id": "arctic-payment",
   "metadata": {
    "jupyter": {
     "source_hidden": true
    }
   },
   "outputs": [
    {
     "name": "stdout",
     "output_type": "stream",
     "text": [
      "Percentage of churned customer in the new data: 15.70%\n"
     ]
    }
   ],
   "source": [
    "print('Percentage of churned customer in the new data: %.2f%%' % (count[1]/len(y_train)*100))"
   ]
  },
  {
   "cell_type": "code",
   "execution_count": 59,
   "id": "humanitarian-overall",
   "metadata": {
    "jupyter": {
     "source_hidden": true
    }
   },
   "outputs": [
    {
     "name": "stdout",
     "output_type": "stream",
     "text": [
      "Shape of the new train set for `x_train` and `y_train`, respectively:\n",
      "(6884, 26) (6884,)\n"
     ]
    }
   ],
   "source": [
    "print('Shape of the new train set for `x_train` and `y_train`, respectively:')\n",
    "print(x_train.shape, y_train.shape)"
   ]
  },
  {
   "cell_type": "code",
   "execution_count": 60,
   "id": "seven-cooler",
   "metadata": {
    "jupyter": {
     "source_hidden": true
    }
   },
   "outputs": [
    {
     "name": "stdout",
     "output_type": "stream",
     "text": [
      "Sample size of total data: 84.98%\n"
     ]
    }
   ],
   "source": [
    "print('Sample size of total data: %.2f%%' % (len(x_train)/8101*100))"
   ]
  },
  {
   "cell_type": "markdown",
   "id": "requested-commercial",
   "metadata": {},
   "source": [
    "<a id='7.2.1'>\n",
    "    <h2 style='font-size:180%;'>\n",
    "        Logistic Regression\n",
    "    </h2>\n",
    "</a>"
   ]
  },
  {
   "cell_type": "code",
   "execution_count": 61,
   "id": "friendly-optics",
   "metadata": {},
   "outputs": [],
   "source": [
    "model = LogisticRegression(class_weight='balanced', C=0.1, max_iter=10000, random_state=1)\n",
    "pipeline = Pipeline([('m', model)])"
   ]
  },
  {
   "cell_type": "code",
   "execution_count": 62,
   "id": "becoming-season",
   "metadata": {
    "jupyter": {
     "source_hidden": true
    }
   },
   "outputs": [],
   "source": [
    "LR_outlier_tts_inst = result_tts_with_data(x_train, x_test, y_train, y_test, pipeline, 'LR')"
   ]
  },
  {
   "cell_type": "code",
   "execution_count": 63,
   "id": "superb-chicago",
   "metadata": {
    "jupyter": {
     "source_hidden": true
    }
   },
   "outputs": [],
   "source": [
    "LR_outlier_tts_summary = LR_outlier_tts_inst[0]\n",
    "LR_outlier_tts_full = LR_outlier_tts_inst[1]\n",
    "LR_outlier_tts_cm = LR_outlier_tts_inst[2]\n",
    "LR_outlier_tts_y_pred = LR_outlier_tts_inst[3]\n",
    "LR_outlier_tts_y_test = LR_outlier_tts_inst[4]"
   ]
  },
  {
   "cell_type": "code",
   "execution_count": 64,
   "id": "permanent-galaxy",
   "metadata": {
    "jupyter": {
     "source_hidden": true
    }
   },
   "outputs": [],
   "source": [
    "LR_baseline_vs_outlier_tts = pd.concat([LR_outlier_tts_summary, LR_baseline_tts_summary], axis=1)\n",
    "LR_baseline_vs_outlier_tts.columns=pd.MultiIndex.from_product([['LR'],['Trmt','Ctrl']])"
   ]
  },
  {
   "cell_type": "code",
   "execution_count": 65,
   "id": "surprised-building",
   "metadata": {
    "jupyter": {
     "source_hidden": true
    }
   },
   "outputs": [
    {
     "data": {
      "text/html": [
       "<div>\n",
       "<style scoped>\n",
       "    .dataframe tbody tr th:only-of-type {\n",
       "        vertical-align: middle;\n",
       "    }\n",
       "\n",
       "    .dataframe tbody tr th {\n",
       "        vertical-align: top;\n",
       "    }\n",
       "\n",
       "    .dataframe thead tr th {\n",
       "        text-align: left;\n",
       "    }\n",
       "</style>\n",
       "<table border=\"1\" class=\"dataframe\">\n",
       "  <thead>\n",
       "    <tr>\n",
       "      <th></th>\n",
       "      <th colspan=\"2\" halign=\"left\">LR</th>\n",
       "    </tr>\n",
       "    <tr>\n",
       "      <th></th>\n",
       "      <th>Trmt</th>\n",
       "      <th>Ctrl</th>\n",
       "    </tr>\n",
       "  </thead>\n",
       "  <tbody>\n",
       "    <tr>\n",
       "      <th>fit_time</th>\n",
       "      <td>0.65</td>\n",
       "      <td>0.62</td>\n",
       "    </tr>\n",
       "    <tr>\n",
       "      <th>score_time</th>\n",
       "      <td>0.00</td>\n",
       "      <td>0.00</td>\n",
       "    </tr>\n",
       "    <tr>\n",
       "      <th>accuracy</th>\n",
       "      <td>0.84</td>\n",
       "      <td>0.84</td>\n",
       "    </tr>\n",
       "    <tr>\n",
       "      <th>precision</th>\n",
       "      <td>0.50</td>\n",
       "      <td>0.50</td>\n",
       "    </tr>\n",
       "    <tr>\n",
       "      <th>recall</th>\n",
       "      <td>0.87</td>\n",
       "      <td>0.88</td>\n",
       "    </tr>\n",
       "    <tr>\n",
       "      <th>f1</th>\n",
       "      <td>0.64</td>\n",
       "      <td>0.64</td>\n",
       "    </tr>\n",
       "    <tr>\n",
       "      <th>f2</th>\n",
       "      <td>0.76</td>\n",
       "      <td>0.76</td>\n",
       "    </tr>\n",
       "  </tbody>\n",
       "</table>\n",
       "</div>"
      ],
      "text/plain": [
       "             LR     \n",
       "           Trmt Ctrl\n",
       "fit_time   0.65 0.62\n",
       "score_time 0.00 0.00\n",
       "accuracy   0.84 0.84\n",
       "precision  0.50 0.50\n",
       "recall     0.87 0.88\n",
       "f1         0.64 0.64\n",
       "f2         0.76 0.76"
      ]
     },
     "execution_count": 65,
     "metadata": {},
     "output_type": "execute_result"
    }
   ],
   "source": [
    "LR_baseline_vs_outlier_tts"
   ]
  },
  {
   "cell_type": "markdown",
   "id": "scientific-bangladesh",
   "metadata": {},
   "source": [
    "<a id='7.2.2'>\n",
    "    <h2 style='font-size:180%;'>\n",
    "        Gradient Boosting Classifier\n",
    "    </h2>\n",
    "</a>"
   ]
  },
  {
   "cell_type": "code",
   "execution_count": 66,
   "id": "equipped-accused",
   "metadata": {
    "jupyter": {
     "source_hidden": true
    }
   },
   "outputs": [],
   "source": [
    "model = GradientBoostingClassifier(n_estimators=300, max_depth=3, learning_rate=0.1)\n",
    "pipeline = Pipeline([('m', model)])"
   ]
  },
  {
   "cell_type": "code",
   "execution_count": 67,
   "id": "recent-mumbai",
   "metadata": {
    "jupyter": {
     "source_hidden": true
    }
   },
   "outputs": [],
   "source": [
    "GB_outlier_tts_inst = result_tts_with_data(x_train, x_test, y_train, y_test, pipeline, 'GB')"
   ]
  },
  {
   "cell_type": "code",
   "execution_count": 68,
   "id": "electric-serve",
   "metadata": {
    "jupyter": {
     "source_hidden": true
    }
   },
   "outputs": [],
   "source": [
    "GB_outlier_tts_summary = GB_outlier_tts_inst[0]\n",
    "GB_outlier_tts_full = GB_outlier_tts_inst[1]\n",
    "GB_outlier_tts_cm = GB_outlier_tts_inst[2]\n",
    "GB_outlier_tts_y_pred = GB_outlier_tts_inst[3]\n",
    "GB_outlier_tts_y_test = GB_outlier_tts_inst[4]"
   ]
  },
  {
   "cell_type": "code",
   "execution_count": 69,
   "id": "coated-calvin",
   "metadata": {
    "jupyter": {
     "source_hidden": true
    }
   },
   "outputs": [],
   "source": [
    "GB_baseline_vs_outlier_tts = pd.concat([GB_outlier_tts_summary, GB_baseline_tts_summary], axis=1)\n",
    "GB_baseline_vs_outlier_tts.columns=pd.MultiIndex.from_product([['GB'],['Trmt','Ctrl']])"
   ]
  },
  {
   "cell_type": "code",
   "execution_count": 70,
   "id": "identified-champagne",
   "metadata": {
    "jupyter": {
     "source_hidden": true
    }
   },
   "outputs": [
    {
     "data": {
      "text/html": [
       "<div>\n",
       "<style scoped>\n",
       "    .dataframe tbody tr th:only-of-type {\n",
       "        vertical-align: middle;\n",
       "    }\n",
       "\n",
       "    .dataframe tbody tr th {\n",
       "        vertical-align: top;\n",
       "    }\n",
       "\n",
       "    .dataframe thead tr th {\n",
       "        text-align: left;\n",
       "    }\n",
       "</style>\n",
       "<table border=\"1\" class=\"dataframe\">\n",
       "  <thead>\n",
       "    <tr>\n",
       "      <th></th>\n",
       "      <th colspan=\"2\" halign=\"left\">GB</th>\n",
       "    </tr>\n",
       "    <tr>\n",
       "      <th></th>\n",
       "      <th>Trmt</th>\n",
       "      <th>Ctrl</th>\n",
       "    </tr>\n",
       "  </thead>\n",
       "  <tbody>\n",
       "    <tr>\n",
       "      <th>fit_time</th>\n",
       "      <td>8.16</td>\n",
       "      <td>12.15</td>\n",
       "    </tr>\n",
       "    <tr>\n",
       "      <th>score_time</th>\n",
       "      <td>0.01</td>\n",
       "      <td>0.01</td>\n",
       "    </tr>\n",
       "    <tr>\n",
       "      <th>accuracy</th>\n",
       "      <td>0.98</td>\n",
       "      <td>0.98</td>\n",
       "    </tr>\n",
       "    <tr>\n",
       "      <th>precision</th>\n",
       "      <td>0.95</td>\n",
       "      <td>0.94</td>\n",
       "    </tr>\n",
       "    <tr>\n",
       "      <th>recall</th>\n",
       "      <td>0.93</td>\n",
       "      <td>0.94</td>\n",
       "    </tr>\n",
       "    <tr>\n",
       "      <th>f1</th>\n",
       "      <td>0.94</td>\n",
       "      <td>0.94</td>\n",
       "    </tr>\n",
       "    <tr>\n",
       "      <th>f2</th>\n",
       "      <td>0.93</td>\n",
       "      <td>0.94</td>\n",
       "    </tr>\n",
       "  </tbody>\n",
       "</table>\n",
       "</div>"
      ],
      "text/plain": [
       "             GB      \n",
       "           Trmt  Ctrl\n",
       "fit_time   8.16 12.15\n",
       "score_time 0.01  0.01\n",
       "accuracy   0.98  0.98\n",
       "precision  0.95  0.94\n",
       "recall     0.93  0.94\n",
       "f1         0.94  0.94\n",
       "f2         0.93  0.94"
      ]
     },
     "execution_count": 70,
     "metadata": {},
     "output_type": "execute_result"
    }
   ],
   "source": [
    "GB_baseline_vs_outlier_tts"
   ]
  },
  {
   "cell_type": "markdown",
   "id": "lesser-february",
   "metadata": {},
   "source": [
    "<a id='7.3'>\n",
    "    <h2 style='font-size:210%;'>\n",
    "        Evaluate Results\n",
    "    </h2>\n",
    "</a>"
   ]
  },
  {
   "cell_type": "markdown",
   "id": "military-wichita",
   "metadata": {},
   "source": [
    "As expected, the linear model (logistic regression) saw a slight improvement in F-2 score (more gain in precision) while the ensemble model (Gradient Boosting Classifier) saw a large hit due to information loss. We may want to revisit removing outliers after scaling, feature selection/extraction, and/or resampling."
   ]
  },
  {
   "cell_type": "code",
   "execution_count": 72,
   "id": "chinese-basketball",
   "metadata": {
    "jupyter": {
     "source_hidden": true
    }
   },
   "outputs": [
    {
     "data": {
      "text/html": [
       "<div>\n",
       "<style scoped>\n",
       "    .dataframe tbody tr th:only-of-type {\n",
       "        vertical-align: middle;\n",
       "    }\n",
       "\n",
       "    .dataframe tbody tr th {\n",
       "        vertical-align: top;\n",
       "    }\n",
       "\n",
       "    .dataframe thead tr th {\n",
       "        text-align: left;\n",
       "    }\n",
       "</style>\n",
       "<table border=\"1\" class=\"dataframe\">\n",
       "  <thead>\n",
       "    <tr>\n",
       "      <th></th>\n",
       "      <th colspan=\"2\" halign=\"left\">LR</th>\n",
       "      <th colspan=\"2\" halign=\"left\">GB</th>\n",
       "    </tr>\n",
       "    <tr>\n",
       "      <th></th>\n",
       "      <th>Trmt</th>\n",
       "      <th>Ctrl</th>\n",
       "      <th>Trmt</th>\n",
       "      <th>Ctrl</th>\n",
       "    </tr>\n",
       "  </thead>\n",
       "  <tbody>\n",
       "    <tr>\n",
       "      <th>fit_time</th>\n",
       "      <td>0.65</td>\n",
       "      <td>0.62</td>\n",
       "      <td>8.16</td>\n",
       "      <td>12.15</td>\n",
       "    </tr>\n",
       "    <tr>\n",
       "      <th>score_time</th>\n",
       "      <td>0.00</td>\n",
       "      <td>0.00</td>\n",
       "      <td>0.01</td>\n",
       "      <td>0.01</td>\n",
       "    </tr>\n",
       "    <tr>\n",
       "      <th>accuracy</th>\n",
       "      <td>0.84</td>\n",
       "      <td>0.84</td>\n",
       "      <td>0.98</td>\n",
       "      <td>0.98</td>\n",
       "    </tr>\n",
       "    <tr>\n",
       "      <th>precision</th>\n",
       "      <td>0.50</td>\n",
       "      <td>0.50</td>\n",
       "      <td>0.95</td>\n",
       "      <td>0.94</td>\n",
       "    </tr>\n",
       "    <tr>\n",
       "      <th>recall</th>\n",
       "      <td>0.87</td>\n",
       "      <td>0.88</td>\n",
       "      <td>0.93</td>\n",
       "      <td>0.94</td>\n",
       "    </tr>\n",
       "    <tr>\n",
       "      <th>f1</th>\n",
       "      <td>0.64</td>\n",
       "      <td>0.64</td>\n",
       "      <td>0.94</td>\n",
       "      <td>0.94</td>\n",
       "    </tr>\n",
       "    <tr>\n",
       "      <th>f2</th>\n",
       "      <td>0.76</td>\n",
       "      <td>0.76</td>\n",
       "      <td>0.93</td>\n",
       "      <td>0.94</td>\n",
       "    </tr>\n",
       "  </tbody>\n",
       "</table>\n",
       "</div>"
      ],
      "text/plain": [
       "             LR        GB      \n",
       "           Trmt Ctrl Trmt  Ctrl\n",
       "fit_time   0.65 0.62 8.16 12.15\n",
       "score_time 0.00 0.00 0.01  0.01\n",
       "accuracy   0.84 0.84 0.98  0.98\n",
       "precision  0.50 0.50 0.95  0.94\n",
       "recall     0.87 0.88 0.93  0.94\n",
       "f1         0.64 0.64 0.94  0.94\n",
       "f2         0.76 0.76 0.93  0.94"
      ]
     },
     "execution_count": 72,
     "metadata": {},
     "output_type": "execute_result"
    }
   ],
   "source": [
    "baseline_vs_outlier_tts = pd.concat([LR_baseline_vs_outlier_tts, GB_baseline_vs_outlier_tts], axis=1)\n",
    "baseline_vs_outlier_tts"
   ]
  }
 ],
 "metadata": {
  "kernelspec": {
   "display_name": "Python 3",
   "language": "python",
   "name": "python3"
  },
  "language_info": {
   "codemirror_mode": {
    "name": "ipython",
    "version": 3
   },
   "file_extension": ".py",
   "mimetype": "text/x-python",
   "name": "python",
   "nbconvert_exporter": "python",
   "pygments_lexer": "ipython3",
   "version": "3.8.5"
  }
 },
 "nbformat": 4,
 "nbformat_minor": 5
}
