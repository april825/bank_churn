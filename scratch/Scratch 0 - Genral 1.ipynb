{
 "cells": [
  {
   "cell_type": "markdown",
   "id": "built-inflation",
   "metadata": {},
   "source": [
    "<h1 style=\"background-color:rgb(67, 77, 86);\n",
    "           font-size:300%;\n",
    "           font-style: oblique;\n",
    "           color:white;\n",
    "           text-align:center;\n",
    "           margin: auto;\n",
    "           padding: 20px;\">Predicting Bank Churners</h1>"
   ]
  },
  {
   "cell_type": "markdown",
   "id": "printable-protein",
   "metadata": {},
   "source": [
    "<a id=\"1.2\"></a>\n",
    "<h2 style=\"background-color:rgb(141, 153, 165);\n",
    "           font-size:250%;\n",
    "           color:white;\n",
    "           text-align:center;\n",
    "           margin: auto;\n",
    "           padding: 10px;\">Table of Content</h2>"
   ]
  },
  {
   "cell_type": "markdown",
   "id": "promotional-petite",
   "metadata": {},
   "source": [
    "* ***[Introduction](#1)***\n",
    "    * ***[Libraries & Modules](#1.1)***\n",
    "    * ***[Data Loading](#1.2)***\n",
    "* ***[Exploratory Data Analysis (EDA)](#2)***\n",
    "* ***[Data Preprocessing](#3)***\n",
    "    * ***[Data Upsampling Using SMOTE](#3.1)***\n",
    "    * ***[Principal Component Analysis Of One Hot Encoded Data](#3.2)***  \n",
    "* ***[Model Selection And Evaluation](#4)*** \n",
    "    * ***[Cross Validation](#4.1)***\n",
    "    * ***[Model Evaluation](#4.2)***\n",
    "    * ***[Model Evaluation On Original Data (Before Upsampling)](#4.3)***\n",
    "* ***[Results](#5)*** "
   ]
  },
  {
   "cell_type": "markdown",
   "id": "recognized-librarian",
   "metadata": {},
   "source": [
    "> *Our top priority in this business problem is to identify customers who are getting churned. Even if we predict non-churning customers as churned, it won't harm our business. But predicting churning customers as Non-churning will do. So recall need to be higher. Till now, I have managed to get a recall of 62%. Need better. - Sakshi Goyal -*"
   ]
  },
  {
   "cell_type": "markdown",
   "id": "noticed-suggestion",
   "metadata": {},
   "source": [
    "<a id=\"1.2\"></a>\n",
    "<h2 style=\"background-color:rgb(141, 153, 165);\n",
    "           font-size:250%;\n",
    "           color:white;\n",
    "           text-align:center;\n",
    "           margin: auto;\n",
    "           padding: 10px;\">Libraries & Modules</h2>"
   ]
  },
  {
   "cell_type": "code",
   "execution_count": 1,
   "id": "fatal-diary",
   "metadata": {},
   "outputs": [],
   "source": [
    "# Data Processing\n",
    "import pandas as pd\n",
    "import numpy as np\n",
    "import random as rd\n",
    "import copy\n",
    "\n",
    "# Explanatory Data Analysis\n",
    "from pandas_profiling import ProfileReport\n",
    "\n",
    "# Data Visualization\n",
    "import matplotlib.pyplot as plt\n",
    "import plotly.graph_objs as go\n",
    "import plotly.express as px\n",
    "from plotly.subplots import make_subplots\n",
    "import chart_studio.plotly\n",
    "# import plotly.io as pio\n",
    "# import seaborn as sns\n",
    "\n",
    "# Statistical Analysis\n",
    "from scipy.stats import (pearsonr, spearmanr, chi2_contingency)\n",
    "# import scipy\n",
    "# from scipy import stats\n",
    "\n",
    "# Machine Learning\n",
    "from sklearn.preprocessing import StandardScaler, LabelEncoder, OneHotEncoder\n",
    "from sklearn.model_selection import train_test_split, cross_val_score"
   ]
  },
  {
   "cell_type": "code",
   "execution_count": 2,
   "id": "polyphonic-seafood",
   "metadata": {},
   "outputs": [],
   "source": [
    "# Settings\n",
    "%matplotlib inline\n",
    "pd.options.display.float_format = \"{:,.2f}\".format\n",
    "# np.set_printoptions(precision=2)\n",
    "# from IPython.display import display, Math, Latex\n",
    "# pio.renderers.default='plotly_mimetype'\n",
    "# plt.rc('figure',figsize=(8,4))\n",
    "# plt.style.use('seaborn-whitegrid')"
   ]
  },
  {
   "cell_type": "code",
   "execution_count": 3,
   "id": "velvet-principle",
   "metadata": {},
   "outputs": [
    {
     "name": "stdout",
     "output_type": "stream",
     "text": [
      "Source\\BankChurners.csv\n",
      "Source\\d_minproc.csv\n",
      "Source\\img\\Depiction-of-a-Precision-Recall-Curve.png\n",
      "Source\\img\\Depiction-of-a-ROC-Curve.jpg\n",
      "Source\\img\\How-to-Choose-a-Metric-for-Imbalanced-Classification-latest.png\n",
      "Source\\img\\How-to-Spot-Check-Imbalanced-Machine-Learning-Algorithms.png\n",
      "Source\\img\\How-to-Spot-Check-Machine-Learning-Algorithms.png\n",
      "Source\\img\\QQPlot-Distributions.png\n",
      "Source\\img\\QQPlot-Distributions2.png\n"
     ]
    }
   ],
   "source": [
    "import os\n",
    "for dirname, _, filenames in os.walk(\"Source\"):\n",
    "    for filename in filenames:\n",
    "        print(os.path.join(dirname, filename))\n",
    "# Any results you write to the current directory are saved as output."
   ]
  },
  {
   "cell_type": "markdown",
   "id": "southwest-richards",
   "metadata": {},
   "source": [
    "<a id=\"1.2\"></a>\n",
    "<h2 style=\"background-color:rgb(141, 153, 165);\n",
    "           font-size:250%;\n",
    "           color:white;\n",
    "           text-align:center;\n",
    "           margin: auto;\n",
    "           padding: 10px;\">Data Loading</h2>"
   ]
  },
  {
   "cell_type": "code",
   "execution_count": 4,
   "id": "starting-jewelry",
   "metadata": {},
   "outputs": [],
   "source": [
    "# Load Data\n",
    "d = pd.read_csv('Source/BankChurners.csv')\n",
    "d = d.iloc[:,:-2]  # deleting last two cols as instructed\n",
    "d = d.drop([\"CLIENTNUM\"],axis=1) # drop var not needed"
   ]
  },
  {
   "cell_type": "code",
   "execution_count": 5,
   "id": "enabling-street",
   "metadata": {},
   "outputs": [],
   "source": [
    "# Rename Columns\n",
    "d.columns = ['churn', 'age', 'gender', 'dependents',\n",
    "             'educ_cat', 'marstat', 'inc_cat', 'card_cat',\n",
    "             'mo_on_book', 'prod_ct', 'mo_inactive_r12',\n",
    "             'contr_ct_r12', 'credlim_avg_r12', 'revbal_avg_r12',\n",
    "             'opentobuy_avg_r12', 'chng_tx_amt_q4_q1', 'tx_amt_r12',\n",
    "             'tx_ct_r12', 'chng_tx_ct_q4_q1', 'utilratio_avg']"
   ]
  },
  {
   "cell_type": "code",
   "execution_count": 6,
   "id": "functioning-premises",
   "metadata": {},
   "outputs": [],
   "source": [
    "# Reorder Columns\n",
    "d = d[['churn', 'age', 'gender', 'educ_cat', 'inc_cat', 'marstat', 'dependents',\n",
    "       'card_cat', 'prod_ct', 'mo_on_book', 'mo_inactive_r12', 'contr_ct_r12', \n",
    "       'revbal_avg_r12', 'credlim_avg_r12', 'opentobuy_avg_r12', 'utilratio_avg',\n",
    "       'tx_amt_r12', 'tx_ct_r12', 'chng_tx_amt_q4_q1', 'chng_tx_ct_q4_q1']]"
   ]
  },
  {
   "cell_type": "code",
   "execution_count": 7,
   "id": "proper-gossip",
   "metadata": {},
   "outputs": [],
   "source": [
    "# Reformat Text to Fix Weird Latex Problem\n",
    "d['inc_cat'] = d['inc_cat'].replace({'$40K - $60K': '$40K-60K',\n",
    "                                     '$60K - $80K': '$60K-80K',\n",
    "                                     '$80K - $120K': '$80K-120K',\n",
    "                                     '$120K +':'$120K+'})"
   ]
  },
  {
   "cell_type": "code",
   "execution_count": 8,
   "id": "efficient-popularity",
   "metadata": {},
   "outputs": [
    {
     "data": {
      "text/html": [
       "<div>\n",
       "<style scoped>\n",
       "    .dataframe tbody tr th:only-of-type {\n",
       "        vertical-align: middle;\n",
       "    }\n",
       "\n",
       "    .dataframe tbody tr th {\n",
       "        vertical-align: top;\n",
       "    }\n",
       "\n",
       "    .dataframe thead th {\n",
       "        text-align: right;\n",
       "    }\n",
       "</style>\n",
       "<table border=\"1\" class=\"dataframe\">\n",
       "  <thead>\n",
       "    <tr style=\"text-align: right;\">\n",
       "      <th></th>\n",
       "      <th>churn</th>\n",
       "      <th>age</th>\n",
       "      <th>gender</th>\n",
       "      <th>educ_cat</th>\n",
       "      <th>inc_cat</th>\n",
       "      <th>marstat</th>\n",
       "      <th>dependents</th>\n",
       "      <th>card_cat</th>\n",
       "      <th>prod_ct</th>\n",
       "      <th>mo_on_book</th>\n",
       "      <th>mo_inactive_r12</th>\n",
       "      <th>contr_ct_r12</th>\n",
       "      <th>revbal_avg_r12</th>\n",
       "      <th>credlim_avg_r12</th>\n",
       "      <th>opentobuy_avg_r12</th>\n",
       "      <th>utilratio_avg</th>\n",
       "      <th>tx_amt_r12</th>\n",
       "      <th>tx_ct_r12</th>\n",
       "      <th>chng_tx_amt_q4_q1</th>\n",
       "      <th>chng_tx_ct_q4_q1</th>\n",
       "    </tr>\n",
       "  </thead>\n",
       "  <tbody>\n",
       "    <tr>\n",
       "      <th>0</th>\n",
       "      <td>Existing Customer</td>\n",
       "      <td>45</td>\n",
       "      <td>M</td>\n",
       "      <td>High School</td>\n",
       "      <td>$60K-80K</td>\n",
       "      <td>Married</td>\n",
       "      <td>3</td>\n",
       "      <td>Blue</td>\n",
       "      <td>5</td>\n",
       "      <td>39</td>\n",
       "      <td>1</td>\n",
       "      <td>3</td>\n",
       "      <td>777</td>\n",
       "      <td>12,691.00</td>\n",
       "      <td>11,914.00</td>\n",
       "      <td>0.06</td>\n",
       "      <td>1144</td>\n",
       "      <td>42</td>\n",
       "      <td>1.33</td>\n",
       "      <td>1.62</td>\n",
       "    </tr>\n",
       "    <tr>\n",
       "      <th>1</th>\n",
       "      <td>Existing Customer</td>\n",
       "      <td>49</td>\n",
       "      <td>F</td>\n",
       "      <td>Graduate</td>\n",
       "      <td>Less than $40K</td>\n",
       "      <td>Single</td>\n",
       "      <td>5</td>\n",
       "      <td>Blue</td>\n",
       "      <td>6</td>\n",
       "      <td>44</td>\n",
       "      <td>1</td>\n",
       "      <td>2</td>\n",
       "      <td>864</td>\n",
       "      <td>8,256.00</td>\n",
       "      <td>7,392.00</td>\n",
       "      <td>0.10</td>\n",
       "      <td>1291</td>\n",
       "      <td>33</td>\n",
       "      <td>1.54</td>\n",
       "      <td>3.71</td>\n",
       "    </tr>\n",
       "    <tr>\n",
       "      <th>2</th>\n",
       "      <td>Existing Customer</td>\n",
       "      <td>51</td>\n",
       "      <td>M</td>\n",
       "      <td>Graduate</td>\n",
       "      <td>$80K-120K</td>\n",
       "      <td>Married</td>\n",
       "      <td>3</td>\n",
       "      <td>Blue</td>\n",
       "      <td>4</td>\n",
       "      <td>36</td>\n",
       "      <td>1</td>\n",
       "      <td>0</td>\n",
       "      <td>0</td>\n",
       "      <td>3,418.00</td>\n",
       "      <td>3,418.00</td>\n",
       "      <td>0.00</td>\n",
       "      <td>1887</td>\n",
       "      <td>20</td>\n",
       "      <td>2.59</td>\n",
       "      <td>2.33</td>\n",
       "    </tr>\n",
       "  </tbody>\n",
       "</table>\n",
       "</div>"
      ],
      "text/plain": [
       "               churn  age gender     educ_cat         inc_cat  marstat  \\\n",
       "0  Existing Customer   45      M  High School        $60K-80K  Married   \n",
       "1  Existing Customer   49      F     Graduate  Less than $40K   Single   \n",
       "2  Existing Customer   51      M     Graduate       $80K-120K  Married   \n",
       "\n",
       "   dependents card_cat  prod_ct  mo_on_book  mo_inactive_r12  contr_ct_r12  \\\n",
       "0           3     Blue        5          39                1             3   \n",
       "1           5     Blue        6          44                1             2   \n",
       "2           3     Blue        4          36                1             0   \n",
       "\n",
       "   revbal_avg_r12  credlim_avg_r12  opentobuy_avg_r12  utilratio_avg  \\\n",
       "0             777        12,691.00          11,914.00           0.06   \n",
       "1             864         8,256.00           7,392.00           0.10   \n",
       "2               0         3,418.00           3,418.00           0.00   \n",
       "\n",
       "   tx_amt_r12  tx_ct_r12  chng_tx_amt_q4_q1  chng_tx_ct_q4_q1  \n",
       "0        1144         42               1.33              1.62  \n",
       "1        1291         33               1.54              3.71  \n",
       "2        1887         20               2.59              2.33  "
      ]
     },
     "execution_count": 8,
     "metadata": {},
     "output_type": "execute_result"
    }
   ],
   "source": [
    "d.head(3)"
   ]
  },
  {
   "cell_type": "code",
   "execution_count": 9,
   "id": "organic-pursuit",
   "metadata": {},
   "outputs": [],
   "source": [
    "d_orig = copy.deepcopy(d)  # save original copy just in case"
   ]
  },
  {
   "cell_type": "markdown",
   "id": "selected-biology",
   "metadata": {},
   "source": [
    "<a id=\"1.2\"></a>\n",
    "<h2 style=\"background-color:rgb(141, 153, 165);\n",
    "           font-size:250%;\n",
    "           color:white;\n",
    "           text-align:center;\n",
    "           margin: auto;\n",
    "           padding: 10px;\">Explanatory Data Analysis</h2>"
   ]
  },
  {
   "cell_type": "code",
   "execution_count": null,
   "id": "framed-owner",
   "metadata": {},
   "outputs": [],
   "source": [
    "credit_card_report = ProfileReport(d)\n",
    "credit_card_report"
   ]
  },
  {
   "cell_type": "markdown",
   "id": "coastal-repair",
   "metadata": {},
   "source": [
    "<a id=\"1.2\"></a>\n",
    "<h2 style=\"background-color:rgb(141, 153, 165);\n",
    "           font-size:250%;\n",
    "           color:white;\n",
    "           text-align:center;\n",
    "           margin: auto;\n",
    "           padding: 10px;\">Data Visualization</h2>"
   ]
  },
  {
   "cell_type": "markdown",
   "id": "likely-logan",
   "metadata": {},
   "source": [
    "# Distribution of Numerical Variables"
   ]
  },
  {
   "cell_type": "markdown",
   "id": "grave-indication",
   "metadata": {},
   "source": [
    "First it is important to note that the data is highly imbalanced as with most churn prediction problems. Only 16% of customers have churned (minority class), and the rest 84% are active customers (majority class). For this reason, we will approach this problem as an imbalanced classification task."
   ]
  },
  {
   "cell_type": "code",
   "execution_count": null,
   "id": "resident-stack",
   "metadata": {},
   "outputs": [],
   "source": [
    "px.pie(data_frame=d, names='churn', \n",
    "       title='Proportion of Attrited to Existing Customers', \n",
    "       color_discrete_sequence=[\"rgb(68, 130, 155)\",\"rgb(64, 60, 115)\"],\n",
    "#        color_discrete_map={\"Existing Customer\":\"rgb(68, 130, 155)\",\n",
    "#                            \"Attrited Customer\":\"rgb(64, 60, 115)\"},\n",
    "       labels={'churn':'Customer Type'},\n",
    "       opacity=.8, hole=0.33, width=700, height=700*(5/8))"
   ]
  },
  {
   "cell_type": "code",
   "execution_count": null,
   "id": "federal-track",
   "metadata": {},
   "outputs": [],
   "source": [
    "# Make a visualization variable of interest\n",
    "d['tx_amt_pertx_r12'] = d['tx_amt_r12']/d['tx_ct_r12']"
   ]
  },
  {
   "cell_type": "code",
   "execution_count": null,
   "id": "caroline-pilot",
   "metadata": {},
   "outputs": [],
   "source": [
    "def plot_distr_num(var_num, display_name, barmode='overlay'):\n",
    "    fig = px.histogram(d, x=d[var_num], color='churn', marginal='box',\n",
    "                       title=f'Distribution of {display_name} by Churn Status',\n",
    "                       width=800,\n",
    "                       height=500,\n",
    "                       labels={var_num: display_name,  \n",
    "                               'churn': 'Customer Type'},\n",
    "                       opacity=0.5,\n",
    "                       color_discrete_map={\n",
    "                           'Attrited Customer':'rgb(64, 60, 115)',\n",
    "                           'Existing Customer':'rgb(68, 130, 155)'},\n",
    "                       category_orders={\n",
    "                           'Churn':['Attrited Customer','Existing Customer']},\n",
    "                       hover_data=d[['age', 'gender', 'educ_cat', 'inc_cat']])\n",
    "    fig.update_layout(legend=dict(orientation=\"h\",\n",
    "                                  yanchor=\"bottom\", y=1,\n",
    "                                  xanchor=\"right\", x=0.99),\n",
    "                      barmode=barmode,\n",
    "                      title_text=f'Distribution of {display_name} by Churn Status')\n",
    "    fig.show()"
   ]
  },
  {
   "cell_type": "code",
   "execution_count": null,
   "id": "designing-audio",
   "metadata": {},
   "outputs": [],
   "source": [
    "plot_distr_num('age', 'Age')"
   ]
  },
  {
   "cell_type": "code",
   "execution_count": null,
   "id": "municipal-strike",
   "metadata": {},
   "outputs": [],
   "source": [
    "plot_distr_num('dependents', 'Number of Dependents')"
   ]
  },
  {
   "cell_type": "code",
   "execution_count": null,
   "id": "structural-fever",
   "metadata": {},
   "outputs": [],
   "source": [
    "plot_distr_num('prod_ct', 'Number of Products')"
   ]
  },
  {
   "cell_type": "code",
   "execution_count": null,
   "id": "medium-bulletin",
   "metadata": {},
   "outputs": [],
   "source": [
    "plot_distr_num('mo_on_book', 'Months on Book')"
   ]
  },
  {
   "cell_type": "markdown",
   "id": "whole-disco",
   "metadata": {},
   "source": [
    "The positive excess kurtosis of 0.4 represents a leptokurtic distribution where the distribution is more peaked compared to a gaussian distribution. The peak results from data points that are clustered along the x-axis. The tails are also heavier compared to those of a gaussian distribution. The coefficient of kurtosis is usally greater than 3, meaning that the excess kurtosis agaist the kurtosis of a normal distribution at 3 is positive.\n",
    "\n",
    "A leptokurtic distribution means that small changes are less frequent since most of the data points are clustered around the mean. However, there are also large fluctuations in the both extremes, which can be seen by the heavy tails. "
   ]
  },
  {
   "cell_type": "code",
   "execution_count": null,
   "id": "european-universe",
   "metadata": {},
   "outputs": [],
   "source": [
    "print('Kurtosis of months on book is %.3f.' %d['mo_on_book'].kurt())"
   ]
  },
  {
   "cell_type": "code",
   "execution_count": null,
   "id": "distant-newcastle",
   "metadata": {},
   "outputs": [],
   "source": [
    "plot_distr_num('mo_inactive_r12', 'Months Inactive, R12')"
   ]
  },
  {
   "cell_type": "code",
   "execution_count": null,
   "id": "tender-graph",
   "metadata": {},
   "outputs": [],
   "source": [
    "plot_distr_num('contr_ct_r12', 'Number of Contracts, R12')"
   ]
  },
  {
   "cell_type": "code",
   "execution_count": null,
   "id": "processed-march",
   "metadata": {},
   "outputs": [],
   "source": [
    "plot_distr_num('revbal_avg_r12', 'Revolving Balance, R12 Avg')"
   ]
  },
  {
   "cell_type": "code",
   "execution_count": null,
   "id": "remarkable-facility",
   "metadata": {},
   "outputs": [],
   "source": [
    "plot_distr_num('credlim_avg_r12', 'Credit Limit, R12 Avg')"
   ]
  },
  {
   "cell_type": "code",
   "execution_count": null,
   "id": "competent-williams",
   "metadata": {},
   "outputs": [],
   "source": [
    "plot_distr_num('utilratio_avg', 'Utilization Ratio, R12 Avg')"
   ]
  },
  {
   "cell_type": "code",
   "execution_count": null,
   "id": "turkish-underwear",
   "metadata": {},
   "outputs": [],
   "source": [
    "plot_distr_num('tx_amt_r12', 'Transaction Amt, R12 Avg')"
   ]
  },
  {
   "cell_type": "code",
   "execution_count": null,
   "id": "comic-degree",
   "metadata": {},
   "outputs": [],
   "source": [
    "plot_distr_num('tx_amt_pertx_r12', 'Avg Amt per Transaction')"
   ]
  },
  {
   "cell_type": "code",
   "execution_count": null,
   "id": "recognized-cemetery",
   "metadata": {},
   "outputs": [],
   "source": [
    "plot_distr_num('chng_tx_amt_q4_q1', 'Change in Transaction Amt, QoQ')"
   ]
  },
  {
   "cell_type": "markdown",
   "id": "weekly-council",
   "metadata": {},
   "source": [
    "# Distribution of Categorical Variables"
   ]
  },
  {
   "cell_type": "code",
   "execution_count": null,
   "id": "million-customer",
   "metadata": {},
   "outputs": [],
   "source": [
    "def plot_distr_cat(var_cat, var_cat_display_name):\n",
    "    \n",
    "    palette_orig = px.colors.sequential.deep[::-1]\n",
    "    palette_new = [palette_orig[0],palette_orig[2],palette_orig[4],\n",
    "                   palette_orig[5],palette_orig[6],palette_orig[8],palette_orig[9]]\n",
    "    \n",
    "    d_bar = d.groupby('churn')[var_cat].value_counts().reset_index(name='ct')\n",
    "    churn_ct_tot = d_bar.groupby('churn')['ct'].transform('sum')\n",
    "    d_bar['%'] = d_bar['ct']/churn_ct_tot*100\n",
    "    d_bar['churn'] = d_bar['churn'].map({'Existing Customer': 'Existing',\n",
    "                                         'Attrited Customer': 'Attrited'})\n",
    "    churn1 = d_bar[d_bar['churn']=='Attrited']\n",
    "    churn0 = d_bar[d_bar['churn']=='Existing']\n",
    "    \n",
    "    tr0 = go.Bar(x=churn0['%'],\n",
    "                 y=churn0['churn'],\n",
    "                 name='Existing',\n",
    "                 showlegend=False,\n",
    "                 orientation='h',\n",
    "                 hovertext=churn0['ct'],\n",
    "                 text=churn0[var_cat],\n",
    "                 texttemplate = \"%{text} %{x:.0f}% <br>(%{hovertext:,d})\",\n",
    "                 textfont=dict(size=12, color='white'),\n",
    "                 textposition = \"inside\",\n",
    "                 marker=dict(color=palette_new, line=dict(color='rgb(248, 248, 249)', width=0.5)))\n",
    "    tr1 = go.Bar(x=churn1['%'],\n",
    "                 y=churn1['churn'],\n",
    "                 name='Attrited',\n",
    "                 showlegend=False,\n",
    "                 orientation='h',\n",
    "                 hovertext=churn1['ct'],\n",
    "                 text=churn1[var_cat],\n",
    "                 texttemplate = \"%{text} %{x:.0f}% <br>(%{hovertext:,d})\",\n",
    "                 textfont=dict(size=12, color='white'),\n",
    "                 textposition = \"inside\",\n",
    "                 marker=dict(color=palette_new, line=dict(color='rgb(248, 248, 249)', width=0.5)))\n",
    "\n",
    "    data = [tr0, tr1]\n",
    "    layout = go.Layout(barmode = 'stack',\n",
    "                       title=f'<b>Distribution of {var_cat_display_name} by Churn Status<b>',\n",
    "                       xaxis=dict(title=f'{var_cat_display_name} (%)',\n",
    "                                  titlefont_size=16,\n",
    "#                                   categoryorder='array',\n",
    "#                                   categoryarray=var_cat_display_order,\n",
    "                                  tickmode='array',\n",
    "                                  ticktext=['0%', '10%', '20%', '30%', '40%', '50%', '60%', '70%', '80%', '90%', '100%'],\n",
    "                                  tickfont_size=14,\n",
    "                                  tickangle=0),\n",
    "                       yaxis=dict(title='Customer Type',\n",
    "                                  titlefont_size=16,\n",
    "                                  tickfont_size=14,\n",
    "                                  tickangle=-90),\n",
    "                       margin=dict(l=120, r=10, t=140, b=80),\n",
    "                       bargap=0.2,\n",
    "                       bargroupgap=0.1,\n",
    "                       width=1000,\n",
    "                       height=500)\n",
    "    \n",
    "    fig = go.Figure(data=data, layout=layout)\n",
    "    \n",
    "    fig.show()"
   ]
  },
  {
   "cell_type": "code",
   "execution_count": null,
   "id": "provincial-logan",
   "metadata": {},
   "outputs": [],
   "source": [
    "plot_distr_cat('educ_cat', 'Education Level')"
   ]
  },
  {
   "cell_type": "code",
   "execution_count": null,
   "id": "noble-elder",
   "metadata": {},
   "outputs": [],
   "source": [
    "plot_distr_cat('inc_cat', 'Income Level')"
   ]
  },
  {
   "cell_type": "code",
   "execution_count": null,
   "id": "portable-target",
   "metadata": {},
   "outputs": [],
   "source": [
    "plot_distr_cat('marstat', 'Marital Status')"
   ]
  },
  {
   "cell_type": "code",
   "execution_count": null,
   "id": "enclosed-oakland",
   "metadata": {},
   "outputs": [],
   "source": [
    "plot_distr_cat('dependents', 'Number of Dependents')"
   ]
  },
  {
   "cell_type": "code",
   "execution_count": null,
   "id": "contemporary-excerpt",
   "metadata": {},
   "outputs": [],
   "source": [
    "plot_distr_cat('mo_inactive_r12', 'R12 Inactive Months')"
   ]
  },
  {
   "cell_type": "code",
   "execution_count": null,
   "id": "italian-preparation",
   "metadata": {},
   "outputs": [],
   "source": [
    "plot_distr_cat('prod_ct', 'Number of Products Held')"
   ]
  },
  {
   "cell_type": "markdown",
   "id": "documentary-dakota",
   "metadata": {},
   "source": [
    "# Variance to Baseline"
   ]
  },
  {
   "cell_type": "code",
   "execution_count": null,
   "id": "seven-forest",
   "metadata": {},
   "outputs": [],
   "source": [
    "def plot_var_to_baseline(var_cat, var_cat_display_name, var_cat_display_order):\n",
    "    \n",
    "    d_bar = d.groupby(var_cat)['churn'].value_counts().unstack(level=-1).reset_index().rename(\n",
    "        columns={'Attrited Customer':'attrited', \n",
    "                 'Existing Customer':'existing'})\n",
    "    d_bar['total'] = d_bar['attrited']+d_bar['existing']\n",
    "\n",
    "    d_bar['%_attrited_class'] = d_bar['attrited']/sum(d_bar['attrited'])\n",
    "    d_bar['%_existing_class'] = d_bar['existing']/sum(d_bar['existing'])\n",
    "    d_bar['attrited_vs_existing'] = d_bar['%_attrited_class'] - d_bar['%_existing_class']\n",
    "\n",
    "    tr = go.Bar(x=d_bar[var_cat],\n",
    "                y=d_bar['attrited_vs_existing'],\n",
    "                name='Attrited vs. Existing Customers',\n",
    "                marker_color='rgba(64, 60, 115, 0.7)')\n",
    "\n",
    "    data = [tr]\n",
    "    \n",
    "    layout = go.Layout(barmode = \"stack\",\n",
    "                       title=f'Variance to Baseline of Attrited Customers by {var_cat_display_name}',\n",
    "                       xaxis=dict(title=var_cat_display_name,\n",
    "                                 titlefont_size=14,\n",
    "                                 tickfont_size=12,\n",
    "                                 tickangle=30,\n",
    "                                 categoryorder='array',\n",
    "                                 categoryarray=var_cat_display_order),\n",
    "                       yaxis=dict(title='Variance to Baseline',\n",
    "                                 titlefont_size=14,\n",
    "                                 tickfont_size=12,\n",
    "                                tickformat=\"%\"),\n",
    "                       bargap=0.2,\n",
    "                       bargroupgap=0.1,\n",
    "                       width=600,\n",
    "                       height=400)\n",
    "    fig = go.Figure(data=data, layout=layout)\n",
    "    fig.show()"
   ]
  },
  {
   "cell_type": "code",
   "execution_count": null,
   "id": "based-sewing",
   "metadata": {},
   "outputs": [],
   "source": [
    "order_cat = ['Unknown', 'Uneducated', 'High School', \n",
    "              'College', 'Graduate', 'Post-Graduate', 'Doctorate']\n",
    "plot_var_to_baseline('educ_cat', 'Education Level', order_cat)"
   ]
  },
  {
   "cell_type": "code",
   "execution_count": null,
   "id": "wanted-tooth",
   "metadata": {},
   "outputs": [],
   "source": [
    "order_cat = ['Unknown', 'Less than $40K', '$40K-60K', \n",
    "              '$60K-80K', '$80K-120K', '$120K+']\n",
    "plot_var_to_baseline('inc_cat', 'Income Level', order_cat)"
   ]
  },
  {
   "cell_type": "code",
   "execution_count": null,
   "id": "lesser-reunion",
   "metadata": {},
   "outputs": [],
   "source": [
    "order_cat = ['Unknown', 'Single', 'Married', 'Divorced']\n",
    "plot_var_to_baseline('marstat', 'Marital Status', order_cat)"
   ]
  },
  {
   "cell_type": "code",
   "execution_count": null,
   "id": "supreme-network",
   "metadata": {},
   "outputs": [],
   "source": [
    "order_cat = ['Blue', 'Silver', 'Gold', 'Platinum']\n",
    "plot_var_to_baseline('card_cat', 'Card Type', order_cat)"
   ]
  },
  {
   "cell_type": "markdown",
   "id": "characteristic-instruction",
   "metadata": {},
   "source": [
    "# Probabilities"
   ]
  },
  {
   "cell_type": "markdown",
   "id": "plain-parcel",
   "metadata": {},
   "source": [
    "<a id=\"1.2\"></a>\n",
    "<h2 style=\"background-color:rgb(141, 153, 165);\n",
    "           font-size:250%;\n",
    "           color:white;\n",
    "           text-align:center;\n",
    "           margin: auto;\n",
    "           padding: 10px;\">Pre-Split Data Processing</h2>"
   ]
  },
  {
   "cell_type": "markdown",
   "id": "optical-saudi",
   "metadata": {},
   "source": [
    "We now conduct minimal data preprocessing that does not contribute to data leakage. Data leakage occurs when information from the test set leaks into the train set resulting in more optimistic performance metrics but less robust model against new data. To prevent data leakage, we will avoid using statistics such as mean and standard deviation etc. from the whole dataset to scale, impute, and feature engineer. Instead, we apply simple data type transformations and row-based feature engineering."
   ]
  },
  {
   "cell_type": "markdown",
   "id": "million-binary",
   "metadata": {},
   "source": [
    "# Treatment of `Unknown`'s "
   ]
  },
  {
   "cell_type": "markdown",
   "id": "cooperative-visit",
   "metadata": {},
   "source": [
    "In this section, we examine the costs and benefits of dropping all the `nan`-equivalent classes `Unknown`'s identified in `educ_cat`, `inc_cat` and `marstat`. Below is the remaining sample if we were to drop all the `Unknown`'s in order to eliminate noise as much as possible."
   ]
  },
  {
   "cell_type": "code",
   "execution_count": 10,
   "id": "roman-sodium",
   "metadata": {},
   "outputs": [],
   "source": [
    "def d_leftover(data, varlist):\n",
    "    dic_leftover = {}\n",
    "    for col in varlist:\n",
    "        orig_data_ct = len(data)\n",
    "        rem_data_ct = len(data.drop(data[col][data[col]=='Unknown'].index))\n",
    "        perc_captured = round(rem_data_ct/orig_data_ct*100,0)\n",
    "        dic_leftover[data[col].name] = [rem_data_ct, perc_captured]\n",
    "        print(f\"\"\"Remaining sample when dropping `{data[col].name}`: {rem_data_ct} cases or {perc_captured}% of the original data \\n\"\"\")\n",
    "    rem_data_ct_if_all = len(d[d!='Unknown'].dropna())\n",
    "    perc_captured_if_all = round(rem_data_ct_if_all/orig_data_ct*100,0)\n",
    "    print(f\"\"\"Remaining sample when dropping all `unknowns`: {rem_data_ct_if_all} cases or {perc_captured_if_all}% of the original data \\n\"\"\")"
   ]
  },
  {
   "cell_type": "code",
   "execution_count": 11,
   "id": "independent-combat",
   "metadata": {},
   "outputs": [
    {
     "name": "stdout",
     "output_type": "stream",
     "text": [
      "Remaining sample when dropping `educ_cat`: 8608 cases or 85.0% of the original data \n",
      "\n",
      "Remaining sample when dropping `inc_cat`: 9015 cases or 89.0% of the original data \n",
      "\n",
      "Remaining sample when dropping `marstat`: 9378 cases or 93.0% of the original data \n",
      "\n",
      "Remaining sample when dropping all `unknowns`: 7081 cases or 70.0% of the original data \n",
      "\n"
     ]
    }
   ],
   "source": [
    "d_leftover(d, [\"educ_cat\",\"inc_cat\",\"marstat\"])"
   ]
  },
  {
   "cell_type": "markdown",
   "id": "stainless-stewart",
   "metadata": {},
   "source": [
    "The loss of sample is 30% if we drop all of the `Unknown`'s. For this reason, we will not drop any of these \"Unknown\" cases. The \"Unknown\" cases for `educ_cat` will be assigned the same value as the `Uneducated` class, a value of `0`. Assumption is that most people who did not provide their education level might have been disinclined to do so due to their lower education status. Same assumption applies to `inc_cat`. We will transform `marstat` to dummies as `marstat` will be treated as non-ordinal."
   ]
  },
  {
   "cell_type": "markdown",
   "id": "august-sender",
   "metadata": {},
   "source": [
    "# Data Types"
   ]
  },
  {
   "cell_type": "code",
   "execution_count": 12,
   "id": "agricultural-reporter",
   "metadata": {},
   "outputs": [
    {
     "data": {
      "text/plain": [
       "array([dtype('O'), dtype('int64'), dtype('float64')], dtype=object)"
      ]
     },
     "execution_count": 12,
     "metadata": {},
     "output_type": "execute_result"
    }
   ],
   "source": [
    "# Types of data present in data\n",
    "d.dtypes.unique()"
   ]
  },
  {
   "cell_type": "code",
   "execution_count": 13,
   "id": "photographic-european",
   "metadata": {},
   "outputs": [
    {
     "data": {
      "text/plain": [
       "churn                 object\n",
       "age                    int64\n",
       "gender                object\n",
       "educ_cat              object\n",
       "inc_cat               object\n",
       "marstat               object\n",
       "dependents             int64\n",
       "card_cat              object\n",
       "prod_ct                int64\n",
       "mo_on_book             int64\n",
       "mo_inactive_r12        int64\n",
       "contr_ct_r12           int64\n",
       "revbal_avg_r12         int64\n",
       "credlim_avg_r12      float64\n",
       "opentobuy_avg_r12    float64\n",
       "utilratio_avg        float64\n",
       "tx_amt_r12             int64\n",
       "tx_ct_r12              int64\n",
       "chng_tx_amt_q4_q1    float64\n",
       "chng_tx_ct_q4_q1     float64\n",
       "dtype: object"
      ]
     },
     "execution_count": 13,
     "metadata": {},
     "output_type": "execute_result"
    }
   ],
   "source": [
    "# Current data type for each column\n",
    "d.dtypes"
   ]
  },
  {
   "cell_type": "markdown",
   "id": "normal-explosion",
   "metadata": {},
   "source": [
    "## Discrete Variable Classes"
   ]
  },
  {
   "cell_type": "code",
   "execution_count": 14,
   "id": "pregnant-discipline",
   "metadata": {},
   "outputs": [
    {
     "name": "stdout",
     "output_type": "stream",
     "text": [
      "churn\n",
      "    Data Type: object\n",
      "    Unique Counts: 2\n",
      "    Unique Values: ['Attrited Customer' 'Existing Customer']\n",
      "\n",
      "age\n",
      "    Data Type: int64\n",
      "    Unique Counts: 45\n",
      "    Unique Values: [26 27 28 29 30 31 32 33 34 35 36 37 38 39 40 41 42 43 44 45 46 47 48 49\n",
      " 50 51 52 53 54 55 56 57 58 59 60 61 62 63 64 65 66 67 68 70 73]\n",
      "\n",
      "gender\n",
      "    Data Type: object\n",
      "    Unique Counts: 2\n",
      "    Unique Values: ['F' 'M']\n",
      "\n",
      "educ_cat\n",
      "    Data Type: object\n",
      "    Unique Counts: 7\n",
      "    Unique Values: ['College' 'Doctorate' 'Graduate' 'High School' 'Post-Graduate'\n",
      " 'Uneducated' 'Unknown']\n",
      "\n",
      "inc_cat\n",
      "    Data Type: object\n",
      "    Unique Counts: 6\n",
      "    Unique Values: ['$120K+' '$40K-60K' '$60K-80K' '$80K-120K' 'Less than $40K' 'Unknown']\n",
      "\n",
      "marstat\n",
      "    Data Type: object\n",
      "    Unique Counts: 4\n",
      "    Unique Values: ['Divorced' 'Married' 'Single' 'Unknown']\n",
      "\n",
      "dependents\n",
      "    Data Type: int64\n",
      "    Unique Counts: 6\n",
      "    Unique Values: [0 1 2 3 4 5]\n",
      "\n",
      "card_cat\n",
      "    Data Type: object\n",
      "    Unique Counts: 4\n",
      "    Unique Values: ['Blue' 'Gold' 'Platinum' 'Silver']\n",
      "\n",
      "prod_ct\n",
      "    Data Type: int64\n",
      "    Unique Counts: 6\n",
      "    Unique Values: [1 2 3 4 5 6]\n",
      "\n",
      "mo_on_book\n",
      "    Data Type: int64\n",
      "    Unique Counts: 44\n",
      "    Unique Values: [13 14 15 16 17 18 19 20 21 22 23 24 25 26 27 28 29 30 31 32 33 34 35 36\n",
      " 37 38 39 40 41 42 43 44 45 46 47 48 49 50 51 52 53 54 55 56]\n",
      "\n",
      "mo_inactive_r12\n",
      "    Data Type: int64\n",
      "    Unique Counts: 7\n",
      "    Unique Values: [0 1 2 3 4 5 6]\n",
      "\n",
      "contr_ct_r12\n",
      "    Data Type: int64\n",
      "    Unique Counts: 7\n",
      "    Unique Values: [0 1 2 3 4 5 6]\n",
      "\n",
      "revbal_avg_r12\n",
      "    Data Type: int64\n",
      "    Unique Counts: 1974\n",
      "    Unique Values: [   0  132  134 ... 2513 2514 2517]\n",
      "\n",
      "tx_amt_r12\n",
      "    Data Type: int64\n",
      "    Unique Counts: 5033\n",
      "    Unique Values: [  510   530   563 ... 17744 17995 18484]\n",
      "\n",
      "tx_ct_r12\n",
      "    Data Type: int64\n",
      "    Unique Counts: 126\n",
      "    Unique Values: [ 10  11  12  13  14  15  16  17  18  19  20  21  22  23  24  25  26  27\n",
      "  28  29  30  31  32  33  34  35  36  37  38  39  40  41  42  43  44  45\n",
      "  46  47  48  49  50  51  52  53  54  55  56  57  58  59  60  61  62  63\n",
      "  64  65  66  67  68  69  70  71  72  73  74  75  76  77  78  79  80  81\n",
      "  82  83  84  85  86  87  88  89  90  91  92  93  94  95  96  97  98  99\n",
      " 100 101 102 103 104 105 106 107 108 109 110 111 112 113 114 115 116 117\n",
      " 118 119 120 121 122 123 124 125 126 127 128 129 130 131 132 134 138 139]\n",
      "\n"
     ]
    }
   ],
   "source": [
    "d_discrete = d.select_dtypes(['int64','object'])\n",
    "for col in d_discrete:\n",
    "    print(f\"\"\"{d_discrete[col].name}\n",
    "    Data Type: {d_discrete[col].dtype}\n",
    "    Unique Counts: {d_discrete[col].nunique()}\n",
    "    Unique Values: {d_discrete[col].sort_values().unique()}\\n\"\"\")"
   ]
  },
  {
   "cell_type": "markdown",
   "id": "practical-plain",
   "metadata": {},
   "source": [
    "## Continuous & Discrete Variables"
   ]
  },
  {
   "cell_type": "code",
   "execution_count": 15,
   "id": "metropolitan-horse",
   "metadata": {},
   "outputs": [
    {
     "name": "stdout",
     "output_type": "stream",
     "text": [
      "Discrete Variables: ['churn', 'age', 'gender', 'educ_cat', 'inc_cat', 'marstat', 'dependents', 'card_cat', 'prod_ct', 'mo_on_book', 'mo_inactive_r12', 'contr_ct_r12', 'revbal_avg_r12', 'tx_amt_r12', 'tx_ct_r12']\n",
      "\n",
      "Continuous Variables: ['credlim_avg_r12', 'opentobuy_avg_r12', 'utilratio_avg', 'chng_tx_amt_q4_q1', 'chng_tx_ct_q4_q1']\n"
     ]
    }
   ],
   "source": [
    "# split continuous & discrete variables\n",
    "d_discrete = d.select_dtypes(['int64','object'])\n",
    "d_continuous = d.select_dtypes(['float64'])\n",
    "print(f\"\"\"Discrete Variables: {list(d_discrete)}\\n\\nContinuous Variables: {list(d_continuous)}\"\"\")"
   ]
  },
  {
   "cell_type": "markdown",
   "id": "armed-classics",
   "metadata": {},
   "source": [
    "## Data Type Transformation"
   ]
  },
  {
   "cell_type": "markdown",
   "id": "republican-revision",
   "metadata": {},
   "source": [
    "### Non-Ordinal - Integer to Float\n",
    "\n",
    "* `revbal_avg_r12`\n",
    "* `tx_amt_r12`"
   ]
  },
  {
   "cell_type": "markdown",
   "id": "fluid-processor",
   "metadata": {},
   "source": [
    "These variables are dollar amounts and are continuous up to tenths place. Therefore, we need to transform the data types to `float` from `int`."
   ]
  },
  {
   "cell_type": "code",
   "execution_count": 16,
   "id": "numerical-pontiac",
   "metadata": {},
   "outputs": [],
   "source": [
    "d['revbal_avg_r12'] = d['revbal_avg_r12'].astype(float)\n",
    "d['tx_amt_r12'] = d['tx_amt_r12'].astype(float)"
   ]
  },
  {
   "cell_type": "markdown",
   "id": "informed-cathedral",
   "metadata": {},
   "source": [
    "### Non-Ordinal - String to Dummies"
   ]
  },
  {
   "cell_type": "markdown",
   "id": "several-utility",
   "metadata": {},
   "source": [
    "#### *Bi-Class*\n",
    "\n",
    "* `churn`\n",
    "* `gender`"
   ]
  },
  {
   "cell_type": "code",
   "execution_count": 17,
   "id": "mediterranean-franklin",
   "metadata": {},
   "outputs": [],
   "source": [
    "d['churn'] = d['churn'].map({'Existing Customer': 0, 'Attrited Customer': 1})\n",
    "d['gender'] = d['gender'].map({'M': 1, 'F': 0})"
   ]
  },
  {
   "cell_type": "markdown",
   "id": "certified-smith",
   "metadata": {},
   "source": [
    "#### *Multi-Class*\n",
    "\n",
    "* `marstat`\n",
    "* `card_cat`"
   ]
  },
  {
   "cell_type": "markdown",
   "id": "bulgarian-monitoring",
   "metadata": {},
   "source": [
    "Even though `card_cat` can be regarded as ordinal, I decided to turn it into dummies as 93% of all customers have the Blue card out of the 4 possible card types."
   ]
  },
  {
   "cell_type": "code",
   "execution_count": 39,
   "id": "committed-money",
   "metadata": {},
   "outputs": [
    {
     "name": "stdout",
     "output_type": "stream",
     "text": [
      "Percentage of Blue card holders: 0.932\n"
     ]
    }
   ],
   "source": [
    "print('Percentage of Blue card holders: %.3f' % (d_orig.groupby('card_cat').card_cat.count()[0]/len(d_orig)))"
   ]
  },
  {
   "cell_type": "code",
   "execution_count": 18,
   "id": "owned-raise",
   "metadata": {},
   "outputs": [],
   "source": [
    "d_dummies_marstat = pd.get_dummies(data=d['marstat'], prefix='marstat')\n",
    "d_dummies_card = pd.get_dummies(data=d['card_cat'], prefix='card')"
   ]
  },
  {
   "cell_type": "code",
   "execution_count": 19,
   "id": "stunning-contributor",
   "metadata": {},
   "outputs": [
    {
     "data": {
      "text/html": [
       "<div>\n",
       "<style scoped>\n",
       "    .dataframe tbody tr th:only-of-type {\n",
       "        vertical-align: middle;\n",
       "    }\n",
       "\n",
       "    .dataframe tbody tr th {\n",
       "        vertical-align: top;\n",
       "    }\n",
       "\n",
       "    .dataframe thead th {\n",
       "        text-align: right;\n",
       "    }\n",
       "</style>\n",
       "<table border=\"1\" class=\"dataframe\">\n",
       "  <thead>\n",
       "    <tr style=\"text-align: right;\">\n",
       "      <th></th>\n",
       "      <th>churn</th>\n",
       "      <th>age</th>\n",
       "      <th>gender</th>\n",
       "      <th>educ_cat</th>\n",
       "      <th>inc_cat</th>\n",
       "      <th>marstat</th>\n",
       "      <th>dependents</th>\n",
       "      <th>card_cat</th>\n",
       "      <th>prod_ct</th>\n",
       "      <th>mo_on_book</th>\n",
       "      <th>...</th>\n",
       "      <th>chng_tx_amt_q4_q1</th>\n",
       "      <th>chng_tx_ct_q4_q1</th>\n",
       "      <th>marstat_Divorced</th>\n",
       "      <th>marstat_Married</th>\n",
       "      <th>marstat_Single</th>\n",
       "      <th>marstat_Unknown</th>\n",
       "      <th>card_Blue</th>\n",
       "      <th>card_Gold</th>\n",
       "      <th>card_Platinum</th>\n",
       "      <th>card_Silver</th>\n",
       "    </tr>\n",
       "  </thead>\n",
       "  <tbody>\n",
       "    <tr>\n",
       "      <th>7124</th>\n",
       "      <td>0</td>\n",
       "      <td>51</td>\n",
       "      <td>0</td>\n",
       "      <td>Graduate</td>\n",
       "      <td>Less than $40K</td>\n",
       "      <td>Single</td>\n",
       "      <td>2</td>\n",
       "      <td>Blue</td>\n",
       "      <td>3</td>\n",
       "      <td>39</td>\n",
       "      <td>...</td>\n",
       "      <td>0.77</td>\n",
       "      <td>0.72</td>\n",
       "      <td>0</td>\n",
       "      <td>0</td>\n",
       "      <td>1</td>\n",
       "      <td>0</td>\n",
       "      <td>1</td>\n",
       "      <td>0</td>\n",
       "      <td>0</td>\n",
       "      <td>0</td>\n",
       "    </tr>\n",
       "    <tr>\n",
       "      <th>5168</th>\n",
       "      <td>1</td>\n",
       "      <td>30</td>\n",
       "      <td>0</td>\n",
       "      <td>Uneducated</td>\n",
       "      <td>Less than $40K</td>\n",
       "      <td>Divorced</td>\n",
       "      <td>1</td>\n",
       "      <td>Blue</td>\n",
       "      <td>6</td>\n",
       "      <td>19</td>\n",
       "      <td>...</td>\n",
       "      <td>0.82</td>\n",
       "      <td>0.52</td>\n",
       "      <td>1</td>\n",
       "      <td>0</td>\n",
       "      <td>0</td>\n",
       "      <td>0</td>\n",
       "      <td>1</td>\n",
       "      <td>0</td>\n",
       "      <td>0</td>\n",
       "      <td>0</td>\n",
       "    </tr>\n",
       "    <tr>\n",
       "      <th>9647</th>\n",
       "      <td>0</td>\n",
       "      <td>52</td>\n",
       "      <td>1</td>\n",
       "      <td>Unknown</td>\n",
       "      <td>$60K-80K</td>\n",
       "      <td>Single</td>\n",
       "      <td>5</td>\n",
       "      <td>Blue</td>\n",
       "      <td>2</td>\n",
       "      <td>36</td>\n",
       "      <td>...</td>\n",
       "      <td>0.75</td>\n",
       "      <td>0.85</td>\n",
       "      <td>0</td>\n",
       "      <td>0</td>\n",
       "      <td>1</td>\n",
       "      <td>0</td>\n",
       "      <td>1</td>\n",
       "      <td>0</td>\n",
       "      <td>0</td>\n",
       "      <td>0</td>\n",
       "    </tr>\n",
       "  </tbody>\n",
       "</table>\n",
       "<p>3 rows × 28 columns</p>\n",
       "</div>"
      ],
      "text/plain": [
       "      churn  age  gender    educ_cat         inc_cat   marstat  dependents  \\\n",
       "7124      0   51       0    Graduate  Less than $40K    Single           2   \n",
       "5168      1   30       0  Uneducated  Less than $40K  Divorced           1   \n",
       "9647      0   52       1     Unknown        $60K-80K    Single           5   \n",
       "\n",
       "     card_cat  prod_ct  mo_on_book  ...  chng_tx_amt_q4_q1  chng_tx_ct_q4_q1  \\\n",
       "7124     Blue        3          39  ...               0.77              0.72   \n",
       "5168     Blue        6          19  ...               0.82              0.52   \n",
       "9647     Blue        2          36  ...               0.75              0.85   \n",
       "\n",
       "      marstat_Divorced  marstat_Married  marstat_Single  marstat_Unknown  \\\n",
       "7124                 0                0               1                0   \n",
       "5168                 1                0               0                0   \n",
       "9647                 0                0               1                0   \n",
       "\n",
       "      card_Blue  card_Gold  card_Platinum  card_Silver  \n",
       "7124          1          0              0            0  \n",
       "5168          1          0              0            0  \n",
       "9647          1          0              0            0  \n",
       "\n",
       "[3 rows x 28 columns]"
      ]
     },
     "execution_count": 19,
     "metadata": {},
     "output_type": "execute_result"
    }
   ],
   "source": [
    "d = pd.concat([d, d_dummies_marstat, d_dummies_card], axis=1)\n",
    "d.sample(3)"
   ]
  },
  {
   "cell_type": "markdown",
   "id": "abandoned-intro",
   "metadata": {},
   "source": [
    "### Ordinal - String to Ordinal\n",
    "\n",
    "* `educ_cat`\n",
    "* `inc_cat`"
   ]
  },
  {
   "cell_type": "code",
   "execution_count": 20,
   "id": "vanilla-edinburgh",
   "metadata": {},
   "outputs": [],
   "source": [
    "d['educ'] = d['educ_cat'].map({'Unknown':0,\n",
    "                               'Uneducated':0,\n",
    "                               'High School':1,\n",
    "                               'College':2,\n",
    "                               'Graduate':3,\n",
    "                               'Post-Graduate':4,\n",
    "                               'Doctorate':5})\n",
    "\n",
    "d['inc'] = d['inc_cat'].map({'Unknown':0,\n",
    "                             'Less than $40K':1,\n",
    "                             '$40K-60K':2,\n",
    "                             '$60K-80K':3,\n",
    "                             '$80K-120K':4,\n",
    "                             '$120K+':5})"
   ]
  },
  {
   "cell_type": "markdown",
   "id": "empirical-playback",
   "metadata": {},
   "source": [
    "### Feature Engineering without Data Leakage"
   ]
  },
  {
   "cell_type": "code",
   "execution_count": 21,
   "id": "occupied-celebrity",
   "metadata": {},
   "outputs": [],
   "source": [
    "# add a variable just to explore\n",
    "d['tx_amt_pertx_r12'] = d['tx_amt_r12']/d['tx_ct_r12']"
   ]
  },
  {
   "cell_type": "code",
   "execution_count": 22,
   "id": "amateur-reggae",
   "metadata": {},
   "outputs": [],
   "source": [
    "# save full dataset\n",
    "d_full = copy.deepcopy(d)"
   ]
  },
  {
   "cell_type": "code",
   "execution_count": 23,
   "id": "corresponding-dividend",
   "metadata": {},
   "outputs": [],
   "source": [
    "# drop unnecessary variables for the data to fit \n",
    "d = d.drop(d[['educ_cat', 'inc_cat', 'marstat', 'card_cat']], axis=1)"
   ]
  },
  {
   "cell_type": "code",
   "execution_count": 24,
   "id": "golden-guard",
   "metadata": {},
   "outputs": [
    {
     "data": {
      "text/html": [
       "<div>\n",
       "<style scoped>\n",
       "    .dataframe tbody tr th:only-of-type {\n",
       "        vertical-align: middle;\n",
       "    }\n",
       "\n",
       "    .dataframe tbody tr th {\n",
       "        vertical-align: top;\n",
       "    }\n",
       "\n",
       "    .dataframe thead th {\n",
       "        text-align: right;\n",
       "    }\n",
       "</style>\n",
       "<table border=\"1\" class=\"dataframe\">\n",
       "  <thead>\n",
       "    <tr style=\"text-align: right;\">\n",
       "      <th></th>\n",
       "      <th>churn</th>\n",
       "      <th>age</th>\n",
       "      <th>gender</th>\n",
       "      <th>dependents</th>\n",
       "      <th>prod_ct</th>\n",
       "      <th>mo_on_book</th>\n",
       "      <th>mo_inactive_r12</th>\n",
       "      <th>contr_ct_r12</th>\n",
       "      <th>revbal_avg_r12</th>\n",
       "      <th>credlim_avg_r12</th>\n",
       "      <th>...</th>\n",
       "      <th>marstat_Married</th>\n",
       "      <th>marstat_Single</th>\n",
       "      <th>marstat_Unknown</th>\n",
       "      <th>card_Blue</th>\n",
       "      <th>card_Gold</th>\n",
       "      <th>card_Platinum</th>\n",
       "      <th>card_Silver</th>\n",
       "      <th>educ</th>\n",
       "      <th>inc</th>\n",
       "      <th>tx_amt_pertx_r12</th>\n",
       "    </tr>\n",
       "  </thead>\n",
       "  <tbody>\n",
       "    <tr>\n",
       "      <th>7513</th>\n",
       "      <td>0</td>\n",
       "      <td>46</td>\n",
       "      <td>0</td>\n",
       "      <td>2</td>\n",
       "      <td>5</td>\n",
       "      <td>31</td>\n",
       "      <td>2</td>\n",
       "      <td>3</td>\n",
       "      <td>927.00</td>\n",
       "      <td>8,243.00</td>\n",
       "      <td>...</td>\n",
       "      <td>0</td>\n",
       "      <td>1</td>\n",
       "      <td>0</td>\n",
       "      <td>1</td>\n",
       "      <td>0</td>\n",
       "      <td>0</td>\n",
       "      <td>0</td>\n",
       "      <td>3</td>\n",
       "      <td>0</td>\n",
       "      <td>50.03</td>\n",
       "    </tr>\n",
       "    <tr>\n",
       "      <th>4170</th>\n",
       "      <td>0</td>\n",
       "      <td>54</td>\n",
       "      <td>1</td>\n",
       "      <td>2</td>\n",
       "      <td>5</td>\n",
       "      <td>34</td>\n",
       "      <td>1</td>\n",
       "      <td>4</td>\n",
       "      <td>1,471.00</td>\n",
       "      <td>6,401.00</td>\n",
       "      <td>...</td>\n",
       "      <td>1</td>\n",
       "      <td>0</td>\n",
       "      <td>0</td>\n",
       "      <td>1</td>\n",
       "      <td>0</td>\n",
       "      <td>0</td>\n",
       "      <td>0</td>\n",
       "      <td>0</td>\n",
       "      <td>3</td>\n",
       "      <td>70.87</td>\n",
       "    </tr>\n",
       "    <tr>\n",
       "      <th>7889</th>\n",
       "      <td>0</td>\n",
       "      <td>55</td>\n",
       "      <td>0</td>\n",
       "      <td>1</td>\n",
       "      <td>2</td>\n",
       "      <td>47</td>\n",
       "      <td>3</td>\n",
       "      <td>1</td>\n",
       "      <td>1,780.00</td>\n",
       "      <td>2,343.00</td>\n",
       "      <td>...</td>\n",
       "      <td>0</td>\n",
       "      <td>1</td>\n",
       "      <td>0</td>\n",
       "      <td>1</td>\n",
       "      <td>0</td>\n",
       "      <td>0</td>\n",
       "      <td>0</td>\n",
       "      <td>1</td>\n",
       "      <td>2</td>\n",
       "      <td>66.24</td>\n",
       "    </tr>\n",
       "  </tbody>\n",
       "</table>\n",
       "<p>3 rows × 27 columns</p>\n",
       "</div>"
      ],
      "text/plain": [
       "      churn  age  gender  dependents  prod_ct  mo_on_book  mo_inactive_r12  \\\n",
       "7513      0   46       0           2        5          31                2   \n",
       "4170      0   54       1           2        5          34                1   \n",
       "7889      0   55       0           1        2          47                3   \n",
       "\n",
       "      contr_ct_r12  revbal_avg_r12  credlim_avg_r12  ...  marstat_Married  \\\n",
       "7513             3          927.00         8,243.00  ...                0   \n",
       "4170             4        1,471.00         6,401.00  ...                1   \n",
       "7889             1        1,780.00         2,343.00  ...                0   \n",
       "\n",
       "      marstat_Single  marstat_Unknown  card_Blue  card_Gold  card_Platinum  \\\n",
       "7513               1                0          1          0              0   \n",
       "4170               0                0          1          0              0   \n",
       "7889               1                0          1          0              0   \n",
       "\n",
       "      card_Silver  educ  inc  tx_amt_pertx_r12  \n",
       "7513            0     3    0             50.03  \n",
       "4170            0     0    3             70.87  \n",
       "7889            0     1    2             66.24  \n",
       "\n",
       "[3 rows x 27 columns]"
      ]
     },
     "execution_count": 24,
     "metadata": {},
     "output_type": "execute_result"
    }
   ],
   "source": [
    "# inspect new data\n",
    "rd.seed(1)\n",
    "d.sample(3)"
   ]
  },
  {
   "cell_type": "code",
   "execution_count": 25,
   "id": "embedded-girlfriend",
   "metadata": {},
   "outputs": [
    {
     "data": {
      "text/plain": [
       "churn                  int64\n",
       "age                    int64\n",
       "gender                 int64\n",
       "dependents             int64\n",
       "prod_ct                int64\n",
       "mo_on_book             int64\n",
       "mo_inactive_r12        int64\n",
       "contr_ct_r12           int64\n",
       "revbal_avg_r12       float64\n",
       "credlim_avg_r12      float64\n",
       "opentobuy_avg_r12    float64\n",
       "utilratio_avg        float64\n",
       "tx_amt_r12           float64\n",
       "tx_ct_r12              int64\n",
       "chng_tx_amt_q4_q1    float64\n",
       "chng_tx_ct_q4_q1     float64\n",
       "marstat_Divorced       uint8\n",
       "marstat_Married        uint8\n",
       "marstat_Single         uint8\n",
       "marstat_Unknown        uint8\n",
       "card_Blue              uint8\n",
       "card_Gold              uint8\n",
       "card_Platinum          uint8\n",
       "card_Silver            uint8\n",
       "educ                   int64\n",
       "inc                    int64\n",
       "tx_amt_pertx_r12     float64\n",
       "dtype: object"
      ]
     },
     "execution_count": 25,
     "metadata": {},
     "output_type": "execute_result"
    }
   ],
   "source": [
    "# inspect new data types\n",
    "d.dtypes"
   ]
  },
  {
   "cell_type": "markdown",
   "id": "smaller-testament",
   "metadata": {},
   "source": [
    "# Simple Visualization"
   ]
  },
  {
   "cell_type": "code",
   "execution_count": 26,
   "id": "popular-automation",
   "metadata": {},
   "outputs": [
    {
     "data": {
      "text/plain": [
       "<Figure size 432x288 with 0 Axes>"
      ]
     },
     "metadata": {},
     "output_type": "display_data"
    },
    {
     "data": {
      "image/png": "[encoded data removed]",
      "text/plain": [
       "<Figure size 216x144 with 1 Axes>"
      ]
     },
     "metadata": {
      "needs_background": "light"
     },
     "output_type": "display_data"
    },
    {
     "data": {
      "image/png": "[encoded data removed]",
      "text/plain": [
       "<Figure size 216x144 with 1 Axes>"
      ]
     },
     "metadata": {
      "needs_background": "light"
     },
     "output_type": "display_data"
    },
    {
     "data": {
      "image/png": "[encoded data removed]",
      "text/plain": [
       "<Figure size 216x144 with 1 Axes>"
      ]
     },
     "metadata": {
      "needs_background": "light"
     },
     "output_type": "display_data"
    },
    {
     "data": {
      "image/png": "[encoded data removed]",
      "text/plain": [
       "<Figure size 216x144 with 1 Axes>"
      ]
     },
     "metadata": {
      "needs_background": "light"
     },
     "output_type": "display_data"
    },
    {
     "data": {
      "image/png": "[encoded data removed]",
      "text/plain": [
       "<Figure size 216x144 with 1 Axes>"
      ]
     },
     "metadata": {
      "needs_background": "light"
     },
     "output_type": "display_data"
    },
    {
     "data": {
      "image/png": "[encoded data removed]",
      "text/plain": [
       "<Figure size 216x144 with 1 Axes>"
      ]
     },
     "metadata": {
      "needs_background": "light"
     },
     "output_type": "display_data"
    }
   ],
   "source": [
    "import seaborn as sns\n",
    "import math\n",
    "var_list = ['gender', 'inc', 'educ', 'prod_ct', 'contr_ct_r12', 'dependents']\n",
    "for i, col in enumerate(var_list):\n",
    "    plt.figure(i)\n",
    "    sns.catplot(x=col, y='churn', data=d, \n",
    "                kind='point', aspect=1.5, height=2)"
   ]
  },
  {
   "cell_type": "code",
   "execution_count": 27,
   "id": "expected-announcement",
   "metadata": {},
   "outputs": [
    {
     "name": "stdout",
     "output_type": "stream",
     "text": [
      "gender\n",
      "0   0.17\n",
      "1   0.15\n",
      "Name: churn, dtype: float64 \n",
      "\n",
      "inc\n",
      "0   0.17\n",
      "1   0.17\n",
      "2   0.15\n",
      "3   0.13\n",
      "4   0.16\n",
      "5   0.17\n",
      "Name: churn, dtype: float64 \n",
      "\n",
      "educ\n",
      "0   0.16\n",
      "1   0.15\n",
      "2   0.15\n",
      "3   0.16\n",
      "4   0.18\n",
      "5   0.21\n",
      "Name: churn, dtype: float64 \n",
      "\n",
      "prod_ct\n",
      "1   0.26\n",
      "2   0.28\n",
      "3   0.17\n",
      "4   0.12\n",
      "5   0.12\n",
      "6   0.11\n",
      "Name: churn, dtype: float64 \n",
      "\n",
      "contr_ct_r12\n",
      "0   0.02\n",
      "1   0.07\n",
      "2   0.12\n",
      "3   0.20\n",
      "4   0.23\n",
      "5   0.34\n",
      "6   1.00\n",
      "Name: churn, dtype: float64 \n",
      "\n",
      "dependents\n",
      "0   0.15\n",
      "1   0.15\n",
      "2   0.16\n",
      "3   0.18\n",
      "4   0.17\n",
      "5   0.15\n",
      "Name: churn, dtype: float64 \n",
      "\n"
     ]
    }
   ],
   "source": [
    "for i in var_list:\n",
    "    print(d.groupby(i).churn.mean(),'\\n')"
   ]
  },
  {
   "cell_type": "markdown",
   "id": "forty-florist",
   "metadata": {},
   "source": [
    "<a id=\"1.2\"></a>\n",
    "<h2 style=\"background-color:rgb(141, 153, 165);\n",
    "           font-size:250%;\n",
    "           color:white;\n",
    "           text-align:center;\n",
    "           margin: auto;\n",
    "           padding: 10px;\">Normality Test</h2>"
   ]
  },
  {
   "cell_type": "markdown",
   "id": "designing-ambassador",
   "metadata": {},
   "source": [
    "Let's take a look at some of the more promising candidates for normality from the data visualization section."
   ]
  },
  {
   "cell_type": "code",
   "execution_count": 41,
   "id": "operational-sitting",
   "metadata": {},
   "outputs": [
    {
     "data": {
      "image/png": "[encoded data removed]",
      "text/plain": [
       "<Figure size 864x1008 with 20 Axes>"
      ]
     },
     "metadata": {
      "needs_background": "light"
     },
     "output_type": "display_data"
    }
   ],
   "source": [
    "# histograms of the numerical variables\n",
    "d_num = d.select_dtypes(['int64','float64'])\n",
    "plt.rc('figure',figsize=(12,14))\n",
    "d_num.hist(xlabelsize=8,ylabelsize=8,yrot=90,color='teal')\n",
    "plt.show()"
   ]
  },
  {
   "cell_type": "code",
   "execution_count": 40,
   "id": "alpha-teaching",
   "metadata": {},
   "outputs": [
    {
     "data": {
      "text/plain": [
       "array([1, 0], dtype=uint8)"
      ]
     },
     "execution_count": 40,
     "metadata": {},
     "output_type": "execute_result"
    }
   ],
   "source": [
    "d.card_Blue.unique()"
   ]
  },
  {
   "cell_type": "markdown",
   "id": "selected-heading",
   "metadata": {},
   "source": [
    "### QQ Plot\n",
    "\n",
    "The Quantile-Quantile Plot known as the \"QQ Plot\" provides a visual representation of normality by comparing theoretical quantiles and the actual quantiles of our variable. The distance between the scatter plot and the red diagonal line represents deviation from a normal distribution. The QQ plot does a much better job in visualizing normality of a variable compared to Histogram or Box Plot."
   ]
  },
  {
   "cell_type": "code",
   "execution_count": 44,
   "id": "attended-heating",
   "metadata": {},
   "outputs": [
    {
     "data": {
      "image/png": "[encoded data removed]",
      "text/plain": [
       "<Figure size 360x360 with 1 Axes>"
      ]
     },
     "metadata": {
      "needs_background": "light"
     },
     "output_type": "display_data"
    }
   ],
   "source": [
    "import statsmodels.api as sm\n",
    "from scipy.stats import norm\n",
    "import pylab\n",
    "plt.rc('figure',figsize=(5,5))\n",
    "my_data = d.age\n",
    "sm.qqplot(my_data, line='s')\n",
    "pylab.show()"
   ]
  },
  {
   "cell_type": "markdown",
   "id": "local-prime",
   "metadata": {},
   "source": [
    "## Statistical Tests"
   ]
  },
  {
   "cell_type": "markdown",
   "id": "aquatic-louis",
   "metadata": {},
   "source": [
    "The Shapiro Wilk test is the most powerful test when testing for a normal distribution, but it typically becomes unreliable with a large sample size greater than a few thousand."
   ]
  },
  {
   "cell_type": "markdown",
   "id": "administrative-matter",
   "metadata": {},
   "source": [
    "The D'Agostino's K Square test calculates summary statistics from the data, namely kurtosis and skewness, to determine if the data distribution departs from the normal distribution, named for Ralph D’Agostino."
   ]
  },
  {
   "cell_type": "markdown",
   "id": "imposed-ribbon",
   "metadata": {},
   "source": [
    "### D'Agostino's K Square"
   ]
  },
  {
   "cell_type": "code",
   "execution_count": 45,
   "id": "attached-behavior",
   "metadata": {},
   "outputs": [
    {
     "name": "stdout",
     "output_type": "stream",
     "text": [
      "age \n",
      "Statistics=50.083, p=0.000\n",
      "Sample does not look Gaussian (reject H0) \n",
      "\n"
     ]
    }
   ],
   "source": [
    "from scipy.stats import normaltest\n",
    "stat, p = normaltest(d['age'])\n",
    "print('%s \\nStatistics=%.3f, p=%.3f' % ('age', stat, p))\n",
    "alpha = 0.05\n",
    "if p > alpha:\n",
    "    print('Sample looks Gaussian (fail to reject H0) \\n')\n",
    "else:\n",
    "    print('Sample does not look Gaussian (reject H0) \\n')"
   ]
  },
  {
   "cell_type": "markdown",
   "id": "equal-french",
   "metadata": {},
   "source": [
    "### Anderson Test"
   ]
  },
  {
   "cell_type": "code",
   "execution_count": 46,
   "id": "numerous-principle",
   "metadata": {},
   "outputs": [
    {
     "name": "stdout",
     "output_type": "stream",
     "text": [
      " \n",
      "age \n",
      "Statistics=7.605\n",
      "15.000: 0.576, data does not look normal (reject H0)\n",
      "10.000: 0.656, data does not look normal (reject H0)\n",
      "5.000: 0.787, data does not look normal (reject H0)\n",
      "2.500: 0.918, data does not look normal (reject H0)\n",
      "1.000: 1.092, data does not look normal (reject H0)\n"
     ]
    }
   ],
   "source": [
    "from scipy.stats import anderson\n",
    "result = anderson(d['age'])\n",
    "print(' \\n%s \\nStatistics=%.3f' % ('age', round(result.statistic,3)))\n",
    "\n",
    "for i in range(len(result.critical_values)):\n",
    "    sl, cv = result.significance_level[i], result.critical_values[i]\n",
    "    if result.statistic < result.critical_values[i]:\n",
    "        print('%.3f: %.3f, data looks normal (fail to reject H0)' % (sl, cv))\n",
    "    else:\n",
    "        print('%.3f: %.3f, data does not look normal (reject H0)' % (sl, cv))"
   ]
  },
  {
   "cell_type": "markdown",
   "id": "scientific-helping",
   "metadata": {},
   "source": [
    "### Jarque–Bera Test"
   ]
  },
  {
   "cell_type": "code",
   "execution_count": 47,
   "id": "boring-strike",
   "metadata": {},
   "outputs": [
    {
     "name": "stdout",
     "output_type": "stream",
     "text": [
      "age \n",
      "Statistics=5.975, p=0.050\n",
      "Sample looks Gaussian (fail to reject H0) \n",
      "\n"
     ]
    }
   ],
   "source": [
    "from scipy.stats import jarque_bera\n",
    "my_data = d.age.sample(2100)\n",
    "stat, p = jarque_bera(my_data)\n",
    "print('%s \\nStatistics=%.3f, p=%.3f' % ('age', stat, p))\n",
    "alpha = 0.05\n",
    "if p > alpha:\n",
    "    print('Sample looks Gaussian (fail to reject H0) \\n')\n",
    "else:\n",
    "    print('Sample does not look Gaussian (reject H0) \\n')"
   ]
  },
  {
   "cell_type": "markdown",
   "id": "sacred-system",
   "metadata": {},
   "source": [
    "<a id=\"1.2\"></a>\n",
    "<h2 style=\"background-color:rgb(141, 153, 165);\n",
    "           font-size:250%;\n",
    "           color:white;\n",
    "           text-align:center;\n",
    "           margin: auto;\n",
    "           padding: 10px;\">Scaling Data</h2>"
   ]
  },
  {
   "cell_type": "markdown",
   "id": "killing-calendar",
   "metadata": {},
   "source": [
    "# Min Max Scaler"
   ]
  },
  {
   "cell_type": "code",
   "execution_count": null,
   "id": "champion-encyclopedia",
   "metadata": {},
   "outputs": [],
   "source": [
    "# demonstrate data normalization with sklearn\n",
    "from sklearn.preprocessing import MinMaxScaler\n",
    "# load data\n",
    "data = ...\n",
    "# create scaler\n",
    "scaler = MinMaxScaler()\n",
    "# fit scaler on data\n",
    "scaler.fit(data)\n",
    "# apply transform\n",
    "normalized = scaler.transform(data)\n",
    "# inverse transform\n",
    "inverse = scaler.inverse_transform(normalized)"
   ]
  },
  {
   "cell_type": "markdown",
   "id": "public-archives",
   "metadata": {},
   "source": [
    "# Min Max Scaler"
   ]
  },
  {
   "cell_type": "markdown",
   "id": "prepared-forum",
   "metadata": {},
   "source": [
    "<a id=\"1.2\"></a>\n",
    "<h2 style=\"background-color:rgb(141, 153, 165);\n",
    "           font-size:250%;\n",
    "           color:white;\n",
    "           text-align:center;\n",
    "           margin: auto;\n",
    "           padding: 10px;\">Feature Importance</h2>"
   ]
  },
  {
   "cell_type": "markdown",
   "id": "supposed-chinese",
   "metadata": {},
   "source": [
    "# Decision Tree Classifier"
   ]
  },
  {
   "cell_type": "code",
   "execution_count": 48,
   "id": "former-start",
   "metadata": {},
   "outputs": [],
   "source": [
    "X = d.iloc[:,1:]\n",
    "y = d.iloc[:,:1]"
   ]
  },
  {
   "cell_type": "code",
   "execution_count": 49,
   "id": "established-basket",
   "metadata": {},
   "outputs": [],
   "source": [
    "x_train, x_test, y_train, y_test = train_test_split(X, y, test_size=.2, random_state=1, stratify=y)"
   ]
  },
  {
   "cell_type": "code",
   "execution_count": 50,
   "id": "manufactured-equity",
   "metadata": {},
   "outputs": [
    {
     "name": "stdout",
     "output_type": "stream",
     "text": [
      "(8101, 26)\n",
      "(2026, 26)\n",
      "(8101, 1)\n",
      "(2026, 1)\n"
     ]
    }
   ],
   "source": [
    "for db in [x_train, x_test, y_train, y_test]:\n",
    "    print(db.shape)"
   ]
  },
  {
   "cell_type": "code",
   "execution_count": null,
   "id": "thick-stuff",
   "metadata": {},
   "outputs": [],
   "source": [
    "from collections import Counter"
   ]
  },
  {
   "cell_type": "code",
   "execution_count": 52,
   "id": "municipal-prince",
   "metadata": {},
   "outputs": [
    {
     "data": {
      "text/plain": [
       "0.19106407995296884"
      ]
     },
     "execution_count": 52,
     "metadata": {},
     "output_type": "execute_result"
    }
   ],
   "source": [
    "Counter(y_test.churn)[1]/Counter(y_test.churn)[0]"
   ]
  },
  {
   "cell_type": "code",
   "execution_count": 53,
   "id": "empirical-ghost",
   "metadata": {},
   "outputs": [
    {
     "data": {
      "text/plain": [
       "0.19149874981614942"
      ]
     },
     "execution_count": 53,
     "metadata": {},
     "output_type": "execute_result"
    }
   ],
   "source": [
    "Counter(y_train.churn)[1]/Counter(y_train.churn)[0]"
   ]
  },
  {
   "cell_type": "code",
   "execution_count": 57,
   "id": "north-determination",
   "metadata": {},
   "outputs": [],
   "source": [
    "X = x_train"
   ]
  },
  {
   "cell_type": "code",
   "execution_count": 58,
   "id": "marine-shuttle",
   "metadata": {},
   "outputs": [
    {
     "data": {
      "text/plain": [
       "DecisionTreeClassifier()"
      ]
     },
     "execution_count": 58,
     "metadata": {},
     "output_type": "execute_result"
    }
   ],
   "source": [
    "from sklearn.tree import DecisionTreeClassifier\n",
    "\n",
    "model = DecisionTreeClassifier()\n",
    "model.fit(x_train, y_train)"
   ]
  },
  {
   "cell_type": "code",
   "execution_count": 59,
   "id": "adjusted-executive",
   "metadata": {},
   "outputs": [
    {
     "data": {
      "text/html": [
       "<div>\n",
       "<style scoped>\n",
       "    .dataframe tbody tr th:only-of-type {\n",
       "        vertical-align: middle;\n",
       "    }\n",
       "\n",
       "    .dataframe tbody tr th {\n",
       "        vertical-align: top;\n",
       "    }\n",
       "\n",
       "    .dataframe thead th {\n",
       "        text-align: right;\n",
       "    }\n",
       "</style>\n",
       "<table border=\"1\" class=\"dataframe\">\n",
       "  <thead>\n",
       "    <tr style=\"text-align: right;\">\n",
       "      <th></th>\n",
       "      <th>Feature</th>\n",
       "      <th>Importance</th>\n",
       "    </tr>\n",
       "  </thead>\n",
       "  <tbody>\n",
       "    <tr>\n",
       "      <th>0</th>\n",
       "      <td>tx_ct_r12</td>\n",
       "      <td>0.27</td>\n",
       "    </tr>\n",
       "    <tr>\n",
       "      <th>1</th>\n",
       "      <td>revbal_avg_r12</td>\n",
       "      <td>0.18</td>\n",
       "    </tr>\n",
       "    <tr>\n",
       "      <th>2</th>\n",
       "      <td>tx_amt_r12</td>\n",
       "      <td>0.13</td>\n",
       "    </tr>\n",
       "    <tr>\n",
       "      <th>3</th>\n",
       "      <td>prod_ct</td>\n",
       "      <td>0.08</td>\n",
       "    </tr>\n",
       "    <tr>\n",
       "      <th>4</th>\n",
       "      <td>chng_tx_amt_q4_q1</td>\n",
       "      <td>0.07</td>\n",
       "    </tr>\n",
       "    <tr>\n",
       "      <th>5</th>\n",
       "      <td>chng_tx_ct_q4_q1</td>\n",
       "      <td>0.07</td>\n",
       "    </tr>\n",
       "    <tr>\n",
       "      <th>6</th>\n",
       "      <td>tx_amt_pertx_r12</td>\n",
       "      <td>0.06</td>\n",
       "    </tr>\n",
       "    <tr>\n",
       "      <th>7</th>\n",
       "      <td>age</td>\n",
       "      <td>0.03</td>\n",
       "    </tr>\n",
       "    <tr>\n",
       "      <th>8</th>\n",
       "      <td>contr_ct_r12</td>\n",
       "      <td>0.02</td>\n",
       "    </tr>\n",
       "    <tr>\n",
       "      <th>9</th>\n",
       "      <td>opentobuy_avg_r12</td>\n",
       "      <td>0.02</td>\n",
       "    </tr>\n",
       "    <tr>\n",
       "      <th>10</th>\n",
       "      <td>credlim_avg_r12</td>\n",
       "      <td>0.01</td>\n",
       "    </tr>\n",
       "    <tr>\n",
       "      <th>11</th>\n",
       "      <td>utilratio_avg</td>\n",
       "      <td>0.01</td>\n",
       "    </tr>\n",
       "    <tr>\n",
       "      <th>12</th>\n",
       "      <td>mo_inactive_r12</td>\n",
       "      <td>0.01</td>\n",
       "    </tr>\n",
       "    <tr>\n",
       "      <th>13</th>\n",
       "      <td>mo_on_book</td>\n",
       "      <td>0.01</td>\n",
       "    </tr>\n",
       "    <tr>\n",
       "      <th>14</th>\n",
       "      <td>dependents</td>\n",
       "      <td>0.01</td>\n",
       "    </tr>\n",
       "    <tr>\n",
       "      <th>15</th>\n",
       "      <td>inc</td>\n",
       "      <td>0.01</td>\n",
       "    </tr>\n",
       "    <tr>\n",
       "      <th>16</th>\n",
       "      <td>educ</td>\n",
       "      <td>0.00</td>\n",
       "    </tr>\n",
       "    <tr>\n",
       "      <th>17</th>\n",
       "      <td>marstat_Divorced</td>\n",
       "      <td>0.00</td>\n",
       "    </tr>\n",
       "    <tr>\n",
       "      <th>18</th>\n",
       "      <td>card_Gold</td>\n",
       "      <td>0.00</td>\n",
       "    </tr>\n",
       "    <tr>\n",
       "      <th>19</th>\n",
       "      <td>marstat_Single</td>\n",
       "      <td>0.00</td>\n",
       "    </tr>\n",
       "    <tr>\n",
       "      <th>20</th>\n",
       "      <td>gender</td>\n",
       "      <td>0.00</td>\n",
       "    </tr>\n",
       "    <tr>\n",
       "      <th>21</th>\n",
       "      <td>marstat_Married</td>\n",
       "      <td>0.00</td>\n",
       "    </tr>\n",
       "    <tr>\n",
       "      <th>22</th>\n",
       "      <td>card_Platinum</td>\n",
       "      <td>0.00</td>\n",
       "    </tr>\n",
       "    <tr>\n",
       "      <th>23</th>\n",
       "      <td>card_Silver</td>\n",
       "      <td>0.00</td>\n",
       "    </tr>\n",
       "    <tr>\n",
       "      <th>24</th>\n",
       "      <td>marstat_Unknown</td>\n",
       "      <td>0.00</td>\n",
       "    </tr>\n",
       "    <tr>\n",
       "      <th>25</th>\n",
       "      <td>card_Blue</td>\n",
       "      <td>0.00</td>\n",
       "    </tr>\n",
       "  </tbody>\n",
       "</table>\n",
       "</div>"
      ],
      "text/plain": [
       "              Feature  Importance\n",
       "0           tx_ct_r12        0.27\n",
       "1      revbal_avg_r12        0.18\n",
       "2          tx_amt_r12        0.13\n",
       "3             prod_ct        0.08\n",
       "4   chng_tx_amt_q4_q1        0.07\n",
       "5    chng_tx_ct_q4_q1        0.07\n",
       "6    tx_amt_pertx_r12        0.06\n",
       "7                 age        0.03\n",
       "8        contr_ct_r12        0.02\n",
       "9   opentobuy_avg_r12        0.02\n",
       "10    credlim_avg_r12        0.01\n",
       "11      utilratio_avg        0.01\n",
       "12    mo_inactive_r12        0.01\n",
       "13         mo_on_book        0.01\n",
       "14         dependents        0.01\n",
       "15                inc        0.01\n",
       "16               educ        0.00\n",
       "17   marstat_Divorced        0.00\n",
       "18          card_Gold        0.00\n",
       "19     marstat_Single        0.00\n",
       "20             gender        0.00\n",
       "21    marstat_Married        0.00\n",
       "22      card_Platinum        0.00\n",
       "23        card_Silver        0.00\n",
       "24    marstat_Unknown        0.00\n",
       "25          card_Blue        0.00"
      ]
     },
     "execution_count": 59,
     "metadata": {},
     "output_type": "execute_result"
    }
   ],
   "source": [
    "importance = pd.DataFrame({'Feature': x_train.columns,\n",
    "                           'Importance': np.round(model.feature_importances_,3)})\n",
    "importance.sort_values('Importance', ascending=False, inplace=True)\n",
    "importance.reset_index(drop=True)"
   ]
  },
  {
   "cell_type": "code",
   "execution_count": 60,
   "id": "continent-donna",
   "metadata": {},
   "outputs": [
    {
     "data": {
      "image/png": "[encoded data removed]",
      "text/plain": [
       "<Figure size 2160x504 with 1 Axes>"
      ]
     },
     "metadata": {
      "needs_background": "light"
     },
     "output_type": "display_data"
    }
   ],
   "source": [
    "fig = plt.figure(figsize=(30,7))\n",
    "plt.bar(importance.Feature, importance.Importance)\n",
    "# plt.xticks(np.arange(26), x_train.columns, rotation=30)\n",
    "plt.xticks(rotation=30)\n",
    "plt.show()"
   ]
  },
  {
   "cell_type": "code",
   "execution_count": 62,
   "id": "material-logging",
   "metadata": {},
   "outputs": [
    {
     "data": {
      "image/png": "[encoded data removed]",
      "text/plain": [
       "<Figure size 2880x1440 with 1 Axes>"
      ]
     },
     "metadata": {
      "needs_background": "light"
     },
     "output_type": "display_data"
    }
   ],
   "source": [
    "from sklearn import tree\n",
    "model = DecisionTreeClassifier(max_depth=5, random_state=1)\n",
    "model.fit(x_train, y_train)\n",
    "\n",
    "plt.figure(figsize=(40,20))\n",
    "\n",
    "# create the tree plot\n",
    "a = tree.plot_tree(model,\n",
    "                   # use the feature names stored\n",
    "                   feature_names = x_train.columns,\n",
    "                   # use the class names stored\n",
    "                   class_names = y_train.churn.astype('str').unique(),\n",
    "                   rounded = True,\n",
    "                   filled = True,\n",
    "                   fontsize=14)\n",
    "# show the plot\n",
    "plt.show()"
   ]
  },
  {
   "cell_type": "code",
   "execution_count": null,
   "id": "abstract-spectacular",
   "metadata": {},
   "outputs": [],
   "source": [
    "# # import relevant functions\n",
    "# from sklearn.tree import export_text\n",
    "# # export the decision rules\n",
    "# tree_rules = export_text(model,\n",
    "#                          feature_names = list(x_train.columns))\n",
    "# # print the result\n",
    "# print(tree_rules)"
   ]
  },
  {
   "cell_type": "markdown",
   "id": "green-composition",
   "metadata": {},
   "source": [
    "# Random Forest Classifier"
   ]
  },
  {
   "cell_type": "code",
   "execution_count": 66,
   "id": "listed-belize",
   "metadata": {},
   "outputs": [
    {
     "data": {
      "text/plain": [
       "RandomForestClassifier()"
      ]
     },
     "execution_count": 66,
     "metadata": {},
     "output_type": "execute_result"
    }
   ],
   "source": [
    "from sklearn.ensemble import RandomForestClassifier\n",
    "model = RandomForestClassifier()\n",
    "model.fit(x_train, y_train.churn.values)\n",
    "rfc = pd.DataFrame({'Feature':x_train.columns,\n",
    "                    'Importance': np.round(model.feature_importances_,3)})"
   ]
  },
  {
   "cell_type": "code",
   "execution_count": 72,
   "id": "hidden-suite",
   "metadata": {},
   "outputs": [
    {
     "data": {
      "text/html": [
       "<div>\n",
       "<style scoped>\n",
       "    .dataframe tbody tr th:only-of-type {\n",
       "        vertical-align: middle;\n",
       "    }\n",
       "\n",
       "    .dataframe tbody tr th {\n",
       "        vertical-align: top;\n",
       "    }\n",
       "\n",
       "    .dataframe thead th {\n",
       "        text-align: right;\n",
       "    }\n",
       "</style>\n",
       "<table border=\"1\" class=\"dataframe\">\n",
       "  <thead>\n",
       "    <tr style=\"text-align: right;\">\n",
       "      <th></th>\n",
       "      <th>Feature</th>\n",
       "      <th>Importance</th>\n",
       "    </tr>\n",
       "  </thead>\n",
       "  <tbody>\n",
       "    <tr>\n",
       "      <th>0</th>\n",
       "      <td>tx_ct_r12</td>\n",
       "      <td>0.170</td>\n",
       "    </tr>\n",
       "    <tr>\n",
       "      <th>1</th>\n",
       "      <td>tx_amt_r12</td>\n",
       "      <td>0.168</td>\n",
       "    </tr>\n",
       "    <tr>\n",
       "      <th>2</th>\n",
       "      <td>revbal_avg_r12</td>\n",
       "      <td>0.106</td>\n",
       "    </tr>\n",
       "    <tr>\n",
       "      <th>3</th>\n",
       "      <td>chng_tx_ct_q4_q1</td>\n",
       "      <td>0.093</td>\n",
       "    </tr>\n",
       "    <tr>\n",
       "      <th>4</th>\n",
       "      <td>tx_amt_pertx_r12</td>\n",
       "      <td>0.073</td>\n",
       "    </tr>\n",
       "    <tr>\n",
       "      <th>5</th>\n",
       "      <td>chng_tx_amt_q4_q1</td>\n",
       "      <td>0.063</td>\n",
       "    </tr>\n",
       "    <tr>\n",
       "      <th>6</th>\n",
       "      <td>utilratio_avg</td>\n",
       "      <td>0.062</td>\n",
       "    </tr>\n",
       "    <tr>\n",
       "      <th>7</th>\n",
       "      <td>prod_ct</td>\n",
       "      <td>0.060</td>\n",
       "    </tr>\n",
       "    <tr>\n",
       "      <th>8</th>\n",
       "      <td>age</td>\n",
       "      <td>0.029</td>\n",
       "    </tr>\n",
       "    <tr>\n",
       "      <th>9</th>\n",
       "      <td>opentobuy_avg_r12</td>\n",
       "      <td>0.028</td>\n",
       "    </tr>\n",
       "    <tr>\n",
       "      <th>10</th>\n",
       "      <td>credlim_avg_r12</td>\n",
       "      <td>0.027</td>\n",
       "    </tr>\n",
       "    <tr>\n",
       "      <th>11</th>\n",
       "      <td>contr_ct_r12</td>\n",
       "      <td>0.025</td>\n",
       "    </tr>\n",
       "    <tr>\n",
       "      <th>12</th>\n",
       "      <td>mo_on_book</td>\n",
       "      <td>0.022</td>\n",
       "    </tr>\n",
       "    <tr>\n",
       "      <th>13</th>\n",
       "      <td>mo_inactive_r12</td>\n",
       "      <td>0.021</td>\n",
       "    </tr>\n",
       "    <tr>\n",
       "      <th>14</th>\n",
       "      <td>dependents</td>\n",
       "      <td>0.012</td>\n",
       "    </tr>\n",
       "    <tr>\n",
       "      <th>15</th>\n",
       "      <td>inc</td>\n",
       "      <td>0.010</td>\n",
       "    </tr>\n",
       "    <tr>\n",
       "      <th>16</th>\n",
       "      <td>educ</td>\n",
       "      <td>0.009</td>\n",
       "    </tr>\n",
       "    <tr>\n",
       "      <th>17</th>\n",
       "      <td>gender</td>\n",
       "      <td>0.007</td>\n",
       "    </tr>\n",
       "    <tr>\n",
       "      <th>18</th>\n",
       "      <td>marstat_Married</td>\n",
       "      <td>0.005</td>\n",
       "    </tr>\n",
       "    <tr>\n",
       "      <th>19</th>\n",
       "      <td>marstat_Single</td>\n",
       "      <td>0.004</td>\n",
       "    </tr>\n",
       "    <tr>\n",
       "      <th>20</th>\n",
       "      <td>marstat_Divorced</td>\n",
       "      <td>0.002</td>\n",
       "    </tr>\n",
       "    <tr>\n",
       "      <th>21</th>\n",
       "      <td>marstat_Unknown</td>\n",
       "      <td>0.002</td>\n",
       "    </tr>\n",
       "    <tr>\n",
       "      <th>22</th>\n",
       "      <td>card_Blue</td>\n",
       "      <td>0.001</td>\n",
       "    </tr>\n",
       "    <tr>\n",
       "      <th>23</th>\n",
       "      <td>card_Gold</td>\n",
       "      <td>0.001</td>\n",
       "    </tr>\n",
       "    <tr>\n",
       "      <th>24</th>\n",
       "      <td>card_Silver</td>\n",
       "      <td>0.001</td>\n",
       "    </tr>\n",
       "    <tr>\n",
       "      <th>25</th>\n",
       "      <td>card_Platinum</td>\n",
       "      <td>0.000</td>\n",
       "    </tr>\n",
       "  </tbody>\n",
       "</table>\n",
       "</div>"
      ],
      "text/plain": [
       "              Feature  Importance\n",
       "0           tx_ct_r12       0.170\n",
       "1          tx_amt_r12       0.168\n",
       "2      revbal_avg_r12       0.106\n",
       "3    chng_tx_ct_q4_q1       0.093\n",
       "4    tx_amt_pertx_r12       0.073\n",
       "5   chng_tx_amt_q4_q1       0.063\n",
       "6       utilratio_avg       0.062\n",
       "7             prod_ct       0.060\n",
       "8                 age       0.029\n",
       "9   opentobuy_avg_r12       0.028\n",
       "10    credlim_avg_r12       0.027\n",
       "11       contr_ct_r12       0.025\n",
       "12         mo_on_book       0.022\n",
       "13    mo_inactive_r12       0.021\n",
       "14         dependents       0.012\n",
       "15                inc       0.010\n",
       "16               educ       0.009\n",
       "17             gender       0.007\n",
       "18    marstat_Married       0.005\n",
       "19     marstat_Single       0.004\n",
       "20   marstat_Divorced       0.002\n",
       "21    marstat_Unknown       0.002\n",
       "22          card_Blue       0.001\n",
       "23          card_Gold       0.001\n",
       "24        card_Silver       0.001\n",
       "25      card_Platinum       0.000"
      ]
     },
     "execution_count": 72,
     "metadata": {},
     "output_type": "execute_result"
    }
   ],
   "source": [
    "pd.options.display.float_format = \"{:,.3f}\".format\n",
    "rfc.sort_values('Importance', ascending=False).reset_index(drop=True)"
   ]
  },
  {
   "cell_type": "markdown",
   "id": "promotional-officer",
   "metadata": {},
   "source": [
    "# XGBoost"
   ]
  },
  {
   "cell_type": "code",
   "execution_count": 75,
   "id": "cloudy-external",
   "metadata": {},
   "outputs": [],
   "source": [
    "import xgboost"
   ]
  },
  {
   "cell_type": "code",
   "execution_count": 77,
   "id": "future-sheet",
   "metadata": {},
   "outputs": [
    {
     "name": "stderr",
     "output_type": "stream",
     "text": [
      "C:\\Users\\April Leclair\\anaconda3\\lib\\site-packages\\xgboost\\sklearn.py:888: UserWarning: The use of label encoder in XGBClassifier is deprecated and will be removed in a future release. To remove this warning, do the following: 1) Pass option use_label_encoder=False when constructing XGBClassifier object; and 2) Encode your labels (y) as integers starting with 0, i.e. 0, 1, 2, ..., [num_class - 1].\n",
      "  warnings.warn(label_encoder_deprecation_msg, UserWarning)\n"
     ]
    },
    {
     "name": "stdout",
     "output_type": "stream",
     "text": [
      "[19:42:38] WARNING: C:/Users/Administrator/workspace/xgboost-win64_release_1.3.0/src/learner.cc:1061: Starting in XGBoost 1.3.0, the default evaluation metric used with the objective 'binary:logistic' was changed from 'error' to 'logloss'. Explicitly set eval_metric if you'd like to restore the old behavior.\n"
     ]
    },
    {
     "data": {
      "text/html": [
       "<div>\n",
       "<style scoped>\n",
       "    .dataframe tbody tr th:only-of-type {\n",
       "        vertical-align: middle;\n",
       "    }\n",
       "\n",
       "    .dataframe tbody tr th {\n",
       "        vertical-align: top;\n",
       "    }\n",
       "\n",
       "    .dataframe thead th {\n",
       "        text-align: right;\n",
       "    }\n",
       "</style>\n",
       "<table border=\"1\" class=\"dataframe\">\n",
       "  <thead>\n",
       "    <tr style=\"text-align: right;\">\n",
       "      <th></th>\n",
       "      <th>Feature</th>\n",
       "      <th>Importance</th>\n",
       "    </tr>\n",
       "  </thead>\n",
       "  <tbody>\n",
       "    <tr>\n",
       "      <th>0</th>\n",
       "      <td>tx_ct_r12</td>\n",
       "      <td>0.235</td>\n",
       "    </tr>\n",
       "    <tr>\n",
       "      <th>1</th>\n",
       "      <td>revbal_avg_r12</td>\n",
       "      <td>0.171</td>\n",
       "    </tr>\n",
       "    <tr>\n",
       "      <th>2</th>\n",
       "      <td>prod_ct</td>\n",
       "      <td>0.097</td>\n",
       "    </tr>\n",
       "    <tr>\n",
       "      <th>3</th>\n",
       "      <td>tx_amt_r12</td>\n",
       "      <td>0.055</td>\n",
       "    </tr>\n",
       "    <tr>\n",
       "      <th>4</th>\n",
       "      <td>tx_amt_pertx_r12</td>\n",
       "      <td>0.049</td>\n",
       "    </tr>\n",
       "    <tr>\n",
       "      <th>5</th>\n",
       "      <td>chng_tx_ct_q4_q1</td>\n",
       "      <td>0.043</td>\n",
       "    </tr>\n",
       "    <tr>\n",
       "      <th>6</th>\n",
       "      <td>mo_inactive_r12</td>\n",
       "      <td>0.037</td>\n",
       "    </tr>\n",
       "    <tr>\n",
       "      <th>7</th>\n",
       "      <td>age</td>\n",
       "      <td>0.030</td>\n",
       "    </tr>\n",
       "    <tr>\n",
       "      <th>8</th>\n",
       "      <td>chng_tx_amt_q4_q1</td>\n",
       "      <td>0.030</td>\n",
       "    </tr>\n",
       "    <tr>\n",
       "      <th>9</th>\n",
       "      <td>gender</td>\n",
       "      <td>0.029</td>\n",
       "    </tr>\n",
       "    <tr>\n",
       "      <th>10</th>\n",
       "      <td>opentobuy_avg_r12</td>\n",
       "      <td>0.027</td>\n",
       "    </tr>\n",
       "    <tr>\n",
       "      <th>11</th>\n",
       "      <td>contr_ct_r12</td>\n",
       "      <td>0.024</td>\n",
       "    </tr>\n",
       "    <tr>\n",
       "      <th>12</th>\n",
       "      <td>card_Silver</td>\n",
       "      <td>0.024</td>\n",
       "    </tr>\n",
       "    <tr>\n",
       "      <th>13</th>\n",
       "      <td>utilratio_avg</td>\n",
       "      <td>0.021</td>\n",
       "    </tr>\n",
       "    <tr>\n",
       "      <th>14</th>\n",
       "      <td>card_Blue</td>\n",
       "      <td>0.019</td>\n",
       "    </tr>\n",
       "    <tr>\n",
       "      <th>15</th>\n",
       "      <td>credlim_avg_r12</td>\n",
       "      <td>0.018</td>\n",
       "    </tr>\n",
       "    <tr>\n",
       "      <th>16</th>\n",
       "      <td>marstat_Married</td>\n",
       "      <td>0.017</td>\n",
       "    </tr>\n",
       "    <tr>\n",
       "      <th>17</th>\n",
       "      <td>dependents</td>\n",
       "      <td>0.017</td>\n",
       "    </tr>\n",
       "    <tr>\n",
       "      <th>18</th>\n",
       "      <td>mo_on_book</td>\n",
       "      <td>0.013</td>\n",
       "    </tr>\n",
       "    <tr>\n",
       "      <th>19</th>\n",
       "      <td>educ</td>\n",
       "      <td>0.011</td>\n",
       "    </tr>\n",
       "    <tr>\n",
       "      <th>20</th>\n",
       "      <td>marstat_Divorced</td>\n",
       "      <td>0.010</td>\n",
       "    </tr>\n",
       "    <tr>\n",
       "      <th>21</th>\n",
       "      <td>marstat_Unknown</td>\n",
       "      <td>0.010</td>\n",
       "    </tr>\n",
       "    <tr>\n",
       "      <th>22</th>\n",
       "      <td>inc</td>\n",
       "      <td>0.008</td>\n",
       "    </tr>\n",
       "    <tr>\n",
       "      <th>23</th>\n",
       "      <td>marstat_Single</td>\n",
       "      <td>0.006</td>\n",
       "    </tr>\n",
       "    <tr>\n",
       "      <th>24</th>\n",
       "      <td>card_Gold</td>\n",
       "      <td>0.000</td>\n",
       "    </tr>\n",
       "    <tr>\n",
       "      <th>25</th>\n",
       "      <td>card_Platinum</td>\n",
       "      <td>0.000</td>\n",
       "    </tr>\n",
       "  </tbody>\n",
       "</table>\n",
       "</div>"
      ],
      "text/plain": [
       "              Feature  Importance\n",
       "0           tx_ct_r12       0.235\n",
       "1      revbal_avg_r12       0.171\n",
       "2             prod_ct       0.097\n",
       "3          tx_amt_r12       0.055\n",
       "4    tx_amt_pertx_r12       0.049\n",
       "5    chng_tx_ct_q4_q1       0.043\n",
       "6     mo_inactive_r12       0.037\n",
       "7                 age       0.030\n",
       "8   chng_tx_amt_q4_q1       0.030\n",
       "9              gender       0.029\n",
       "10  opentobuy_avg_r12       0.027\n",
       "11       contr_ct_r12       0.024\n",
       "12        card_Silver       0.024\n",
       "13      utilratio_avg       0.021\n",
       "14          card_Blue       0.019\n",
       "15    credlim_avg_r12       0.018\n",
       "16    marstat_Married       0.017\n",
       "17         dependents       0.017\n",
       "18         mo_on_book       0.013\n",
       "19               educ       0.011\n",
       "20   marstat_Divorced       0.010\n",
       "21    marstat_Unknown       0.010\n",
       "22                inc       0.008\n",
       "23     marstat_Single       0.006\n",
       "24          card_Gold       0.000\n",
       "25      card_Platinum       0.000"
      ]
     },
     "execution_count": 77,
     "metadata": {},
     "output_type": "execute_result"
    }
   ],
   "source": [
    "from xgboost import XGBClassifier\n",
    "model = XGBClassifier()\n",
    "model.fit(x_train, y_train.churn.values)\n",
    "xgbc = pd.DataFrame({'Feature': x_train.columns,\n",
    "                     'Importance': np.round(model.feature_importances_,3)})\n",
    "xgbc.sort_values('Importance',ascending=False).reset_index(drop=True)\n",
    "            "
   ]
  },
  {
   "cell_type": "markdown",
   "id": "ceramic-funds",
   "metadata": {},
   "source": [
    "# Permutation Importance"
   ]
  },
  {
   "cell_type": "code",
   "execution_count": null,
   "id": "retained-advisory",
   "metadata": {},
   "outputs": [],
   "source": [
    "# # permutation feature importance with knn for classification\n",
    "# from sklearn.datasets import make_classification\n",
    "# from sklearn.neighbors import KNeighborsClassifier\n",
    "# from sklearn.inspection import permutation_importance\n",
    "# from matplotlib import pyplot\n",
    "# # define dataset\n",
    "# X, y = make_classification(n_samples=1000, n_features=10, n_informative=5, n_redundant=5, random_state=1)\n",
    "# # define the model\n",
    "# model = KNeighborsClassifier()\n",
    "# # fit the model\n",
    "# model.fit(X, y)\n",
    "# # perform permutation importance\n",
    "# results = permutation_importance(model, X, y, scoring='accuracy')\n",
    "# # get importance\n",
    "# importance = results.importances_mean\n",
    "# # summarize feature importance\n",
    "# for i,v in enumerate(importance):\n",
    "# \tprint('Feature: %0d, Score: %.5f' % (i,v))\n",
    "# # plot feature importance\n",
    "# pyplot.bar([x for x in range(len(importance))], importance)\n",
    "# pyplot.show()"
   ]
  },
  {
   "cell_type": "code",
   "execution_count": null,
   "id": "unlike-conversation",
   "metadata": {},
   "outputs": [],
   "source": [
    "from sklearn.inspection import permutation_importance\n",
    "# model = XGBClassifier()\n",
    "# model.fit(x_train, y_train.churn.values)\n",
    "# xgbc = pd.DataFrame({'Feature': x_train.columns,\n",
    "#                      'Importance': np.round(model.feature_importances_,3)})\n",
    "# xgbc.sort_values('Importance',ascending=False).reset_index(drop=True)\n",
    "            "
   ]
  },
  {
   "cell_type": "markdown",
   "id": "starting-signal",
   "metadata": {},
   "source": [
    "https://machinelearningmastery.com/calculate-feature-importance-with-python/"
   ]
  },
  {
   "cell_type": "markdown",
   "id": "informal-keyboard",
   "metadata": {},
   "source": [
    "## Recursive Feature Elimination, or RFE"
   ]
  },
  {
   "cell_type": "markdown",
   "id": "occupational-nancy",
   "metadata": {},
   "source": [
    "Recursive Feature Elimination, or RFE for short, is a popular feature selection algorithm."
   ]
  },
  {
   "cell_type": "code",
   "execution_count": 80,
   "id": "sorted-emphasis",
   "metadata": {},
   "outputs": [
    {
     "data": {
      "text/plain": [
       "RFE(estimator=RandomForestClassifier(), n_features_to_select=5)"
      ]
     },
     "execution_count": 80,
     "metadata": {},
     "output_type": "execute_result"
    }
   ],
   "source": [
    "from sklearn.feature_selection import RFE\n",
    "rfe = RFE(estimator=RandomForestClassifier(), n_features_to_select=5)\n",
    "rfe.fit(x_train, y_train.churn.values)"
   ]
  },
  {
   "cell_type": "code",
   "execution_count": null,
   "id": "potential-failing",
   "metadata": {},
   "outputs": [],
   "source": [
    "# dir(rfe)"
   ]
  },
  {
   "cell_type": "code",
   "execution_count": 89,
   "id": "forced-indonesia",
   "metadata": {},
   "outputs": [
    {
     "data": {
      "text/html": [
       "<div>\n",
       "<style scoped>\n",
       "    .dataframe tbody tr th:only-of-type {\n",
       "        vertical-align: middle;\n",
       "    }\n",
       "\n",
       "    .dataframe tbody tr th {\n",
       "        vertical-align: top;\n",
       "    }\n",
       "\n",
       "    .dataframe thead th {\n",
       "        text-align: right;\n",
       "    }\n",
       "</style>\n",
       "<table border=\"1\" class=\"dataframe\">\n",
       "  <thead>\n",
       "    <tr style=\"text-align: right;\">\n",
       "      <th></th>\n",
       "      <th>Feature</th>\n",
       "      <th>Rank</th>\n",
       "    </tr>\n",
       "  </thead>\n",
       "  <tbody>\n",
       "    <tr>\n",
       "      <th>0</th>\n",
       "      <td>tx_ct_r12</td>\n",
       "      <td>1</td>\n",
       "    </tr>\n",
       "    <tr>\n",
       "      <th>1</th>\n",
       "      <td>chng_tx_ct_q4_q1</td>\n",
       "      <td>1</td>\n",
       "    </tr>\n",
       "    <tr>\n",
       "      <th>2</th>\n",
       "      <td>chng_tx_amt_q4_q1</td>\n",
       "      <td>1</td>\n",
       "    </tr>\n",
       "    <tr>\n",
       "      <th>3</th>\n",
       "      <td>tx_amt_r12</td>\n",
       "      <td>1</td>\n",
       "    </tr>\n",
       "    <tr>\n",
       "      <th>4</th>\n",
       "      <td>revbal_avg_r12</td>\n",
       "      <td>1</td>\n",
       "    </tr>\n",
       "    <tr>\n",
       "      <th>5</th>\n",
       "      <td>tx_amt_pertx_r12</td>\n",
       "      <td>2</td>\n",
       "    </tr>\n",
       "    <tr>\n",
       "      <th>6</th>\n",
       "      <td>prod_ct</td>\n",
       "      <td>3</td>\n",
       "    </tr>\n",
       "    <tr>\n",
       "      <th>7</th>\n",
       "      <td>utilratio_avg</td>\n",
       "      <td>4</td>\n",
       "    </tr>\n",
       "    <tr>\n",
       "      <th>8</th>\n",
       "      <td>age</td>\n",
       "      <td>5</td>\n",
       "    </tr>\n",
       "    <tr>\n",
       "      <th>9</th>\n",
       "      <td>credlim_avg_r12</td>\n",
       "      <td>6</td>\n",
       "    </tr>\n",
       "    <tr>\n",
       "      <th>10</th>\n",
       "      <td>opentobuy_avg_r12</td>\n",
       "      <td>7</td>\n",
       "    </tr>\n",
       "    <tr>\n",
       "      <th>11</th>\n",
       "      <td>contr_ct_r12</td>\n",
       "      <td>8</td>\n",
       "    </tr>\n",
       "    <tr>\n",
       "      <th>12</th>\n",
       "      <td>mo_on_book</td>\n",
       "      <td>9</td>\n",
       "    </tr>\n",
       "    <tr>\n",
       "      <th>13</th>\n",
       "      <td>mo_inactive_r12</td>\n",
       "      <td>10</td>\n",
       "    </tr>\n",
       "    <tr>\n",
       "      <th>14</th>\n",
       "      <td>dependents</td>\n",
       "      <td>11</td>\n",
       "    </tr>\n",
       "    <tr>\n",
       "      <th>15</th>\n",
       "      <td>inc</td>\n",
       "      <td>12</td>\n",
       "    </tr>\n",
       "    <tr>\n",
       "      <th>16</th>\n",
       "      <td>educ</td>\n",
       "      <td>13</td>\n",
       "    </tr>\n",
       "    <tr>\n",
       "      <th>17</th>\n",
       "      <td>gender</td>\n",
       "      <td>14</td>\n",
       "    </tr>\n",
       "    <tr>\n",
       "      <th>18</th>\n",
       "      <td>marstat_Married</td>\n",
       "      <td>15</td>\n",
       "    </tr>\n",
       "    <tr>\n",
       "      <th>19</th>\n",
       "      <td>marstat_Single</td>\n",
       "      <td>16</td>\n",
       "    </tr>\n",
       "    <tr>\n",
       "      <th>20</th>\n",
       "      <td>marstat_Unknown</td>\n",
       "      <td>17</td>\n",
       "    </tr>\n",
       "    <tr>\n",
       "      <th>21</th>\n",
       "      <td>marstat_Divorced</td>\n",
       "      <td>18</td>\n",
       "    </tr>\n",
       "    <tr>\n",
       "      <th>22</th>\n",
       "      <td>card_Silver</td>\n",
       "      <td>19</td>\n",
       "    </tr>\n",
       "    <tr>\n",
       "      <th>23</th>\n",
       "      <td>card_Blue</td>\n",
       "      <td>20</td>\n",
       "    </tr>\n",
       "    <tr>\n",
       "      <th>24</th>\n",
       "      <td>card_Gold</td>\n",
       "      <td>21</td>\n",
       "    </tr>\n",
       "    <tr>\n",
       "      <th>25</th>\n",
       "      <td>card_Platinum</td>\n",
       "      <td>22</td>\n",
       "    </tr>\n",
       "  </tbody>\n",
       "</table>\n",
       "</div>"
      ],
      "text/plain": [
       "              Feature  Rank\n",
       "0           tx_ct_r12     1\n",
       "1    chng_tx_ct_q4_q1     1\n",
       "2   chng_tx_amt_q4_q1     1\n",
       "3          tx_amt_r12     1\n",
       "4      revbal_avg_r12     1\n",
       "5    tx_amt_pertx_r12     2\n",
       "6             prod_ct     3\n",
       "7       utilratio_avg     4\n",
       "8                 age     5\n",
       "9     credlim_avg_r12     6\n",
       "10  opentobuy_avg_r12     7\n",
       "11       contr_ct_r12     8\n",
       "12         mo_on_book     9\n",
       "13    mo_inactive_r12    10\n",
       "14         dependents    11\n",
       "15                inc    12\n",
       "16               educ    13\n",
       "17             gender    14\n",
       "18    marstat_Married    15\n",
       "19     marstat_Single    16\n",
       "20    marstat_Unknown    17\n",
       "21   marstat_Divorced    18\n",
       "22        card_Silver    19\n",
       "23          card_Blue    20\n",
       "24          card_Gold    21\n",
       "25      card_Platinum    22"
      ]
     },
     "execution_count": 89,
     "metadata": {},
     "output_type": "execute_result"
    }
   ],
   "source": [
    "rfe_df = pd.DataFrame({'Feature': x_train.columns,\n",
    "                     'Rank': np.round(rfe.ranking_,3)})\n",
    "rfe_df.sort_values('Rank',ascending=True).reset_index(drop=True)"
   ]
  },
  {
   "cell_type": "markdown",
   "id": "second-parks",
   "metadata": {},
   "source": [
    "<a id=\"1.2\"></a>\n",
    "<h2 style=\"background-color:rgb(141, 153, 165);\n",
    "           font-size:250%;\n",
    "           color:white;\n",
    "           text-align:center;\n",
    "           margin: auto;\n",
    "           padding: 10px;\">Correlation Test</h2>"
   ]
  },
  {
   "cell_type": "markdown",
   "id": "voluntary-trailer",
   "metadata": {},
   "source": [
    "https://machinelearningmastery.com/how-to-calculate-nonparametric-rank-correlation-in-python/"
   ]
  },
  {
   "cell_type": "markdown",
   "id": "aboriginal-ukraine",
   "metadata": {},
   "source": [
    "# Correlation Tests\n",
    "1. Pearson’s Correlation Coefficient\n",
    "2. Spearman’s Rank Correlation\n",
    "3. Kendall’s Rank Correlation\n",
    "4. Chi-Squared Test"
   ]
  },
  {
   "cell_type": "markdown",
   "id": "careful-accounting",
   "metadata": {},
   "source": [
    "Spearman’s Rank Correlation.\n",
    "Kendall’s Rank Correlation.\n",
    "Goodman and Kruskal’s Rank Correlation.\n",
    "Somers’ Rank Correlation."
   ]
  },
  {
   "cell_type": "code",
   "execution_count": null,
   "id": "charged-eclipse",
   "metadata": {},
   "outputs": [],
   "source": [
    "from scipy.stats import (pearsonr, spearmanr, kendalltau, \n",
    "                         chi2_contingency, f_oneway)"
   ]
  },
  {
   "cell_type": "markdown",
   "id": "fiscal-florist",
   "metadata": {},
   "source": [
    "### Spearman's Rank Correlation"
   ]
  },
  {
   "cell_type": "markdown",
   "id": "binding-culture",
   "metadata": {},
   "source": [
    "This statistical method quantifies the degree to which ranked variables are associated by a monotonic function, meaning an increasing or decreasing relationship. As a statistical hypothesis test, the method assumes that the samples are uncorrelated (fail to reject H0).\n",
    "\n",
    "The intuition for the Spearman’s rank correlation is that it calculates a Pearson’s correlation (e.g. a parametric measure of correlation) using the rank values instead of the real values. Where the Pearson’s correlation is the calculation of the covariance (or expected difference of observations from the mean) between the two variables normalized by the variance or spread of both variables.\n",
    "\n",
    "https://machinelearningmastery.com/how-to-calculate-nonparametric-rank-correlation-in-python/"
   ]
  },
  {
   "cell_type": "code",
   "execution_count": null,
   "id": "packed-attachment",
   "metadata": {},
   "outputs": [],
   "source": [
    "reject_h0 = {}\n",
    "failtoreject_h0 = {}\n",
    "d_rank = d.rank()\n",
    "for i in d_rank.columns:\n",
    "    coef, p = spearmanr(d_rank[i], d_rank['churn'])\n",
    "    if p >= 0.05:\n",
    "        failtoreject_h0[i] = [round(coef,3), round(p,3)]\n",
    "    else:\n",
    "        reject_h0[i] = [round(coef,3), round(p,3)]"
   ]
  },
  {
   "cell_type": "code",
   "execution_count": null,
   "id": "collaborative-panama",
   "metadata": {},
   "outputs": [],
   "source": [
    "print(f'The following variables are NOT correlated to `churn`. We fail to reject H0: \\n')\n",
    "pd.options.display.float_format = \"{:,.3f}\".format\n",
    "f = pd.DataFrame(failtoreject_h0).T\n",
    "f.columns = ['coef', 'p-val']\n",
    "f.sort_values('coef', ascending=False)"
   ]
  },
  {
   "cell_type": "code",
   "execution_count": null,
   "id": "unusual-cleaners",
   "metadata": {},
   "outputs": [],
   "source": [
    "print(f'The following variables are likely correlated to `churn`. We can safely reject H0: \\n')\n",
    "pd.options.display.float_format = \"{:,.3f}\".format\n",
    "f = pd.DataFrame(reject_h0).T\n",
    "f.columns = ['coef', 'p-val']\n",
    "f[1:].sort_values('coef', ascending=False)"
   ]
  },
  {
   "cell_type": "markdown",
   "id": "cultural-thong",
   "metadata": {},
   "source": [
    "### Kendall's Rank Correlation"
   ]
  },
  {
   "cell_type": "code",
   "execution_count": null,
   "id": "knowing-ecuador",
   "metadata": {},
   "outputs": [],
   "source": [
    "reject_h0 = {}\n",
    "failtoreject_h0 = {}\n",
    "d_rank = d.rank()\n",
    "for i in d_rank.columns:\n",
    "    coef, p = kendalltau(d_rank[i], d_rank['churn'])\n",
    "    if p >= 0.05:\n",
    "        failtoreject_h0[i] = [round(coef,3), round(p,3)]\n",
    "    else:\n",
    "        reject_h0[i] = [round(coef,3), round(p,3)]"
   ]
  },
  {
   "cell_type": "code",
   "execution_count": null,
   "id": "introductory-boring",
   "metadata": {},
   "outputs": [],
   "source": [
    "print(f'The following variables are NOT dependent on `churn`. We fail to reject H0: \\n')\n",
    "pd.options.display.float_format = \"{:,.3f}\".format\n",
    "f = pd.DataFrame(failtoreject_h0).T\n",
    "f.columns = ['coef', 'p-val']\n",
    "f.sort_values('coef', ascending=False)"
   ]
  },
  {
   "cell_type": "code",
   "execution_count": null,
   "id": "random-sequence",
   "metadata": {},
   "outputs": [],
   "source": [
    "print(f'The following variables are likely dependent on `churn`. We can safely reject H0: \\n')\n",
    "pd.options.display.float_format = \"{:,.3f}\".format\n",
    "f = pd.DataFrame(reject_h0).T\n",
    "f.columns = ['coef', 'p-val']\n",
    "f[1:].sort_values('coef', ascending=False)"
   ]
  },
  {
   "cell_type": "markdown",
   "id": "superior-amateur",
   "metadata": {},
   "source": [
    "### Chi-Squared Test"
   ]
  },
  {
   "cell_type": "code",
   "execution_count": null,
   "id": "generic-nursery",
   "metadata": {},
   "outputs": [],
   "source": [
    "len(d_discrete.columns)"
   ]
  },
  {
   "cell_type": "code",
   "execution_count": null,
   "id": "demonstrated-prescription",
   "metadata": {},
   "outputs": [],
   "source": [
    "d_discrete = d.select_dtypes(['int64','uint8'])\n",
    "d_continuous = d.select_dtypes(['float64'])"
   ]
  },
  {
   "cell_type": "code",
   "execution_count": null,
   "id": "systematic-fifteen",
   "metadata": {},
   "outputs": [],
   "source": [
    "discrete_cols = [*discrete.columns][1:]\n",
    "continuous_cols = [*continuous.columns]"
   ]
  },
  {
   "cell_type": "code",
   "execution_count": null,
   "id": "adapted-intent",
   "metadata": {},
   "outputs": [],
   "source": [
    "reject_h0 = {}\n",
    "failtoreject_h0 = {}\n",
    "d_discrete_rank = d_discrete.rank()\n",
    "for i in d_discrete_rank.columns:\n",
    "    table = pd.crosstab(d_discrete_rank[i], d_discrete_rank['churn'])\n",
    "    stat, p, dof, expected = chi2_contingency(table)\n",
    "    if p >= 0.05:\n",
    "        failtoreject_h0[i] = [round(stat,3), round(p,3), dof]\n",
    "    else:\n",
    "        reject_h0[i] = [round(stat,3), round(p,3), dof]"
   ]
  },
  {
   "cell_type": "code",
   "execution_count": null,
   "id": "confident-tumor",
   "metadata": {},
   "outputs": [],
   "source": [
    "print(f'The following variables are NOT dependent on `churn`. We fail to reject H0: \\n')\n",
    "pd.options.display.float_format = \"{:,.3f}\".format\n",
    "f = pd.DataFrame(failtoreject_h0).T\n",
    "f.columns = ['stat', 'p-val', 'df']\n",
    "f.sort_values('p-val', ascending=False)"
   ]
  },
  {
   "cell_type": "code",
   "execution_count": null,
   "id": "lonely-morris",
   "metadata": {},
   "outputs": [],
   "source": [
    "print(f'The following variables are likely dependent on `churn`. We can safely reject H0: \\n')\n",
    "pd.options.display.float_format = \"{:,.3f}\".format\n",
    "f = pd.DataFrame(reject_h0).T\n",
    "f.columns = ['stat', 'p-val', 'df']\n",
    "f[1:].sort_values('p-val', ascending=False)"
   ]
  },
  {
   "cell_type": "markdown",
   "id": "finite-vault",
   "metadata": {},
   "source": [
    "## Mann-Whitney U Test\n",
    "Tests whether the distributions of two independent samples are equal or not.\n",
    "\n",
    "### Assumptions\n",
    "1. Observations in each sample are independent and identically distributed (iid).\n",
    "1. Observations in each sample can be ranked.\n",
    "\n",
    "### Interpretation\n",
    "* H0: the distributions of both samples are equal.\n",
    "* H1: the distributions of both samples are not equal."
   ]
  },
  {
   "cell_type": "markdown",
   "id": "sustainable-implement",
   "metadata": {},
   "source": [
    "https://machinelearningmastery.com/statistical-hypothesis-tests-in-python-cheat-sheet/"
   ]
  },
  {
   "cell_type": "markdown",
   "id": "defined-eleven",
   "metadata": {},
   "source": [
    "<a id=\"1.2\"></a>\n",
    "<h2 style=\"background-color:rgb(141, 153, 165);\n",
    "           font-size:250%;\n",
    "           color:white;\n",
    "           text-align:center;\n",
    "           margin: auto;\n",
    "           padding: 10px;\">Normality Test</h2>"
   ]
  },
  {
   "cell_type": "markdown",
   "id": "female-produce",
   "metadata": {},
   "source": [
    "Let's take a look at some of the more promising candidates for normality from the data visualization section."
   ]
  },
  {
   "cell_type": "code",
   "execution_count": null,
   "id": "abroad-bloom",
   "metadata": {},
   "outputs": [],
   "source": [
    "# histograms of the variables\n",
    "plt.rc('figure',figsize=(12,14))\n",
    "d.hist(xlabelsize=8,ylabelsize=8,yrot=90,color='teal')\n",
    "plt.show()"
   ]
  },
  {
   "cell_type": "markdown",
   "id": "exceptional-fossil",
   "metadata": {},
   "source": [
    "### QQ Plot\n",
    "\n",
    "The Quantile-Quantile Plot known as the \"QQ Plot\" provides a visual representation of normality by comparing theoretical quantiles and the actual quantiles of our variable. The distance between the scatter plot and the red diagonal line represents deviation from a normal distribution. The QQ plot does a much better job in visualizing normality of a variable compared to Histogram or Box Plot."
   ]
  },
  {
   "cell_type": "code",
   "execution_count": null,
   "id": "distant-bloom",
   "metadata": {},
   "outputs": [],
   "source": [
    "import statsmodels.api as sm\n",
    "from scipy.stats import norm\n",
    "import pylab\n",
    "\n",
    "my_data = d.age\n",
    "sm.qqplot(my_data, line='s')\n",
    "pylab.show()"
   ]
  },
  {
   "cell_type": "markdown",
   "id": "decent-genre",
   "metadata": {},
   "source": [
    "## Statistical Tests"
   ]
  },
  {
   "cell_type": "markdown",
   "id": "complete-vault",
   "metadata": {},
   "source": [
    "The Shapiro Wilk test is the most powerful test when testing for a normal distribution, but it typically becomes unreliable with a large sample size greater than a few thousand."
   ]
  },
  {
   "cell_type": "markdown",
   "id": "upset-surname",
   "metadata": {},
   "source": [
    "The D'Agostino's K Square test calculates summary statistics from the data, namely kurtosis and skewness, to determine if the data distribution departs from the normal distribution, named for Ralph D’Agostino."
   ]
  },
  {
   "cell_type": "markdown",
   "id": "static-basic",
   "metadata": {},
   "source": [
    "### D'Agostino's K Square"
   ]
  },
  {
   "cell_type": "code",
   "execution_count": null,
   "id": "significant-equilibrium",
   "metadata": {},
   "outputs": [],
   "source": [
    "from scipy.stats import normaltest\n",
    "stat, p = normaltest(d['age'])\n",
    "print('%s \\nStatistics=%.3f, p=%.3f' % ('age', stat, p))\n",
    "alpha = 0.05\n",
    "if p > alpha:\n",
    "    print('Sample looks Gaussian (fail to reject H0) \\n')\n",
    "else:\n",
    "    print('Sample does not look Gaussian (reject H0) \\n')"
   ]
  },
  {
   "cell_type": "markdown",
   "id": "strong-mexican",
   "metadata": {},
   "source": [
    "### Anderson Test"
   ]
  },
  {
   "cell_type": "code",
   "execution_count": null,
   "id": "intellectual-hungary",
   "metadata": {},
   "outputs": [],
   "source": [
    "from scipy.stats import anderson\n",
    "result = anderson(d['age'])\n",
    "print(' \\n%s \\nStatistics=%.3f' % ('age', round(result.statistic,3)))\n",
    "\n",
    "for i in range(len(result.critical_values)):\n",
    "    sl, cv = result.significance_level[i], result.critical_values[i]\n",
    "    if result.statistic < result.critical_values[i]:\n",
    "        print('%.3f: %.3f, data looks normal (fail to reject H0)' % (sl, cv))\n",
    "    else:\n",
    "        print('%.3f: %.3f, data does not look normal (reject H0)' % (sl, cv))"
   ]
  },
  {
   "cell_type": "markdown",
   "id": "silent-restaurant",
   "metadata": {},
   "source": [
    "### Jarque–Bera Test"
   ]
  },
  {
   "cell_type": "code",
   "execution_count": null,
   "id": "english-victor",
   "metadata": {},
   "outputs": [],
   "source": [
    "from scipy.stats import jarque_bera\n",
    "my_data = d.age.sample(2100)\n",
    "stat, p = jarque_bera(my_data)\n",
    "print('%s \\nStatistics=%.3f, p=%.3f' % ('age', stat, p))\n",
    "alpha = 0.05\n",
    "if p > alpha:\n",
    "    print('Sample looks Gaussian (fail to reject H0) \\n')\n",
    "else:\n",
    "    print('Sample does not look Gaussian (reject H0) \\n')"
   ]
  },
  {
   "cell_type": "markdown",
   "id": "sweet-nerve",
   "metadata": {},
   "source": [
    "<a id=\"1.2\"></a>\n",
    "<h2 style=\"background-color:rgb(141, 153, 165);\n",
    "           font-size:250%;\n",
    "           color:white;\n",
    "           text-align:center;\n",
    "           margin: auto;\n",
    "           padding: 10px;\">Train Test Split</h2>"
   ]
  },
  {
   "cell_type": "code",
   "execution_count": null,
   "id": "proof-norway",
   "metadata": {},
   "outputs": [],
   "source": [
    "X = d.iloc[:,1:]\n",
    "y = d.iloc[:,:1]"
   ]
  },
  {
   "cell_type": "code",
   "execution_count": null,
   "id": "multiple-objective",
   "metadata": {},
   "outputs": [],
   "source": [
    "x_train, x_test, y_train, y_test = train_test_split(X, y, test_size=.2, random_state=1, stratify=y)"
   ]
  },
  {
   "cell_type": "code",
   "execution_count": null,
   "id": "accomplished-tenant",
   "metadata": {},
   "outputs": [],
   "source": [
    "for db in [x_train, x_test, y_train, y_test]:\n",
    "    print(db.shape)"
   ]
  },
  {
   "cell_type": "code",
   "execution_count": null,
   "id": "hungarian-savings",
   "metadata": {},
   "outputs": [],
   "source": [
    "from collections import Counter"
   ]
  },
  {
   "cell_type": "code",
   "execution_count": null,
   "id": "spare-production",
   "metadata": {},
   "outputs": [],
   "source": [
    "counter = Counter(y_train.churn)\n",
    "X = x_train"
   ]
  },
  {
   "cell_type": "code",
   "execution_count": null,
   "id": "alpha-porter",
   "metadata": {},
   "outputs": [],
   "source": [
    "Counter(y_test.churn)[1]/Counter(y_test.churn)[0]"
   ]
  },
  {
   "cell_type": "code",
   "execution_count": null,
   "id": "committed-forwarding",
   "metadata": {},
   "outputs": [],
   "source": [
    "Counter(y_train.churn)[1]/Counter(y_train.churn)[0]"
   ]
  },
  {
   "cell_type": "code",
   "execution_count": null,
   "id": "moving-rally",
   "metadata": {},
   "outputs": [],
   "source": []
  },
  {
   "cell_type": "code",
   "execution_count": null,
   "id": "governmental-insurance",
   "metadata": {},
   "outputs": [],
   "source": []
  },
  {
   "cell_type": "code",
   "execution_count": null,
   "id": "personal-colleague",
   "metadata": {},
   "outputs": [],
   "source": []
  },
  {
   "cell_type": "code",
   "execution_count": null,
   "id": "worthy-price",
   "metadata": {},
   "outputs": [],
   "source": []
  },
  {
   "cell_type": "code",
   "execution_count": null,
   "id": "verbal-california",
   "metadata": {},
   "outputs": [],
   "source": []
  },
  {
   "cell_type": "code",
   "execution_count": null,
   "id": "entitled-calibration",
   "metadata": {},
   "outputs": [],
   "source": [
    "# evaluate imbalanced classification model with different metrics\n",
    "from sklearn.datasets import make_classification\n",
    "from sklearn.model_selection import train_test_split\n",
    "from sklearn.linear_model import LogisticRegression\n",
    "from sklearn.metrics import accuracy_score\n",
    "from sklearn.metrics import precision_score\n",
    "from sklearn.metrics import recall_score\n",
    "from sklearn.metrics import f1_score"
   ]
  },
  {
   "cell_type": "code",
   "execution_count": null,
   "id": "intense-budapest",
   "metadata": {},
   "outputs": [],
   "source": [
    "# define model\n",
    "model = LogisticRegression(solver='liblinear')\n",
    "# fit model\n",
    "model.fit(trainX, trainy)\n",
    "# predict on test set\n",
    "yhat = model.predict(testX)\n",
    "# evaluate predictions\n",
    "print('Accuracy: %.3f' % accuracy_score(testy, yhat))\n",
    "print('Precision: %.3f' % precision_score(testy, yhat))\n",
    "print('Recall: %.3f' % recall_score(testy, yhat))\n",
    "print('F-measure: %.3f' % f1_score(testy, yhat))"
   ]
  },
  {
   "cell_type": "markdown",
   "id": "premium-november",
   "metadata": {},
   "source": [
    "<a id=\"1.2\"></a>\n",
    "<h2 style=\"background-color:rgb(141, 153, 165);\n",
    "           font-size:250%;\n",
    "           color:white;\n",
    "           text-align:center;\n",
    "           margin: auto;\n",
    "           padding: 10px;\">Post-Split Data Processing</h2>"
   ]
  },
  {
   "cell_type": "markdown",
   "id": "robust-meditation",
   "metadata": {},
   "source": [
    "Consistent with the EDA section, none of the variables seems to have a normal distribution. `age` looks closer to a normal distribution but still does not look quite normal. We must transform these variables to apply parametric methods, as most of the parametric methods require a normality assumption."
   ]
  },
  {
   "cell_type": "markdown",
   "id": "ruled-syria",
   "metadata": {},
   "source": [
    "# Scaling"
   ]
  },
  {
   "cell_type": "markdown",
   "id": "atlantic-preference",
   "metadata": {},
   "source": [
    "https://medium.com/@rrfd/standardize-or-normalize-examples-in-python-e3f174b65dfc"
   ]
  },
  {
   "cell_type": "code",
   "execution_count": null,
   "id": "ethical-selling",
   "metadata": {},
   "outputs": [],
   "source": []
  },
  {
   "cell_type": "code",
   "execution_count": null,
   "id": "useful-oracle",
   "metadata": {},
   "outputs": [],
   "source": [
    "# define the scaler\n",
    "scaler = MinMaxScaler()\n",
    "# fit on the training dataset\n",
    "scaler.fit(X_train)\n",
    "# scale the training dataset\n",
    "X_train = scaler.transform(X_train)\n",
    "# scale the test dataset\n",
    "X_test = scaler.transform(X_test)"
   ]
  },
  {
   "cell_type": "markdown",
   "id": "induced-helicopter",
   "metadata": {},
   "source": [
    "## Standard Scaler \n",
    "\n",
    "The Standard Scaler assumes **data is normally distributed** within each feature and scales them such that the distribution centered around 0, with a standard deviation of 1. Centering and scaling happen independently on each feature by computing the relevant statistics on the samples in the training set. If data is not normally distributed, this is not the best Scaler to use. Therefore, we will not be using the Standard Scaler before normalizing the data.\n",
    "\n",
    "[Source: All About Feature Scaling](https://towardsdatascience.com/all-about-feature-scaling-bcc0ad75cb35)"
   ]
  },
  {
   "cell_type": "markdown",
   "id": "atomic-needle",
   "metadata": {},
   "source": [
    "## Min-Max Scaler\n",
    "\n",
    "Transform features by scaling each feature to a given range. This estimator scales and translates each feature individually such that it is in the given range on the training set, e.g., between zero and one. This Scaler shrinks the data within the range of -1 to 1 if there are negative values. We can set the range like [0,1] or [0,5] or [-1,1].\n",
    "\n",
    "This Scaler responds well if **the standard deviation is small** and when a **distribution is not Gaussian**. This Scaler is **sensitive to outliers**.\n",
    "\n",
    "[Source: All About Feature Scaling](https://towardsdatascience.com/all-about-feature-scaling-bcc0ad75cb35)"
   ]
  },
  {
   "cell_type": "markdown",
   "id": "laughing-carry",
   "metadata": {},
   "source": [
    "## Max Abs Scaler\n",
    "\n",
    "Scale each feature by its **maximum absolute value**. This estimator scales and translates each feature individually such that the maximal absolute value of each feature in the training set is 1.0. It does not shift/center the data and thus does not destroy any **sparsity**.\n",
    "\n",
    "On positive-only data, this Scaler behaves similarly to Min Max Scaler and, therefore, also **suffers from the presence of significant outliers**.\n",
    "\n",
    "[Source: All About Feature Scaling](https://towardsdatascience.com/all-about-feature-scaling-bcc0ad75cb35)"
   ]
  },
  {
   "cell_type": "markdown",
   "id": "genuine-world",
   "metadata": {},
   "source": [
    "## Robust Scaler\n",
    "\n",
    "As the name suggests, this Scaler is **robust to outliers**. If our data contains many outliers, scaling using the mean and standard deviation of the data won’t work well.\n",
    "\n",
    "This Scaler removes the median and scales the data according to the **quantile range** (defaults to IQR: Interquartile Range). The IQR is the range between the 1st quartile (25th quantile) and the 3rd quartile (75th quantile). The centering and scaling statistics of this Scaler are based on percentiles and are therefore not influenced by a few numbers of huge marginal outliers. Note that the **outliers themselves are still present** in the transformed data. If a separate outlier clipping is desirable, a non-linear transformation is required.\n",
    "\n",
    "[Source: All About Feature Scaling](https://towardsdatascience.com/all-about-feature-scaling-bcc0ad75cb35)"
   ]
  },
  {
   "cell_type": "markdown",
   "id": "infinite-economics",
   "metadata": {},
   "source": [
    "## Quantile Transformer Scaler\n",
    "\n",
    "Transform features using **quantiles information**.\n",
    "\n",
    "This method transforms the features to follow a **uniform or a normal distribution**. Therefore, for a given feature, this transformation tends to **spread out the most frequent values**. It also reduces the impact of (marginal) outliers: this is, therefore, a robust pre-processing scheme.\n",
    "The cumulative distribution function of a feature is used to project the original values. Note that this transform is **non-linear** and may distort linear correlations between variables measured at the same scale but renders variables measured at different scales more directly comparable. This is also sometimes called as **Rank scaler**.\n",
    "\n",
    "[Source: All About Feature Scaling](https://towardsdatascience.com/all-about-feature-scaling-bcc0ad75cb35)"
   ]
  },
  {
   "cell_type": "markdown",
   "id": "pretty-hacker",
   "metadata": {},
   "source": [
    "## Power Transformer Scaler\n",
    "\n",
    "The power transformer is a family of **parametric, monotonic** transformations that are applied to **make data more Gaussian-like**. This is useful for modeling issues related to the variability of a variable that is unequal across the range **(heteroscedasticity)** or situations where **normality is desired**.\n",
    "\n",
    "The power transform finds the optimal scaling factor in **stabilizing variance and minimizing skewness through maximum likelihood estimation**. Currently, Sklearn implementation of PowerTransformer supports the Box-Cox transform and the Yeo-Johnson transform. The optimal parameter for stabilizing variance and minimizing skewness is estimated through maximum likelihood. Box-Cox requires input data to be strictly positive, while Yeo-Johnson supports both positive or negative data.\n",
    "\n",
    "[Source: All About Feature Scaling](https://towardsdatascience.com/all-about-feature-scaling-bcc0ad75cb35)"
   ]
  },
  {
   "cell_type": "markdown",
   "id": "czech-thunder",
   "metadata": {},
   "source": [
    "## Unit Vector Scaler\n",
    "\n",
    "Scaling is done considering the **whole feature vector to be of unit length**. This usually means dividing each component by the Euclidean length of the vector (**L2 Norm**). In some applications (e.g., histogram features), it can be more practical to use the L1 norm of the feature vector.\n",
    "\n",
    "Like Min-Max Scaling, the Unit Vector technique produces **values of range [0,1]**. When dealing with **features with hard boundaries**, this is quite useful. For example, when dealing with image data, the colors can range from only 0 to 255.\n",
    "\n",
    "[Source: All About Feature Scaling](https://towardsdatascience.com/all-about-feature-scaling-bcc0ad75cb35)"
   ]
  },
  {
   "cell_type": "markdown",
   "id": "realistic-cassette",
   "metadata": {},
   "source": [
    "# Resampling"
   ]
  },
  {
   "cell_type": "markdown",
   "id": "administrative-fiber",
   "metadata": {},
   "source": [
    "## ***SMOTE*** for Balancing Data"
   ]
  },
  {
   "cell_type": "markdown",
   "id": "healthy-aviation",
   "metadata": {},
   "source": [
    ">... ***SMOTE*** first selects a minority class instance a at random and finds its $k$ nearest minority class neighbors. The synthetic instance is then created by choosing one of the $k$ nearest neighbors $b$ at random and connecting $a$ and $b$ to form a line segment in the feature space. The synthetic instances are generated as a convex combination of the two chosen instances $a$ and $b$.\n",
    "\n",
    "[Source: — Page 47, Imbalanced Learning: Foundations, Algorithms, and Applications, 2013.](https://www.amazon.com/dp/1118074629)"
   ]
  },
  {
   "cell_type": "markdown",
   "id": "alert-soldier",
   "metadata": {},
   "source": [
    "[Source: Machine Learning Mastery](https://machinelearningmastery.com/smote-oversampling-for-imbalanced-classification/)"
   ]
  },
  {
   "cell_type": "markdown",
   "id": "demanding-atlas",
   "metadata": {},
   "source": [
    "We can use the `Counter` object to summarize the number of examples in each class to confirm the dataset was created correctly. A general downside of the approach is that synthetic examples are created without considering the majority class, possibly resulting in ambiguous examples if there is a strong overlap for the classes."
   ]
  },
  {
   "cell_type": "code",
   "execution_count": null,
   "id": "fossil-accent",
   "metadata": {},
   "outputs": [],
   "source": [
    "# example of oversampling the minority class\n",
    "from collections import Counter\n",
    "from sklearn.datasets import make_classification\n",
    "from imblearn.over_sampling import SMOTE\n",
    "# generate dataset\n",
    "X, y = make_classification(n_samples=10000, n_features=2, n_redundant=0, n_clusters_per_class=1, weights=[0.99, 0.01], flip_y=0)\n",
    "# summarize class distribution\n",
    "print(Counter(y))\n",
    "# define oversample strategy\n",
    "oversample = SMOTE(sampling_strategy=0.5)\n",
    "# fit and apply the transform\n",
    "X_over, y_over = oversample.fit_resample(X, y)\n",
    "# summarize class distribution\n",
    "print(Counter(y_over))"
   ]
  },
  {
   "cell_type": "code",
   "execution_count": null,
   "id": "objective-fleet",
   "metadata": {},
   "outputs": [],
   "source": [
    "# example of undersampling the majority class\n",
    "from collections import Counter\n",
    "from sklearn.datasets import make_classification\n",
    "from imblearn.under_sampling import RandomUnderSampler\n",
    "# generate dataset\n",
    "X, y = make_classification(n_samples=10000, n_features=2, n_redundant=0, n_clusters_per_class=1, weights=[0.99, 0.01], flip_y=0)\n",
    "# summarize class distribution\n",
    "print(Counter(y))\n",
    "# define undersample strategy\n",
    "undersample = RandomUnderSampler(sampling_strategy=0.5)\n",
    "# fit and apply the transform\n",
    "X_under, y_under = undersample.fit_resample(X, y)\n",
    "# summarize class distribution\n",
    "print(Counter(y_under))"
   ]
  },
  {
   "cell_type": "code",
   "execution_count": null,
   "id": "fancy-notebook",
   "metadata": {},
   "outputs": [],
   "source": [
    "# example of both undersampling and oversampling\n",
    "from collections import Counter\n",
    "from sklearn.datasets import make_classification\n",
    "from imblearn.combine import SMOTEENN\n",
    "# generate dataset\n",
    "X, y = make_classification(n_samples=10000, n_features=2, n_redundant=0, n_clusters_per_class=1, weights=[0.99, 0.01], flip_y=0)\n",
    "# summarize class distribution\n",
    "print(Counter(y))\n",
    "# define sampling strategy\n",
    "sample = SMOTEENN(sampling_strategy=0.5)\n",
    "# fit and apply the transform\n",
    "X_over, y_over = sample.fit_resample(X, y)\n",
    "# summarize class distribution\n",
    "print(Counter(y_over))"
   ]
  },
  {
   "cell_type": "code",
   "execution_count": null,
   "id": "infinite-class",
   "metadata": {},
   "outputs": [],
   "source": [
    "# oversample = SMOTE()\n",
    "# X, y = oversample.fit_resample(c_data[c_data.columns[1:]], c_data[c_data.columns[0]])\n",
    "# usampled_df = X.assign(Churn = y)"
   ]
  },
  {
   "cell_type": "code",
   "execution_count": null,
   "id": "atmospheric-mistress",
   "metadata": {},
   "outputs": [],
   "source": [
    "# ohe_data =usampled_df[usampled_df.columns[15:-1]].copy()\n",
    "# usampled_df = usampled_df.drop(columns=usampled_df.columns[15:-1])"
   ]
  },
  {
   "cell_type": "code",
   "execution_count": null,
   "id": "confused-exchange",
   "metadata": {},
   "outputs": [],
   "source": [
    "# fig = make_subplots(rows=2, cols=1,shared_xaxes=True,subplot_titles=('Perason Correaltion',  'Spearman Correaltion'))\n",
    "# colorscale=     [[1.0              , \"rgb(165,0,38)\"],\n",
    "#                 [0.8888888888888888, \"rgb(215,48,39)\"],\n",
    "#                 [0.7777777777777778, \"rgb(244,109,67)\"],\n",
    "#                 [0.6666666666666666, \"rgb(253,174,97)\"],\n",
    "#                 [0.5555555555555556, \"rgb(254,224,144)\"],\n",
    "#                 [0.4444444444444444, \"rgb(224,243,248)\"],\n",
    "#                 [0.3333333333333333, \"rgb(171,217,233)\"],\n",
    "#                 [0.2222222222222222, \"rgb(116,173,209)\"],\n",
    "#                 [0.1111111111111111, \"rgb(69,117,180)\"],\n",
    "#                 [0.0               , \"rgb(49,54,149)\"]]\n",
    "\n",
    "# s_val =usampled_df.corr('pearson')\n",
    "# s_idx = s_val.index\n",
    "# s_col = s_val.columns\n",
    "# s_val = s_val.values\n",
    "# fig.add_trace(\n",
    "#     go.Heatmap(x=s_col,y=s_idx,z=s_val,name='pearson',showscale=False,xgap=1,ygap=1,colorscale=colorscale),\n",
    "#     row=1, col=1\n",
    "# )\n",
    "\n",
    "\n",
    "# s_val =usampled_df.corr('spearman')\n",
    "# s_idx = s_val.index\n",
    "# s_col = s_val.columns\n",
    "# s_val = s_val.values\n",
    "# fig.add_trace(\n",
    "#     go.Heatmap(x=s_col,y=s_idx,z=s_val,xgap=1,ygap=1,colorscale=colorscale),\n",
    "#     row=2, col=1\n",
    "# )\n",
    "# fig.update_layout(\n",
    "#     hoverlabel=dict(\n",
    "#         bgcolor=\"white\",\n",
    "#         font_size=16,\n",
    "#         font_family=\"Rockwell\"\n",
    "#     )\n",
    "# )\n",
    "# fig.update_layout(height=700, width=900, title_text=\"Upsmapled Correlations\")\n",
    "# fig.show()"
   ]
  },
  {
   "cell_type": "markdown",
   "id": "generic-poison",
   "metadata": {},
   "source": [
    "# Feature Selection"
   ]
  },
  {
   "cell_type": "markdown",
   "id": "incredible-evans",
   "metadata": {},
   "source": [
    "Three benefits of performing feature selection before modeling your data are:\n",
    "\n",
    "* Reduces Overfitting: Less redundant data means less opportunity to make decisions based on noise.\n",
    "* Improves Accuracy: Less misleading data means modeling accuracy improves.\n",
    "* Reduces Training Time: Less data means that algorithms train faster.\n",
    "\n",
    "https://machinelearningmastery.com/feature-selection-machine-learning-python/"
   ]
  },
  {
   "cell_type": "markdown",
   "id": "subjective-orleans",
   "metadata": {},
   "source": [
    "Per Jason: \"Use separate statistical feature selection methods for different variable types. Or try RFE.\" https://machinelearningmastery.com/feature-selection-with-real-and-categorical-data/"
   ]
  },
  {
   "cell_type": "markdown",
   "id": "described-christmas",
   "metadata": {},
   "source": [
    "Kendall’s rank coefficient (nonlinear).\n",
    "https://machinelearningmastery.com/feature-selection-with-real-and-categorical-data/"
   ]
  },
  {
   "cell_type": "markdown",
   "id": "bottom-spelling",
   "metadata": {},
   "source": [
    "https://machinelearningmastery.com/feature-selection-with-real-and-categorical-data/"
   ]
  },
  {
   "cell_type": "markdown",
   "id": "optical-distinction",
   "metadata": {},
   "source": [
    "## Categorical Input, Categorical Output"
   ]
  },
  {
   "cell_type": "markdown",
   "id": "taken-reunion",
   "metadata": {},
   "source": [
    "The most common correlation measure for categorical data is the chi-squared test. You can also use mutual information (information gain) from the field of information theory. In fact, mutual information is a powerful method that may prove useful for both categorical and numerical data, e.g. it is agnostic to the data types."
   ]
  },
  {
   "cell_type": "markdown",
   "id": "listed-transmission",
   "metadata": {},
   "source": [
    "https://machinelearningmastery.com/feature-selection-with-categorical-data/"
   ]
  },
  {
   "cell_type": "markdown",
   "id": "identical-burden",
   "metadata": {},
   "source": [
    "### Chi Square"
   ]
  },
  {
   "cell_type": "code",
   "execution_count": null,
   "id": "marine-reliance",
   "metadata": {},
   "outputs": [],
   "source": [
    "# example of loading and preparing the breast cancer dataset\n",
    "from pandas import read_csv\n",
    "from sklearn.model_selection import train_test_split\n",
    "from sklearn.preprocessing import LabelEncoder\n",
    "from sklearn.preprocessing import OrdinalEncoder"
   ]
  },
  {
   "cell_type": "code",
   "execution_count": null,
   "id": "large-correlation",
   "metadata": {},
   "outputs": [],
   "source": [
    "# load the dataset\n",
    "def load_dataset(filename):\n",
    "\t# load the dataset as a pandas DataFrame\n",
    "\tdata = read_csv(filename, header=None)\n",
    "\t# retrieve numpy array\n",
    "\tdataset = data.values\n",
    "\t# split into input (X) and output (y) variables\n",
    "\tX = dataset[:, :-1]\n",
    "\ty = dataset[:,-1]\n",
    "\t# format all fields as string\n",
    "\tX = X.astype(str)\n",
    "\treturn X, y"
   ]
  },
  {
   "cell_type": "code",
   "execution_count": null,
   "id": "russian-strength",
   "metadata": {},
   "outputs": [],
   "source": [
    "# prepare input data\n",
    "def prepare_inputs(X_train, X_test):\n",
    "\toe = OrdinalEncoder()\n",
    "\toe.fit(X_train)\n",
    "\tX_train_enc = oe.transform(X_train)\n",
    "\tX_test_enc = oe.transform(X_test)\n",
    "\treturn X_train_enc, X_test_enc"
   ]
  },
  {
   "cell_type": "code",
   "execution_count": null,
   "id": "conventional-overhead",
   "metadata": {},
   "outputs": [],
   "source": [
    "# prepare target\n",
    "def prepare_targets(y_train, y_test):\n",
    "\tle = LabelEncoder()\n",
    "\tle.fit(y_train)\n",
    "\ty_train_enc = le.transform(y_train)\n",
    "\ty_test_enc = le.transform(y_test)\n",
    "\treturn y_train_enc, y_test_enc"
   ]
  },
  {
   "cell_type": "code",
   "execution_count": null,
   "id": "abandoned-closure",
   "metadata": {},
   "outputs": [],
   "source": [
    "# load the dataset\n",
    "X, y = load_dataset('breast-cancer.csv')\n",
    "# split into train and test sets\n",
    "X_train, X_test, y_train, y_test = train_test_split(X, y, test_size=0.33, random_state=1)\n",
    "# prepare input data\n",
    "X_train_enc, X_test_enc = prepare_inputs(X_train, X_test)\n",
    "# prepare output data\n",
    "y_train_enc, y_test_enc = prepare_targets(y_train, y_test)"
   ]
  },
  {
   "cell_type": "markdown",
   "id": "pursuant-richardson",
   "metadata": {},
   "source": [
    "### Mutual Information"
   ]
  },
  {
   "cell_type": "code",
   "execution_count": null,
   "id": "hazardous-background",
   "metadata": {},
   "outputs": [],
   "source": [
    "# example of mutual information feature selection for categorical data\n",
    "from pandas import read_csv\n",
    "from sklearn.model_selection import train_test_split\n",
    "from sklearn.preprocessing import LabelEncoder\n",
    "from sklearn.preprocessing import OrdinalEncoder\n",
    "from sklearn.feature_selection import SelectKBest\n",
    "from sklearn.feature_selection import mutual_info_classif\n",
    "from matplotlib import pyplot"
   ]
  },
  {
   "cell_type": "code",
   "execution_count": null,
   "id": "aggregate-james",
   "metadata": {},
   "outputs": [],
   "source": [
    "# load the dataset\n",
    "def load_dataset(filename):\n",
    "\t# load the dataset as a pandas DataFrame\n",
    "\tdata = read_csv(filename, header=None)\n",
    "\t# retrieve numpy array\n",
    "\tdataset = data.values\n",
    "\t# split into input (X) and output (y) variables\n",
    "\tX = dataset[:, :-1]\n",
    "\ty = dataset[:,-1]\n",
    "\t# format all fields as string\n",
    "\tX = X.astype(str)\n",
    "\treturn X, y"
   ]
  },
  {
   "cell_type": "code",
   "execution_count": null,
   "id": "protected-texas",
   "metadata": {},
   "outputs": [],
   "source": [
    "# prepare input data\n",
    "def prepare_inputs(X_train, X_test):\n",
    "\toe = OrdinalEncoder()\n",
    "\toe.fit(X_train)\n",
    "\tX_train_enc = oe.transform(X_train)\n",
    "\tX_test_enc = oe.transform(X_test)\n",
    "\treturn X_train_enc, X_test_enc"
   ]
  },
  {
   "cell_type": "code",
   "execution_count": null,
   "id": "coral-composite",
   "metadata": {},
   "outputs": [],
   "source": [
    "# prepare target\n",
    "def prepare_targets(y_train, y_test):\n",
    "\tle = LabelEncoder()\n",
    "\tle.fit(y_train)\n",
    "\ty_train_enc = le.transform(y_train)\n",
    "\ty_test_enc = le.transform(y_test)\n",
    "\treturn y_train_enc, y_test_enc"
   ]
  },
  {
   "cell_type": "code",
   "execution_count": null,
   "id": "dated-webcam",
   "metadata": {},
   "outputs": [],
   "source": [
    "# feature selection\n",
    "def select_features(X_train, y_train, X_test):\n",
    "\tfs = SelectKBest(score_func=mutual_info_classif, k='all')\n",
    "\tfs.fit(X_train, y_train)\n",
    "\tX_train_fs = fs.transform(X_train)\n",
    "\tX_test_fs = fs.transform(X_test)\n",
    "\treturn X_train_fs, X_test_fs, fs"
   ]
  },
  {
   "cell_type": "code",
   "execution_count": null,
   "id": "opposed-iraqi",
   "metadata": {},
   "outputs": [],
   "source": [
    "# load the dataset\n",
    "X, y = load_dataset('breast-cancer.csv')\n",
    "# split into train and test sets\n",
    "X_train, X_test, y_train, y_test = train_test_split(X, y, test_size=0.33, random_state=1)\n",
    "# prepare input data\n",
    "X_train_enc, X_test_enc = prepare_inputs(X_train, X_test)\n",
    "# prepare output data\n",
    "y_train_enc, y_test_enc = prepare_targets(y_train, y_test)\n",
    "# feature selection\n",
    "X_train_fs, X_test_fs, fs = select_features(X_train_enc, y_train_enc, X_test_enc)\n",
    "# what are scores for the features\n",
    "for i in range(len(fs.scores_)):\n",
    "\tprint('Feature %d: %f' % (i, fs.scores_[i]))\n",
    "# plot the scores\n",
    "pyplot.bar([i for i in range(len(fs.scores_))], fs.scores_)\n",
    "pyplot.show()"
   ]
  },
  {
   "cell_type": "markdown",
   "id": "formed-twenty",
   "metadata": {},
   "source": [
    "## Numerical Input, Categorical Output"
   ]
  },
  {
   "cell_type": "code",
   "execution_count": null,
   "id": "boxed-invitation",
   "metadata": {},
   "outputs": [],
   "source": [
    "def calc_r(method, var1, var2):\n",
    "    \"\"\"Calculates Pearson or Spearman R\"\"\"\n",
    "    if method==\"p\":\n",
    "        r_coeff, p_val = pearsonr(var1, var2)\n",
    "        print(f'[{var1.name} & {var2.name}] \\n  Pearson R Correlation Coefficient: {round(r_coeff,3)} \\n  p-value: {round(p_val,3)}')\n",
    "    else:\n",
    "        r_coeff, p_val = spearmanr(var1, var2)\n",
    "        print(f'[{var1.name} & {var2.name}] \\n  Spearman R Correlation Coefficient: {round(r_coeff,3)} \\n  p-value: {round(p_val,3)}')    \n",
    "    return([r_coeff, p_val])"
   ]
  },
  {
   "cell_type": "code",
   "execution_count": null,
   "id": "hindu-mount",
   "metadata": {},
   "outputs": [],
   "source": [
    "calc_r('s', d['opentobuy_avg_r12'], d['credlim_avg_r12'])"
   ]
  },
  {
   "cell_type": "code",
   "execution_count": null,
   "id": "thermal-colors",
   "metadata": {},
   "outputs": [],
   "source": [
    "d['tx_amt_pertx_r12'] = d['tx_amt_r12']/d['tx_ct_r12']"
   ]
  },
  {
   "cell_type": "code",
   "execution_count": null,
   "id": "numerical-workshop",
   "metadata": {},
   "outputs": [],
   "source": [
    "corr_columns_spearman = ['Churn', 'Age', 'Gender', 'Education', 'Income', 'Marital', \n",
    "                         'Dependents', 'Card Type', 'Product Ct', 'Mo on Book', \n",
    "                         'Mo Inactive, R12', 'Contract Ct, R12',\n",
    "                         'Revolving Balance', 'Credit Limit', 'Open to Buy', 'Utilization Ratio',\n",
    "                         'Tx Amt, R12', 'Tx Ct, R12',\n",
    "                         'Change in Tx Amt, Q4-Q1', 'Change in Tx Ct, Q4-Q1','Tx Amt per Tx, R12']"
   ]
  },
  {
   "cell_type": "code",
   "execution_count": null,
   "id": "straight-pakistan",
   "metadata": {},
   "outputs": [],
   "source": [
    "corr_columns = ['Age', 'Dependents', 'Product Ct', 'Mo on Book', \n",
    "                'Mo Inactive, R12', 'Contract Ct, R12', \n",
    "                'Revolving Balance', 'Credit Limit', 'Open to Buy', 'Utilization Ratio',\n",
    "                'Tx Amt, R12', 'Tx Ct, R12', \n",
    "                'Change in Tx Amt, Q4-Q1', 'Change in Tx Ct, Q4-Q1','Tx Amt per Tx, R12']"
   ]
  },
  {
   "cell_type": "markdown",
   "id": "inside-squad",
   "metadata": {},
   "source": [
    "## Spearman's"
   ]
  },
  {
   "cell_type": "code",
   "execution_count": null,
   "id": "unique-loading",
   "metadata": {},
   "outputs": [],
   "source": [
    "fig = px.imshow(d.rank().corr(method='spearman'), \n",
    "                x=corr_columns_spearman, \n",
    "                y=corr_columns_spearman, \n",
    "                labels=dict(x=\"\", y=\"\", color=\"Correlation\"),\n",
    "                color_continuous_scale='GnBu',\n",
    "                width=600, height=600)\n",
    "fig.show()"
   ]
  },
  {
   "cell_type": "markdown",
   "id": "floppy-outdoors",
   "metadata": {},
   "source": [
    "## Pearson's"
   ]
  },
  {
   "cell_type": "code",
   "execution_count": null,
   "id": "blind-variance",
   "metadata": {},
   "outputs": [],
   "source": [
    "fig = px.imshow(d.corr(), \n",
    "                x=corr_columns, \n",
    "                y=corr_columns, \n",
    "                labels=dict(x=\"\", y=\"\", color=\"Correlation\"),\n",
    "                color_continuous_scale='GnBu',\n",
    "                width=600, height=600)\n",
    "fig.show()"
   ]
  },
  {
   "cell_type": "code",
   "execution_count": null,
   "id": "european-volume",
   "metadata": {},
   "outputs": [],
   "source": [
    "# ANOVA feature selection for numeric input and categorical output\n",
    "from sklearn.datasets import make_classification\n",
    "from sklearn.feature_selection import SelectKBest\n",
    "from sklearn.feature_selection import f_classif\n",
    "# generate dataset\n",
    "X, y = make_classification(n_samples=100, n_features=20, n_informative=2)\n",
    "# define feature selection\n",
    "fs = SelectKBest(score_func=f_classif, k=2)\n",
    "# apply feature selection\n",
    "X_selected = fs.fit_transform(X, y)\n",
    "print(X_selected.shape)"
   ]
  },
  {
   "cell_type": "markdown",
   "id": "false-cruise",
   "metadata": {},
   "source": [
    "## RFE: Recursive Feature Elimination"
   ]
  },
  {
   "cell_type": "markdown",
   "id": "split-homework",
   "metadata": {},
   "source": [
    "https://machinelearningmastery.com/rfe-feature-selection-in-python/"
   ]
  },
  {
   "cell_type": "markdown",
   "id": "protective-adrian",
   "metadata": {},
   "source": [
    "### Wrapper-type (not filter-based) feature selection algorithm\n",
    "\n",
    "RFE works by searching for a subset of features by starting with all features in the training dataset and successfully removing features until the desired number remains.\n",
    "\n",
    "This is achieved by fitting the given machine learning algorithm used in the core of the model, ranking features by importance, discarding the least important features, and re-fitting the model. This process is repeated until a specified number of features remains.\n",
    "\n",
    "Features are scored either using the provided machine learning model (e.g. some algorithms like decision trees offer importance scores) or by using a statistical method."
   ]
  },
  {
   "cell_type": "code",
   "execution_count": null,
   "id": "south-findings",
   "metadata": {},
   "outputs": [],
   "source": [
    "# evaluate RFE for classification\n",
    "from numpy import mean\n",
    "from numpy import std\n",
    "from sklearn.datasets import make_classification\n",
    "from sklearn.model_selection import cross_val_score\n",
    "from sklearn.model_selection import RepeatedStratifiedKFold\n",
    "from sklearn.feature_selection import RFE\n",
    "from sklearn.tree import DecisionTreeClassifier\n",
    "from sklearn.pipeline import Pipeline\n",
    "# define dataset\n",
    "X, y = make_classification(n_samples=1000, n_features=10, n_informative=5, n_redundant=5, random_state=1)\n",
    "# create pipeline\n",
    "rfe = RFE(estimator=DecisionTreeClassifier(), n_features_to_select=5)\n",
    "model = DecisionTreeClassifier()\n",
    "pipeline = Pipeline(steps=[('s',rfe),('m',model)])\n",
    "# evaluate model\n",
    "cv = RepeatedStratifiedKFold(n_splits=10, n_repeats=3, random_state=1)\n",
    "n_scores = cross_val_score(pipeline, X, y, scoring='accuracy', cv=cv, n_jobs=-1, error_score='raise')\n",
    "# report performance\n",
    "print('Accuracy: %.3f (%.3f)' % (mean(n_scores), std(n_scores)))"
   ]
  },
  {
   "cell_type": "code",
   "execution_count": null,
   "id": "north-plant",
   "metadata": {},
   "outputs": [],
   "source": [
    "# make a prediction with an RFE pipeline\n",
    "from numpy import mean\n",
    "from numpy import std\n",
    "from sklearn.datasets import make_classification\n",
    "from sklearn.feature_selection import RFE\n",
    "from sklearn.tree import DecisionTreeClassifier\n",
    "from sklearn.pipeline import Pipeline\n",
    "# define dataset\n",
    "X, y = make_classification(n_samples=1000, n_features=10, n_informative=5, n_redundant=5, random_state=1)\n",
    "# create pipeline\n",
    "rfe = RFE(estimator=DecisionTreeClassifier(), n_features_to_select=5)\n",
    "model = DecisionTreeClassifier()\n",
    "pipeline = Pipeline(steps=[('s',rfe),('m',model)])\n",
    "# fit the model on all available data\n",
    "pipeline.fit(X, y)\n",
    "# make a prediction for one example\n",
    "data = [[2.56999479,-0.13019997,3.16075093,-4.35936352,-1.61271951,-1.39352057,-2.48924933,-1.93094078,3.26130366,2.05692145]]\n",
    "yhat = pipeline.predict(data)\n",
    "print('Predicted Class: %d' % (yhat))"
   ]
  },
  {
   "cell_type": "code",
   "execution_count": null,
   "id": "postal-transportation",
   "metadata": {},
   "outputs": [],
   "source": [
    "# explore the number of selected features for RFE\n",
    "from numpy import mean\n",
    "from numpy import std\n",
    "from sklearn.datasets import make_classification\n",
    "from sklearn.model_selection import cross_val_score\n",
    "from sklearn.model_selection import RepeatedStratifiedKFold\n",
    "from sklearn.feature_selection import RFE\n",
    "from sklearn.tree import DecisionTreeClassifier\n",
    "from sklearn.pipeline import Pipeline\n",
    "from matplotlib import pyplot\n",
    "\n",
    "# get the dataset\n",
    "def get_dataset():\n",
    "\tX, y = make_classification(n_samples=1000, n_features=10, n_informative=5, n_redundant=5, random_state=1)\n",
    "\treturn X, y\n",
    "\n",
    "# get a list of models to evaluate\n",
    "def get_models():\n",
    "\tmodels = dict()\n",
    "\tfor i in range(2, 10):\n",
    "\t\trfe = RFE(estimator=DecisionTreeClassifier(), n_features_to_select=i)\n",
    "\t\tmodel = DecisionTreeClassifier()\n",
    "\t\tmodels[str(i)] = Pipeline(steps=[('s',rfe),('m',model)])\n",
    "\treturn models\n",
    "\n",
    "# evaluate a give model using cross-validation\n",
    "def evaluate_model(model, X, y):\n",
    "\tcv = RepeatedStratifiedKFold(n_splits=10, n_repeats=3, random_state=1)\n",
    "\tscores = cross_val_score(model, X, y, scoring='accuracy', cv=cv, n_jobs=-1, error_score='raise')\n",
    "\treturn scores\n",
    "\n",
    "# define dataset\n",
    "X, y = get_dataset()\n",
    "# get the models to evaluate\n",
    "models = get_models()\n",
    "# evaluate the models and store results\n",
    "results, names = list(), list()\n",
    "for name, model in models.items():\n",
    "\tscores = evaluate_model(model, X, y)\n",
    "\tresults.append(scores)\n",
    "\tnames.append(name)\n",
    "\tprint('>%s %.3f (%.3f)' % (name, mean(scores), std(scores)))\n",
    "# plot model performance for comparison\n",
    "pyplot.boxplot(results, labels=names, showmeans=True)\n",
    "pyplot.show()"
   ]
  },
  {
   "cell_type": "markdown",
   "id": "radical-dallas",
   "metadata": {},
   "source": [
    "## Explore Base Algorithm"
   ]
  },
  {
   "cell_type": "code",
   "execution_count": null,
   "id": "spread-gross",
   "metadata": {},
   "outputs": [],
   "source": [
    "# explore the algorithm wrapped by RFE\n",
    "from numpy import mean\n",
    "from numpy import std\n",
    "from sklearn.datasets import make_classification\n",
    "from sklearn.model_selection import cross_val_score\n",
    "from sklearn.model_selection import RepeatedStratifiedKFold\n",
    "from sklearn.feature_selection import RFE\n",
    "from sklearn.linear_model import LogisticRegression\n",
    "from sklearn.linear_model import Perceptron\n",
    "from sklearn.tree import DecisionTreeClassifier\n",
    "from sklearn.ensemble import RandomForestClassifier\n",
    "from sklearn.ensemble import GradientBoostingClassifier\n",
    "from sklearn.pipeline import Pipeline\n",
    "from matplotlib import pyplot\n",
    "\n",
    "# get the dataset\n",
    "def get_dataset():\n",
    "\tX, y = make_classification(n_samples=1000, n_features=10, n_informative=5, n_redundant=5, random_state=1)\n",
    "\treturn X, y\n",
    "\n",
    "# get a list of models to evaluate\n",
    "def get_models():\n",
    "\tmodels = dict()\n",
    "\t# lr\n",
    "\trfe = RFE(estimator=LogisticRegression(), n_features_to_select=5)\n",
    "\tmodel = DecisionTreeClassifier()\n",
    "\tmodels['lr'] = Pipeline(steps=[('s',rfe),('m',model)])\n",
    "\t# perceptron\n",
    "\trfe = RFE(estimator=Perceptron(), n_features_to_select=5)\n",
    "\tmodel = DecisionTreeClassifier()\n",
    "\tmodels['per'] = Pipeline(steps=[('s',rfe),('m',model)])\n",
    "\t# cart\n",
    "\trfe = RFE(estimator=DecisionTreeClassifier(), n_features_to_select=5)\n",
    "\tmodel = DecisionTreeClassifier()\n",
    "\tmodels['cart'] = Pipeline(steps=[('s',rfe),('m',model)])\n",
    "\t# rf\n",
    "\trfe = RFE(estimator=RandomForestClassifier(), n_features_to_select=5)\n",
    "\tmodel = DecisionTreeClassifier()\n",
    "\tmodels['rf'] = Pipeline(steps=[('s',rfe),('m',model)])\n",
    "\t# gbm\n",
    "\trfe = RFE(estimator=GradientBoostingClassifier(), n_features_to_select=5)\n",
    "\tmodel = DecisionTreeClassifier()\n",
    "\tmodels['gbm'] = Pipeline(steps=[('s',rfe),('m',model)])\n",
    "\treturn models\n",
    "\n",
    "# evaluate a give model using cross-validation\n",
    "def evaluate_model(model, X, y):\n",
    "\tcv = RepeatedStratifiedKFold(n_splits=10, n_repeats=3, random_state=1)\n",
    "\tscores = cross_val_score(model, X, y, scoring='accuracy', cv=cv, n_jobs=-1)\n",
    "\treturn scores\n",
    "\n",
    "# define dataset\n",
    "X, y = get_dataset()\n",
    "# get the models to evaluate\n",
    "models = get_models()\n",
    "# evaluate the models and store results\n",
    "results, names = list(), list()\n",
    "for name, model in models.items():\n",
    "\tscores = evaluate_model(model, X, y)\n",
    "\tresults.append(scores)\n",
    "\tnames.append(name)\n",
    "\tprint('>%s %.3f (%.3f)' % (name, mean(scores), std(scores)))\n",
    "# plot model performance for comparison\n",
    "pyplot.boxplot(results, labels=names, showmeans=True)\n",
    "pyplot.show()"
   ]
  },
  {
   "cell_type": "markdown",
   "id": "wrong-cement",
   "metadata": {},
   "source": [
    "### Select All Features - Naiive Approach to Beat"
   ]
  },
  {
   "cell_type": "code",
   "execution_count": null,
   "id": "banned-advice",
   "metadata": {},
   "outputs": [],
   "source": [
    "# evaluation of a model using all input features\n",
    "from pandas import read_csv\n",
    "from sklearn.preprocessing import LabelEncoder\n",
    "from sklearn.preprocessing import OrdinalEncoder\n",
    "from sklearn.model_selection import train_test_split\n",
    "from sklearn.linear_model import LogisticRegression\n",
    "from sklearn.metrics import accuracy_score\n",
    "\n",
    "# load the dataset\n",
    "def load_dataset(filename):\n",
    "\t# load the dataset as a pandas DataFrame\n",
    "\tdata = read_csv(filename, header=None)\n",
    "\t# retrieve numpy array\n",
    "\tdataset = data.values\n",
    "\t# split into input (X) and output (y) variables\n",
    "\tX = dataset[:, :-1]\n",
    "\ty = dataset[:,-1]\n",
    "\t# format all fields as string\n",
    "\tX = X.astype(str)\n",
    "\treturn X, y\n",
    "\n",
    "# prepare input data\n",
    "def prepare_inputs(X_train, X_test):\n",
    "\toe = OrdinalEncoder()\n",
    "\toe.fit(X_train)\n",
    "\tX_train_enc = oe.transform(X_train)\n",
    "\tX_test_enc = oe.transform(X_test)\n",
    "\treturn X_train_enc, X_test_enc\n",
    "\n",
    "# prepare target\n",
    "def prepare_targets(y_train, y_test):\n",
    "\tle = LabelEncoder()\n",
    "\tle.fit(y_train)\n",
    "\ty_train_enc = le.transform(y_train)\n",
    "\ty_test_enc = le.transform(y_test)\n",
    "\treturn y_train_enc, y_test_enc\n",
    "\n",
    "# load the dataset\n",
    "X, y = load_dataset('breast-cancer.csv')\n",
    "# split into train and test sets\n",
    "X_train, X_test, y_train, y_test = train_test_split(X, y, test_size=0.33, random_state=1)\n",
    "# prepare input data\n",
    "X_train_enc, X_test_enc = prepare_inputs(X_train, X_test)\n",
    "# prepare output data\n",
    "y_train_enc, y_test_enc = prepare_targets(y_train, y_test)\n",
    "# fit the model\n",
    "model = LogisticRegression(solver='lbfgs')\n",
    "model.fit(X_train_enc, y_train_enc)\n",
    "# evaluate the model\n",
    "yhat = model.predict(X_test_enc)\n",
    "# evaluate predictions\n",
    "accuracy = accuracy_score(y_test_enc, yhat)\n",
    "print('Accuracy: %.2f' % (accuracy*100))"
   ]
  },
  {
   "cell_type": "markdown",
   "id": "original-horse",
   "metadata": {},
   "source": [
    "### Model Built Using Chi-Squared Features"
   ]
  },
  {
   "cell_type": "markdown",
   "id": "brave-keeping",
   "metadata": {},
   "source": [
    "In this case, we see that the model achieved an accuracy of about 74%, a slight drop in performance.\n",
    "\n",
    "It is possible that some of the features removed are, in fact, adding value directly or in concert with the selected features.\n",
    "\n",
    "At this stage, we would probably prefer to use all of the input features."
   ]
  },
  {
   "cell_type": "code",
   "execution_count": null,
   "id": "enhanced-climb",
   "metadata": {},
   "outputs": [],
   "source": [
    "# evaluation of a model fit using chi squared input features\n",
    "from pandas import read_csv\n",
    "from sklearn.preprocessing import LabelEncoder\n",
    "from sklearn.preprocessing import OrdinalEncoder\n",
    "from sklearn.feature_selection import SelectKBest\n",
    "from sklearn.feature_selection import chi2\n",
    "from sklearn.model_selection import train_test_split\n",
    "from sklearn.linear_model import LogisticRegression\n",
    "from sklearn.metrics import accuracy_score\n",
    "\n",
    "# load the dataset\n",
    "def load_dataset(filename):\n",
    "\t# load the dataset as a pandas DataFrame\n",
    "\tdata = read_csv(filename, header=None)\n",
    "\t# retrieve numpy array\n",
    "\tdataset = data.values\n",
    "\t# split into input (X) and output (y) variables\n",
    "\tX = dataset[:, :-1]\n",
    "\ty = dataset[:,-1]\n",
    "\t# format all fields as string\n",
    "\tX = X.astype(str)\n",
    "\treturn X, y\n",
    "\n",
    "# prepare input data\n",
    "def prepare_inputs(X_train, X_test):\n",
    "\toe = OrdinalEncoder()\n",
    "\toe.fit(X_train)\n",
    "\tX_train_enc = oe.transform(X_train)\n",
    "\tX_test_enc = oe.transform(X_test)\n",
    "\treturn X_train_enc, X_test_enc\n",
    "\n",
    "# prepare target\n",
    "def prepare_targets(y_train, y_test):\n",
    "\tle = LabelEncoder()\n",
    "\tle.fit(y_train)\n",
    "\ty_train_enc = le.transform(y_train)\n",
    "\ty_test_enc = le.transform(y_test)\n",
    "\treturn y_train_enc, y_test_enc\n",
    "\n",
    "# feature selection\n",
    "def select_features(X_train, y_train, X_test):\n",
    "\tfs = SelectKBest(score_func=chi2, k=4)\n",
    "\tfs.fit(X_train, y_train)\n",
    "\tX_train_fs = fs.transform(X_train)\n",
    "\tX_test_fs = fs.transform(X_test)\n",
    "\treturn X_train_fs, X_test_fs\n",
    "\n",
    "# load the dataset\n",
    "X, y = load_dataset('breast-cancer.csv')\n",
    "# split into train and test sets\n",
    "X_train, X_test, y_train, y_test = train_test_split(X, y, test_size=0.33, random_state=1)\n",
    "# prepare input data\n",
    "X_train_enc, X_test_enc = prepare_inputs(X_train, X_test)\n",
    "# prepare output data\n",
    "y_train_enc, y_test_enc = prepare_targets(y_train, y_test)\n",
    "# feature selection\n",
    "X_train_fs, X_test_fs = select_features(X_train_enc, y_train_enc, X_test_enc)\n",
    "# fit the model\n",
    "model = LogisticRegression(solver='lbfgs')\n",
    "model.fit(X_train_fs, y_train_enc)\n",
    "# evaluate the model\n",
    "yhat = model.predict(X_test_fs)\n",
    "# evaluate predictions\n",
    "accuracy = accuracy_score(y_test_enc, yhat)\n",
    "print('Accuracy: %.2f' % (accuracy*100))"
   ]
  },
  {
   "cell_type": "markdown",
   "id": "excess-israeli",
   "metadata": {},
   "source": [
    "### Model Built Using Mutual Information Features"
   ]
  },
  {
   "cell_type": "markdown",
   "id": "differential-japanese",
   "metadata": {},
   "source": [
    "In this case, we can see a small lift in classification accuracy to 76%.\n",
    "\n",
    "To be sure that the effect is real, it would be a good idea to repeat each experiment multiple times and compare the mean performance. It may also be a good idea to explore using k-fold cross-validation instead of a simple train/test split."
   ]
  },
  {
   "cell_type": "code",
   "execution_count": null,
   "id": "hourly-perfume",
   "metadata": {},
   "outputs": [],
   "source": [
    "# evaluation of a model fit using mutual information input features\n",
    "from pandas import read_csv\n",
    "from sklearn.preprocessing import LabelEncoder\n",
    "from sklearn.preprocessing import OrdinalEncoder\n",
    "from sklearn.feature_selection import SelectKBest\n",
    "from sklearn.feature_selection import mutual_info_classif\n",
    "from sklearn.model_selection import train_test_split\n",
    "from sklearn.linear_model import LogisticRegression\n",
    "from sklearn.metrics import accuracy_score\n",
    "\n",
    "# load the dataset\n",
    "def load_dataset(filename):\n",
    "\t# load the dataset as a pandas DataFrame\n",
    "\tdata = read_csv(filename, header=None)\n",
    "\t# retrieve numpy array\n",
    "\tdataset = data.values\n",
    "\t# split into input (X) and output (y) variables\n",
    "\tX = dataset[:, :-1]\n",
    "\ty = dataset[:,-1]\n",
    "\t# format all fields as string\n",
    "\tX = X.astype(str)\n",
    "\treturn X, y\n",
    "\n",
    "# prepare input data\n",
    "def prepare_inputs(X_train, X_test):\n",
    "\toe = OrdinalEncoder()\n",
    "\toe.fit(X_train)\n",
    "\tX_train_enc = oe.transform(X_train)\n",
    "\tX_test_enc = oe.transform(X_test)\n",
    "\treturn X_train_enc, X_test_enc\n",
    "\n",
    "# prepare target\n",
    "def prepare_targets(y_train, y_test):\n",
    "\tle = LabelEncoder()\n",
    "\tle.fit(y_train)\n",
    "\ty_train_enc = le.transform(y_train)\n",
    "\ty_test_enc = le.transform(y_test)\n",
    "\treturn y_train_enc, y_test_enc\n",
    "\n",
    "# feature selection\n",
    "def select_features(X_train, y_train, X_test):\n",
    "\tfs = SelectKBest(score_func=mutual_info_classif, k=4)\n",
    "\tfs.fit(X_train, y_train)\n",
    "\tX_train_fs = fs.transform(X_train)\n",
    "\tX_test_fs = fs.transform(X_test)\n",
    "\treturn X_train_fs, X_test_fs\n",
    "\n",
    "# load the dataset\n",
    "X, y = load_dataset('breast-cancer.csv')\n",
    "# split into train and test sets\n",
    "X_train, X_test, y_train, y_test = train_test_split(X, y, test_size=0.33, random_state=1)\n",
    "# prepare input data\n",
    "X_train_enc, X_test_enc = prepare_inputs(X_train, X_test)\n",
    "# prepare output data\n",
    "y_train_enc, y_test_enc = prepare_targets(y_train, y_test)\n",
    "# feature selection\n",
    "X_train_fs, X_test_fs = select_features(X_train_enc, y_train_enc, X_test_enc)\n",
    "# fit the model\n",
    "model = LogisticRegression(solver='lbfgs')\n",
    "model.fit(X_train_fs, y_train_enc)\n",
    "# evaluate the model\n",
    "yhat = model.predict(X_test_fs)\n",
    "# evaluate predictions\n",
    "accuracy = accuracy_score(y_test_enc, yhat)\n",
    "print('Accuracy: %.2f' % (accuracy*100))"
   ]
  },
  {
   "cell_type": "markdown",
   "id": "framed-fruit",
   "metadata": {},
   "source": [
    "<a id=\"1.2\"></a>\n",
    "<h2 style=\"background-color:rgb(141, 153, 165);\n",
    "           font-size:250%;\n",
    "           color:white;\n",
    "           text-align:center;\n",
    "           margin: auto;\n",
    "           padding: 10px;\">Model Selection & Evaluation</h2>"
   ]
  },
  {
   "cell_type": "markdown",
   "id": "suspected-westminster",
   "metadata": {},
   "source": [
    "[Source: Machine Learning Mastery, Step-By-Step Framework for Imbalanced Classification Projects](https://machinelearningmastery.com/framework-for-imbalanced-classification-projects/)"
   ]
  },
  {
   "cell_type": "markdown",
   "id": "completed-accounting",
   "metadata": {},
   "source": [
    "# Metric Selection"
   ]
  },
  {
   "cell_type": "markdown",
   "id": "exempt-pharmacology",
   "metadata": {},
   "source": [
    "## PRAUC\n",
    "\n",
    "PRAUC stands for Precision-Recall Area Under Curve. Using this metric, we can predict probabilities with custom threshold to identify a crisp label. This method will optimize both precision and recall across all threshold values. This approach is similar to an AUC that maximizes true positives and minimizes false positives but is more appropriate for imbalanced classification as correctly predicting a positive class is more important."
   ]
  },
  {
   "cell_type": "code",
   "execution_count": null,
   "id": "minimal-canal",
   "metadata": {},
   "outputs": [],
   "source": [
    "# evaluate imbalanced classification model with different metrics\n",
    "from sklearn.datasets import make_classification\n",
    "from sklearn.model_selection import train_test_split\n",
    "from sklearn.linear_model import LogisticRegression\n",
    "from sklearn.metrics import accuracy_score\n",
    "from sklearn.metrics import precision_score\n",
    "from sklearn.metrics import recall_score\n",
    "from sklearn.metrics import f1_score\n",
    "# generate dataset\n",
    "X, y = make_classification(n_samples=10000, n_features=2, n_redundant=0, n_clusters_per_class=1, weights=[0.99], flip_y=0)\n",
    "# split into train/test sets with same class ratio\n",
    "trainX, testX, trainy, testy = train_test_split(X, y, test_size=0.5, stratify=y)\n",
    "# define model\n",
    "model = LogisticRegression(solver='liblinear')\n",
    "# fit model\n",
    "model.fit(trainX, trainy)\n",
    "# predict on test set\n",
    "yhat = model.predict(testX)\n",
    "# evaluate predictions\n",
    "print('Accuracy: %.3f' % accuracy_score(testy, yhat))\n",
    "print('Precision: %.3f' % precision_score(testy, yhat))\n",
    "print('Recall: %.3f' % recall_score(testy, yhat))\n",
    "print('F-measure: %.3f' % f1_score(testy, yhat))"
   ]
  },
  {
   "cell_type": "code",
   "execution_count": null,
   "id": "breathing-flooring",
   "metadata": {},
   "outputs": [],
   "source": [
    "# example of a precision-recall curve for a predictive model\n",
    "from sklearn.datasets import make_classification\n",
    "from sklearn.linear_model import LogisticRegression\n",
    "from sklearn.model_selection import train_test_split\n",
    "from sklearn.metrics import precision_recall_curve\n",
    "from matplotlib import pyplot\n",
    "# generate 2 class dataset\n",
    "X, y = make_classification(n_samples=1000, n_classes=2, random_state=1)\n",
    "# split into train/test sets\n",
    "trainX, testX, trainy, testy = train_test_split(X, y, test_size=0.5, random_state=2)\n",
    "# fit a model\n",
    "model = LogisticRegression(solver='lbfgs')\n",
    "model.fit(trainX, trainy)\n",
    "# predict probabilities\n",
    "yhat = model.predict_proba(testX)\n",
    "# retrieve just the probabilities for the positive class\n",
    "pos_probs = yhat[:, 1]\n",
    "# calculate the no skill line as the proportion of the positive class\n",
    "no_skill = len(y[y==1]) / len(y)\n",
    "# plot the no skill precision-recall curve\n",
    "pyplot.plot([0, 1], [no_skill, no_skill], linestyle='--', label='No Skill')\n",
    "# calculate model precision-recall curve\n",
    "precision, recall, _ = precision_recall_curve(testy, pos_probs)\n",
    "# plot the model precision-recall curve\n",
    "pyplot.plot(recall, precision, marker='.', label='Logistic')\n",
    "# axis labels\n",
    "pyplot.xlabel('Recall')\n",
    "pyplot.ylabel('Precision')\n",
    "# show the legend\n",
    "pyplot.legend()\n",
    "# show the plot\n",
    "pyplot.show()"
   ]
  },
  {
   "cell_type": "code",
   "execution_count": null,
   "id": "direct-belle",
   "metadata": {},
   "outputs": [],
   "source": [
    "# example of a precision-recall auc for a predictive model\n",
    "from sklearn.datasets import make_classification\n",
    "from sklearn.dummy import DummyClassifier\n",
    "from sklearn.linear_model import LogisticRegression\n",
    "from sklearn.model_selection import train_test_split\n",
    "from sklearn.metrics import precision_recall_curve\n",
    "from sklearn.metrics import auc\n",
    "# generate 2 class dataset\n",
    "X, y = make_classification(n_samples=1000, n_classes=2, random_state=1)\n",
    "# split into train/test sets\n",
    "trainX, testX, trainy, testy = train_test_split(X, y, test_size=0.5, random_state=2)\n",
    "# no skill model, stratified random class predictions\n",
    "model = DummyClassifier(strategy='stratified')\n",
    "model.fit(trainX, trainy)\n",
    "yhat = model.predict_proba(testX)\n",
    "pos_probs = yhat[:, 1]\n",
    "# calculate the precision-recall auc\n",
    "precision, recall, _ = precision_recall_curve(testy, pos_probs)\n",
    "auc_score = auc(recall, precision)\n",
    "print('No Skill PR AUC: %.3f' % auc_score)\n",
    "# fit a model\n",
    "model = LogisticRegression(solver='lbfgs')\n",
    "model.fit(trainX, trainy)\n",
    "yhat = model.predict_proba(testX)\n",
    "pos_probs = yhat[:, 1]\n",
    "# calculate the precision-recall auc\n",
    "precision, recall, _ = precision_recall_curve(testy, pos_probs)\n",
    "auc_score = auc(recall, precision)\n",
    "print('Logistic PR AUC: %.3f' % auc_score)"
   ]
  },
  {
   "cell_type": "markdown",
   "id": "molecular-liberty",
   "metadata": {},
   "source": [
    "https://machinelearningmastery.com/roc-curves-and-precision-recall-curves-for-imbalanced-classification/"
   ]
  },
  {
   "cell_type": "markdown",
   "id": "advance-coverage",
   "metadata": {},
   "source": [
    "## F1 & F2 Scores\n",
    "\n",
    "We will also be using the F2 score as our primary performance metric since predicting churned customers as existing (false negatives) is more costly than predicting existing customers as churned (false positives) per the objective statement. For comparison, I will also be computing the F1 score, the would-be metric of choice if both false positives and false negatives are equally costly."
   ]
  },
  {
   "cell_type": "markdown",
   "id": "direct-people",
   "metadata": {},
   "source": [
    "# Model Evaluation on Naiive Approach"
   ]
  },
  {
   "cell_type": "markdown",
   "id": "seven-control",
   "metadata": {},
   "source": [
    "In this section, we will by evaluating a set of different algorithms with minimal hyperparameter tuning. This process will give each algorithm a fair chance to learn and provide us a performance baseline to which our techniques for imbalanced classification should be compared and outperform to be considered skillful. The process involves necessary data preparation specific to each algorithm as well as best-practice defaults for hyperparameters and configuration options.\n",
    "\n",
    "We also need to define a robust test harness which often involves K-fold cross validation. We will use stratified and repeated k-fold validation to ensure equal class distribution of labels across the splits. We will start with $k = 3, 10, 30$ as a default and compare the mean and standard deviation for each folds.\n",
    "\n",
    "Algorithms to spot check:\n",
    "\n",
    "* Naive Algorithms\n",
    "* Linear Algorithms\n",
    "* Nonlinear Algorithms\n",
    "* Ensemble Algorithms"
   ]
  },
  {
   "cell_type": "markdown",
   "id": "contrary-workshop",
   "metadata": {},
   "source": [
    "### Naive Algorithms\n",
    "\n",
    "* F-Measure: Predict the minority class (class 1).\n",
    "* PR ROC: Predict a stratified random class."
   ]
  },
  {
   "cell_type": "markdown",
   "id": "extensive-engine",
   "metadata": {},
   "source": [
    "### Linear Algorithms\n",
    "\n",
    "Linear algorithms come from the field of statistics and make strong parametric assumptions. They are also known as probabilistic algorithms as they can often be applied under a probabilistic framework. They are fast to train and often perform well. \n",
    "\n",
    "* Logistic Regression\n",
    "* Linear Discriminant Analysis\n",
    "* Naive Bayes"
   ]
  },
  {
   "cell_type": "markdown",
   "id": "narrow-check",
   "metadata": {},
   "source": [
    "### Non-Linear Algorithms\n",
    "\n",
    "Linear algorithms come from the field of machine learning and make weak parametric assumptions. They often require more data and are slower to train than linear algorithms. \n",
    "\n",
    "* Decision Tree\n",
    "* k-Nearest Neighbors\n",
    "* Artificial Neural Networks\n",
    "* Support Vector Machine"
   ]
  },
  {
   "cell_type": "markdown",
   "id": "concrete-shakespeare",
   "metadata": {},
   "source": [
    "### Ensemble Algorithms\n",
    "\n",
    "Ensemble algorithms come from the field of statistics and combine the predictions from two or more models. In the case of spot checking algorithms, it is a good idea to start with ensembles of decision tree algorithms as they are known to perform well in practice across a range of problems.\n",
    "\n",
    "* Bagged Decision Trees\n",
    "* Random Forest\n",
    "* Extra Trees\n",
    "* Stochastic Gradient Boosting"
   ]
  },
  {
   "cell_type": "markdown",
   "id": "protecting-trail",
   "metadata": {},
   "source": [
    "# Model Evaluation on Imbalanced Classification"
   ]
  },
  {
   "cell_type": "markdown",
   "id": "japanese-bonus",
   "metadata": {},
   "source": [
    "The spot-checking performed in the previous section provides both naive and modestly skillful models by which all imbalanced techniques can be compared. This allows you to focus on these methods that truly show promise on the problem, rather than getting excited about results that only appear effective compared only to other imbalanced classification techniques (which is an easy trap to fall into).\n",
    "\n",
    "**There are perhaps four types of imbalanced classification techniques to spot check:**\n",
    "\n",
    "* Data Sampling Algorithms\n",
    "* Cost-Sensitive Algorithms\n",
    "* One-Class Algorithms\n",
    "* Probability Tuning Algorithms"
   ]
  },
  {
   "cell_type": "markdown",
   "id": "innocent-wisdom",
   "metadata": {},
   "source": [
    "## Data Sampling Algorithms\n",
    "\n",
    "Data sampling algorithms change the composition of the training dataset to improve the performance of a standard machine learning algorithm on an imbalanced classification problem.\n",
    "\n",
    "**There are perhaps three main types of data sampling techniques:**\n",
    "\n",
    "* Data Oversamplinug.\n",
    "* Data Undersampling.\n",
    "* Combined Oversampling and Undersampling."
   ]
  },
  {
   "cell_type": "markdown",
   "id": "incorrect-anthropology",
   "metadata": {},
   "source": [
    "Data oversampling involves duplicating examples of the minority class or synthesizing new examples from the minority class from existing examples. Perhaps the most popular methods is SMOTE and variations such as Borderline SMOTE. Perhaps the most important hyperparameter to tune is the *amount of oversampling to perform*.\n",
    "\n",
    "**Examples of data oversampling methods include:**\n",
    "\n",
    "* Random Oversampling\n",
    "* SMOTE\n",
    "* Borderline SMOTE\n",
    "* SVM SMOTE\n",
    "* k-Means SMOTE\n",
    "* ADASYN"
   ]
  },
  {
   "cell_type": "markdown",
   "id": "compatible-origin",
   "metadata": {},
   "source": [
    "Undersampling involves deleting examples from the majority class, such as randomly or using an algorithm to carefully choose which examples to delete. Popular editing algorithms include the edited nearest neighbors and Tomek links.\n",
    "\n",
    "**Examples of data undersampling methods include:**\n",
    "\n",
    "* Random Undersampling\n",
    "* Condensed Nearest Neighbor\n",
    "* Tomek Links\n",
    "* Edited Nearest Neighbors\n",
    "* Neighborhood Cleaning Rule\n",
    "* One-Sided Selection"
   ]
  },
  {
   "cell_type": "markdown",
   "id": "passing-northeast",
   "metadata": {},
   "source": [
    "Almost any oversampling method can be combined with almost any undersampling technique. Therefore, it may be beneficial to test a suite of different combinations of oversampling and undersampling techniques.\n",
    "\n",
    "**Examples of popular combinations of over and undersampling include:**\n",
    "\n",
    "* SMOTE and Random Undersampling\n",
    "* SMOTE and Tomek Links\n",
    "* SMOTE and Edited Nearest Neighbors"
   ]
  },
  {
   "cell_type": "markdown",
   "id": "literary-contest",
   "metadata": {},
   "source": [
    "Data sampling algorithms may perform differently depending on the choice of machine learning algorithm. As such, it may be beneficial to test a suite of standard machine learning algorithms, such as all or a subset of those algorithms used when spot checking in the previous section. Additionally, most data sampling algorithms make use of the *k-nearest neighbor algorithm internally*. This algorithm is *very sensitive to the data types and scale of input variables*. As such, it may be important to at least *normalize input variables* that have differing scales prior to testing the methods, and perhaps using specialized methods if some input variables are categorical instead of numerical."
   ]
  },
  {
   "cell_type": "markdown",
   "id": "alternative-russell",
   "metadata": {},
   "source": [
    "## Cost-Sensitive Algorithms\n",
    "\n",
    "Cost-sensitive algorithms are modified versions of machine learning algorithms designed to *take the differing costs of misclassification into account* when fitting the model on the training dataset. These algorithms can be effective when used on imbalanced classification, where the cost of misclassification is configured to be inversely proportional to the distribution of examples in the training dataset. There are many cost-sensitive algorithms to choose from, although it might be practical to test a range of cost-sensitive versions of linear, nonlinear, and ensemble algorithms.\n",
    "\n",
    "**Some examples of machine learning algorithms that can be configured using cost-sensitive training include:**\n",
    "\n",
    "* Logistic Regression\n",
    "* Decision Trees\n",
    "* Support Vector Machines\n",
    "* Artificial Neural Networks\n",
    "* Bagged Decision Trees\n",
    "* Random Forest\n",
    "* Stochastic Gradient Boosting"
   ]
  },
  {
   "cell_type": "markdown",
   "id": "piano-newspaper",
   "metadata": {},
   "source": [
    "In this lesson, you will discover how to use cost-sensitive algorithms for imbalanced classification.\n",
    "\n",
    "Most machine learning algorithms assume that all misclassification errors made by a model are equal. This is often not the case for imbalanced classification problems, where missing a positive or minority class case is worse than incorrectly classifying an example from the negative or majority class.\n",
    "\n",
    "Cost-sensitive learning is a subfield of machine learning that takes the costs of prediction errors (and potentially other costs) into account when training a machine learning model. Many machine learning algorithms can be updated to be cost-sensitive, where the model is penalized for misclassification errors from one class more than the other, such as the minority class.\n",
    "\n",
    "The scikit-learn library provides this capability for a range of algorithms via the class_weight attribute specified when defining the model. A weighting can be specified that is inversely proportional to the class distribution.\n",
    "\n",
    "If the class distribution was 0.99 to 0.01 for the majority and minority classes, then the class_weight argument could be defined as a dictionary that defines a penalty of 0.01 for errors made for the majority class and a penalty of 0.99 for errors made with the minority class, e.g. {0:0.01, 1:0.99}.\n",
    "\n",
    "This is a useful heuristic and can be configured automatically by setting the class_weight argument to the string ‘balanced‘.\n",
    "\n",
    "The example below demonstrates how to define and fit a cost-sensitive logistic regression model on an imbalanced classification dataset."
   ]
  },
  {
   "cell_type": "code",
   "execution_count": null,
   "id": "prerequisite-reasoning",
   "metadata": {},
   "outputs": [],
   "source": [
    "# example of cost sensitive logistic regression for imbalanced classification\n",
    "from sklearn.datasets import make_classification\n",
    "from sklearn.model_selection import train_test_split\n",
    "from sklearn.linear_model import LogisticRegression\n",
    "from sklearn.metrics import f1_score\n",
    "# generate dataset\n",
    "X, y = make_classification(n_samples=10000, n_features=2, n_redundant=0, n_clusters_per_class=1, weights=[0.99], flip_y=0)\n",
    "# split into train/test sets with same class ratio\n",
    "trainX, testX, trainy, testy = train_test_split(X, y, test_size=0.5, stratify=y)\n",
    "# define model\n",
    "model = LogisticRegression(solver='liblinear', class_weight='balanced')\n",
    "# fit model\n",
    "model.fit(trainX, trainy)\n",
    "# predict on test set\n",
    "yhat = model.predict(testX)\n",
    "# evaluate predictions\n",
    "print('F-Measure: %.3f' % f1_score(testy, yhat))"
   ]
  },
  {
   "cell_type": "markdown",
   "id": "friendly-project",
   "metadata": {},
   "source": [
    "## One-Class Algorithms\n",
    "\n",
    "Algorithms used for *outlier detection* and *anomaly detection* can be used for classification tasks. Although unusual, when used in this way, they are often referred to as *one-class classification algorithms*. In some cases, one-class classification algorithms can be very effective, such as when there is a severe class imbalance with very few examples of the positive class.\n",
    "\n",
    "**Examples of one-class classification algorithms to try include:**\n",
    "\n",
    "* One-Class Support Vector Machines\n",
    "* Isolation Forests\n",
    "* Minimum Covariance Determinant\n",
    "* Local Outlier Factor"
   ]
  },
  {
   "cell_type": "markdown",
   "id": "crazy-vanilla",
   "metadata": {},
   "source": [
    "## Probability Tuning Algorithms\n",
    "\n",
    "**Predicted probabilities can be improved in two ways:**\n",
    "\n",
    "* Calibrating Probabilities.\n",
    "* Tuning the Classification Threshold."
   ]
  },
  {
   "cell_type": "markdown",
   "id": "ultimate-split",
   "metadata": {},
   "source": [
    "### Calibrating Probabilities\n",
    "\n",
    "Some algorithms are fit using a probabilistic framework and, in turn, have calibrated probabilities. This means that when 100 examples are predicted to have the positive class label with a probability of 80 percent, then the algorithm will predict the correct class label 80 percent of the time. Calibrated probabilities are required from a model to be considered skillful on a binary classification task when probabilities are either required as the output or used to evaluate the model (e.g. ROC AUC or PR AUC).\n",
    "\n",
    "**Some examples of machine learning algorithms that predict calibrated probabilities are as follows:**\n",
    "\n",
    "* Logistic Regression\n",
    "* Linear Discriminant Analysis\n",
    "* Naive Bayes\n",
    "* Artificial Neural Networks"
   ]
  },
  {
   "cell_type": "markdown",
   "id": "separate-concern",
   "metadata": {},
   "source": [
    "Most nonlinear algorithms do not predict calibrated probabilities, therefore algorithms can be used to post-process the predicted probabilities in order to calibrate them. Therefore, when probabilities are required directly or are used to evaluate a model, and nonlinear algorithms are being used, it is important to calibrate the predicted probabilities.\n",
    "\n",
    "**Some examples of probability calibration algorithms to try include:**\n",
    "\n",
    "* Platt Scaling\n",
    "* Isotonic Regression\n",
    "* Tuning the Classification Threshold"
   ]
  },
  {
   "cell_type": "markdown",
   "id": "acknowledged-webmaster",
   "metadata": {},
   "source": [
    "Some algorithms are designed to naively predict probabilities that later must be mapped to crisp class labels. This is the case if class labels are required as output for the problem, or the model is evaluated using class labels.\n",
    "\n",
    "**Examples of probabilistic machine learning algorithms that predict a probability by default include:**\n",
    "\n",
    "* Logistic Regression\n",
    "* Linear Discriminant Analysis\n",
    "* Naive Bayes\n",
    "* Artificial Neural Networks\n",
    "\n",
    "Probabilities are mapped to class labels using a threshold probability value. All probabilities below the threshold are mapped to class 0, and all probabilities equal-to or above the threshold are mapped to class 1. The default threshold is 0.5, although different thresholds can be used that will dramatically impact the class labels and, in turn, the performance of a machine learning model that natively predicts probabilities. As such, if probabilistic algorithms are used that natively predict a probability and class labels are required as output or used to evaluate models, it is a good idea to try tuning the classification threshold."
   ]
  },
  {
   "cell_type": "markdown",
   "id": "focal-tomato",
   "metadata": {},
   "source": [
    "# Hyperparameter Tuning"
   ]
  },
  {
   "cell_type": "markdown",
   "id": "immediate-spencer",
   "metadata": {},
   "source": [
    "After spot-checking machine learning algorithms and imbalanced algorithms, you will have some idea of what works and what does not on your specific dataset. The simplest approach to hyperparameter tuning is to select the top five or 10 algorithms or algorithm combinations that performed well and tune the hyperparameters for each. There are three popular hyperparameter tuning algorithms that you may choose from:\n",
    "\n",
    "* Random Search\n",
    "* Grid Search\n",
    "* Bayesian Optimization\n",
    "\n",
    "A good default is *grid search* if you know what hyperparameter values to try, otherwise, *random search* should be used. *Bayesian optimization* should be used if possible but can be more challenging to set up and run."
   ]
  },
  {
   "cell_type": "markdown",
   "id": "southern-plain",
   "metadata": {},
   "source": [
    "Tuning the best performing methods is a good start, but not the only approach. There may be some standard machine learning algorithms that perform well, but do not perform as well when used with data sampling or probability calibration. These algorithms could be tuned in concert with their imbalanced-classification augmentations to see if better performance can be achieved. Additionally, there may be imbalanced-classification algorithms, such as a data sampling method that results in a dramatic lift in performance for one or more algorithms. These algorithms themselves may provide an interesting basis for further tuning to see if additional lifts in performance can be achieved."
   ]
  },
  {
   "cell_type": "code",
   "execution_count": null,
   "id": "fifty-chance",
   "metadata": {},
   "outputs": [],
   "source": []
  },
  {
   "cell_type": "code",
   "execution_count": null,
   "id": "valid-parts",
   "metadata": {},
   "outputs": [],
   "source": []
  },
  {
   "cell_type": "code",
   "execution_count": null,
   "id": "skilled-biology",
   "metadata": {},
   "outputs": [],
   "source": []
  },
  {
   "cell_type": "markdown",
   "id": "actual-active",
   "metadata": {},
   "source": [
    "# Model Training"
   ]
  },
  {
   "cell_type": "markdown",
   "id": "protected-skiing",
   "metadata": {},
   "source": [
    "We will be using the following algorithms to train our model. "
   ]
  },
  {
   "cell_type": "markdown",
   "id": "mature-responsibility",
   "metadata": {},
   "source": [
    "# Cross Validation"
   ]
  },
  {
   "cell_type": "markdown",
   "id": "electric-smile",
   "metadata": {},
   "source": [
    "# Model Evaluation"
   ]
  },
  {
   "cell_type": "markdown",
   "id": "refined-person",
   "metadata": {},
   "source": [
    "## Evaluation Metrics for Imbalanced Classification"
   ]
  },
  {
   "cell_type": "markdown",
   "id": "traditional-tuesday",
   "metadata": {},
   "source": [
    "[Source: Tour of Evaluation Metrics for Imbalanced Classification](https://machinelearningmastery.com/tour-of-evaluation-metrics-for-imbalanced-classification/)"
   ]
  },
  {
   "cell_type": "markdown",
   "id": "virtual-somewhere",
   "metadata": {},
   "source": [
    "> *In the case of class imbalances, the problem is even more acute because the default, relatively robust procedures used for unskewed data can break down miserably when the data is skewed.*\n",
    "\n",
    "[— Page 187, Imbalanced Learning: Foundations, Algorithms, and Applications, 2013.](https://www.amazon.com/dp/1118074629)"
   ]
  },
  {
   "cell_type": "markdown",
   "id": "valuable-seating",
   "metadata": {},
   "source": [
    "Unlike standard evaluation metrics that treat all classes as equally important, imbalanced classification problems typically rate classification errors with the minority class as more important than those with the majority class. As such performance metrics may be needed that focus on the minority class, which is made challenging because it is the minority class where we lack observations required to train an effective model."
   ]
  },
  {
   "cell_type": "markdown",
   "id": "whole-breed",
   "metadata": {},
   "source": [
    "## Taxonomy of Classifier Evaluation Metrics\n",
    "\n",
    "There are tens of metrics to choose from when evaluating classifier models, and perhaps hundreds, if you consider all of the pet versions of metrics proposed by academics.\n",
    "\n",
    "In order to get a handle on the metrics that you could choose from, we will use a taxonomy proposed by Cesar Ferri, et al. in their 2008 paper titled “An Experimental Comparison Of Performance Measures For Classification.” It was also adopted in the 2013 book titled “Imbalanced Learning” and I think proves useful.\n",
    "\n",
    "We can divide evaluation metrics into three useful groups; they are:\n",
    "\n",
    "1. Threshold Metrics\n",
    "2. Ranking Metrics\n",
    "3. Probability Metrics"
   ]
  },
  {
   "cell_type": "markdown",
   "id": "speaking-converter",
   "metadata": {},
   "source": [
    "## Threshold Metrics for Imbalanced Classification"
   ]
  },
  {
   "cell_type": "markdown",
   "id": "looking-boutique",
   "metadata": {},
   "source": [
    "Threshold metrics are those that quantify the classification prediction errors.\n",
    "\n",
    "That is, they are designed to summarize the fraction, ratio, or rate of when a predicted class does not match the expected class in a holdout dataset.\n",
    "\n",
    "> *Metrics based on a threshold and a qualitative understanding of error […] These measures are used when we want a model to minimise the number of errors.*\n",
    "\n",
    "[— An Experimental Comparison Of Performance Measures For Classification, 2008.](https://www.sciencedirect.com/science/article/abs/pii/S0167865508002687)"
   ]
  },
  {
   "cell_type": "markdown",
   "id": "bored-agenda",
   "metadata": {},
   "source": [
    "1. Accuracy / Error\n",
    "2. Sensitivity-Specificity Metrics & G-Mean\n",
    "3. Precision-Recall Metrics & F-Score"
   ]
  },
  {
   "cell_type": "markdown",
   "id": "powerful-sucking",
   "metadata": {},
   "source": [
    "### Limitations"
   ]
  },
  {
   "cell_type": "markdown",
   "id": "silent-solomon",
   "metadata": {},
   "source": [
    "Threshold metrics are easy to calculate and easy to understand.\n",
    "\n",
    "One limitation of these metrics is that they assume that the class distribution observed in the training dataset will match the distribution in the test set and in real data when the model is used to make predictions. This is often the case, but when it is not the case, the performance can be quite misleading.\n",
    "\n",
    "> *An important disadvantage of all the threshold metrics discussed in the previous section is that they assume full knowledge of the conditions under which the classifier will be deployed. In particular, they assume that the class imbalance present in the training set is the one that will be encountered throughout the operating life of the classifier*\n",
    "\n",
    "[— Page 196, Imbalanced Learning: Foundations, Algorithms, and Applications, 2013.](https://www.amazon.com/dp/1118074629)\n",
    "\n",
    "Ranking metrics don’t make any assumptions about class distributions."
   ]
  },
  {
   "cell_type": "markdown",
   "id": "intense-support",
   "metadata": {},
   "source": [
    "### Precision-Recall Curve & AUC"
   ]
  },
  {
   "cell_type": "markdown",
   "id": "generic-cosmetic",
   "metadata": {},
   "source": [
    "[Source: ROC Curves and Precision-Recall Curves for Imbalanced Classification](https://machinelearningmastery.com/roc-curves-and-precision-recall-curves-for-imbalanced-classification/)"
   ]
  },
  {
   "cell_type": "markdown",
   "id": "invalid-delaware",
   "metadata": {},
   "source": [
    "> *Precision-recall curves (PR curves) are recommended for highly skewed domains where ROC curves may provide an excessively optimistic view of the performance.*\n",
    "\n",
    "[— A Survey of Predictive Modelling under Imbalanced Distributions, 2015.](https://arxiv.org/abs/1505.01658)"
   ]
  },
  {
   "cell_type": "markdown",
   "id": "anticipated-ghost",
   "metadata": {},
   "source": [
    "To explain why the ROC and PR curves tell a different story, recall that the PR curve focuses on the minority class, whereas the ROC curve covers both classes. Although generally effective, the ROC Curve and ROC AUC can be optimistic under a severe class imbalance, especially when the number of examples in the minority class is small. An alternative to the ROC Curve is the precision-recall curve that can be used in a similar way, although focuses on the performance of the classifier on the minority class."
   ]
  },
  {
   "cell_type": "markdown",
   "id": "textile-collection",
   "metadata": {},
   "source": [
    "![Precision-Recall Curve](Source/img/Depiction-of-a-Precision-Recall-Curve.png)"
   ]
  },
  {
   "cell_type": "markdown",
   "id": "vanilla-supplier",
   "metadata": {},
   "source": [
    "## Ranking Metrics"
   ]
  },
  {
   "cell_type": "markdown",
   "id": "sacred-albany",
   "metadata": {},
   "source": [
    "### F-1 & F-2 Score"
   ]
  },
  {
   "cell_type": "markdown",
   "id": "trying-paraguay",
   "metadata": {},
   "source": [
    "Rank metrics are more concerned with evaluating classifiers based on how effective they are at separating classes."
   ]
  },
  {
   "cell_type": "markdown",
   "id": "complicated-assurance",
   "metadata": {},
   "source": [
    "These metrics require that a classifier predicts a score or a probability of class membership. From this score, different thresholds can be applied to test the effectiveness of classifiers. Those models that maintain a good score across a range of thresholds will have good class separation and will be ranked higher.\n",
    "\n",
    "> *… consider a classifier that gives a numeric score for an instance to be classified in the positive class. Therefore, instead of a simple positive or negative prediction, the score introduces a level of granularity.*\n",
    "\n",
    "– Page 53, Learning from Imbalanced Data Sets, 2018."
   ]
  },
  {
   "cell_type": "markdown",
   "id": "middle-stupid",
   "metadata": {},
   "source": [
    "# Model Evaluation on Baseline"
   ]
  },
  {
   "cell_type": "markdown",
   "id": "structural-audit",
   "metadata": {},
   "source": [
    "# Reference"
   ]
  },
  {
   "cell_type": "markdown",
   "id": "handed-guess",
   "metadata": {},
   "source": [
    "* [Machine Learning Mastery, How and When to Use a Calibrated Classification Model with scikit-learn](https://machinelearningmastery.com/calibrated-classification-model-in-scikit-learn/)\n",
    "* [Machine Learning Mastery, Step-By-Step Framework for Imbalanced Classification Projects](https://machinelearningmastery.com/framework-for-imbalanced-classification-projects/)\n",
    "* [Machine Learning Mastery, What Is the Naive Classifier for Each Imbalanced Classification Metric?](https://machinelearningmastery.com/naive-classifiers-imbalanced-classification-metrics/)\n",
    "* [Machine Learning Mastery, A Gentle Introduction to Cross-Entropy for Machine Learning](https://machinelearningmastery.com/cross-entropy-for-machine-learning/)"
   ]
  },
  {
   "cell_type": "markdown",
   "id": "north-jersey",
   "metadata": {},
   "source": [
    "Brownlee, J. (2020, March 18). Step-By-Step Framework for Imbalanced Classification Projects. Machine Learning Mastery. https://machinelearningmastery.com/framework-for-imbalanced-classification-projects/. Accessed 4 February 2021"
   ]
  },
  {
   "cell_type": "markdown",
   "id": "remarkable-inside",
   "metadata": {},
   "source": [
    "# Reference\n",
    "\n",
    "[Source: Kaggle Submission - Thomas Konstantin - Kaggle Master](https://www.kaggle.com/thomaskonstantin/bank-churn-data-exploration-and-churn-prediction)"
   ]
  },
  {
   "cell_type": "code",
   "execution_count": null,
   "id": "interpreted-spelling",
   "metadata": {},
   "outputs": [],
   "source": [
    "rf_pipe = Pipeline(steps =[ ('scale',StandardScaler()), (\"RF\",RandomForestClassifier(random_state=42)) ])\n",
    "ada_pipe = Pipeline(steps =[ ('scale',StandardScaler()), (\"RF\",AdaBoostClassifier(random_state=42,learning_rate=0.7)) ])\n",
    "svm_pipe = Pipeline(steps =[ ('scale',StandardScaler()), (\"RF\",SVC(random_state=42,kernel='rbf')) ])\n",
    "\n",
    "\n",
    "f1_cross_val_scores = cross_val_score(rf_pipe,train_x,train_y,cv=5,scoring='f1')\n",
    "ada_f1_cross_val_scores=cross_val_score(ada_pipe,train_x,train_y,cv=5,scoring='f1')\n",
    "svm_f1_cross_val_scores=cross_val_score(svm_pipe,train_x,train_y,cv=5,scoring='f1')"
   ]
  },
  {
   "cell_type": "code",
   "execution_count": null,
   "id": "initial-split",
   "metadata": {},
   "outputs": [],
   "source": [
    "rf_pipe.fit(train_x,train_y)\n",
    "rf_prediction = rf_pipe.predict(test_x)\n",
    "\n",
    "ada_pipe.fit(train_x,train_y)\n",
    "ada_prediction = ada_pipe.predict(test_x)\n",
    "\n",
    "svm_pipe.fit(train_x,train_y)\n",
    "svm_prediction = svm_pipe.predict(test_x)"
   ]
  },
  {
   "cell_type": "code",
   "execution_count": null,
   "id": "entire-lying",
   "metadata": {},
   "outputs": [],
   "source": [
    "ohe_data =c_data[c_data.columns[16:]].copy()\n",
    "pc_matrix = pca_model.fit_transform(ohe_data)\n",
    "original_df_with_pcs = pd.concat([c_data,pd.DataFrame(pc_matrix,columns=['PC-{}'.format(i) for i in range(0,N_COMPONENTS)])],axis=1)\n",
    "\n",
    "unsampled_data_prediction_RF = rf_pipe.predict(original_df_with_pcs[X_features])\n",
    "unsampled_data_prediction_ADA = ada_pipe.predict(original_df_with_pcs[X_features])\n",
    "unsampled_data_prediction_SVM = svm_pipe.predict(original_df_with_pcs[X_features])"
   ]
  },
  {
   "cell_type": "code",
   "execution_count": null,
   "id": "failing-ambassador",
   "metadata": {},
   "outputs": [],
   "source": [
    "fig = go.Figure(data=[go.Table(header=dict(values=['<b>Model<b>', '<b>F1 Score On Original Data (Before Upsampling)<b>'],\n",
    "                                           line_color='darkslategray',\n",
    "    fill_color='whitesmoke',\n",
    "    align=['center','center'],\n",
    "    font=dict(color='black', size=18),\n",
    "    height=40),\n",
    "                               \n",
    "                 cells=dict(values=[['<b>Random Forest<b>', '<b>AdaBoost<b>','<b>SVM<b>'], [np.round(f1(unsampled_data_prediction_RF,original_df_with_pcs['Attrition_Flag']),2), \n",
    "                                                                          np.round(f1(unsampled_data_prediction_ADA,original_df_with_pcs['Attrition_Flag']),2),\n",
    "                                                                          np.round(f1(unsampled_data_prediction_SVM,original_df_with_pcs['Attrition_Flag']),2)]]))\n",
    "                     ])\n",
    "\n",
    "fig.update_layout(title='Model Result On Original Data (Without Upsampling)')\n",
    "fig.show()"
   ]
  }
 ],
 "metadata": {
  "kernelspec": {
   "display_name": "Python 3",
   "language": "python",
   "name": "python3"
  },
  "language_info": {
   "codemirror_mode": {
    "name": "ipython",
    "version": 3
   },
   "file_extension": ".py",
   "mimetype": "text/x-python",
   "name": "python",
   "nbconvert_exporter": "python",
   "pygments_lexer": "ipython3",
   "version": "3.8.5"
  }
 },
 "nbformat": 4,
 "nbformat_minor": 5
}
