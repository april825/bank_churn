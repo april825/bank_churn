{
 "cells": [
  {
   "cell_type": "markdown",
   "id": "thick-smooth",
   "metadata": {},
   "source": [
    "<h1 style=\"background-color:rgb(67, 77, 86);\n",
    "           font-size:300%;\n",
    "           font-style: oblique;\n",
    "           color:white;\n",
    "           text-align:center;\n",
    "           margin: auto;\n",
    "           padding: 20px;\">Predicting Bank Churners</h1>"
   ]
  },
  {
   "cell_type": "markdown",
   "id": "immune-universe",
   "metadata": {},
   "source": [
    "<h2 style=\"background-color:rgb(141, 153, 165);\n",
    "           font-size:250%;\n",
    "           color:white;\n",
    "           text-align:center;\n",
    "           margin: auto;\n",
    "           padding: 10px;\">Chapter 3: Data Cleaning</h2>"
   ]
  },
  {
   "cell_type": "markdown",
   "id": "inner-system",
   "metadata": {},
   "source": [
    "<a id='1.1'>\n",
    "    <h2 style='font-size:180%;'>\n",
    "        Mission</h2></a>"
   ]
  },
  {
   "cell_type": "markdown",
   "id": "compressed-horizontal",
   "metadata": {},
   "source": [
    "<figure>\n",
    "    <blockquote cite='https://www.kaggle.com/sakshigoyal7/credit-card-customers/tasks?taskId=2729'>\n",
    "        <p style='font-size:110%;\n",
    "                  color:hsl(208, 12%, 30%);'><i>Our top priority in this business problem is to identify customers who are getting churned. Even if we predict non-churning customers as churned, it won't harm our business. But predicting churning customers as non-churning will do. So recall needs to be higher. Till now, I have managed to get a recall of 62%.</i></p>\n",
    "    </blockquote>\n",
    "    <figcaption>—Sakshi Goyal, <cite>Credit Card Customers, Kaggle</cite></figcaption>"
   ]
  },
  {
   "cell_type": "markdown",
   "id": "sharp-appearance",
   "metadata": {},
   "source": [
    "<h2 style='font-size:180%;'>\n",
    "    Table of Contents\n",
    "</h2>"
   ]
  },
  {
   "cell_type": "markdown",
   "id": "regional-advancement",
   "metadata": {},
   "source": [
    "* [Initial Preparation](#4)\n",
    "    * [Libraries](#4.1)\n",
    "    * [Data Loading](#4.2)\n",
    "* [Normality Test](#5)\n",
    "    * [Histograms](#5.1)\n",
    "    * [Skewness & Kurtosis](#5.2)\n",
    "    * [QQ Plots](#5.3)\n",
    "    * [Statistical Tests](#5.4)\n",
    "        * [D'Agostino's K Square](#5.4.1)\n",
    "        * [Anderson Test](#5.4.2)\n",
    "        * [Jarque–Bera Test](#5.4.3)\n",
    "* [Baseline Models](#6)\n",
    "    * [Logistic Regression](#6.1)\n",
    "    * [Gradient Boosting Classifier](#6.2)\n",
    "* [Outlier Treatment](#7)\n",
    "    * [Isolation Forest](#7.1)\n",
    "    * [Fit on All Classes](#7.2)\n",
    "        * [Logistic Regression](#7.2.1)\n",
    "        * [Gradient Boosting Classifier](#7.2.2)\n",
    "    * [Evaluate Results](#7.3)\n",
    "            "
   ]
  },
  {
   "cell_type": "markdown",
   "id": "cellular-pollution",
   "metadata": {},
   "source": [
    "<a id='4'>\n",
    "    <h2 style='background-color:rgb(141, 153, 165);\n",
    "               font-size:240%;\n",
    "               color:white;\n",
    "               text-align:center;\n",
    "               margin: auto;\n",
    "               padding: 10px;'>\n",
    "        Initial Preparation\n",
    "    </h2>\n",
    "</a>"
   ]
  },
  {
   "cell_type": "markdown",
   "id": "irish-nurse",
   "metadata": {},
   "source": [
    "<a id='4.1'>\n",
    "    <h2 style='font-size:210%;'>\n",
    "        Libraries\n",
    "    </h2>\n",
    "</a>"
   ]
  },
  {
   "cell_type": "code",
   "execution_count": 1,
   "id": "pressing-christopher",
   "metadata": {},
   "outputs": [],
   "source": [
    "# general\n",
    "from scipy import stats \n",
    "import numpy as np\n",
    "import pandas as pd\n",
    "import random as rd\n",
    "import copy\n",
    "\n",
    "# data visualization\n",
    "import matplotlib.pyplot as plt\n",
    "\n",
    "# statistical tests\n",
    "import statsmodels.api as sm\n",
    "from scipy.stats import (\n",
    "    normaltest, anderson, jarque_bera)\n",
    "\n",
    "# machine learning\n",
    "from collections import Counter\n",
    "from sklearn.preprocessing import MinMaxScaler\n",
    "from sklearn.model_selection import (\n",
    "    train_test_split, cross_validate, RepeatedStratifiedKFold, RandomizedSearchCV) # cross_val_score, GridSearchCV\n",
    "from sklearn.pipeline import Pipeline\n",
    "from sklearn.linear_model import LogisticRegression\n",
    "from sklearn.ensemble import (GradientBoostingClassifier, IsolationForest)\n",
    "from sklearn.svm import OneClassSVM\n",
    "from sklearn.metrics import (\n",
    "    accuracy_score, precision_score, recall_score, f1_score, fbeta_score, roc_auc_score,\n",
    "    classification_report, precision_recall_fscore_support, confusion_matrix, SCORERS)\n",
    "from numpy import mean\n",
    "from numpy import std\n",
    "\n",
    "# settings\n",
    "%matplotlib inline\n",
    "pd.options.display.float_format = \"{:,.2f}\".format\n",
    "\n",
    "# saving\n",
    "import os"
   ]
  },
  {
   "cell_type": "markdown",
   "id": "royal-ordering",
   "metadata": {},
   "source": [
    "<a id='4.2'>\n",
    "    <h2 style='font-size:210%;'>\n",
    "        Data Loading\n",
    "    </h2>\n",
    "</a>"
   ]
  },
  {
   "cell_type": "code",
   "execution_count": 2,
   "id": "demonstrated-funds",
   "metadata": {},
   "outputs": [
    {
     "data": {
      "text/html": [
       "<div>\n",
       "<style scoped>\n",
       "    .dataframe tbody tr th:only-of-type {\n",
       "        vertical-align: middle;\n",
       "    }\n",
       "\n",
       "    .dataframe tbody tr th {\n",
       "        vertical-align: top;\n",
       "    }\n",
       "\n",
       "    .dataframe thead th {\n",
       "        text-align: right;\n",
       "    }\n",
       "</style>\n",
       "<table border=\"1\" class=\"dataframe\">\n",
       "  <thead>\n",
       "    <tr style=\"text-align: right;\">\n",
       "      <th></th>\n",
       "      <th>churn</th>\n",
       "      <th>age</th>\n",
       "      <th>gender</th>\n",
       "      <th>dependents</th>\n",
       "      <th>prod_ct</th>\n",
       "      <th>mo_on_book</th>\n",
       "      <th>mo_inactive_r12</th>\n",
       "      <th>contr_ct_r12</th>\n",
       "      <th>revbal_avg_r12</th>\n",
       "      <th>credlim_avg_r12</th>\n",
       "      <th>...</th>\n",
       "      <th>marstat_Married</th>\n",
       "      <th>marstat_Single</th>\n",
       "      <th>marstat_Unknown</th>\n",
       "      <th>card_Blue</th>\n",
       "      <th>card_Gold</th>\n",
       "      <th>card_Platinum</th>\n",
       "      <th>card_Silver</th>\n",
       "      <th>educ</th>\n",
       "      <th>inc</th>\n",
       "      <th>tx_amt_pertx_r12</th>\n",
       "    </tr>\n",
       "  </thead>\n",
       "  <tbody>\n",
       "    <tr>\n",
       "      <th>0</th>\n",
       "      <td>0</td>\n",
       "      <td>45</td>\n",
       "      <td>1</td>\n",
       "      <td>3</td>\n",
       "      <td>5</td>\n",
       "      <td>39</td>\n",
       "      <td>1</td>\n",
       "      <td>3</td>\n",
       "      <td>777.00</td>\n",
       "      <td>12,691.00</td>\n",
       "      <td>...</td>\n",
       "      <td>1</td>\n",
       "      <td>0</td>\n",
       "      <td>0</td>\n",
       "      <td>1</td>\n",
       "      <td>0</td>\n",
       "      <td>0</td>\n",
       "      <td>0</td>\n",
       "      <td>1</td>\n",
       "      <td>3</td>\n",
       "      <td>27.24</td>\n",
       "    </tr>\n",
       "    <tr>\n",
       "      <th>1</th>\n",
       "      <td>0</td>\n",
       "      <td>49</td>\n",
       "      <td>0</td>\n",
       "      <td>5</td>\n",
       "      <td>6</td>\n",
       "      <td>44</td>\n",
       "      <td>1</td>\n",
       "      <td>2</td>\n",
       "      <td>864.00</td>\n",
       "      <td>8,256.00</td>\n",
       "      <td>...</td>\n",
       "      <td>0</td>\n",
       "      <td>1</td>\n",
       "      <td>0</td>\n",
       "      <td>1</td>\n",
       "      <td>0</td>\n",
       "      <td>0</td>\n",
       "      <td>0</td>\n",
       "      <td>3</td>\n",
       "      <td>1</td>\n",
       "      <td>39.12</td>\n",
       "    </tr>\n",
       "    <tr>\n",
       "      <th>2</th>\n",
       "      <td>0</td>\n",
       "      <td>51</td>\n",
       "      <td>1</td>\n",
       "      <td>3</td>\n",
       "      <td>4</td>\n",
       "      <td>36</td>\n",
       "      <td>1</td>\n",
       "      <td>0</td>\n",
       "      <td>0.00</td>\n",
       "      <td>3,418.00</td>\n",
       "      <td>...</td>\n",
       "      <td>1</td>\n",
       "      <td>0</td>\n",
       "      <td>0</td>\n",
       "      <td>1</td>\n",
       "      <td>0</td>\n",
       "      <td>0</td>\n",
       "      <td>0</td>\n",
       "      <td>3</td>\n",
       "      <td>4</td>\n",
       "      <td>94.35</td>\n",
       "    </tr>\n",
       "  </tbody>\n",
       "</table>\n",
       "<p>3 rows × 27 columns</p>\n",
       "</div>"
      ],
      "text/plain": [
       "   churn  age  gender  dependents  prod_ct  mo_on_book  mo_inactive_r12  \\\n",
       "0      0   45       1           3        5          39                1   \n",
       "1      0   49       0           5        6          44                1   \n",
       "2      0   51       1           3        4          36                1   \n",
       "\n",
       "   contr_ct_r12  revbal_avg_r12  credlim_avg_r12  ...  marstat_Married  \\\n",
       "0             3          777.00        12,691.00  ...                1   \n",
       "1             2          864.00         8,256.00  ...                0   \n",
       "2             0            0.00         3,418.00  ...                1   \n",
       "\n",
       "   marstat_Single  marstat_Unknown  card_Blue  card_Gold  card_Platinum  \\\n",
       "0               0                0          1          0              0   \n",
       "1               1                0          1          0              0   \n",
       "2               0                0          1          0              0   \n",
       "\n",
       "   card_Silver  educ  inc  tx_amt_pertx_r12  \n",
       "0            0     1    3             27.24  \n",
       "1            0     3    1             39.12  \n",
       "2            0     3    4             94.35  \n",
       "\n",
       "[3 rows x 27 columns]"
      ]
     },
     "execution_count": 2,
     "metadata": {},
     "output_type": "execute_result"
    }
   ],
   "source": [
    "# load data\n",
    "d = pd.read_csv('source/d_num.csv')\n",
    "d.head(3)"
   ]
  },
  {
   "cell_type": "code",
   "execution_count": 3,
   "id": "compliant-bowling",
   "metadata": {},
   "outputs": [
    {
     "data": {
      "text/plain": [
       "array([dtype('int64'), dtype('float64')], dtype=object)"
      ]
     },
     "execution_count": 3,
     "metadata": {},
     "output_type": "execute_result"
    }
   ],
   "source": [
    "# confirm data consists only of numerical data types\n",
    "d.dtypes.unique()"
   ]
  },
  {
   "cell_type": "markdown",
   "id": "emerging-power",
   "metadata": {},
   "source": [
    "<a id='5'>\n",
    "    <h2 style='background-color:rgb(141, 153, 165);\n",
    "               font-size:240%;\n",
    "               color:white;\n",
    "               text-align:center;\n",
    "               margin: auto;\n",
    "               padding: 10px;'>\n",
    "        Normality Test\n",
    "    </h2>\n",
    "</a>"
   ]
  },
  {
   "cell_type": "markdown",
   "id": "blocked-ensemble",
   "metadata": {},
   "source": [
    "Evaluating normality of data is critical to determining whether to use parametric or nonparametric methods. Parametric methods assume a a known and specific distribution of data which is often a Gaussian. A nonparametric method must be used if the normality assumption is violated. If one uses a method that assume a Gaussian distribution but the data is not Gaussian, the results may be misleading or plain inaccurate. In this section, we test the normality of the ordinal variables to check if our data is sufficiently-normal for us to use parametric methods."
   ]
  },
  {
   "cell_type": "markdown",
   "id": "suspended-drain",
   "metadata": {},
   "source": [
    "<a id='5.1'>\n",
    "    <h2 style='font-size:210%;'>\n",
    "        Histograms\n",
    "    </h2>\n",
    "</a>"
   ]
  },
  {
   "cell_type": "markdown",
   "id": "powered-coverage",
   "metadata": {},
   "source": [
    "Although none of the features looked quite normal in the Visualization section, we can confirm our judgment with statistics and formal normality tests. First, let's review the histograms of the ordinal variables in the data to spot check some promising candidates."
   ]
  },
  {
   "cell_type": "markdown",
   "id": "political-column",
   "metadata": {},
   "source": [
    "We can spot some multinomial (`tx_amt_r12`, `tx_amt_pertx_r12`) and exponential distributions (`credlim_avg_r12`,`opentobuy_avg_r12`) as well as roughly normal distributions (`chng_tx_amt_q4_q1`, `chng_tx_ct_q4_q1`) among the continuous variables."
   ]
  },
  {
   "cell_type": "code",
   "execution_count": 4,
   "id": "behavioral-publication",
   "metadata": {},
   "outputs": [
    {
     "data": {
      "image/png": "[encoded data removed]",
      "text/plain": [
       "<Figure size 720x360 with 8 Axes>"
      ]
     },
     "metadata": {
      "needs_background": "light"
     },
     "output_type": "display_data"
    }
   ],
   "source": [
    "# histograms for continuous variables\n",
    "r, c = 2, 4\n",
    "d.select_dtypes('float').hist(\n",
    "    xlabelsize=8, ylabelsize=8, \n",
    "    yrot=90, \n",
    "    layout=(r, c), figsize=(c*2.5, r*2.5),\n",
    "    color='teal', bins=20)\n",
    "plt.show()"
   ]
  },
  {
   "cell_type": "markdown",
   "id": "cordless-bread",
   "metadata": {},
   "source": [
    "Among the discrete variables, `age` and `dependents` seem to be sufficiently-normal."
   ]
  },
  {
   "cell_type": "code",
   "execution_count": 5,
   "id": "selective-exclusive",
   "metadata": {},
   "outputs": [
    {
     "data": {
      "image/png": "[encoded data removed]",
      "text/plain": [
       "<Figure size 720x360 with 8 Axes>"
      ]
     },
     "metadata": {
      "needs_background": "light"
     },
     "output_type": "display_data"
    }
   ],
   "source": [
    "# histograms for discrete variables\n",
    "var_list = ['age', 'dependents', 'prod_ct', 'mo_on_book',\n",
    "            'mo_inactive_r12', 'contr_ct_r12', \n",
    "            'tx_ct_r12']\n",
    "d[var_list].hist(\n",
    "    xlabelsize=8, ylabelsize=8, \n",
    "    yrot=90, \n",
    "    layout=(r, c), figsize=(c*2.5, r*2.5),\n",
    "    color='teal', bins=10)\n",
    "plt.show()"
   ]
  },
  {
   "cell_type": "markdown",
   "id": "surrounded-palace",
   "metadata": {},
   "source": [
    "<a id='5.2'>\n",
    "    <h2 style='font-size:210%;'>\n",
    "        Skewness & Kurtosis\n",
    "    </h2>\n",
    "</a>"
   ]
  },
  {
   "cell_type": "markdown",
   "id": "median-championship",
   "metadata": {},
   "source": [
    "Skewness measures the skew or asymmetry of the distribution (left or right) while kurtosis measures the thickness of the distribution's tails compared to a Gaussian distribution. These are quick and simple statistical tests for normality. A perfectly normal distribution has a skew of $0$ and kurtosis of $3$ (or the fisher or excess kurtosis of $0$). A reasonably normal range for both skew and kurtosis is $[-1, 1]$."
   ]
  },
  {
   "cell_type": "code",
   "execution_count": 6,
   "id": "underlying-underwear",
   "metadata": {},
   "outputs": [
    {
     "name": "stdout",
     "output_type": "stream",
     "text": [
      "Variables with Skewness < |1|\n"
     ]
    },
    {
     "data": {
      "text/plain": [
       "age               -0.03\n",
       "gender             0.12\n",
       "dependents        -0.02\n",
       "prod_ct           -0.16\n",
       "mo_on_book        -0.11\n",
       "mo_inactive_r12    0.63\n",
       "contr_ct_r12       0.01\n",
       "revbal_avg_r12    -0.15\n",
       "utilratio_avg      0.72\n",
       "tx_ct_r12          0.15\n",
       "marstat_Married    0.15\n",
       "marstat_Single     0.45\n",
       "educ               0.31\n",
       "inc                0.47\n",
       "dtype: float64"
      ]
     },
     "execution_count": 6,
     "metadata": {},
     "output_type": "execute_result"
    }
   ],
   "source": [
    "# `pandas.df.skew`\n",
    "print('Variables with Skewness < |1|')\n",
    "d.skew(axis=0, skipna=True)[d.skew(axis=0, skipna=True).between(-1,1)]"
   ]
  },
  {
   "cell_type": "code",
   "execution_count": 7,
   "id": "adjusted-vaccine",
   "metadata": {},
   "outputs": [
    {
     "name": "stdout",
     "output_type": "stream",
     "text": [
      "Variables with Kurtosis < |1|\n"
     ]
    },
    {
     "data": {
      "text/plain": [
       "age             -0.29\n",
       "dependents      -0.68\n",
       "mo_on_book       0.40\n",
       "contr_ct_r12     0.00\n",
       "utilratio_avg   -0.79\n",
       "tx_ct_r12       -0.37\n",
       "inc             -0.91\n",
       "dtype: float64"
      ]
     },
     "execution_count": 7,
     "metadata": {},
     "output_type": "execute_result"
    }
   ],
   "source": [
    "# `pandas.df.kurt` calculates the fisher method\n",
    "print('Variables with Kurtosis < |1|')\n",
    "d.kurt(axis=0, skipna=True)[d.kurt(axis=0, skipna=True).between(-1,1)]"
   ]
  },
  {
   "cell_type": "markdown",
   "id": "closing-treat",
   "metadata": {},
   "source": [
    "Both `age` and `dependents` are slightly platykurtic meaning that they have thinner tails with values more spread out compared to a normal distribution. The negative kurtosis between $[-1, 1]$ falls within the general guideline for validating sufficiently normal data."
   ]
  },
  {
   "cell_type": "code",
   "execution_count": 8,
   "id": "rolled-acoustic",
   "metadata": {},
   "outputs": [],
   "source": [
    "# round(stats.kurtosis(d['age'], fisher=True),2)"
   ]
  },
  {
   "cell_type": "markdown",
   "id": "legislative-indiana",
   "metadata": {},
   "source": [
    "<a id='5.3'>\n",
    "    <h2 style='font-size:210%;'>\n",
    "        QQ Plots\n",
    "    </h2>\n",
    "</a>"
   ]
  },
  {
   "cell_type": "markdown",
   "id": "necessary-poland",
   "metadata": {},
   "source": [
    "The Quantile-Quantile Plot known as the \"QQ Plot\" provides a visual representation of normality by comparing theoretical quantiles and the actual quantiles of our variable. The distance between the scatter plot and the red diagonal line represents deviation from a normal distribution. The QQ plot does a much better job in visualizing normality of a variable compared to a histogram or a box plot."
   ]
  },
  {
   "cell_type": "code",
   "execution_count": 9,
   "id": "framed-flexibility",
   "metadata": {},
   "outputs": [
    {
     "data": {
      "image/png": "[encoded data removed]",
      "text/plain": [
       "<Figure size 360x360 with 1 Axes>"
      ]
     },
     "metadata": {
      "needs_background": "light"
     },
     "output_type": "display_data"
    }
   ],
   "source": [
    "# import statsmodels.api as sm\n",
    "plt.rc('figure',figsize=(5,5))\n",
    "my_data = d['age']\n",
    "sm.qqplot(my_data, line='s')\n",
    "plt.title('Age QQ Plot')\n",
    "plt.show()"
   ]
  },
  {
   "cell_type": "code",
   "execution_count": 10,
   "id": "loose-receipt",
   "metadata": {},
   "outputs": [
    {
     "data": {
      "image/png": "[encoded data removed]",
      "text/plain": [
       "<Figure size 360x360 with 1 Axes>"
      ]
     },
     "metadata": {
      "needs_background": "light"
     },
     "output_type": "display_data"
    }
   ],
   "source": [
    "# import statsmodels.api as sm\n",
    "plt.rc('figure',figsize=(5,5))\n",
    "my_data = d['dependents']\n",
    "sm.qqplot(my_data, line='s')\n",
    "plt.title('Dependents QQ Plot')\n",
    "plt.show()"
   ]
  },
  {
   "cell_type": "code",
   "execution_count": 11,
   "id": "alive-victorian",
   "metadata": {},
   "outputs": [
    {
     "data": {
      "image/png": "[encoded data removed]",
      "text/plain": [
       "<Figure size 360x360 with 1 Axes>"
      ]
     },
     "metadata": {
      "needs_background": "light"
     },
     "output_type": "display_data"
    }
   ],
   "source": [
    "# import statsmodels.api as sm\n",
    "plt.rc('figure',figsize=(5,5))\n",
    "my_data = d['tx_ct_r12']\n",
    "sm.qqplot(my_data, line='s')\n",
    "plt.title('R12 Transaction Count QQ Plot')\n",
    "plt.show()"
   ]
  },
  {
   "cell_type": "code",
   "execution_count": 12,
   "id": "casual-jenny",
   "metadata": {},
   "outputs": [
    {
     "data": {
      "image/png": "[encoded data removed]",
      "text/plain": [
       "<Figure size 360x360 with 1 Axes>"
      ]
     },
     "metadata": {
      "needs_background": "light"
     },
     "output_type": "display_data"
    }
   ],
   "source": [
    "# import statsmodels.api as sm\n",
    "plt.rc('figure',figsize=(5,5))\n",
    "my_data = d['mo_on_book']\n",
    "sm.qqplot(my_data, line='s')\n",
    "plt.title('Months on Book QQ Plot')\n",
    "plt.show()"
   ]
  },
  {
   "cell_type": "markdown",
   "id": "successful-massachusetts",
   "metadata": {},
   "source": [
    "All four plots show pretty good signs of normality except the two extremes of the distribution which is indicative of high kurtosis mentioned above."
   ]
  },
  {
   "cell_type": "markdown",
   "id": "contained-spirit",
   "metadata": {},
   "source": [
    "<a id='5.4'>\n",
    "    <h2 style='font-size:210%;'>\n",
    "        Statistical Tests\n",
    "    </h2>\n",
    "</a>"
   ]
  },
  {
   "cell_type": "markdown",
   "id": "stupid-functionality",
   "metadata": {},
   "source": [
    "In this section, I will try three different statistical normality tests: `D'Agostino's K Square`, `Anderson Test`, and `Jarque-Bera` to examine if the statistical normality test results are also aligned with the normality patterns we observed in the previous section. These normality tests can be used to check if the the more promising candidates are sufficiently normal for us to proceed with parametric methods, most of which require normality assumptions."
   ]
  },
  {
   "cell_type": "markdown",
   "id": "imported-innocent",
   "metadata": {},
   "source": [
    "By the Central Limit Theorem, as $n$ gets large the distribution of sample means will approximate a normal distribution. Thus, formal statistical tests to check the normality of distributions are not as useful with the full data. For this reason and for demonstration purposes, I take a sample of randomly selected $800$ for all three normality tests. This way, the tests will yield results that are usable for the practical purposes of our analysis."
   ]
  },
  {
   "cell_type": "markdown",
   "id": "ruled-alert",
   "metadata": {},
   "source": [
    "First, let's take a look at D'Agostino's K Square test which calculates kurtosis and skewness of the data to determine if the distribution deviates from the normal distribution."
   ]
  },
  {
   "cell_type": "code",
   "execution_count": 13,
   "id": "pregnant-noise",
   "metadata": {},
   "outputs": [],
   "source": [
    "sample_n = 800"
   ]
  },
  {
   "cell_type": "markdown",
   "id": "brilliant-patio",
   "metadata": {},
   "source": [
    "<a id='5.4.1'>\n",
    "    <h2 style='font-size:180%;'>\n",
    "        D'Agostino's K Square\n",
    "    </h2>\n",
    "</a>"
   ]
  },
  {
   "cell_type": "code",
   "execution_count": 14,
   "id": "polyphonic-promotion",
   "metadata": {},
   "outputs": [
    {
     "name": "stdout",
     "output_type": "stream",
     "text": [
      "D'Agostino's K Square Results for:\n",
      "age \n",
      "Statistics=3.808, p=0.149\n",
      "Sample looks Gaussian (fail to reject H0) \n",
      "\n"
     ]
    }
   ],
   "source": [
    "# from scipy.stats import normaltest\n",
    "stat, p = normaltest(d['age'].sample(sample_n, random_state=1))\n",
    "print('D\\'Agostino\\'s K Square Results for:')\n",
    "print('%s \\nStatistics=%.3f, p=%.3f' % ('age', stat, p))\n",
    "alpha = 0.05\n",
    "if p > alpha:\n",
    "    print('Sample looks Gaussian (fail to reject H0) \\n')\n",
    "else:\n",
    "    print('Sample does not look Gaussian (reject H0) \\n')"
   ]
  },
  {
   "cell_type": "code",
   "execution_count": 15,
   "id": "lesbian-strip",
   "metadata": {},
   "outputs": [
    {
     "name": "stdout",
     "output_type": "stream",
     "text": [
      "D'Agostino's K Square Results for:\n",
      "dependents \n",
      "Statistics=28.351, p=0.000\n",
      "Sample does not look Gaussian (reject H0) \n",
      "\n"
     ]
    }
   ],
   "source": [
    "# from scipy.stats import normaltest\n",
    "stat, p = normaltest(d['dependents'].sample(sample_n, random_state=1))\n",
    "print('D\\'Agostino\\'s K Square Results for:')\n",
    "print('%s \\nStatistics=%.3f, p=%.3f' % ('dependents', stat, p))\n",
    "alpha = 0.05\n",
    "if p > alpha:\n",
    "    print('Sample looks Gaussian (fail to reject H0) \\n')\n",
    "else:\n",
    "    print('Sample does not look Gaussian (reject H0) \\n')"
   ]
  },
  {
   "cell_type": "code",
   "execution_count": 16,
   "id": "sustainable-rover",
   "metadata": {},
   "outputs": [
    {
     "name": "stdout",
     "output_type": "stream",
     "text": [
      "D'Agostino's K Square Results for:\n",
      "tx_ct_r12 \n",
      "Statistics=4.431, p=0.109\n",
      "Sample looks Gaussian (fail to reject H0) \n",
      "\n"
     ]
    }
   ],
   "source": [
    "# from scipy.stats import normaltest\n",
    "stat, p = normaltest(d['tx_ct_r12'].sample(sample_n, random_state=1))\n",
    "print('D\\'Agostino\\'s K Square Results for:')\n",
    "print('%s \\nStatistics=%.3f, p=%.3f' % ('tx_ct_r12', stat, p))\n",
    "alpha = 0.05\n",
    "if p > alpha:\n",
    "    print('Sample looks Gaussian (fail to reject H0) \\n')\n",
    "else:\n",
    "    print('Sample does not look Gaussian (reject H0) \\n')"
   ]
  },
  {
   "cell_type": "code",
   "execution_count": 17,
   "id": "thousand-regular",
   "metadata": {},
   "outputs": [
    {
     "name": "stdout",
     "output_type": "stream",
     "text": [
      "D'Agostino's K Square Results for:\n",
      "mo_on_book \n",
      "Statistics=1.948, p=0.378\n",
      "Sample looks Gaussian (fail to reject H0) \n",
      "\n"
     ]
    }
   ],
   "source": [
    "# from scipy.stats import normaltest\n",
    "stat, p = normaltest(d['mo_on_book'].sample(sample_n, random_state=1))\n",
    "print('D\\'Agostino\\'s K Square Results for:')\n",
    "print('%s \\nStatistics=%.3f, p=%.3f' % ('mo_on_book', stat, p))\n",
    "alpha = 0.05\n",
    "if p > alpha:\n",
    "    print('Sample looks Gaussian (fail to reject H0) \\n')\n",
    "else:\n",
    "    print('Sample does not look Gaussian (reject H0) \\n')"
   ]
  },
  {
   "cell_type": "markdown",
   "id": "sustained-power",
   "metadata": {},
   "source": [
    "<a id='5.4.2'>\n",
    "    <h2 style='font-size:180%;'>\n",
    "        Anderson Test\n",
    "    </h2>\n",
    "</a>"
   ]
  },
  {
   "cell_type": "code",
   "execution_count": 18,
   "id": "wrong-tanzania",
   "metadata": {},
   "outputs": [
    {
     "name": "stdout",
     "output_type": "stream",
     "text": [
      "Anderson Test Results for:\n",
      "age \n",
      "Statistics=0.929\n",
      "15.000: 0.573, data does not look Gaussian (reject H0)\n",
      "10.000: 0.653, data does not look Gaussian (reject H0)\n",
      "5.000: 0.783, data does not look Gaussian (reject H0)\n",
      "2.500: 0.913, data does not look Gaussian (reject H0)\n",
      "1.000: 1.087, data looks Gaussian (fail to reject H0)\n"
     ]
    }
   ],
   "source": [
    "# from scipy.stats import anderson\n",
    "result = anderson(d['age'].sample(sample_n, random_state=1))\n",
    "print('Anderson Test Results for:')\n",
    "print('%s \\nStatistics=%.3f' % ('age', round(result.statistic,3)))\n",
    "\n",
    "for i in range(len(result.critical_values)):\n",
    "    sl, cv = result.significance_level[i], result.critical_values[i]\n",
    "    if result.statistic < result.critical_values[i]:\n",
    "        print('%.3f: %.3f, data looks Gaussian (fail to reject H0)' % (sl, cv))\n",
    "    else:\n",
    "        print('%.3f: %.3f, data does not look Gaussian (reject H0)' % (sl, cv))"
   ]
  },
  {
   "cell_type": "code",
   "execution_count": 19,
   "id": "sophisticated-belize",
   "metadata": {},
   "outputs": [
    {
     "name": "stdout",
     "output_type": "stream",
     "text": [
      "Anderson Test Results for:\n",
      "dependents \n",
      "Statistics=21.069\n",
      "15.000: 0.573, data does not look Gaussian (reject H0)\n",
      "10.000: 0.653, data does not look Gaussian (reject H0)\n",
      "5.000: 0.783, data does not look Gaussian (reject H0)\n",
      "2.500: 0.913, data does not look Gaussian (reject H0)\n",
      "1.000: 1.087, data does not look Gaussian (reject H0)\n"
     ]
    }
   ],
   "source": [
    "# from scipy.stats import anderson\n",
    "result = anderson(d['dependents'].sample(sample_n, random_state=1))\n",
    "print('Anderson Test Results for:')\n",
    "print('%s \\nStatistics=%.3f' % ('dependents', round(result.statistic,3)))\n",
    "\n",
    "for i in range(len(result.critical_values)):\n",
    "    sl, cv = result.significance_level[i], result.critical_values[i]\n",
    "    if result.statistic < result.critical_values[i]:\n",
    "        print('%.3f: %.3f, data looks Gaussian (fail to reject H0)' % (sl, cv))\n",
    "    else:\n",
    "        print('%.3f: %.3f, data does not look Gaussian (reject H0)' % (sl, cv))"
   ]
  },
  {
   "cell_type": "code",
   "execution_count": 20,
   "id": "hispanic-above",
   "metadata": {},
   "outputs": [
    {
     "name": "stdout",
     "output_type": "stream",
     "text": [
      "Anderson Test Results for:\n",
      "tx_ct_r12 \n",
      "Statistics=3.964\n",
      "15.000: 0.573, data does not look Gaussian (reject H0)\n",
      "10.000: 0.653, data does not look Gaussian (reject H0)\n",
      "5.000: 0.783, data does not look Gaussian (reject H0)\n",
      "2.500: 0.913, data does not look Gaussian (reject H0)\n",
      "1.000: 1.087, data does not look Gaussian (reject H0)\n"
     ]
    }
   ],
   "source": [
    "# from scipy.stats import anderson\n",
    "result = anderson(d['tx_ct_r12'].sample(sample_n, random_state=1))\n",
    "print('Anderson Test Results for:')\n",
    "print('%s \\nStatistics=%.3f' % ('tx_ct_r12', round(result.statistic,3)))\n",
    "\n",
    "for i in range(len(result.critical_values)):\n",
    "    sl, cv = result.significance_level[i], result.critical_values[i]\n",
    "    if result.statistic < result.critical_values[i]:\n",
    "        print('%.3f: %.3f, data looks Gaussian (fail to reject H0)' % (sl, cv))\n",
    "    else:\n",
    "        print('%.3f: %.3f, data does not look Gaussian (reject H0)' % (sl, cv))"
   ]
  },
  {
   "cell_type": "code",
   "execution_count": 21,
   "id": "fatal-voice",
   "metadata": {},
   "outputs": [
    {
     "name": "stdout",
     "output_type": "stream",
     "text": [
      "Anderson Test Results for:\n",
      "mo_on_book \n",
      "Statistics=6.569\n",
      "15.000: 0.573, data does not look Gaussian (reject H0)\n",
      "10.000: 0.653, data does not look Gaussian (reject H0)\n",
      "5.000: 0.783, data does not look Gaussian (reject H0)\n",
      "2.500: 0.913, data does not look Gaussian (reject H0)\n",
      "1.000: 1.087, data does not look Gaussian (reject H0)\n"
     ]
    }
   ],
   "source": [
    "# from scipy.stats import anderson\n",
    "result = anderson(d['mo_on_book'].sample(sample_n, random_state=1))\n",
    "print('Anderson Test Results for:')\n",
    "print('%s \\nStatistics=%.3f' % ('mo_on_book', round(result.statistic,3)))\n",
    "\n",
    "for i in range(len(result.critical_values)):\n",
    "    sl, cv = result.significance_level[i], result.critical_values[i]\n",
    "    if result.statistic < result.critical_values[i]:\n",
    "        print('%.3f: %.3f, data looks Gaussian (fail to reject H0)' % (sl, cv))\n",
    "    else:\n",
    "        print('%.3f: %.3f, data does not look Gaussian (reject H0)' % (sl, cv))"
   ]
  },
  {
   "cell_type": "markdown",
   "id": "australian-overview",
   "metadata": {},
   "source": [
    "<a id='5.4.3'>\n",
    "    <h2 style='font-size:180%;'>\n",
    "        Jarque–Bera Test\n",
    "    </h2>\n",
    "</a>"
   ]
  },
  {
   "cell_type": "code",
   "execution_count": 22,
   "id": "quarterly-future",
   "metadata": {},
   "outputs": [
    {
     "name": "stdout",
     "output_type": "stream",
     "text": [
      "Jarque–Bera Test Results for:\n",
      "age \n",
      "Statistics=3.493, p=0.174\n",
      "Sample looks Gaussian (fail to reject H0) \n",
      "\n"
     ]
    }
   ],
   "source": [
    "# from scipy.stats import jarque_bera\n",
    "my_data = d['age'].sample(sample_n, random_state=1)\n",
    "stat, p = jarque_bera(my_data)\n",
    "print('Jarque–Bera Test Results for:')\n",
    "print('%s \\nStatistics=%.3f, p=%.3f' % ('age', stat, p))\n",
    "alpha = 0.05\n",
    "if p > alpha:\n",
    "    print('Sample looks Gaussian (fail to reject H0) \\n')\n",
    "else:\n",
    "    print('Sample does not look Gaussian (reject H0) \\n')"
   ]
  },
  {
   "cell_type": "code",
   "execution_count": 23,
   "id": "loaded-cheat",
   "metadata": {},
   "outputs": [
    {
     "name": "stdout",
     "output_type": "stream",
     "text": [
      "Jarque–Bera Test Results for:\n",
      "dependents \n",
      "Statistics=13.932, p=0.001\n",
      "Sample does not look Gaussian (reject H0) \n",
      "\n"
     ]
    }
   ],
   "source": [
    "# from scipy.stats import jarque_bera\n",
    "my_data = d['dependents'].sample(sample_n, random_state=1)\n",
    "stat, p = jarque_bera(my_data)\n",
    "print('Jarque–Bera Test Results for:')\n",
    "print('%s \\nStatistics=%.3f, p=%.3f' % ('dependents', stat, p))\n",
    "alpha = 0.05\n",
    "if p > alpha:\n",
    "    print('Sample looks Gaussian (fail to reject H0) \\n')\n",
    "else:\n",
    "    print('Sample does not look Gaussian (reject H0) \\n')"
   ]
  },
  {
   "cell_type": "code",
   "execution_count": 24,
   "id": "sticky-brunei",
   "metadata": {},
   "outputs": [
    {
     "name": "stdout",
     "output_type": "stream",
     "text": [
      "Jarque–Bera Test Results for:\n",
      "tx_ct_r12 \n",
      "Statistics=4.252, p=0.119\n",
      "Sample looks Gaussian (fail to reject H0) \n",
      "\n"
     ]
    }
   ],
   "source": [
    "# from scipy.stats import jarque_bera\n",
    "my_data = d['tx_ct_r12'].sample(sample_n, random_state=1)\n",
    "stat, p = jarque_bera(my_data)\n",
    "print('Jarque–Bera Test Results for:')\n",
    "print('%s \\nStatistics=%.3f, p=%.3f' % ('tx_ct_r12', stat, p))\n",
    "alpha = 0.05\n",
    "if p > alpha:\n",
    "    print('Sample looks Gaussian (fail to reject H0) \\n')\n",
    "else:\n",
    "    print('Sample does not look Gaussian (reject H0) \\n')"
   ]
  },
  {
   "cell_type": "code",
   "execution_count": 25,
   "id": "adjacent-attitude",
   "metadata": {},
   "outputs": [
    {
     "name": "stdout",
     "output_type": "stream",
     "text": [
      "Jarque–Bera Test Results for:\n",
      "mo_on_book \n",
      "Statistics=1.883, p=0.390\n",
      "Sample looks Gaussian (fail to reject H0) \n",
      "\n"
     ]
    }
   ],
   "source": [
    "# from scipy.stats import jarque_bera\n",
    "my_data = d['mo_on_book'].sample(sample_n, random_state=1)\n",
    "stat, p = jarque_bera(my_data)\n",
    "print('Jarque–Bera Test Results for:')\n",
    "print('%s \\nStatistics=%.3f, p=%.3f' % ('mo_on_book', stat, p))\n",
    "alpha = 0.05\n",
    "if p > alpha:\n",
    "    print('Sample looks Gaussian (fail to reject H0) \\n')\n",
    "else:\n",
    "    print('Sample does not look Gaussian (reject H0) \\n')"
   ]
  },
  {
   "cell_type": "markdown",
   "id": "random-movement",
   "metadata": {},
   "source": [
    "All three test results indicate that under certain thresholds of $n$ and test statistic `age` is normal but `dependents` is not. `Anderson` is the most stringent as none of the variables look Gaussian under its assumptions. However, both `D'Agostino's K Square` and `Jarque-Bera` conclude that `age`, `tx_ct_r12`, `mo_on_book` are normal enough, despite the pretty low p-values in the range of tens for `age`, `mo_on_book`. From these tests, one can conclude that `age` and `mo_on_book` may be normal enough. \n",
    "\n",
    "Based on this result, it might be beneficial to standardize `age` and `mo_on_book` but normalize all other variables in the feature transformation section before feature selection. Before we normalize, however, we should treat the outliers as most normalization methods are sensitive to outliers."
   ]
  },
  {
   "cell_type": "markdown",
   "id": "rubber-afternoon",
   "metadata": {},
   "source": [
    "<a id='6'>\n",
    "    <h2 style='background-color:rgb(141, 153, 165);\n",
    "               font-size:240%;\n",
    "               color:white;\n",
    "               text-align:center;\n",
    "               margin: auto;\n",
    "               padding: 10px;'>\n",
    "        Baseline Models\n",
    "    </h2>\n",
    "</a>"
   ]
  },
  {
   "cell_type": "markdown",
   "id": "equivalent-station",
   "metadata": {},
   "source": [
    "To identify and treat outliers, we start with two baseline models:"
   ]
  },
  {
   "cell_type": "markdown",
   "id": "norwegian-character",
   "metadata": {},
   "source": [
    "1. Logistic Regression\n",
    "2. XGBoost Classifier"
   ]
  },
  {
   "cell_type": "markdown",
   "id": "prerequisite-favorite",
   "metadata": {},
   "source": [
    "The assumption is that Logistic Regression will benefit from the removal of outliers much more than does XGBoost Classifier as the former makes a strong assumption of the data's functional form, and the decision boundary is sensitive to minimum and maximum values in the data."
   ]
  },
  {
   "cell_type": "markdown",
   "id": "liked-visiting",
   "metadata": {},
   "source": [
    "<a id='6.1'>\n",
    "    <h2 style='font-size:210%;'>\n",
    "        Train-Test Split\n",
    "    </h2>\n",
    "</a>"
   ]
  },
  {
   "cell_type": "code",
   "execution_count": 26,
   "id": "oriental-twins",
   "metadata": {},
   "outputs": [],
   "source": [
    "# split train and test\n",
    "d = d.values\n",
    "x, y = d[:,1:], d[:,:1].ravel()\n",
    "x_train, x_test, y_train, y_test = train_test_split(x, y, test_size=0.2, random_state=1, shuffle=True, stratify=y)"
   ]
  },
  {
   "cell_type": "code",
   "execution_count": 27,
   "id": "dirty-detail",
   "metadata": {},
   "outputs": [
    {
     "name": "stdout",
     "output_type": "stream",
     "text": [
      "Feature Dimension: (10127, 26)\t Label Dimension: : (10127,)\n"
     ]
    }
   ],
   "source": [
    "print(f'Feature Dimension: {x.shape}\\t Label Dimension: : {y.shape}')"
   ]
  },
  {
   "cell_type": "code",
   "execution_count": 28,
   "id": "arctic-immune",
   "metadata": {},
   "outputs": [
    {
     "name": "stdout",
     "output_type": "stream",
     "text": [
      "Percentage of Churn for the Full Data: 16.07%\n"
     ]
    }
   ],
   "source": [
    "print(f'Percentage of Churn for the Full Data: {round(y.sum()/len(y),4)*100}%')"
   ]
  },
  {
   "cell_type": "code",
   "execution_count": 29,
   "id": "unknown-peeing",
   "metadata": {},
   "outputs": [
    {
     "name": "stdout",
     "output_type": "stream",
     "text": [
      "Train Feature Dimension: (8101, 26)\t Train Label Dimension: : (8101,)\n",
      "Test Feature Dimension: (2026, 26)\t Test Label Dimension: : (2026,)\n"
     ]
    }
   ],
   "source": [
    "print(f'Train Feature Dimension: {x_train.shape}\\t Train Label Dimension: : {y_train.shape}')\n",
    "print(f'Test Feature Dimension: {x_test.shape}\\t Test Label Dimension: : {y_test.shape}')"
   ]
  },
  {
   "cell_type": "code",
   "execution_count": 30,
   "id": "macro-ceremony",
   "metadata": {},
   "outputs": [
    {
     "name": "stdout",
     "output_type": "stream",
     "text": [
      "Percentage of Churn for Train Set: 16.07%\n",
      "Percentage of Churn for Test Set: 16.04%\n"
     ]
    }
   ],
   "source": [
    "print(f\"\"\"Percentage of Churn for Train Set: {round(y_train.sum()/len(y_train),4)*100}%\n",
    "Percentage of Churn for Test Set: {round(y_test.sum()/len(y_test),4)*100}%\"\"\")"
   ]
  },
  {
   "cell_type": "markdown",
   "id": "civic-oasis",
   "metadata": {},
   "source": [
    "<a id='6.2'>\n",
    "    <h2 style='font-size:210%;'>\n",
    "        Logistic Regression\n",
    "    </h2>\n",
    "</a>"
   ]
  },
  {
   "cell_type": "markdown",
   "id": "ranging-stationery",
   "metadata": {},
   "source": [
    "First, we fit the logistic regression model. Although this model is more sensitive to multicollinearity, we will ignore this factor as this section's goal is to demonstrate the effect of removing outliers only. Multicolinearity will be taken care of in the feature selection section. Other factors that affect the model's performance such as model selection and hyperparameter tuning etc. will also be discussed in the later sections."
   ]
  },
  {
   "cell_type": "markdown",
   "id": "understood-chaos",
   "metadata": {},
   "source": [
    "<a id='6.2.1'>\n",
    "    <h2 style='font-size:180%;'>\n",
    "        Model Attributes\n",
    "    </h2>\n",
    "</a>"
   ]
  },
  {
   "cell_type": "code",
   "execution_count": 31,
   "id": "three-optics",
   "metadata": {},
   "outputs": [
    {
     "name": "stdout",
     "output_type": "stream",
     "text": [
      "Logistic Regression Parameters:\n"
     ]
    },
    {
     "data": {
      "text/plain": [
       "{'C': 1.0,\n",
       " 'class_weight': None,\n",
       " 'dual': False,\n",
       " 'fit_intercept': True,\n",
       " 'intercept_scaling': 1,\n",
       " 'l1_ratio': None,\n",
       " 'max_iter': 100,\n",
       " 'multi_class': 'auto',\n",
       " 'n_jobs': None,\n",
       " 'penalty': 'l2',\n",
       " 'random_state': None,\n",
       " 'solver': 'lbfgs',\n",
       " 'tol': 0.0001,\n",
       " 'verbose': 0,\n",
       " 'warm_start': False}"
      ]
     },
     "execution_count": 31,
     "metadata": {},
     "output_type": "execute_result"
    }
   ],
   "source": [
    "print(\"Logistic Regression Parameters:\")\n",
    "LogisticRegression().get_params()"
   ]
  },
  {
   "cell_type": "code",
   "execution_count": 32,
   "id": "uniform-conservation",
   "metadata": {},
   "outputs": [
    {
     "name": "stdout",
     "output_type": "stream",
     "text": [
      "Default Param Values:\n",
      "  `C`:\t\t1.0 \n",
      "  `solver`:\tlbfgs\n",
      "  `max_iter`:\t100\n",
      "     \n"
     ]
    }
   ],
   "source": [
    "LogisticRegression_params = LogisticRegression().get_params()\n",
    "print(f\"\"\"Default Param Values:\n",
    "  `C`:\\t\\t{LogisticRegression_params[\"C\"]} \n",
    "  `solver`:\\t{LogisticRegression_params[\"solver\"]}\n",
    "  `max_iter`:\\t{LogisticRegression_params[\"max_iter\"]}\n",
    "     \"\"\")"
   ]
  },
  {
   "cell_type": "markdown",
   "id": "prepared-fitting",
   "metadata": {},
   "source": [
    "<a id='6.2.2'>\n",
    "    <h2 style='font-size:180%;'>\n",
    "        Model Fit & Evaluation\n",
    "    </h2>\n",
    "</a>"
   ]
  },
  {
   "cell_type": "markdown",
   "id": "operating-pittsburgh",
   "metadata": {},
   "source": [
    "Notes on L1 and L2 regularization:\n",
    "> *Introducing a penalty to the sum of the weights means that the model has to \"distribute\" its weights optimally, so naturally most of this \"resource\" will go to the simple features that explain most of the variance, with complex features getting small or zero weights.*\n",
    "\n",
    "[Edden Gerber, *Comment on a Medium Article*](https://medium.com/@edden.gerber/thanks-for-the-article-1003ad7478b2)"
   ]
  },
  {
   "cell_type": "code",
   "execution_count": 33,
   "id": "knowing-artwork",
   "metadata": {},
   "outputs": [],
   "source": [
    "# %%timeit\n",
    "# logit = LogisticRegression(solver='saga', class_weight='balanced', C=0.1, max_iter=10000, random_state=1)\n",
    "# scaler = MinMaxScaler() # logit requires scaling to behave somewhat more decently\n",
    "# pipeline = Pipeline([('s', scaler),('m', logit)])\n",
    "# pipeline.fit(x_train, y_train)\n",
    "# yhat = pipeline.predict(x_test)"
   ]
  },
  {
   "cell_type": "code",
   "execution_count": 34,
   "id": "protective-newcastle",
   "metadata": {},
   "outputs": [],
   "source": [
    "# 75.1 ms ± 4.95 ms per loop (mean ± std. dev. of 7 runs, 10 loops each)"
   ]
  },
  {
   "cell_type": "code",
   "execution_count": 35,
   "id": "criminal-cattle",
   "metadata": {},
   "outputs": [],
   "source": [
    "# define the modeling pipeline\n",
    "logit = LogisticRegression(solver='saga', class_weight='balanced', C=0.1, max_iter=10000, random_state=1)\n",
    "scaler = MinMaxScaler() # logit requires scaling to behave somewhat more decently\n",
    "pipeline = Pipeline([('s', scaler),('m', logit)])\n",
    "\n",
    "# define the evaluation procedure\n",
    "cv = RepeatedStratifiedKFold(n_splits=10, n_repeats=3, random_state=1)\n",
    "\n",
    "# evaluate the model\n",
    "m_scores = cross_validate(\n",
    "    pipeline, x_train, y_train, \n",
    "    scoring=['accuracy','precision','recall','f1'], \n",
    "    cv=cv, n_jobs=-1)"
   ]
  },
  {
   "cell_type": "code",
   "execution_count": 36,
   "id": "metallic-kernel",
   "metadata": {},
   "outputs": [
    {
     "name": "stdout",
     "output_type": "stream",
     "text": [
      "Logistic Regression on Validation Set\n",
      "      Fit Time:\t  0.17 (0.02)\n",
      "      Score Time:  0.01 (0.01)\n",
      "      Accuracy:\t  84.68 (0.01)% \n",
      "      Precision:  51.54 (0.02)%  \n",
      "      Recall:\t  83.67 (0.04)%  \n",
      "      F1 Score:\t  63.73 (0.02)%\n"
     ]
    }
   ],
   "source": [
    "# summarize the results\n",
    "fit_time = round(mean(m_scores['fit_time']), 4)\n",
    "fit_time_sd = round(std(m_scores['fit_time']), 4)\n",
    "score_time = round(mean(m_scores['score_time']), 4)\n",
    "score_time_sd = round(std(m_scores['score_time']), 4)\n",
    "accuracy = round(mean(m_scores['test_accuracy']), 4)\n",
    "accuracy_sd = round(std(m_scores['test_accuracy']), 4)\n",
    "precision = round(mean(m_scores['test_precision']), 4)\n",
    "precision_sd = round(std(m_scores['test_precision']), 4)\n",
    "recall = round(mean(m_scores['test_recall']), 4)\n",
    "recall_sd = round(std(m_scores['test_recall']), 4)\n",
    "f1 = round(mean(m_scores['test_f1']), 4)\n",
    "f1_sd = round(std(m_scores['test_f1']), 4)\n",
    "\n",
    "print(\"\"\"Logistic Regression on Validation Set\n",
    "      Fit Time:\\t  %.2f (%.2f)\n",
    "      Score Time:  %.2f (%.2f)\n",
    "      Accuracy:\\t  %.2f (%.2f)%% \n",
    "      Precision:  %.2f (%.2f)%%  \n",
    "      Recall:\\t  %.2f (%.2f)%%  \n",
    "      F1 Score:\\t  %.2f (%.2f)%%\"\"\" \n",
    "      % (fit_time, fit_time_sd,\n",
    "         score_time, score_time_sd,\n",
    "         accuracy*100, accuracy_sd,\n",
    "         precision*100, precision_sd,\n",
    "         recall*100, recall_sd,\n",
    "         f1*100, f1_sd))"
   ]
  },
  {
   "cell_type": "code",
   "execution_count": 37,
   "id": "rural-rough",
   "metadata": {},
   "outputs": [],
   "source": [
    "# make predictions on test dataset\n",
    "pipeline.fit(x_train, y_train)\n",
    "yhat = pipeline.predict(x_test)"
   ]
  },
  {
   "cell_type": "code",
   "execution_count": 38,
   "id": "handled-kinase",
   "metadata": {},
   "outputs": [
    {
     "name": "stdout",
     "output_type": "stream",
     "text": [
      "Logistic Regression on Test Set\n",
      "      Accuracy:\t  84.11% \n",
      "      Precision:  50.27%  \n",
      "      Recall:\t  86.77%  \n",
      "      F1 Score:\t  63.66%\n",
      "      F2 Score:\t  75.77%\n"
     ]
    }
   ],
   "source": [
    "# evaluate predictions on test dataset\n",
    "accuracy = round(accuracy_score(y_test, yhat), 4)\n",
    "precision = round(precision_score(y_test, yhat), 4)\n",
    "recall = round(recall_score(y_test, yhat), 4)\n",
    "f_1 = round(f1_score(y_test, yhat), 4)\n",
    "f_2 = round(fbeta_score(y_test, yhat, beta=2), 4)\n",
    "print(\"\"\"Logistic Regression on Test Set\n",
    "      Accuracy:\\t  %.2f%% \n",
    "      Precision:  %.2f%%  \n",
    "      Recall:\\t  %.2f%%  \n",
    "      F1 Score:\\t  %.2f%%\n",
    "      F2 Score:\\t  %.2f%%\"\"\" \n",
    "      % (accuracy*100, precision*100, recall*100, \n",
    "         f_1*100, f_2*100))"
   ]
  },
  {
   "cell_type": "code",
   "execution_count": 39,
   "id": "difficult-sleep",
   "metadata": {},
   "outputs": [],
   "source": [
    "# save results to compare later\n",
    "baseline_logit = {\n",
    "    'accuracy' : round(accuracy*100,3),\n",
    "    'precision' : round(precision*100,3), \n",
    "    'recall' : round(recall*100,3), \n",
    "    'f1' : round(f_1*100,3), \n",
    "    'f2' : round(f_2*100,3)}"
   ]
  },
  {
   "cell_type": "code",
   "execution_count": 40,
   "id": "wanted-collector",
   "metadata": {},
   "outputs": [
    {
     "name": "stdout",
     "output_type": "stream",
     "text": [
      "Confusion Matrix\n",
      "[[1422  279]\n",
      " [  43  282]]\n"
     ]
    }
   ],
   "source": [
    "print('Confusion Matrix')\n",
    "print(confusion_matrix(y_test, yhat))"
   ]
  },
  {
   "cell_type": "code",
   "execution_count": 41,
   "id": "welcome-percentage",
   "metadata": {},
   "outputs": [
    {
     "name": "stdout",
     "output_type": "stream",
     "text": [
      "Classification Results\n",
      "              precision    recall  f1-score   support\n",
      "\n",
      "         0.0       0.97      0.84      0.90      1701\n",
      "         1.0       0.50      0.87      0.64       325\n",
      "\n",
      "    accuracy                           0.84      2026\n",
      "   macro avg       0.74      0.85      0.77      2026\n",
      "weighted avg       0.90      0.84      0.86      2026\n",
      "\n"
     ]
    }
   ],
   "source": [
    "print('Classification Results')\n",
    "print(classification_report(y_test, yhat))"
   ]
  },
  {
   "cell_type": "markdown",
   "id": "disabled-franklin",
   "metadata": {},
   "source": [
    "<a id='6.3'>\n",
    "    <h2 style='font-size:210%;'>\n",
    "        Gradient Boosting Classifier\n",
    "    </h2>\n",
    "</a>"
   ]
  },
  {
   "cell_type": "markdown",
   "id": "tutorial-olympus",
   "metadata": {},
   "source": [
    "For our emsemble baseline model we fit the XGBoost Classifier again without any feature selection or hyperparameter tuning. No normalization is necessary with this model since it is an ensemble of the tree methods. This means that removing outliers should not cause any material impact to the model's performance since the algorithm is not sensitive to monotonic transformations of its features."
   ]
  },
  {
   "cell_type": "markdown",
   "id": "posted-finland",
   "metadata": {},
   "source": [
    "<a id='6.3.1'>\n",
    "    <h2 style='font-size:180%;'>\n",
    "        Model Attributes\n",
    "    </h2>\n",
    "</a>"
   ]
  },
  {
   "cell_type": "code",
   "execution_count": 42,
   "id": "handed-house",
   "metadata": {},
   "outputs": [
    {
     "name": "stdout",
     "output_type": "stream",
     "text": [
      "Gradient Boosting Classifier Parameters:\n"
     ]
    },
    {
     "data": {
      "text/plain": [
       "{'ccp_alpha': 0.0,\n",
       " 'criterion': 'friedman_mse',\n",
       " 'init': None,\n",
       " 'learning_rate': 0.1,\n",
       " 'loss': 'deviance',\n",
       " 'max_depth': 3,\n",
       " 'max_features': None,\n",
       " 'max_leaf_nodes': None,\n",
       " 'min_impurity_decrease': 0.0,\n",
       " 'min_impurity_split': None,\n",
       " 'min_samples_leaf': 1,\n",
       " 'min_samples_split': 2,\n",
       " 'min_weight_fraction_leaf': 0.0,\n",
       " 'n_estimators': 100,\n",
       " 'n_iter_no_change': None,\n",
       " 'random_state': None,\n",
       " 'subsample': 1.0,\n",
       " 'tol': 0.0001,\n",
       " 'validation_fraction': 0.1,\n",
       " 'verbose': 0,\n",
       " 'warm_start': False}"
      ]
     },
     "execution_count": 42,
     "metadata": {},
     "output_type": "execute_result"
    }
   ],
   "source": [
    "print(\"Gradient Boosting Classifier Parameters:\")\n",
    "GradientBoostingClassifier().get_params()"
   ]
  },
  {
   "cell_type": "code",
   "execution_count": 43,
   "id": "physical-apple",
   "metadata": {},
   "outputs": [
    {
     "name": "stdout",
     "output_type": "stream",
     "text": [
      "Default Param Values:\n",
      "  `n_estimators`:\t100 \n",
      "  `max_depth`:\t\t3\n",
      "  `learning_rate`:\t0.1\n",
      "     \n"
     ]
    }
   ],
   "source": [
    "GradientBoostingClassifier_params = GradientBoostingClassifier().get_params()\n",
    "print(f\"\"\"Default Param Values:\n",
    "  `n_estimators`:\\t{GradientBoostingClassifier_params[\"n_estimators\"]} \n",
    "  `max_depth`:\\t\\t{GradientBoostingClassifier_params[\"max_depth\"]}\n",
    "  `learning_rate`:\\t{GradientBoostingClassifier_params[\"learning_rate\"]}\n",
    "     \"\"\")"
   ]
  },
  {
   "cell_type": "markdown",
   "id": "turkish-pricing",
   "metadata": {},
   "source": [
    "<a id='6.3.2'>\n",
    "    <h2 style='font-size:180%;'>\n",
    "        Model Fit & Evaluation\n",
    "    </h2>\n",
    "</a>"
   ]
  },
  {
   "cell_type": "code",
   "execution_count": 44,
   "id": "helpful-answer",
   "metadata": {},
   "outputs": [],
   "source": [
    "# %%timeit\n",
    "# gb = GradientBoostingClassifier(n_estimators=300, max_depth=3, learning_rate=0.1)\n",
    "# gb.fit(x_train, y_train)\n",
    "# yhat = gb.predict(x_test)"
   ]
  },
  {
   "cell_type": "code",
   "execution_count": 45,
   "id": "dated-hydrogen",
   "metadata": {},
   "outputs": [],
   "source": [
    "# 8.02 s ± 543 ms per loop (mean ± std. dev. of 7 runs, 1 loop each)"
   ]
  },
  {
   "cell_type": "code",
   "execution_count": 46,
   "id": "casual-allen",
   "metadata": {},
   "outputs": [],
   "source": [
    "# define the modeling pipeline\n",
    "gb = GradientBoostingClassifier(n_estimators=300, max_depth=3, learning_rate=0.1)\n",
    "\n",
    "# define the evaluation procedure\n",
    "cv = RepeatedStratifiedKFold(n_splits=10, n_repeats=3, random_state=1)\n",
    "\n",
    "# evaluate the model\n",
    "m_scores = cross_validate(\n",
    "    gb, x_train, y_train, \n",
    "    scoring=['accuracy','precision','recall','f1'], \n",
    "    cv=cv, n_jobs=-1)"
   ]
  },
  {
   "cell_type": "code",
   "execution_count": 47,
   "id": "dressed-qualification",
   "metadata": {},
   "outputs": [
    {
     "name": "stdout",
     "output_type": "stream",
     "text": [
      "Gradient Boosting Classifier on Validation Set\n",
      "      Fit Time:\t  21.87 (2.73)\n",
      "      Score Time:  0.03 (0.01)\n",
      "      Accuracy:\t  96.95 (0.01)% \n",
      "      Precision:  93.30 (0.02)%  \n",
      "      Recall:\t  87.33 (0.03)%  \n",
      "      F1 Score:\t  90.18 (0.02)%\n"
     ]
    }
   ],
   "source": [
    "# summarize the results\n",
    "fit_time = round(mean(m_scores['fit_time']), 4)\n",
    "fit_time_sd = round(std(m_scores['fit_time']), 4)\n",
    "score_time = round(mean(m_scores['score_time']), 4)\n",
    "score_time_sd = round(std(m_scores['score_time']), 4)\n",
    "accuracy = round(mean(m_scores['test_accuracy']), 4)\n",
    "accuracy_sd = round(std(m_scores['test_accuracy']), 4)\n",
    "precision = round(mean(m_scores['test_precision']), 4)\n",
    "precision_sd = round(std(m_scores['test_precision']), 4)\n",
    "recall = round(mean(m_scores['test_recall']), 4)\n",
    "recall_sd = round(std(m_scores['test_recall']), 4)\n",
    "f1 = round(mean(m_scores['test_f1']), 4)\n",
    "f1_sd = round(std(m_scores['test_f1']), 4)\n",
    "\n",
    "print(\"\"\"Gradient Boosting Classifier on Validation Set\n",
    "      Fit Time:\\t  %.2f (%.2f)\n",
    "      Score Time:  %.2f (%.2f)\n",
    "      Accuracy:\\t  %.2f (%.2f)%% \n",
    "      Precision:  %.2f (%.2f)%%  \n",
    "      Recall:\\t  %.2f (%.2f)%%  \n",
    "      F1 Score:\\t  %.2f (%.2f)%%\"\"\" \n",
    "      % (fit_time, fit_time_sd,\n",
    "         score_time, score_time_sd,\n",
    "         accuracy*100, accuracy_sd,\n",
    "         precision*100, precision_sd,\n",
    "         recall*100, recall_sd,\n",
    "         f1*100, f1_sd))"
   ]
  },
  {
   "cell_type": "code",
   "execution_count": 48,
   "id": "actual-korea",
   "metadata": {},
   "outputs": [],
   "source": [
    "# make predictions on test dataset\n",
    "gb.fit(x_train, y_train)\n",
    "yhat = gb.predict(x_test)"
   ]
  },
  {
   "cell_type": "code",
   "execution_count": 49,
   "id": "fallen-blanket",
   "metadata": {},
   "outputs": [
    {
     "name": "stdout",
     "output_type": "stream",
     "text": [
      "Gradient Boosting Classifier on Test Set\n",
      "      Accuracy:\t  98.08% \n",
      "      Precision:  94.41%  \n",
      "      Recall:\t  93.54%  \n",
      "      F1 Score:\t  93.97%\n",
      "      F2 Score:\t  93.71%\n"
     ]
    }
   ],
   "source": [
    "# evaluate predictions on test dataset\n",
    "accuracy = round(accuracy_score(y_test, yhat), 4)\n",
    "precision = round(precision_score(y_test, yhat), 4)\n",
    "recall = round(recall_score(y_test, yhat), 4)\n",
    "f_1 = round(f1_score(y_test, yhat), 4)\n",
    "f_2 = round(fbeta_score(y_test, yhat, beta=2), 4)\n",
    "print(\"\"\"Gradient Boosting Classifier on Test Set\n",
    "      Accuracy:\\t  %.2f%% \n",
    "      Precision:  %.2f%%  \n",
    "      Recall:\\t  %.2f%%  \n",
    "      F1 Score:\\t  %.2f%%\n",
    "      F2 Score:\\t  %.2f%%\"\"\" \n",
    "      % (accuracy*100, precision*100, recall*100, \n",
    "         f_1*100, f_2*100))"
   ]
  },
  {
   "cell_type": "code",
   "execution_count": 50,
   "id": "medical-avenue",
   "metadata": {},
   "outputs": [],
   "source": [
    "# save results to compare later\n",
    "baseline_gb = {\n",
    "    'accuracy' : round(accuracy*100,3),\n",
    "    'precision' : round(precision*100,3), \n",
    "    'recall' : round(recall*100,3), \n",
    "    'f1' : round(f_1*100,3), \n",
    "    'f2' : round(f_2*100,3)}"
   ]
  },
  {
   "cell_type": "code",
   "execution_count": 51,
   "id": "mediterranean-organic",
   "metadata": {},
   "outputs": [
    {
     "name": "stdout",
     "output_type": "stream",
     "text": [
      "Confusion Matrix\n",
      "[[1683   18]\n",
      " [  21  304]]\n"
     ]
    }
   ],
   "source": [
    "print('Confusion Matrix')\n",
    "print(confusion_matrix(y_test, yhat))"
   ]
  },
  {
   "cell_type": "code",
   "execution_count": 52,
   "id": "local-notice",
   "metadata": {},
   "outputs": [
    {
     "name": "stdout",
     "output_type": "stream",
     "text": [
      "Classification Results\n",
      "              precision    recall  f1-score   support\n",
      "\n",
      "         0.0       0.99      0.99      0.99      1701\n",
      "         1.0       0.94      0.94      0.94       325\n",
      "\n",
      "    accuracy                           0.98      2026\n",
      "   macro avg       0.97      0.96      0.96      2026\n",
      "weighted avg       0.98      0.98      0.98      2026\n",
      "\n"
     ]
    }
   ],
   "source": [
    "print('Classification Results')\n",
    "print(classification_report(y_test, yhat))"
   ]
  },
  {
   "cell_type": "markdown",
   "id": "reasonable-niagara",
   "metadata": {},
   "source": [
    "<a id='7'>\n",
    "    <h2 style='background-color:rgb(141, 153, 165);\n",
    "               font-size:240%;\n",
    "               color:white;\n",
    "               text-align:center;\n",
    "               margin: auto;\n",
    "               padding: 10px;'>\n",
    "        Outlier Treatment\n",
    "    </h2>\n",
    "</a>"
   ]
  },
  {
   "cell_type": "markdown",
   "id": "chinese-ceramic",
   "metadata": {},
   "source": [
    "In the Data Visualization section, we saw a large number of outliers in the box plots. Let's explore the effects of removing the outliers using Isolation Forest."
   ]
  },
  {
   "cell_type": "markdown",
   "id": "smooth-colony",
   "metadata": {},
   "source": [
    "<a id='7.1'>\n",
    "    <h2 style='font-size:210%;'>\n",
    "        Isolation Forest\n",
    "    </h2>\n",
    "</a>"
   ]
  },
  {
   "cell_type": "markdown",
   "id": "interracial-basin",
   "metadata": {},
   "source": [
    "Isolation Forest is a tree-based one-class classification method that isolates observations that are few in number and different in their attributes or feature space without the usage of any distance or density measure like One-Class SVM."
   ]
  },
  {
   "cell_type": "markdown",
   "id": "executive-excellence",
   "metadata": {},
   "source": [
    "Tree structures are designed to separate out anomalies. The algorithm has shallow roots for the isolated examples and deeper roots for the normal examples. The two important hyperparameters in the model are `n_estimators` and `contamination`. `n_estimators` sets the number of trees and `contamination` sets the percentage of outliers to detect."
   ]
  },
  {
   "cell_type": "markdown",
   "id": "subjective-reader",
   "metadata": {},
   "source": [
    "**Isolation Forest pros:**\n",
    "* There is no need of scaling the values in the feature space.\n",
    "* It is an effective method when value distributions can not be assumed.\n",
    "* It has few parameters, this makes this method fairly robust and easy to optimize.\n",
    "* Scikit-Learn’s implementation is easy to use and the documentation is superb.\n",
    "\n",
    "**Isolation Forest cons:**\n",
    "* The Python implementation exists only in the development version of Sklearn.\n",
    "* Visualizing results is complicated.\n",
    "* If not correctly optimized, training time can be very long and computationally expensive.\n",
    "\n",
    "[Source: Towards Data Science - A Brief Overview of Outlier Detection Techniques](https://towardsdatascience.com/a-brief-overview-of-outlier-detection-techniques-1e0b2c19e561)"
   ]
  },
  {
   "cell_type": "markdown",
   "id": "missing-manitoba",
   "metadata": {},
   "source": [
    "<a id='7.2'>\n",
    "    <h2 style='font-size:210%;'>\n",
    "        Fit on All Classes\n",
    "    </h2>\n",
    "</a>"
   ]
  },
  {
   "cell_type": "markdown",
   "id": "weird-upgrade",
   "metadata": {},
   "source": [
    "The goal here is to test on all training dataset without the outliers."
   ]
  },
  {
   "cell_type": "markdown",
   "id": "pediatric-legislation",
   "metadata": {},
   "source": [
    "<h2 style='font-size:180%;'>\n",
    "    Train-Test Split\n",
    "</h2>"
   ]
  },
  {
   "cell_type": "code",
   "execution_count": 53,
   "id": "suited-stanley",
   "metadata": {},
   "outputs": [],
   "source": [
    "# load dataset\n",
    "d = pd.read_csv('source/d_num.csv')\n",
    "d = d.values\n",
    "x, y = d[:,1:], d[:,:1].ravel()\n",
    "x_train, x_test, y_train, y_test = train_test_split(x, y, test_size=0.2, random_state=1, shuffle=True, stratify=y)"
   ]
  },
  {
   "cell_type": "markdown",
   "id": "threatened-denial",
   "metadata": {},
   "source": [
    "<h2 style='font-size:180%;'>\n",
    "    Model Attributes\n",
    "</h2>"
   ]
  },
  {
   "cell_type": "code",
   "execution_count": 54,
   "id": "former-diversity",
   "metadata": {
    "jupyter": {
     "source_hidden": true
    }
   },
   "outputs": [
    {
     "name": "stdout",
     "output_type": "stream",
     "text": [
      "Isolation Forest Parameters:\n"
     ]
    },
    {
     "data": {
      "text/plain": [
       "{'bootstrap': False,\n",
       " 'contamination': 'auto',\n",
       " 'max_features': 1.0,\n",
       " 'max_samples': 'auto',\n",
       " 'n_estimators': 100,\n",
       " 'n_jobs': None,\n",
       " 'random_state': None,\n",
       " 'verbose': 0,\n",
       " 'warm_start': False}"
      ]
     },
     "execution_count": 54,
     "metadata": {},
     "output_type": "execute_result"
    }
   ],
   "source": [
    "print(\"Isolation Forest Parameters:\")\n",
    "IsolationForest().get_params()"
   ]
  },
  {
   "cell_type": "code",
   "execution_count": 55,
   "id": "extreme-brisbane",
   "metadata": {
    "jupyter": {
     "source_hidden": true
    }
   },
   "outputs": [
    {
     "name": "stdout",
     "output_type": "stream",
     "text": [
      "`y` split:\n"
     ]
    },
    {
     "data": {
      "text/plain": [
       "Counter({0.0: 8500, 1.0: 1627})"
      ]
     },
     "execution_count": 55,
     "metadata": {},
     "output_type": "execute_result"
    }
   ],
   "source": [
    "count = Counter(y)\n",
    "print('`y` split:')\n",
    "count"
   ]
  },
  {
   "cell_type": "code",
   "execution_count": 56,
   "id": "sonic-ordering",
   "metadata": {
    "jupyter": {
     "source_hidden": true
    }
   },
   "outputs": [
    {
     "name": "stdout",
     "output_type": "stream",
     "text": [
      "`y_train` split - pre-treatment:\n"
     ]
    },
    {
     "data": {
      "text/plain": [
       "Counter({0.0: 6799, 1.0: 1302})"
      ]
     },
     "execution_count": 56,
     "metadata": {},
     "output_type": "execute_result"
    }
   ],
   "source": [
    "count = Counter(y_train)\n",
    "print('`y_train` split - pre-treatment:')\n",
    "count"
   ]
  },
  {
   "cell_type": "markdown",
   "id": "closing-version",
   "metadata": {},
   "source": [
    "I chose 5% for the sample size of outliers. In other words, we will keep 95% of the data."
   ]
  },
  {
   "cell_type": "code",
   "execution_count": 57,
   "id": "assumed-evanescence",
   "metadata": {},
   "outputs": [],
   "source": [
    "iso = IsolationForest(contamination=0.05)\n",
    "yhat = iso.fit_predict(x_train)"
   ]
  },
  {
   "cell_type": "code",
   "execution_count": 58,
   "id": "developing-suspect",
   "metadata": {},
   "outputs": [],
   "source": [
    "# removing outliers from the training set\n",
    "x_train, y_train = x_train[yhat!=-1,:], y_train[yhat!=-1]"
   ]
  },
  {
   "cell_type": "code",
   "execution_count": 59,
   "id": "growing-context",
   "metadata": {
    "jupyter": {
     "source_hidden": true
    }
   },
   "outputs": [
    {
     "name": "stdout",
     "output_type": "stream",
     "text": [
      "`y_train` split - post-treatment:\n"
     ]
    },
    {
     "data": {
      "text/plain": [
       "Counter({0.0: 6470, 1.0: 1226})"
      ]
     },
     "execution_count": 59,
     "metadata": {},
     "output_type": "execute_result"
    }
   ],
   "source": [
    "count = Counter(y_train)\n",
    "print('`y_train` split - post-treatment:')\n",
    "count"
   ]
  },
  {
   "cell_type": "code",
   "execution_count": 60,
   "id": "stunning-store",
   "metadata": {
    "jupyter": {
     "source_hidden": true
    }
   },
   "outputs": [
    {
     "name": "stdout",
     "output_type": "stream",
     "text": [
      "Percentage of churned customer in the new data: 15.93%\n"
     ]
    }
   ],
   "source": [
    "print('Percentage of churned customer in the new data: %.2f%%' % (count[1]/len(y_train)*100))"
   ]
  },
  {
   "cell_type": "code",
   "execution_count": 61,
   "id": "breathing-wheel",
   "metadata": {
    "jupyter": {
     "source_hidden": true
    }
   },
   "outputs": [
    {
     "name": "stdout",
     "output_type": "stream",
     "text": [
      "Shape of the new train set for `x_train` and `y_train`, respectively:\n",
      "(7696, 26) (7696,)\n"
     ]
    }
   ],
   "source": [
    "print('Shape of the new train set for `x_train` and `y_train`, respectively:')\n",
    "print(x_train.shape, y_train.shape)"
   ]
  },
  {
   "cell_type": "code",
   "execution_count": 62,
   "id": "fiscal-lawyer",
   "metadata": {
    "jupyter": {
     "source_hidden": true
    }
   },
   "outputs": [
    {
     "name": "stdout",
     "output_type": "stream",
     "text": [
      "Sample size of total data: 95.00%\n"
     ]
    }
   ],
   "source": [
    "print('Sample size of total data: %.2f%%' % (len(x_train)/8101*100))"
   ]
  },
  {
   "cell_type": "markdown",
   "id": "potential-essence",
   "metadata": {},
   "source": [
    "<a id='7.2.1'>\n",
    "    <h2 style='font-size:180%;'>\n",
    "        Logistic Regression\n",
    "    </h2>\n",
    "</a>"
   ]
  },
  {
   "cell_type": "code",
   "execution_count": 63,
   "id": "passive-electronics",
   "metadata": {},
   "outputs": [],
   "source": [
    "# make predictions on test dataset\n",
    "logit = LogisticRegression(solver='saga', class_weight='balanced', C=0.1, max_iter=10000, random_state=1)\n",
    "scaler = MinMaxScaler()\n",
    "pipeline = Pipeline([('s',scaler),('m',logit)])\n",
    "pipeline.fit(x_train, y_train)\n",
    "yhat = pipeline.predict(x_test)"
   ]
  },
  {
   "cell_type": "code",
   "execution_count": 64,
   "id": "interested-crack",
   "metadata": {
    "jupyter": {
     "source_hidden": true
    }
   },
   "outputs": [
    {
     "name": "stdout",
     "output_type": "stream",
     "text": [
      "Logistic Regression on Test Set\n",
      "      Accuracy:\t  84.95% \n",
      "      Precision:  51.85%  \n",
      "      Recall:\t  86.46%  \n",
      "      F1 Score:\t  64.82%\n",
      "      F2 Score:\t  76.28%\n"
     ]
    }
   ],
   "source": [
    "# evaluate predictions on test dataset\n",
    "accuracy = round(accuracy_score(y_test, yhat), 4)\n",
    "precision = round(precision_score(y_test, yhat), 4)\n",
    "recall = round(recall_score(y_test, yhat), 4)\n",
    "f_1 = round(f1_score(y_test, yhat), 4)\n",
    "f_2 = round(fbeta_score(y_test, yhat, beta=2), 4)\n",
    "print(\"\"\"Logistic Regression on Test Set\n",
    "      Accuracy:\\t  %.2f%% \n",
    "      Precision:  %.2f%%  \n",
    "      Recall:\\t  %.2f%%  \n",
    "      F1 Score:\\t  %.2f%%\n",
    "      F2 Score:\\t  %.2f%%\"\"\" \n",
    "      % (accuracy*100, precision*100, recall*100, \n",
    "         f_1*100, f_2*100))"
   ]
  },
  {
   "cell_type": "code",
   "execution_count": 65,
   "id": "crucial-stranger",
   "metadata": {
    "jupyter": {
     "source_hidden": true
    }
   },
   "outputs": [],
   "source": [
    "# save results to compare later\n",
    "iso_logit = {\n",
    "    'accuracy' : round(accuracy*100,3),\n",
    "    'precision' : round(precision*100,3), \n",
    "    'recall' : round(recall*100,3), \n",
    "    'f1' : round(f_1*100,3), \n",
    "    'f2' : round(f_2*100,3)}"
   ]
  },
  {
   "cell_type": "code",
   "execution_count": 66,
   "id": "usual-spray",
   "metadata": {
    "jupyter": {
     "source_hidden": true
    }
   },
   "outputs": [
    {
     "name": "stdout",
     "output_type": "stream",
     "text": [
      "Confusion Matrix\n",
      "[[1440  261]\n",
      " [  44  281]]\n"
     ]
    }
   ],
   "source": [
    "print('Confusion Matrix')\n",
    "print(confusion_matrix(y_test, yhat))"
   ]
  },
  {
   "cell_type": "code",
   "execution_count": 67,
   "id": "confidential-lawsuit",
   "metadata": {
    "jupyter": {
     "source_hidden": true
    }
   },
   "outputs": [
    {
     "name": "stdout",
     "output_type": "stream",
     "text": [
      "Classification Results\n",
      "              precision    recall  f1-score   support\n",
      "\n",
      "         0.0       0.97      0.85      0.90      1701\n",
      "         1.0       0.52      0.86      0.65       325\n",
      "\n",
      "    accuracy                           0.85      2026\n",
      "   macro avg       0.74      0.86      0.78      2026\n",
      "weighted avg       0.90      0.85      0.86      2026\n",
      "\n"
     ]
    }
   ],
   "source": [
    "print('Classification Results')\n",
    "print(classification_report(y_test, yhat))"
   ]
  },
  {
   "cell_type": "markdown",
   "id": "duplicate-pastor",
   "metadata": {},
   "source": [
    "<a id='7.2.2'>\n",
    "    <h2 style='font-size:180%;'>\n",
    "        Gradient Boosting Classifier\n",
    "    </h2>\n",
    "</a>"
   ]
  },
  {
   "cell_type": "code",
   "execution_count": 68,
   "id": "legal-blogger",
   "metadata": {},
   "outputs": [],
   "source": [
    "# make predictions on test dataset\n",
    "gb = GradientBoostingClassifier(n_estimators=300, max_depth=3, learning_rate=0.1)\n",
    "gb.fit(x_train, y_train)\n",
    "yhat = gb.predict(x_test)"
   ]
  },
  {
   "cell_type": "code",
   "execution_count": 69,
   "id": "opposed-gentleman",
   "metadata": {
    "jupyter": {
     "source_hidden": true
    }
   },
   "outputs": [
    {
     "name": "stdout",
     "output_type": "stream",
     "text": [
      "Gradient Boosting Classifier on Test Set\n",
      "      Accuracy:\t  98.17% \n",
      "      Precision:  95.28%  \n",
      "      Recall:\t  93.23%  \n",
      "      F1 Score:\t  94.25%\n",
      "      F2 Score:\t  93.63%\n"
     ]
    }
   ],
   "source": [
    "# evaluate predictions on test dataset\n",
    "accuracy = round(accuracy_score(y_test, yhat), 4)\n",
    "precision = round(precision_score(y_test, yhat), 4)\n",
    "recall = round(recall_score(y_test, yhat), 4)\n",
    "f_1 = round(f1_score(y_test, yhat), 4)\n",
    "f_2 = round(fbeta_score(y_test, yhat, beta=2), 4)\n",
    "print(\"\"\"Gradient Boosting Classifier on Test Set\n",
    "      Accuracy:\\t  %.2f%% \n",
    "      Precision:  %.2f%%  \n",
    "      Recall:\\t  %.2f%%  \n",
    "      F1 Score:\\t  %.2f%%\n",
    "      F2 Score:\\t  %.2f%%\"\"\" \n",
    "      % (accuracy*100, precision*100, recall*100, \n",
    "         f_1*100, f_2*100))"
   ]
  },
  {
   "cell_type": "code",
   "execution_count": 70,
   "id": "comparative-advocate",
   "metadata": {
    "jupyter": {
     "source_hidden": true
    }
   },
   "outputs": [],
   "source": [
    "# save results to compare later\n",
    "iso_gb = {\n",
    "    'accuracy' : round(accuracy*100,3),\n",
    "    'precision' : round(precision*100,3), \n",
    "    'recall' : round(recall*100,3), \n",
    "    'f1' : round(f_1*100,3), \n",
    "    'f2' : round(f_2*100,3)}"
   ]
  },
  {
   "cell_type": "code",
   "execution_count": 71,
   "id": "unexpected-boring",
   "metadata": {
    "jupyter": {
     "source_hidden": true
    }
   },
   "outputs": [
    {
     "name": "stdout",
     "output_type": "stream",
     "text": [
      "Confusion Matrix\n",
      "[[1686   15]\n",
      " [  22  303]]\n"
     ]
    }
   ],
   "source": [
    "print('Confusion Matrix')\n",
    "print(confusion_matrix(y_test, yhat))"
   ]
  },
  {
   "cell_type": "code",
   "execution_count": 72,
   "id": "thorough-nutrition",
   "metadata": {
    "jupyter": {
     "source_hidden": true
    }
   },
   "outputs": [
    {
     "name": "stdout",
     "output_type": "stream",
     "text": [
      "Classification Results\n",
      "              precision    recall  f1-score   support\n",
      "\n",
      "         0.0       0.99      0.99      0.99      1701\n",
      "         1.0       0.95      0.93      0.94       325\n",
      "\n",
      "    accuracy                           0.98      2026\n",
      "   macro avg       0.97      0.96      0.97      2026\n",
      "weighted avg       0.98      0.98      0.98      2026\n",
      "\n"
     ]
    }
   ],
   "source": [
    "print('Classification Results')\n",
    "print(classification_report(y_test, yhat))"
   ]
  },
  {
   "cell_type": "markdown",
   "id": "departmental-coordinate",
   "metadata": {},
   "source": [
    "<a id='7.3'>\n",
    "    <h2 style='font-size:210%;'>\n",
    "        Evaluate Results\n",
    "    </h2>\n",
    "</a>"
   ]
  },
  {
   "cell_type": "markdown",
   "id": "front-integration",
   "metadata": {},
   "source": [
    "Unfortunately, both models did slightly worse in the recall score as a result of removing outliers although precision and accuracy for both models show a slight improvement. We may want to revisit removing outliers after feature selection and/or resampling."
   ]
  },
  {
   "cell_type": "markdown",
   "id": "ready-brunswick",
   "metadata": {},
   "source": [
    "<a id='7.3.1'>\n",
    "    <h2 style='font-size:180%;'>\n",
    "        Logistic Regression\n",
    "    </h2>\n",
    "</a>"
   ]
  },
  {
   "cell_type": "code",
   "execution_count": 73,
   "id": "lesbian-injury",
   "metadata": {
    "jupyter": {
     "source_hidden": true
    }
   },
   "outputs": [
    {
     "name": "stdout",
     "output_type": "stream",
     "text": [
      "Baseline logit\n",
      "{'accuracy': 84.11, 'precision': 50.27, 'recall': 86.77, 'f1': 63.66, 'f2': 75.77}\n",
      "ISO logit\n",
      "{'accuracy': 84.95, 'precision': 51.85, 'recall': 86.46, 'f1': 64.82, 'f2': 76.28}\n"
     ]
    }
   ],
   "source": [
    "print('Baseline logit')\n",
    "print(baseline_logit)\n",
    "print('ISO logit')\n",
    "print(iso_logit)"
   ]
  },
  {
   "cell_type": "markdown",
   "id": "russian-bracelet",
   "metadata": {},
   "source": [
    "<a id='7.3.2'>\n",
    "    <h2 style='font-size:180%;'>\n",
    "        Gradient Boosting Classifier\n",
    "    </h2>\n",
    "</a>"
   ]
  },
  {
   "cell_type": "code",
   "execution_count": 74,
   "id": "pursuant-designer",
   "metadata": {
    "jupyter": {
     "source_hidden": true
    }
   },
   "outputs": [
    {
     "name": "stdout",
     "output_type": "stream",
     "text": [
      "Baseline gb\n",
      "{'accuracy': 98.08, 'precision': 94.41, 'recall': 93.54, 'f1': 93.97, 'f2': 93.71}\n",
      "ISO gb\n",
      "{'accuracy': 98.17, 'precision': 95.28, 'recall': 93.23, 'f1': 94.25, 'f2': 93.63}\n"
     ]
    }
   ],
   "source": [
    "print('Baseline gb')\n",
    "print(baseline_gb)\n",
    "print('ISO gb')\n",
    "print(iso_gb)"
   ]
  },
  {
   "cell_type": "code",
   "execution_count": 75,
   "id": "fifth-switch",
   "metadata": {},
   "outputs": [],
   "source": [
    "# 3%\n",
    "\n",
    "# Logistic Regression \n",
    "# Baseline logit\n",
    "# {'accuracy': 84.11, 'precision': 50.27, 'recall': 86.77, 'f1': 63.66, 'f2': 75.77}\n",
    "# ISO logit\n",
    "# {'accuracy': 84.25, 'precision': 50.53, 'recall': 87.38, 'f1': 64.04, 'f2': 76.26}\n",
    "\n",
    "# Gradient Boosting Classifier \n",
    "# Baseline gb\n",
    "# {'accuracy': 98.03, 'precision': 94.12, 'recall': 93.54, 'f1': 93.83, 'f2': 93.65}\n",
    "# ISO gb\n",
    "# {'accuracy': 98.27, 'precision': 95.31, 'recall': 93.85, 'f1': 94.57, 'f2': 94.14}"
   ]
  },
  {
   "cell_type": "code",
   "execution_count": 76,
   "id": "shaped-midwest",
   "metadata": {},
   "outputs": [],
   "source": [
    "# 5%\n",
    "\n",
    "# Logistic Regression \n",
    "# Baseline logit\n",
    "# {'accuracy': 84.11, 'precision': 50.27, 'recall': 86.77, 'f1': 63.66, 'f2': 75.77}\n",
    "# ISO logit\n",
    "# {'accuracy': 84.9, 'precision': 51.74, 'recall': 86.77, 'f1': 64.83, 'f2': 76.42}\n",
    "\n",
    "# Gradient Boosting Classifier \n",
    "# Baseline gb\n",
    "# {'accuracy': 98.03, 'precision': 94.12, 'recall': 93.54, 'f1': 93.83, 'f2': 93.65}\n",
    "# ISO gb\n",
    "# {'accuracy': 98.03, 'precision': 94.67, 'recall': 92.92, 'f1': 93.79, 'f2': 93.27}"
   ]
  },
  {
   "cell_type": "code",
   "execution_count": 77,
   "id": "engaging-skating",
   "metadata": {},
   "outputs": [],
   "source": [
    "# 10%\n",
    "\n",
    "# Logistic Regression \n",
    "# Baseline logit\n",
    "# {'accuracy': 84.11, 'precision': 50.27, 'recall': 86.77, 'f1': 63.66, 'f2': 75.77}\n",
    "# ISO logit\n",
    "# {'accuracy': 85.0, 'precision': 51.94, 'recall': 86.46, 'f1': 64.9, 'f2': 76.32}\n",
    "\n",
    "# Gradient Boosting Classifier \n",
    "# Baseline gb\n",
    "# {'accuracy': 98.03, 'precision': 94.12, 'recall': 93.54, 'f1': 93.83, 'f2': 93.65}\n",
    "# ISO gb\n",
    "# {'accuracy': 98.08, 'precision': 94.69, 'recall': 93.23, 'f1': 93.95, 'f2': 93.52}"
   ]
  }
 ],
 "metadata": {
  "kernelspec": {
   "display_name": "Python 3",
   "language": "python",
   "name": "python3"
  },
  "language_info": {
   "codemirror_mode": {
    "name": "ipython",
    "version": 3
   },
   "file_extension": ".py",
   "mimetype": "text/x-python",
   "name": "python",
   "nbconvert_exporter": "python",
   "pygments_lexer": "ipython3",
   "version": "3.8.5"
  }
 },
 "nbformat": 4,
 "nbformat_minor": 5
}
