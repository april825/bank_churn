{
 "cells": [
  {
   "cell_type": "markdown",
   "id": "noble-shelter",
   "metadata": {},
   "source": [
    "<h1 style=\"background-color:rgb(67, 77, 86);\n",
    "           font-size:300%;\n",
    "           font-style: oblique;\n",
    "           color:white;\n",
    "           text-align:center;\n",
    "           margin: auto;\n",
    "           padding: 20px;\">Predicting Bank Churners</h1>"
   ]
  },
  {
   "cell_type": "markdown",
   "id": "tamil-painting",
   "metadata": {},
   "source": [
    "<h2 style=\"background-color:rgb(141, 153, 165);\n",
    "           font-size:250%;\n",
    "           color:white;\n",
    "           text-align:center;\n",
    "           margin: auto;\n",
    "           padding: 10px;\">Chapter 1: Initial Data Preparation</h2>"
   ]
  },
  {
   "cell_type": "markdown",
   "id": "judicial-memorial",
   "metadata": {},
   "source": [
    "<a id='1.1'>\n",
    "    <h2 style='font-size:180%;'>\n",
    "        Mission</h2></a>"
   ]
  },
  {
   "cell_type": "markdown",
   "id": "cellular-croatia",
   "metadata": {},
   "source": [
    "<figure>\n",
    "    <blockquote cite='https://www.kaggle.com/sakshigoyal7/credit-card-customers/tasks?taskId=2729'>\n",
    "        <p style='font-size:110%;\n",
    "                  color:hsl(208, 12%, 30%);'><i>Our top priority in this business problem is to identify customers who are getting churned. Even if we predict non-churning customers as churned, it won't harm our business. But predicting churning customers as non-churning will do. So recall needs to be higher. Till now, I have managed to get a recall of 62%.</i></p>\n",
    "    </blockquote>\n",
    "    <figcaption>—Sakshi Goyal, <cite>Credit Card Customers, Kaggle</cite></figcaption>"
   ]
  },
  {
   "cell_type": "markdown",
   "id": "bored-serve",
   "metadata": {},
   "source": [
    "<h2 style='font-size:180%;'>\n",
    "    Table of Contents\n",
    "</h2>"
   ]
  },
  {
   "cell_type": "markdown",
   "id": "worse-above",
   "metadata": {},
   "source": [
    "* [Introduction](#1)\n",
    "    * [Libraries](#1.1)\n",
    "    * [Data Loading](#1.2)\n",
    "* [Initial Data Preparation](#2)\n",
    "    * [Treatment of `Unknown`'s](#2.1)\n",
    "    * [Data Types](#2.2)\n",
    "      * [Discrete Variable Classes](#2.2.1)\n",
    "      * [Continuous & Discrete Variables](#2.2.2)\n",
    "    * [Data Type Transformation](#2.3)\n",
    "      * [Non-Ordinal - Integer to Float](#2.3.1)\n",
    "      * [Non-Ordinal - String to Dummies](#2.3.2)\n",
    "      * [Ordinal - String to Ordinal](#2.3.3)\n",
    "      * [Feature Engineering Without Data Leakage](#2.3.4)\n",
    "    * [Cleaning, Inspection, Saving](#2.4)"
   ]
  },
  {
   "cell_type": "markdown",
   "id": "spatial-courage",
   "metadata": {},
   "source": [
    "<a id=\"1\"></a>\n",
    "<h2 style=\"background-color:rgb(141, 153, 165);\n",
    "           font-size:250%;\n",
    "           color:white;\n",
    "           text-align:center;\n",
    "           margin: auto;\n",
    "           padding: 10px;\">Introduction</h2>"
   ]
  },
  {
   "cell_type": "markdown",
   "id": "nutritional-methodology",
   "metadata": {},
   "source": [
    "<a id='1.1'>\n",
    "    <h2 style='font-size:210%;'>\n",
    "        Libraries</h2></a>"
   ]
  },
  {
   "cell_type": "code",
   "execution_count": 1,
   "id": "spread-european",
   "metadata": {},
   "outputs": [],
   "source": [
    "# general\n",
    "from scipy import stats \n",
    "import numpy as np\n",
    "import pandas as pd\n",
    "import random as rd\n",
    "import copy\n",
    "\n",
    "# settings\n",
    "pd.options.display.float_format = \"{:,.2f}\".format\n",
    "\n",
    "# saving\n",
    "import os"
   ]
  },
  {
   "cell_type": "markdown",
   "id": "horizontal-cradle",
   "metadata": {},
   "source": [
    "<a id='1.3'>\n",
    "    <h2 style='font-size:210%;'>\n",
    "        Data Loading</h2></a>"
   ]
  },
  {
   "cell_type": "code",
   "execution_count": 2,
   "id": "smooth-price",
   "metadata": {},
   "outputs": [],
   "source": [
    "# load data\n",
    "d = pd.read_csv('source/bankchurn.csv')\n",
    "d = d.iloc[:,:-2]  # deleting last two cols as instructed\n",
    "d = d.drop([\"CLIENTNUM\"],axis=1) # drop var not needed"
   ]
  },
  {
   "cell_type": "code",
   "execution_count": 3,
   "id": "stylish-watch",
   "metadata": {},
   "outputs": [],
   "source": [
    "# rename columns\n",
    "d.columns = ['churn', 'age', 'gender', 'dependents',\n",
    "             'educ_cat', 'marstat', 'inc_cat', 'card_cat',\n",
    "             'mo_on_book', 'prod_ct', 'mo_inactive_r12',\n",
    "             'contr_ct_r12', 'credlim_avg_r12', 'revbal_avg_r12',\n",
    "             'opentobuy_avg_r12', 'chng_tx_amt_q4_q1', 'tx_amt_r12',\n",
    "             'tx_ct_r12', 'chng_tx_ct_q4_q1', 'utilratio_avg']"
   ]
  },
  {
   "cell_type": "code",
   "execution_count": 4,
   "id": "extreme-newark",
   "metadata": {},
   "outputs": [],
   "source": [
    "# reorder columns\n",
    "d = d[['churn', 'age', 'gender', 'educ_cat', 'inc_cat', 'marstat', 'dependents',\n",
    "       'card_cat', 'prod_ct', 'mo_on_book', 'mo_inactive_r12', 'contr_ct_r12', \n",
    "       'revbal_avg_r12', 'credlim_avg_r12', 'opentobuy_avg_r12', 'utilratio_avg',\n",
    "       'tx_amt_r12', 'tx_ct_r12', 'chng_tx_amt_q4_q1', 'chng_tx_ct_q4_q1']]"
   ]
  },
  {
   "cell_type": "code",
   "execution_count": 5,
   "id": "israeli-cliff",
   "metadata": {},
   "outputs": [],
   "source": [
    "# reformat text to fix weird latex problem\n",
    "d['inc_cat'] = d['inc_cat'].replace({'$40K - $60K': '$40K-60K',\n",
    "                                     '$60K - $80K': '$60K-80K',\n",
    "                                     '$80K - $120K': '$80K-120K',\n",
    "                                     '$120K +':'$120K+'})"
   ]
  },
  {
   "cell_type": "code",
   "execution_count": 6,
   "id": "solid-amateur",
   "metadata": {},
   "outputs": [
    {
     "data": {
      "text/html": [
       "<div>\n",
       "<style scoped>\n",
       "    .dataframe tbody tr th:only-of-type {\n",
       "        vertical-align: middle;\n",
       "    }\n",
       "\n",
       "    .dataframe tbody tr th {\n",
       "        vertical-align: top;\n",
       "    }\n",
       "\n",
       "    .dataframe thead th {\n",
       "        text-align: right;\n",
       "    }\n",
       "</style>\n",
       "<table border=\"1\" class=\"dataframe\">\n",
       "  <thead>\n",
       "    <tr style=\"text-align: right;\">\n",
       "      <th></th>\n",
       "      <th>churn</th>\n",
       "      <th>age</th>\n",
       "      <th>gender</th>\n",
       "      <th>educ_cat</th>\n",
       "      <th>inc_cat</th>\n",
       "      <th>marstat</th>\n",
       "      <th>dependents</th>\n",
       "      <th>card_cat</th>\n",
       "      <th>prod_ct</th>\n",
       "      <th>mo_on_book</th>\n",
       "      <th>mo_inactive_r12</th>\n",
       "      <th>contr_ct_r12</th>\n",
       "      <th>revbal_avg_r12</th>\n",
       "      <th>credlim_avg_r12</th>\n",
       "      <th>opentobuy_avg_r12</th>\n",
       "      <th>utilratio_avg</th>\n",
       "      <th>tx_amt_r12</th>\n",
       "      <th>tx_ct_r12</th>\n",
       "      <th>chng_tx_amt_q4_q1</th>\n",
       "      <th>chng_tx_ct_q4_q1</th>\n",
       "    </tr>\n",
       "  </thead>\n",
       "  <tbody>\n",
       "    <tr>\n",
       "      <th>2652</th>\n",
       "      <td>Existing Customer</td>\n",
       "      <td>38</td>\n",
       "      <td>M</td>\n",
       "      <td>Post-Graduate</td>\n",
       "      <td>$60K-80K</td>\n",
       "      <td>Single</td>\n",
       "      <td>2</td>\n",
       "      <td>Silver</td>\n",
       "      <td>3</td>\n",
       "      <td>36</td>\n",
       "      <td>3</td>\n",
       "      <td>4</td>\n",
       "      <td>1954</td>\n",
       "      <td>34,516.00</td>\n",
       "      <td>32,562.00</td>\n",
       "      <td>0.06</td>\n",
       "      <td>1872</td>\n",
       "      <td>52</td>\n",
       "      <td>0.44</td>\n",
       "      <td>0.49</td>\n",
       "    </tr>\n",
       "    <tr>\n",
       "      <th>7979</th>\n",
       "      <td>Existing Customer</td>\n",
       "      <td>44</td>\n",
       "      <td>M</td>\n",
       "      <td>Graduate</td>\n",
       "      <td>$60K-80K</td>\n",
       "      <td>Single</td>\n",
       "      <td>4</td>\n",
       "      <td>Blue</td>\n",
       "      <td>2</td>\n",
       "      <td>28</td>\n",
       "      <td>2</td>\n",
       "      <td>1</td>\n",
       "      <td>461</td>\n",
       "      <td>2,758.00</td>\n",
       "      <td>2,297.00</td>\n",
       "      <td>0.17</td>\n",
       "      <td>4244</td>\n",
       "      <td>96</td>\n",
       "      <td>0.58</td>\n",
       "      <td>0.78</td>\n",
       "    </tr>\n",
       "    <tr>\n",
       "      <th>3954</th>\n",
       "      <td>Attrited Customer</td>\n",
       "      <td>58</td>\n",
       "      <td>M</td>\n",
       "      <td>Graduate</td>\n",
       "      <td>$120K+</td>\n",
       "      <td>Single</td>\n",
       "      <td>1</td>\n",
       "      <td>Blue</td>\n",
       "      <td>2</td>\n",
       "      <td>36</td>\n",
       "      <td>3</td>\n",
       "      <td>4</td>\n",
       "      <td>0</td>\n",
       "      <td>28,618.00</td>\n",
       "      <td>28,618.00</td>\n",
       "      <td>0.00</td>\n",
       "      <td>1712</td>\n",
       "      <td>41</td>\n",
       "      <td>0.69</td>\n",
       "      <td>0.41</td>\n",
       "    </tr>\n",
       "  </tbody>\n",
       "</table>\n",
       "</div>"
      ],
      "text/plain": [
       "                  churn  age gender       educ_cat   inc_cat marstat  \\\n",
       "2652  Existing Customer   38      M  Post-Graduate  $60K-80K  Single   \n",
       "7979  Existing Customer   44      M       Graduate  $60K-80K  Single   \n",
       "3954  Attrited Customer   58      M       Graduate    $120K+  Single   \n",
       "\n",
       "      dependents card_cat  prod_ct  mo_on_book  mo_inactive_r12  contr_ct_r12  \\\n",
       "2652           2   Silver        3          36                3             4   \n",
       "7979           4     Blue        2          28                2             1   \n",
       "3954           1     Blue        2          36                3             4   \n",
       "\n",
       "      revbal_avg_r12  credlim_avg_r12  opentobuy_avg_r12  utilratio_avg  \\\n",
       "2652            1954        34,516.00          32,562.00           0.06   \n",
       "7979             461         2,758.00           2,297.00           0.17   \n",
       "3954               0        28,618.00          28,618.00           0.00   \n",
       "\n",
       "      tx_amt_r12  tx_ct_r12  chng_tx_amt_q4_q1  chng_tx_ct_q4_q1  \n",
       "2652        1872         52               0.44              0.49  \n",
       "7979        4244         96               0.58              0.78  \n",
       "3954        1712         41               0.69              0.41  "
      ]
     },
     "execution_count": 6,
     "metadata": {},
     "output_type": "execute_result"
    }
   ],
   "source": [
    "rd.seed(1)\n",
    "d.sample(3)"
   ]
  },
  {
   "cell_type": "code",
   "execution_count": 7,
   "id": "ordered-botswana",
   "metadata": {},
   "outputs": [],
   "source": [
    "# save\n",
    "d.to_csv('source\\d_orig.csv',index=False)"
   ]
  },
  {
   "cell_type": "markdown",
   "id": "referenced-wales",
   "metadata": {},
   "source": [
    "<a id=\"2\"></a>\n",
    "<h2 style=\"background-color:rgb(141, 153, 165);\n",
    "           font-size:250%;\n",
    "           color:white;\n",
    "           text-align:center;\n",
    "           margin: auto;\n",
    "           padding: 10px;\">Initial Data Preparation</h2>"
   ]
  },
  {
   "cell_type": "markdown",
   "id": "velvet-characterization",
   "metadata": {},
   "source": [
    "We now conduct minimal data preprocessing that does not contribute to data leakage. Data leakage occurs when information from the test set leaks into the train set resulting in more optimistic performance metrics but less robust model against new data. To prevent data leakage, we will avoid using statistics such as mean and standard deviation etc. from the whole dataset to scale, impute, and feature engineer. Instead, we apply simple data type transformations and row-based feature engineering."
   ]
  },
  {
   "cell_type": "markdown",
   "id": "following-plenty",
   "metadata": {},
   "source": [
    "<a id='2.1'>\n",
    "    <h2 style='font-size:210%;'>\n",
    "        Treatment of <code>Unknown</code>'s</h2></a>"
   ]
  },
  {
   "cell_type": "markdown",
   "id": "sustained-physics",
   "metadata": {},
   "source": [
    "In this section, we examine the costs and benefits of dropping all the `nan`-equivalent classes `Unknown`'s identified in `educ_cat`, `inc_cat` and `marstat`. Below is the remaining sample if we were to drop all the `Unknown`'s in order to eliminate noise as much as possible."
   ]
  },
  {
   "cell_type": "code",
   "execution_count": 8,
   "id": "manufactured-inside",
   "metadata": {
    "jupyter": {
     "source_hidden": true
    }
   },
   "outputs": [],
   "source": [
    "def d_leftover(data, varlist):\n",
    "    dic_leftover = {}\n",
    "    for col in varlist:\n",
    "        orig_data_ct = len(data)\n",
    "        rem_data_ct = len(data.drop(data[col][data[col]=='Unknown'].index))\n",
    "        perc_captured = round(rem_data_ct/orig_data_ct*100,0)\n",
    "        dic_leftover[data[col].name] = [rem_data_ct, perc_captured]\n",
    "        print(f\"\"\"Remaining sample when dropping `{data[col].name}`: {rem_data_ct} cases or {perc_captured}% of the original data \\n\"\"\")\n",
    "    rem_data_ct_if_all = len(d[d!='Unknown'].dropna())\n",
    "    perc_captured_if_all = round(rem_data_ct_if_all/orig_data_ct*100,0)\n",
    "    print(f\"\"\"Remaining sample when dropping all `unknowns`: {rem_data_ct_if_all} cases or {perc_captured_if_all}% of the original data \\n\"\"\")"
   ]
  },
  {
   "cell_type": "code",
   "execution_count": 9,
   "id": "planned-airfare",
   "metadata": {
    "jupyter": {
     "source_hidden": true
    }
   },
   "outputs": [
    {
     "name": "stdout",
     "output_type": "stream",
     "text": [
      "Remaining sample when dropping `educ_cat`: 8608 cases or 85.0% of the original data \n",
      "\n",
      "Remaining sample when dropping `inc_cat`: 9015 cases or 89.0% of the original data \n",
      "\n",
      "Remaining sample when dropping `marstat`: 9378 cases or 93.0% of the original data \n",
      "\n",
      "Remaining sample when dropping all `unknowns`: 7081 cases or 70.0% of the original data \n",
      "\n"
     ]
    }
   ],
   "source": [
    "d_leftover(d, [\"educ_cat\",\"inc_cat\",\"marstat\"])"
   ]
  },
  {
   "cell_type": "markdown",
   "id": "japanese-northeast",
   "metadata": {},
   "source": [
    "The loss of sample is 30% if we drop all of the `Unknown`'s. For this reason, we will not drop any of these \"Unknown\" cases. The \"Unknown\" cases for `educ_cat` will be assigned the same value as the `Uneducated` class, a value of `0`. Assumption is that most people who did not provide their education level might have been disinclined to do so due to their lower education status. Same assumption applies to `inc_cat`. We will transform `marstat` to dummies as `marstat` will be treated as non-ordinal."
   ]
  },
  {
   "cell_type": "markdown",
   "id": "necessary-upset",
   "metadata": {},
   "source": [
    "<a id='2.2'>\n",
    "    <h2 style='font-size:210%;'>\n",
    "        Data Types</h2></a>"
   ]
  },
  {
   "cell_type": "code",
   "execution_count": 10,
   "id": "dietary-stadium",
   "metadata": {
    "jupyter": {
     "source_hidden": true
    }
   },
   "outputs": [
    {
     "data": {
      "text/plain": [
       "array([dtype('O'), dtype('int64'), dtype('float64')], dtype=object)"
      ]
     },
     "execution_count": 10,
     "metadata": {},
     "output_type": "execute_result"
    }
   ],
   "source": [
    "# types of data present in data\n",
    "d.dtypes.unique()"
   ]
  },
  {
   "cell_type": "code",
   "execution_count": 11,
   "id": "assured-burning",
   "metadata": {
    "jupyter": {
     "source_hidden": true
    }
   },
   "outputs": [
    {
     "data": {
      "text/plain": [
       "churn                 object\n",
       "age                    int64\n",
       "gender                object\n",
       "educ_cat              object\n",
       "inc_cat               object\n",
       "marstat               object\n",
       "dependents             int64\n",
       "card_cat              object\n",
       "prod_ct                int64\n",
       "mo_on_book             int64\n",
       "mo_inactive_r12        int64\n",
       "contr_ct_r12           int64\n",
       "revbal_avg_r12         int64\n",
       "credlim_avg_r12      float64\n",
       "opentobuy_avg_r12    float64\n",
       "utilratio_avg        float64\n",
       "tx_amt_r12             int64\n",
       "tx_ct_r12              int64\n",
       "chng_tx_amt_q4_q1    float64\n",
       "chng_tx_ct_q4_q1     float64\n",
       "dtype: object"
      ]
     },
     "execution_count": 11,
     "metadata": {},
     "output_type": "execute_result"
    }
   ],
   "source": [
    "# current data type for each column\n",
    "d.dtypes"
   ]
  },
  {
   "cell_type": "markdown",
   "id": "terminal-intervention",
   "metadata": {},
   "source": [
    "<a id='2.2.1'>\n",
    "    <h2 style='font-size:180%;'>\n",
    "        Discrete Variable Classes</h2></a>"
   ]
  },
  {
   "cell_type": "code",
   "execution_count": 12,
   "id": "abandoned-miniature",
   "metadata": {
    "jupyter": {
     "source_hidden": true
    }
   },
   "outputs": [
    {
     "name": "stdout",
     "output_type": "stream",
     "text": [
      "churn\n",
      "    Data Type: object\n",
      "    Unique Counts: 2\n",
      "    Unique Values: ['Attrited Customer' 'Existing Customer']\n",
      "\n",
      "age\n",
      "    Data Type: int64\n",
      "    Unique Counts: 45\n",
      "    Unique Values: [26 27 28 29 30 31 32 33 34 35 36 37 38 39 40 41 42 43 44 45 46 47 48 49\n",
      " 50 51 52 53 54 55 56 57 58 59 60 61 62 63 64 65 66 67 68 70 73]\n",
      "\n",
      "gender\n",
      "    Data Type: object\n",
      "    Unique Counts: 2\n",
      "    Unique Values: ['F' 'M']\n",
      "\n",
      "educ_cat\n",
      "    Data Type: object\n",
      "    Unique Counts: 7\n",
      "    Unique Values: ['College' 'Doctorate' 'Graduate' 'High School' 'Post-Graduate'\n",
      " 'Uneducated' 'Unknown']\n",
      "\n",
      "inc_cat\n",
      "    Data Type: object\n",
      "    Unique Counts: 6\n",
      "    Unique Values: ['$120K+' '$40K-60K' '$60K-80K' '$80K-120K' 'Less than $40K' 'Unknown']\n",
      "\n",
      "marstat\n",
      "    Data Type: object\n",
      "    Unique Counts: 4\n",
      "    Unique Values: ['Divorced' 'Married' 'Single' 'Unknown']\n",
      "\n",
      "dependents\n",
      "    Data Type: int64\n",
      "    Unique Counts: 6\n",
      "    Unique Values: [0 1 2 3 4 5]\n",
      "\n",
      "card_cat\n",
      "    Data Type: object\n",
      "    Unique Counts: 4\n",
      "    Unique Values: ['Blue' 'Gold' 'Platinum' 'Silver']\n",
      "\n",
      "prod_ct\n",
      "    Data Type: int64\n",
      "    Unique Counts: 6\n",
      "    Unique Values: [1 2 3 4 5 6]\n",
      "\n",
      "mo_on_book\n",
      "    Data Type: int64\n",
      "    Unique Counts: 44\n",
      "    Unique Values: [13 14 15 16 17 18 19 20 21 22 23 24 25 26 27 28 29 30 31 32 33 34 35 36\n",
      " 37 38 39 40 41 42 43 44 45 46 47 48 49 50 51 52 53 54 55 56]\n",
      "\n",
      "mo_inactive_r12\n",
      "    Data Type: int64\n",
      "    Unique Counts: 7\n",
      "    Unique Values: [0 1 2 3 4 5 6]\n",
      "\n",
      "contr_ct_r12\n",
      "    Data Type: int64\n",
      "    Unique Counts: 7\n",
      "    Unique Values: [0 1 2 3 4 5 6]\n",
      "\n",
      "revbal_avg_r12\n",
      "    Data Type: int64\n",
      "    Unique Counts: 1974\n",
      "    Unique Values: [   0  132  134 ... 2513 2514 2517]\n",
      "\n",
      "tx_amt_r12\n",
      "    Data Type: int64\n",
      "    Unique Counts: 5033\n",
      "    Unique Values: [  510   530   563 ... 17744 17995 18484]\n",
      "\n",
      "tx_ct_r12\n",
      "    Data Type: int64\n",
      "    Unique Counts: 126\n",
      "    Unique Values: [ 10  11  12  13  14  15  16  17  18  19  20  21  22  23  24  25  26  27\n",
      "  28  29  30  31  32  33  34  35  36  37  38  39  40  41  42  43  44  45\n",
      "  46  47  48  49  50  51  52  53  54  55  56  57  58  59  60  61  62  63\n",
      "  64  65  66  67  68  69  70  71  72  73  74  75  76  77  78  79  80  81\n",
      "  82  83  84  85  86  87  88  89  90  91  92  93  94  95  96  97  98  99\n",
      " 100 101 102 103 104 105 106 107 108 109 110 111 112 113 114 115 116 117\n",
      " 118 119 120 121 122 123 124 125 126 127 128 129 130 131 132 134 138 139]\n",
      "\n"
     ]
    }
   ],
   "source": [
    "d_discrete = d.select_dtypes(['int64','object'])\n",
    "for col in d_discrete:\n",
    "    print(f\"\"\"{d_discrete[col].name}\n",
    "    Data Type: {d_discrete[col].dtype}\n",
    "    Unique Counts: {d_discrete[col].nunique()}\n",
    "    Unique Values: {d_discrete[col].sort_values().unique()}\\n\"\"\")"
   ]
  },
  {
   "cell_type": "markdown",
   "id": "bright-tracy",
   "metadata": {},
   "source": [
    "<a id='2.2.2'>\n",
    "    <h2 style='font-size:180%;'>\n",
    "        Continuous & Discrete Variables</h2></a>"
   ]
  },
  {
   "cell_type": "code",
   "execution_count": 13,
   "id": "defensive-lease",
   "metadata": {
    "jupyter": {
     "source_hidden": true
    }
   },
   "outputs": [
    {
     "name": "stdout",
     "output_type": "stream",
     "text": [
      "Discrete Variables: ['churn', 'age', 'gender', 'educ_cat', 'inc_cat', 'marstat', 'dependents', 'card_cat', 'prod_ct', 'mo_on_book', 'mo_inactive_r12', 'contr_ct_r12', 'revbal_avg_r12', 'tx_amt_r12', 'tx_ct_r12']\n",
      "\n",
      "Continuous Variables: ['credlim_avg_r12', 'opentobuy_avg_r12', 'utilratio_avg', 'chng_tx_amt_q4_q1', 'chng_tx_ct_q4_q1']\n"
     ]
    }
   ],
   "source": [
    "# split continuous & discrete variables\n",
    "d_discrete = d.select_dtypes(['int64','object'])\n",
    "d_continuous = d.select_dtypes(['float64'])\n",
    "print(f\"\"\"Discrete Variables: {list(d_discrete)}\\n\\nContinuous Variables: {list(d_continuous)}\"\"\")"
   ]
  },
  {
   "cell_type": "markdown",
   "id": "friendly-recipe",
   "metadata": {},
   "source": [
    "<a id='2.3'>\n",
    "    <h2 style='font-size:210%;'>\n",
    "        Data Type Transformation</h2></a>"
   ]
  },
  {
   "cell_type": "markdown",
   "id": "round-baseball",
   "metadata": {},
   "source": [
    "<a id='2.3.1'>\n",
    "    <h2 style='font-size:180%;'>\n",
    "        Non-Ordinal - Integer to Float</h2></a>"
   ]
  },
  {
   "cell_type": "markdown",
   "id": "simplified-metro",
   "metadata": {},
   "source": [
    "* `revbal_avg_r12`\n",
    "* `tx_amt_r12`"
   ]
  },
  {
   "cell_type": "markdown",
   "id": "blond-banks",
   "metadata": {},
   "source": [
    "These variables are dollar amounts and are continuous up to tenths place. Therefore, we need to transform the data types to `float` from `int`."
   ]
  },
  {
   "cell_type": "code",
   "execution_count": 14,
   "id": "sorted-revolution",
   "metadata": {},
   "outputs": [],
   "source": [
    "d['revbal_avg_r12'] = d['revbal_avg_r12'].astype(float)\n",
    "d['tx_amt_r12'] = d['tx_amt_r12'].astype(float)"
   ]
  },
  {
   "cell_type": "markdown",
   "id": "binary-springer",
   "metadata": {},
   "source": [
    "<a id='2.3.2'>\n",
    "    <h2 style='font-size:180%;'>\n",
    "        Non-Ordinal - String to Dummies</h2></a>"
   ]
  },
  {
   "cell_type": "markdown",
   "id": "touched-quarterly",
   "metadata": {},
   "source": [
    "#### *Bi-Class*\n",
    "\n",
    "* `churn`\n",
    "* `gender`"
   ]
  },
  {
   "cell_type": "code",
   "execution_count": 15,
   "id": "essential-robin",
   "metadata": {},
   "outputs": [],
   "source": [
    "d['churn'] = d['churn'].map({'Existing Customer': 0, 'Attrited Customer': 1})\n",
    "d['gender'] = d['gender'].map({'M': 1, 'F': 0})"
   ]
  },
  {
   "cell_type": "markdown",
   "id": "directed-hungarian",
   "metadata": {},
   "source": [
    "#### *Multi-Class*\n",
    "\n",
    "* `marstat`\n",
    "* `card_cat`"
   ]
  },
  {
   "cell_type": "markdown",
   "id": "distant-creature",
   "metadata": {},
   "source": [
    "Even though `card_cat` can be regarded as ordinal, I decided to turn it into dummies as 93% of all customers have the Blue card out of the 4 possible card types."
   ]
  },
  {
   "cell_type": "code",
   "execution_count": 16,
   "id": "cloudy-wrestling",
   "metadata": {},
   "outputs": [
    {
     "name": "stdout",
     "output_type": "stream",
     "text": [
      "Percentage of Blue card holders: 0.932\n"
     ]
    }
   ],
   "source": [
    "print('Percentage of Blue card holders: %.3f' % (d.groupby('card_cat').card_cat.count()[0]/len(d)))"
   ]
  },
  {
   "cell_type": "code",
   "execution_count": 17,
   "id": "yellow-darkness",
   "metadata": {},
   "outputs": [],
   "source": [
    "d_dummies_marstat = pd.get_dummies(data=d['marstat'], prefix='marstat')\n",
    "d_dummies_card = pd.get_dummies(data=d['card_cat'], prefix='card')"
   ]
  },
  {
   "cell_type": "code",
   "execution_count": 18,
   "id": "listed-single",
   "metadata": {},
   "outputs": [
    {
     "data": {
      "text/html": [
       "<div>\n",
       "<style scoped>\n",
       "    .dataframe tbody tr th:only-of-type {\n",
       "        vertical-align: middle;\n",
       "    }\n",
       "\n",
       "    .dataframe tbody tr th {\n",
       "        vertical-align: top;\n",
       "    }\n",
       "\n",
       "    .dataframe thead th {\n",
       "        text-align: right;\n",
       "    }\n",
       "</style>\n",
       "<table border=\"1\" class=\"dataframe\">\n",
       "  <thead>\n",
       "    <tr style=\"text-align: right;\">\n",
       "      <th></th>\n",
       "      <th>churn</th>\n",
       "      <th>age</th>\n",
       "      <th>gender</th>\n",
       "      <th>educ_cat</th>\n",
       "      <th>inc_cat</th>\n",
       "      <th>marstat</th>\n",
       "      <th>dependents</th>\n",
       "      <th>card_cat</th>\n",
       "      <th>prod_ct</th>\n",
       "      <th>mo_on_book</th>\n",
       "      <th>...</th>\n",
       "      <th>chng_tx_amt_q4_q1</th>\n",
       "      <th>chng_tx_ct_q4_q1</th>\n",
       "      <th>marstat_Divorced</th>\n",
       "      <th>marstat_Married</th>\n",
       "      <th>marstat_Single</th>\n",
       "      <th>marstat_Unknown</th>\n",
       "      <th>card_Blue</th>\n",
       "      <th>card_Gold</th>\n",
       "      <th>card_Platinum</th>\n",
       "      <th>card_Silver</th>\n",
       "    </tr>\n",
       "  </thead>\n",
       "  <tbody>\n",
       "    <tr>\n",
       "      <th>7348</th>\n",
       "      <td>0</td>\n",
       "      <td>59</td>\n",
       "      <td>0</td>\n",
       "      <td>Unknown</td>\n",
       "      <td>$40K-60K</td>\n",
       "      <td>Single</td>\n",
       "      <td>0</td>\n",
       "      <td>Blue</td>\n",
       "      <td>6</td>\n",
       "      <td>42</td>\n",
       "      <td>...</td>\n",
       "      <td>0.89</td>\n",
       "      <td>0.62</td>\n",
       "      <td>0</td>\n",
       "      <td>0</td>\n",
       "      <td>1</td>\n",
       "      <td>0</td>\n",
       "      <td>1</td>\n",
       "      <td>0</td>\n",
       "      <td>0</td>\n",
       "      <td>0</td>\n",
       "    </tr>\n",
       "    <tr>\n",
       "      <th>8153</th>\n",
       "      <td>0</td>\n",
       "      <td>43</td>\n",
       "      <td>1</td>\n",
       "      <td>High School</td>\n",
       "      <td>$80K-120K</td>\n",
       "      <td>Single</td>\n",
       "      <td>0</td>\n",
       "      <td>Blue</td>\n",
       "      <td>2</td>\n",
       "      <td>36</td>\n",
       "      <td>...</td>\n",
       "      <td>0.63</td>\n",
       "      <td>0.98</td>\n",
       "      <td>0</td>\n",
       "      <td>0</td>\n",
       "      <td>1</td>\n",
       "      <td>0</td>\n",
       "      <td>1</td>\n",
       "      <td>0</td>\n",
       "      <td>0</td>\n",
       "      <td>0</td>\n",
       "    </tr>\n",
       "    <tr>\n",
       "      <th>7450</th>\n",
       "      <td>0</td>\n",
       "      <td>43</td>\n",
       "      <td>0</td>\n",
       "      <td>Graduate</td>\n",
       "      <td>$40K-60K</td>\n",
       "      <td>Single</td>\n",
       "      <td>3</td>\n",
       "      <td>Blue</td>\n",
       "      <td>4</td>\n",
       "      <td>33</td>\n",
       "      <td>...</td>\n",
       "      <td>0.69</td>\n",
       "      <td>0.81</td>\n",
       "      <td>0</td>\n",
       "      <td>0</td>\n",
       "      <td>1</td>\n",
       "      <td>0</td>\n",
       "      <td>1</td>\n",
       "      <td>0</td>\n",
       "      <td>0</td>\n",
       "      <td>0</td>\n",
       "    </tr>\n",
       "  </tbody>\n",
       "</table>\n",
       "<p>3 rows × 28 columns</p>\n",
       "</div>"
      ],
      "text/plain": [
       "      churn  age  gender     educ_cat    inc_cat marstat  dependents card_cat  \\\n",
       "7348      0   59       0      Unknown   $40K-60K  Single           0     Blue   \n",
       "8153      0   43       1  High School  $80K-120K  Single           0     Blue   \n",
       "7450      0   43       0     Graduate   $40K-60K  Single           3     Blue   \n",
       "\n",
       "      prod_ct  mo_on_book  ...  chng_tx_amt_q4_q1  chng_tx_ct_q4_q1  \\\n",
       "7348        6          42  ...               0.89              0.62   \n",
       "8153        2          36  ...               0.63              0.98   \n",
       "7450        4          33  ...               0.69              0.81   \n",
       "\n",
       "      marstat_Divorced  marstat_Married  marstat_Single  marstat_Unknown  \\\n",
       "7348                 0                0               1                0   \n",
       "8153                 0                0               1                0   \n",
       "7450                 0                0               1                0   \n",
       "\n",
       "      card_Blue  card_Gold  card_Platinum  card_Silver  \n",
       "7348          1          0              0            0  \n",
       "8153          1          0              0            0  \n",
       "7450          1          0              0            0  \n",
       "\n",
       "[3 rows x 28 columns]"
      ]
     },
     "execution_count": 18,
     "metadata": {},
     "output_type": "execute_result"
    }
   ],
   "source": [
    "d = pd.concat([d, d_dummies_marstat, d_dummies_card], axis=1)\n",
    "d.sample(3)"
   ]
  },
  {
   "cell_type": "markdown",
   "id": "unexpected-comfort",
   "metadata": {},
   "source": [
    "<a id='2.3.3'>\n",
    "    <h2 style='font-size:180%;'>\n",
    "        Ordinal - String to Ordinal</h2></a>"
   ]
  },
  {
   "cell_type": "markdown",
   "id": "acute-sacrifice",
   "metadata": {},
   "source": [
    "* `educ_cat`\n",
    "* `inc_cat`"
   ]
  },
  {
   "cell_type": "code",
   "execution_count": 19,
   "id": "involved-killing",
   "metadata": {},
   "outputs": [],
   "source": [
    "d['educ'] = d['educ_cat'].map({'Unknown':0,\n",
    "                               'Uneducated':0,\n",
    "                               'High School':1,\n",
    "                               'College':2,\n",
    "                               'Graduate':3,\n",
    "                               'Post-Graduate':4,\n",
    "                               'Doctorate':5})\n",
    "\n",
    "d['inc'] = d['inc_cat'].map({'Unknown':0,\n",
    "                             'Less than $40K':1,\n",
    "                             '$40K-60K':2,\n",
    "                             '$60K-80K':3,\n",
    "                             '$80K-120K':4,\n",
    "                             '$120K+':5})"
   ]
  },
  {
   "cell_type": "markdown",
   "id": "enormous-attribute",
   "metadata": {},
   "source": [
    "<a id='2.3.4'>\n",
    "    <h2 style='font-size:180%;'>\n",
    "        Feature Engineering Without Data Leakage</h2></a>"
   ]
  },
  {
   "cell_type": "code",
   "execution_count": 20,
   "id": "seven-rescue",
   "metadata": {},
   "outputs": [],
   "source": [
    "# add a variable just to explore\n",
    "d['tx_amt_pertx_r12'] = d['tx_amt_r12']/d['tx_ct_r12']"
   ]
  },
  {
   "cell_type": "markdown",
   "id": "major-election",
   "metadata": {},
   "source": [
    "<a id='2.4'>\n",
    "    <h2 style='font-size:210%;'>\n",
    "        Cleaning, Inspection, Saving</h2></a>"
   ]
  },
  {
   "cell_type": "code",
   "execution_count": 21,
   "id": "lovely-smoke",
   "metadata": {
    "jupyter": {
     "source_hidden": true
    }
   },
   "outputs": [],
   "source": [
    "# save full dataset\n",
    "d_full = copy.deepcopy(d)"
   ]
  },
  {
   "cell_type": "code",
   "execution_count": 22,
   "id": "early-india",
   "metadata": {
    "jupyter": {
     "source_hidden": true
    }
   },
   "outputs": [],
   "source": [
    "# drop unnecessary variables for the data to fit \n",
    "d = d.drop(d[['educ_cat', 'inc_cat', 'marstat', 'card_cat']], axis=1)"
   ]
  },
  {
   "cell_type": "code",
   "execution_count": 23,
   "id": "handled-daniel",
   "metadata": {
    "jupyter": {
     "source_hidden": true
    }
   },
   "outputs": [
    {
     "data": {
      "text/html": [
       "<div>\n",
       "<style scoped>\n",
       "    .dataframe tbody tr th:only-of-type {\n",
       "        vertical-align: middle;\n",
       "    }\n",
       "\n",
       "    .dataframe tbody tr th {\n",
       "        vertical-align: top;\n",
       "    }\n",
       "\n",
       "    .dataframe thead th {\n",
       "        text-align: right;\n",
       "    }\n",
       "</style>\n",
       "<table border=\"1\" class=\"dataframe\">\n",
       "  <thead>\n",
       "    <tr style=\"text-align: right;\">\n",
       "      <th></th>\n",
       "      <th>churn</th>\n",
       "      <th>age</th>\n",
       "      <th>gender</th>\n",
       "      <th>dependents</th>\n",
       "      <th>prod_ct</th>\n",
       "      <th>mo_on_book</th>\n",
       "      <th>mo_inactive_r12</th>\n",
       "      <th>contr_ct_r12</th>\n",
       "      <th>revbal_avg_r12</th>\n",
       "      <th>credlim_avg_r12</th>\n",
       "      <th>...</th>\n",
       "      <th>marstat_Married</th>\n",
       "      <th>marstat_Single</th>\n",
       "      <th>marstat_Unknown</th>\n",
       "      <th>card_Blue</th>\n",
       "      <th>card_Gold</th>\n",
       "      <th>card_Platinum</th>\n",
       "      <th>card_Silver</th>\n",
       "      <th>educ</th>\n",
       "      <th>inc</th>\n",
       "      <th>tx_amt_pertx_r12</th>\n",
       "    </tr>\n",
       "  </thead>\n",
       "  <tbody>\n",
       "    <tr>\n",
       "      <th>3900</th>\n",
       "      <td>0</td>\n",
       "      <td>53</td>\n",
       "      <td>1</td>\n",
       "      <td>1</td>\n",
       "      <td>4</td>\n",
       "      <td>47</td>\n",
       "      <td>2</td>\n",
       "      <td>2</td>\n",
       "      <td>1,257.00</td>\n",
       "      <td>20,783.00</td>\n",
       "      <td>...</td>\n",
       "      <td>0</td>\n",
       "      <td>0</td>\n",
       "      <td>1</td>\n",
       "      <td>1</td>\n",
       "      <td>0</td>\n",
       "      <td>0</td>\n",
       "      <td>0</td>\n",
       "      <td>0</td>\n",
       "      <td>5</td>\n",
       "      <td>50.25</td>\n",
       "    </tr>\n",
       "    <tr>\n",
       "      <th>5924</th>\n",
       "      <td>0</td>\n",
       "      <td>37</td>\n",
       "      <td>0</td>\n",
       "      <td>2</td>\n",
       "      <td>4</td>\n",
       "      <td>22</td>\n",
       "      <td>3</td>\n",
       "      <td>3</td>\n",
       "      <td>996.00</td>\n",
       "      <td>7,927.00</td>\n",
       "      <td>...</td>\n",
       "      <td>1</td>\n",
       "      <td>0</td>\n",
       "      <td>0</td>\n",
       "      <td>1</td>\n",
       "      <td>0</td>\n",
       "      <td>0</td>\n",
       "      <td>0</td>\n",
       "      <td>0</td>\n",
       "      <td>0</td>\n",
       "      <td>48.16</td>\n",
       "    </tr>\n",
       "    <tr>\n",
       "      <th>5733</th>\n",
       "      <td>0</td>\n",
       "      <td>60</td>\n",
       "      <td>1</td>\n",
       "      <td>1</td>\n",
       "      <td>6</td>\n",
       "      <td>54</td>\n",
       "      <td>3</td>\n",
       "      <td>3</td>\n",
       "      <td>1,408.00</td>\n",
       "      <td>1,848.00</td>\n",
       "      <td>...</td>\n",
       "      <td>0</td>\n",
       "      <td>1</td>\n",
       "      <td>0</td>\n",
       "      <td>1</td>\n",
       "      <td>0</td>\n",
       "      <td>0</td>\n",
       "      <td>0</td>\n",
       "      <td>3</td>\n",
       "      <td>2</td>\n",
       "      <td>63.43</td>\n",
       "    </tr>\n",
       "  </tbody>\n",
       "</table>\n",
       "<p>3 rows × 27 columns</p>\n",
       "</div>"
      ],
      "text/plain": [
       "      churn  age  gender  dependents  prod_ct  mo_on_book  mo_inactive_r12  \\\n",
       "3900      0   53       1           1        4          47                2   \n",
       "5924      0   37       0           2        4          22                3   \n",
       "5733      0   60       1           1        6          54                3   \n",
       "\n",
       "      contr_ct_r12  revbal_avg_r12  credlim_avg_r12  ...  marstat_Married  \\\n",
       "3900             2        1,257.00        20,783.00  ...                0   \n",
       "5924             3          996.00         7,927.00  ...                1   \n",
       "5733             3        1,408.00         1,848.00  ...                0   \n",
       "\n",
       "      marstat_Single  marstat_Unknown  card_Blue  card_Gold  card_Platinum  \\\n",
       "3900               0                1          1          0              0   \n",
       "5924               0                0          1          0              0   \n",
       "5733               1                0          1          0              0   \n",
       "\n",
       "      card_Silver  educ  inc  tx_amt_pertx_r12  \n",
       "3900            0     0    5             50.25  \n",
       "5924            0     0    0             48.16  \n",
       "5733            0     3    2             63.43  \n",
       "\n",
       "[3 rows x 27 columns]"
      ]
     },
     "execution_count": 23,
     "metadata": {},
     "output_type": "execute_result"
    }
   ],
   "source": [
    "# inspect new data\n",
    "rd.seed(1)\n",
    "d.sample(3)"
   ]
  },
  {
   "cell_type": "code",
   "execution_count": 24,
   "id": "outer-roommate",
   "metadata": {
    "jupyter": {
     "source_hidden": true
    }
   },
   "outputs": [
    {
     "data": {
      "text/plain": [
       "churn                  int64\n",
       "age                    int64\n",
       "gender                 int64\n",
       "dependents             int64\n",
       "prod_ct                int64\n",
       "mo_on_book             int64\n",
       "mo_inactive_r12        int64\n",
       "contr_ct_r12           int64\n",
       "revbal_avg_r12       float64\n",
       "credlim_avg_r12      float64\n",
       "opentobuy_avg_r12    float64\n",
       "utilratio_avg        float64\n",
       "tx_amt_r12           float64\n",
       "tx_ct_r12              int64\n",
       "chng_tx_amt_q4_q1    float64\n",
       "chng_tx_ct_q4_q1     float64\n",
       "marstat_Divorced       uint8\n",
       "marstat_Married        uint8\n",
       "marstat_Single         uint8\n",
       "marstat_Unknown        uint8\n",
       "card_Blue              uint8\n",
       "card_Gold              uint8\n",
       "card_Platinum          uint8\n",
       "card_Silver            uint8\n",
       "educ                   int64\n",
       "inc                    int64\n",
       "tx_amt_pertx_r12     float64\n",
       "dtype: object"
      ]
     },
     "execution_count": 24,
     "metadata": {},
     "output_type": "execute_result"
    }
   ],
   "source": [
    "# inspect new data types\n",
    "d.dtypes"
   ]
  },
  {
   "cell_type": "code",
   "execution_count": 25,
   "id": "saved-vision",
   "metadata": {
    "jupyter": {
     "source_hidden": true
    }
   },
   "outputs": [],
   "source": [
    "d.to_csv('source\\d_num.csv',index=False)"
   ]
  }
 ],
 "metadata": {
  "kernelspec": {
   "display_name": "Python 3",
   "language": "python",
   "name": "python3"
  },
  "language_info": {
   "codemirror_mode": {
    "name": "ipython",
    "version": 3
   },
   "file_extension": ".py",
   "mimetype": "text/x-python",
   "name": "python",
   "nbconvert_exporter": "python",
   "pygments_lexer": "ipython3",
   "version": "3.8.5"
  }
 },
 "nbformat": 4,
 "nbformat_minor": 5
}
